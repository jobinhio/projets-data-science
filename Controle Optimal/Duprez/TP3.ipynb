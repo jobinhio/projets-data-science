{
 "cells": [
  {
   "cell_type": "markdown",
   "metadata": {},
   "source": [
    "# Contrôle optimal TP 3\n",
    "\n",
    "Contrôle optimal de l'équation de la chaleur"
   ]
  },
  {
   "cell_type": "code",
   "execution_count": 6,
   "metadata": {},
   "outputs": [],
   "source": [
    "import numpy as np\n",
    "import matplotlib.pyplot as plt  \n"
   ]
  },
  {
   "cell_type": "markdown",
   "metadata": {},
   "source": [
    "## Introduction "
   ]
  },
  {
   "cell_type": "markdown",
   "metadata": {},
   "source": []
  },
  {
   "cell_type": "markdown",
   "metadata": {},
   "source": [
    "\n",
    "\n",
    "On considère une barre unidimensionnelle de longueur $L > 0$. La température de l'extrémité gauche de la barre ( $ x = 0 $ ) est maintenue à $0^{\\circ}\\mathrm{K}$, et on cherche à contrôler la température de la barre à l'extrémité droite ($x = L$) à l'aide d'un flux de chaleur $t \\mapsto u(t)$. On appelle $y_u(t, x)$ la température de cette barre au temps $t \\in [0, T]$ et en $x \\in [0, L]$.\n",
    "\n",
    "On suppose que $y_u$ résout l'équation de la chaleur\n",
    "$$\n",
    "\\begin{cases}\n",
    "    \\partial_t y_u(t, x) - \\partial_{xx} y_u(t, x)= 0, & (t, x) \\in ]0, T[ \\times ]0, L[ \\\\\n",
    "    y_u(0, x) = 0, & x \\in [0, L] \\\\\n",
    "    y_u(t, 0) = 0, & t \\in [0, T] \\quad (\\text{condition de Dirichlet homogène}) \\\\\n",
    "    \\partial_x y_u(t, L) = u(t), & t \\in [0, T] \\quad (\\text{condition de Neumann non-homogène})\n",
    "\\end{cases}\n",
    "$$\n",
    "\n",
    "et on s'intéresse au problème de contrôle optimal\n",
    "$$\n",
    "\\inf_{u \\in L^2(]0, T[)} J(u)\n",
    "$$\n",
    "où\n",
    "$\n",
    "J(u) = \\frac{1}{2} \\int_{0}^{T} (y_u(t, L) - z_d(t))^2 \\, dt + \\frac{\\varepsilon}{2} \\int_{0}^{T} u(t)^2 \\, dt \\quad (\\text{P})\n",
    "$\n",
    "où $\\varepsilon > 0$ est un paramètre fixé, et $z_d \\in L^2(]0, T[)$ est donnée.\n"
   ]
  },
  {
   "cell_type": "code",
   "execution_count": null,
   "metadata": {},
   "outputs": [],
   "source": []
  },
  {
   "cell_type": "markdown",
   "metadata": {},
   "source": [
    "## Question 1\n",
    "\n",
    "Montrer que $J$ est différentiable. En introduisant un problème adjoint bien choisi, calculer le gradient de $J$ en $u$."
   ]
  },
  {
   "cell_type": "code",
   "execution_count": null,
   "metadata": {},
   "outputs": [],
   "source": []
  },
  {
   "cell_type": "markdown",
   "metadata": {},
   "source": [
    "### Montrons la différentiabilité de $J$\n",
    "\n",
    "$\n",
    "J(u) = \\frac{1}{2} \\int_{0}^{T} (y_u(t, L) - z_d(t))^2 \\, dt + \\frac{\\varepsilon}{2} \\int_{0}^{T} u(t)^2 \\, dt \\quad (\\text{P})\n",
    "$\n",
    "où $\\varepsilon > 0$ est un paramètre fixé, et $z_d \\in L^2(]0, T[)$ \n",
    "\n",
    "\n",
    "Soit $(u, h) \\in U^2_{ad}$. Puisque $U_{ad}$ est convexe, alors $u + \\varepsilon h $ appartient à $U_{ad}$.\n",
    "\n",
    "\n",
    "Posons $z_h = \\frac{ y_{u + \\varepsilon h} - y_u}{\\varepsilon}$ , on $z_h$ solution de \n",
    "\n",
    "$$\n",
    "\\begin{cases}\n",
    "    \\partial_t z_{h}(t, x) - \\partial_{xx} z_{h}(t, x)= 0, & (t, x) \\in ]0, T[ \\times ]0, L[ \\\\\n",
    "    z_{h}(0, x) = 0, & x \\in [0, L] \\\\\n",
    "    z_{h}(t, 0) = 0, & t \\in [0, T] \\\\\n",
    "    \\partial_x z_{h}(t, L) =  h(t), & t \\in [0, T] \n",
    "\\end{cases}\n",
    "$$\n",
    "\n",
    "Si $ u \\mapsto y_u $ est différentiable alors sa différentielle est $z_h$. Pour montrer la différentiabilité, on doit prouver que :\n",
    "\n",
    "$$|| y_{u+h} - y_u - z_h ||_{L^2(]0, L[)} = o(||h||) $$\n",
    "\n",
    "\n",
    "\n",
    "\n",
    "\n",
    "Posons $S_h = y_{u+h} - y_u - z_h$ , on a :\n",
    "\n",
    "$$\n",
    "\\begin{cases}\n",
    "    \\partial_t S_{h}(t, x) - \\partial_{xx} S_{h}(t, x)= 0, & (t, x) \\in ]0, T[ \\times ]0, L[ \\\\\n",
    "    S_{h}(0, x) = 0, & x \\in [0, L] \\\\\n",
    "    S_{h}(t, 0) = 0, & t \\in [0, T] \\\\\n",
    "    \\partial_x S_{h}(t, L) = 0, & t \\in [0, T] \n",
    "\\end{cases}\n",
    "$$\n",
    "\n",
    "En multipliant par $S_h$ et en intégrant sur  $]0, T[$ on obtient :\n",
    "\n",
    "$$ \n",
    "\\int_{]0, T[} S_h \\partial_t S_{h} - S_h \\partial_{xx} S_{h} = 0\n",
    "$$\n",
    "\n",
    "Après une intégration par partie, on a :\n",
    "$$\n",
    "\\int_{]0, T[} S_h \\partial_t S_{h} - S_h \\partial_{xx} S_{h}=\n",
    "\\int_{]0, T[} S_h \\partial_t S_{h} + \\partial_{x}S_h \\partial_{x} S_{h} - (S_{h}(0, x) - )\n",
    "$$\n"
   ]
  },
  {
   "cell_type": "code",
   "execution_count": null,
   "metadata": {},
   "outputs": [],
   "source": []
  },
  {
   "cell_type": "markdown",
   "metadata": {},
   "source": [
    "\n",
    "\n",
    "Soit $(u, v) \\in U_{ad}^2$. Puisque $U_{ad}$ est convexe, $(1 - \\varepsilon)u + \\varepsilon v \\in U_{ad}$ si $\\varepsilon \\in [0, 1]$ et si $\\varepsilon > 0$ est assez petit. Par conséquent, il vient que $u + \\varepsilon(v - u)$ est admissible (appartient à $U_{ad}$).\n",
    "\n",
    "On définit $z_h = \\lim_{{\\varepsilon \\to 0}} \\frac{{y(u + \\varepsilon(v - u)) - y(u)}}{\\varepsilon}$. Il est clair que $z_h $ résout\n",
    "\n",
    "$$\n",
    "\\begin{cases}\n",
    "\\partial_t z_{h}(t, x) - \\partial_{xx} z_{h}(t, x)= 0, & (t, x) \\in ]0, T[ \\times ]0, L[ \\\\\n",
    "z_{h}(0, x) = 0, & x \\in [0, L] \\\\\n",
    "z_{h}(t, 0) = 0, & t \\in [0, T] \\\\\n",
    "\\partial_x z_{h}(t, L) =  h(t), & t \\in [0, T] \n",
    "\\end{cases}\n",
    "$$\n",
    "\n",
    "On en déduit que $z_h  = y(v) - y(u)$. Il reste à montrer que $z_h $ est la différentielle de $y$ en $u$ dans la direction $v - u$.\n",
    "\n",
    "On a vu que l'application affine $L^2(Q) \\to v \\mapsto y(v) \\in L^2(Q)$ est continue (donc différentiable, puisqu'elle est affine). Par conséquent, $L^2(Q) \\to v \\mapsto y(v) \\in L^2(Q)$ est différentiable de différentielle $z_h $.\n"
   ]
  },
  {
   "cell_type": "code",
   "execution_count": null,
   "metadata": {},
   "outputs": [],
   "source": []
  },
  {
   "cell_type": "code",
   "execution_count": null,
   "metadata": {},
   "outputs": [],
   "source": []
  },
  {
   "cell_type": "markdown",
   "metadata": {},
   "source": [
    "### Calculons le gradient de $J$"
   ]
  },
  {
   "cell_type": "code",
   "execution_count": null,
   "metadata": {},
   "outputs": [],
   "source": []
  },
  {
   "cell_type": "markdown",
   "metadata": {},
   "source": [
    "1)\n",
    "L'équation de $z_h$ est sous la forme $ Rz_h = 0$ avec $R = \\partial_t -\\Delta $ et on a $R^{*} = -\\partial_t -\\Delta $\n",
    "\n",
    "\n",
    "2)\n",
    "Soit $p$ solution de $ -\\partial_t p -\\Delta p = G$\n",
    "où $G$ est un second membre à préciser.\n",
    "\n",
    "3)\n",
    "On multiplie l’équation sur $z_h$ par $p$ et on intègre par partie\n",
    "\n",
    "$$\n",
    "\\int_{0}^{T} \\int_{0}^{L} (\\partial_t z_h- \\Delta z_h ) p \\,dx \\,dt = 0\n",
    "$$\n",
    "\n",
    "$$\n",
    "\\int_{0}^{L} [ z_{h}p]^{T}_{0} \\int_{0}^{L} (\\partial_t z_h- \\Delta z_h ) p \\,dx \\,dt = 0\n",
    "$$"
   ]
  },
  {
   "cell_type": "code",
   "execution_count": null,
   "metadata": {},
   "outputs": [],
   "source": []
  },
  {
   "cell_type": "markdown",
   "metadata": {},
   "source": [
    "## Question 2\n",
    "\n",
    "Décrire et mettre en œuvre une méthode numérique de résolution de l'équation de la chaleur par une méthode de type différences finies centrées en espace et décentrées en amont en temps. Vérifier sur des exemples simples que cette méthode fonctionne."
   ]
  },
  {
   "cell_type": "code",
   "execution_count": null,
   "metadata": {},
   "outputs": [],
   "source": []
  },
  {
   "cell_type": "markdown",
   "metadata": {},
   "source": [
    "## Question 3\n",
    "\n",
    "Appelons $p$ l'état adjoint introduit pour calculer le gradient de $J$. On appelle $q$ la fonction définie sur $[0, T] \\times [0, L]$ par $q(t, x) = p(T - t, x)$. Quelle est l'équation satisfaite par $q$? En déduire une méthode numérique permettant de calculer le gradient de $J$ en $u$."
   ]
  },
  {
   "cell_type": "code",
   "execution_count": null,
   "metadata": {},
   "outputs": [],
   "source": []
  },
  {
   "cell_type": "markdown",
   "metadata": {},
   "source": [
    "## Question 4\n",
    "\n",
    "Écrire un algorithme pour résoudre numériquement le problème (P)."
   ]
  },
  {
   "cell_type": "code",
   "execution_count": null,
   "metadata": {},
   "outputs": [],
   "source": []
  },
  {
   "cell_type": "markdown",
   "metadata": {},
   "source": [
    "## Question 5\n",
    "\n",
    "Tester cet algorithme pour diverses valeurs de $\\varepsilon$, $T$, et $z_d$. Commenter et illustrer les résultats (on discutera en particulier l'influence des paramètres du problème sur sa résolution)."
   ]
  },
  {
   "cell_type": "code",
   "execution_count": null,
   "metadata": {},
   "outputs": [],
   "source": []
  },
  {
   "cell_type": "code",
   "execution_count": 8,
   "metadata": {},
   "outputs": [],
   "source": [
    "import numpy as np\n",
    "from scipy.linalg import solve\n",
    "\n",
    "def direct_scheme(Nx, Nt, L, T, u, zd):\n",
    "    dx = L / Nx\n",
    "    dt = T / Nt\n",
    "    x_values = np.linspace(0, L, Nx + 1)\n",
    "    t_values = np.linspace(0, T, Nt + 1)\n",
    "\n",
    "    # Construction de la matrice A\n",
    "    A = np.diag(2 * np.ones(Nx - 1)) - np.diag(np.ones(Nx - 2), k=-1) - np.diag(np.ones(Nx - 2), k=1)\n",
    "    A *= 1 / (dx ** 2)\n",
    "\n",
    "    # Initialisation de la solution\n",
    "    Y = np.zeros((Nt + 1, Nx - 1))\n",
    "\n",
    "    # Conditions initiales\n",
    "    Y[0, :] = np.zeros(Nx - 1)\n",
    "\n",
    "    # Construction de la matrice b\n",
    "    for k in range(1, Nt + 1):\n",
    "        b = np.zeros(Nx - 1)\n",
    "        b[0] = u(t_values[k]) * dt / dx  # Condition de Dirichlet\n",
    "        b[-1] = zd(t_values[k]) * dt / dx  # Condition de Neumann\n",
    "\n",
    "        # Résolution du système linéaire\n",
    "        Y[k, :] = solve(np.eye(Nx - 1) + dt / (dx ** 2) * A, dt / dx * b + Y[k - 1, :])\n",
    "\n",
    "    return x_values, t_values, Y\n",
    "\n",
    "def adjoint_scheme(Nx, Nt, L, T, u, zd):\n",
    "    dx = L / Nx\n",
    "    dt = T / Nt\n",
    "    x_values = np.linspace(0, L, Nx + 1)\n",
    "    t_values = np.linspace(0, T, Nt + 1)\n",
    "\n",
    "    # Construction de la matrice A\n",
    "    A = np.diag(2 * np.ones(Nx - 1)) - np.diag(np.ones(Nx - 2), k=-1) - np.diag(np.ones(Nx - 2), k=1)\n",
    "    A *= 1 / (dx ** 2)\n",
    "\n",
    "    # Initialisation de la solution\n",
    "    P = np.zeros((Nt + 1, Nx - 1))\n",
    "\n",
    "    # Conditions finales\n",
    "    P[-1, :] = np.zeros(Nx - 1)\n",
    "\n",
    "    # Construction de la matrice c\n",
    "    for n in range(Nt, 0, -1):\n",
    "        c = np.zeros(Nx - 1)\n",
    "        c[-1] = -zd(t_values[n]) * dt / dx  # Condition de Neumann\n",
    "\n",
    "        # Résolution du système linéaire\n",
    "        P[n - 1, :] = solve(np.eye(Nx - 1) + dt / (dx ** 2) * A, dt / dx * c + P[n, :])\n",
    "\n",
    "    return x_values, t_values, P\n",
    "\n",
    "# Exemple d'utilisation\n",
    "Nx = 100\n",
    "Nt = 200\n",
    "L = 1.0\n",
    "T = 0.1\n",
    "\n",
    "def u(t):\n",
    "    return np.sin(np.pi * t)\n",
    "\n",
    "def zd(t):\n",
    "    return np.cos(np.pi * t)\n",
    "\n",
    "x_values_direct, t_values_direct, Y_direct = direct_scheme(Nx, Nt, L, T, u, zd)\n",
    "x_values_adjoint, t_values_adjoint, P_adjoint = adjoint_scheme(Nx, Nt, L, T, u, zd)\n"
   ]
  },
  {
   "cell_type": "code",
   "execution_count": null,
   "metadata": {},
   "outputs": [],
   "source": []
  }
 ],
 "metadata": {
  "kernelspec": {
   "display_name": "Python 3",
   "language": "python",
   "name": "python3"
  },
  "language_info": {
   "codemirror_mode": {
    "name": "ipython",
    "version": 3
   },
   "file_extension": ".py",
   "mimetype": "text/x-python",
   "name": "python",
   "nbconvert_exporter": "python",
   "pygments_lexer": "ipython3",
   "version": "3.10.12"
  }
 },
 "nbformat": 4,
 "nbformat_minor": 2
}
