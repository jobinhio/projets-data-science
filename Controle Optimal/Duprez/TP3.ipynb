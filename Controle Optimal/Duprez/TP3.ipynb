{
 "cells": [
  {
   "cell_type": "markdown",
   "metadata": {},
   "source": [
    "# Contrôle optimal TP 3\n",
    "\n",
    "Contrôle optimal de l'équation de la chaleur"
   ]
  },
  {
   "cell_type": "code",
   "execution_count": 35,
   "metadata": {},
   "outputs": [],
   "source": [
    "import numpy as np\n",
    "import matplotlib.pyplot as plt  \n"
   ]
  },
  {
   "cell_type": "markdown",
   "metadata": {},
   "source": [
    "## Introduction "
   ]
  },
  {
   "cell_type": "markdown",
   "metadata": {},
   "source": [
    "\n",
    "\n",
    "On considère une barre unidimensionnelle de longueur $L > 0$. La température de l'extrémité gauche de la barre ( $ x = 0 $ ) est maintenue à $0^{\\circ}\\mathrm{K}$, et on cherche à contrôler la température de la barre à l'extrémité droite ($x = L$) à l'aide d'un flux de chaleur $t \\mapsto u(t)$. On appelle $y_u(t, x)$ la température de cette barre au temps $t \\in [0, T]$ et en $x \\in [0, L]$.\n",
    "\n",
    "On suppose que $y_u$ résout l'équation de la chaleur\n",
    "$$\n",
    "\\begin{cases}\n",
    "    \\partial_t y_u(t, x) - \\partial_{xx} y_u(t, x)= 0, & (t, x) \\in ]0, T[ \\times ]0, L[ \\\\\n",
    "    y_u(0, x) = 0, & x \\in [0, L] \\\\\n",
    "    y_u(t, 0) = 0, & t \\in [0, T] \\quad (\\text{condition de Dirichlet homogène}) \\\\\n",
    "    \\partial_x y_u(t, L) = u(t), & t \\in [0, T] \\quad (\\text{condition de Neumann non-homogène})\n",
    "\\end{cases}\n",
    "$$\n",
    "\n",
    "et on s'intéresse au problème de contrôle optimal\n",
    "$$\n",
    "\\inf_{u \\in L^2(]0, T[)} J(u)\n",
    "$$\n",
    "où\n",
    "$\n",
    "J(u) = \\frac{1}{2} \\int_{0}^{T} (y_u(t, L) - z_d(t))^2 \\, dt + \\frac{\\varepsilon}{2} \\int_{0}^{T} u(t)^2 \\, dt \\quad (\\text{P})\n",
    "$\n",
    "où $\\varepsilon > 0$ est un paramètre fixé, et $z_d \\in L^2(]0, T[)$ est donnée.\n"
   ]
  },
  {
   "cell_type": "markdown",
   "metadata": {},
   "source": [
    "## Question 1\n",
    "\n",
    "Montrer que $J$ est différentiable. En introduisant un problème adjoint bien choisi, calculer le gradient de $J$ en $u$."
   ]
  },
  {
   "cell_type": "code",
   "execution_count": null,
   "metadata": {},
   "outputs": [],
   "source": []
  },
  {
   "cell_type": "markdown",
   "metadata": {},
   "source": [
    "### Montrons la différentiabilité de $J$"
   ]
  },
  {
   "cell_type": "markdown",
   "metadata": {},
   "source": [
    "\n",
    "\n",
    "$\n",
    "J(u) = \\frac{1}{2} \\int_{0}^{T} (y_u(t, L) - z_d(t))^2 \\, dt + \\frac{\\varepsilon}{2} \\int_{0}^{T} u(t)^2 \\, dt \\quad (\\text{P})\n",
    "$\n",
    "où $\\varepsilon > 0$ est un paramètre fixé, et $z_d \\in L^2(]0, T[)$ \n",
    "\n",
    "\n",
    "Soit $(u, h) \\in U^2_{ad}$. Puisque $U_{ad}$ est convexe, alors $u + \\varepsilon h $ appartient à $U_{ad}$.\n",
    "\n",
    "\n",
    "Posons $z_h = \\frac{ y_{u + \\varepsilon h} - y_u}{\\varepsilon}$ , on $z_h$ solution de \n",
    "\n",
    "$$\n",
    "\\begin{cases}\n",
    "    \\partial_t z_{h}(t, x) - \\partial_{xx} z_{h}(t, x)= 0, & (t, x) \\in ]0, T[ \\times ]0, L[ \\\\\n",
    "    z_{h}(0, x) = 0, & x \\in [0, L] \\\\\n",
    "    z_{h}(t, 0) = 0, & t \\in [0, T] \\\\\n",
    "    \\partial_x z_{h}(t, L) =  h(t), & t \\in [0, T] \n",
    "\\end{cases}\n",
    "$$\n",
    "\n",
    "Si $ u \\mapsto y_u $ est différentiable alors sa différentielle est $z_h$. Pour montrer la différentiabilité, on doit prouver que :\n",
    "\n",
    "$$|| y_{u+h} - y_u - z_h ||_{L^2(]0, T[)} = o(||h||) $$\n",
    "\n",
    "\n",
    "\n",
    "\n",
    "\n",
    "Posons $S_h = y_{u+h} - y_u - z_h$ , on a :\n",
    "\n",
    "$$\n",
    "\\begin{cases}\n",
    "    \\partial_t S_{h}(t, x) - \\partial_{xx} S_{h}(t, x)= 0, & (t, x) \\in ]0, T[ \\times ]0, L[ \\\\\n",
    "    S_{h}(0, x) = 0, & x \\in [0, L] \\\\\n",
    "    S_{h}(t, 0) = 0, & t \\in [0, T] \\\\\n",
    "    \\partial_x S_{h}(t, L) = 0, & t \\in [0, T] \n",
    "\\end{cases}\n",
    "$$\n",
    "\n",
    "Par unicité de la solution de l'EDP, on a :\n",
    "$$S_{h} = 0 = o(||h||)$$\n",
    "Il reste à montrer que $ h \\mapsto z_h$ est continue où \n",
    "$$\n",
    "\\begin{cases}\n",
    "    \\partial_t z_{h}(t, x) - \\partial_{xx} z_{h}(t, x)= 0, & (t, x) \\in ]0, T[ \\times ]0, L[ \\\\\n",
    "    z_{h}(0, x) = 0, & x \\in [0, L] \\\\\n",
    "    z_{h}(t, 0) = 0, & t \\in [0, T] \\\\\n",
    "    \\partial_x z_{h}(t, L) = h(t), & t \\in [0, T] \n",
    "\\end{cases}\n",
    "$$\n",
    "\n",
    "On veut monter qu'il existe $C>0$ tel que $ $\n",
    "\n",
    "\n",
    "\n",
    "\n",
    "Par composition d'applications différentiables, la fonction $J$ est différentiable.\n"
   ]
  },
  {
   "cell_type": "code",
   "execution_count": null,
   "metadata": {},
   "outputs": [],
   "source": []
  },
  {
   "cell_type": "code",
   "execution_count": null,
   "metadata": {},
   "outputs": [],
   "source": []
  },
  {
   "cell_type": "code",
   "execution_count": null,
   "metadata": {},
   "outputs": [],
   "source": []
  },
  {
   "cell_type": "markdown",
   "metadata": {},
   "source": [
    "### Calculons le gradient de $J$"
   ]
  },
  {
   "cell_type": "markdown",
   "metadata": {},
   "source": [
    "Considérons la fonction coût $J(u) = J_1(u) + J_2(u) $\n",
    "\n",
    "Avec $J_1(u) = \\frac{1}{2} \\int_{0}^{T} (y_u(t, L) - z_d(t))^2 \\, dt$ et \n",
    "$J_2(u) = \\frac{\\alpha}{2} \\int_{0}^{T} u(t)^2 \\, dt $\n",
    "\n",
    "où $ \\alpha > 0 $ est un paramètre fixé et  $z_d \\in L^2(]0, T[)$ est donnée\n",
    "\n",
    "Calculons la différentiel de $J_2(u)$ :\n",
    "\n",
    "$$\n",
    " \\frac{ J_2(u + \\varepsilon h ) - J_2(u) }{\\varepsilon}= \n",
    "\\frac{\\alpha }{2\\varepsilon} \\int_{0}^{T} (u + \\varepsilon h)^2 - u^2\\, dt=\n",
    "\\frac{\\alpha }{2\\varepsilon} \\int_{0}^{T}  2 \\varepsilon h u - \\varepsilon ^2 h^2\\, dt =\n",
    "\\frac{\\alpha }{2} \\int_{0}^{T}  2 \\varepsilon h u - \\varepsilon  h\\, dt \n",
    "$$\n",
    "\n",
    "Donc $ \\nabla J_2(u)h = \\int_{0}^{T} \\alpha h u \\, dt $\n",
    "\n",
    "Calculons la différentiel de $J_1(u)$ :\n",
    "\n",
    "$$ \n",
    "\\begin{align*}\n",
    "\\frac{ J_1(u + \\varepsilon h ) - J_1(u) }{\\varepsilon}  &=  \n",
    "\\frac{1}{2\\varepsilon} \\int_{0}^{T} (y_{u + \\varepsilon h }(t, L) - z_d(t))^2  - (y_{u}(t, L) - z_d(t))^2\\, dt \\\\ &= \n",
    "\\frac{1}{2} \\int_{0}^{T} [\\frac{y_{u + \\varepsilon h }(t, L) - y_h }{\\varepsilon}][ y_{u + \\varepsilon h }(t, L) + y_u(t, L) - z_d(t)] \\, dt \n",
    "\\end{align*}\n",
    "$$\n",
    "\n",
    "Donc $$ \\nabla J_1(u)h = \\underset{\\varepsilon \\to 0}{lim} \\frac{ J_1(u + \\varepsilon h ) - J_1(u) }{\\varepsilon} = \\int_{0}^{T}  z_h(t, L)  (y_u(t, L) - z_d(t))\\, dt $$\n",
    "\n",
    "Avec $z_h(t, L) = \\frac{y_{u + \\varepsilon h }(t, L) - y_h(t, L) }{\\varepsilon} $ "
   ]
  },
  {
   "cell_type": "markdown",
   "metadata": {},
   "source": [
    "Suivons la méthodologie de l'adjoint :\n",
    "* Etape 1\n",
    "\n",
    "    L'équation de $z_h$ est sous la forme $ Rz_h = 0$ avec $R = \\partial_t -\\Delta $ et on a $R^{*} = -\\partial_t -\\Delta $\n",
    "\n",
    "\n",
    "* Etape 2\n",
    "\n",
    "    Soit $p$ solution de $ -\\partial_t p -\\Delta p = G$\n",
    "    où $G$ est un second membre à préciser.\n",
    "\n",
    "* Etape 3\n",
    "\n",
    "    On multiplie l’équation sur $z_h$ par $p$ et on intègre \n",
    "    $$\n",
    "    \\int_{0}^{T} \\int_{0}^{L} (\\partial_t z_h- \\partial_{xx} z_h ) p \\,dx \\,dt = 0\n",
    "    $$\n",
    "\n",
    "    On intègre par parties : \n",
    "    $$\n",
    "    \\int_{0}^{L} [ z_{h}p]^{T}_{0} \\,dx - \\int_{0}^{T}\\int_{0}^{L} z_h\\cdot{} \\partial_t p \\,dx \\,dt - \\int_{0}^{T} [ \\partial_{x} z_{h} \\cdot{}p]^{L}_{0} + \\int_{0}^{T}\\int_{0}^{L} \\partial_{x} z_h \\cdot{}\\partial_{x}p \\,dx \\,dt = 0\n",
    "    $$\n",
    "\n",
    "    \n",
    "    Comme $z_h(0,x) = 0$ et en simplifiant on obtient\n",
    "    $$\n",
    "    \\int_{0}^{L} z_{h}(T,.)p(T,.) \\,dx - \\int_{0}^{T} [ \\partial_{x} z_{h} \\cdot{}p]^{L}_{0}\\,dt + \\int_{0}^{T}\\int_{0}^{L} - z_h\\cdot{} \\partial_t p  + \\partial_{x} z_h \\cdot{}\\partial_{x}p \\,dx \\,dt  = 0 \\quad (1)\n",
    "    $$\n",
    "\n",
    "\n",
    "    On multiplie l’équation sur $p$ par $z_h$ \n",
    "    $$\n",
    "    \\int_{0}^{T} \\int_{0}^{L} (- \\partial_t p- \\partial_{xx} p ) z_h \\,dx \\,dt = \\int_{0}^{T} \\int_{0}^{L} G z_h\n",
    "    $$\n",
    "\n",
    "    On intègre par parties en espace : \n",
    "    $$\n",
    "    \\int_{0}^{T} \\int_{0}^{L} -\\partial_t p \\cdot{}z_{h} +  \\partial_{x}p\\cdot{}\\partial_{x}z_h  \\,dx \\,dt - \\int_{0}^{T} [ \\partial_{x}p\\cdot{}z_{h}]^{L}_{0} \\,dt = \\int_{0}^{T} \\int_{0}^{L} G z_h \\,dx \\,dt \\quad (2)\n",
    "    $$\n",
    "\n",
    "    En soustrayant $(2)$ par $(1)$, on a \n",
    "    $$\n",
    "    -\\int_{0}^{L} z_{h}(T,.)p(T,.) \\,dx + \\int_{0}^{T} [ \\partial_{x} z_{h} \\cdot{}p]^{L}_{0}\\,dt - \\int_{0}^{T} [ \\partial_{x}p\\cdot{}z_{h}]^{L}_{0} \\,dt = \\int_{0}^{T} \\int_{0}^{L} G z_h \\,dx \\,dt \n",
    "    $$\n",
    "\n",
    "    Comme $z_{h}(t,0) = 0$ ,et en choisissant $p(t,0) = p(T,x) = 0$ et aussi $G = 0$ , on a \n",
    "    $$\n",
    "    \\int_{0}^{T} \\partial_{x} z_{h}(t,L) \\cdot{} p(t,L)\\,dt - \\int_{0}^{T} \\partial_{x} p(t,L) \\cdot{}z_{h}(t,L)  \\,dt = 0\n",
    "    $$\n",
    "\n",
    "    Puisque $\\partial_{x} z_{h}(t,L) = h(t) $   puis on choisit $\\partial_x p(t, L) = y_u(t, L) - z_d(t)$,  on obtient :\n",
    "    $$\n",
    "    \\int_{0}^{T} h(t) \\cdot{} p(t,L)\\,dt = \\int_{0}^{T} [ y_u(t, L) - z_d(t) ] \\cdot{}z_{h}(t,L)  \\,dt \n",
    "    $$\n",
    "\n",
    "    Donc $ \\nabla J_1(u)h = \\int_{0}^{T} h(t) \\cdot{} p(t,L)\\,dt  $"
   ]
  },
  {
   "cell_type": "markdown",
   "metadata": {},
   "source": [
    "Finalement $$ \\nabla J(u)h = \\int_{0}^{T} h(t) \\cdot{} ( p(t,L) + \\alpha u(t))\\,dt  $$\n",
    "où $p$ est solution de \n",
    "$$\n",
    "\\begin{cases}\n",
    "    \\partial_t p(t, x) + \\partial_{xx} p(t, x) = 0 &  t \\in ]0, T[,\\ x \\in ]0, L[ \\\\\n",
    "    p(0, x) = 0 &  x \\in [0, L] \\\\\n",
    "    p(t, 0) = 0 &  t \\in [0, T] \\\\\n",
    "    \\partial_x p(t, L) = y_u(t, L) - z d(t) &  t \\in [0, T]\n",
    "\\end{cases}\n",
    "$$"
   ]
  },
  {
   "cell_type": "markdown",
   "metadata": {},
   "source": [
    "## Question 2\n",
    "\n",
    "Décrire et mettre en œuvre une méthode numérique de résolution de l'équation de la chaleur par une méthode de type différences finies centrées en espace et décentrées en amont en temps. Vérifier sur des exemples simples que cette méthode fonctionne."
   ]
  },
  {
   "cell_type": "markdown",
   "metadata": {},
   "source": [
    "### Méthode numérique de résolution de l'équation de la chaleur "
   ]
  },
  {
   "cell_type": "code",
   "execution_count": 144,
   "metadata": {},
   "outputs": [],
   "source": [
    "import numpy as np\n",
    "import matplotlib.pyplot as plt\n",
    "from scipy.linalg import solve\n",
    "\n",
    "def direct_scheme(Nx, Nt, L, T, y_func, u_func):\n",
    "    dx = L / Nx\n",
    "    dt = T / Nt\n",
    "    x_values = np.linspace(0, L, Nx + 1)\n",
    "    t_values = np.linspace(0, T, Nt + 1)\n",
    "\n",
    "    # Construction de la matrice A\n",
    "    A = np.diag(2 * np.ones(Nx)) - np.diag(np.ones(Nx-1 ), k=-1) - np.diag(np.ones(Nx -1), k=1)\n",
    "\n",
    "    # Initialisation de la solution\n",
    "    Y = np.zeros((Nt, Nx))\n",
    "\n",
    "\n",
    "\n",
    "    # Construction de la matrice b\n",
    "    for k in range(1, Nt):\n",
    "        b = np.zeros(Nx)\n",
    "        b[-1] = u_func(t_values[k]) \n",
    "\n",
    "\n",
    "        # Résolution du système linéaire\n",
    "        Y[k, :] = solve(np.eye(Nx) + dt / (dx ** 2) * A, dt / dx * b)\n",
    "\n",
    "    return x_values, t_values, Y\n",
    "\n"
   ]
  },
  {
   "cell_type": "markdown",
   "metadata": {},
   "source": [
    "### Vérifions sur des exemples simples "
   ]
  },
  {
   "cell_type": "code",
   "execution_count": 145,
   "metadata": {},
   "outputs": [],
   "source": [
    "# Fonction pour calculer l'erreur L2\n",
    "def calculate_l2_error(Y, U_exact, dx, dt):\n",
    "    return np.sqrt(np.sum((Y - U_exact)**2) * dx * dt / np.sum(U_exact**2))  \n",
    "    # return np.sqrt(np.sum((Y - U_exact)**2) * dx * dt)  \n",
    "\n",
    "def Etude(y_u, u ) :\n",
    "    # Paramètres\n",
    "    L = 1.0\n",
    "    T = 0.1\n",
    "    Nx_values = [50, 100, 200, 400]  # Différentes valeurs de Nx à tester\n",
    "    Nt_values = [100, 200, 400, 800]  # Différentes valeurs de Nt à tester\n",
    "\n",
    "    # Stockage des résultats d'erreur pour l'analyse de convergence\n",
    "    errors = []\n",
    "\n",
    "    # Boucle sur différentes valeurs de Nx et Nt\n",
    "    for Nx in Nx_values:\n",
    "        for Nt in Nt_values:\n",
    "            # Appeler la fonction de résolution du problème direct\n",
    "            x_values, t_values, Y = direct_scheme(Nx, Nt, L, T, y_u, u)\n",
    "\n",
    "            # Calculer la solution exacte aux mêmes points\n",
    "            U_exact = np.array([[y_u(t, x) for x in x_values[:-1]] for t in t_values[:-1]])\n",
    "\n",
    "            # Calcul de l'erreur L2\n",
    "            dx = L / Nx\n",
    "            dt = T / Nt\n",
    "            l2_error = calculate_l2_error(Y, U_exact, dx, dt)\n",
    "\n",
    "            # Enregistrer l'erreur et les paramètres correspondants\n",
    "            errors.append({'Nx': Nx, 'Nt': Nt, 'L2_error': l2_error})\n",
    "\n",
    "    # Afficher les résultats\n",
    "    for error_data in errors:\n",
    "        print(f\"Nx: {error_data['Nx']}, Nt: {error_data['Nt']}, L^2 Erreur : {error_data['L2_error']}\")\n"
   ]
  },
  {
   "cell_type": "markdown",
   "metadata": {},
   "source": [
    "#### Exemple 1"
   ]
  },
  {
   "cell_type": "code",
   "execution_count": 146,
   "metadata": {},
   "outputs": [
    {
     "name": "stdout",
     "output_type": "stream",
     "text": [
      "Nx: 50, Nt: 100, L^2 Erreur : 0.0044566139976085\n",
      "Nx: 50, Nt: 200, L^2 Erreur : 0.0031552732498173293\n",
      "Nx: 50, Nt: 400, L^2 Erreur : 0.0022330530923158967\n",
      "Nx: 50, Nt: 800, L^2 Erreur : 0.0015799041770524194\n",
      "Nx: 100, Nt: 100, L^2 Erreur : 0.003155929949839116\n",
      "Nx: 100, Nt: 200, L^2 Erreur : 0.002233031663556474\n",
      "Nx: 100, Nt: 400, L^2 Erreur : 0.0015797317239111346\n",
      "Nx: 100, Nt: 800, L^2 Erreur : 0.0011174057415512144\n",
      "Nx: 200, Nt: 100, L^2 Erreur : 0.00223365055646659\n",
      "Nx: 200, Nt: 200, L^2 Erreur : 0.001579945106214481\n",
      "Nx: 200, Nt: 400, L^2 Erreur : 0.0011174561383493862\n",
      "Nx: 200, Nt: 800, L^2 Erreur : 0.0007902959829926199\n",
      "Nx: 400, Nt: 100, L^2 Erreur : 0.0015802516105155498\n",
      "Nx: 400, Nt: 200, L^2 Erreur : 0.001117588683323031\n",
      "Nx: 400, Nt: 400, L^2 Erreur : 0.000790348877655779\n",
      "Nx: 400, Nt: 800, L^2 Erreur : 0.0005589092718760242\n"
     ]
    }
   ],
   "source": [
    "\n",
    "L = 1.0\n",
    "\n",
    "def y_1(t, x):\n",
    "    return 2 *t + x**2\n",
    "\n",
    "def u_1(t):\n",
    "    return 2 * L\n",
    "\n",
    "Etude(y_1, u_1 )\n"
   ]
  },
  {
   "cell_type": "markdown",
   "metadata": {},
   "source": [
    "#### Exemple 2"
   ]
  },
  {
   "cell_type": "code",
   "execution_count": 147,
   "metadata": {},
   "outputs": [
    {
     "name": "stdout",
     "output_type": "stream",
     "text": [
      "Nx: 50, Nt: 100, L^2 Erreur : 0.0044524476101739565\n",
      "Nx: 50, Nt: 200, L^2 Erreur : 0.0031533684341789967\n",
      "Nx: 50, Nt: 400, L^2 Erreur : 0.0022322266845638226\n",
      "Nx: 50, Nt: 800, L^2 Erreur : 0.0015795640918778817\n",
      "Nx: 100, Nt: 100, L^2 Erreur : 0.0031542447774678952\n",
      "Nx: 100, Nt: 200, L^2 Erreur : 0.0022322147936715015\n",
      "Nx: 100, Nt: 400, L^2 Erreur : 0.0015793500586730833\n",
      "Nx: 100, Nt: 800, L^2 Erreur : 0.0011172344525670105\n",
      "Nx: 200, Nt: 100, L^2 Erreur : 0.002233012344534837\n",
      "Nx: 200, Nt: 200, L^2 Erreur : 0.0015796256968722254\n",
      "Nx: 200, Nt: 400, L^2 Erreur : 0.0011173002364309377\n",
      "Nx: 200, Nt: 800, L^2 Erreur : 0.0007902218236727208\n",
      "Nx: 400, Nt: 100, L^2 Erreur : 0.001580018033745117\n",
      "Nx: 400, Nt: 200, L^2 Erreur : 0.001117469856778149\n",
      "Nx: 400, Nt: 400, L^2 Erreur : 0.0007902895372164387\n",
      "Nx: 400, Nt: 800, L^2 Erreur : 0.0005588801331014505\n"
     ]
    }
   ],
   "source": [
    "\n",
    "L = 1.0\n",
    "\n",
    "def y_2(t, x):\n",
    "    return np.exp(t)*(x**2)/2\n",
    "\n",
    "def u_2(t):\n",
    "    return np.exp(t) * L\n",
    "\n",
    "Etude(y_2, u_2 )\n"
   ]
  },
  {
   "cell_type": "markdown",
   "metadata": {},
   "source": [
    "## Question 3\n",
    "\n",
    "Appelons $p$ l'état adjoint introduit pour calculer le gradient de $J$. On appelle $q$ la fonction définie sur $[0, T] \\times [0, L]$ par $q(t, x) = p(T - t, x)$. Quelle est l'équation satisfaite par $q$? En déduire une méthode numérique permettant de calculer le gradient de $J$ en $u$."
   ]
  },
  {
   "cell_type": "markdown",
   "metadata": {},
   "source": [
    "Si on pose  $q(t, x) = p(T - t, x)$, on a \n",
    "\n",
    "Voici  l'équation satisfaite par $q$ :\n",
    "$$\n",
    "\\begin{cases}\n",
    "    \\partial_t q(t, x) + \\partial_{xx} q(t, x) = 0 &  t \\in ]0, T[,\\ x \\in ]0, L[ \\\\\n",
    "    q(0, x) = 0 &  x \\in [0, L] \\\\\n",
    "    q(t, 0) = 0 &  t \\in [0, T] \\\\\n",
    "    \\partial_x q(t, L) = y_u(T - t, L) - z_d(T - t) &  t \\in [0, T]\n",
    "\\end{cases}\n",
    "$$\n"
   ]
  },
  {
   "cell_type": "markdown",
   "metadata": {},
   "source": [
    "Une méthode numérique permettant de calculer le gradient de $J$ en $u$ :"
   ]
  },
  {
   "cell_type": "markdown",
   "metadata": {},
   "source": [
    "\n",
    "$\\underline{Algorithme \\space de \\space descente \\space de  \\space gradient}$ \n",
    "\n",
    "$\\underline{Initialisation :}  u^{0} \\in   L^2(]0, T[)$ \n",
    "\n",
    "$\\underline{Itération \\space k :}  \\text{ pour } u^{k} \\text{ donné }$ \n",
    "* Soit $y^k = y_u^{k}$ solution de \n",
    "\n",
    "    $$\n",
    "    \\begin{cases}\n",
    "        \\partial_t y^{k}(t, x) - \\partial_{xx} y^{k}(t, x)= 0, & (t, x) \\in ]0, T[ \\times ]0, L[ \\\\\n",
    "        y^{k}(0, x) = 0, & x \\in [0, L] \\\\\n",
    "        y^{k}(t, 0) = 0, & t \\in [0, T] \\\\\n",
    "        \\partial_x y^{k}(t, L) = u(t), & t \\in [0, T] \n",
    "    \\end{cases}\n",
    "    $$\n",
    "\n",
    "\n",
    "* Soit $p^k $ solution de \n",
    "\n",
    "    $$\n",
    "    \\begin{cases}\n",
    "        \\partial_t p^{k}(t, x) + \\partial_{xx} p^{k}(t, x) = 0 &  t \\in ]0, T[,\\ x \\in ]0, L[ \\\\\n",
    "        p^{k}(0, x) = 0 &  x \\in [0, L] \\\\\n",
    "        p^{k}(t, 0) = 0 &  t \\in [0, T] \\\\\n",
    "        \\partial_x p^{k}(t, L) = y^{k}(T - t, L) - z_d(T - t) &  t \\in [0, T]\n",
    "    \\end{cases}\n",
    "    $$\n",
    "\n",
    "\n",
    "\n",
    "* On calcule le gradient $J$ en $u^k$\n",
    "\n",
    "    $g^k = p^k(t, L)  + \\alpha u^k(t)$\n",
    "\n",
    "* On calcule le contrôle à l'itération k+1\n",
    "\n",
    "    $u^{k+1} = u^k + \\rho g^k$\n",
    "\n",
    "\n",
    "\n"
   ]
  },
  {
   "cell_type": "markdown",
   "metadata": {},
   "source": [
    "## Question 4\n",
    "\n",
    "Écrire un algorithme pour résoudre numériquement le problème (P)."
   ]
  },
  {
   "cell_type": "code",
   "execution_count": 149,
   "metadata": {},
   "outputs": [],
   "source": [
    "import numpy as np\n",
    "from scipy.linalg import solve\n",
    "import matplotlib.pyplot as plt\n",
    "\n",
    "import numpy as np\n",
    "from scipy.linalg import solve"
   ]
  },
  {
   "cell_type": "code",
   "execution_count": 154,
   "metadata": {},
   "outputs": [],
   "source": [
    "### resolution du probleme directe\n",
    "def direct_scheme(Nx, Nt, L, T, u):\n",
    "    dx = L / Nx\n",
    "    dt = T / Nt\n",
    "    x_values = np.linspace(0, L, Nx + 1)\n",
    "    t_values = np.linspace(0, T, Nt + 1)\n",
    "\n",
    "    # Construction de la matrice A\n",
    "    A = np.diag(2 * np.ones(Nx - 1)) - np.diag(np.ones(Nx - 2), k=-1) - np.diag(np.ones(Nx - 2), k=1)\n",
    "\n",
    "\n",
    "    # Initialisation de la solution\n",
    "    Y = np.zeros((Nt + 1, Nx - 1))\n",
    "\n",
    "    # Conditions initiales\n",
    "    Y[0, :] = np.zeros(Nx - 1)\n",
    "\n",
    "    # Construction de la matrice b\n",
    "    for k in range(1, Nt + 1):\n",
    "        b = np.zeros(Nx - 1)\n",
    "        b[-1] = u[k] \n",
    "\n",
    "        # Résolution du système linéaire\n",
    "        Y[k, :] = solve(np.eye(Nx - 1) + dt / (dx ** 2) * A, dt / dx * b + Y[k - 1, :])\n",
    "\n",
    "    return x_values, t_values, Y\n",
    "\n",
    "### resolution du probleme adjoint\n",
    "def adjoint_scheme(Nx, Nt, L, T, zd,Y):\n",
    "    dx = L / Nx\n",
    "    dt = T / Nt\n",
    "    x_values = np.linspace(0, L, Nx + 1)\n",
    "    t_values = np.linspace(0, T, Nt + 1)\n",
    "\n",
    "    # Construction de la matrice A\n",
    "    A = np.diag(2 * np.ones(Nx - 1)) - np.diag(np.ones(Nx - 2), k=-1) - np.diag(np.ones(Nx - 2), k=1)\n",
    "\n",
    "\n",
    "    # Initialisation de la solution\n",
    "    P = np.zeros((Nt + 1, Nx - 1))\n",
    "\n",
    "    # Conditions finales\n",
    "    P[-1, :] = np.zeros(Nx - 1)\n",
    "\n",
    "    # Construction de la matrice c\n",
    "    for n in range(Nt, 0, -1):\n",
    "        c = np.zeros(Nx - 1)\n",
    "        c[-1] = Y[n, -1] -zd(t_values[n]) \n",
    "\n",
    "\n",
    "        # Résolution du système linéaire\n",
    "        P[n - 1, :] = solve(np.eye(Nx - 1) + dt / (dx ** 2) * A, dt / dx * c + P[n, :])\n",
    "\n",
    "    return x_values, t_values, P\n",
    "\n",
    "### solver \n",
    "def solver(Nx, Nt, L, T, zd,epsilon):\n",
    "    Maxit = 100\n",
    "    # Initialisation du controle U\n",
    "    U = np.zeros((Maxit , Nt + 1))\n",
    "\n",
    "    # controle u^0\n",
    "    U[0, :] = np.ones(Nt + 1)\n",
    "\n",
    "    for k in range(1,Maxit-1):  \n",
    "\n",
    "        # Résolution du problème direct\n",
    "        x_values_direct, t_values_direct, Y_direct = direct_scheme(Nx, Nt, L, T, U[k, :])\n",
    "\n",
    "        # Résolution du problème adjoint\n",
    "        x_values_adjoint, t_values_adjoint, P_adjoint = adjoint_scheme(Nx, Nt, L, T, zd,Y_direct )\n",
    "\n",
    "        # calcul du gradient \n",
    "        gk = P_adjoint[:,-1] + epsilon*U[k, :]\n",
    "\n",
    "        # calcul du controle à k+1\n",
    "        pas =0.01\n",
    "        U[k+1, :] = U[k, :] - pas*gk\n",
    "        \n",
    "    return U\n",
    "\n"
   ]
  },
  {
   "cell_type": "code",
   "execution_count": null,
   "metadata": {},
   "outputs": [],
   "source": []
  },
  {
   "cell_type": "markdown",
   "metadata": {},
   "source": [
    "## Question 5\n",
    "\n",
    "Tester cet algorithme pour diverses valeurs de $\\varepsilon$, $T$, et $z_d$. Commenter et illustrer les résultats (on discutera en particulier l'influence des paramètres du problème sur sa résolution)."
   ]
  },
  {
   "cell_type": "code",
   "execution_count": null,
   "metadata": {},
   "outputs": [],
   "source": []
  },
  {
   "cell_type": "code",
   "execution_count": 155,
   "metadata": {},
   "outputs": [
    {
     "data": {
      "image/png": "[encoded data removed]",
      "text/plain": [
       "<Figure size 640x480 with 1 Axes>"
      ]
     },
     "metadata": {},
     "output_type": "display_data"
    }
   ],
   "source": [
    "import numpy as np\n",
    "import matplotlib.pyplot as plt\n",
    "\n",
    "# Définir la fonction zd\n",
    "def zd(t):\n",
    "    return np.sin(t)\n",
    "\n",
    "# Définir les paramètres\n",
    "Nx = 100\n",
    "Nt = 200\n",
    "L = 1.0\n",
    "T = 1.0\n",
    "epsilon = 0.01\n",
    "\n",
    "# Appeler la fonction solver\n",
    "U_optimal = solver(Nx, Nt, L, T, zd, epsilon)\n",
    "\n",
    "# Visualiser les résultats (par exemple, le contrôle optimal à la dernière itération)\n",
    "plt.plot(np.linspace(0, T, Nt + 1), U_optimal[-1, :])\n",
    "plt.xlabel('Temps')\n",
    "plt.ylabel('Contrôle optimal')\n",
    "plt.title('Contrôle optimal à la dernière itération')\n",
    "plt.show()\n"
   ]
  },
  {
   "cell_type": "code",
   "execution_count": null,
   "metadata": {},
   "outputs": [],
   "source": []
  }
 ],
 "metadata": {
  "kernelspec": {
   "display_name": "Python 3",
   "language": "python",
   "name": "python3"
  },
  "language_info": {
   "codemirror_mode": {
    "name": "ipython",
    "version": 3
   },
   "file_extension": ".py",
   "mimetype": "text/x-python",
   "name": "python",
   "nbconvert_exporter": "python",
   "pygments_lexer": "ipython3",
   "version": "3.10.12"
  }
 },
 "nbformat": 4,
 "nbformat_minor": 2
}
