{
 "cells": [
  {
   "cell_type": "markdown",
   "metadata": {},
   "source": [
    "# Problème d'optimisation\n",
    "\n",
    "Résolvons de prime abord le problème\n",
    "$$\n",
    "\\min_{(x_1,x_2,x_3,x_3)\\in K} 𝑥_1𝑥_4(𝑥_1+𝑥_2+𝑥_3)+𝑥_3\n",
    "$$\n",
    "où $K\\subset \\mathbb{R}^4$ est donné par\n",
    "$$\n",
    "K=\\{(x_1,x_2,x_3,x_3)\\in\\mathbb{R}^4\\mid 𝑥_1𝑥_2𝑥_3𝑥_4\\geq 25, \\ 𝑥^2_1+𝑥^2_2+𝑥^2_3+𝑥^2_4=40, \\ 1\\leq 𝑥_1,𝑥_2,𝑥_3,𝑥_4\\leq 5\\}.\n",
    "$$"
   ]
  },
  {
   "cell_type": "code",
   "execution_count": 1,
   "metadata": {},
   "outputs": [
    {
     "ename": "ModuleNotFoundError",
     "evalue": "No module named 'numpy'",
     "output_type": "error",
     "traceback": [
      "\u001b[1;31m---------------------------------------------------------------------------\u001b[0m",
      "\u001b[1;31mModuleNotFoundError\u001b[0m                       Traceback (most recent call last)",
      "\u001b[1;32mc:\\Users\\PC\\OneDrive\\Bureau\\Controle optimal\\Start_Gekko.ipynb Cellule 2\u001b[0m line \u001b[0;36m1\n\u001b[1;32m----> <a href='vscode-notebook-cell:/c%3A/Users/PC/OneDrive/Bureau/Controle%20optimal/Start_Gekko.ipynb#W1sZmlsZQ%3D%3D?line=0'>1</a>\u001b[0m \u001b[39mimport\u001b[39;00m \u001b[39mnumpy\u001b[39;00m \u001b[39mas\u001b[39;00m \u001b[39mnp\u001b[39;00m\n\u001b[0;32m      <a href='vscode-notebook-cell:/c%3A/Users/PC/OneDrive/Bureau/Controle%20optimal/Start_Gekko.ipynb#W1sZmlsZQ%3D%3D?line=1'>2</a>\u001b[0m \u001b[39mimport\u001b[39;00m \u001b[39mmatplotlib\u001b[39;00m\u001b[39m.\u001b[39;00m\u001b[39mpyplot\u001b[39;00m \u001b[39mas\u001b[39;00m \u001b[39mplt\u001b[39;00m  \n\u001b[0;32m      <a href='vscode-notebook-cell:/c%3A/Users/PC/OneDrive/Bureau/Controle%20optimal/Start_Gekko.ipynb#W1sZmlsZQ%3D%3D?line=2'>3</a>\u001b[0m \u001b[39mfrom\u001b[39;00m \u001b[39mscipy\u001b[39;00m\u001b[39m.\u001b[39;00m\u001b[39mintegrate\u001b[39;00m \u001b[39mimport\u001b[39;00m odeint\n",
      "\u001b[1;31mModuleNotFoundError\u001b[0m: No module named 'numpy'"
     ]
    }
   ],
   "source": [
    "import numpy as np\n",
    "import matplotlib.pyplot as plt  \n",
    "from scipy.integrate import odeint\n",
    "from gekko import GEKKO\n",
    "m = GEKKO()"
   ]
  },
  {
   "cell_type": "code",
   "execution_count": 3,
   "metadata": {},
   "outputs": [
    {
     "ename": "NameError",
     "evalue": "name 'GEKKO' is not defined",
     "output_type": "error",
     "traceback": [
      "\u001b[1;31m---------------------------------------------------------------------------\u001b[0m",
      "\u001b[1;31mNameError\u001b[0m                                 Traceback (most recent call last)",
      "\u001b[1;32mc:\\Users\\PC\\OneDrive\\Bureau\\Controle optimal\\Start_Gekko.ipynb Cellule 3\u001b[0m line \u001b[0;36m2\n\u001b[0;32m      <a href='vscode-notebook-cell:/c%3A/Users/PC/OneDrive/Bureau/Controle%20optimal/Start_Gekko.ipynb#W2sZmlsZQ%3D%3D?line=0'>1</a>\u001b[0m \u001b[39m# Initialize Model\u001b[39;00m\n\u001b[1;32m----> <a href='vscode-notebook-cell:/c%3A/Users/PC/OneDrive/Bureau/Controle%20optimal/Start_Gekko.ipynb#W2sZmlsZQ%3D%3D?line=1'>2</a>\u001b[0m m \u001b[39m=\u001b[39m GEKKO(remote\u001b[39m=\u001b[39m\u001b[39mTrue\u001b[39;00m)\n\u001b[0;32m      <a href='vscode-notebook-cell:/c%3A/Users/PC/OneDrive/Bureau/Controle%20optimal/Start_Gekko.ipynb#W2sZmlsZQ%3D%3D?line=3'>4</a>\u001b[0m \u001b[39m#help(m)\u001b[39;00m\n\u001b[0;32m      <a href='vscode-notebook-cell:/c%3A/Users/PC/OneDrive/Bureau/Controle%20optimal/Start_Gekko.ipynb#W2sZmlsZQ%3D%3D?line=4'>5</a>\u001b[0m \n\u001b[0;32m      <a href='vscode-notebook-cell:/c%3A/Users/PC/OneDrive/Bureau/Controle%20optimal/Start_Gekko.ipynb#W2sZmlsZQ%3D%3D?line=5'>6</a>\u001b[0m \u001b[39m#define parameter\u001b[39;00m\n\u001b[0;32m      <a href='vscode-notebook-cell:/c%3A/Users/PC/OneDrive/Bureau/Controle%20optimal/Start_Gekko.ipynb#W2sZmlsZQ%3D%3D?line=6'>7</a>\u001b[0m eq \u001b[39m=\u001b[39m m\u001b[39m.\u001b[39mParam(value\u001b[39m=\u001b[39m\u001b[39m40\u001b[39m)\n",
      "\u001b[1;31mNameError\u001b[0m: name 'GEKKO' is not defined"
     ]
    }
   ],
   "source": [
    "# Initialize Model\n",
    "m = GEKKO(remote=True)\n",
    "\n",
    "#help(m)\n",
    "\n",
    "#define parameter\n",
    "eq = m.Param(value=40)\n",
    "\n",
    "#initialize variables\n",
    "x1,x2,x3,x4 = [m.Var() for i in range(4)]\n",
    "\n",
    "#initial values\n",
    "x1.value = 1\n",
    "x2.value = 5\n",
    "x3.value = 5\n",
    "x4.value = 1\n",
    "\n",
    "#lower bounds\n",
    "x1.lower = 1\n",
    "x2.lower = 1\n",
    "x3.lower = 1\n",
    "x4.lower = 1\n",
    "\n",
    "#upper bounds\n",
    "x1.upper = 5\n",
    "x2.upper = 5\n",
    "x3.upper = 5\n",
    "x4.upper = 5\n",
    "\n",
    "#Equations\n",
    "m.Equation(x1*x2*x3*x4>=25)\n",
    "m.Equation(x1**2+x2**2+x3**2+x4**2==eq)\n",
    "\n",
    "#Objective\n",
    "m.Obj(x1*x4*(x1+x2+x3)+x3)\n",
    "\n",
    "#Set global options\n",
    "m.options.IMODE = 3 #steady state optimization\n",
    "\n",
    "#Solve simulation\n",
    "m.solve() # solve on public server\n",
    "\n",
    "#Results\n",
    "print('')\n",
    "print('Results')\n",
    "print('x1: ' + str(x1.value))\n",
    "print('x2: ' + str(x2.value))\n",
    "print('x3: ' + str(x3.value))\n",
    "print('x4: ' + str(x4.value))"
   ]
  },
  {
   "cell_type": "markdown",
   "metadata": {},
   "source": [
    "# Problème de contrôle optimal\n",
    "\n",
    "On cherche à présent à résoudre le problème de contrôle optimal\n",
    "$$\n",
    "\\inf_{u\\in \\mathcal{U}}J(u)\n",
    "$$\n",
    "où $\\mathcal{U}$ et $J(u)$ sont définis par\n",
    "$$\n",
    "\\mathcal{U} = \\{u\\in L^\\infty(]0,2[)\\mid -1\\leq u(\\cdot)\\leq 1)\\}, \\quad J(u) = \\frac{1}{2}\\int_0^2 x_1(t)^2 dt\n",
    "$$\n",
    "et $x_1(\\cdot)$ désigne la solution du système\n",
    "$$\n",
    "x_1'(t)=u(t), \\quad x_1(0)=1.\n",
    "$$\n",
    "Afin de faire calculer l'intégrale par Gekko, sans s'embarrasser avec des formules de quadrature, on reformule le problème en\n",
    "$$\n",
    "\\inf_{u\\in \\mathcal{U}}\\hat J(u)\n",
    "$$\n",
    "où\n",
    "$$\n",
    "\\mathcal{U} = \\{u\\in L^\\infty(]0,2[)\\mid -1\\leq u(\\cdot)\\leq 1)\\}, \\quad \\hat J(u) = x_2(2)\n",
    "$$\n",
    "et $(x_1,x_2)$ résout le système d'EDO :\n",
    "$$\n",
    "x_1'(t)=u(t), \\quad x_2'(t)=\\frac12 x_1(t)^2,\\quad (x_1(0),x_2(0))=(1,0).\n",
    "$$\n"
   ]
  },
  {
   "cell_type": "code",
   "execution_count": 3,
   "metadata": {},
   "outputs": [
    {
     "data": {
      "image/png": "[encoded data removed]",
      "text/plain": [
       "<Figure size 432x288 with 1 Axes>"
      ]
     },
     "metadata": {
      "needs_background": "light"
     },
     "output_type": "display_data"
    }
   ],
   "source": [
    "m = GEKKO() # initialize gekko\n",
    "nt = 101\n",
    "m.time = np.linspace(0,2,nt)\n",
    "# Variables\n",
    "x1 = m.Var(value=1)\n",
    "x2 = m.Var(value=0)\n",
    "u = m.Var(value=0,lb=-1,ub=1)\n",
    "p = np.zeros(nt) # mark final time point\n",
    "p[-1] = 1.0\n",
    "final = m.Param(value=p)\n",
    "# Equations\n",
    "m.Equation(x1.dt()==u)\n",
    "m.Equation(x2.dt()==0.5*x1**2)\n",
    "m.Obj(x2*final) # Objective function\n",
    "m.options.IMODE = 6 # optimal control mode\n",
    "m.solve(disp=False) # solve\n",
    "plt.figure(1) # plot results\n",
    "plt.plot(m.time,x1.value,'k-',label=r'$x_1$')\n",
    "plt.plot(m.time,x2.value,'b-',label=r'$x_2$')\n",
    "plt.plot(m.time,u.value,'r--',label=r'$u$')\n",
    "plt.legend(loc='best')\n",
    "plt.xlabel('Time')\n",
    "plt.ylabel('Value')\n",
    "plt.show()"
   ]
  },
  {
   "cell_type": "markdown",
   "metadata": {},
   "source": [
    "# Problème de temps minimal\n",
    "\n",
    "On donne ci-après un exemple de problème de temps minimal : \n",
    "$$\n",
    "\\min_{(T,u)\\in \\mathcal{U}}T\n",
    "$$\n",
    "où\n",
    "$$\n",
    "\\mathcal{U}=\\{(T,u)\\in \\mathbb{R}_+\\times L^\\infty(]0,T[)\\mid -2\\leq u(\\cdot)\\leq 2\\text{ et }x_2(T)=x_3(T)=0\\},\n",
    "$$\n",
    "avec $(x_1,x_2,x_3)$ solution du système\n",
    "$$\n",
    "x_1'(t)=u(t), \\quad x_2'(t)=\\cos(x_1(t)),\\quad x_3'(t)=\\sin(x_1(t)), \\quad (x_1(0),x_2(0),x_3(0))=[\\pi/2,4,0]\n",
    "$$\n",
    "qui se reformule de façcon équivalente en introduisant le changement de variable $t=T \\tau$ avec $\\tau \\in [0,1]$, ainsi que les fonctions $\\tilde x_1$, $\\tilde x_2$, $\\tilde x_3$ définies sur $[0,1]$ par\n",
    "$$\n",
    "\\tilde x_i(\\tau)=x_i(T\\tau), \\quad i=1,2,3.\n",
    "$$\n",
    "Le problème devient :\n",
    "$$\n",
    "\\min_{(T,\\tilde u)\\in \\mathcal{U}}T\n",
    "$$\n",
    "où\n",
    "$$\n",
    "\\mathcal{U}=\\{(T,\\tilde u)\\in \\mathbb{R}_+\\times L^\\infty(]0,1[)\\mid -2\\leq u(\\cdot)\\leq 2\\text{ et }\\tilde x_2(1)=\\tilde x_3(1)=0\\},\n",
    "$$\n",
    "avec $(\\tilde x_1,\\tilde x_2,\\tilde x_3)$ solution du système\n",
    "$$\n",
    "\\tilde x_1'(\\tau)=T\\tilde u(\\tau), \\quad \\tilde x_2'(\\tau )=T\\cos(\\tilde x_1(\\tau)),\\quad \\tilde x_3'(t)=T\\sin(\\tilde x_1(t)), \\quad (\\tilde x_1(0),\\tilde x_2(0),\\tilde x_3(0))=[\\pi/2,4,0].\n",
    "$$"
   ]
  },
  {
   "cell_type": "code",
   "execution_count": 4,
   "metadata": {},
   "outputs": [
    {
     "name": "stdout",
     "output_type": "stream",
     "text": [
      "Final Time: 4.3162556133\n"
     ]
    },
    {
     "data": {
      "image/png": "[encoded data removed]",
      "text/plain": [
       "<Figure size 432x288 with 1 Axes>"
      ]
     },
     "metadata": {
      "needs_background": "light"
     },
     "output_type": "display_data"
    }
   ],
   "source": [
    "m = GEKKO() # initialize GEKKO\n",
    "nt = 501\n",
    "m.time = np.linspace(0,1,nt)\n",
    "# Variables\n",
    "x1 = m.Var(value=np.pi/2.0)\n",
    "x2 = m.Var(value=4.0)\n",
    "x3 = m.Var(value=0.0)\n",
    "p = np.zeros(nt) # final time = 1\n",
    "p[-1] = 1.0\n",
    "final = m.Param(value=p)\n",
    "# optimize final time\n",
    "tf = m.FV(value=1.0,lb=0.1,ub=100.0)\n",
    "tf.STATUS = 1\n",
    "# control changes every time period\n",
    "u = m.MV(value=0,lb=-2,ub=2)\n",
    "u.STATUS = 1\n",
    "m.Equation(x1.dt()==u*tf)\n",
    "m.Equation(x2.dt()==m.cos(x1)*tf)\n",
    "m.Equation(x3.dt()==m.sin(x1)*tf)\n",
    "m.Equation(x2*final<=0)\n",
    "m.Equation(x3*final<=0)\n",
    "m.Obj(tf)\n",
    "m.options.IMODE = 6\n",
    "m.solve(disp=False)\n",
    "print('Final Time: ' + str(tf.value[0]))\n",
    "tm = np.linspace(0,tf.value[0],nt)\n",
    "plt.figure(1)\n",
    "plt.plot(tm,x1.value,'k-',label=r'$x_1$')\n",
    "plt.plot(tm,x2.value,'b-',label=r'$x_2$')\n",
    "plt.plot(tm,x3.value,'g--',label=r'$x_3$')\n",
    "plt.plot(tm,u.value,'r--',label=r'$u$')\n",
    "plt.legend(loc='best')\n",
    "plt.xlabel('Time')\n",
    "plt.show()"
   ]
  }
 ],
 "metadata": {
  "kernelspec": {
   "display_name": "Python 3",
   "language": "python",
   "name": "python3"
  },
  "language_info": {
   "codemirror_mode": {
    "name": "ipython",
    "version": 3
   },
   "file_extension": ".py",
   "mimetype": "text/x-python",
   "name": "python",
   "nbconvert_exporter": "python",
   "pygments_lexer": "ipython3",
   "version": "3.11.6"
  }
 },
 "nbformat": 4,
 "nbformat_minor": 2
}
