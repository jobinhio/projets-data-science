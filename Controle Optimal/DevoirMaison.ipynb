{
 "cells": [
  {
   "cell_type": "code",
   "execution_count": null,
   "metadata": {},
   "outputs": [],
   "source": []
  },
  {
   "cell_type": "markdown",
   "metadata": {},
   "source": [
    "# Devoir  maison"
   ]
  },
  {
   "cell_type": "markdown",
   "metadata": {},
   "source": [
    "## Exercice 1  Contrôle optimal"
   ]
  },
  {
   "cell_type": "markdown",
   "metadata": {},
   "source": [
    "On désigne par $\\Omega \\subset \\mathbb{R}^n$ un ouvert borné de frontière régulière $\\Gamma$.\n",
    "\n",
    "Soit $T_0 > 0$ tel que pour tout $T > T_0$ l'équation des ondes:\n",
    "\\begin{equation}\n",
    "    \\begin{cases}\n",
    "      u'' - \\Delta u = 0 & \\text{dans } (0, +\\infty) \\times \\Omega, \\\\\n",
    "      u = h & \\text{sur } (0, +\\infty) \\times \\Gamma, \\\\\n",
    "      u(0) = u_0, \\quad u'(0) = u_1 & \\text{dans } \\Omega\n",
    "    \\end{cases}\n",
    "\\end{equation}\n",
    "est exactement contrôlable à l'instant $T$ dans l'espace $L^2(\\Omega) \\times H^{-1}(\\Omega)$. On note par $\\mathcal{U}_{ad} \\subset L^2(0, T; L^2(\\Gamma))$ l'ensemble des contrôles qui réalisent la contrôlabilité exacte."
   ]
  },
  {
   "cell_type": "markdown",
   "metadata": {},
   "source": [
    "### Question 1\n",
    "\n",
    "Montrer qu'il existe $\\varepsilon > 0$ assez petit tel que les valeurs du contrôle $h \\in \\mathcal{U}_{ad}$ sur $(T - \\varepsilon, T) \\times \\Gamma$ peuvent être arbitrairement choisies."
   ]
  },
  {
   "cell_type": "code",
   "execution_count": null,
   "metadata": {},
   "outputs": [],
   "source": []
  },
  {
   "cell_type": "markdown",
   "metadata": {},
   "source": [
    "Soit $\\varepsilon > 0$ tel que $T_{\\varepsilon} = T - \\varepsilon > T$\n",
    "\n",
    "\\begin{align*}\n",
    "    (1) \\begin{cases}\n",
    "        u'' - \\Delta u = 0 \\\\\n",
    "        u = h \\\\\n",
    "        u(0) = u_0, \\quad u'(0) = u_1\n",
    "    \\end{cases}\n",
    "\\end{align*}\n",
    "\n",
    "\n",
    "On choisit arbitrairement $h_{\\varepsilon} \\in L^2\\left( ]T_{\\varepsilon}, T[; L^2(\\Omega) \\right)$\n",
    "\n",
    "On resout le problème:\n",
    "\\begin{align*}\n",
    "    (1') \\begin{cases}\n",
    "        u_{\\varepsilon}'' - \\Delta u_{\\varepsilon} = 0 \\\\\n",
    "        u_{\\varepsilon} = h_{\\varepsilon} \\\\\n",
    "        u_{\\varepsilon}(T) = u_{\\varepsilon}'(T) = 0\n",
    "    \\end{cases}\n",
    "\\end{align*}\n",
    "\n",
    "Par le théorème 3.1 (Well-posedness), ce problème admet une et une seule solution faible:\n",
    "\n",
    "$$u_{\\varepsilon} \\in C^0\\left( ]T_{\\varepsilon}, T[; L^2(\\Omega) \\right) \\cap C^1\\left( [T_{\\varepsilon}, T]; H^1(\\Omega) \\right)$$\n",
    "\n",
    "En particulier, on a:\n",
    "\n",
    "$$\n",
    "u_{\\varepsilon}(T_{\\varepsilon}) \\in L^2(\\Omega) \\text{ et } u_{\\varepsilon}'(T_{\\varepsilon}) \\in H^1(\\Omega)\n",
    "$$\n",
    "\n",
    "Puis on considère\n",
    "\\begin{align*}\n",
    "    (1'') \\begin{cases}\n",
    "        u_{\\varepsilon}'' - \\Delta u_{\\varepsilon} = 0 \\\\\n",
    "        u_{\\varepsilon} = h_{\\varepsilon} \\\\\n",
    "        u_{\\varepsilon}(0) = u_0, \\quad u_{\\varepsilon}'(0) = u_1 \\\\\n",
    "        u_{\\varepsilon}(T) = u_{\\varepsilon}'(T), \\quad u_{\\varepsilon}'(T) = u_{\\varepsilon}'(T)\n",
    "    \\end{cases}\n",
    "\\end{align*}\n",
    "\n",
    "\n",
    "\n",
    "Par le théorème 4.1, le problème (1'') est exactement contrôlable $U_{ad}(u_0, u_1) \\in L^2(\\Omega) \\times H^{-1}(\\Omega)$, il existe $h_{\\varepsilon} \\in L^2([0,T];L^2(\\Gamma))$ tel que la solution de (1'') satisfait :\n",
    "\n",
    "\n",
    "\\begin{cases}\n",
    "u_{\\varepsilon}(T) = u_1(T), \\\\\n",
    "u_{\\varepsilon}'(T) = u_1'(T)\n",
    "\\end{cases}\n",
    "\n",
    "\n",
    "On vérifie que \n",
    "$u(t) = \\begin{cases} \n",
    "u_{\\varepsilon}(t), & \\text{si } T_{\\varepsilon} < t \\leq T, \\\\ \n",
    "u_{\\varepsilon}(t), & \\text{si } 0 \\leq t \\leq T_{\\varepsilon} \n",
    "\\end{cases}$ et \n",
    "$h(t) = \\begin{cases} \n",
    "h_{\\varepsilon}, & \\text{si } T_{\\varepsilon} < t < T, \\\\ \n",
    "0, & \\text{si } 0 < t < T_{\\varepsilon} \n",
    "\\end{cases}$\n",
    "\n",
    "satisfait (1), c'est-à-dire la contrôlabilité exacte de (1)."
   ]
  },
  {
   "cell_type": "code",
   "execution_count": null,
   "metadata": {},
   "outputs": [],
   "source": []
  },
  {
   "cell_type": "markdown",
   "metadata": {},
   "source": [
    "### Question 2\n",
    "Montrer que $\\mathcal{U}_{ad}$ est un ensemble non-vide convexe et fermé. En déduire qu'il existe un unique contrôle $h_0 \\in \\mathcal{U}_{ad}$ tel que\n",
    "\\begin{equation}\n",
    "    \\|h_0\\|_{L^2(0,T;L^2(\\Gamma))} = \\inf_{h \\in \\mathcal{U}_{ad}} \\|h\\|_{L^2(0,T;L^2(\\Gamma))}.\n",
    "\\end{equation}"
   ]
  },
  {
   "cell_type": "code",
   "execution_count": null,
   "metadata": {},
   "outputs": [],
   "source": []
  },
  {
   "cell_type": "markdown",
   "metadata": {},
   "source": [
    "$\\forall (u_0, u_1) \\in L^2(\\Omega) \\times H^{-1}(\\Omega)$, il existe $h \\in L^2([0,T];L^2(\\Gamma))$ tel que la solution de (1) satisfait $u(T) = u'(T) = 0$.\n",
    "\n",
    "$$\n",
    "\\| h \\|_{L^2([0,T];L^2(\\Gamma))} = \\inf_{h \\in H_{ad}} \\| h \\|_{L^2([0,T];L^2(\\Gamma))}\n",
    "$$\n",
    "\n",
    "Il existe $C > 0$ tel que:\n",
    "$$\n",
    "\\| h_0 \\|_{L^2([0,T];L^2(\\Gamma))} \\leq C \\| (u_0, u_1) \\|_{L^2(\\Omega) \\times H^{-1}(\\Omega)}\n",
    "$$"
   ]
  },
  {
   "cell_type": "code",
   "execution_count": null,
   "metadata": {},
   "outputs": [],
   "source": []
  },
  {
   "cell_type": "markdown",
   "metadata": {},
   "source": [
    "### Question 3\n",
    "\n",
    "(iii) Soit $h \\in L^2(0,T; L^2(\\Gamma))$. On définit $R$ : $h \\mapsto (u(0), u'(0))$ où $u$ est la solution du problème rétrograde\n",
    "\\begin{equation}\n",
    "    \\begin{cases}\n",
    "      u'' - \\Delta u = 0 & \\text{dans } (0, +\\infty) \\times \\Omega, \\\\\n",
    "      u = h & \\text{sur } (0, +\\infty) \\times \\Gamma, \\\\\n",
    "      u(T) = u'(T) = 0 & \\text{dans } \\Omega\n",
    "    \\end{cases}\n",
    "\\end{equation}\n",
    "\n",
    "Montrer que $R$ est une application linéaire continue de $L^2(0,T; L^2(\\Gamma))$ dans $L^2(\\Omega) \\times H^{-1}(\\Omega)$."
   ]
  },
  {
   "cell_type": "code",
   "execution_count": null,
   "metadata": {},
   "outputs": [],
   "source": []
  },
  {
   "cell_type": "markdown",
   "metadata": {},
   "source": [
    "### Question 4\n",
    "\n",
    "(iv) Désignons par $N$ le noyau de $R$. Montrer que $R$ est une bijection continue de $L^2(0,T; L^2(\\Gamma))/N$ sur $L^2(\\Omega) \\times H^{-1}(\\Omega)$."
   ]
  },
  {
   "cell_type": "code",
   "execution_count": null,
   "metadata": {},
   "outputs": [],
   "source": []
  },
  {
   "cell_type": "code",
   "execution_count": null,
   "metadata": {},
   "outputs": [],
   "source": []
  },
  {
   "cell_type": "markdown",
   "metadata": {},
   "source": [
    "### Question 5\n",
    "\n",
    "(v) Déduire des questions précédentes qu'il existe une constante $c > 0$, telle que\n",
    "\\begin{equation}\n",
    "    \\|h_0\\|_{L^2(0,T;L^2(\\Gamma))} \\leq c\\|(u_0, u_1)\\|_{L^2(\\Omega) \\times H^{-1}(\\Omega)}\n",
    "\\end{equation}\n",
    "pour toute donnée initiale $(u_0, u_1) \\in L^2(\\Omega) \\times H^{-1}(\\Omega)$."
   ]
  },
  {
   "cell_type": "code",
   "execution_count": null,
   "metadata": {},
   "outputs": [],
   "source": []
  },
  {
   "cell_type": "markdown",
   "metadata": {},
   "source": [
    "## Exercice 2 Méthode HUM"
   ]
  },
  {
   "cell_type": "markdown",
   "metadata": {},
   "source": [
    "\n",
    "\n",
    "On propose d'établir la contrôlabilité exacte du problème de Neumann\n",
    "\\begin{equation}\n",
    "    \\begin{cases}\n",
    "      u_{tt} - \\Delta u = 0 & \\text{dans } (0, +\\infty) \\times \\Omega, \\\\\n",
    "      u = 0 & \\text{sur } (0, +\\infty) \\times \\Gamma_0, \\\\\n",
    "      \\frac{\\partial u}{\\partial n} = h & \\text{sur } (0, +\\infty) \\times \\Gamma_1.\n",
    "    \\end{cases}\n",
    "\\end{equation}\n",
    "\n",
    "Pour des raisons techniques, on se place en dimension un. Les démarches suivantes s'adaptent bien aux problèmes de dimension supérieure.\n",
    "\n",
    "Considérons le problème adjoint:\n",
    "\\begin{equation}\n",
    "    \\begin{cases}\n",
    "      \\phi_{tt} - \\phi_{xx} = 0 & 0 < x < 1, t > 0, \\\\\n",
    "      \\phi(0,t) = \\phi(1,t) = 0 & t > 0, \\\\\n",
    "      \\phi(x,0) = \\phi_0(x), \\quad \\phi_t(x,0) = \\phi_1(x) & 0 < x < 1.\n",
    "    \\end{cases}\n",
    "\\end{equation}\n",
    "\n",
    "On note par $V = \\{ v \\in H^1(0,1) : v(0) = 0 \\}$, $W = \\{ v \\in H^2(0,1) : v(0) = v_x(1) = 0 \\}$."
   ]
  },
  {
   "cell_type": "code",
   "execution_count": null,
   "metadata": {},
   "outputs": [],
   "source": []
  },
  {
   "cell_type": "markdown",
   "metadata": {},
   "source": [
    "### Question 1\n",
    "\n",
    "(i) Montrer que pour toute donnée initiale $(\\phi_0, \\phi_1) \\in W \\times V$, le problème admet une unique solution forte. Et pour toute donnée initiale $(\\phi_0, \\phi_1) \\in V \\times L^2(0,1)$, le problème admet une unique solution faible."
   ]
  },
  {
   "cell_type": "code",
   "execution_count": null,
   "metadata": {},
   "outputs": [],
   "source": []
  },
  {
   "cell_type": "markdown",
   "metadata": {},
   "source": [
    "### Question 2\n",
    "\n",
    "(ii) Soit $\\phi$ une solution forte du problème. En multipliant l'équation par $2\\phi_x$ et en intégrant par parties, montrer que\n",
    "\\begin{equation}\n",
    "    \\left[ 2 \\int_0^1 \\phi_t \\phi_x \\, dx \\right]_0^T\n",
    "    + \\int_0^T \\int_0^1 (\\phi_t^2 + \\phi_x^2) \\, dx dt\n",
    "    = \\int_0^T \\phi_t(1,t)^2 \\, dt.\n",
    "\\end{equation}"
   ]
  },
  {
   "cell_type": "code",
   "execution_count": null,
   "metadata": {},
   "outputs": [],
   "source": []
  },
  {
   "cell_type": "markdown",
   "metadata": {},
   "source": [
    "### Question 3\n",
    "\n",
    "(iii) Justifier que les inégalités restent vraies pour les solutions faibles dont les données initiales $(\\phi_0, \\phi_1)$ sont dans $V \\times L^2(0,1)$."
   ]
  },
  {
   "cell_type": "code",
   "execution_count": null,
   "metadata": {},
   "outputs": [],
   "source": []
  },
  {
   "cell_type": "markdown",
   "metadata": {},
   "source": [
    "### Question 4\n",
    "\n",
    "(iv) En établissant la norme dans $V \\times L^2(0,1)$, nous pouvons montrer qu'il existe des constantes positives $c, C$ telles que\n",
    "\\begin{equation}\n",
    "    c(\\|\\phi_0\\|_V^2 + \\|\\phi_1\\|_{L^2(0,1)}^2) \\leq \\int_0^T \\phi_t(1,t)^2 \\, dt \\leq C(\\|\\phi_0\\|_V^2 + \\|\\phi_1\\|_{L^2(0,1)}^2),\n",
    "\\end{equation}\n",
    "pour tout $T > 2$.\n"
   ]
  },
  {
   "cell_type": "code",
   "execution_count": null,
   "metadata": {},
   "outputs": [],
   "source": []
  },
  {
   "cell_type": "markdown",
   "metadata": {},
   "source": [
    "### Question 5\n",
    "(v) Établir la contrôlabilité exacte du problème suivant:\n",
    "\\begin{equation}\n",
    "    \\begin{cases}\n",
    "      u_{tt} - u_{xx} = 0 & 0 < x < 1, t > 0, \\\\\n",
    "      u(0,t) = 0, \\quad u_x(1,t) = h(t) & t > 0, \\\\\n",
    "      u(x,0) = u_0(x), \\quad u_t(x,0) = u_1(x) & 0 < x < 1,\n",
    "    \\end{cases}\n",
    "\\end{equation}\n",
    "pour les données initiales $(u_0, u_1) \\in V \\times L^2(0,1)$ au moyen d'un contrôle $h \\in L^2(0,T)$ pour tout $T > 2$.\n"
   ]
  },
  {
   "cell_type": "code",
   "execution_count": null,
   "metadata": {},
   "outputs": [],
   "source": []
  },
  {
   "cell_type": "markdown",
   "metadata": {},
   "source": []
  }
 ],
 "metadata": {
  "kernelspec": {
   "display_name": "Python 3",
   "language": "python",
   "name": "python3"
  },
  "language_info": {
   "codemirror_mode": {
    "name": "ipython",
    "version": 3
   },
   "file_extension": ".py",
   "mimetype": "text/x-python",
   "name": "python",
   "nbconvert_exporter": "python",
   "pygments_lexer": "ipython3",
   "version": "3.10.12"
  }
 },
 "nbformat": 4,
 "nbformat_minor": 2
}
