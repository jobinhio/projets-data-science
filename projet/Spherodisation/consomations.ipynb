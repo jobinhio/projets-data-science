{
 "cells": [
  {
   "cell_type": "markdown",
   "metadata": {},
   "source": [
    "On a 4000 kg de fontes dans le four de Coulée avec un pourcentage de Mg = 0.0045 %.\n",
    "On consonmme 36 Kg de fonte par minute dans le four de Coulée.\n",
    "On perd 0.005 % de Mg par minute.\n",
    "\n",
    "Tu es un mathématicien et tu dois Tracer la courbe d'évolution du Mg\n",
    "dans le four de Coulée. \n",
    "\n",
    "Si tu as des questions ou s'il te manque certaines informations, n'hésite pas à me les demander !!"
   ]
  },
  {
   "cell_type": "markdown",
   "metadata": {},
   "source": []
  },
  {
   "cell_type": "code",
   "execution_count": null,
   "metadata": {},
   "outputs": [],
   "source": []
  },
  {
   "cell_type": "code",
   "execution_count": null,
   "metadata": {},
   "outputs": [],
   "source": []
  },
  {
   "cell_type": "code",
   "execution_count": null,
   "metadata": {},
   "outputs": [],
   "source": []
  },
  {
   "cell_type": "code",
   "execution_count": 1,
   "metadata": {},
   "outputs": [],
   "source": [
    "# Liste des cadences de production par heure pour chaque modèle\n",
    "liste_cadences_moule_par_heure = [190, 190, 190, 210, 190, 190, 190, 190, 190]  # en unités/heure\n",
    "# Liste des quantités de moules à produire pour chaque modèle\n",
    "liste_quantites_moules_a_produire = [121, 50, 35, 10, 100, 50, 35, 50, 40]  # en unités\n",
    "# Liste des masses de grappes de moules pour chaque modèle\n",
    "liste_masses_grappes_moules = [41.2, 39.36, 15.6, 19.94, 41.20, 39.36, 15.60, 41.20, 29.65]  # en kg\n",
    "\n",
    "\n",
    "\n",
    "# Cadence de production du i-ème modèle : le nombre de moules par heure\n",
    "cadence_moule_par_heure = 190  # en unités/heure\n",
    "\n",
    "# Masse des grappes de moules du i-ème modèle\n",
    "masse_grappe_moule = 41.2  # en kg\n",
    "\n",
    "# Quantité de moules du i-ème modèle à produire\n",
    "quantite_moules_a_produire = 121  # en unités\n",
    "\n",
    "# La cadence de consommation en kg/min du i-ème modèle\n",
    "cadence_consommation_kg_min = cadence_moule_par_heure / 60 * masse_grappe_moule  # en kg/min\n",
    "\n",
    "# Quantité de moules du i-ème modèle produits en une minute\n",
    "cadence_moule_par_minute = cadence_consommation_kg_min / masse_grappe_moule  # en unités/min\n",
    "\n",
    "# Quantité de moules restants du i-ème modèle après une minute\n",
    "quantite_moules_restants = quantite_moules_a_produire - cadence_moule_par_minute # en unités\n"
   ]
  },
  {
   "cell_type": "code",
   "execution_count": 2,
   "metadata": {},
   "outputs": [
    {
     "data": {
      "text/plain": [
       "(38.21052631578947, 0.6666666666666714)"
      ]
     },
     "execution_count": 2,
     "metadata": {},
     "output_type": "execute_result"
    }
   ],
   "source": [
    "\n",
    "# Temps nécessaire pour produire tous les moules du i-ème modèle\n",
    "temps_total_minutes = quantite_moules_a_produire / cadence_moule_par_minute\n",
    "\n",
    "temps_total_minutes, quantite_moules_a_produire - 38*cadence_moule_par_minute"
   ]
  },
  {
   "cell_type": "code",
   "execution_count": null,
   "metadata": {},
   "outputs": [],
   "source": []
  },
  {
   "cell_type": "code",
   "execution_count": 10,
   "metadata": {},
   "outputs": [
    {
     "ename": "SyntaxError",
     "evalue": "unterminated string literal (detected at line 3) (1128451648.py, line 3)",
     "output_type": "error",
     "traceback": [
      "\u001b[1;36m  Cell \u001b[1;32mIn[10], line 3\u001b[1;36m\u001b[0m\n\u001b[1;33m    Que l'on conservera dans un dictionnaire : times_dict, PFC_Consomvalues_dict, Mgvalues_dict\u001b[0m\n\u001b[1;37m         ^\u001b[0m\n\u001b[1;31mSyntaxError\u001b[0m\u001b[1;31m:\u001b[0m unterminated string literal (detected at line 3)\n"
     ]
    }
   ],
   "source": [
    "Soit PFC_Consom, la fonte utiliser pour produire les moules \n",
    "Soit Mg, le pourcentage de Mg une  variable qui intervient lors de la production des moules\n",
    "Que l'on conservera dans un dictionnaire : times_dict, PFC_Consomvalues_dict, Mgvalues_dict\n",
    "\n",
    "Soit temps_serie, le temps mis pour passer au modeles suivant\n",
    "\n",
    "Soit PFCmin et Mgmin, la masse de fonte minimal et le pourcentage de Mg minimal\n",
    "que peuvent prendre PFC_Consom et Mg\n",
    "\n",
    "\n",
    "A chaque temps t, on a 4 états possibles:\n",
    " - Soit on produit des moules \n",
    " - Soit on change de modeles\n",
    " - Soit on est en Panne\n",
    " - Soit on est à la Fin\n",
    "\n",
    "Lors que l'on produit des moules :\n",
    "\n",
    "    Si etat est egal à etat_Consom alors # On verifie que l'on est en etat consommation dans le temps\n",
    "\n",
    "        si PFC_Consom - cadence_consommation_kg_min et Mg - 0.0005  <= PFCmin et Mgmin alors  # Si l'on peut consommer alors on le fait !!\n",
    "            \n",
    "            PFC_Consom -= cadence_consommation_kg_min et Mg -= 0.0005\n",
    "\n",
    "            # Quantité de moules du i-ème modèle produits en une minute\n",
    "            cadence_moule_par_minute = cadence_consommation_kg_min / masse_grappe_moule  # en unités/min\n",
    "\n",
    "            # Quantité de moules restants du i-ème modèle après une minute\n",
    "            quantite_moules_restants = quantite_moules_a_produire - cadence_moule_par_minute # en unités\n",
    "\n",
    "            # on met à jour liste_quantites_moules_a_produire et liste_masses_grappes_moules\n",
    "            si quantite_moules_restants est nul alors \n",
    "                - Le temps passe a l'etat changement de Modeles\n",
    "                - on passe au modele suivant dans les listes : \n",
    "                    # Suppression des éléments déjà traités dans les listes\n",
    "                    liste_masses_grappes_moules.pop(0)\n",
    "                    liste_quantites_moules_a_produire.pop(0)\n",
    "                    liste_cadences_moule_par_heure.pop(0)\n",
    "            sinon \n",
    "                - remplacer quantite_moules_a_produire par quantite_moules_restants\n",
    "                - Le temps reste a l'etat on produit des moules\n",
    "\n",
    "            si liste_masses_grappes_moules est vide alors \n",
    "                - Le temps passe a l'etat Fin ( on arrete toute la proccedure )\n",
    "                \n",
    "\n",
    "        Sinon # Si l'on ne peut pas consommer alors on rajoute de la fonte venant de la poche et on consomme\n",
    "            PFC_Consom += 1250 et Mg = 0.0045 # on rajoute de la fonte venant de la poche \n",
    "\n",
    "            # Maintenant on peut consommer !!\n",
    "            PFC_Consom -= cadence_consommation_kg_min et Mg -= 0.0005\n",
    "\n",
    "            # Quantité de moules du i-ème modèle produits en une minute\n",
    "            cadence_moule_par_minute = cadence_consommation_kg_min / masse_grappe_moule  # en unités/min\n",
    "\n",
    "            # Quantité de moules restants du i-ème modèle après une minute\n",
    "            quantite_moules_restants = quantite_moules_a_produire - cadence_moule_par_minute # en unités\n",
    "\n",
    "            # on met à jour liste_quantites_moules_a_produire et liste_masses_grappes_moules\n",
    "            si quantite_moules_restants est nul alors \n",
    "                - Le temps passe a l'etat changement de Modeles\n",
    "                - on passe au modele suivant dans les listes : \n",
    "                    # Suppression des éléments déjà traités dans les listes\n",
    "                    liste_masses_grappes_moules.pop(0)\n",
    "                    liste_quantites_moules_a_produire.pop(0)\n",
    "                    liste_cadences_moule_par_heure.pop(0)\n",
    "            sinon \n",
    "                - remplacer quantite_moules_a_produire par quantite_moules_restants\n",
    "                - Le temps reste a l'etat on produit des moules\n",
    "\n",
    "            si liste_masses_grappes_moules est vide alors \n",
    "                - Le temps passe a l'etat Fin ( on arrete toute la proccedure )\n",
    "\n",
    "\n",
    "\n",
    "Lors que l'on change de modeles :\n",
    "\n",
    "    Si etat est egal à etat_Serie alors # On verifie que l'on est en etat Changement de Serie dans le temps\n",
    "        Mg -= 0.0005 # Mg perd son pourcentage\n",
    "        temps_serie -= 1 # On decremente temps_serie de 1   \n",
    "\n",
    "        Si Mg  <= Mgmin : # Si le Mg n'est plus bon on doit ajouter de la fonte\n",
    "            PFC_Consom += 1250 et Mg = 0.0045 # on rajoute de la fonte venant de la poche \n",
    "    \n",
    "        Si PFC_Consom >= PFCMax :\n",
    "            \"Error on est bloqué\"\n",
    "\n",
    "        Si temps_serie est nul alors \n",
    "            - Le temps passe à l'état produire des moules\n",
    "        Sinon \n",
    "            - Le temps reste à temps_serie \n",
    "\n",
    "\n",
    "\n",
    "Lors que l'on est en Panne :\n",
    "\n",
    "    Si etat est egal à etat_Panne alors # On verifie que l'on est en etat panne dans le temps\n",
    "        Mg -= 0.0005 #Mg perd son pourcentage\n",
    "        temps_Panne -= 1 # On decremente temps_Panne de 1   \n",
    "        Si temps_Panne est nul alors \n",
    "            - Le temps passe à l'état produire des moules\n",
    "        Sinon \n",
    "            - Le temps reste à temps_panne \n",
    "\n",
    "\n",
    "\n",
    "Remarques : \n",
    "    L'utilisateur doit avoir un bouton pour pouvoir activer l'etat en Panne\n"
   ]
  },
  {
   "cell_type": "code",
   "execution_count": null,
   "metadata": {},
   "outputs": [],
   "source": []
  },
  {
   "cell_type": "code",
   "execution_count": null,
   "metadata": {},
   "outputs": [],
   "source": []
  },
  {
   "cell_type": "code",
   "execution_count": 21,
   "metadata": {},
   "outputs": [
    {
     "name": "stdout",
     "output_type": "stream",
     "text": [
      "On a depasser pas la capacité du Fours de Coulée\n",
      "Résultats finaux ou mises à jour des dictionnaires : \n",
      "times_dict :  {'chargement_et_fusion': [], 'Four 1': [1, 2, 3, 4, 5, 6, 7, 8, 9, 10, 11, 12, 13, 14, 15, 16, 17, 18, 19, 19], 'Four 2': [20, 21, 22, 23, 24, 25, 26, 27, 28, 29, 30, 31, 32, 33, 34, 35, 36, 37, 38, 39, 40, 41, 42, 43, 44, 45, 46, 47, 48, 49, 50, 51, 52, 53, 54, 55, 56, 57, 58, 59, 60, 61, 62, 63, 64, 65, 66, 67, 68, 69, 70, 71, 72, 73, 74, 75, 76, 76], 'Four 3': [77, 78, 79, 80, 81, 82, 83, 84, 85, 86, 87, 88, 89, 90, 91, 92, 93, 94, 95, 96, 97, 98, 99, 100, 101, 102, 103, 104, 105, 106, 107, 108, 109, 110, 111, 112, 113, 114, 115, 116, 117, 118, 119, 120, 121, 122, 123, 124, 125, 126, 127, 128, 129, 130, 131, 132, 133, 134, 135, 136, 137, 138, 139, 140, 141, 142, 143, 144, 145, 146, 147, 148, 149, 150, 151, 152, 153, 154, 154], 'Four 4': [155, 156, 157, 158, 159, 160, 161, 162, 163, 164, 165, 166, 167, 168, 169, 170, 171, 172, 173, 174, 175, 176, 177, 178, 179, 180, 181, 182, 183, 184, 185, 186, 187, 188, 189, 190, 191, 192, 193, 194, 195, 196, 197, 198, 199, 200, 201, 202, 203, 204, 205, 206, 207, 208, 209, 210, 211, 212, 213, 214, 215, 216, 217, 218, 219, 220, 221, 222, 223, 224, 225, 226, 226], 'Four 5': [227, 228, 229, 230, 231, 232, 233, 234, 235, 236, 237, 238, 239]}\n",
      "PFC_Consomvalues_dict :  {'chargement_et_fusion': [], 'Four 1': [3619.5333333333333, 3489.0666666666666, 3358.6, 3228.133333333333, 3097.6666666666665, 2967.2, 2836.733333333333, 2706.2666666666664, 2575.7999999999997, 3695.333333333333, 3564.8666666666663, 3434.3999999999996, 3303.933333333333, 3173.4666666666662, 3042.9999999999995, 2912.533333333333, 2782.066666666666, 2651.5999999999995, 2521.1333333333328, 3771.1333333333328], 'Four 2': [3640.666666666666, 3510.1999999999994, 3379.7333333333327, 3249.266666666666, 3118.7999999999993, 2988.3333333333326, 2857.866666666666, 2727.399999999999, 2596.9333333333325, 3716.466666666666, 3585.999999999999, 3455.5333333333324, 3325.0666666666657, 3194.599999999999, 3064.1333333333323, 2933.6666666666656, 2803.199999999999, 2672.733333333332, 2542.2666666666655, 3661.799999999999, 3661.799999999999, 3661.799999999999, 3661.799999999999, 3661.799999999999, 3661.799999999999, 3661.799999999999, 3661.799999999999, 3661.799999999999, 3661.799999999999, 3661.799999999999, 3537.159999999999, 3412.519999999999, 3287.879999999999, 3163.2399999999993, 3038.5999999999995, 2913.9599999999996, 2789.3199999999997, 2664.68, 3790.04, 3665.4, 3540.76, 3416.1200000000003, 3291.4800000000005, 3166.8400000000006, 3042.2000000000007, 2917.560000000001, 2917.560000000001, 2917.560000000001, 2917.560000000001, 2917.560000000001, 2917.560000000001, 2917.560000000001, 2917.560000000001, 2917.560000000001, 2917.560000000001, 2917.560000000001, 2868.1600000000008, 4118.160000000001], 'Four 3': [4068.7600000000007, 4019.3600000000006, 3969.9600000000005, 3920.5600000000004, 3871.1600000000003, 3821.76, 3772.36, 3722.96, 3673.56, 3624.16, 3574.7599999999998, 3574.7599999999998, 3574.7599999999998, 3574.7599999999998, 3574.7599999999998, 3574.7599999999998, 3574.7599999999998, 3574.7599999999998, 3574.7599999999998, 3574.7599999999998, 3574.7599999999998, 4754.97, 4685.18, 4615.39, 4615.39, 4615.39, 4615.39, 4615.39, 4615.39, 4615.39, 4615.39, 4615.39, 4615.39, 4615.39, 4484.923333333334, 4354.456666666668, 4223.990000000002, 4093.523333333335, 3963.056666666668, 3832.5900000000015, 4952.123333333336, 4821.6566666666695, 4691.190000000003, 4560.723333333337, 4430.256666666671, 4299.7900000000045, 4169.323333333338, 4038.8566666666716, 3908.390000000005, 3777.923333333338, 3647.4566666666715, 3516.990000000005, 3386.523333333338, 3256.0566666666714, 3125.5900000000047, 2995.123333333338, 2864.6566666666713, 2734.1900000000046, 2603.723333333338, 3723.256666666671, 3592.7900000000045, 3462.323333333338, 3331.856666666671, 3201.3900000000044, 3070.9233333333377, 2940.456666666671, 2940.456666666671, 2940.456666666671, 2940.456666666671, 2940.456666666671, 2940.456666666671, 2940.456666666671, 2940.456666666671, 2940.456666666671, 2940.456666666671, 2940.456666666671, 2815.816666666671, 2691.1766666666713, 3941.1766666666713], 'Four 4': [3816.5366666666714, 3691.8966666666715, 3567.2566666666717, 3442.616666666672, 3317.976666666672, 3193.336666666672, 3068.696666666672, 2944.0566666666723, 2819.4166666666724, 2694.7766666666726, 2570.1366666666727, 3695.496666666673, 3570.856666666673, 3446.216666666673, 3446.216666666673, 3446.216666666673, 3446.216666666673, 3446.216666666673, 3446.216666666673, 3446.216666666673, 3446.216666666673, 3446.216666666673, 3446.216666666673, 3446.216666666673, 3396.816666666673, 3347.416666666673, 3298.016666666673, 3248.6166666666727, 3199.2166666666726, 3149.8166666666725, 4350.416666666673, 4301.016666666674, 4251.616666666674, 4202.216666666674, 4152.816666666675, 4103.416666666675, 4103.416666666675, 4103.416666666675, 4103.416666666675, 4103.416666666675, 4103.416666666675, 4103.416666666675, 4103.416666666675, 4103.416666666675, 4103.416666666675, 4103.416666666675, 3972.9500000000085, 3842.4833333333418, 3712.016666666675, 4831.550000000009, 4701.083333333343, 4570.616666666677, 4440.150000000011, 4309.683333333344, 4179.216666666678, 4048.7500000000114, 3918.2833333333447, 3787.816666666678, 3657.3500000000113, 3526.8833333333446, 3396.416666666678, 3265.950000000011, 3265.950000000011, 3265.950000000011, 3265.950000000011, 3265.950000000011, 3265.950000000011, 3265.950000000011, 3265.950000000011, 3265.950000000011, 3265.950000000011, 3265.950000000011, 4515.950000000012], 'Four 5': [4422.058333333345, 4328.166666666679, 4234.275000000012, 4140.383333333346, 4046.4916666666795, 3952.600000000013, 3858.7083333333467, 3764.8166666666802, 3670.925000000014, 3577.0333333333474, 3483.141666666681, 3389.2500000000146, 3295.358333333348]}\n",
      "Mgvalues_dict :  {'chargement_et_fusion': [], 'Four 1': [0.0445, 0.044, 0.0435, 0.043, 0.042499999999999996, 0.041999999999999996, 0.041499999999999995, 0.040999999999999995, 0.040499999999999994, 0.0445, 0.044, 0.0435, 0.043, 0.042499999999999996, 0.041999999999999996, 0.041499999999999995, 0.040999999999999995, 0.040499999999999994, 0.039999999999999994, 0.045], 'Four 2': [0.0445, 0.044, 0.0435, 0.043, 0.042499999999999996, 0.041999999999999996, 0.041499999999999995, 0.040999999999999995, 0.040499999999999994, 0.0445, 0.044, 0.0435, 0.043, 0.042499999999999996, 0.041999999999999996, 0.041499999999999995, 0.040999999999999995, 0.040499999999999994, 0.039999999999999994, 0.0445, 0.044, 0.0435, 0.043, 0.042499999999999996, 0.041999999999999996, 0.041499999999999995, 0.040999999999999995, 0.040499999999999994, 0.039999999999999994, 0.03949999999999999, 0.03899999999999999, 0.03849999999999999, 0.03799999999999999, 0.03749999999999999, 0.03699999999999999, 0.03649999999999999, 0.03599999999999999, 0.03549999999999999, 0.0445, 0.044, 0.0435, 0.043, 0.042499999999999996, 0.041999999999999996, 0.041499999999999995, 0.040999999999999995, 0.040499999999999994, 0.039999999999999994, 0.03949999999999999, 0.03899999999999999, 0.03849999999999999, 0.03799999999999999, 0.03749999999999999, 0.03699999999999999, 0.03649999999999999, 0.03599999999999999, 0.03549999999999999, 0.045], 'Four 3': [0.0445, 0.044, 0.0435, 0.043, 0.042499999999999996, 0.041999999999999996, 0.041499999999999995, 0.040999999999999995, 0.040499999999999994, 0.039999999999999994, 0.03949999999999999, 0.03899999999999999, 0.03849999999999999, 0.03799999999999999, 0.03749999999999999, 0.03699999999999999, 0.03649999999999999, 0.03599999999999999, 0.03549999999999999, 0.03499999999999999, 0.03449999999999999, 0.0445, 0.044, 0.0435, 0.043, 0.042499999999999996, 0.041999999999999996, 0.041499999999999995, 0.040999999999999995, 0.040499999999999994, 0.039999999999999994, 0.03949999999999999, 0.03899999999999999, 0.03849999999999999, 0.03799999999999999, 0.03749999999999999, 0.03699999999999999, 0.03649999999999999, 0.03599999999999999, 0.03549999999999999, 0.0445, 0.044, 0.0435, 0.043, 0.042499999999999996, 0.041999999999999996, 0.041499999999999995, 0.040999999999999995, 0.040499999999999994, 0.039999999999999994, 0.03949999999999999, 0.03899999999999999, 0.03849999999999999, 0.03799999999999999, 0.03749999999999999, 0.03699999999999999, 0.03649999999999999, 0.03599999999999999, 0.03549999999999999, 0.0445, 0.044, 0.0435, 0.043, 0.042499999999999996, 0.041999999999999996, 0.041499999999999995, 0.040999999999999995, 0.040499999999999994, 0.039999999999999994, 0.03949999999999999, 0.03899999999999999, 0.03849999999999999, 0.03799999999999999, 0.03749999999999999, 0.03699999999999999, 0.03649999999999999, 0.03599999999999999, 0.03549999999999999, 0.045], 'Four 4': [0.0445, 0.044, 0.0435, 0.043, 0.042499999999999996, 0.041999999999999996, 0.041499999999999995, 0.040999999999999995, 0.040499999999999994, 0.039999999999999994, 0.03949999999999999, 0.0445, 0.044, 0.0435, 0.043, 0.042499999999999996, 0.041999999999999996, 0.041499999999999995, 0.040999999999999995, 0.040499999999999994, 0.039999999999999994, 0.03949999999999999, 0.03899999999999999, 0.03849999999999999, 0.03799999999999999, 0.03749999999999999, 0.03699999999999999, 0.03649999999999999, 0.03599999999999999, 0.03549999999999999, 0.0445, 0.044, 0.0435, 0.043, 0.042499999999999996, 0.041999999999999996, 0.041499999999999995, 0.040999999999999995, 0.040499999999999994, 0.039999999999999994, 0.03949999999999999, 0.03899999999999999, 0.03849999999999999, 0.03799999999999999, 0.03749999999999999, 0.03699999999999999, 0.03649999999999999, 0.03599999999999999, 0.03549999999999999, 0.0445, 0.044, 0.0435, 0.043, 0.042499999999999996, 0.041999999999999996, 0.041499999999999995, 0.040999999999999995, 0.040499999999999994, 0.039999999999999994, 0.03949999999999999, 0.03899999999999999, 0.03849999999999999, 0.03799999999999999, 0.03749999999999999, 0.03699999999999999, 0.03649999999999999, 0.03599999999999999, 0.03549999999999999, 0.03499999999999999, 0.03449999999999999, 0.03399999999999999, 0.03349999999999999, 0.045], 'Four 5': [0.0445, 0.044, 0.0435, 0.043, 0.042499999999999996, 0.041999999999999996, 0.041499999999999995, 0.040999999999999995, 0.040499999999999994, 0.039999999999999994, 0.03949999999999999, 0.03899999999999999, 0.03849999999999999]}\n"
     ]
    }
   ],
   "source": [
    "# Données initiales\n",
    "liste_cadences_moule_par_heure = [190, 190, 190, 210, 190, 190, 190, 190, 190]  # en unités/heure\n",
    "liste_quantites_moules_a_produire = [121, 50, 35, 10, 100, 50, 35, 50, 40]  # en unités\n",
    "liste_masses_grappes_moules = [41.2, 39.36, 15.6, 19.94, 41.20, 39.36, 15.60, 41.20, 29.65]  # en kg\n",
    "\n",
    "# Variables de simulation\n",
    "PFCmin = 2500 # en kg\n",
    "PFCmax = 5000 # en kg\n",
    "Mgmin = 0.035 # en %\n",
    "Mgmax = 0.045 # en %\n",
    "eC = 0.0005 # en %\n",
    "poche_i = 1250 # en kg\n",
    "tmin = 0 # en minutes\n",
    "t = 0 # en minutes\n",
    "\n",
    "\n",
    "temps_serie = 10  # Initialisation du temps pour changer de modèle\n",
    "temps_Panne = 10  # Initialisation du temps pour la panne\n",
    "\n",
    "# Dictionnaires pour stocker les variables et états\n",
    "cles = [\"chargement_et_fusion\", \"Four 1\", \"Four 2\", \"Four 3\", \"Four 4\", \"Four 5\"]\n",
    "times_dict = {cle: [] for cle in cles}\n",
    "PFC_Consomvalues_dict = {cle: [] for cle in cles}\n",
    "Mgvalues_dict = {cle: [] for cle in cles}\n",
    "\n",
    "\n",
    "PFC_Consom = 3750  # Initialisation de la fonte consommée\n",
    "Mg =  Mgmax  # Initialisation du pourcentage de Mg\n",
    "tmax = 4*60 # en minutes\n",
    "\n",
    "# Initialisation des états\n",
    "etat = \"etat_Consom\"  # État initial : production de moules\n",
    "\n",
    "temps_serie_courant = temps_serie\n",
    "temps_Panne_courant = temps_Panne\n",
    "numPoche = 3\n",
    "numFours = 1\n",
    "\n",
    "\n",
    "\n",
    "#  if  debut < t and  t > fin :\n",
    "debut,fin = 73,73\n",
    "\n",
    "\n",
    "def Consommation(Mg, PFC_Consom, quantite_moules_a_produire, cadence_consommation_kg_min, cadence_moule_par_minute):\n",
    "    \n",
    "    # Mise à jour du pourcentage de Mg et du poids fonte coulée\n",
    "    PFC_Consom -= cadence_consommation_kg_min\n",
    "    Mg -= eC\n",
    "\n",
    "    if PFC_Consom > PFCmax:\n",
    "        print(\"On a dépassé la capacité du Four de Coulée\")\n",
    "    \n",
    "\n",
    "    quantite_moules_restants = quantite_moules_a_produire - cadence_moule_par_minute\n",
    "\n",
    "    if debut < t < fin:\n",
    "        print(\"Ici2\", Mg, PFC_Consom, cadence_consommation_kg_min, quantite_moules_a_produire, quantite_moules_restants)\n",
    "\n",
    "    # On a fini de réaliser le i-ème modèle alors on passe au i+1-ème modèle\n",
    "    if quantite_moules_restants <= 0:\n",
    "        etat = \"etat_Serie\"\n",
    "        # Suppression des éléments déjà traités dans les listes\n",
    "        liste_masses_grappes_moules.pop(0)\n",
    "        liste_quantites_moules_a_produire.pop(0)\n",
    "        liste_cadences_moule_par_heure.pop(0)\n",
    "\n",
    "        # Si on a fini de tout produire alors on stoppe la procédure \n",
    "        # On passe à l'état Fin\n",
    "        if not liste_masses_grappes_moules:\n",
    "            etat = \"etat_Fin\"\n",
    "\n",
    "        if debut < t < fin:\n",
    "            print(\"Ici3\", Mg, PFC_Consom, cadence_consommation_kg_min, quantite_moules_a_produire, quantite_moules_restants)\n",
    "\n",
    "    # On a fini de réaliser le j-ème moule du i-ème modèle alors on passe au j-ème moule\n",
    "    # En restant dans l'état consommation \n",
    "    else:\n",
    "        if debut < t < fin:\n",
    "            print(\"Ici3\", Mg, PFC_Consom, cadence_consommation_kg_min, quantite_moules_a_produire, quantite_moules_restants)\n",
    "\n",
    "        liste_quantites_moules_a_produire[0] = quantite_moules_restants\n",
    "        etat = \"etat_Consom\"\n",
    "    \n",
    "    return Mg, PFC_Consom, etat\n",
    "\n",
    "\n",
    "# Boucle de simulation\n",
    "while t < tmax :\n",
    "    if etat == \"etat_Consom\":\n",
    "        masse_grappe_moule = liste_masses_grappes_moules[0] \n",
    "        cadence_moule_par_heure = liste_cadences_moule_par_heure[0]\n",
    "        quantite_moules_a_produire  = liste_quantites_moules_a_produire[0]\n",
    "        \n",
    "        # La cadence de consommation en kg/min du i-ème modèle\n",
    "        cadence_consommation_kg_min = cadence_moule_par_heure / 60 * masse_grappe_moule  # en kg/min\n",
    "\n",
    "        # Quantités de moules du i-ème modèle produits en une minute\n",
    "        cadence_moule_par_minute = cadence_consommation_kg_min / masse_grappe_moule # en unités/min\n",
    "        \n",
    "        if  debut < t and  t < fin :\n",
    "            print('t = ',t)\n",
    "            print(\"Ici1\", Mg, PFC_Consom, cadence_consommation_kg_min,quantite_moules_a_produire,quantite_moules_restants)\n",
    "        \n",
    "        # Si l'on peut consommer (c-a-d Mg et PFC sont okay) alors on consomme\n",
    "        if (PFC_Consom - cadence_consommation_kg_min >= PFCmin) and (Mg - eC >= Mgmin):\n",
    "            \n",
    "            Mg, PFC_Consom, etat = Consommation(Mg, PFC_Consom, quantite_moules_a_produire, cadence_consommation_kg_min, cadence_moule_par_minute)\n",
    "                \n",
    "        else:\n",
    "            # Ajout poche car Mg ou PFC insuffisant !!\n",
    "            PFC_Consom += poche_i\n",
    "            Mg = Mgmax \n",
    "\n",
    "            if numPoche < 4:\n",
    "                numPoche += 1\n",
    "            else :\n",
    "                numPoche = 1\n",
    "                numFours += 1\n",
    "                cle = f\"Four {numFours-1}\" \n",
    "                PFC_Consomvalues_dict[cle].append(PFC_Consom)\n",
    "                Mgvalues_dict[cle].append(Mg)\n",
    "                times_dict[cle].append(t)\n",
    "\n",
    "\n",
    "\n",
    "            if PFC_Consom > PFCmax :\n",
    "                print(\"On a depasser pas la capacité du Fours de Coulée\")\n",
    "            \n",
    "            Mg, PFC_Consom, etat = Consommation(Mg, PFC_Consom, quantite_moules_a_produire, cadence_consommation_kg_min, cadence_moule_par_minute)\n",
    "            \n",
    "\n",
    "    elif etat == \"etat_Serie\":\n",
    "        # print(\"Changement de Serie\")\n",
    "        Mg -= eC\n",
    "        temps_serie_courant -= 1\n",
    "        \n",
    "        if temps_serie_courant <= 0:\n",
    "            etat = \"etat_Consom\"\n",
    "            if  debut < t and  t < fin :\n",
    "                print(\"Fin Temps Serie\",Mg, PFC_Consom, cadence_consommation_kg_min,quantite_moules_restants)\n",
    "            temps_serie_courant = temps_serie\n",
    "        else:\n",
    "            etat == \"etat_Serie\" \n",
    "\n",
    "\n",
    "    elif etat == \"etat_Panne\":\n",
    "        Mg -= eC\n",
    "        temps_Panne_courant -= 1\n",
    "        \n",
    "        if temps_Panne_courant <= 0:\n",
    "            etat = \"etat_Consom\"\n",
    "            if  debut < t and  t < fin :\n",
    "                print(\"Fin Panne\",Mg, PFC_Consom, cadence_consommation_kg_min,quantite_moules_restants)\n",
    "            temps_Panne_courant = temps_Panne\n",
    "        else:\n",
    "            etat == \"etat_Panne\"\n",
    "\n",
    "    elif etat == \"etat_Fin\":\n",
    "        break\n",
    "    \n",
    "    # Mise à jour du temps\n",
    "    t += 1\n",
    "    cle = \"Four 1\"\n",
    "    cle = f\"Four {numFours}\" \n",
    "    PFC_Consomvalues_dict[cle].append(PFC_Consom)\n",
    "    Mgvalues_dict[cle].append(Mg)\n",
    "    times_dict[cle].append(t)\n",
    "\n",
    "\n",
    "\n",
    "\n",
    "# Affichage des résultats finaux ou mise à jour des dictionnaires\n",
    "print(\"Résultats finaux ou mises à jour des dictionnaires : \")\n",
    "print(\"times_dict : \", times_dict)\n",
    "print(\"PFC_Consomvalues_dict : \", PFC_Consomvalues_dict)\n",
    "print(\"Mgvalues_dict : \", Mgvalues_dict)"
   ]
  },
  {
   "cell_type": "code",
   "execution_count": 22,
   "metadata": {},
   "outputs": [
    {
     "data": {
      "application/vnd.plotly.v1+json": {
       "config": {
        "plotlyServerURL": "https://plot.ly"
       },
       "data": [
        {
         "line": {
          "color": "royalblue"
         },
         "mode": "lines",
         "name": "PFC over time (chargement_et_fusion)",
         "type": "scatter",
         "x": [],
         "y": []
        },
        {
         "line": {
          "color": "firebrick"
         },
         "mode": "lines",
         "name": "PFC over time (Four 1)",
         "type": "scatter",
         "x": [
          1,
          2,
          3,
          4,
          5,
          6,
          7,
          8,
          9,
          10,
          11,
          12,
          13,
          14,
          15,
          16,
          17,
          18,
          19,
          19
         ],
         "y": [
          3619.5333333333333,
          3489.0666666666666,
          3358.6,
          3228.133333333333,
          3097.6666666666665,
          2967.2,
          2836.733333333333,
          2706.2666666666664,
          2575.7999999999997,
          3695.333333333333,
          3564.8666666666663,
          3434.3999999999996,
          3303.933333333333,
          3173.4666666666662,
          3042.9999999999995,
          2912.533333333333,
          2782.066666666666,
          2651.5999999999995,
          2521.1333333333328,
          3771.1333333333328
         ]
        },
        {
         "line": {
          "color": "green"
         },
         "mode": "lines",
         "name": "PFC over time (Four 2)",
         "type": "scatter",
         "x": [
          20,
          21,
          22,
          23,
          24,
          25,
          26,
          27,
          28,
          29,
          30,
          31,
          32,
          33,
          34,
          35,
          36,
          37,
          38,
          39,
          40,
          41,
          42,
          43,
          44,
          45,
          46,
          47,
          48,
          49,
          50,
          51,
          52,
          53,
          54,
          55,
          56,
          57,
          58,
          59,
          60,
          61,
          62,
          63,
          64,
          65,
          66,
          67,
          68,
          69,
          70,
          71,
          72,
          73,
          74,
          75,
          76,
          76
         ],
         "y": [
          3640.666666666666,
          3510.1999999999994,
          3379.7333333333327,
          3249.266666666666,
          3118.7999999999993,
          2988.3333333333326,
          2857.866666666666,
          2727.399999999999,
          2596.9333333333325,
          3716.466666666666,
          3585.999999999999,
          3455.5333333333324,
          3325.0666666666657,
          3194.599999999999,
          3064.1333333333323,
          2933.6666666666656,
          2803.199999999999,
          2672.733333333332,
          2542.2666666666655,
          3661.799999999999,
          3661.799999999999,
          3661.799999999999,
          3661.799999999999,
          3661.799999999999,
          3661.799999999999,
          3661.799999999999,
          3661.799999999999,
          3661.799999999999,
          3661.799999999999,
          3661.799999999999,
          3537.159999999999,
          3412.519999999999,
          3287.879999999999,
          3163.2399999999993,
          3038.5999999999995,
          2913.9599999999996,
          2789.3199999999997,
          2664.68,
          3790.04,
          3665.4,
          3540.76,
          3416.1200000000003,
          3291.4800000000005,
          3166.8400000000006,
          3042.2000000000007,
          2917.560000000001,
          2917.560000000001,
          2917.560000000001,
          2917.560000000001,
          2917.560000000001,
          2917.560000000001,
          2917.560000000001,
          2917.560000000001,
          2917.560000000001,
          2917.560000000001,
          2917.560000000001,
          2868.1600000000008,
          4118.160000000001
         ]
        },
        {
         "line": {
          "color": "orange"
         },
         "mode": "lines",
         "name": "PFC over time (Four 3)",
         "type": "scatter",
         "x": [
          77,
          78,
          79,
          80,
          81,
          82,
          83,
          84,
          85,
          86,
          87,
          88,
          89,
          90,
          91,
          92,
          93,
          94,
          95,
          96,
          97,
          98,
          99,
          100,
          101,
          102,
          103,
          104,
          105,
          106,
          107,
          108,
          109,
          110,
          111,
          112,
          113,
          114,
          115,
          116,
          117,
          118,
          119,
          120,
          121,
          122,
          123,
          124,
          125,
          126,
          127,
          128,
          129,
          130,
          131,
          132,
          133,
          134,
          135,
          136,
          137,
          138,
          139,
          140,
          141,
          142,
          143,
          144,
          145,
          146,
          147,
          148,
          149,
          150,
          151,
          152,
          153,
          154,
          154
         ],
         "y": [
          4068.7600000000007,
          4019.3600000000006,
          3969.9600000000005,
          3920.5600000000004,
          3871.1600000000003,
          3821.76,
          3772.36,
          3722.96,
          3673.56,
          3624.16,
          3574.7599999999998,
          3574.7599999999998,
          3574.7599999999998,
          3574.7599999999998,
          3574.7599999999998,
          3574.7599999999998,
          3574.7599999999998,
          3574.7599999999998,
          3574.7599999999998,
          3574.7599999999998,
          3574.7599999999998,
          4754.97,
          4685.18,
          4615.39,
          4615.39,
          4615.39,
          4615.39,
          4615.39,
          4615.39,
          4615.39,
          4615.39,
          4615.39,
          4615.39,
          4615.39,
          4484.923333333334,
          4354.456666666668,
          4223.990000000002,
          4093.523333333335,
          3963.056666666668,
          3832.5900000000015,
          4952.123333333336,
          4821.6566666666695,
          4691.190000000003,
          4560.723333333337,
          4430.256666666671,
          4299.7900000000045,
          4169.323333333338,
          4038.8566666666716,
          3908.390000000005,
          3777.923333333338,
          3647.4566666666715,
          3516.990000000005,
          3386.523333333338,
          3256.0566666666714,
          3125.5900000000047,
          2995.123333333338,
          2864.6566666666713,
          2734.1900000000046,
          2603.723333333338,
          3723.256666666671,
          3592.7900000000045,
          3462.323333333338,
          3331.856666666671,
          3201.3900000000044,
          3070.9233333333377,
          2940.456666666671,
          2940.456666666671,
          2940.456666666671,
          2940.456666666671,
          2940.456666666671,
          2940.456666666671,
          2940.456666666671,
          2940.456666666671,
          2940.456666666671,
          2940.456666666671,
          2940.456666666671,
          2815.816666666671,
          2691.1766666666713,
          3941.1766666666713
         ]
        },
        {
         "line": {
          "color": "purple"
         },
         "mode": "lines",
         "name": "PFC over time (Four 4)",
         "type": "scatter",
         "x": [
          155,
          156,
          157,
          158,
          159,
          160,
          161,
          162,
          163,
          164,
          165,
          166,
          167,
          168,
          169,
          170,
          171,
          172,
          173,
          174,
          175,
          176,
          177,
          178,
          179,
          180,
          181,
          182,
          183,
          184,
          185,
          186,
          187,
          188,
          189,
          190,
          191,
          192,
          193,
          194,
          195,
          196,
          197,
          198,
          199,
          200,
          201,
          202,
          203,
          204,
          205,
          206,
          207,
          208,
          209,
          210,
          211,
          212,
          213,
          214,
          215,
          216,
          217,
          218,
          219,
          220,
          221,
          222,
          223,
          224,
          225,
          226,
          226
         ],
         "y": [
          3816.5366666666714,
          3691.8966666666715,
          3567.2566666666717,
          3442.616666666672,
          3317.976666666672,
          3193.336666666672,
          3068.696666666672,
          2944.0566666666723,
          2819.4166666666724,
          2694.7766666666726,
          2570.1366666666727,
          3695.496666666673,
          3570.856666666673,
          3446.216666666673,
          3446.216666666673,
          3446.216666666673,
          3446.216666666673,
          3446.216666666673,
          3446.216666666673,
          3446.216666666673,
          3446.216666666673,
          3446.216666666673,
          3446.216666666673,
          3446.216666666673,
          3396.816666666673,
          3347.416666666673,
          3298.016666666673,
          3248.6166666666727,
          3199.2166666666726,
          3149.8166666666725,
          4350.416666666673,
          4301.016666666674,
          4251.616666666674,
          4202.216666666674,
          4152.816666666675,
          4103.416666666675,
          4103.416666666675,
          4103.416666666675,
          4103.416666666675,
          4103.416666666675,
          4103.416666666675,
          4103.416666666675,
          4103.416666666675,
          4103.416666666675,
          4103.416666666675,
          4103.416666666675,
          3972.9500000000085,
          3842.4833333333418,
          3712.016666666675,
          4831.550000000009,
          4701.083333333343,
          4570.616666666677,
          4440.150000000011,
          4309.683333333344,
          4179.216666666678,
          4048.7500000000114,
          3918.2833333333447,
          3787.816666666678,
          3657.3500000000113,
          3526.8833333333446,
          3396.416666666678,
          3265.950000000011,
          3265.950000000011,
          3265.950000000011,
          3265.950000000011,
          3265.950000000011,
          3265.950000000011,
          3265.950000000011,
          3265.950000000011,
          3265.950000000011,
          3265.950000000011,
          3265.950000000011,
          4515.950000000012
         ]
        },
        {
         "line": {
          "color": "royalblue"
         },
         "mode": "lines",
         "name": "PFC over time (Four 5)",
         "type": "scatter",
         "x": [
          227,
          228,
          229,
          230,
          231,
          232,
          233,
          234,
          235,
          236,
          237,
          238,
          239
         ],
         "y": [
          4422.058333333345,
          4328.166666666679,
          4234.275000000012,
          4140.383333333346,
          4046.4916666666795,
          3952.600000000013,
          3858.7083333333467,
          3764.8166666666802,
          3670.925000000014,
          3577.0333333333474,
          3483.141666666681,
          3389.2500000000146,
          3295.358333333348
         ]
        }
       ],
       "layout": {
        "annotations": [
         {
          "arrowhead": 2,
          "ax": 20,
          "ay": -30,
          "showarrow": true,
          "text": "PFCmin",
          "x": 19,
          "xref": "x",
          "y": 2500,
          "yref": "y"
         },
         {
          "arrowhead": 2,
          "ax": 20,
          "ay": -30,
          "showarrow": true,
          "text": "PFCmax",
          "x": 19,
          "xref": "x",
          "y": 5000,
          "yref": "y"
         }
        ],
        "shapes": [
         {
          "line": {
           "color": "firebrick",
           "dash": "dash",
           "width": 2
          },
          "name": "PFCmin",
          "type": "line",
          "x0": 1,
          "x1": 19,
          "y0": 2500,
          "y1": 2500
         },
         {
          "line": {
           "color": "green",
           "dash": "dash",
           "width": 2
          },
          "name": "PFCmax",
          "type": "line",
          "x0": 1,
          "x1": 19,
          "y0": 5000,
          "y1": 5000
         }
        ],
        "showlegend": true,
        "template": {
         "data": {
          "bar": [
           {
            "error_x": {
             "color": "#2a3f5f"
            },
            "error_y": {
             "color": "#2a3f5f"
            },
            "marker": {
             "line": {
              "color": "#E5ECF6",
              "width": 0.5
             },
             "pattern": {
              "fillmode": "overlay",
              "size": 10,
              "solidity": 0.2
             }
            },
            "type": "bar"
           }
          ],
          "barpolar": [
           {
            "marker": {
             "line": {
              "color": "#E5ECF6",
              "width": 0.5
             },
             "pattern": {
              "fillmode": "overlay",
              "size": 10,
              "solidity": 0.2
             }
            },
            "type": "barpolar"
           }
          ],
          "carpet": [
           {
            "aaxis": {
             "endlinecolor": "#2a3f5f",
             "gridcolor": "white",
             "linecolor": "white",
             "minorgridcolor": "white",
             "startlinecolor": "#2a3f5f"
            },
            "baxis": {
             "endlinecolor": "#2a3f5f",
             "gridcolor": "white",
             "linecolor": "white",
             "minorgridcolor": "white",
             "startlinecolor": "#2a3f5f"
            },
            "type": "carpet"
           }
          ],
          "choropleth": [
           {
            "colorbar": {
             "outlinewidth": 0,
             "ticks": ""
            },
            "type": "choropleth"
           }
          ],
          "contour": [
           {
            "colorbar": {
             "outlinewidth": 0,
             "ticks": ""
            },
            "colorscale": [
             [
              0,
              "#0d0887"
             ],
             [
              0.1111111111111111,
              "#46039f"
             ],
             [
              0.2222222222222222,
              "#7201a8"
             ],
             [
              0.3333333333333333,
              "#9c179e"
             ],
             [
              0.4444444444444444,
              "#bd3786"
             ],
             [
              0.5555555555555556,
              "#d8576b"
             ],
             [
              0.6666666666666666,
              "#ed7953"
             ],
             [
              0.7777777777777778,
              "#fb9f3a"
             ],
             [
              0.8888888888888888,
              "#fdca26"
             ],
             [
              1,
              "#f0f921"
             ]
            ],
            "type": "contour"
           }
          ],
          "contourcarpet": [
           {
            "colorbar": {
             "outlinewidth": 0,
             "ticks": ""
            },
            "type": "contourcarpet"
           }
          ],
          "heatmap": [
           {
            "colorbar": {
             "outlinewidth": 0,
             "ticks": ""
            },
            "colorscale": [
             [
              0,
              "#0d0887"
             ],
             [
              0.1111111111111111,
              "#46039f"
             ],
             [
              0.2222222222222222,
              "#7201a8"
             ],
             [
              0.3333333333333333,
              "#9c179e"
             ],
             [
              0.4444444444444444,
              "#bd3786"
             ],
             [
              0.5555555555555556,
              "#d8576b"
             ],
             [
              0.6666666666666666,
              "#ed7953"
             ],
             [
              0.7777777777777778,
              "#fb9f3a"
             ],
             [
              0.8888888888888888,
              "#fdca26"
             ],
             [
              1,
              "#f0f921"
             ]
            ],
            "type": "heatmap"
           }
          ],
          "heatmapgl": [
           {
            "colorbar": {
             "outlinewidth": 0,
             "ticks": ""
            },
            "colorscale": [
             [
              0,
              "#0d0887"
             ],
             [
              0.1111111111111111,
              "#46039f"
             ],
             [
              0.2222222222222222,
              "#7201a8"
             ],
             [
              0.3333333333333333,
              "#9c179e"
             ],
             [
              0.4444444444444444,
              "#bd3786"
             ],
             [
              0.5555555555555556,
              "#d8576b"
             ],
             [
              0.6666666666666666,
              "#ed7953"
             ],
             [
              0.7777777777777778,
              "#fb9f3a"
             ],
             [
              0.8888888888888888,
              "#fdca26"
             ],
             [
              1,
              "#f0f921"
             ]
            ],
            "type": "heatmapgl"
           }
          ],
          "histogram": [
           {
            "marker": {
             "pattern": {
              "fillmode": "overlay",
              "size": 10,
              "solidity": 0.2
             }
            },
            "type": "histogram"
           }
          ],
          "histogram2d": [
           {
            "colorbar": {
             "outlinewidth": 0,
             "ticks": ""
            },
            "colorscale": [
             [
              0,
              "#0d0887"
             ],
             [
              0.1111111111111111,
              "#46039f"
             ],
             [
              0.2222222222222222,
              "#7201a8"
             ],
             [
              0.3333333333333333,
              "#9c179e"
             ],
             [
              0.4444444444444444,
              "#bd3786"
             ],
             [
              0.5555555555555556,
              "#d8576b"
             ],
             [
              0.6666666666666666,
              "#ed7953"
             ],
             [
              0.7777777777777778,
              "#fb9f3a"
             ],
             [
              0.8888888888888888,
              "#fdca26"
             ],
             [
              1,
              "#f0f921"
             ]
            ],
            "type": "histogram2d"
           }
          ],
          "histogram2dcontour": [
           {
            "colorbar": {
             "outlinewidth": 0,
             "ticks": ""
            },
            "colorscale": [
             [
              0,
              "#0d0887"
             ],
             [
              0.1111111111111111,
              "#46039f"
             ],
             [
              0.2222222222222222,
              "#7201a8"
             ],
             [
              0.3333333333333333,
              "#9c179e"
             ],
             [
              0.4444444444444444,
              "#bd3786"
             ],
             [
              0.5555555555555556,
              "#d8576b"
             ],
             [
              0.6666666666666666,
              "#ed7953"
             ],
             [
              0.7777777777777778,
              "#fb9f3a"
             ],
             [
              0.8888888888888888,
              "#fdca26"
             ],
             [
              1,
              "#f0f921"
             ]
            ],
            "type": "histogram2dcontour"
           }
          ],
          "mesh3d": [
           {
            "colorbar": {
             "outlinewidth": 0,
             "ticks": ""
            },
            "type": "mesh3d"
           }
          ],
          "parcoords": [
           {
            "line": {
             "colorbar": {
              "outlinewidth": 0,
              "ticks": ""
             }
            },
            "type": "parcoords"
           }
          ],
          "pie": [
           {
            "automargin": true,
            "type": "pie"
           }
          ],
          "scatter": [
           {
            "fillpattern": {
             "fillmode": "overlay",
             "size": 10,
             "solidity": 0.2
            },
            "type": "scatter"
           }
          ],
          "scatter3d": [
           {
            "line": {
             "colorbar": {
              "outlinewidth": 0,
              "ticks": ""
             }
            },
            "marker": {
             "colorbar": {
              "outlinewidth": 0,
              "ticks": ""
             }
            },
            "type": "scatter3d"
           }
          ],
          "scattercarpet": [
           {
            "marker": {
             "colorbar": {
              "outlinewidth": 0,
              "ticks": ""
             }
            },
            "type": "scattercarpet"
           }
          ],
          "scattergeo": [
           {
            "marker": {
             "colorbar": {
              "outlinewidth": 0,
              "ticks": ""
             }
            },
            "type": "scattergeo"
           }
          ],
          "scattergl": [
           {
            "marker": {
             "colorbar": {
              "outlinewidth": 0,
              "ticks": ""
             }
            },
            "type": "scattergl"
           }
          ],
          "scattermapbox": [
           {
            "marker": {
             "colorbar": {
              "outlinewidth": 0,
              "ticks": ""
             }
            },
            "type": "scattermapbox"
           }
          ],
          "scatterpolar": [
           {
            "marker": {
             "colorbar": {
              "outlinewidth": 0,
              "ticks": ""
             }
            },
            "type": "scatterpolar"
           }
          ],
          "scatterpolargl": [
           {
            "marker": {
             "colorbar": {
              "outlinewidth": 0,
              "ticks": ""
             }
            },
            "type": "scatterpolargl"
           }
          ],
          "scatterternary": [
           {
            "marker": {
             "colorbar": {
              "outlinewidth": 0,
              "ticks": ""
             }
            },
            "type": "scatterternary"
           }
          ],
          "surface": [
           {
            "colorbar": {
             "outlinewidth": 0,
             "ticks": ""
            },
            "colorscale": [
             [
              0,
              "#0d0887"
             ],
             [
              0.1111111111111111,
              "#46039f"
             ],
             [
              0.2222222222222222,
              "#7201a8"
             ],
             [
              0.3333333333333333,
              "#9c179e"
             ],
             [
              0.4444444444444444,
              "#bd3786"
             ],
             [
              0.5555555555555556,
              "#d8576b"
             ],
             [
              0.6666666666666666,
              "#ed7953"
             ],
             [
              0.7777777777777778,
              "#fb9f3a"
             ],
             [
              0.8888888888888888,
              "#fdca26"
             ],
             [
              1,
              "#f0f921"
             ]
            ],
            "type": "surface"
           }
          ],
          "table": [
           {
            "cells": {
             "fill": {
              "color": "#EBF0F8"
             },
             "line": {
              "color": "white"
             }
            },
            "header": {
             "fill": {
              "color": "#C8D4E3"
             },
             "line": {
              "color": "white"
             }
            },
            "type": "table"
           }
          ]
         },
         "layout": {
          "annotationdefaults": {
           "arrowcolor": "#2a3f5f",
           "arrowhead": 0,
           "arrowwidth": 1
          },
          "autotypenumbers": "strict",
          "coloraxis": {
           "colorbar": {
            "outlinewidth": 0,
            "ticks": ""
           }
          },
          "colorscale": {
           "diverging": [
            [
             0,
             "#8e0152"
            ],
            [
             0.1,
             "#c51b7d"
            ],
            [
             0.2,
             "#de77ae"
            ],
            [
             0.3,
             "#f1b6da"
            ],
            [
             0.4,
             "#fde0ef"
            ],
            [
             0.5,
             "#f7f7f7"
            ],
            [
             0.6,
             "#e6f5d0"
            ],
            [
             0.7,
             "#b8e186"
            ],
            [
             0.8,
             "#7fbc41"
            ],
            [
             0.9,
             "#4d9221"
            ],
            [
             1,
             "#276419"
            ]
           ],
           "sequential": [
            [
             0,
             "#0d0887"
            ],
            [
             0.1111111111111111,
             "#46039f"
            ],
            [
             0.2222222222222222,
             "#7201a8"
            ],
            [
             0.3333333333333333,
             "#9c179e"
            ],
            [
             0.4444444444444444,
             "#bd3786"
            ],
            [
             0.5555555555555556,
             "#d8576b"
            ],
            [
             0.6666666666666666,
             "#ed7953"
            ],
            [
             0.7777777777777778,
             "#fb9f3a"
            ],
            [
             0.8888888888888888,
             "#fdca26"
            ],
            [
             1,
             "#f0f921"
            ]
           ],
           "sequentialminus": [
            [
             0,
             "#0d0887"
            ],
            [
             0.1111111111111111,
             "#46039f"
            ],
            [
             0.2222222222222222,
             "#7201a8"
            ],
            [
             0.3333333333333333,
             "#9c179e"
            ],
            [
             0.4444444444444444,
             "#bd3786"
            ],
            [
             0.5555555555555556,
             "#d8576b"
            ],
            [
             0.6666666666666666,
             "#ed7953"
            ],
            [
             0.7777777777777778,
             "#fb9f3a"
            ],
            [
             0.8888888888888888,
             "#fdca26"
            ],
            [
             1,
             "#f0f921"
            ]
           ]
          },
          "colorway": [
           "#636efa",
           "#EF553B",
           "#00cc96",
           "#ab63fa",
           "#FFA15A",
           "#19d3f3",
           "#FF6692",
           "#B6E880",
           "#FF97FF",
           "#FECB52"
          ],
          "font": {
           "color": "#2a3f5f"
          },
          "geo": {
           "bgcolor": "white",
           "lakecolor": "white",
           "landcolor": "#E5ECF6",
           "showlakes": true,
           "showland": true,
           "subunitcolor": "white"
          },
          "hoverlabel": {
           "align": "left"
          },
          "hovermode": "closest",
          "mapbox": {
           "style": "light"
          },
          "paper_bgcolor": "white",
          "plot_bgcolor": "#E5ECF6",
          "polar": {
           "angularaxis": {
            "gridcolor": "white",
            "linecolor": "white",
            "ticks": ""
           },
           "bgcolor": "#E5ECF6",
           "radialaxis": {
            "gridcolor": "white",
            "linecolor": "white",
            "ticks": ""
           }
          },
          "scene": {
           "xaxis": {
            "backgroundcolor": "#E5ECF6",
            "gridcolor": "white",
            "gridwidth": 2,
            "linecolor": "white",
            "showbackground": true,
            "ticks": "",
            "zerolinecolor": "white"
           },
           "yaxis": {
            "backgroundcolor": "#E5ECF6",
            "gridcolor": "white",
            "gridwidth": 2,
            "linecolor": "white",
            "showbackground": true,
            "ticks": "",
            "zerolinecolor": "white"
           },
           "zaxis": {
            "backgroundcolor": "#E5ECF6",
            "gridcolor": "white",
            "gridwidth": 2,
            "linecolor": "white",
            "showbackground": true,
            "ticks": "",
            "zerolinecolor": "white"
           }
          },
          "shapedefaults": {
           "line": {
            "color": "#2a3f5f"
           }
          },
          "ternary": {
           "aaxis": {
            "gridcolor": "white",
            "linecolor": "white",
            "ticks": ""
           },
           "baxis": {
            "gridcolor": "white",
            "linecolor": "white",
            "ticks": ""
           },
           "bgcolor": "#E5ECF6",
           "caxis": {
            "gridcolor": "white",
            "linecolor": "white",
            "ticks": ""
           }
          },
          "title": {
           "x": 0.05
          },
          "xaxis": {
           "automargin": true,
           "gridcolor": "white",
           "linecolor": "white",
           "ticks": "",
           "title": {
            "standoff": 15
           },
           "zerolinecolor": "white",
           "zerolinewidth": 2
          },
          "yaxis": {
           "automargin": true,
           "gridcolor": "white",
           "linecolor": "white",
           "ticks": "",
           "title": {
            "standoff": 15
           },
           "zerolinecolor": "white",
           "zerolinewidth": 2
          }
         }
        },
        "title": {
         "text": "Evolution de la fonte dans le Four de Coulée au cours du temps (PFC)"
        },
        "xaxis": {
         "title": {
          "text": "Time (minutes)"
         }
        },
        "yaxis": {
         "title": {
          "text": "PFC (kg)"
         }
        }
       }
      },
      "text/html": [
       "<div>                            <div id=\"6fa0cc83-dc1f-4318-b5e9-3dbfea34d03c\" class=\"plotly-graph-div\" style=\"height:525px; width:100%;\"></div>            <script type=\"text/javascript\">                require([\"plotly\"], function(Plotly) {                    window.PLOTLYENV=window.PLOTLYENV || {};                                    if (document.getElementById(\"6fa0cc83-dc1f-4318-b5e9-3dbfea34d03c\")) {                    Plotly.newPlot(                        \"6fa0cc83-dc1f-4318-b5e9-3dbfea34d03c\",                        [{\"line\":{\"color\":\"royalblue\"},\"mode\":\"lines\",\"name\":\"PFC over time (chargement_et_fusion)\",\"x\":[],\"y\":[],\"type\":\"scatter\"},{\"line\":{\"color\":\"firebrick\"},\"mode\":\"lines\",\"name\":\"PFC over time (Four 1)\",\"x\":[1,2,3,4,5,6,7,8,9,10,11,12,13,14,15,16,17,18,19,19],\"y\":[3619.5333333333333,3489.0666666666666,3358.6,3228.133333333333,3097.6666666666665,2967.2,2836.733333333333,2706.2666666666664,2575.7999999999997,3695.333333333333,3564.8666666666663,3434.3999999999996,3303.933333333333,3173.4666666666662,3042.9999999999995,2912.533333333333,2782.066666666666,2651.5999999999995,2521.1333333333328,3771.1333333333328],\"type\":\"scatter\"},{\"line\":{\"color\":\"green\"},\"mode\":\"lines\",\"name\":\"PFC over time (Four 2)\",\"x\":[20,21,22,23,24,25,26,27,28,29,30,31,32,33,34,35,36,37,38,39,40,41,42,43,44,45,46,47,48,49,50,51,52,53,54,55,56,57,58,59,60,61,62,63,64,65,66,67,68,69,70,71,72,73,74,75,76,76],\"y\":[3640.666666666666,3510.1999999999994,3379.7333333333327,3249.266666666666,3118.7999999999993,2988.3333333333326,2857.866666666666,2727.399999999999,2596.9333333333325,3716.466666666666,3585.999999999999,3455.5333333333324,3325.0666666666657,3194.599999999999,3064.1333333333323,2933.6666666666656,2803.199999999999,2672.733333333332,2542.2666666666655,3661.799999999999,3661.799999999999,3661.799999999999,3661.799999999999,3661.799999999999,3661.799999999999,3661.799999999999,3661.799999999999,3661.799999999999,3661.799999999999,3661.799999999999,3537.159999999999,3412.519999999999,3287.879999999999,3163.2399999999993,3038.5999999999995,2913.9599999999996,2789.3199999999997,2664.68,3790.04,3665.4,3540.76,3416.1200000000003,3291.4800000000005,3166.8400000000006,3042.2000000000007,2917.560000000001,2917.560000000001,2917.560000000001,2917.560000000001,2917.560000000001,2917.560000000001,2917.560000000001,2917.560000000001,2917.560000000001,2917.560000000001,2917.560000000001,2868.1600000000008,4118.160000000001],\"type\":\"scatter\"},{\"line\":{\"color\":\"orange\"},\"mode\":\"lines\",\"name\":\"PFC over time (Four 3)\",\"x\":[77,78,79,80,81,82,83,84,85,86,87,88,89,90,91,92,93,94,95,96,97,98,99,100,101,102,103,104,105,106,107,108,109,110,111,112,113,114,115,116,117,118,119,120,121,122,123,124,125,126,127,128,129,130,131,132,133,134,135,136,137,138,139,140,141,142,143,144,145,146,147,148,149,150,151,152,153,154,154],\"y\":[4068.7600000000007,4019.3600000000006,3969.9600000000005,3920.5600000000004,3871.1600000000003,3821.76,3772.36,3722.96,3673.56,3624.16,3574.7599999999998,3574.7599999999998,3574.7599999999998,3574.7599999999998,3574.7599999999998,3574.7599999999998,3574.7599999999998,3574.7599999999998,3574.7599999999998,3574.7599999999998,3574.7599999999998,4754.97,4685.18,4615.39,4615.39,4615.39,4615.39,4615.39,4615.39,4615.39,4615.39,4615.39,4615.39,4615.39,4484.923333333334,4354.456666666668,4223.990000000002,4093.523333333335,3963.056666666668,3832.5900000000015,4952.123333333336,4821.6566666666695,4691.190000000003,4560.723333333337,4430.256666666671,4299.7900000000045,4169.323333333338,4038.8566666666716,3908.390000000005,3777.923333333338,3647.4566666666715,3516.990000000005,3386.523333333338,3256.0566666666714,3125.5900000000047,2995.123333333338,2864.6566666666713,2734.1900000000046,2603.723333333338,3723.256666666671,3592.7900000000045,3462.323333333338,3331.856666666671,3201.3900000000044,3070.9233333333377,2940.456666666671,2940.456666666671,2940.456666666671,2940.456666666671,2940.456666666671,2940.456666666671,2940.456666666671,2940.456666666671,2940.456666666671,2940.456666666671,2940.456666666671,2815.816666666671,2691.1766666666713,3941.1766666666713],\"type\":\"scatter\"},{\"line\":{\"color\":\"purple\"},\"mode\":\"lines\",\"name\":\"PFC over time (Four 4)\",\"x\":[155,156,157,158,159,160,161,162,163,164,165,166,167,168,169,170,171,172,173,174,175,176,177,178,179,180,181,182,183,184,185,186,187,188,189,190,191,192,193,194,195,196,197,198,199,200,201,202,203,204,205,206,207,208,209,210,211,212,213,214,215,216,217,218,219,220,221,222,223,224,225,226,226],\"y\":[3816.5366666666714,3691.8966666666715,3567.2566666666717,3442.616666666672,3317.976666666672,3193.336666666672,3068.696666666672,2944.0566666666723,2819.4166666666724,2694.7766666666726,2570.1366666666727,3695.496666666673,3570.856666666673,3446.216666666673,3446.216666666673,3446.216666666673,3446.216666666673,3446.216666666673,3446.216666666673,3446.216666666673,3446.216666666673,3446.216666666673,3446.216666666673,3446.216666666673,3396.816666666673,3347.416666666673,3298.016666666673,3248.6166666666727,3199.2166666666726,3149.8166666666725,4350.416666666673,4301.016666666674,4251.616666666674,4202.216666666674,4152.816666666675,4103.416666666675,4103.416666666675,4103.416666666675,4103.416666666675,4103.416666666675,4103.416666666675,4103.416666666675,4103.416666666675,4103.416666666675,4103.416666666675,4103.416666666675,3972.9500000000085,3842.4833333333418,3712.016666666675,4831.550000000009,4701.083333333343,4570.616666666677,4440.150000000011,4309.683333333344,4179.216666666678,4048.7500000000114,3918.2833333333447,3787.816666666678,3657.3500000000113,3526.8833333333446,3396.416666666678,3265.950000000011,3265.950000000011,3265.950000000011,3265.950000000011,3265.950000000011,3265.950000000011,3265.950000000011,3265.950000000011,3265.950000000011,3265.950000000011,3265.950000000011,4515.950000000012],\"type\":\"scatter\"},{\"line\":{\"color\":\"royalblue\"},\"mode\":\"lines\",\"name\":\"PFC over time (Four 5)\",\"x\":[227,228,229,230,231,232,233,234,235,236,237,238,239],\"y\":[4422.058333333345,4328.166666666679,4234.275000000012,4140.383333333346,4046.4916666666795,3952.600000000013,3858.7083333333467,3764.8166666666802,3670.925000000014,3577.0333333333474,3483.141666666681,3389.2500000000146,3295.358333333348],\"type\":\"scatter\"}],                        {\"template\":{\"data\":{\"histogram2dcontour\":[{\"type\":\"histogram2dcontour\",\"colorbar\":{\"outlinewidth\":0,\"ticks\":\"\"},\"colorscale\":[[0.0,\"#0d0887\"],[0.1111111111111111,\"#46039f\"],[0.2222222222222222,\"#7201a8\"],[0.3333333333333333,\"#9c179e\"],[0.4444444444444444,\"#bd3786\"],[0.5555555555555556,\"#d8576b\"],[0.6666666666666666,\"#ed7953\"],[0.7777777777777778,\"#fb9f3a\"],[0.8888888888888888,\"#fdca26\"],[1.0,\"#f0f921\"]]}],\"choropleth\":[{\"type\":\"choropleth\",\"colorbar\":{\"outlinewidth\":0,\"ticks\":\"\"}}],\"histogram2d\":[{\"type\":\"histogram2d\",\"colorbar\":{\"outlinewidth\":0,\"ticks\":\"\"},\"colorscale\":[[0.0,\"#0d0887\"],[0.1111111111111111,\"#46039f\"],[0.2222222222222222,\"#7201a8\"],[0.3333333333333333,\"#9c179e\"],[0.4444444444444444,\"#bd3786\"],[0.5555555555555556,\"#d8576b\"],[0.6666666666666666,\"#ed7953\"],[0.7777777777777778,\"#fb9f3a\"],[0.8888888888888888,\"#fdca26\"],[1.0,\"#f0f921\"]]}],\"heatmap\":[{\"type\":\"heatmap\",\"colorbar\":{\"outlinewidth\":0,\"ticks\":\"\"},\"colorscale\":[[0.0,\"#0d0887\"],[0.1111111111111111,\"#46039f\"],[0.2222222222222222,\"#7201a8\"],[0.3333333333333333,\"#9c179e\"],[0.4444444444444444,\"#bd3786\"],[0.5555555555555556,\"#d8576b\"],[0.6666666666666666,\"#ed7953\"],[0.7777777777777778,\"#fb9f3a\"],[0.8888888888888888,\"#fdca26\"],[1.0,\"#f0f921\"]]}],\"heatmapgl\":[{\"type\":\"heatmapgl\",\"colorbar\":{\"outlinewidth\":0,\"ticks\":\"\"},\"colorscale\":[[0.0,\"#0d0887\"],[0.1111111111111111,\"#46039f\"],[0.2222222222222222,\"#7201a8\"],[0.3333333333333333,\"#9c179e\"],[0.4444444444444444,\"#bd3786\"],[0.5555555555555556,\"#d8576b\"],[0.6666666666666666,\"#ed7953\"],[0.7777777777777778,\"#fb9f3a\"],[0.8888888888888888,\"#fdca26\"],[1.0,\"#f0f921\"]]}],\"contourcarpet\":[{\"type\":\"contourcarpet\",\"colorbar\":{\"outlinewidth\":0,\"ticks\":\"\"}}],\"contour\":[{\"type\":\"contour\",\"colorbar\":{\"outlinewidth\":0,\"ticks\":\"\"},\"colorscale\":[[0.0,\"#0d0887\"],[0.1111111111111111,\"#46039f\"],[0.2222222222222222,\"#7201a8\"],[0.3333333333333333,\"#9c179e\"],[0.4444444444444444,\"#bd3786\"],[0.5555555555555556,\"#d8576b\"],[0.6666666666666666,\"#ed7953\"],[0.7777777777777778,\"#fb9f3a\"],[0.8888888888888888,\"#fdca26\"],[1.0,\"#f0f921\"]]}],\"surface\":[{\"type\":\"surface\",\"colorbar\":{\"outlinewidth\":0,\"ticks\":\"\"},\"colorscale\":[[0.0,\"#0d0887\"],[0.1111111111111111,\"#46039f\"],[0.2222222222222222,\"#7201a8\"],[0.3333333333333333,\"#9c179e\"],[0.4444444444444444,\"#bd3786\"],[0.5555555555555556,\"#d8576b\"],[0.6666666666666666,\"#ed7953\"],[0.7777777777777778,\"#fb9f3a\"],[0.8888888888888888,\"#fdca26\"],[1.0,\"#f0f921\"]]}],\"mesh3d\":[{\"type\":\"mesh3d\",\"colorbar\":{\"outlinewidth\":0,\"ticks\":\"\"}}],\"scatter\":[{\"fillpattern\":{\"fillmode\":\"overlay\",\"size\":10,\"solidity\":0.2},\"type\":\"scatter\"}],\"parcoords\":[{\"type\":\"parcoords\",\"line\":{\"colorbar\":{\"outlinewidth\":0,\"ticks\":\"\"}}}],\"scatterpolargl\":[{\"type\":\"scatterpolargl\",\"marker\":{\"colorbar\":{\"outlinewidth\":0,\"ticks\":\"\"}}}],\"bar\":[{\"error_x\":{\"color\":\"#2a3f5f\"},\"error_y\":{\"color\":\"#2a3f5f\"},\"marker\":{\"line\":{\"color\":\"#E5ECF6\",\"width\":0.5},\"pattern\":{\"fillmode\":\"overlay\",\"size\":10,\"solidity\":0.2}},\"type\":\"bar\"}],\"scattergeo\":[{\"type\":\"scattergeo\",\"marker\":{\"colorbar\":{\"outlinewidth\":0,\"ticks\":\"\"}}}],\"scatterpolar\":[{\"type\":\"scatterpolar\",\"marker\":{\"colorbar\":{\"outlinewidth\":0,\"ticks\":\"\"}}}],\"histogram\":[{\"marker\":{\"pattern\":{\"fillmode\":\"overlay\",\"size\":10,\"solidity\":0.2}},\"type\":\"histogram\"}],\"scattergl\":[{\"type\":\"scattergl\",\"marker\":{\"colorbar\":{\"outlinewidth\":0,\"ticks\":\"\"}}}],\"scatter3d\":[{\"type\":\"scatter3d\",\"line\":{\"colorbar\":{\"outlinewidth\":0,\"ticks\":\"\"}},\"marker\":{\"colorbar\":{\"outlinewidth\":0,\"ticks\":\"\"}}}],\"scattermapbox\":[{\"type\":\"scattermapbox\",\"marker\":{\"colorbar\":{\"outlinewidth\":0,\"ticks\":\"\"}}}],\"scatterternary\":[{\"type\":\"scatterternary\",\"marker\":{\"colorbar\":{\"outlinewidth\":0,\"ticks\":\"\"}}}],\"scattercarpet\":[{\"type\":\"scattercarpet\",\"marker\":{\"colorbar\":{\"outlinewidth\":0,\"ticks\":\"\"}}}],\"carpet\":[{\"aaxis\":{\"endlinecolor\":\"#2a3f5f\",\"gridcolor\":\"white\",\"linecolor\":\"white\",\"minorgridcolor\":\"white\",\"startlinecolor\":\"#2a3f5f\"},\"baxis\":{\"endlinecolor\":\"#2a3f5f\",\"gridcolor\":\"white\",\"linecolor\":\"white\",\"minorgridcolor\":\"white\",\"startlinecolor\":\"#2a3f5f\"},\"type\":\"carpet\"}],\"table\":[{\"cells\":{\"fill\":{\"color\":\"#EBF0F8\"},\"line\":{\"color\":\"white\"}},\"header\":{\"fill\":{\"color\":\"#C8D4E3\"},\"line\":{\"color\":\"white\"}},\"type\":\"table\"}],\"barpolar\":[{\"marker\":{\"line\":{\"color\":\"#E5ECF6\",\"width\":0.5},\"pattern\":{\"fillmode\":\"overlay\",\"size\":10,\"solidity\":0.2}},\"type\":\"barpolar\"}],\"pie\":[{\"automargin\":true,\"type\":\"pie\"}]},\"layout\":{\"autotypenumbers\":\"strict\",\"colorway\":[\"#636efa\",\"#EF553B\",\"#00cc96\",\"#ab63fa\",\"#FFA15A\",\"#19d3f3\",\"#FF6692\",\"#B6E880\",\"#FF97FF\",\"#FECB52\"],\"font\":{\"color\":\"#2a3f5f\"},\"hovermode\":\"closest\",\"hoverlabel\":{\"align\":\"left\"},\"paper_bgcolor\":\"white\",\"plot_bgcolor\":\"#E5ECF6\",\"polar\":{\"bgcolor\":\"#E5ECF6\",\"angularaxis\":{\"gridcolor\":\"white\",\"linecolor\":\"white\",\"ticks\":\"\"},\"radialaxis\":{\"gridcolor\":\"white\",\"linecolor\":\"white\",\"ticks\":\"\"}},\"ternary\":{\"bgcolor\":\"#E5ECF6\",\"aaxis\":{\"gridcolor\":\"white\",\"linecolor\":\"white\",\"ticks\":\"\"},\"baxis\":{\"gridcolor\":\"white\",\"linecolor\":\"white\",\"ticks\":\"\"},\"caxis\":{\"gridcolor\":\"white\",\"linecolor\":\"white\",\"ticks\":\"\"}},\"coloraxis\":{\"colorbar\":{\"outlinewidth\":0,\"ticks\":\"\"}},\"colorscale\":{\"sequential\":[[0.0,\"#0d0887\"],[0.1111111111111111,\"#46039f\"],[0.2222222222222222,\"#7201a8\"],[0.3333333333333333,\"#9c179e\"],[0.4444444444444444,\"#bd3786\"],[0.5555555555555556,\"#d8576b\"],[0.6666666666666666,\"#ed7953\"],[0.7777777777777778,\"#fb9f3a\"],[0.8888888888888888,\"#fdca26\"],[1.0,\"#f0f921\"]],\"sequentialminus\":[[0.0,\"#0d0887\"],[0.1111111111111111,\"#46039f\"],[0.2222222222222222,\"#7201a8\"],[0.3333333333333333,\"#9c179e\"],[0.4444444444444444,\"#bd3786\"],[0.5555555555555556,\"#d8576b\"],[0.6666666666666666,\"#ed7953\"],[0.7777777777777778,\"#fb9f3a\"],[0.8888888888888888,\"#fdca26\"],[1.0,\"#f0f921\"]],\"diverging\":[[0,\"#8e0152\"],[0.1,\"#c51b7d\"],[0.2,\"#de77ae\"],[0.3,\"#f1b6da\"],[0.4,\"#fde0ef\"],[0.5,\"#f7f7f7\"],[0.6,\"#e6f5d0\"],[0.7,\"#b8e186\"],[0.8,\"#7fbc41\"],[0.9,\"#4d9221\"],[1,\"#276419\"]]},\"xaxis\":{\"gridcolor\":\"white\",\"linecolor\":\"white\",\"ticks\":\"\",\"title\":{\"standoff\":15},\"zerolinecolor\":\"white\",\"automargin\":true,\"zerolinewidth\":2},\"yaxis\":{\"gridcolor\":\"white\",\"linecolor\":\"white\",\"ticks\":\"\",\"title\":{\"standoff\":15},\"zerolinecolor\":\"white\",\"automargin\":true,\"zerolinewidth\":2},\"scene\":{\"xaxis\":{\"backgroundcolor\":\"#E5ECF6\",\"gridcolor\":\"white\",\"linecolor\":\"white\",\"showbackground\":true,\"ticks\":\"\",\"zerolinecolor\":\"white\",\"gridwidth\":2},\"yaxis\":{\"backgroundcolor\":\"#E5ECF6\",\"gridcolor\":\"white\",\"linecolor\":\"white\",\"showbackground\":true,\"ticks\":\"\",\"zerolinecolor\":\"white\",\"gridwidth\":2},\"zaxis\":{\"backgroundcolor\":\"#E5ECF6\",\"gridcolor\":\"white\",\"linecolor\":\"white\",\"showbackground\":true,\"ticks\":\"\",\"zerolinecolor\":\"white\",\"gridwidth\":2}},\"shapedefaults\":{\"line\":{\"color\":\"#2a3f5f\"}},\"annotationdefaults\":{\"arrowcolor\":\"#2a3f5f\",\"arrowhead\":0,\"arrowwidth\":1},\"geo\":{\"bgcolor\":\"white\",\"landcolor\":\"#E5ECF6\",\"subunitcolor\":\"white\",\"showland\":true,\"showlakes\":true,\"lakecolor\":\"white\"},\"title\":{\"x\":0.05},\"mapbox\":{\"style\":\"light\"}}},\"shapes\":[{\"line\":{\"color\":\"firebrick\",\"dash\":\"dash\",\"width\":2},\"name\":\"PFCmin\",\"type\":\"line\",\"x0\":1,\"x1\":19,\"y0\":2500,\"y1\":2500},{\"line\":{\"color\":\"green\",\"dash\":\"dash\",\"width\":2},\"name\":\"PFCmax\",\"type\":\"line\",\"x0\":1,\"x1\":19,\"y0\":5000,\"y1\":5000}],\"title\":{\"text\":\"Evolution de la fonte dans le Four de Coul\\u00e9e au cours du temps (PFC)\"},\"xaxis\":{\"title\":{\"text\":\"Time (minutes)\"}},\"yaxis\":{\"title\":{\"text\":\"PFC (kg)\"}},\"showlegend\":true,\"annotations\":[{\"arrowhead\":2,\"ax\":20,\"ay\":-30,\"showarrow\":true,\"text\":\"PFCmin\",\"x\":19,\"xref\":\"x\",\"y\":2500,\"yref\":\"y\"},{\"arrowhead\":2,\"ax\":20,\"ay\":-30,\"showarrow\":true,\"text\":\"PFCmax\",\"x\":19,\"xref\":\"x\",\"y\":5000,\"yref\":\"y\"}]},                        {\"responsive\": true}                    ).then(function(){\n",
       "                            \n",
       "var gd = document.getElementById('6fa0cc83-dc1f-4318-b5e9-3dbfea34d03c');\n",
       "var x = new MutationObserver(function (mutations, observer) {{\n",
       "        var display = window.getComputedStyle(gd).display;\n",
       "        if (!display || display === 'none') {{\n",
       "            console.log([gd, 'removed!']);\n",
       "            Plotly.purge(gd);\n",
       "            observer.disconnect();\n",
       "        }}\n",
       "}});\n",
       "\n",
       "// Listen for the removal of the full notebook cells\n",
       "var notebookContainer = gd.closest('#notebook-container');\n",
       "if (notebookContainer) {{\n",
       "    x.observe(notebookContainer, {childList: true});\n",
       "}}\n",
       "\n",
       "// Listen for the clearing of the current output cell\n",
       "var outputEl = gd.closest('.output');\n",
       "if (outputEl) {{\n",
       "    x.observe(outputEl, {childList: true});\n",
       "}}\n",
       "\n",
       "                        })                };                });            </script>        </div>"
      ]
     },
     "metadata": {},
     "output_type": "display_data"
    },
    {
     "data": {
      "application/vnd.plotly.v1+json": {
       "config": {
        "plotlyServerURL": "https://plot.ly"
       },
       "data": [
        {
         "line": {
          "color": "royalblue"
         },
         "mode": "lines",
         "name": "Mg over time (chargement_et_fusion)",
         "type": "scatter",
         "x": [],
         "y": []
        },
        {
         "line": {
          "color": "firebrick"
         },
         "mode": "lines",
         "name": "Mg over time (Four 1)",
         "type": "scatter",
         "x": [
          1,
          2,
          3,
          4,
          5,
          6,
          7,
          8,
          9,
          10,
          11,
          12,
          13,
          14,
          15,
          16,
          17,
          18,
          19,
          19
         ],
         "y": [
          0.0445,
          0.044,
          0.0435,
          0.043,
          0.042499999999999996,
          0.041999999999999996,
          0.041499999999999995,
          0.040999999999999995,
          0.040499999999999994,
          0.0445,
          0.044,
          0.0435,
          0.043,
          0.042499999999999996,
          0.041999999999999996,
          0.041499999999999995,
          0.040999999999999995,
          0.040499999999999994,
          0.039999999999999994,
          0.045
         ]
        },
        {
         "line": {
          "color": "green"
         },
         "mode": "lines",
         "name": "Mg over time (Four 2)",
         "type": "scatter",
         "x": [
          20,
          21,
          22,
          23,
          24,
          25,
          26,
          27,
          28,
          29,
          30,
          31,
          32,
          33,
          34,
          35,
          36,
          37,
          38,
          39,
          40,
          41,
          42,
          43,
          44,
          45,
          46,
          47,
          48,
          49,
          50,
          51,
          52,
          53,
          54,
          55,
          56,
          57,
          58,
          59,
          60,
          61,
          62,
          63,
          64,
          65,
          66,
          67,
          68,
          69,
          70,
          71,
          72,
          73,
          74,
          75,
          76,
          76
         ],
         "y": [
          0.0445,
          0.044,
          0.0435,
          0.043,
          0.042499999999999996,
          0.041999999999999996,
          0.041499999999999995,
          0.040999999999999995,
          0.040499999999999994,
          0.0445,
          0.044,
          0.0435,
          0.043,
          0.042499999999999996,
          0.041999999999999996,
          0.041499999999999995,
          0.040999999999999995,
          0.040499999999999994,
          0.039999999999999994,
          0.0445,
          0.044,
          0.0435,
          0.043,
          0.042499999999999996,
          0.041999999999999996,
          0.041499999999999995,
          0.040999999999999995,
          0.040499999999999994,
          0.039999999999999994,
          0.03949999999999999,
          0.03899999999999999,
          0.03849999999999999,
          0.03799999999999999,
          0.03749999999999999,
          0.03699999999999999,
          0.03649999999999999,
          0.03599999999999999,
          0.03549999999999999,
          0.0445,
          0.044,
          0.0435,
          0.043,
          0.042499999999999996,
          0.041999999999999996,
          0.041499999999999995,
          0.040999999999999995,
          0.040499999999999994,
          0.039999999999999994,
          0.03949999999999999,
          0.03899999999999999,
          0.03849999999999999,
          0.03799999999999999,
          0.03749999999999999,
          0.03699999999999999,
          0.03649999999999999,
          0.03599999999999999,
          0.03549999999999999,
          0.045
         ]
        },
        {
         "line": {
          "color": "orange"
         },
         "mode": "lines",
         "name": "Mg over time (Four 3)",
         "type": "scatter",
         "x": [
          77,
          78,
          79,
          80,
          81,
          82,
          83,
          84,
          85,
          86,
          87,
          88,
          89,
          90,
          91,
          92,
          93,
          94,
          95,
          96,
          97,
          98,
          99,
          100,
          101,
          102,
          103,
          104,
          105,
          106,
          107,
          108,
          109,
          110,
          111,
          112,
          113,
          114,
          115,
          116,
          117,
          118,
          119,
          120,
          121,
          122,
          123,
          124,
          125,
          126,
          127,
          128,
          129,
          130,
          131,
          132,
          133,
          134,
          135,
          136,
          137,
          138,
          139,
          140,
          141,
          142,
          143,
          144,
          145,
          146,
          147,
          148,
          149,
          150,
          151,
          152,
          153,
          154,
          154
         ],
         "y": [
          0.0445,
          0.044,
          0.0435,
          0.043,
          0.042499999999999996,
          0.041999999999999996,
          0.041499999999999995,
          0.040999999999999995,
          0.040499999999999994,
          0.039999999999999994,
          0.03949999999999999,
          0.03899999999999999,
          0.03849999999999999,
          0.03799999999999999,
          0.03749999999999999,
          0.03699999999999999,
          0.03649999999999999,
          0.03599999999999999,
          0.03549999999999999,
          0.03499999999999999,
          0.03449999999999999,
          0.0445,
          0.044,
          0.0435,
          0.043,
          0.042499999999999996,
          0.041999999999999996,
          0.041499999999999995,
          0.040999999999999995,
          0.040499999999999994,
          0.039999999999999994,
          0.03949999999999999,
          0.03899999999999999,
          0.03849999999999999,
          0.03799999999999999,
          0.03749999999999999,
          0.03699999999999999,
          0.03649999999999999,
          0.03599999999999999,
          0.03549999999999999,
          0.0445,
          0.044,
          0.0435,
          0.043,
          0.042499999999999996,
          0.041999999999999996,
          0.041499999999999995,
          0.040999999999999995,
          0.040499999999999994,
          0.039999999999999994,
          0.03949999999999999,
          0.03899999999999999,
          0.03849999999999999,
          0.03799999999999999,
          0.03749999999999999,
          0.03699999999999999,
          0.03649999999999999,
          0.03599999999999999,
          0.03549999999999999,
          0.0445,
          0.044,
          0.0435,
          0.043,
          0.042499999999999996,
          0.041999999999999996,
          0.041499999999999995,
          0.040999999999999995,
          0.040499999999999994,
          0.039999999999999994,
          0.03949999999999999,
          0.03899999999999999,
          0.03849999999999999,
          0.03799999999999999,
          0.03749999999999999,
          0.03699999999999999,
          0.03649999999999999,
          0.03599999999999999,
          0.03549999999999999,
          0.045
         ]
        },
        {
         "line": {
          "color": "purple"
         },
         "mode": "lines",
         "name": "Mg over time (Four 4)",
         "type": "scatter",
         "x": [
          155,
          156,
          157,
          158,
          159,
          160,
          161,
          162,
          163,
          164,
          165,
          166,
          167,
          168,
          169,
          170,
          171,
          172,
          173,
          174,
          175,
          176,
          177,
          178,
          179,
          180,
          181,
          182,
          183,
          184,
          185,
          186,
          187,
          188,
          189,
          190,
          191,
          192,
          193,
          194,
          195,
          196,
          197,
          198,
          199,
          200,
          201,
          202,
          203,
          204,
          205,
          206,
          207,
          208,
          209,
          210,
          211,
          212,
          213,
          214,
          215,
          216,
          217,
          218,
          219,
          220,
          221,
          222,
          223,
          224,
          225,
          226,
          226
         ],
         "y": [
          0.0445,
          0.044,
          0.0435,
          0.043,
          0.042499999999999996,
          0.041999999999999996,
          0.041499999999999995,
          0.040999999999999995,
          0.040499999999999994,
          0.039999999999999994,
          0.03949999999999999,
          0.0445,
          0.044,
          0.0435,
          0.043,
          0.042499999999999996,
          0.041999999999999996,
          0.041499999999999995,
          0.040999999999999995,
          0.040499999999999994,
          0.039999999999999994,
          0.03949999999999999,
          0.03899999999999999,
          0.03849999999999999,
          0.03799999999999999,
          0.03749999999999999,
          0.03699999999999999,
          0.03649999999999999,
          0.03599999999999999,
          0.03549999999999999,
          0.0445,
          0.044,
          0.0435,
          0.043,
          0.042499999999999996,
          0.041999999999999996,
          0.041499999999999995,
          0.040999999999999995,
          0.040499999999999994,
          0.039999999999999994,
          0.03949999999999999,
          0.03899999999999999,
          0.03849999999999999,
          0.03799999999999999,
          0.03749999999999999,
          0.03699999999999999,
          0.03649999999999999,
          0.03599999999999999,
          0.03549999999999999,
          0.0445,
          0.044,
          0.0435,
          0.043,
          0.042499999999999996,
          0.041999999999999996,
          0.041499999999999995,
          0.040999999999999995,
          0.040499999999999994,
          0.039999999999999994,
          0.03949999999999999,
          0.03899999999999999,
          0.03849999999999999,
          0.03799999999999999,
          0.03749999999999999,
          0.03699999999999999,
          0.03649999999999999,
          0.03599999999999999,
          0.03549999999999999,
          0.03499999999999999,
          0.03449999999999999,
          0.03399999999999999,
          0.03349999999999999,
          0.045
         ]
        },
        {
         "line": {
          "color": "royalblue"
         },
         "mode": "lines",
         "name": "Mg over time (Four 5)",
         "type": "scatter",
         "x": [
          227,
          228,
          229,
          230,
          231,
          232,
          233,
          234,
          235,
          236,
          237,
          238,
          239
         ],
         "y": [
          0.0445,
          0.044,
          0.0435,
          0.043,
          0.042499999999999996,
          0.041999999999999996,
          0.041499999999999995,
          0.040999999999999995,
          0.040499999999999994,
          0.039999999999999994,
          0.03949999999999999,
          0.03899999999999999,
          0.03849999999999999
         ]
        }
       ],
       "layout": {
        "annotations": [
         {
          "arrowhead": 2,
          "ax": 20,
          "ay": -30,
          "showarrow": true,
          "text": "Mgmin",
          "x": 19,
          "xref": "x",
          "y": 0.035,
          "yref": "y"
         },
         {
          "arrowhead": 2,
          "ax": 20,
          "ay": -30,
          "showarrow": true,
          "text": "Mgmax",
          "x": 19,
          "xref": "x",
          "y": 0.045,
          "yref": "y"
         }
        ],
        "shapes": [
         {
          "line": {
           "color": "firebrick",
           "dash": "dash",
           "width": 2
          },
          "name": "Mgmin",
          "type": "line",
          "x0": 1,
          "x1": 19,
          "y0": 0.035,
          "y1": 0.035
         },
         {
          "line": {
           "color": "green",
           "dash": "dash",
           "width": 2
          },
          "name": "Mgmax",
          "type": "line",
          "x0": 1,
          "x1": 19,
          "y0": 0.045,
          "y1": 0.045
         }
        ],
        "showlegend": true,
        "template": {
         "data": {
          "bar": [
           {
            "error_x": {
             "color": "#2a3f5f"
            },
            "error_y": {
             "color": "#2a3f5f"
            },
            "marker": {
             "line": {
              "color": "#E5ECF6",
              "width": 0.5
             },
             "pattern": {
              "fillmode": "overlay",
              "size": 10,
              "solidity": 0.2
             }
            },
            "type": "bar"
           }
          ],
          "barpolar": [
           {
            "marker": {
             "line": {
              "color": "#E5ECF6",
              "width": 0.5
             },
             "pattern": {
              "fillmode": "overlay",
              "size": 10,
              "solidity": 0.2
             }
            },
            "type": "barpolar"
           }
          ],
          "carpet": [
           {
            "aaxis": {
             "endlinecolor": "#2a3f5f",
             "gridcolor": "white",
             "linecolor": "white",
             "minorgridcolor": "white",
             "startlinecolor": "#2a3f5f"
            },
            "baxis": {
             "endlinecolor": "#2a3f5f",
             "gridcolor": "white",
             "linecolor": "white",
             "minorgridcolor": "white",
             "startlinecolor": "#2a3f5f"
            },
            "type": "carpet"
           }
          ],
          "choropleth": [
           {
            "colorbar": {
             "outlinewidth": 0,
             "ticks": ""
            },
            "type": "choropleth"
           }
          ],
          "contour": [
           {
            "colorbar": {
             "outlinewidth": 0,
             "ticks": ""
            },
            "colorscale": [
             [
              0,
              "#0d0887"
             ],
             [
              0.1111111111111111,
              "#46039f"
             ],
             [
              0.2222222222222222,
              "#7201a8"
             ],
             [
              0.3333333333333333,
              "#9c179e"
             ],
             [
              0.4444444444444444,
              "#bd3786"
             ],
             [
              0.5555555555555556,
              "#d8576b"
             ],
             [
              0.6666666666666666,
              "#ed7953"
             ],
             [
              0.7777777777777778,
              "#fb9f3a"
             ],
             [
              0.8888888888888888,
              "#fdca26"
             ],
             [
              1,
              "#f0f921"
             ]
            ],
            "type": "contour"
           }
          ],
          "contourcarpet": [
           {
            "colorbar": {
             "outlinewidth": 0,
             "ticks": ""
            },
            "type": "contourcarpet"
           }
          ],
          "heatmap": [
           {
            "colorbar": {
             "outlinewidth": 0,
             "ticks": ""
            },
            "colorscale": [
             [
              0,
              "#0d0887"
             ],
             [
              0.1111111111111111,
              "#46039f"
             ],
             [
              0.2222222222222222,
              "#7201a8"
             ],
             [
              0.3333333333333333,
              "#9c179e"
             ],
             [
              0.4444444444444444,
              "#bd3786"
             ],
             [
              0.5555555555555556,
              "#d8576b"
             ],
             [
              0.6666666666666666,
              "#ed7953"
             ],
             [
              0.7777777777777778,
              "#fb9f3a"
             ],
             [
              0.8888888888888888,
              "#fdca26"
             ],
             [
              1,
              "#f0f921"
             ]
            ],
            "type": "heatmap"
           }
          ],
          "heatmapgl": [
           {
            "colorbar": {
             "outlinewidth": 0,
             "ticks": ""
            },
            "colorscale": [
             [
              0,
              "#0d0887"
             ],
             [
              0.1111111111111111,
              "#46039f"
             ],
             [
              0.2222222222222222,
              "#7201a8"
             ],
             [
              0.3333333333333333,
              "#9c179e"
             ],
             [
              0.4444444444444444,
              "#bd3786"
             ],
             [
              0.5555555555555556,
              "#d8576b"
             ],
             [
              0.6666666666666666,
              "#ed7953"
             ],
             [
              0.7777777777777778,
              "#fb9f3a"
             ],
             [
              0.8888888888888888,
              "#fdca26"
             ],
             [
              1,
              "#f0f921"
             ]
            ],
            "type": "heatmapgl"
           }
          ],
          "histogram": [
           {
            "marker": {
             "pattern": {
              "fillmode": "overlay",
              "size": 10,
              "solidity": 0.2
             }
            },
            "type": "histogram"
           }
          ],
          "histogram2d": [
           {
            "colorbar": {
             "outlinewidth": 0,
             "ticks": ""
            },
            "colorscale": [
             [
              0,
              "#0d0887"
             ],
             [
              0.1111111111111111,
              "#46039f"
             ],
             [
              0.2222222222222222,
              "#7201a8"
             ],
             [
              0.3333333333333333,
              "#9c179e"
             ],
             [
              0.4444444444444444,
              "#bd3786"
             ],
             [
              0.5555555555555556,
              "#d8576b"
             ],
             [
              0.6666666666666666,
              "#ed7953"
             ],
             [
              0.7777777777777778,
              "#fb9f3a"
             ],
             [
              0.8888888888888888,
              "#fdca26"
             ],
             [
              1,
              "#f0f921"
             ]
            ],
            "type": "histogram2d"
           }
          ],
          "histogram2dcontour": [
           {
            "colorbar": {
             "outlinewidth": 0,
             "ticks": ""
            },
            "colorscale": [
             [
              0,
              "#0d0887"
             ],
             [
              0.1111111111111111,
              "#46039f"
             ],
             [
              0.2222222222222222,
              "#7201a8"
             ],
             [
              0.3333333333333333,
              "#9c179e"
             ],
             [
              0.4444444444444444,
              "#bd3786"
             ],
             [
              0.5555555555555556,
              "#d8576b"
             ],
             [
              0.6666666666666666,
              "#ed7953"
             ],
             [
              0.7777777777777778,
              "#fb9f3a"
             ],
             [
              0.8888888888888888,
              "#fdca26"
             ],
             [
              1,
              "#f0f921"
             ]
            ],
            "type": "histogram2dcontour"
           }
          ],
          "mesh3d": [
           {
            "colorbar": {
             "outlinewidth": 0,
             "ticks": ""
            },
            "type": "mesh3d"
           }
          ],
          "parcoords": [
           {
            "line": {
             "colorbar": {
              "outlinewidth": 0,
              "ticks": ""
             }
            },
            "type": "parcoords"
           }
          ],
          "pie": [
           {
            "automargin": true,
            "type": "pie"
           }
          ],
          "scatter": [
           {
            "fillpattern": {
             "fillmode": "overlay",
             "size": 10,
             "solidity": 0.2
            },
            "type": "scatter"
           }
          ],
          "scatter3d": [
           {
            "line": {
             "colorbar": {
              "outlinewidth": 0,
              "ticks": ""
             }
            },
            "marker": {
             "colorbar": {
              "outlinewidth": 0,
              "ticks": ""
             }
            },
            "type": "scatter3d"
           }
          ],
          "scattercarpet": [
           {
            "marker": {
             "colorbar": {
              "outlinewidth": 0,
              "ticks": ""
             }
            },
            "type": "scattercarpet"
           }
          ],
          "scattergeo": [
           {
            "marker": {
             "colorbar": {
              "outlinewidth": 0,
              "ticks": ""
             }
            },
            "type": "scattergeo"
           }
          ],
          "scattergl": [
           {
            "marker": {
             "colorbar": {
              "outlinewidth": 0,
              "ticks": ""
             }
            },
            "type": "scattergl"
           }
          ],
          "scattermapbox": [
           {
            "marker": {
             "colorbar": {
              "outlinewidth": 0,
              "ticks": ""
             }
            },
            "type": "scattermapbox"
           }
          ],
          "scatterpolar": [
           {
            "marker": {
             "colorbar": {
              "outlinewidth": 0,
              "ticks": ""
             }
            },
            "type": "scatterpolar"
           }
          ],
          "scatterpolargl": [
           {
            "marker": {
             "colorbar": {
              "outlinewidth": 0,
              "ticks": ""
             }
            },
            "type": "scatterpolargl"
           }
          ],
          "scatterternary": [
           {
            "marker": {
             "colorbar": {
              "outlinewidth": 0,
              "ticks": ""
             }
            },
            "type": "scatterternary"
           }
          ],
          "surface": [
           {
            "colorbar": {
             "outlinewidth": 0,
             "ticks": ""
            },
            "colorscale": [
             [
              0,
              "#0d0887"
             ],
             [
              0.1111111111111111,
              "#46039f"
             ],
             [
              0.2222222222222222,
              "#7201a8"
             ],
             [
              0.3333333333333333,
              "#9c179e"
             ],
             [
              0.4444444444444444,
              "#bd3786"
             ],
             [
              0.5555555555555556,
              "#d8576b"
             ],
             [
              0.6666666666666666,
              "#ed7953"
             ],
             [
              0.7777777777777778,
              "#fb9f3a"
             ],
             [
              0.8888888888888888,
              "#fdca26"
             ],
             [
              1,
              "#f0f921"
             ]
            ],
            "type": "surface"
           }
          ],
          "table": [
           {
            "cells": {
             "fill": {
              "color": "#EBF0F8"
             },
             "line": {
              "color": "white"
             }
            },
            "header": {
             "fill": {
              "color": "#C8D4E3"
             },
             "line": {
              "color": "white"
             }
            },
            "type": "table"
           }
          ]
         },
         "layout": {
          "annotationdefaults": {
           "arrowcolor": "#2a3f5f",
           "arrowhead": 0,
           "arrowwidth": 1
          },
          "autotypenumbers": "strict",
          "coloraxis": {
           "colorbar": {
            "outlinewidth": 0,
            "ticks": ""
           }
          },
          "colorscale": {
           "diverging": [
            [
             0,
             "#8e0152"
            ],
            [
             0.1,
             "#c51b7d"
            ],
            [
             0.2,
             "#de77ae"
            ],
            [
             0.3,
             "#f1b6da"
            ],
            [
             0.4,
             "#fde0ef"
            ],
            [
             0.5,
             "#f7f7f7"
            ],
            [
             0.6,
             "#e6f5d0"
            ],
            [
             0.7,
             "#b8e186"
            ],
            [
             0.8,
             "#7fbc41"
            ],
            [
             0.9,
             "#4d9221"
            ],
            [
             1,
             "#276419"
            ]
           ],
           "sequential": [
            [
             0,
             "#0d0887"
            ],
            [
             0.1111111111111111,
             "#46039f"
            ],
            [
             0.2222222222222222,
             "#7201a8"
            ],
            [
             0.3333333333333333,
             "#9c179e"
            ],
            [
             0.4444444444444444,
             "#bd3786"
            ],
            [
             0.5555555555555556,
             "#d8576b"
            ],
            [
             0.6666666666666666,
             "#ed7953"
            ],
            [
             0.7777777777777778,
             "#fb9f3a"
            ],
            [
             0.8888888888888888,
             "#fdca26"
            ],
            [
             1,
             "#f0f921"
            ]
           ],
           "sequentialminus": [
            [
             0,
             "#0d0887"
            ],
            [
             0.1111111111111111,
             "#46039f"
            ],
            [
             0.2222222222222222,
             "#7201a8"
            ],
            [
             0.3333333333333333,
             "#9c179e"
            ],
            [
             0.4444444444444444,
             "#bd3786"
            ],
            [
             0.5555555555555556,
             "#d8576b"
            ],
            [
             0.6666666666666666,
             "#ed7953"
            ],
            [
             0.7777777777777778,
             "#fb9f3a"
            ],
            [
             0.8888888888888888,
             "#fdca26"
            ],
            [
             1,
             "#f0f921"
            ]
           ]
          },
          "colorway": [
           "#636efa",
           "#EF553B",
           "#00cc96",
           "#ab63fa",
           "#FFA15A",
           "#19d3f3",
           "#FF6692",
           "#B6E880",
           "#FF97FF",
           "#FECB52"
          ],
          "font": {
           "color": "#2a3f5f"
          },
          "geo": {
           "bgcolor": "white",
           "lakecolor": "white",
           "landcolor": "#E5ECF6",
           "showlakes": true,
           "showland": true,
           "subunitcolor": "white"
          },
          "hoverlabel": {
           "align": "left"
          },
          "hovermode": "closest",
          "mapbox": {
           "style": "light"
          },
          "paper_bgcolor": "white",
          "plot_bgcolor": "#E5ECF6",
          "polar": {
           "angularaxis": {
            "gridcolor": "white",
            "linecolor": "white",
            "ticks": ""
           },
           "bgcolor": "#E5ECF6",
           "radialaxis": {
            "gridcolor": "white",
            "linecolor": "white",
            "ticks": ""
           }
          },
          "scene": {
           "xaxis": {
            "backgroundcolor": "#E5ECF6",
            "gridcolor": "white",
            "gridwidth": 2,
            "linecolor": "white",
            "showbackground": true,
            "ticks": "",
            "zerolinecolor": "white"
           },
           "yaxis": {
            "backgroundcolor": "#E5ECF6",
            "gridcolor": "white",
            "gridwidth": 2,
            "linecolor": "white",
            "showbackground": true,
            "ticks": "",
            "zerolinecolor": "white"
           },
           "zaxis": {
            "backgroundcolor": "#E5ECF6",
            "gridcolor": "white",
            "gridwidth": 2,
            "linecolor": "white",
            "showbackground": true,
            "ticks": "",
            "zerolinecolor": "white"
           }
          },
          "shapedefaults": {
           "line": {
            "color": "#2a3f5f"
           }
          },
          "ternary": {
           "aaxis": {
            "gridcolor": "white",
            "linecolor": "white",
            "ticks": ""
           },
           "baxis": {
            "gridcolor": "white",
            "linecolor": "white",
            "ticks": ""
           },
           "bgcolor": "#E5ECF6",
           "caxis": {
            "gridcolor": "white",
            "linecolor": "white",
            "ticks": ""
           }
          },
          "title": {
           "x": 0.05
          },
          "xaxis": {
           "automargin": true,
           "gridcolor": "white",
           "linecolor": "white",
           "ticks": "",
           "title": {
            "standoff": 15
           },
           "zerolinecolor": "white",
           "zerolinewidth": 2
          },
          "yaxis": {
           "automargin": true,
           "gridcolor": "white",
           "linecolor": "white",
           "ticks": "",
           "title": {
            "standoff": 15
           },
           "zerolinecolor": "white",
           "zerolinewidth": 2
          }
         }
        },
        "title": {
         "text": "Evolution de la fonte dans le Four de Coulée au cours du temps (Mg)"
        },
        "xaxis": {
         "title": {
          "text": "Time (minutes)"
         }
        },
        "yaxis": {
         "title": {
          "text": "Mg (kg)"
         }
        }
       }
      },
      "text/html": [
       "<div>                            <div id=\"80ebf799-2c11-4291-9500-78bdad2c388f\" class=\"plotly-graph-div\" style=\"height:525px; width:100%;\"></div>            <script type=\"text/javascript\">                require([\"plotly\"], function(Plotly) {                    window.PLOTLYENV=window.PLOTLYENV || {};                                    if (document.getElementById(\"80ebf799-2c11-4291-9500-78bdad2c388f\")) {                    Plotly.newPlot(                        \"80ebf799-2c11-4291-9500-78bdad2c388f\",                        [{\"line\":{\"color\":\"royalblue\"},\"mode\":\"lines\",\"name\":\"Mg over time (chargement_et_fusion)\",\"x\":[],\"y\":[],\"type\":\"scatter\"},{\"line\":{\"color\":\"firebrick\"},\"mode\":\"lines\",\"name\":\"Mg over time (Four 1)\",\"x\":[1,2,3,4,5,6,7,8,9,10,11,12,13,14,15,16,17,18,19,19],\"y\":[0.0445,0.044,0.0435,0.043,0.042499999999999996,0.041999999999999996,0.041499999999999995,0.040999999999999995,0.040499999999999994,0.0445,0.044,0.0435,0.043,0.042499999999999996,0.041999999999999996,0.041499999999999995,0.040999999999999995,0.040499999999999994,0.039999999999999994,0.045],\"type\":\"scatter\"},{\"line\":{\"color\":\"green\"},\"mode\":\"lines\",\"name\":\"Mg over time (Four 2)\",\"x\":[20,21,22,23,24,25,26,27,28,29,30,31,32,33,34,35,36,37,38,39,40,41,42,43,44,45,46,47,48,49,50,51,52,53,54,55,56,57,58,59,60,61,62,63,64,65,66,67,68,69,70,71,72,73,74,75,76,76],\"y\":[0.0445,0.044,0.0435,0.043,0.042499999999999996,0.041999999999999996,0.041499999999999995,0.040999999999999995,0.040499999999999994,0.0445,0.044,0.0435,0.043,0.042499999999999996,0.041999999999999996,0.041499999999999995,0.040999999999999995,0.040499999999999994,0.039999999999999994,0.0445,0.044,0.0435,0.043,0.042499999999999996,0.041999999999999996,0.041499999999999995,0.040999999999999995,0.040499999999999994,0.039999999999999994,0.03949999999999999,0.03899999999999999,0.03849999999999999,0.03799999999999999,0.03749999999999999,0.03699999999999999,0.03649999999999999,0.03599999999999999,0.03549999999999999,0.0445,0.044,0.0435,0.043,0.042499999999999996,0.041999999999999996,0.041499999999999995,0.040999999999999995,0.040499999999999994,0.039999999999999994,0.03949999999999999,0.03899999999999999,0.03849999999999999,0.03799999999999999,0.03749999999999999,0.03699999999999999,0.03649999999999999,0.03599999999999999,0.03549999999999999,0.045],\"type\":\"scatter\"},{\"line\":{\"color\":\"orange\"},\"mode\":\"lines\",\"name\":\"Mg over time (Four 3)\",\"x\":[77,78,79,80,81,82,83,84,85,86,87,88,89,90,91,92,93,94,95,96,97,98,99,100,101,102,103,104,105,106,107,108,109,110,111,112,113,114,115,116,117,118,119,120,121,122,123,124,125,126,127,128,129,130,131,132,133,134,135,136,137,138,139,140,141,142,143,144,145,146,147,148,149,150,151,152,153,154,154],\"y\":[0.0445,0.044,0.0435,0.043,0.042499999999999996,0.041999999999999996,0.041499999999999995,0.040999999999999995,0.040499999999999994,0.039999999999999994,0.03949999999999999,0.03899999999999999,0.03849999999999999,0.03799999999999999,0.03749999999999999,0.03699999999999999,0.03649999999999999,0.03599999999999999,0.03549999999999999,0.03499999999999999,0.03449999999999999,0.0445,0.044,0.0435,0.043,0.042499999999999996,0.041999999999999996,0.041499999999999995,0.040999999999999995,0.040499999999999994,0.039999999999999994,0.03949999999999999,0.03899999999999999,0.03849999999999999,0.03799999999999999,0.03749999999999999,0.03699999999999999,0.03649999999999999,0.03599999999999999,0.03549999999999999,0.0445,0.044,0.0435,0.043,0.042499999999999996,0.041999999999999996,0.041499999999999995,0.040999999999999995,0.040499999999999994,0.039999999999999994,0.03949999999999999,0.03899999999999999,0.03849999999999999,0.03799999999999999,0.03749999999999999,0.03699999999999999,0.03649999999999999,0.03599999999999999,0.03549999999999999,0.0445,0.044,0.0435,0.043,0.042499999999999996,0.041999999999999996,0.041499999999999995,0.040999999999999995,0.040499999999999994,0.039999999999999994,0.03949999999999999,0.03899999999999999,0.03849999999999999,0.03799999999999999,0.03749999999999999,0.03699999999999999,0.03649999999999999,0.03599999999999999,0.03549999999999999,0.045],\"type\":\"scatter\"},{\"line\":{\"color\":\"purple\"},\"mode\":\"lines\",\"name\":\"Mg over time (Four 4)\",\"x\":[155,156,157,158,159,160,161,162,163,164,165,166,167,168,169,170,171,172,173,174,175,176,177,178,179,180,181,182,183,184,185,186,187,188,189,190,191,192,193,194,195,196,197,198,199,200,201,202,203,204,205,206,207,208,209,210,211,212,213,214,215,216,217,218,219,220,221,222,223,224,225,226,226],\"y\":[0.0445,0.044,0.0435,0.043,0.042499999999999996,0.041999999999999996,0.041499999999999995,0.040999999999999995,0.040499999999999994,0.039999999999999994,0.03949999999999999,0.0445,0.044,0.0435,0.043,0.042499999999999996,0.041999999999999996,0.041499999999999995,0.040999999999999995,0.040499999999999994,0.039999999999999994,0.03949999999999999,0.03899999999999999,0.03849999999999999,0.03799999999999999,0.03749999999999999,0.03699999999999999,0.03649999999999999,0.03599999999999999,0.03549999999999999,0.0445,0.044,0.0435,0.043,0.042499999999999996,0.041999999999999996,0.041499999999999995,0.040999999999999995,0.040499999999999994,0.039999999999999994,0.03949999999999999,0.03899999999999999,0.03849999999999999,0.03799999999999999,0.03749999999999999,0.03699999999999999,0.03649999999999999,0.03599999999999999,0.03549999999999999,0.0445,0.044,0.0435,0.043,0.042499999999999996,0.041999999999999996,0.041499999999999995,0.040999999999999995,0.040499999999999994,0.039999999999999994,0.03949999999999999,0.03899999999999999,0.03849999999999999,0.03799999999999999,0.03749999999999999,0.03699999999999999,0.03649999999999999,0.03599999999999999,0.03549999999999999,0.03499999999999999,0.03449999999999999,0.03399999999999999,0.03349999999999999,0.045],\"type\":\"scatter\"},{\"line\":{\"color\":\"royalblue\"},\"mode\":\"lines\",\"name\":\"Mg over time (Four 5)\",\"x\":[227,228,229,230,231,232,233,234,235,236,237,238,239],\"y\":[0.0445,0.044,0.0435,0.043,0.042499999999999996,0.041999999999999996,0.041499999999999995,0.040999999999999995,0.040499999999999994,0.039999999999999994,0.03949999999999999,0.03899999999999999,0.03849999999999999],\"type\":\"scatter\"}],                        {\"template\":{\"data\":{\"histogram2dcontour\":[{\"type\":\"histogram2dcontour\",\"colorbar\":{\"outlinewidth\":0,\"ticks\":\"\"},\"colorscale\":[[0.0,\"#0d0887\"],[0.1111111111111111,\"#46039f\"],[0.2222222222222222,\"#7201a8\"],[0.3333333333333333,\"#9c179e\"],[0.4444444444444444,\"#bd3786\"],[0.5555555555555556,\"#d8576b\"],[0.6666666666666666,\"#ed7953\"],[0.7777777777777778,\"#fb9f3a\"],[0.8888888888888888,\"#fdca26\"],[1.0,\"#f0f921\"]]}],\"choropleth\":[{\"type\":\"choropleth\",\"colorbar\":{\"outlinewidth\":0,\"ticks\":\"\"}}],\"histogram2d\":[{\"type\":\"histogram2d\",\"colorbar\":{\"outlinewidth\":0,\"ticks\":\"\"},\"colorscale\":[[0.0,\"#0d0887\"],[0.1111111111111111,\"#46039f\"],[0.2222222222222222,\"#7201a8\"],[0.3333333333333333,\"#9c179e\"],[0.4444444444444444,\"#bd3786\"],[0.5555555555555556,\"#d8576b\"],[0.6666666666666666,\"#ed7953\"],[0.7777777777777778,\"#fb9f3a\"],[0.8888888888888888,\"#fdca26\"],[1.0,\"#f0f921\"]]}],\"heatmap\":[{\"type\":\"heatmap\",\"colorbar\":{\"outlinewidth\":0,\"ticks\":\"\"},\"colorscale\":[[0.0,\"#0d0887\"],[0.1111111111111111,\"#46039f\"],[0.2222222222222222,\"#7201a8\"],[0.3333333333333333,\"#9c179e\"],[0.4444444444444444,\"#bd3786\"],[0.5555555555555556,\"#d8576b\"],[0.6666666666666666,\"#ed7953\"],[0.7777777777777778,\"#fb9f3a\"],[0.8888888888888888,\"#fdca26\"],[1.0,\"#f0f921\"]]}],\"heatmapgl\":[{\"type\":\"heatmapgl\",\"colorbar\":{\"outlinewidth\":0,\"ticks\":\"\"},\"colorscale\":[[0.0,\"#0d0887\"],[0.1111111111111111,\"#46039f\"],[0.2222222222222222,\"#7201a8\"],[0.3333333333333333,\"#9c179e\"],[0.4444444444444444,\"#bd3786\"],[0.5555555555555556,\"#d8576b\"],[0.6666666666666666,\"#ed7953\"],[0.7777777777777778,\"#fb9f3a\"],[0.8888888888888888,\"#fdca26\"],[1.0,\"#f0f921\"]]}],\"contourcarpet\":[{\"type\":\"contourcarpet\",\"colorbar\":{\"outlinewidth\":0,\"ticks\":\"\"}}],\"contour\":[{\"type\":\"contour\",\"colorbar\":{\"outlinewidth\":0,\"ticks\":\"\"},\"colorscale\":[[0.0,\"#0d0887\"],[0.1111111111111111,\"#46039f\"],[0.2222222222222222,\"#7201a8\"],[0.3333333333333333,\"#9c179e\"],[0.4444444444444444,\"#bd3786\"],[0.5555555555555556,\"#d8576b\"],[0.6666666666666666,\"#ed7953\"],[0.7777777777777778,\"#fb9f3a\"],[0.8888888888888888,\"#fdca26\"],[1.0,\"#f0f921\"]]}],\"surface\":[{\"type\":\"surface\",\"colorbar\":{\"outlinewidth\":0,\"ticks\":\"\"},\"colorscale\":[[0.0,\"#0d0887\"],[0.1111111111111111,\"#46039f\"],[0.2222222222222222,\"#7201a8\"],[0.3333333333333333,\"#9c179e\"],[0.4444444444444444,\"#bd3786\"],[0.5555555555555556,\"#d8576b\"],[0.6666666666666666,\"#ed7953\"],[0.7777777777777778,\"#fb9f3a\"],[0.8888888888888888,\"#fdca26\"],[1.0,\"#f0f921\"]]}],\"mesh3d\":[{\"type\":\"mesh3d\",\"colorbar\":{\"outlinewidth\":0,\"ticks\":\"\"}}],\"scatter\":[{\"fillpattern\":{\"fillmode\":\"overlay\",\"size\":10,\"solidity\":0.2},\"type\":\"scatter\"}],\"parcoords\":[{\"type\":\"parcoords\",\"line\":{\"colorbar\":{\"outlinewidth\":0,\"ticks\":\"\"}}}],\"scatterpolargl\":[{\"type\":\"scatterpolargl\",\"marker\":{\"colorbar\":{\"outlinewidth\":0,\"ticks\":\"\"}}}],\"bar\":[{\"error_x\":{\"color\":\"#2a3f5f\"},\"error_y\":{\"color\":\"#2a3f5f\"},\"marker\":{\"line\":{\"color\":\"#E5ECF6\",\"width\":0.5},\"pattern\":{\"fillmode\":\"overlay\",\"size\":10,\"solidity\":0.2}},\"type\":\"bar\"}],\"scattergeo\":[{\"type\":\"scattergeo\",\"marker\":{\"colorbar\":{\"outlinewidth\":0,\"ticks\":\"\"}}}],\"scatterpolar\":[{\"type\":\"scatterpolar\",\"marker\":{\"colorbar\":{\"outlinewidth\":0,\"ticks\":\"\"}}}],\"histogram\":[{\"marker\":{\"pattern\":{\"fillmode\":\"overlay\",\"size\":10,\"solidity\":0.2}},\"type\":\"histogram\"}],\"scattergl\":[{\"type\":\"scattergl\",\"marker\":{\"colorbar\":{\"outlinewidth\":0,\"ticks\":\"\"}}}],\"scatter3d\":[{\"type\":\"scatter3d\",\"line\":{\"colorbar\":{\"outlinewidth\":0,\"ticks\":\"\"}},\"marker\":{\"colorbar\":{\"outlinewidth\":0,\"ticks\":\"\"}}}],\"scattermapbox\":[{\"type\":\"scattermapbox\",\"marker\":{\"colorbar\":{\"outlinewidth\":0,\"ticks\":\"\"}}}],\"scatterternary\":[{\"type\":\"scatterternary\",\"marker\":{\"colorbar\":{\"outlinewidth\":0,\"ticks\":\"\"}}}],\"scattercarpet\":[{\"type\":\"scattercarpet\",\"marker\":{\"colorbar\":{\"outlinewidth\":0,\"ticks\":\"\"}}}],\"carpet\":[{\"aaxis\":{\"endlinecolor\":\"#2a3f5f\",\"gridcolor\":\"white\",\"linecolor\":\"white\",\"minorgridcolor\":\"white\",\"startlinecolor\":\"#2a3f5f\"},\"baxis\":{\"endlinecolor\":\"#2a3f5f\",\"gridcolor\":\"white\",\"linecolor\":\"white\",\"minorgridcolor\":\"white\",\"startlinecolor\":\"#2a3f5f\"},\"type\":\"carpet\"}],\"table\":[{\"cells\":{\"fill\":{\"color\":\"#EBF0F8\"},\"line\":{\"color\":\"white\"}},\"header\":{\"fill\":{\"color\":\"#C8D4E3\"},\"line\":{\"color\":\"white\"}},\"type\":\"table\"}],\"barpolar\":[{\"marker\":{\"line\":{\"color\":\"#E5ECF6\",\"width\":0.5},\"pattern\":{\"fillmode\":\"overlay\",\"size\":10,\"solidity\":0.2}},\"type\":\"barpolar\"}],\"pie\":[{\"automargin\":true,\"type\":\"pie\"}]},\"layout\":{\"autotypenumbers\":\"strict\",\"colorway\":[\"#636efa\",\"#EF553B\",\"#00cc96\",\"#ab63fa\",\"#FFA15A\",\"#19d3f3\",\"#FF6692\",\"#B6E880\",\"#FF97FF\",\"#FECB52\"],\"font\":{\"color\":\"#2a3f5f\"},\"hovermode\":\"closest\",\"hoverlabel\":{\"align\":\"left\"},\"paper_bgcolor\":\"white\",\"plot_bgcolor\":\"#E5ECF6\",\"polar\":{\"bgcolor\":\"#E5ECF6\",\"angularaxis\":{\"gridcolor\":\"white\",\"linecolor\":\"white\",\"ticks\":\"\"},\"radialaxis\":{\"gridcolor\":\"white\",\"linecolor\":\"white\",\"ticks\":\"\"}},\"ternary\":{\"bgcolor\":\"#E5ECF6\",\"aaxis\":{\"gridcolor\":\"white\",\"linecolor\":\"white\",\"ticks\":\"\"},\"baxis\":{\"gridcolor\":\"white\",\"linecolor\":\"white\",\"ticks\":\"\"},\"caxis\":{\"gridcolor\":\"white\",\"linecolor\":\"white\",\"ticks\":\"\"}},\"coloraxis\":{\"colorbar\":{\"outlinewidth\":0,\"ticks\":\"\"}},\"colorscale\":{\"sequential\":[[0.0,\"#0d0887\"],[0.1111111111111111,\"#46039f\"],[0.2222222222222222,\"#7201a8\"],[0.3333333333333333,\"#9c179e\"],[0.4444444444444444,\"#bd3786\"],[0.5555555555555556,\"#d8576b\"],[0.6666666666666666,\"#ed7953\"],[0.7777777777777778,\"#fb9f3a\"],[0.8888888888888888,\"#fdca26\"],[1.0,\"#f0f921\"]],\"sequentialminus\":[[0.0,\"#0d0887\"],[0.1111111111111111,\"#46039f\"],[0.2222222222222222,\"#7201a8\"],[0.3333333333333333,\"#9c179e\"],[0.4444444444444444,\"#bd3786\"],[0.5555555555555556,\"#d8576b\"],[0.6666666666666666,\"#ed7953\"],[0.7777777777777778,\"#fb9f3a\"],[0.8888888888888888,\"#fdca26\"],[1.0,\"#f0f921\"]],\"diverging\":[[0,\"#8e0152\"],[0.1,\"#c51b7d\"],[0.2,\"#de77ae\"],[0.3,\"#f1b6da\"],[0.4,\"#fde0ef\"],[0.5,\"#f7f7f7\"],[0.6,\"#e6f5d0\"],[0.7,\"#b8e186\"],[0.8,\"#7fbc41\"],[0.9,\"#4d9221\"],[1,\"#276419\"]]},\"xaxis\":{\"gridcolor\":\"white\",\"linecolor\":\"white\",\"ticks\":\"\",\"title\":{\"standoff\":15},\"zerolinecolor\":\"white\",\"automargin\":true,\"zerolinewidth\":2},\"yaxis\":{\"gridcolor\":\"white\",\"linecolor\":\"white\",\"ticks\":\"\",\"title\":{\"standoff\":15},\"zerolinecolor\":\"white\",\"automargin\":true,\"zerolinewidth\":2},\"scene\":{\"xaxis\":{\"backgroundcolor\":\"#E5ECF6\",\"gridcolor\":\"white\",\"linecolor\":\"white\",\"showbackground\":true,\"ticks\":\"\",\"zerolinecolor\":\"white\",\"gridwidth\":2},\"yaxis\":{\"backgroundcolor\":\"#E5ECF6\",\"gridcolor\":\"white\",\"linecolor\":\"white\",\"showbackground\":true,\"ticks\":\"\",\"zerolinecolor\":\"white\",\"gridwidth\":2},\"zaxis\":{\"backgroundcolor\":\"#E5ECF6\",\"gridcolor\":\"white\",\"linecolor\":\"white\",\"showbackground\":true,\"ticks\":\"\",\"zerolinecolor\":\"white\",\"gridwidth\":2}},\"shapedefaults\":{\"line\":{\"color\":\"#2a3f5f\"}},\"annotationdefaults\":{\"arrowcolor\":\"#2a3f5f\",\"arrowhead\":0,\"arrowwidth\":1},\"geo\":{\"bgcolor\":\"white\",\"landcolor\":\"#E5ECF6\",\"subunitcolor\":\"white\",\"showland\":true,\"showlakes\":true,\"lakecolor\":\"white\"},\"title\":{\"x\":0.05},\"mapbox\":{\"style\":\"light\"}}},\"shapes\":[{\"line\":{\"color\":\"firebrick\",\"dash\":\"dash\",\"width\":2},\"name\":\"Mgmin\",\"type\":\"line\",\"x0\":1,\"x1\":19,\"y0\":0.035,\"y1\":0.035},{\"line\":{\"color\":\"green\",\"dash\":\"dash\",\"width\":2},\"name\":\"Mgmax\",\"type\":\"line\",\"x0\":1,\"x1\":19,\"y0\":0.045,\"y1\":0.045}],\"title\":{\"text\":\"Evolution de la fonte dans le Four de Coul\\u00e9e au cours du temps (Mg)\"},\"xaxis\":{\"title\":{\"text\":\"Time (minutes)\"}},\"yaxis\":{\"title\":{\"text\":\"Mg (kg)\"}},\"showlegend\":true,\"annotations\":[{\"arrowhead\":2,\"ax\":20,\"ay\":-30,\"showarrow\":true,\"text\":\"Mgmin\",\"x\":19,\"xref\":\"x\",\"y\":0.035,\"yref\":\"y\"},{\"arrowhead\":2,\"ax\":20,\"ay\":-30,\"showarrow\":true,\"text\":\"Mgmax\",\"x\":19,\"xref\":\"x\",\"y\":0.045,\"yref\":\"y\"}]},                        {\"responsive\": true}                    ).then(function(){\n",
       "                            \n",
       "var gd = document.getElementById('80ebf799-2c11-4291-9500-78bdad2c388f');\n",
       "var x = new MutationObserver(function (mutations, observer) {{\n",
       "        var display = window.getComputedStyle(gd).display;\n",
       "        if (!display || display === 'none') {{\n",
       "            console.log([gd, 'removed!']);\n",
       "            Plotly.purge(gd);\n",
       "            observer.disconnect();\n",
       "        }}\n",
       "}});\n",
       "\n",
       "// Listen for the removal of the full notebook cells\n",
       "var notebookContainer = gd.closest('#notebook-container');\n",
       "if (notebookContainer) {{\n",
       "    x.observe(notebookContainer, {childList: true});\n",
       "}}\n",
       "\n",
       "// Listen for the clearing of the current output cell\n",
       "var outputEl = gd.closest('.output');\n",
       "if (outputEl) {{\n",
       "    x.observe(outputEl, {childList: true});\n",
       "}}\n",
       "\n",
       "                        })                };                });            </script>        </div>"
      ]
     },
     "metadata": {},
     "output_type": "display_data"
    }
   ],
   "source": [
    "import plotly.graph_objects as go\n",
    "\n",
    "def Plot_consom(PFC_values_dict, Mgvalues_dict, times_dict, PFCmin, PFCmax, Mgmin, Mgmax):\n",
    "    # Dictionnaire de couleurs pour chaque clé\n",
    "    color_dict = {\n",
    "        \"chargement_et_fusion\": 'royalblue',\n",
    "        \"Four 1\": 'firebrick',\n",
    "        \"Four 2\": 'green',\n",
    "        \"Four 3\": 'orange',\n",
    "        \"Four 4\": 'purple',\n",
    "        \"Four 5\": 'royalblue'\n",
    "    }\n",
    "\n",
    "    # Create Plotly figure for PFC\n",
    "    fig_pfc = go.Figure()\n",
    "\n",
    "    # Add PFC lines for each key\n",
    "    for key in PFC_values_dict.keys():\n",
    "        fig_pfc.add_trace(go.Scatter(x=times_dict[key], y=PFC_values_dict[key], mode='lines', name=f'PFC over time ({key})', line=dict(color=color_dict[key])))\n",
    "\n",
    "    # Add horizontal lines for PFCmin and PFCmax\n",
    "    tmin, tmax = times_dict[\"Four 1\"][0],times_dict[\"Four 1\"][-1]\n",
    "    fig_pfc.add_shape(type=\"line\", x0=tmin, y0=PFCmin, x1=tmax, y1=PFCmin, line=dict(color=\"firebrick\", width=2, dash=\"dash\"), name=\"PFCmin\")\n",
    "    fig_pfc.add_shape(type=\"line\", x0=tmin, y0=PFCmax, x1=tmax, y1=PFCmax, line=dict(color=\"green\", width=2, dash=\"dash\"), name=\"PFCmax\")\n",
    "\n",
    "    # Customize layout for PFC figure\n",
    "    fig_pfc.update_layout(title='Evolution de la fonte dans le Four de Coulée au cours du temps (PFC)', \n",
    "                          xaxis_title='Time (minutes)', yaxis_title='PFC (kg)', \n",
    "                          template='plotly', showlegend=True,\n",
    "                          annotations=[\n",
    "                              dict(x=tmax, y=PFCmin, xref=\"x\", yref=\"y\", text=\"PFCmin\", showarrow=True, arrowhead=2, ax=20, ay=-30),\n",
    "                              dict(x=tmax, y=PFCmax, xref=\"x\", yref=\"y\", text=\"PFCmax\", showarrow=True, arrowhead=2, ax=20, ay=-30)\n",
    "                          ])\n",
    "\n",
    "    # Show the PFC plot\n",
    "    fig_pfc.show()\n",
    "\n",
    "    # Create Plotly figure for Mg\n",
    "    fig_mg = go.Figure()\n",
    "\n",
    "    # Add Mg lines for each key\n",
    "    for key in Mgvalues_dict.keys():\n",
    "        fig_mg.add_trace(go.Scatter(x=times_dict[key], y=Mgvalues_dict[key], mode='lines', name=f'Mg over time ({key})', line=dict(color=color_dict[key])))\n",
    "\n",
    "    # Add horizontal lines for Mgmin and Mgmax\n",
    "    fig_mg.add_shape(type=\"line\", x0=tmin, y0=Mgmin, x1=tmax, y1=Mgmin, line=dict(color=\"firebrick\", width=2, dash=\"dash\"), name=\"Mgmin\")\n",
    "    fig_mg.add_shape(type=\"line\", x0=tmin, y0=Mgmax, x1=tmax, y1=Mgmax, line=dict(color=\"green\", width=2, dash=\"dash\"), name=\"Mgmax\")\n",
    "\n",
    "    # Customize layout for Mg figure\n",
    "    fig_mg.update_layout(title='Evolution de la fonte dans le Four de Coulée au cours du temps (Mg)', \n",
    "                         xaxis_title='Time (minutes)', yaxis_title='Mg (kg)', \n",
    "                         template='plotly', showlegend=True,\n",
    "                         annotations=[\n",
    "                              dict(x=tmax, y=Mgmin, xref=\"x\", yref=\"y\", text=\"Mgmin\", showarrow=True, arrowhead=2, ax=20, ay=-30),\n",
    "                              dict(x=tmax, y=Mgmax, xref=\"x\", yref=\"y\", text=\"Mgmax\", showarrow=True, arrowhead=2, ax=20, ay=-30)\n",
    "                          ])\n",
    "\n",
    "    # Show the Mg plot\n",
    "    fig_mg.show()\n",
    "\n",
    "# Call the function with the appropriate dictionaries and parameters\n",
    "Plot_consom(PFC_Consomvalues_dict, Mgvalues_dict, times_dict, PFCmin, PFCmax, Mgmin, Mgmax)\n"
   ]
  },
  {
   "cell_type": "code",
   "execution_count": null,
   "metadata": {},
   "outputs": [],
   "source": []
  },
  {
   "cell_type": "code",
   "execution_count": null,
   "metadata": {},
   "outputs": [],
   "source": []
  },
  {
   "cell_type": "code",
   "execution_count": null,
   "metadata": {},
   "outputs": [],
   "source": []
  },
  {
   "cell_type": "code",
   "execution_count": 12,
   "metadata": {},
   "outputs": [
    {
     "name": "stdout",
     "output_type": "stream",
     "text": [
      "Résultats finaux ou mises à jour des dictionnaires : \n",
      "times_dict :  {'chargement_et_fusion': [], 'Four 1': [1, 2, 3, 4, 5, 6, 7, 8, 9, 10, 11, 12, 13, 14, 15, 16, 17, 18, 19], 'Four 2': [20, 21, 22, 23, 24, 25, 26, 27, 28, 29, 30, 31, 32, 33, 34, 35, 36, 37, 38, 39, 40, 41, 42, 43, 44, 45, 46, 47, 48, 49, 50, 51, 52, 53, 54, 55, 56, 57, 58, 59, 60, 61, 62, 63, 64, 65, 66, 67, 68, 69, 70, 71, 72, 73, 74, 75, 76], 'Four 3': [77, 78, 79, 80, 81, 82, 83, 84, 85, 86, 87, 88, 89, 90, 91, 92, 93, 94, 95, 96, 97, 98, 99, 100, 101, 102, 103, 104, 105, 106, 107, 108, 109, 110, 111, 112, 113, 114, 115, 116, 117, 118, 119, 120, 121, 122, 123, 124, 125, 126, 127, 128, 129, 130, 131, 132, 133, 134, 135, 136, 137, 138, 139, 140, 141, 142, 143, 144, 145, 146, 147, 148, 149, 150, 151, 152, 153, 154], 'Four 4': [155, 156, 157, 158, 159, 160, 161, 162, 163, 164, 165, 166, 167, 168, 169, 170, 171, 172, 173, 174, 175, 176, 177, 178, 179, 180, 181, 182, 183, 184, 185, 186, 187, 188, 189, 190, 191, 192, 193, 194, 195, 196, 197, 198, 199, 200, 201, 202, 203, 204, 205, 206, 207, 208, 209, 210, 211, 212, 213, 214, 215, 216, 217, 218, 219, 220, 221, 222, 223, 224, 225, 226], 'Four 5': [227, 228, 229, 230, 231, 232, 233, 234, 235, 236, 237, 238, 239]}\n",
      "PFC_Consomvalues_dict :  {'chargement_et_fusion': [], 'Four 1': [3619.5333333333333, 3489.0666666666666, 3358.6, 3228.133333333333, 3097.6666666666665, 2967.2, 2836.733333333333, 2706.2666666666664, 2575.7999999999997, 3695.333333333333, 3564.8666666666663, 3434.3999999999996, 3303.933333333333, 3173.4666666666662, 3042.9999999999995, 2912.533333333333, 2782.066666666666, 2651.5999999999995, 2521.1333333333328], 'Four 2': [3640.666666666666, 3510.1999999999994, 3379.7333333333327, 3249.266666666666, 3118.7999999999993, 2988.3333333333326, 2857.866666666666, 2727.399999999999, 2596.9333333333325, 3716.466666666666, 3585.999999999999, 3455.5333333333324, 3325.0666666666657, 3194.599999999999, 3064.1333333333323, 2933.6666666666656, 2803.199999999999, 2672.733333333332, 2542.2666666666655, 3661.799999999999, 3661.799999999999, 3661.799999999999, 3661.799999999999, 3661.799999999999, 3661.799999999999, 3661.799999999999, 3661.799999999999, 3661.799999999999, 3661.799999999999, 3661.799999999999, 3537.159999999999, 3412.519999999999, 3287.879999999999, 3163.2399999999993, 3038.5999999999995, 2913.9599999999996, 2789.3199999999997, 2664.68, 3790.04, 3665.4, 3540.76, 3416.1200000000003, 3291.4800000000005, 3166.8400000000006, 3042.2000000000007, 2917.560000000001, 2917.560000000001, 2917.560000000001, 2917.560000000001, 2917.560000000001, 2917.560000000001, 2917.560000000001, 2917.560000000001, 2917.560000000001, 2917.560000000001, 2917.560000000001, 2868.1600000000008], 'Four 3': [4068.7600000000007, 4019.3600000000006, 3969.9600000000005, 3920.5600000000004, 3871.1600000000003, 3821.76, 3772.36, 3722.96, 3673.56, 3624.16, 3574.7599999999998, 3574.7599999999998, 3574.7599999999998, 3574.7599999999998, 3574.7599999999998, 3574.7599999999998, 3574.7599999999998, 3574.7599999999998, 3574.7599999999998, 3574.7599999999998, 3574.7599999999998, 4754.97, 4685.18, 4615.39, 4615.39, 4615.39, 4615.39, 4615.39, 4615.39, 4615.39, 4615.39, 4615.39, 4615.39, 4615.39, 4484.923333333334, 4354.456666666668, 4223.990000000002, 4093.523333333335, 3963.056666666668, 3832.5900000000015, 4952.123333333336, 4821.6566666666695, 4691.190000000003, 4560.723333333337, 4430.256666666671, 4299.7900000000045, 4169.323333333338, 4038.8566666666716, 3908.390000000005, 3777.923333333338, 3647.4566666666715, 3516.990000000005, 3386.523333333338, 3256.0566666666714, 3125.5900000000047, 2995.123333333338, 2864.6566666666713, 2734.1900000000046, 2603.723333333338, 3723.256666666671, 3592.7900000000045, 3462.323333333338, 3331.856666666671, 3201.3900000000044, 3070.9233333333377, 2940.456666666671, 2940.456666666671, 2940.456666666671, 2940.456666666671, 2940.456666666671, 2940.456666666671, 2940.456666666671, 2940.456666666671, 2940.456666666671, 2940.456666666671, 2940.456666666671, 2815.816666666671, 2691.1766666666713], 'Four 4': [3816.5366666666714, 3691.8966666666715, 3567.2566666666717, 3442.616666666672, 3317.976666666672, 3193.336666666672, 3068.696666666672, 2944.0566666666723, 2819.4166666666724, 2694.7766666666726, 2570.1366666666727, 3695.496666666673, 3570.856666666673, 3446.216666666673, 3446.216666666673, 3446.216666666673, 3446.216666666673, 3446.216666666673, 3446.216666666673, 3446.216666666673, 3446.216666666673, 3446.216666666673, 3446.216666666673, 3446.216666666673, 3396.816666666673, 3347.416666666673, 3298.016666666673, 3248.6166666666727, 3199.2166666666726, 3149.8166666666725, 4350.416666666673, 4301.016666666674, 4251.616666666674, 4202.216666666674, 4152.816666666675, 4103.416666666675, 4103.416666666675, 4103.416666666675, 4103.416666666675, 4103.416666666675, 4103.416666666675, 4103.416666666675, 4103.416666666675, 4103.416666666675, 4103.416666666675, 4103.416666666675, 3972.9500000000085, 3842.4833333333418, 3712.016666666675, 4831.550000000009, 4701.083333333343, 4570.616666666677, 4440.150000000011, 4309.683333333344, 4179.216666666678, 4048.7500000000114, 3918.2833333333447, 3787.816666666678, 3657.3500000000113, 3526.8833333333446, 3396.416666666678, 3265.950000000011, 3265.950000000011, 3265.950000000011, 3265.950000000011, 3265.950000000011, 3265.950000000011, 3265.950000000011, 3265.950000000011, 3265.950000000011, 3265.950000000011, 3265.950000000011], 'Four 5': [4422.058333333345, 4328.166666666679, 4234.275000000012, 4140.383333333346, 4046.4916666666795, 3952.600000000013, 3858.7083333333467, 3764.8166666666802, 3670.925000000014, 3577.0333333333474, 3483.141666666681, 3389.2500000000146, 3295.358333333348]}\n",
      "Mgvalues_dict :  {'chargement_et_fusion': [], 'Four 1': [0.0445, 0.044, 0.0435, 0.043, 0.042499999999999996, 0.041999999999999996, 0.041499999999999995, 0.040999999999999995, 0.040499999999999994, 0.0445, 0.044, 0.0435, 0.043, 0.042499999999999996, 0.041999999999999996, 0.041499999999999995, 0.040999999999999995, 0.040499999999999994, 0.039999999999999994], 'Four 2': [0.0445, 0.044, 0.0435, 0.043, 0.042499999999999996, 0.041999999999999996, 0.041499999999999995, 0.040999999999999995, 0.040499999999999994, 0.0445, 0.044, 0.0435, 0.043, 0.042499999999999996, 0.041999999999999996, 0.041499999999999995, 0.040999999999999995, 0.040499999999999994, 0.039999999999999994, 0.0445, 0.044, 0.0435, 0.043, 0.042499999999999996, 0.041999999999999996, 0.041499999999999995, 0.040999999999999995, 0.040499999999999994, 0.039999999999999994, 0.03949999999999999, 0.03899999999999999, 0.03849999999999999, 0.03799999999999999, 0.03749999999999999, 0.03699999999999999, 0.03649999999999999, 0.03599999999999999, 0.03549999999999999, 0.0445, 0.044, 0.0435, 0.043, 0.042499999999999996, 0.041999999999999996, 0.041499999999999995, 0.040999999999999995, 0.040499999999999994, 0.039999999999999994, 0.03949999999999999, 0.03899999999999999, 0.03849999999999999, 0.03799999999999999, 0.03749999999999999, 0.03699999999999999, 0.03649999999999999, 0.03599999999999999, 0.03549999999999999], 'Four 3': [0.0445, 0.044, 0.0435, 0.043, 0.042499999999999996, 0.041999999999999996, 0.041499999999999995, 0.040999999999999995, 0.040499999999999994, 0.039999999999999994, 0.03949999999999999, 0.03899999999999999, 0.03849999999999999, 0.03799999999999999, 0.03749999999999999, 0.03699999999999999, 0.03649999999999999, 0.03599999999999999, 0.03549999999999999, 0.03499999999999999, 0.03449999999999999, 0.0445, 0.044, 0.0435, 0.043, 0.042499999999999996, 0.041999999999999996, 0.041499999999999995, 0.040999999999999995, 0.040499999999999994, 0.039999999999999994, 0.03949999999999999, 0.03899999999999999, 0.03849999999999999, 0.03799999999999999, 0.03749999999999999, 0.03699999999999999, 0.03649999999999999, 0.03599999999999999, 0.03549999999999999, 0.0445, 0.044, 0.0435, 0.043, 0.042499999999999996, 0.041999999999999996, 0.041499999999999995, 0.040999999999999995, 0.040499999999999994, 0.039999999999999994, 0.03949999999999999, 0.03899999999999999, 0.03849999999999999, 0.03799999999999999, 0.03749999999999999, 0.03699999999999999, 0.03649999999999999, 0.03599999999999999, 0.03549999999999999, 0.0445, 0.044, 0.0435, 0.043, 0.042499999999999996, 0.041999999999999996, 0.041499999999999995, 0.040999999999999995, 0.040499999999999994, 0.039999999999999994, 0.03949999999999999, 0.03899999999999999, 0.03849999999999999, 0.03799999999999999, 0.03749999999999999, 0.03699999999999999, 0.03649999999999999, 0.03599999999999999, 0.03549999999999999], 'Four 4': [0.0445, 0.044, 0.0435, 0.043, 0.042499999999999996, 0.041999999999999996, 0.041499999999999995, 0.040999999999999995, 0.040499999999999994, 0.039999999999999994, 0.03949999999999999, 0.0445, 0.044, 0.0435, 0.043, 0.042499999999999996, 0.041999999999999996, 0.041499999999999995, 0.040999999999999995, 0.040499999999999994, 0.039999999999999994, 0.03949999999999999, 0.03899999999999999, 0.03849999999999999, 0.03799999999999999, 0.03749999999999999, 0.03699999999999999, 0.03649999999999999, 0.03599999999999999, 0.03549999999999999, 0.0445, 0.044, 0.0435, 0.043, 0.042499999999999996, 0.041999999999999996, 0.041499999999999995, 0.040999999999999995, 0.040499999999999994, 0.039999999999999994, 0.03949999999999999, 0.03899999999999999, 0.03849999999999999, 0.03799999999999999, 0.03749999999999999, 0.03699999999999999, 0.03649999999999999, 0.03599999999999999, 0.03549999999999999, 0.0445, 0.044, 0.0435, 0.043, 0.042499999999999996, 0.041999999999999996, 0.041499999999999995, 0.040999999999999995, 0.040499999999999994, 0.039999999999999994, 0.03949999999999999, 0.03899999999999999, 0.03849999999999999, 0.03799999999999999, 0.03749999999999999, 0.03699999999999999, 0.03649999999999999, 0.03599999999999999, 0.03549999999999999, 0.03499999999999999, 0.03449999999999999, 0.03399999999999999, 0.03349999999999999], 'Four 5': [0.0445, 0.044, 0.0435, 0.043, 0.042499999999999996, 0.041999999999999996, 0.041499999999999995, 0.040999999999999995, 0.040499999999999994, 0.039999999999999994, 0.03949999999999999, 0.03899999999999999, 0.03849999999999999]}\n"
     ]
    }
   ],
   "source": [
    "# Données initiales\n",
    "liste_cadences_moule_par_heure = [190, 190, 190, 210, 190, 190, 190, 190, 190]  # en unités/heure\n",
    "liste_quantites_moules_a_produire = [121, 50, 35, 10, 100, 50, 35, 50, 40]  # en unités\n",
    "liste_masses_grappes_moules = [41.2, 39.36, 15.6, 19.94, 41.20, 39.36, 15.60, 41.20, 29.65]  # en kg\n",
    "\n",
    "# Variables de simulation\n",
    "PFCmin = 2500 # en kg\n",
    "PFCmax = 5000 # en kg\n",
    "Mgmin = 0.035 # en %\n",
    "Mgmax = 0.045 # en %\n",
    "eC = 0.0005 # en %\n",
    "poche_i = 1250 # en kg\n",
    "tmin = 0 # en minutes\n",
    "t = 0 # en minutes\n",
    "\n",
    "\n",
    "temps_serie = 10  # Initialisation du temps pour changer de modèle\n",
    "temps_Panne = 10  # Initialisation du temps pour la panne\n",
    "\n",
    "# Dictionnaires pour stocker les variables et états\n",
    "cles = [\"chargement_et_fusion\", \"Four 1\", \"Four 2\", \"Four 3\", \"Four 4\", \"Four 5\"]\n",
    "times_dict = {cle: [] for cle in cles}\n",
    "PFC_Consomvalues_dict = {cle: [] for cle in cles}\n",
    "Mgvalues_dict = {cle: [] for cle in cles}\n",
    "\n",
    "\n",
    "PFC_Consom = 3750  # Initialisation de la fonte consommée\n",
    "Mg =  Mgmax  # Initialisation du pourcentage de Mg\n",
    "tmax = 4*60 # en minutes\n",
    "\n",
    "# Initialisation des états\n",
    "etat = \"etat_Consom\"  # État initial : production de moules\n",
    "temps_serie_courant = temps_serie\n",
    "temps_Panne_courant = temps_Panne\n",
    "numPoche = 3\n",
    "numFours = 1\n",
    "\n",
    "\n",
    "#  if  debut < t and  t > fin :\n",
    "debut,fin = 73,73\n",
    "\n",
    "# Boucle de simulation\n",
    "while t < tmax :\n",
    "    if etat == \"etat_Consom\":\n",
    "        masse_grappe_moule = liste_masses_grappes_moules[0] \n",
    "        cadence_moule_par_heure = liste_cadences_moule_par_heure[0]\n",
    "        quantite_moules_a_produire  = liste_quantites_moules_a_produire[0]\n",
    "        \n",
    "        # La cadence de consommation en kg/min du i-ème modèle\n",
    "        cadence_consommation_kg_min = cadence_moule_par_heure / 60 * masse_grappe_moule  # en kg/min\n",
    "\n",
    "        # Quantités de moules du i-ème modèle produits en une minute\n",
    "        cadence_moule_par_minute = cadence_consommation_kg_min / masse_grappe_moule # en unités/min\n",
    "        \n",
    "        if  debut < t and  t < fin :\n",
    "            print('t = ',t)\n",
    "            print(\"Ici1\", Mg, PFC_Consom, cadence_consommation_kg_min,quantite_moules_a_produire,quantite_moules_restants)\n",
    "        \n",
    "        # Si l'on peut consommer (c-a-d Mg et PFC sont okay) alors on consomme\n",
    "        if (PFC_Consom - cadence_consommation_kg_min >= PFCmin) and (Mg - eC >= Mgmin):\n",
    "            \n",
    "            # Mise à jour du pourcentage de Mg et du poid fonte coulée\n",
    "            PFC_Consom -= cadence_consommation_kg_min\n",
    "            Mg -= eC\n",
    "\n",
    "            # Quantités de moules restants du i-ème modèle après une minute\n",
    "            quantite_moules_restants = quantite_moules_a_produire - cadence_moule_par_minute # en unités\n",
    "            \n",
    "\n",
    "            if  debut < t and  t < fin :\n",
    "                print(\"Ici2\", PFC_Consom, cadence_consommation_kg_min,quantite_moules_a_produire,quantite_moules_restants)\n",
    "\n",
    "            \n",
    "            # On a finis de réaliser le i-ème modèle alors on passe au i+1-ème modèle\n",
    "            # Avec la mise à jour de liste_quantites_moules_a_produire et liste_masses_grappes_moules\n",
    "            if quantite_moules_restants <= 0:\n",
    "                # Passer à l'état changement de modèles\n",
    "                etat = \"etat_Serie\"\n",
    "                # Suppression des éléments déjà traités dans les listes\n",
    "                liste_masses_grappes_moules.pop(0)\n",
    "                liste_quantites_moules_a_produire.pop(0)\n",
    "                liste_cadences_moule_par_heure.pop(0)\n",
    "                \n",
    "                # Si on a finis de tous produire alors on stoppe la procédure \n",
    "                # On passe  à l'état Fin\n",
    "                if liste_masses_grappes_moules == []:  \n",
    "                    etat = \"etat_Fin\" \n",
    "                \n",
    "                if  debut < t and  t < fin :\n",
    "                    print(\"Ici3\",PFC_Consom, cadence_consommation_kg_min,quantite_moules_a_produire,quantite_moules_restants)\n",
    "\n",
    "            # On a finis de réaliser le j-ème moules du i-ème modèle alors on passe au j-ème moules\n",
    "            # En restant dans l'état consommation \n",
    "            else:\n",
    "                if  debut < t and  t < fin :\n",
    "                    print(\"Ici3\",PFC_Consom, cadence_consommation_kg_min,quantite_moules_a_produire,quantite_moules_restants)\n",
    "\n",
    "                liste_quantites_moules_a_produire[0] = quantite_moules_restants\n",
    "                etat = \"etat_Consom\"\n",
    "                \n",
    "        else:\n",
    "            # Ajout poche car Mg ou PFC insuffisant !!\n",
    "            PFC_Consom += poche_i\n",
    "            Mg = Mgmax \n",
    "\n",
    "            if numPoche < 4:\n",
    "                numPoche += 1\n",
    "            else :\n",
    "                numPoche = 1\n",
    "                numFours += 1\n",
    "            \n",
    "            # Mise à jour du pourcentage de Mg et du poid fonte coulée\n",
    "            PFC_Consom -= cadence_consommation_kg_min\n",
    "            Mg -= eC\n",
    "            \n",
    "            if PFC_Consom > PFCmax :\n",
    "                print(\"On a depasser pas la capacité du Fours de Coulée\")\n",
    "            cadence_moule_par_minute = cadence_consommation_kg_min / masse_grappe_moule\n",
    "            quantite_moules_restants = quantite_moules_a_produire - cadence_moule_par_minute\n",
    "            \n",
    "            if  debut < t and  t < fin :\n",
    "                print(\"Ici2\", Mg, PFC_Consom, cadence_consommation_kg_min,quantite_moules_a_produire,quantite_moules_restants)\n",
    "\n",
    "            # On a finis de réaliser le i-ème modèle alors on passe au i+1-ème modèle\n",
    "            # Avec la mise à jour de liste_quantites_moules_a_produire et liste_masses_grappes_moules\n",
    "            if quantite_moules_restants <= 0:\n",
    "                etat = \"etat_Serie\"\n",
    "                # Suppression des éléments déjà traités dans les listes\n",
    "                liste_masses_grappes_moules.pop(0)\n",
    "                liste_quantites_moules_a_produire.pop(0)\n",
    "                liste_cadences_moule_par_heure.pop(0)\n",
    "\n",
    "                # Si on a finis de tous produire alors on stoppe la procédure \n",
    "                # On passe  à l'état Fin\n",
    "                if liste_masses_grappes_moules == []:\n",
    "                    etat = \"etat_Fin\"\n",
    "                \n",
    "                if  debut < t and  t < fin :\n",
    "                    print(\"Ici3\", Mg, PFC_Consom, cadence_consommation_kg_min,quantite_moules_a_produire,quantite_moules_restants)\n",
    "            \n",
    "            # On a finis de réaliser le j-ème moules du i-ème modèle alors on passe au j-ème moules\n",
    "            # En restant dans l'état consommation \n",
    "            else:\n",
    "                if  debut < t and  t < fin :\n",
    "                    print(\"Ici3\", Mg, PFC_Consom, cadence_consommation_kg_min,quantite_moules_a_produire,quantite_moules_restants)\n",
    "\n",
    "                liste_quantites_moules_a_produire[0] = quantite_moules_restants\n",
    "                etat = \"etat_Consom\"\n",
    "\n",
    "    elif etat == \"etat_Serie\":\n",
    "        # print(\"Changement de Serie\")\n",
    "        Mg -= eC\n",
    "        temps_serie_courant -= 1\n",
    "        \n",
    "        if temps_serie_courant <= 0:\n",
    "            etat = \"etat_Consom\"\n",
    "            if  debut < t and  t < fin :\n",
    "                print(\"Fin Temps Serie\",Mg, PFC_Consom, cadence_consommation_kg_min,quantite_moules_restants)\n",
    "            temps_serie_courant = temps_serie\n",
    "        else:\n",
    "            etat == \"etat_Serie\" \n",
    "\n",
    "\n",
    "    elif etat == \"etat_Panne\":\n",
    "        Mg -= eC\n",
    "        temps_Panne_courant -= 1\n",
    "        \n",
    "        if temps_Panne_courant <= 0:\n",
    "            etat = \"etat_Consom\"\n",
    "            if  debut < t and  t < fin :\n",
    "                print(\"Fin Panne\",Mg, PFC_Consom, cadence_consommation_kg_min,quantite_moules_restants)\n",
    "            temps_Panne_courant = temps_Panne\n",
    "        else:\n",
    "            etat == \"etat_Panne\"\n",
    "\n",
    "    elif etat == \"etat_Fin\":\n",
    "        break\n",
    "    \n",
    "    # Mise à jour du temps\n",
    "    t += 1\n",
    "    cle = \"Four 1\"\n",
    "    cle = f\"Four {numFours}\" \n",
    "    PFC_Consomvalues_dict[cle].append(PFC_Consom)\n",
    "    Mgvalues_dict[cle].append(Mg)\n",
    "    times_dict[cle].append(t)\n",
    "\n",
    "\n",
    "\n",
    "\n",
    "# Affichage des résultats finaux ou mise à jour des dictionnaires\n",
    "print(\"Résultats finaux ou mises à jour des dictionnaires : \")\n",
    "print(\"times_dict : \", times_dict)\n",
    "print(\"PFC_Consomvalues_dict : \", PFC_Consomvalues_dict)\n",
    "print(\"Mgvalues_dict : \", Mgvalues_dict)\n"
   ]
  },
  {
   "cell_type": "code",
   "execution_count": 14,
   "metadata": {},
   "outputs": [
    {
     "data": {
      "application/vnd.plotly.v1+json": {
       "config": {
        "plotlyServerURL": "https://plot.ly"
       },
       "data": [
        {
         "line": {
          "color": "royalblue"
         },
         "mode": "lines",
         "name": "PFC over time (chargement_et_fusion)",
         "type": "scatter",
         "x": [],
         "y": []
        },
        {
         "line": {
          "color": "firebrick"
         },
         "mode": "lines",
         "name": "PFC over time (Four 1)",
         "type": "scatter",
         "x": [
          1,
          2,
          3,
          4,
          5,
          6,
          7,
          8,
          9,
          10,
          11,
          12,
          13,
          14,
          15,
          16,
          17,
          18,
          19
         ],
         "y": [
          3619.5333333333333,
          3489.0666666666666,
          3358.6,
          3228.133333333333,
          3097.6666666666665,
          2967.2,
          2836.733333333333,
          2706.2666666666664,
          2575.7999999999997,
          3695.333333333333,
          3564.8666666666663,
          3434.3999999999996,
          3303.933333333333,
          3173.4666666666662,
          3042.9999999999995,
          2912.533333333333,
          2782.066666666666,
          2651.5999999999995,
          2521.1333333333328
         ]
        },
        {
         "line": {
          "color": "green"
         },
         "mode": "lines",
         "name": "PFC over time (Four 2)",
         "type": "scatter",
         "x": [
          20,
          21,
          22,
          23,
          24,
          25,
          26,
          27,
          28,
          29,
          30,
          31,
          32,
          33,
          34,
          35,
          36,
          37,
          38,
          39,
          40,
          41,
          42,
          43,
          44,
          45,
          46,
          47,
          48,
          49,
          50,
          51,
          52,
          53,
          54,
          55,
          56,
          57,
          58,
          59,
          60,
          61,
          62,
          63,
          64,
          65,
          66,
          67,
          68,
          69,
          70,
          71,
          72,
          73,
          74,
          75,
          76
         ],
         "y": [
          3640.666666666666,
          3510.1999999999994,
          3379.7333333333327,
          3249.266666666666,
          3118.7999999999993,
          2988.3333333333326,
          2857.866666666666,
          2727.399999999999,
          2596.9333333333325,
          3716.466666666666,
          3585.999999999999,
          3455.5333333333324,
          3325.0666666666657,
          3194.599999999999,
          3064.1333333333323,
          2933.6666666666656,
          2803.199999999999,
          2672.733333333332,
          2542.2666666666655,
          3661.799999999999,
          3661.799999999999,
          3661.799999999999,
          3661.799999999999,
          3661.799999999999,
          3661.799999999999,
          3661.799999999999,
          3661.799999999999,
          3661.799999999999,
          3661.799999999999,
          3661.799999999999,
          3537.159999999999,
          3412.519999999999,
          3287.879999999999,
          3163.2399999999993,
          3038.5999999999995,
          2913.9599999999996,
          2789.3199999999997,
          2664.68,
          3790.04,
          3665.4,
          3540.76,
          3416.1200000000003,
          3291.4800000000005,
          3166.8400000000006,
          3042.2000000000007,
          2917.560000000001,
          2917.560000000001,
          2917.560000000001,
          2917.560000000001,
          2917.560000000001,
          2917.560000000001,
          2917.560000000001,
          2917.560000000001,
          2917.560000000001,
          2917.560000000001,
          2917.560000000001,
          2868.1600000000008
         ]
        },
        {
         "line": {
          "color": "orange"
         },
         "mode": "lines",
         "name": "PFC over time (Four 3)",
         "type": "scatter",
         "x": [
          77,
          78,
          79,
          80,
          81,
          82,
          83,
          84,
          85,
          86,
          87,
          88,
          89,
          90,
          91,
          92,
          93,
          94,
          95,
          96,
          97,
          98,
          99,
          100,
          101,
          102,
          103,
          104,
          105,
          106,
          107,
          108,
          109,
          110,
          111,
          112,
          113,
          114,
          115,
          116,
          117,
          118,
          119,
          120,
          121,
          122,
          123,
          124,
          125,
          126,
          127,
          128,
          129,
          130,
          131,
          132,
          133,
          134,
          135,
          136,
          137,
          138,
          139,
          140,
          141,
          142,
          143,
          144,
          145,
          146,
          147,
          148,
          149,
          150,
          151,
          152,
          153,
          154
         ],
         "y": [
          4068.7600000000007,
          4019.3600000000006,
          3969.9600000000005,
          3920.5600000000004,
          3871.1600000000003,
          3821.76,
          3772.36,
          3722.96,
          3673.56,
          3624.16,
          3574.7599999999998,
          3574.7599999999998,
          3574.7599999999998,
          3574.7599999999998,
          3574.7599999999998,
          3574.7599999999998,
          3574.7599999999998,
          3574.7599999999998,
          3574.7599999999998,
          3574.7599999999998,
          3574.7599999999998,
          4754.97,
          4685.18,
          4615.39,
          4615.39,
          4615.39,
          4615.39,
          4615.39,
          4615.39,
          4615.39,
          4615.39,
          4615.39,
          4615.39,
          4615.39,
          4484.923333333334,
          4354.456666666668,
          4223.990000000002,
          4093.523333333335,
          3963.056666666668,
          3832.5900000000015,
          4952.123333333336,
          4821.6566666666695,
          4691.190000000003,
          4560.723333333337,
          4430.256666666671,
          4299.7900000000045,
          4169.323333333338,
          4038.8566666666716,
          3908.390000000005,
          3777.923333333338,
          3647.4566666666715,
          3516.990000000005,
          3386.523333333338,
          3256.0566666666714,
          3125.5900000000047,
          2995.123333333338,
          2864.6566666666713,
          2734.1900000000046,
          2603.723333333338,
          3723.256666666671,
          3592.7900000000045,
          3462.323333333338,
          3331.856666666671,
          3201.3900000000044,
          3070.9233333333377,
          2940.456666666671,
          2940.456666666671,
          2940.456666666671,
          2940.456666666671,
          2940.456666666671,
          2940.456666666671,
          2940.456666666671,
          2940.456666666671,
          2940.456666666671,
          2940.456666666671,
          2940.456666666671,
          2815.816666666671,
          2691.1766666666713
         ]
        },
        {
         "line": {
          "color": "purple"
         },
         "mode": "lines",
         "name": "PFC over time (Four 4)",
         "type": "scatter",
         "x": [
          155,
          156,
          157,
          158,
          159,
          160,
          161,
          162,
          163,
          164,
          165,
          166,
          167,
          168,
          169,
          170,
          171,
          172,
          173,
          174,
          175,
          176,
          177,
          178,
          179,
          180,
          181,
          182,
          183,
          184,
          185,
          186,
          187,
          188,
          189,
          190,
          191,
          192,
          193,
          194,
          195,
          196,
          197,
          198,
          199,
          200,
          201,
          202,
          203,
          204,
          205,
          206,
          207,
          208,
          209,
          210,
          211,
          212,
          213,
          214,
          215,
          216,
          217,
          218,
          219,
          220,
          221,
          222,
          223,
          224,
          225,
          226
         ],
         "y": [
          3816.5366666666714,
          3691.8966666666715,
          3567.2566666666717,
          3442.616666666672,
          3317.976666666672,
          3193.336666666672,
          3068.696666666672,
          2944.0566666666723,
          2819.4166666666724,
          2694.7766666666726,
          2570.1366666666727,
          3695.496666666673,
          3570.856666666673,
          3446.216666666673,
          3446.216666666673,
          3446.216666666673,
          3446.216666666673,
          3446.216666666673,
          3446.216666666673,
          3446.216666666673,
          3446.216666666673,
          3446.216666666673,
          3446.216666666673,
          3446.216666666673,
          3396.816666666673,
          3347.416666666673,
          3298.016666666673,
          3248.6166666666727,
          3199.2166666666726,
          3149.8166666666725,
          4350.416666666673,
          4301.016666666674,
          4251.616666666674,
          4202.216666666674,
          4152.816666666675,
          4103.416666666675,
          4103.416666666675,
          4103.416666666675,
          4103.416666666675,
          4103.416666666675,
          4103.416666666675,
          4103.416666666675,
          4103.416666666675,
          4103.416666666675,
          4103.416666666675,
          4103.416666666675,
          3972.9500000000085,
          3842.4833333333418,
          3712.016666666675,
          4831.550000000009,
          4701.083333333343,
          4570.616666666677,
          4440.150000000011,
          4309.683333333344,
          4179.216666666678,
          4048.7500000000114,
          3918.2833333333447,
          3787.816666666678,
          3657.3500000000113,
          3526.8833333333446,
          3396.416666666678,
          3265.950000000011,
          3265.950000000011,
          3265.950000000011,
          3265.950000000011,
          3265.950000000011,
          3265.950000000011,
          3265.950000000011,
          3265.950000000011,
          3265.950000000011,
          3265.950000000011,
          3265.950000000011
         ]
        },
        {
         "line": {
          "color": "royalblue"
         },
         "mode": "lines",
         "name": "PFC over time (Four 5)",
         "type": "scatter",
         "x": [
          227,
          228,
          229,
          230,
          231,
          232,
          233,
          234,
          235,
          236,
          237,
          238,
          239
         ],
         "y": [
          4422.058333333345,
          4328.166666666679,
          4234.275000000012,
          4140.383333333346,
          4046.4916666666795,
          3952.600000000013,
          3858.7083333333467,
          3764.8166666666802,
          3670.925000000014,
          3577.0333333333474,
          3483.141666666681,
          3389.2500000000146,
          3295.358333333348
         ]
        }
       ],
       "layout": {
        "annotations": [
         {
          "arrowhead": 2,
          "ax": 20,
          "ay": -30,
          "showarrow": true,
          "text": "PFCmin",
          "x": 19,
          "xref": "x",
          "y": 2500,
          "yref": "y"
         },
         {
          "arrowhead": 2,
          "ax": 20,
          "ay": -30,
          "showarrow": true,
          "text": "PFCmax",
          "x": 19,
          "xref": "x",
          "y": 5000,
          "yref": "y"
         }
        ],
        "shapes": [
         {
          "line": {
           "color": "firebrick",
           "dash": "dash",
           "width": 2
          },
          "name": "PFCmin",
          "type": "line",
          "x0": 1,
          "x1": 19,
          "y0": 2500,
          "y1": 2500
         },
         {
          "line": {
           "color": "green",
           "dash": "dash",
           "width": 2
          },
          "name": "PFCmax",
          "type": "line",
          "x0": 1,
          "x1": 19,
          "y0": 5000,
          "y1": 5000
         }
        ],
        "showlegend": true,
        "template": {
         "data": {
          "bar": [
           {
            "error_x": {
             "color": "#2a3f5f"
            },
            "error_y": {
             "color": "#2a3f5f"
            },
            "marker": {
             "line": {
              "color": "#E5ECF6",
              "width": 0.5
             },
             "pattern": {
              "fillmode": "overlay",
              "size": 10,
              "solidity": 0.2
             }
            },
            "type": "bar"
           }
          ],
          "barpolar": [
           {
            "marker": {
             "line": {
              "color": "#E5ECF6",
              "width": 0.5
             },
             "pattern": {
              "fillmode": "overlay",
              "size": 10,
              "solidity": 0.2
             }
            },
            "type": "barpolar"
           }
          ],
          "carpet": [
           {
            "aaxis": {
             "endlinecolor": "#2a3f5f",
             "gridcolor": "white",
             "linecolor": "white",
             "minorgridcolor": "white",
             "startlinecolor": "#2a3f5f"
            },
            "baxis": {
             "endlinecolor": "#2a3f5f",
             "gridcolor": "white",
             "linecolor": "white",
             "minorgridcolor": "white",
             "startlinecolor": "#2a3f5f"
            },
            "type": "carpet"
           }
          ],
          "choropleth": [
           {
            "colorbar": {
             "outlinewidth": 0,
             "ticks": ""
            },
            "type": "choropleth"
           }
          ],
          "contour": [
           {
            "colorbar": {
             "outlinewidth": 0,
             "ticks": ""
            },
            "colorscale": [
             [
              0,
              "#0d0887"
             ],
             [
              0.1111111111111111,
              "#46039f"
             ],
             [
              0.2222222222222222,
              "#7201a8"
             ],
             [
              0.3333333333333333,
              "#9c179e"
             ],
             [
              0.4444444444444444,
              "#bd3786"
             ],
             [
              0.5555555555555556,
              "#d8576b"
             ],
             [
              0.6666666666666666,
              "#ed7953"
             ],
             [
              0.7777777777777778,
              "#fb9f3a"
             ],
             [
              0.8888888888888888,
              "#fdca26"
             ],
             [
              1,
              "#f0f921"
             ]
            ],
            "type": "contour"
           }
          ],
          "contourcarpet": [
           {
            "colorbar": {
             "outlinewidth": 0,
             "ticks": ""
            },
            "type": "contourcarpet"
           }
          ],
          "heatmap": [
           {
            "colorbar": {
             "outlinewidth": 0,
             "ticks": ""
            },
            "colorscale": [
             [
              0,
              "#0d0887"
             ],
             [
              0.1111111111111111,
              "#46039f"
             ],
             [
              0.2222222222222222,
              "#7201a8"
             ],
             [
              0.3333333333333333,
              "#9c179e"
             ],
             [
              0.4444444444444444,
              "#bd3786"
             ],
             [
              0.5555555555555556,
              "#d8576b"
             ],
             [
              0.6666666666666666,
              "#ed7953"
             ],
             [
              0.7777777777777778,
              "#fb9f3a"
             ],
             [
              0.8888888888888888,
              "#fdca26"
             ],
             [
              1,
              "#f0f921"
             ]
            ],
            "type": "heatmap"
           }
          ],
          "heatmapgl": [
           {
            "colorbar": {
             "outlinewidth": 0,
             "ticks": ""
            },
            "colorscale": [
             [
              0,
              "#0d0887"
             ],
             [
              0.1111111111111111,
              "#46039f"
             ],
             [
              0.2222222222222222,
              "#7201a8"
             ],
             [
              0.3333333333333333,
              "#9c179e"
             ],
             [
              0.4444444444444444,
              "#bd3786"
             ],
             [
              0.5555555555555556,
              "#d8576b"
             ],
             [
              0.6666666666666666,
              "#ed7953"
             ],
             [
              0.7777777777777778,
              "#fb9f3a"
             ],
             [
              0.8888888888888888,
              "#fdca26"
             ],
             [
              1,
              "#f0f921"
             ]
            ],
            "type": "heatmapgl"
           }
          ],
          "histogram": [
           {
            "marker": {
             "pattern": {
              "fillmode": "overlay",
              "size": 10,
              "solidity": 0.2
             }
            },
            "type": "histogram"
           }
          ],
          "histogram2d": [
           {
            "colorbar": {
             "outlinewidth": 0,
             "ticks": ""
            },
            "colorscale": [
             [
              0,
              "#0d0887"
             ],
             [
              0.1111111111111111,
              "#46039f"
             ],
             [
              0.2222222222222222,
              "#7201a8"
             ],
             [
              0.3333333333333333,
              "#9c179e"
             ],
             [
              0.4444444444444444,
              "#bd3786"
             ],
             [
              0.5555555555555556,
              "#d8576b"
             ],
             [
              0.6666666666666666,
              "#ed7953"
             ],
             [
              0.7777777777777778,
              "#fb9f3a"
             ],
             [
              0.8888888888888888,
              "#fdca26"
             ],
             [
              1,
              "#f0f921"
             ]
            ],
            "type": "histogram2d"
           }
          ],
          "histogram2dcontour": [
           {
            "colorbar": {
             "outlinewidth": 0,
             "ticks": ""
            },
            "colorscale": [
             [
              0,
              "#0d0887"
             ],
             [
              0.1111111111111111,
              "#46039f"
             ],
             [
              0.2222222222222222,
              "#7201a8"
             ],
             [
              0.3333333333333333,
              "#9c179e"
             ],
             [
              0.4444444444444444,
              "#bd3786"
             ],
             [
              0.5555555555555556,
              "#d8576b"
             ],
             [
              0.6666666666666666,
              "#ed7953"
             ],
             [
              0.7777777777777778,
              "#fb9f3a"
             ],
             [
              0.8888888888888888,
              "#fdca26"
             ],
             [
              1,
              "#f0f921"
             ]
            ],
            "type": "histogram2dcontour"
           }
          ],
          "mesh3d": [
           {
            "colorbar": {
             "outlinewidth": 0,
             "ticks": ""
            },
            "type": "mesh3d"
           }
          ],
          "parcoords": [
           {
            "line": {
             "colorbar": {
              "outlinewidth": 0,
              "ticks": ""
             }
            },
            "type": "parcoords"
           }
          ],
          "pie": [
           {
            "automargin": true,
            "type": "pie"
           }
          ],
          "scatter": [
           {
            "fillpattern": {
             "fillmode": "overlay",
             "size": 10,
             "solidity": 0.2
            },
            "type": "scatter"
           }
          ],
          "scatter3d": [
           {
            "line": {
             "colorbar": {
              "outlinewidth": 0,
              "ticks": ""
             }
            },
            "marker": {
             "colorbar": {
              "outlinewidth": 0,
              "ticks": ""
             }
            },
            "type": "scatter3d"
           }
          ],
          "scattercarpet": [
           {
            "marker": {
             "colorbar": {
              "outlinewidth": 0,
              "ticks": ""
             }
            },
            "type": "scattercarpet"
           }
          ],
          "scattergeo": [
           {
            "marker": {
             "colorbar": {
              "outlinewidth": 0,
              "ticks": ""
             }
            },
            "type": "scattergeo"
           }
          ],
          "scattergl": [
           {
            "marker": {
             "colorbar": {
              "outlinewidth": 0,
              "ticks": ""
             }
            },
            "type": "scattergl"
           }
          ],
          "scattermapbox": [
           {
            "marker": {
             "colorbar": {
              "outlinewidth": 0,
              "ticks": ""
             }
            },
            "type": "scattermapbox"
           }
          ],
          "scatterpolar": [
           {
            "marker": {
             "colorbar": {
              "outlinewidth": 0,
              "ticks": ""
             }
            },
            "type": "scatterpolar"
           }
          ],
          "scatterpolargl": [
           {
            "marker": {
             "colorbar": {
              "outlinewidth": 0,
              "ticks": ""
             }
            },
            "type": "scatterpolargl"
           }
          ],
          "scatterternary": [
           {
            "marker": {
             "colorbar": {
              "outlinewidth": 0,
              "ticks": ""
             }
            },
            "type": "scatterternary"
           }
          ],
          "surface": [
           {
            "colorbar": {
             "outlinewidth": 0,
             "ticks": ""
            },
            "colorscale": [
             [
              0,
              "#0d0887"
             ],
             [
              0.1111111111111111,
              "#46039f"
             ],
             [
              0.2222222222222222,
              "#7201a8"
             ],
             [
              0.3333333333333333,
              "#9c179e"
             ],
             [
              0.4444444444444444,
              "#bd3786"
             ],
             [
              0.5555555555555556,
              "#d8576b"
             ],
             [
              0.6666666666666666,
              "#ed7953"
             ],
             [
              0.7777777777777778,
              "#fb9f3a"
             ],
             [
              0.8888888888888888,
              "#fdca26"
             ],
             [
              1,
              "#f0f921"
             ]
            ],
            "type": "surface"
           }
          ],
          "table": [
           {
            "cells": {
             "fill": {
              "color": "#EBF0F8"
             },
             "line": {
              "color": "white"
             }
            },
            "header": {
             "fill": {
              "color": "#C8D4E3"
             },
             "line": {
              "color": "white"
             }
            },
            "type": "table"
           }
          ]
         },
         "layout": {
          "annotationdefaults": {
           "arrowcolor": "#2a3f5f",
           "arrowhead": 0,
           "arrowwidth": 1
          },
          "autotypenumbers": "strict",
          "coloraxis": {
           "colorbar": {
            "outlinewidth": 0,
            "ticks": ""
           }
          },
          "colorscale": {
           "diverging": [
            [
             0,
             "#8e0152"
            ],
            [
             0.1,
             "#c51b7d"
            ],
            [
             0.2,
             "#de77ae"
            ],
            [
             0.3,
             "#f1b6da"
            ],
            [
             0.4,
             "#fde0ef"
            ],
            [
             0.5,
             "#f7f7f7"
            ],
            [
             0.6,
             "#e6f5d0"
            ],
            [
             0.7,
             "#b8e186"
            ],
            [
             0.8,
             "#7fbc41"
            ],
            [
             0.9,
             "#4d9221"
            ],
            [
             1,
             "#276419"
            ]
           ],
           "sequential": [
            [
             0,
             "#0d0887"
            ],
            [
             0.1111111111111111,
             "#46039f"
            ],
            [
             0.2222222222222222,
             "#7201a8"
            ],
            [
             0.3333333333333333,
             "#9c179e"
            ],
            [
             0.4444444444444444,
             "#bd3786"
            ],
            [
             0.5555555555555556,
             "#d8576b"
            ],
            [
             0.6666666666666666,
             "#ed7953"
            ],
            [
             0.7777777777777778,
             "#fb9f3a"
            ],
            [
             0.8888888888888888,
             "#fdca26"
            ],
            [
             1,
             "#f0f921"
            ]
           ],
           "sequentialminus": [
            [
             0,
             "#0d0887"
            ],
            [
             0.1111111111111111,
             "#46039f"
            ],
            [
             0.2222222222222222,
             "#7201a8"
            ],
            [
             0.3333333333333333,
             "#9c179e"
            ],
            [
             0.4444444444444444,
             "#bd3786"
            ],
            [
             0.5555555555555556,
             "#d8576b"
            ],
            [
             0.6666666666666666,
             "#ed7953"
            ],
            [
             0.7777777777777778,
             "#fb9f3a"
            ],
            [
             0.8888888888888888,
             "#fdca26"
            ],
            [
             1,
             "#f0f921"
            ]
           ]
          },
          "colorway": [
           "#636efa",
           "#EF553B",
           "#00cc96",
           "#ab63fa",
           "#FFA15A",
           "#19d3f3",
           "#FF6692",
           "#B6E880",
           "#FF97FF",
           "#FECB52"
          ],
          "font": {
           "color": "#2a3f5f"
          },
          "geo": {
           "bgcolor": "white",
           "lakecolor": "white",
           "landcolor": "#E5ECF6",
           "showlakes": true,
           "showland": true,
           "subunitcolor": "white"
          },
          "hoverlabel": {
           "align": "left"
          },
          "hovermode": "closest",
          "mapbox": {
           "style": "light"
          },
          "paper_bgcolor": "white",
          "plot_bgcolor": "#E5ECF6",
          "polar": {
           "angularaxis": {
            "gridcolor": "white",
            "linecolor": "white",
            "ticks": ""
           },
           "bgcolor": "#E5ECF6",
           "radialaxis": {
            "gridcolor": "white",
            "linecolor": "white",
            "ticks": ""
           }
          },
          "scene": {
           "xaxis": {
            "backgroundcolor": "#E5ECF6",
            "gridcolor": "white",
            "gridwidth": 2,
            "linecolor": "white",
            "showbackground": true,
            "ticks": "",
            "zerolinecolor": "white"
           },
           "yaxis": {
            "backgroundcolor": "#E5ECF6",
            "gridcolor": "white",
            "gridwidth": 2,
            "linecolor": "white",
            "showbackground": true,
            "ticks": "",
            "zerolinecolor": "white"
           },
           "zaxis": {
            "backgroundcolor": "#E5ECF6",
            "gridcolor": "white",
            "gridwidth": 2,
            "linecolor": "white",
            "showbackground": true,
            "ticks": "",
            "zerolinecolor": "white"
           }
          },
          "shapedefaults": {
           "line": {
            "color": "#2a3f5f"
           }
          },
          "ternary": {
           "aaxis": {
            "gridcolor": "white",
            "linecolor": "white",
            "ticks": ""
           },
           "baxis": {
            "gridcolor": "white",
            "linecolor": "white",
            "ticks": ""
           },
           "bgcolor": "#E5ECF6",
           "caxis": {
            "gridcolor": "white",
            "linecolor": "white",
            "ticks": ""
           }
          },
          "title": {
           "x": 0.05
          },
          "xaxis": {
           "automargin": true,
           "gridcolor": "white",
           "linecolor": "white",
           "ticks": "",
           "title": {
            "standoff": 15
           },
           "zerolinecolor": "white",
           "zerolinewidth": 2
          },
          "yaxis": {
           "automargin": true,
           "gridcolor": "white",
           "linecolor": "white",
           "ticks": "",
           "title": {
            "standoff": 15
           },
           "zerolinecolor": "white",
           "zerolinewidth": 2
          }
         }
        },
        "title": {
         "text": "Evolution de la fonte dans le Four de Coulée au cours du temps (PFC)"
        },
        "xaxis": {
         "title": {
          "text": "Time (minutes)"
         }
        },
        "yaxis": {
         "title": {
          "text": "PFC (kg)"
         }
        }
       }
      },
      "text/html": [
       "<div>                            <div id=\"74b3e20a-694c-4a3a-9573-f72af45cb1f1\" class=\"plotly-graph-div\" style=\"height:525px; width:100%;\"></div>            <script type=\"text/javascript\">                require([\"plotly\"], function(Plotly) {                    window.PLOTLYENV=window.PLOTLYENV || {};                                    if (document.getElementById(\"74b3e20a-694c-4a3a-9573-f72af45cb1f1\")) {                    Plotly.newPlot(                        \"74b3e20a-694c-4a3a-9573-f72af45cb1f1\",                        [{\"line\":{\"color\":\"royalblue\"},\"mode\":\"lines\",\"name\":\"PFC over time (chargement_et_fusion)\",\"x\":[],\"y\":[],\"type\":\"scatter\"},{\"line\":{\"color\":\"firebrick\"},\"mode\":\"lines\",\"name\":\"PFC over time (Four 1)\",\"x\":[1,2,3,4,5,6,7,8,9,10,11,12,13,14,15,16,17,18,19],\"y\":[3619.5333333333333,3489.0666666666666,3358.6,3228.133333333333,3097.6666666666665,2967.2,2836.733333333333,2706.2666666666664,2575.7999999999997,3695.333333333333,3564.8666666666663,3434.3999999999996,3303.933333333333,3173.4666666666662,3042.9999999999995,2912.533333333333,2782.066666666666,2651.5999999999995,2521.1333333333328],\"type\":\"scatter\"},{\"line\":{\"color\":\"green\"},\"mode\":\"lines\",\"name\":\"PFC over time (Four 2)\",\"x\":[20,21,22,23,24,25,26,27,28,29,30,31,32,33,34,35,36,37,38,39,40,41,42,43,44,45,46,47,48,49,50,51,52,53,54,55,56,57,58,59,60,61,62,63,64,65,66,67,68,69,70,71,72,73,74,75,76],\"y\":[3640.666666666666,3510.1999999999994,3379.7333333333327,3249.266666666666,3118.7999999999993,2988.3333333333326,2857.866666666666,2727.399999999999,2596.9333333333325,3716.466666666666,3585.999999999999,3455.5333333333324,3325.0666666666657,3194.599999999999,3064.1333333333323,2933.6666666666656,2803.199999999999,2672.733333333332,2542.2666666666655,3661.799999999999,3661.799999999999,3661.799999999999,3661.799999999999,3661.799999999999,3661.799999999999,3661.799999999999,3661.799999999999,3661.799999999999,3661.799999999999,3661.799999999999,3537.159999999999,3412.519999999999,3287.879999999999,3163.2399999999993,3038.5999999999995,2913.9599999999996,2789.3199999999997,2664.68,3790.04,3665.4,3540.76,3416.1200000000003,3291.4800000000005,3166.8400000000006,3042.2000000000007,2917.560000000001,2917.560000000001,2917.560000000001,2917.560000000001,2917.560000000001,2917.560000000001,2917.560000000001,2917.560000000001,2917.560000000001,2917.560000000001,2917.560000000001,2868.1600000000008],\"type\":\"scatter\"},{\"line\":{\"color\":\"orange\"},\"mode\":\"lines\",\"name\":\"PFC over time (Four 3)\",\"x\":[77,78,79,80,81,82,83,84,85,86,87,88,89,90,91,92,93,94,95,96,97,98,99,100,101,102,103,104,105,106,107,108,109,110,111,112,113,114,115,116,117,118,119,120,121,122,123,124,125,126,127,128,129,130,131,132,133,134,135,136,137,138,139,140,141,142,143,144,145,146,147,148,149,150,151,152,153,154],\"y\":[4068.7600000000007,4019.3600000000006,3969.9600000000005,3920.5600000000004,3871.1600000000003,3821.76,3772.36,3722.96,3673.56,3624.16,3574.7599999999998,3574.7599999999998,3574.7599999999998,3574.7599999999998,3574.7599999999998,3574.7599999999998,3574.7599999999998,3574.7599999999998,3574.7599999999998,3574.7599999999998,3574.7599999999998,4754.97,4685.18,4615.39,4615.39,4615.39,4615.39,4615.39,4615.39,4615.39,4615.39,4615.39,4615.39,4615.39,4484.923333333334,4354.456666666668,4223.990000000002,4093.523333333335,3963.056666666668,3832.5900000000015,4952.123333333336,4821.6566666666695,4691.190000000003,4560.723333333337,4430.256666666671,4299.7900000000045,4169.323333333338,4038.8566666666716,3908.390000000005,3777.923333333338,3647.4566666666715,3516.990000000005,3386.523333333338,3256.0566666666714,3125.5900000000047,2995.123333333338,2864.6566666666713,2734.1900000000046,2603.723333333338,3723.256666666671,3592.7900000000045,3462.323333333338,3331.856666666671,3201.3900000000044,3070.9233333333377,2940.456666666671,2940.456666666671,2940.456666666671,2940.456666666671,2940.456666666671,2940.456666666671,2940.456666666671,2940.456666666671,2940.456666666671,2940.456666666671,2940.456666666671,2815.816666666671,2691.1766666666713],\"type\":\"scatter\"},{\"line\":{\"color\":\"purple\"},\"mode\":\"lines\",\"name\":\"PFC over time (Four 4)\",\"x\":[155,156,157,158,159,160,161,162,163,164,165,166,167,168,169,170,171,172,173,174,175,176,177,178,179,180,181,182,183,184,185,186,187,188,189,190,191,192,193,194,195,196,197,198,199,200,201,202,203,204,205,206,207,208,209,210,211,212,213,214,215,216,217,218,219,220,221,222,223,224,225,226],\"y\":[3816.5366666666714,3691.8966666666715,3567.2566666666717,3442.616666666672,3317.976666666672,3193.336666666672,3068.696666666672,2944.0566666666723,2819.4166666666724,2694.7766666666726,2570.1366666666727,3695.496666666673,3570.856666666673,3446.216666666673,3446.216666666673,3446.216666666673,3446.216666666673,3446.216666666673,3446.216666666673,3446.216666666673,3446.216666666673,3446.216666666673,3446.216666666673,3446.216666666673,3396.816666666673,3347.416666666673,3298.016666666673,3248.6166666666727,3199.2166666666726,3149.8166666666725,4350.416666666673,4301.016666666674,4251.616666666674,4202.216666666674,4152.816666666675,4103.416666666675,4103.416666666675,4103.416666666675,4103.416666666675,4103.416666666675,4103.416666666675,4103.416666666675,4103.416666666675,4103.416666666675,4103.416666666675,4103.416666666675,3972.9500000000085,3842.4833333333418,3712.016666666675,4831.550000000009,4701.083333333343,4570.616666666677,4440.150000000011,4309.683333333344,4179.216666666678,4048.7500000000114,3918.2833333333447,3787.816666666678,3657.3500000000113,3526.8833333333446,3396.416666666678,3265.950000000011,3265.950000000011,3265.950000000011,3265.950000000011,3265.950000000011,3265.950000000011,3265.950000000011,3265.950000000011,3265.950000000011,3265.950000000011,3265.950000000011],\"type\":\"scatter\"},{\"line\":{\"color\":\"royalblue\"},\"mode\":\"lines\",\"name\":\"PFC over time (Four 5)\",\"x\":[227,228,229,230,231,232,233,234,235,236,237,238,239],\"y\":[4422.058333333345,4328.166666666679,4234.275000000012,4140.383333333346,4046.4916666666795,3952.600000000013,3858.7083333333467,3764.8166666666802,3670.925000000014,3577.0333333333474,3483.141666666681,3389.2500000000146,3295.358333333348],\"type\":\"scatter\"}],                        {\"template\":{\"data\":{\"histogram2dcontour\":[{\"type\":\"histogram2dcontour\",\"colorbar\":{\"outlinewidth\":0,\"ticks\":\"\"},\"colorscale\":[[0.0,\"#0d0887\"],[0.1111111111111111,\"#46039f\"],[0.2222222222222222,\"#7201a8\"],[0.3333333333333333,\"#9c179e\"],[0.4444444444444444,\"#bd3786\"],[0.5555555555555556,\"#d8576b\"],[0.6666666666666666,\"#ed7953\"],[0.7777777777777778,\"#fb9f3a\"],[0.8888888888888888,\"#fdca26\"],[1.0,\"#f0f921\"]]}],\"choropleth\":[{\"type\":\"choropleth\",\"colorbar\":{\"outlinewidth\":0,\"ticks\":\"\"}}],\"histogram2d\":[{\"type\":\"histogram2d\",\"colorbar\":{\"outlinewidth\":0,\"ticks\":\"\"},\"colorscale\":[[0.0,\"#0d0887\"],[0.1111111111111111,\"#46039f\"],[0.2222222222222222,\"#7201a8\"],[0.3333333333333333,\"#9c179e\"],[0.4444444444444444,\"#bd3786\"],[0.5555555555555556,\"#d8576b\"],[0.6666666666666666,\"#ed7953\"],[0.7777777777777778,\"#fb9f3a\"],[0.8888888888888888,\"#fdca26\"],[1.0,\"#f0f921\"]]}],\"heatmap\":[{\"type\":\"heatmap\",\"colorbar\":{\"outlinewidth\":0,\"ticks\":\"\"},\"colorscale\":[[0.0,\"#0d0887\"],[0.1111111111111111,\"#46039f\"],[0.2222222222222222,\"#7201a8\"],[0.3333333333333333,\"#9c179e\"],[0.4444444444444444,\"#bd3786\"],[0.5555555555555556,\"#d8576b\"],[0.6666666666666666,\"#ed7953\"],[0.7777777777777778,\"#fb9f3a\"],[0.8888888888888888,\"#fdca26\"],[1.0,\"#f0f921\"]]}],\"heatmapgl\":[{\"type\":\"heatmapgl\",\"colorbar\":{\"outlinewidth\":0,\"ticks\":\"\"},\"colorscale\":[[0.0,\"#0d0887\"],[0.1111111111111111,\"#46039f\"],[0.2222222222222222,\"#7201a8\"],[0.3333333333333333,\"#9c179e\"],[0.4444444444444444,\"#bd3786\"],[0.5555555555555556,\"#d8576b\"],[0.6666666666666666,\"#ed7953\"],[0.7777777777777778,\"#fb9f3a\"],[0.8888888888888888,\"#fdca26\"],[1.0,\"#f0f921\"]]}],\"contourcarpet\":[{\"type\":\"contourcarpet\",\"colorbar\":{\"outlinewidth\":0,\"ticks\":\"\"}}],\"contour\":[{\"type\":\"contour\",\"colorbar\":{\"outlinewidth\":0,\"ticks\":\"\"},\"colorscale\":[[0.0,\"#0d0887\"],[0.1111111111111111,\"#46039f\"],[0.2222222222222222,\"#7201a8\"],[0.3333333333333333,\"#9c179e\"],[0.4444444444444444,\"#bd3786\"],[0.5555555555555556,\"#d8576b\"],[0.6666666666666666,\"#ed7953\"],[0.7777777777777778,\"#fb9f3a\"],[0.8888888888888888,\"#fdca26\"],[1.0,\"#f0f921\"]]}],\"surface\":[{\"type\":\"surface\",\"colorbar\":{\"outlinewidth\":0,\"ticks\":\"\"},\"colorscale\":[[0.0,\"#0d0887\"],[0.1111111111111111,\"#46039f\"],[0.2222222222222222,\"#7201a8\"],[0.3333333333333333,\"#9c179e\"],[0.4444444444444444,\"#bd3786\"],[0.5555555555555556,\"#d8576b\"],[0.6666666666666666,\"#ed7953\"],[0.7777777777777778,\"#fb9f3a\"],[0.8888888888888888,\"#fdca26\"],[1.0,\"#f0f921\"]]}],\"mesh3d\":[{\"type\":\"mesh3d\",\"colorbar\":{\"outlinewidth\":0,\"ticks\":\"\"}}],\"scatter\":[{\"fillpattern\":{\"fillmode\":\"overlay\",\"size\":10,\"solidity\":0.2},\"type\":\"scatter\"}],\"parcoords\":[{\"type\":\"parcoords\",\"line\":{\"colorbar\":{\"outlinewidth\":0,\"ticks\":\"\"}}}],\"scatterpolargl\":[{\"type\":\"scatterpolargl\",\"marker\":{\"colorbar\":{\"outlinewidth\":0,\"ticks\":\"\"}}}],\"bar\":[{\"error_x\":{\"color\":\"#2a3f5f\"},\"error_y\":{\"color\":\"#2a3f5f\"},\"marker\":{\"line\":{\"color\":\"#E5ECF6\",\"width\":0.5},\"pattern\":{\"fillmode\":\"overlay\",\"size\":10,\"solidity\":0.2}},\"type\":\"bar\"}],\"scattergeo\":[{\"type\":\"scattergeo\",\"marker\":{\"colorbar\":{\"outlinewidth\":0,\"ticks\":\"\"}}}],\"scatterpolar\":[{\"type\":\"scatterpolar\",\"marker\":{\"colorbar\":{\"outlinewidth\":0,\"ticks\":\"\"}}}],\"histogram\":[{\"marker\":{\"pattern\":{\"fillmode\":\"overlay\",\"size\":10,\"solidity\":0.2}},\"type\":\"histogram\"}],\"scattergl\":[{\"type\":\"scattergl\",\"marker\":{\"colorbar\":{\"outlinewidth\":0,\"ticks\":\"\"}}}],\"scatter3d\":[{\"type\":\"scatter3d\",\"line\":{\"colorbar\":{\"outlinewidth\":0,\"ticks\":\"\"}},\"marker\":{\"colorbar\":{\"outlinewidth\":0,\"ticks\":\"\"}}}],\"scattermapbox\":[{\"type\":\"scattermapbox\",\"marker\":{\"colorbar\":{\"outlinewidth\":0,\"ticks\":\"\"}}}],\"scatterternary\":[{\"type\":\"scatterternary\",\"marker\":{\"colorbar\":{\"outlinewidth\":0,\"ticks\":\"\"}}}],\"scattercarpet\":[{\"type\":\"scattercarpet\",\"marker\":{\"colorbar\":{\"outlinewidth\":0,\"ticks\":\"\"}}}],\"carpet\":[{\"aaxis\":{\"endlinecolor\":\"#2a3f5f\",\"gridcolor\":\"white\",\"linecolor\":\"white\",\"minorgridcolor\":\"white\",\"startlinecolor\":\"#2a3f5f\"},\"baxis\":{\"endlinecolor\":\"#2a3f5f\",\"gridcolor\":\"white\",\"linecolor\":\"white\",\"minorgridcolor\":\"white\",\"startlinecolor\":\"#2a3f5f\"},\"type\":\"carpet\"}],\"table\":[{\"cells\":{\"fill\":{\"color\":\"#EBF0F8\"},\"line\":{\"color\":\"white\"}},\"header\":{\"fill\":{\"color\":\"#C8D4E3\"},\"line\":{\"color\":\"white\"}},\"type\":\"table\"}],\"barpolar\":[{\"marker\":{\"line\":{\"color\":\"#E5ECF6\",\"width\":0.5},\"pattern\":{\"fillmode\":\"overlay\",\"size\":10,\"solidity\":0.2}},\"type\":\"barpolar\"}],\"pie\":[{\"automargin\":true,\"type\":\"pie\"}]},\"layout\":{\"autotypenumbers\":\"strict\",\"colorway\":[\"#636efa\",\"#EF553B\",\"#00cc96\",\"#ab63fa\",\"#FFA15A\",\"#19d3f3\",\"#FF6692\",\"#B6E880\",\"#FF97FF\",\"#FECB52\"],\"font\":{\"color\":\"#2a3f5f\"},\"hovermode\":\"closest\",\"hoverlabel\":{\"align\":\"left\"},\"paper_bgcolor\":\"white\",\"plot_bgcolor\":\"#E5ECF6\",\"polar\":{\"bgcolor\":\"#E5ECF6\",\"angularaxis\":{\"gridcolor\":\"white\",\"linecolor\":\"white\",\"ticks\":\"\"},\"radialaxis\":{\"gridcolor\":\"white\",\"linecolor\":\"white\",\"ticks\":\"\"}},\"ternary\":{\"bgcolor\":\"#E5ECF6\",\"aaxis\":{\"gridcolor\":\"white\",\"linecolor\":\"white\",\"ticks\":\"\"},\"baxis\":{\"gridcolor\":\"white\",\"linecolor\":\"white\",\"ticks\":\"\"},\"caxis\":{\"gridcolor\":\"white\",\"linecolor\":\"white\",\"ticks\":\"\"}},\"coloraxis\":{\"colorbar\":{\"outlinewidth\":0,\"ticks\":\"\"}},\"colorscale\":{\"sequential\":[[0.0,\"#0d0887\"],[0.1111111111111111,\"#46039f\"],[0.2222222222222222,\"#7201a8\"],[0.3333333333333333,\"#9c179e\"],[0.4444444444444444,\"#bd3786\"],[0.5555555555555556,\"#d8576b\"],[0.6666666666666666,\"#ed7953\"],[0.7777777777777778,\"#fb9f3a\"],[0.8888888888888888,\"#fdca26\"],[1.0,\"#f0f921\"]],\"sequentialminus\":[[0.0,\"#0d0887\"],[0.1111111111111111,\"#46039f\"],[0.2222222222222222,\"#7201a8\"],[0.3333333333333333,\"#9c179e\"],[0.4444444444444444,\"#bd3786\"],[0.5555555555555556,\"#d8576b\"],[0.6666666666666666,\"#ed7953\"],[0.7777777777777778,\"#fb9f3a\"],[0.8888888888888888,\"#fdca26\"],[1.0,\"#f0f921\"]],\"diverging\":[[0,\"#8e0152\"],[0.1,\"#c51b7d\"],[0.2,\"#de77ae\"],[0.3,\"#f1b6da\"],[0.4,\"#fde0ef\"],[0.5,\"#f7f7f7\"],[0.6,\"#e6f5d0\"],[0.7,\"#b8e186\"],[0.8,\"#7fbc41\"],[0.9,\"#4d9221\"],[1,\"#276419\"]]},\"xaxis\":{\"gridcolor\":\"white\",\"linecolor\":\"white\",\"ticks\":\"\",\"title\":{\"standoff\":15},\"zerolinecolor\":\"white\",\"automargin\":true,\"zerolinewidth\":2},\"yaxis\":{\"gridcolor\":\"white\",\"linecolor\":\"white\",\"ticks\":\"\",\"title\":{\"standoff\":15},\"zerolinecolor\":\"white\",\"automargin\":true,\"zerolinewidth\":2},\"scene\":{\"xaxis\":{\"backgroundcolor\":\"#E5ECF6\",\"gridcolor\":\"white\",\"linecolor\":\"white\",\"showbackground\":true,\"ticks\":\"\",\"zerolinecolor\":\"white\",\"gridwidth\":2},\"yaxis\":{\"backgroundcolor\":\"#E5ECF6\",\"gridcolor\":\"white\",\"linecolor\":\"white\",\"showbackground\":true,\"ticks\":\"\",\"zerolinecolor\":\"white\",\"gridwidth\":2},\"zaxis\":{\"backgroundcolor\":\"#E5ECF6\",\"gridcolor\":\"white\",\"linecolor\":\"white\",\"showbackground\":true,\"ticks\":\"\",\"zerolinecolor\":\"white\",\"gridwidth\":2}},\"shapedefaults\":{\"line\":{\"color\":\"#2a3f5f\"}},\"annotationdefaults\":{\"arrowcolor\":\"#2a3f5f\",\"arrowhead\":0,\"arrowwidth\":1},\"geo\":{\"bgcolor\":\"white\",\"landcolor\":\"#E5ECF6\",\"subunitcolor\":\"white\",\"showland\":true,\"showlakes\":true,\"lakecolor\":\"white\"},\"title\":{\"x\":0.05},\"mapbox\":{\"style\":\"light\"}}},\"shapes\":[{\"line\":{\"color\":\"firebrick\",\"dash\":\"dash\",\"width\":2},\"name\":\"PFCmin\",\"type\":\"line\",\"x0\":1,\"x1\":19,\"y0\":2500,\"y1\":2500},{\"line\":{\"color\":\"green\",\"dash\":\"dash\",\"width\":2},\"name\":\"PFCmax\",\"type\":\"line\",\"x0\":1,\"x1\":19,\"y0\":5000,\"y1\":5000}],\"title\":{\"text\":\"Evolution de la fonte dans le Four de Coul\\u00e9e au cours du temps (PFC)\"},\"xaxis\":{\"title\":{\"text\":\"Time (minutes)\"}},\"yaxis\":{\"title\":{\"text\":\"PFC (kg)\"}},\"showlegend\":true,\"annotations\":[{\"arrowhead\":2,\"ax\":20,\"ay\":-30,\"showarrow\":true,\"text\":\"PFCmin\",\"x\":19,\"xref\":\"x\",\"y\":2500,\"yref\":\"y\"},{\"arrowhead\":2,\"ax\":20,\"ay\":-30,\"showarrow\":true,\"text\":\"PFCmax\",\"x\":19,\"xref\":\"x\",\"y\":5000,\"yref\":\"y\"}]},                        {\"responsive\": true}                    ).then(function(){\n",
       "                            \n",
       "var gd = document.getElementById('74b3e20a-694c-4a3a-9573-f72af45cb1f1');\n",
       "var x = new MutationObserver(function (mutations, observer) {{\n",
       "        var display = window.getComputedStyle(gd).display;\n",
       "        if (!display || display === 'none') {{\n",
       "            console.log([gd, 'removed!']);\n",
       "            Plotly.purge(gd);\n",
       "            observer.disconnect();\n",
       "        }}\n",
       "}});\n",
       "\n",
       "// Listen for the removal of the full notebook cells\n",
       "var notebookContainer = gd.closest('#notebook-container');\n",
       "if (notebookContainer) {{\n",
       "    x.observe(notebookContainer, {childList: true});\n",
       "}}\n",
       "\n",
       "// Listen for the clearing of the current output cell\n",
       "var outputEl = gd.closest('.output');\n",
       "if (outputEl) {{\n",
       "    x.observe(outputEl, {childList: true});\n",
       "}}\n",
       "\n",
       "                        })                };                });            </script>        </div>"
      ]
     },
     "metadata": {},
     "output_type": "display_data"
    },
    {
     "data": {
      "application/vnd.plotly.v1+json": {
       "config": {
        "plotlyServerURL": "https://plot.ly"
       },
       "data": [
        {
         "line": {
          "color": "royalblue"
         },
         "mode": "lines",
         "name": "Mg over time (chargement_et_fusion)",
         "type": "scatter",
         "x": [],
         "y": []
        },
        {
         "line": {
          "color": "firebrick"
         },
         "mode": "lines",
         "name": "Mg over time (Four 1)",
         "type": "scatter",
         "x": [
          1,
          2,
          3,
          4,
          5,
          6,
          7,
          8,
          9,
          10,
          11,
          12,
          13,
          14,
          15,
          16,
          17,
          18,
          19
         ],
         "y": [
          0.0445,
          0.044,
          0.0435,
          0.043,
          0.042499999999999996,
          0.041999999999999996,
          0.041499999999999995,
          0.040999999999999995,
          0.040499999999999994,
          0.0445,
          0.044,
          0.0435,
          0.043,
          0.042499999999999996,
          0.041999999999999996,
          0.041499999999999995,
          0.040999999999999995,
          0.040499999999999994,
          0.039999999999999994
         ]
        },
        {
         "line": {
          "color": "green"
         },
         "mode": "lines",
         "name": "Mg over time (Four 2)",
         "type": "scatter",
         "x": [
          20,
          21,
          22,
          23,
          24,
          25,
          26,
          27,
          28,
          29,
          30,
          31,
          32,
          33,
          34,
          35,
          36,
          37,
          38,
          39,
          40,
          41,
          42,
          43,
          44,
          45,
          46,
          47,
          48,
          49,
          50,
          51,
          52,
          53,
          54,
          55,
          56,
          57,
          58,
          59,
          60,
          61,
          62,
          63,
          64,
          65,
          66,
          67,
          68,
          69,
          70,
          71,
          72,
          73,
          74,
          75,
          76
         ],
         "y": [
          0.0445,
          0.044,
          0.0435,
          0.043,
          0.042499999999999996,
          0.041999999999999996,
          0.041499999999999995,
          0.040999999999999995,
          0.040499999999999994,
          0.0445,
          0.044,
          0.0435,
          0.043,
          0.042499999999999996,
          0.041999999999999996,
          0.041499999999999995,
          0.040999999999999995,
          0.040499999999999994,
          0.039999999999999994,
          0.0445,
          0.044,
          0.0435,
          0.043,
          0.042499999999999996,
          0.041999999999999996,
          0.041499999999999995,
          0.040999999999999995,
          0.040499999999999994,
          0.039999999999999994,
          0.03949999999999999,
          0.03899999999999999,
          0.03849999999999999,
          0.03799999999999999,
          0.03749999999999999,
          0.03699999999999999,
          0.03649999999999999,
          0.03599999999999999,
          0.03549999999999999,
          0.0445,
          0.044,
          0.0435,
          0.043,
          0.042499999999999996,
          0.041999999999999996,
          0.041499999999999995,
          0.040999999999999995,
          0.040499999999999994,
          0.039999999999999994,
          0.03949999999999999,
          0.03899999999999999,
          0.03849999999999999,
          0.03799999999999999,
          0.03749999999999999,
          0.03699999999999999,
          0.03649999999999999,
          0.03599999999999999,
          0.03549999999999999
         ]
        },
        {
         "line": {
          "color": "orange"
         },
         "mode": "lines",
         "name": "Mg over time (Four 3)",
         "type": "scatter",
         "x": [
          77,
          78,
          79,
          80,
          81,
          82,
          83,
          84,
          85,
          86,
          87,
          88,
          89,
          90,
          91,
          92,
          93,
          94,
          95,
          96,
          97,
          98,
          99,
          100,
          101,
          102,
          103,
          104,
          105,
          106,
          107,
          108,
          109,
          110,
          111,
          112,
          113,
          114,
          115,
          116,
          117,
          118,
          119,
          120,
          121,
          122,
          123,
          124,
          125,
          126,
          127,
          128,
          129,
          130,
          131,
          132,
          133,
          134,
          135,
          136,
          137,
          138,
          139,
          140,
          141,
          142,
          143,
          144,
          145,
          146,
          147,
          148,
          149,
          150,
          151,
          152,
          153,
          154
         ],
         "y": [
          0.0445,
          0.044,
          0.0435,
          0.043,
          0.042499999999999996,
          0.041999999999999996,
          0.041499999999999995,
          0.040999999999999995,
          0.040499999999999994,
          0.039999999999999994,
          0.03949999999999999,
          0.03899999999999999,
          0.03849999999999999,
          0.03799999999999999,
          0.03749999999999999,
          0.03699999999999999,
          0.03649999999999999,
          0.03599999999999999,
          0.03549999999999999,
          0.03499999999999999,
          0.03449999999999999,
          0.0445,
          0.044,
          0.0435,
          0.043,
          0.042499999999999996,
          0.041999999999999996,
          0.041499999999999995,
          0.040999999999999995,
          0.040499999999999994,
          0.039999999999999994,
          0.03949999999999999,
          0.03899999999999999,
          0.03849999999999999,
          0.03799999999999999,
          0.03749999999999999,
          0.03699999999999999,
          0.03649999999999999,
          0.03599999999999999,
          0.03549999999999999,
          0.0445,
          0.044,
          0.0435,
          0.043,
          0.042499999999999996,
          0.041999999999999996,
          0.041499999999999995,
          0.040999999999999995,
          0.040499999999999994,
          0.039999999999999994,
          0.03949999999999999,
          0.03899999999999999,
          0.03849999999999999,
          0.03799999999999999,
          0.03749999999999999,
          0.03699999999999999,
          0.03649999999999999,
          0.03599999999999999,
          0.03549999999999999,
          0.0445,
          0.044,
          0.0435,
          0.043,
          0.042499999999999996,
          0.041999999999999996,
          0.041499999999999995,
          0.040999999999999995,
          0.040499999999999994,
          0.039999999999999994,
          0.03949999999999999,
          0.03899999999999999,
          0.03849999999999999,
          0.03799999999999999,
          0.03749999999999999,
          0.03699999999999999,
          0.03649999999999999,
          0.03599999999999999,
          0.03549999999999999
         ]
        },
        {
         "line": {
          "color": "purple"
         },
         "mode": "lines",
         "name": "Mg over time (Four 4)",
         "type": "scatter",
         "x": [
          155,
          156,
          157,
          158,
          159,
          160,
          161,
          162,
          163,
          164,
          165,
          166,
          167,
          168,
          169,
          170,
          171,
          172,
          173,
          174,
          175,
          176,
          177,
          178,
          179,
          180,
          181,
          182,
          183,
          184,
          185,
          186,
          187,
          188,
          189,
          190,
          191,
          192,
          193,
          194,
          195,
          196,
          197,
          198,
          199,
          200,
          201,
          202,
          203,
          204,
          205,
          206,
          207,
          208,
          209,
          210,
          211,
          212,
          213,
          214,
          215,
          216,
          217,
          218,
          219,
          220,
          221,
          222,
          223,
          224,
          225,
          226
         ],
         "y": [
          0.0445,
          0.044,
          0.0435,
          0.043,
          0.042499999999999996,
          0.041999999999999996,
          0.041499999999999995,
          0.040999999999999995,
          0.040499999999999994,
          0.039999999999999994,
          0.03949999999999999,
          0.0445,
          0.044,
          0.0435,
          0.043,
          0.042499999999999996,
          0.041999999999999996,
          0.041499999999999995,
          0.040999999999999995,
          0.040499999999999994,
          0.039999999999999994,
          0.03949999999999999,
          0.03899999999999999,
          0.03849999999999999,
          0.03799999999999999,
          0.03749999999999999,
          0.03699999999999999,
          0.03649999999999999,
          0.03599999999999999,
          0.03549999999999999,
          0.0445,
          0.044,
          0.0435,
          0.043,
          0.042499999999999996,
          0.041999999999999996,
          0.041499999999999995,
          0.040999999999999995,
          0.040499999999999994,
          0.039999999999999994,
          0.03949999999999999,
          0.03899999999999999,
          0.03849999999999999,
          0.03799999999999999,
          0.03749999999999999,
          0.03699999999999999,
          0.03649999999999999,
          0.03599999999999999,
          0.03549999999999999,
          0.0445,
          0.044,
          0.0435,
          0.043,
          0.042499999999999996,
          0.041999999999999996,
          0.041499999999999995,
          0.040999999999999995,
          0.040499999999999994,
          0.039999999999999994,
          0.03949999999999999,
          0.03899999999999999,
          0.03849999999999999,
          0.03799999999999999,
          0.03749999999999999,
          0.03699999999999999,
          0.03649999999999999,
          0.03599999999999999,
          0.03549999999999999,
          0.03499999999999999,
          0.03449999999999999,
          0.03399999999999999,
          0.03349999999999999
         ]
        },
        {
         "line": {
          "color": "royalblue"
         },
         "mode": "lines",
         "name": "Mg over time (Four 5)",
         "type": "scatter",
         "x": [
          227,
          228,
          229,
          230,
          231,
          232,
          233,
          234,
          235,
          236,
          237,
          238,
          239
         ],
         "y": [
          0.0445,
          0.044,
          0.0435,
          0.043,
          0.042499999999999996,
          0.041999999999999996,
          0.041499999999999995,
          0.040999999999999995,
          0.040499999999999994,
          0.039999999999999994,
          0.03949999999999999,
          0.03899999999999999,
          0.03849999999999999
         ]
        }
       ],
       "layout": {
        "annotations": [
         {
          "arrowhead": 2,
          "ax": 20,
          "ay": -30,
          "showarrow": true,
          "text": "Mgmin",
          "x": 19,
          "xref": "x",
          "y": 0.035,
          "yref": "y"
         },
         {
          "arrowhead": 2,
          "ax": 20,
          "ay": -30,
          "showarrow": true,
          "text": "Mgmax",
          "x": 19,
          "xref": "x",
          "y": 0.045,
          "yref": "y"
         }
        ],
        "shapes": [
         {
          "line": {
           "color": "firebrick",
           "dash": "dash",
           "width": 2
          },
          "name": "Mgmin",
          "type": "line",
          "x0": 1,
          "x1": 19,
          "y0": 0.035,
          "y1": 0.035
         },
         {
          "line": {
           "color": "green",
           "dash": "dash",
           "width": 2
          },
          "name": "Mgmax",
          "type": "line",
          "x0": 1,
          "x1": 19,
          "y0": 0.045,
          "y1": 0.045
         }
        ],
        "showlegend": true,
        "template": {
         "data": {
          "bar": [
           {
            "error_x": {
             "color": "#2a3f5f"
            },
            "error_y": {
             "color": "#2a3f5f"
            },
            "marker": {
             "line": {
              "color": "#E5ECF6",
              "width": 0.5
             },
             "pattern": {
              "fillmode": "overlay",
              "size": 10,
              "solidity": 0.2
             }
            },
            "type": "bar"
           }
          ],
          "barpolar": [
           {
            "marker": {
             "line": {
              "color": "#E5ECF6",
              "width": 0.5
             },
             "pattern": {
              "fillmode": "overlay",
              "size": 10,
              "solidity": 0.2
             }
            },
            "type": "barpolar"
           }
          ],
          "carpet": [
           {
            "aaxis": {
             "endlinecolor": "#2a3f5f",
             "gridcolor": "white",
             "linecolor": "white",
             "minorgridcolor": "white",
             "startlinecolor": "#2a3f5f"
            },
            "baxis": {
             "endlinecolor": "#2a3f5f",
             "gridcolor": "white",
             "linecolor": "white",
             "minorgridcolor": "white",
             "startlinecolor": "#2a3f5f"
            },
            "type": "carpet"
           }
          ],
          "choropleth": [
           {
            "colorbar": {
             "outlinewidth": 0,
             "ticks": ""
            },
            "type": "choropleth"
           }
          ],
          "contour": [
           {
            "colorbar": {
             "outlinewidth": 0,
             "ticks": ""
            },
            "colorscale": [
             [
              0,
              "#0d0887"
             ],
             [
              0.1111111111111111,
              "#46039f"
             ],
             [
              0.2222222222222222,
              "#7201a8"
             ],
             [
              0.3333333333333333,
              "#9c179e"
             ],
             [
              0.4444444444444444,
              "#bd3786"
             ],
             [
              0.5555555555555556,
              "#d8576b"
             ],
             [
              0.6666666666666666,
              "#ed7953"
             ],
             [
              0.7777777777777778,
              "#fb9f3a"
             ],
             [
              0.8888888888888888,
              "#fdca26"
             ],
             [
              1,
              "#f0f921"
             ]
            ],
            "type": "contour"
           }
          ],
          "contourcarpet": [
           {
            "colorbar": {
             "outlinewidth": 0,
             "ticks": ""
            },
            "type": "contourcarpet"
           }
          ],
          "heatmap": [
           {
            "colorbar": {
             "outlinewidth": 0,
             "ticks": ""
            },
            "colorscale": [
             [
              0,
              "#0d0887"
             ],
             [
              0.1111111111111111,
              "#46039f"
             ],
             [
              0.2222222222222222,
              "#7201a8"
             ],
             [
              0.3333333333333333,
              "#9c179e"
             ],
             [
              0.4444444444444444,
              "#bd3786"
             ],
             [
              0.5555555555555556,
              "#d8576b"
             ],
             [
              0.6666666666666666,
              "#ed7953"
             ],
             [
              0.7777777777777778,
              "#fb9f3a"
             ],
             [
              0.8888888888888888,
              "#fdca26"
             ],
             [
              1,
              "#f0f921"
             ]
            ],
            "type": "heatmap"
           }
          ],
          "heatmapgl": [
           {
            "colorbar": {
             "outlinewidth": 0,
             "ticks": ""
            },
            "colorscale": [
             [
              0,
              "#0d0887"
             ],
             [
              0.1111111111111111,
              "#46039f"
             ],
             [
              0.2222222222222222,
              "#7201a8"
             ],
             [
              0.3333333333333333,
              "#9c179e"
             ],
             [
              0.4444444444444444,
              "#bd3786"
             ],
             [
              0.5555555555555556,
              "#d8576b"
             ],
             [
              0.6666666666666666,
              "#ed7953"
             ],
             [
              0.7777777777777778,
              "#fb9f3a"
             ],
             [
              0.8888888888888888,
              "#fdca26"
             ],
             [
              1,
              "#f0f921"
             ]
            ],
            "type": "heatmapgl"
           }
          ],
          "histogram": [
           {
            "marker": {
             "pattern": {
              "fillmode": "overlay",
              "size": 10,
              "solidity": 0.2
             }
            },
            "type": "histogram"
           }
          ],
          "histogram2d": [
           {
            "colorbar": {
             "outlinewidth": 0,
             "ticks": ""
            },
            "colorscale": [
             [
              0,
              "#0d0887"
             ],
             [
              0.1111111111111111,
              "#46039f"
             ],
             [
              0.2222222222222222,
              "#7201a8"
             ],
             [
              0.3333333333333333,
              "#9c179e"
             ],
             [
              0.4444444444444444,
              "#bd3786"
             ],
             [
              0.5555555555555556,
              "#d8576b"
             ],
             [
              0.6666666666666666,
              "#ed7953"
             ],
             [
              0.7777777777777778,
              "#fb9f3a"
             ],
             [
              0.8888888888888888,
              "#fdca26"
             ],
             [
              1,
              "#f0f921"
             ]
            ],
            "type": "histogram2d"
           }
          ],
          "histogram2dcontour": [
           {
            "colorbar": {
             "outlinewidth": 0,
             "ticks": ""
            },
            "colorscale": [
             [
              0,
              "#0d0887"
             ],
             [
              0.1111111111111111,
              "#46039f"
             ],
             [
              0.2222222222222222,
              "#7201a8"
             ],
             [
              0.3333333333333333,
              "#9c179e"
             ],
             [
              0.4444444444444444,
              "#bd3786"
             ],
             [
              0.5555555555555556,
              "#d8576b"
             ],
             [
              0.6666666666666666,
              "#ed7953"
             ],
             [
              0.7777777777777778,
              "#fb9f3a"
             ],
             [
              0.8888888888888888,
              "#fdca26"
             ],
             [
              1,
              "#f0f921"
             ]
            ],
            "type": "histogram2dcontour"
           }
          ],
          "mesh3d": [
           {
            "colorbar": {
             "outlinewidth": 0,
             "ticks": ""
            },
            "type": "mesh3d"
           }
          ],
          "parcoords": [
           {
            "line": {
             "colorbar": {
              "outlinewidth": 0,
              "ticks": ""
             }
            },
            "type": "parcoords"
           }
          ],
          "pie": [
           {
            "automargin": true,
            "type": "pie"
           }
          ],
          "scatter": [
           {
            "fillpattern": {
             "fillmode": "overlay",
             "size": 10,
             "solidity": 0.2
            },
            "type": "scatter"
           }
          ],
          "scatter3d": [
           {
            "line": {
             "colorbar": {
              "outlinewidth": 0,
              "ticks": ""
             }
            },
            "marker": {
             "colorbar": {
              "outlinewidth": 0,
              "ticks": ""
             }
            },
            "type": "scatter3d"
           }
          ],
          "scattercarpet": [
           {
            "marker": {
             "colorbar": {
              "outlinewidth": 0,
              "ticks": ""
             }
            },
            "type": "scattercarpet"
           }
          ],
          "scattergeo": [
           {
            "marker": {
             "colorbar": {
              "outlinewidth": 0,
              "ticks": ""
             }
            },
            "type": "scattergeo"
           }
          ],
          "scattergl": [
           {
            "marker": {
             "colorbar": {
              "outlinewidth": 0,
              "ticks": ""
             }
            },
            "type": "scattergl"
           }
          ],
          "scattermapbox": [
           {
            "marker": {
             "colorbar": {
              "outlinewidth": 0,
              "ticks": ""
             }
            },
            "type": "scattermapbox"
           }
          ],
          "scatterpolar": [
           {
            "marker": {
             "colorbar": {
              "outlinewidth": 0,
              "ticks": ""
             }
            },
            "type": "scatterpolar"
           }
          ],
          "scatterpolargl": [
           {
            "marker": {
             "colorbar": {
              "outlinewidth": 0,
              "ticks": ""
             }
            },
            "type": "scatterpolargl"
           }
          ],
          "scatterternary": [
           {
            "marker": {
             "colorbar": {
              "outlinewidth": 0,
              "ticks": ""
             }
            },
            "type": "scatterternary"
           }
          ],
          "surface": [
           {
            "colorbar": {
             "outlinewidth": 0,
             "ticks": ""
            },
            "colorscale": [
             [
              0,
              "#0d0887"
             ],
             [
              0.1111111111111111,
              "#46039f"
             ],
             [
              0.2222222222222222,
              "#7201a8"
             ],
             [
              0.3333333333333333,
              "#9c179e"
             ],
             [
              0.4444444444444444,
              "#bd3786"
             ],
             [
              0.5555555555555556,
              "#d8576b"
             ],
             [
              0.6666666666666666,
              "#ed7953"
             ],
             [
              0.7777777777777778,
              "#fb9f3a"
             ],
             [
              0.8888888888888888,
              "#fdca26"
             ],
             [
              1,
              "#f0f921"
             ]
            ],
            "type": "surface"
           }
          ],
          "table": [
           {
            "cells": {
             "fill": {
              "color": "#EBF0F8"
             },
             "line": {
              "color": "white"
             }
            },
            "header": {
             "fill": {
              "color": "#C8D4E3"
             },
             "line": {
              "color": "white"
             }
            },
            "type": "table"
           }
          ]
         },
         "layout": {
          "annotationdefaults": {
           "arrowcolor": "#2a3f5f",
           "arrowhead": 0,
           "arrowwidth": 1
          },
          "autotypenumbers": "strict",
          "coloraxis": {
           "colorbar": {
            "outlinewidth": 0,
            "ticks": ""
           }
          },
          "colorscale": {
           "diverging": [
            [
             0,
             "#8e0152"
            ],
            [
             0.1,
             "#c51b7d"
            ],
            [
             0.2,
             "#de77ae"
            ],
            [
             0.3,
             "#f1b6da"
            ],
            [
             0.4,
             "#fde0ef"
            ],
            [
             0.5,
             "#f7f7f7"
            ],
            [
             0.6,
             "#e6f5d0"
            ],
            [
             0.7,
             "#b8e186"
            ],
            [
             0.8,
             "#7fbc41"
            ],
            [
             0.9,
             "#4d9221"
            ],
            [
             1,
             "#276419"
            ]
           ],
           "sequential": [
            [
             0,
             "#0d0887"
            ],
            [
             0.1111111111111111,
             "#46039f"
            ],
            [
             0.2222222222222222,
             "#7201a8"
            ],
            [
             0.3333333333333333,
             "#9c179e"
            ],
            [
             0.4444444444444444,
             "#bd3786"
            ],
            [
             0.5555555555555556,
             "#d8576b"
            ],
            [
             0.6666666666666666,
             "#ed7953"
            ],
            [
             0.7777777777777778,
             "#fb9f3a"
            ],
            [
             0.8888888888888888,
             "#fdca26"
            ],
            [
             1,
             "#f0f921"
            ]
           ],
           "sequentialminus": [
            [
             0,
             "#0d0887"
            ],
            [
             0.1111111111111111,
             "#46039f"
            ],
            [
             0.2222222222222222,
             "#7201a8"
            ],
            [
             0.3333333333333333,
             "#9c179e"
            ],
            [
             0.4444444444444444,
             "#bd3786"
            ],
            [
             0.5555555555555556,
             "#d8576b"
            ],
            [
             0.6666666666666666,
             "#ed7953"
            ],
            [
             0.7777777777777778,
             "#fb9f3a"
            ],
            [
             0.8888888888888888,
             "#fdca26"
            ],
            [
             1,
             "#f0f921"
            ]
           ]
          },
          "colorway": [
           "#636efa",
           "#EF553B",
           "#00cc96",
           "#ab63fa",
           "#FFA15A",
           "#19d3f3",
           "#FF6692",
           "#B6E880",
           "#FF97FF",
           "#FECB52"
          ],
          "font": {
           "color": "#2a3f5f"
          },
          "geo": {
           "bgcolor": "white",
           "lakecolor": "white",
           "landcolor": "#E5ECF6",
           "showlakes": true,
           "showland": true,
           "subunitcolor": "white"
          },
          "hoverlabel": {
           "align": "left"
          },
          "hovermode": "closest",
          "mapbox": {
           "style": "light"
          },
          "paper_bgcolor": "white",
          "plot_bgcolor": "#E5ECF6",
          "polar": {
           "angularaxis": {
            "gridcolor": "white",
            "linecolor": "white",
            "ticks": ""
           },
           "bgcolor": "#E5ECF6",
           "radialaxis": {
            "gridcolor": "white",
            "linecolor": "white",
            "ticks": ""
           }
          },
          "scene": {
           "xaxis": {
            "backgroundcolor": "#E5ECF6",
            "gridcolor": "white",
            "gridwidth": 2,
            "linecolor": "white",
            "showbackground": true,
            "ticks": "",
            "zerolinecolor": "white"
           },
           "yaxis": {
            "backgroundcolor": "#E5ECF6",
            "gridcolor": "white",
            "gridwidth": 2,
            "linecolor": "white",
            "showbackground": true,
            "ticks": "",
            "zerolinecolor": "white"
           },
           "zaxis": {
            "backgroundcolor": "#E5ECF6",
            "gridcolor": "white",
            "gridwidth": 2,
            "linecolor": "white",
            "showbackground": true,
            "ticks": "",
            "zerolinecolor": "white"
           }
          },
          "shapedefaults": {
           "line": {
            "color": "#2a3f5f"
           }
          },
          "ternary": {
           "aaxis": {
            "gridcolor": "white",
            "linecolor": "white",
            "ticks": ""
           },
           "baxis": {
            "gridcolor": "white",
            "linecolor": "white",
            "ticks": ""
           },
           "bgcolor": "#E5ECF6",
           "caxis": {
            "gridcolor": "white",
            "linecolor": "white",
            "ticks": ""
           }
          },
          "title": {
           "x": 0.05
          },
          "xaxis": {
           "automargin": true,
           "gridcolor": "white",
           "linecolor": "white",
           "ticks": "",
           "title": {
            "standoff": 15
           },
           "zerolinecolor": "white",
           "zerolinewidth": 2
          },
          "yaxis": {
           "automargin": true,
           "gridcolor": "white",
           "linecolor": "white",
           "ticks": "",
           "title": {
            "standoff": 15
           },
           "zerolinecolor": "white",
           "zerolinewidth": 2
          }
         }
        },
        "title": {
         "text": "Evolution de la fonte dans le Four de Coulée au cours du temps (Mg)"
        },
        "xaxis": {
         "title": {
          "text": "Time (minutes)"
         }
        },
        "yaxis": {
         "title": {
          "text": "Mg (kg)"
         }
        }
       }
      },
      "text/html": [
       "<div>                            <div id=\"ddef9d1d-873f-44f1-9355-65c1ab7c562f\" class=\"plotly-graph-div\" style=\"height:525px; width:100%;\"></div>            <script type=\"text/javascript\">                require([\"plotly\"], function(Plotly) {                    window.PLOTLYENV=window.PLOTLYENV || {};                                    if (document.getElementById(\"ddef9d1d-873f-44f1-9355-65c1ab7c562f\")) {                    Plotly.newPlot(                        \"ddef9d1d-873f-44f1-9355-65c1ab7c562f\",                        [{\"line\":{\"color\":\"royalblue\"},\"mode\":\"lines\",\"name\":\"Mg over time (chargement_et_fusion)\",\"x\":[],\"y\":[],\"type\":\"scatter\"},{\"line\":{\"color\":\"firebrick\"},\"mode\":\"lines\",\"name\":\"Mg over time (Four 1)\",\"x\":[1,2,3,4,5,6,7,8,9,10,11,12,13,14,15,16,17,18,19],\"y\":[0.0445,0.044,0.0435,0.043,0.042499999999999996,0.041999999999999996,0.041499999999999995,0.040999999999999995,0.040499999999999994,0.0445,0.044,0.0435,0.043,0.042499999999999996,0.041999999999999996,0.041499999999999995,0.040999999999999995,0.040499999999999994,0.039999999999999994],\"type\":\"scatter\"},{\"line\":{\"color\":\"green\"},\"mode\":\"lines\",\"name\":\"Mg over time (Four 2)\",\"x\":[20,21,22,23,24,25,26,27,28,29,30,31,32,33,34,35,36,37,38,39,40,41,42,43,44,45,46,47,48,49,50,51,52,53,54,55,56,57,58,59,60,61,62,63,64,65,66,67,68,69,70,71,72,73,74,75,76],\"y\":[0.0445,0.044,0.0435,0.043,0.042499999999999996,0.041999999999999996,0.041499999999999995,0.040999999999999995,0.040499999999999994,0.0445,0.044,0.0435,0.043,0.042499999999999996,0.041999999999999996,0.041499999999999995,0.040999999999999995,0.040499999999999994,0.039999999999999994,0.0445,0.044,0.0435,0.043,0.042499999999999996,0.041999999999999996,0.041499999999999995,0.040999999999999995,0.040499999999999994,0.039999999999999994,0.03949999999999999,0.03899999999999999,0.03849999999999999,0.03799999999999999,0.03749999999999999,0.03699999999999999,0.03649999999999999,0.03599999999999999,0.03549999999999999,0.0445,0.044,0.0435,0.043,0.042499999999999996,0.041999999999999996,0.041499999999999995,0.040999999999999995,0.040499999999999994,0.039999999999999994,0.03949999999999999,0.03899999999999999,0.03849999999999999,0.03799999999999999,0.03749999999999999,0.03699999999999999,0.03649999999999999,0.03599999999999999,0.03549999999999999],\"type\":\"scatter\"},{\"line\":{\"color\":\"orange\"},\"mode\":\"lines\",\"name\":\"Mg over time (Four 3)\",\"x\":[77,78,79,80,81,82,83,84,85,86,87,88,89,90,91,92,93,94,95,96,97,98,99,100,101,102,103,104,105,106,107,108,109,110,111,112,113,114,115,116,117,118,119,120,121,122,123,124,125,126,127,128,129,130,131,132,133,134,135,136,137,138,139,140,141,142,143,144,145,146,147,148,149,150,151,152,153,154],\"y\":[0.0445,0.044,0.0435,0.043,0.042499999999999996,0.041999999999999996,0.041499999999999995,0.040999999999999995,0.040499999999999994,0.039999999999999994,0.03949999999999999,0.03899999999999999,0.03849999999999999,0.03799999999999999,0.03749999999999999,0.03699999999999999,0.03649999999999999,0.03599999999999999,0.03549999999999999,0.03499999999999999,0.03449999999999999,0.0445,0.044,0.0435,0.043,0.042499999999999996,0.041999999999999996,0.041499999999999995,0.040999999999999995,0.040499999999999994,0.039999999999999994,0.03949999999999999,0.03899999999999999,0.03849999999999999,0.03799999999999999,0.03749999999999999,0.03699999999999999,0.03649999999999999,0.03599999999999999,0.03549999999999999,0.0445,0.044,0.0435,0.043,0.042499999999999996,0.041999999999999996,0.041499999999999995,0.040999999999999995,0.040499999999999994,0.039999999999999994,0.03949999999999999,0.03899999999999999,0.03849999999999999,0.03799999999999999,0.03749999999999999,0.03699999999999999,0.03649999999999999,0.03599999999999999,0.03549999999999999,0.0445,0.044,0.0435,0.043,0.042499999999999996,0.041999999999999996,0.041499999999999995,0.040999999999999995,0.040499999999999994,0.039999999999999994,0.03949999999999999,0.03899999999999999,0.03849999999999999,0.03799999999999999,0.03749999999999999,0.03699999999999999,0.03649999999999999,0.03599999999999999,0.03549999999999999],\"type\":\"scatter\"},{\"line\":{\"color\":\"purple\"},\"mode\":\"lines\",\"name\":\"Mg over time (Four 4)\",\"x\":[155,156,157,158,159,160,161,162,163,164,165,166,167,168,169,170,171,172,173,174,175,176,177,178,179,180,181,182,183,184,185,186,187,188,189,190,191,192,193,194,195,196,197,198,199,200,201,202,203,204,205,206,207,208,209,210,211,212,213,214,215,216,217,218,219,220,221,222,223,224,225,226],\"y\":[0.0445,0.044,0.0435,0.043,0.042499999999999996,0.041999999999999996,0.041499999999999995,0.040999999999999995,0.040499999999999994,0.039999999999999994,0.03949999999999999,0.0445,0.044,0.0435,0.043,0.042499999999999996,0.041999999999999996,0.041499999999999995,0.040999999999999995,0.040499999999999994,0.039999999999999994,0.03949999999999999,0.03899999999999999,0.03849999999999999,0.03799999999999999,0.03749999999999999,0.03699999999999999,0.03649999999999999,0.03599999999999999,0.03549999999999999,0.0445,0.044,0.0435,0.043,0.042499999999999996,0.041999999999999996,0.041499999999999995,0.040999999999999995,0.040499999999999994,0.039999999999999994,0.03949999999999999,0.03899999999999999,0.03849999999999999,0.03799999999999999,0.03749999999999999,0.03699999999999999,0.03649999999999999,0.03599999999999999,0.03549999999999999,0.0445,0.044,0.0435,0.043,0.042499999999999996,0.041999999999999996,0.041499999999999995,0.040999999999999995,0.040499999999999994,0.039999999999999994,0.03949999999999999,0.03899999999999999,0.03849999999999999,0.03799999999999999,0.03749999999999999,0.03699999999999999,0.03649999999999999,0.03599999999999999,0.03549999999999999,0.03499999999999999,0.03449999999999999,0.03399999999999999,0.03349999999999999],\"type\":\"scatter\"},{\"line\":{\"color\":\"royalblue\"},\"mode\":\"lines\",\"name\":\"Mg over time (Four 5)\",\"x\":[227,228,229,230,231,232,233,234,235,236,237,238,239],\"y\":[0.0445,0.044,0.0435,0.043,0.042499999999999996,0.041999999999999996,0.041499999999999995,0.040999999999999995,0.040499999999999994,0.039999999999999994,0.03949999999999999,0.03899999999999999,0.03849999999999999],\"type\":\"scatter\"}],                        {\"template\":{\"data\":{\"histogram2dcontour\":[{\"type\":\"histogram2dcontour\",\"colorbar\":{\"outlinewidth\":0,\"ticks\":\"\"},\"colorscale\":[[0.0,\"#0d0887\"],[0.1111111111111111,\"#46039f\"],[0.2222222222222222,\"#7201a8\"],[0.3333333333333333,\"#9c179e\"],[0.4444444444444444,\"#bd3786\"],[0.5555555555555556,\"#d8576b\"],[0.6666666666666666,\"#ed7953\"],[0.7777777777777778,\"#fb9f3a\"],[0.8888888888888888,\"#fdca26\"],[1.0,\"#f0f921\"]]}],\"choropleth\":[{\"type\":\"choropleth\",\"colorbar\":{\"outlinewidth\":0,\"ticks\":\"\"}}],\"histogram2d\":[{\"type\":\"histogram2d\",\"colorbar\":{\"outlinewidth\":0,\"ticks\":\"\"},\"colorscale\":[[0.0,\"#0d0887\"],[0.1111111111111111,\"#46039f\"],[0.2222222222222222,\"#7201a8\"],[0.3333333333333333,\"#9c179e\"],[0.4444444444444444,\"#bd3786\"],[0.5555555555555556,\"#d8576b\"],[0.6666666666666666,\"#ed7953\"],[0.7777777777777778,\"#fb9f3a\"],[0.8888888888888888,\"#fdca26\"],[1.0,\"#f0f921\"]]}],\"heatmap\":[{\"type\":\"heatmap\",\"colorbar\":{\"outlinewidth\":0,\"ticks\":\"\"},\"colorscale\":[[0.0,\"#0d0887\"],[0.1111111111111111,\"#46039f\"],[0.2222222222222222,\"#7201a8\"],[0.3333333333333333,\"#9c179e\"],[0.4444444444444444,\"#bd3786\"],[0.5555555555555556,\"#d8576b\"],[0.6666666666666666,\"#ed7953\"],[0.7777777777777778,\"#fb9f3a\"],[0.8888888888888888,\"#fdca26\"],[1.0,\"#f0f921\"]]}],\"heatmapgl\":[{\"type\":\"heatmapgl\",\"colorbar\":{\"outlinewidth\":0,\"ticks\":\"\"},\"colorscale\":[[0.0,\"#0d0887\"],[0.1111111111111111,\"#46039f\"],[0.2222222222222222,\"#7201a8\"],[0.3333333333333333,\"#9c179e\"],[0.4444444444444444,\"#bd3786\"],[0.5555555555555556,\"#d8576b\"],[0.6666666666666666,\"#ed7953\"],[0.7777777777777778,\"#fb9f3a\"],[0.8888888888888888,\"#fdca26\"],[1.0,\"#f0f921\"]]}],\"contourcarpet\":[{\"type\":\"contourcarpet\",\"colorbar\":{\"outlinewidth\":0,\"ticks\":\"\"}}],\"contour\":[{\"type\":\"contour\",\"colorbar\":{\"outlinewidth\":0,\"ticks\":\"\"},\"colorscale\":[[0.0,\"#0d0887\"],[0.1111111111111111,\"#46039f\"],[0.2222222222222222,\"#7201a8\"],[0.3333333333333333,\"#9c179e\"],[0.4444444444444444,\"#bd3786\"],[0.5555555555555556,\"#d8576b\"],[0.6666666666666666,\"#ed7953\"],[0.7777777777777778,\"#fb9f3a\"],[0.8888888888888888,\"#fdca26\"],[1.0,\"#f0f921\"]]}],\"surface\":[{\"type\":\"surface\",\"colorbar\":{\"outlinewidth\":0,\"ticks\":\"\"},\"colorscale\":[[0.0,\"#0d0887\"],[0.1111111111111111,\"#46039f\"],[0.2222222222222222,\"#7201a8\"],[0.3333333333333333,\"#9c179e\"],[0.4444444444444444,\"#bd3786\"],[0.5555555555555556,\"#d8576b\"],[0.6666666666666666,\"#ed7953\"],[0.7777777777777778,\"#fb9f3a\"],[0.8888888888888888,\"#fdca26\"],[1.0,\"#f0f921\"]]}],\"mesh3d\":[{\"type\":\"mesh3d\",\"colorbar\":{\"outlinewidth\":0,\"ticks\":\"\"}}],\"scatter\":[{\"fillpattern\":{\"fillmode\":\"overlay\",\"size\":10,\"solidity\":0.2},\"type\":\"scatter\"}],\"parcoords\":[{\"type\":\"parcoords\",\"line\":{\"colorbar\":{\"outlinewidth\":0,\"ticks\":\"\"}}}],\"scatterpolargl\":[{\"type\":\"scatterpolargl\",\"marker\":{\"colorbar\":{\"outlinewidth\":0,\"ticks\":\"\"}}}],\"bar\":[{\"error_x\":{\"color\":\"#2a3f5f\"},\"error_y\":{\"color\":\"#2a3f5f\"},\"marker\":{\"line\":{\"color\":\"#E5ECF6\",\"width\":0.5},\"pattern\":{\"fillmode\":\"overlay\",\"size\":10,\"solidity\":0.2}},\"type\":\"bar\"}],\"scattergeo\":[{\"type\":\"scattergeo\",\"marker\":{\"colorbar\":{\"outlinewidth\":0,\"ticks\":\"\"}}}],\"scatterpolar\":[{\"type\":\"scatterpolar\",\"marker\":{\"colorbar\":{\"outlinewidth\":0,\"ticks\":\"\"}}}],\"histogram\":[{\"marker\":{\"pattern\":{\"fillmode\":\"overlay\",\"size\":10,\"solidity\":0.2}},\"type\":\"histogram\"}],\"scattergl\":[{\"type\":\"scattergl\",\"marker\":{\"colorbar\":{\"outlinewidth\":0,\"ticks\":\"\"}}}],\"scatter3d\":[{\"type\":\"scatter3d\",\"line\":{\"colorbar\":{\"outlinewidth\":0,\"ticks\":\"\"}},\"marker\":{\"colorbar\":{\"outlinewidth\":0,\"ticks\":\"\"}}}],\"scattermapbox\":[{\"type\":\"scattermapbox\",\"marker\":{\"colorbar\":{\"outlinewidth\":0,\"ticks\":\"\"}}}],\"scatterternary\":[{\"type\":\"scatterternary\",\"marker\":{\"colorbar\":{\"outlinewidth\":0,\"ticks\":\"\"}}}],\"scattercarpet\":[{\"type\":\"scattercarpet\",\"marker\":{\"colorbar\":{\"outlinewidth\":0,\"ticks\":\"\"}}}],\"carpet\":[{\"aaxis\":{\"endlinecolor\":\"#2a3f5f\",\"gridcolor\":\"white\",\"linecolor\":\"white\",\"minorgridcolor\":\"white\",\"startlinecolor\":\"#2a3f5f\"},\"baxis\":{\"endlinecolor\":\"#2a3f5f\",\"gridcolor\":\"white\",\"linecolor\":\"white\",\"minorgridcolor\":\"white\",\"startlinecolor\":\"#2a3f5f\"},\"type\":\"carpet\"}],\"table\":[{\"cells\":{\"fill\":{\"color\":\"#EBF0F8\"},\"line\":{\"color\":\"white\"}},\"header\":{\"fill\":{\"color\":\"#C8D4E3\"},\"line\":{\"color\":\"white\"}},\"type\":\"table\"}],\"barpolar\":[{\"marker\":{\"line\":{\"color\":\"#E5ECF6\",\"width\":0.5},\"pattern\":{\"fillmode\":\"overlay\",\"size\":10,\"solidity\":0.2}},\"type\":\"barpolar\"}],\"pie\":[{\"automargin\":true,\"type\":\"pie\"}]},\"layout\":{\"autotypenumbers\":\"strict\",\"colorway\":[\"#636efa\",\"#EF553B\",\"#00cc96\",\"#ab63fa\",\"#FFA15A\",\"#19d3f3\",\"#FF6692\",\"#B6E880\",\"#FF97FF\",\"#FECB52\"],\"font\":{\"color\":\"#2a3f5f\"},\"hovermode\":\"closest\",\"hoverlabel\":{\"align\":\"left\"},\"paper_bgcolor\":\"white\",\"plot_bgcolor\":\"#E5ECF6\",\"polar\":{\"bgcolor\":\"#E5ECF6\",\"angularaxis\":{\"gridcolor\":\"white\",\"linecolor\":\"white\",\"ticks\":\"\"},\"radialaxis\":{\"gridcolor\":\"white\",\"linecolor\":\"white\",\"ticks\":\"\"}},\"ternary\":{\"bgcolor\":\"#E5ECF6\",\"aaxis\":{\"gridcolor\":\"white\",\"linecolor\":\"white\",\"ticks\":\"\"},\"baxis\":{\"gridcolor\":\"white\",\"linecolor\":\"white\",\"ticks\":\"\"},\"caxis\":{\"gridcolor\":\"white\",\"linecolor\":\"white\",\"ticks\":\"\"}},\"coloraxis\":{\"colorbar\":{\"outlinewidth\":0,\"ticks\":\"\"}},\"colorscale\":{\"sequential\":[[0.0,\"#0d0887\"],[0.1111111111111111,\"#46039f\"],[0.2222222222222222,\"#7201a8\"],[0.3333333333333333,\"#9c179e\"],[0.4444444444444444,\"#bd3786\"],[0.5555555555555556,\"#d8576b\"],[0.6666666666666666,\"#ed7953\"],[0.7777777777777778,\"#fb9f3a\"],[0.8888888888888888,\"#fdca26\"],[1.0,\"#f0f921\"]],\"sequentialminus\":[[0.0,\"#0d0887\"],[0.1111111111111111,\"#46039f\"],[0.2222222222222222,\"#7201a8\"],[0.3333333333333333,\"#9c179e\"],[0.4444444444444444,\"#bd3786\"],[0.5555555555555556,\"#d8576b\"],[0.6666666666666666,\"#ed7953\"],[0.7777777777777778,\"#fb9f3a\"],[0.8888888888888888,\"#fdca26\"],[1.0,\"#f0f921\"]],\"diverging\":[[0,\"#8e0152\"],[0.1,\"#c51b7d\"],[0.2,\"#de77ae\"],[0.3,\"#f1b6da\"],[0.4,\"#fde0ef\"],[0.5,\"#f7f7f7\"],[0.6,\"#e6f5d0\"],[0.7,\"#b8e186\"],[0.8,\"#7fbc41\"],[0.9,\"#4d9221\"],[1,\"#276419\"]]},\"xaxis\":{\"gridcolor\":\"white\",\"linecolor\":\"white\",\"ticks\":\"\",\"title\":{\"standoff\":15},\"zerolinecolor\":\"white\",\"automargin\":true,\"zerolinewidth\":2},\"yaxis\":{\"gridcolor\":\"white\",\"linecolor\":\"white\",\"ticks\":\"\",\"title\":{\"standoff\":15},\"zerolinecolor\":\"white\",\"automargin\":true,\"zerolinewidth\":2},\"scene\":{\"xaxis\":{\"backgroundcolor\":\"#E5ECF6\",\"gridcolor\":\"white\",\"linecolor\":\"white\",\"showbackground\":true,\"ticks\":\"\",\"zerolinecolor\":\"white\",\"gridwidth\":2},\"yaxis\":{\"backgroundcolor\":\"#E5ECF6\",\"gridcolor\":\"white\",\"linecolor\":\"white\",\"showbackground\":true,\"ticks\":\"\",\"zerolinecolor\":\"white\",\"gridwidth\":2},\"zaxis\":{\"backgroundcolor\":\"#E5ECF6\",\"gridcolor\":\"white\",\"linecolor\":\"white\",\"showbackground\":true,\"ticks\":\"\",\"zerolinecolor\":\"white\",\"gridwidth\":2}},\"shapedefaults\":{\"line\":{\"color\":\"#2a3f5f\"}},\"annotationdefaults\":{\"arrowcolor\":\"#2a3f5f\",\"arrowhead\":0,\"arrowwidth\":1},\"geo\":{\"bgcolor\":\"white\",\"landcolor\":\"#E5ECF6\",\"subunitcolor\":\"white\",\"showland\":true,\"showlakes\":true,\"lakecolor\":\"white\"},\"title\":{\"x\":0.05},\"mapbox\":{\"style\":\"light\"}}},\"shapes\":[{\"line\":{\"color\":\"firebrick\",\"dash\":\"dash\",\"width\":2},\"name\":\"Mgmin\",\"type\":\"line\",\"x0\":1,\"x1\":19,\"y0\":0.035,\"y1\":0.035},{\"line\":{\"color\":\"green\",\"dash\":\"dash\",\"width\":2},\"name\":\"Mgmax\",\"type\":\"line\",\"x0\":1,\"x1\":19,\"y0\":0.045,\"y1\":0.045}],\"title\":{\"text\":\"Evolution de la fonte dans le Four de Coul\\u00e9e au cours du temps (Mg)\"},\"xaxis\":{\"title\":{\"text\":\"Time (minutes)\"}},\"yaxis\":{\"title\":{\"text\":\"Mg (kg)\"}},\"showlegend\":true,\"annotations\":[{\"arrowhead\":2,\"ax\":20,\"ay\":-30,\"showarrow\":true,\"text\":\"Mgmin\",\"x\":19,\"xref\":\"x\",\"y\":0.035,\"yref\":\"y\"},{\"arrowhead\":2,\"ax\":20,\"ay\":-30,\"showarrow\":true,\"text\":\"Mgmax\",\"x\":19,\"xref\":\"x\",\"y\":0.045,\"yref\":\"y\"}]},                        {\"responsive\": true}                    ).then(function(){\n",
       "                            \n",
       "var gd = document.getElementById('ddef9d1d-873f-44f1-9355-65c1ab7c562f');\n",
       "var x = new MutationObserver(function (mutations, observer) {{\n",
       "        var display = window.getComputedStyle(gd).display;\n",
       "        if (!display || display === 'none') {{\n",
       "            console.log([gd, 'removed!']);\n",
       "            Plotly.purge(gd);\n",
       "            observer.disconnect();\n",
       "        }}\n",
       "}});\n",
       "\n",
       "// Listen for the removal of the full notebook cells\n",
       "var notebookContainer = gd.closest('#notebook-container');\n",
       "if (notebookContainer) {{\n",
       "    x.observe(notebookContainer, {childList: true});\n",
       "}}\n",
       "\n",
       "// Listen for the clearing of the current output cell\n",
       "var outputEl = gd.closest('.output');\n",
       "if (outputEl) {{\n",
       "    x.observe(outputEl, {childList: true});\n",
       "}}\n",
       "\n",
       "                        })                };                });            </script>        </div>"
      ]
     },
     "metadata": {},
     "output_type": "display_data"
    }
   ],
   "source": [
    "import plotly.graph_objects as go\n",
    "\n",
    "def Plot_consom(PFC_values_dict, Mgvalues_dict, times_dict, PFCmin, PFCmax, Mgmin, Mgmax):\n",
    "    # Dictionnaire de couleurs pour chaque clé\n",
    "    color_dict = {\n",
    "        \"chargement_et_fusion\": 'royalblue',\n",
    "        \"Four 1\": 'firebrick',\n",
    "        \"Four 2\": 'green',\n",
    "        \"Four 3\": 'orange',\n",
    "        \"Four 4\": 'purple',\n",
    "        \"Four 5\": 'royalblue'\n",
    "    }\n",
    "\n",
    "    # Create Plotly figure for PFC\n",
    "    fig_pfc = go.Figure()\n",
    "\n",
    "    # Add PFC lines for each key\n",
    "    for key in PFC_values_dict.keys():\n",
    "        fig_pfc.add_trace(go.Scatter(x=times_dict[key], y=PFC_values_dict[key], mode='lines', name=f'PFC over time ({key})', line=dict(color=color_dict[key])))\n",
    "\n",
    "    # Add horizontal lines for PFCmin and PFCmax\n",
    "    tmin, tmax = times_dict[\"Four 1\"][0],times_dict[\"Four 1\"][-1]\n",
    "    fig_pfc.add_shape(type=\"line\", x0=tmin, y0=PFCmin, x1=tmax, y1=PFCmin, line=dict(color=\"firebrick\", width=2, dash=\"dash\"), name=\"PFCmin\")\n",
    "    fig_pfc.add_shape(type=\"line\", x0=tmin, y0=PFCmax, x1=tmax, y1=PFCmax, line=dict(color=\"green\", width=2, dash=\"dash\"), name=\"PFCmax\")\n",
    "\n",
    "    # Customize layout for PFC figure\n",
    "    fig_pfc.update_layout(title='Evolution de la fonte dans le Four de Coulée au cours du temps (PFC)', \n",
    "                          xaxis_title='Time (minutes)', yaxis_title='PFC (kg)', \n",
    "                          template='plotly', showlegend=True,\n",
    "                          annotations=[\n",
    "                              dict(x=tmax, y=PFCmin, xref=\"x\", yref=\"y\", text=\"PFCmin\", showarrow=True, arrowhead=2, ax=20, ay=-30),\n",
    "                              dict(x=tmax, y=PFCmax, xref=\"x\", yref=\"y\", text=\"PFCmax\", showarrow=True, arrowhead=2, ax=20, ay=-30)\n",
    "                          ])\n",
    "\n",
    "    # Show the PFC plot\n",
    "    fig_pfc.show()\n",
    "\n",
    "    # Create Plotly figure for Mg\n",
    "    fig_mg = go.Figure()\n",
    "\n",
    "    # Add Mg lines for each key\n",
    "    for key in Mgvalues_dict.keys():\n",
    "        fig_mg.add_trace(go.Scatter(x=times_dict[key], y=Mgvalues_dict[key], mode='lines', name=f'Mg over time ({key})', line=dict(color=color_dict[key])))\n",
    "\n",
    "    # Add horizontal lines for Mgmin and Mgmax\n",
    "    fig_mg.add_shape(type=\"line\", x0=tmin, y0=Mgmin, x1=tmax, y1=Mgmin, line=dict(color=\"firebrick\", width=2, dash=\"dash\"), name=\"Mgmin\")\n",
    "    fig_mg.add_shape(type=\"line\", x0=tmin, y0=Mgmax, x1=tmax, y1=Mgmax, line=dict(color=\"green\", width=2, dash=\"dash\"), name=\"Mgmax\")\n",
    "\n",
    "    # Customize layout for Mg figure\n",
    "    fig_mg.update_layout(title='Evolution de la fonte dans le Four de Coulée au cours du temps (Mg)', \n",
    "                         xaxis_title='Time (minutes)', yaxis_title='Mg (kg)', \n",
    "                         template='plotly', showlegend=True,\n",
    "                         annotations=[\n",
    "                              dict(x=tmax, y=Mgmin, xref=\"x\", yref=\"y\", text=\"Mgmin\", showarrow=True, arrowhead=2, ax=20, ay=-30),\n",
    "                              dict(x=tmax, y=Mgmax, xref=\"x\", yref=\"y\", text=\"Mgmax\", showarrow=True, arrowhead=2, ax=20, ay=-30)\n",
    "                          ])\n",
    "\n",
    "    # Show the Mg plot\n",
    "    fig_mg.show()\n",
    "\n",
    "# Call the function with the appropriate dictionaries and parameters\n",
    "Plot_consom(PFC_Consomvalues_dict, Mgvalues_dict, times_dict, PFCmin, PFCmax, Mgmin, Mgmax)\n",
    "\n"
   ]
  },
  {
   "cell_type": "code",
   "execution_count": null,
   "metadata": {},
   "outputs": [],
   "source": []
  },
  {
   "cell_type": "markdown",
   "metadata": {},
   "source": [
    "initialiser t, tmax, Mg, Mgmin, Mgmax, eC, PFC_Consom, PFCmin, PFCmax, poche_i, debut, fin, etat, temps_serie, temps_Panne\n",
    "initialiser liste_masses_grappes_moules, liste_cadences_moule_par_heure, liste_quantites_moules_a_produire\n",
    "initialiser PFC_Consomvalues_dict, Mgvalues_dict, times_dict, cle\n",
    "\n",
    "tant que t < tmax faire\n",
    "    si etat == \"etat_Consom\" alors\n",
    "        définir masse_grappe_moule, cadence_moule_par_heure, quantite_moules_a_produire\n",
    "        calculer cadence_consommation_kg_min\n",
    "        calculer cadence_moule_par_minute\n",
    "\n",
    "        si PFC_Consom - cadence_consommation_kg_min >= PFCmin et Mg - eC >= Mgmin alors\n",
    "            mettre à jour PFC_Consom, Mg\n",
    "            calculer quantite_moules_restants\n",
    "\n",
    "            si quantite_moules_restants <= 0 alors\n",
    "                changer état à \"etat_Serie\"\n",
    "                supprimer les éléments déjà traités dans les listes\n",
    "\n",
    "                si liste_masses_grappes_moules est vide alors\n",
    "                    changer état à \"etat_Fin\"\n",
    "                fin si\n",
    "\n",
    "            sinon\n",
    "                mettre à jour liste_quantites_moules_a_produire\n",
    "            fin si\n",
    "        sinon\n",
    "            ajouter poche\n",
    "            mettre à jour PFC_Consom, Mg\n",
    "\n",
    "            calculer quantite_moules_restants\n",
    "\n",
    "            si quantite_moules_restants <= 0 alors\n",
    "                changer état à \"etat_Serie\"\n",
    "                supprimer les éléments déjà traités dans les listes\n",
    "\n",
    "                si liste_masses_grappes_moules est vide alors\n",
    "                    changer état à \"etat_Fin\"\n",
    "                fin si\n",
    "            sinon\n",
    "                mettre à jour liste_quantites_moules_a_produire\n",
    "            fin si\n",
    "        fin si\n",
    "\n",
    "    sinon si etat == \"etat_Serie\" alors\n",
    "        diminuer Mg, temps_serie_courant\n",
    "\n",
    "        si temps_serie_courant <= 0 alors\n",
    "            changer état à \"etat_Consom\"\n",
    "            réinitialiser temps_serie_courant\n",
    "        fin si\n",
    "\n",
    "    sinon si etat == \"etat_Panne\" alors\n",
    "        diminuer Mg, temps_Panne_courant\n",
    "\n",
    "        si temps_Panne_courant <= 0 alors\n",
    "            changer état à \"etat_Consom\"\n",
    "            réinitialiser temps_Panne_courant\n",
    "        fin si\n",
    "    sinon si etat == \"etat_Fin\" alors\n",
    "        arrêter la boucle\n",
    "    fin si\n",
    "\n",
    "    mettre à jour t, PFC_Consomvalues, Mgvalues, times\n",
    "fin tant que\n"
   ]
  },
  {
   "cell_type": "code",
   "execution_count": null,
   "metadata": {},
   "outputs": [],
   "source": []
  },
  {
   "cell_type": "code",
   "execution_count": null,
   "metadata": {},
   "outputs": [],
   "source": []
  },
  {
   "cell_type": "code",
   "execution_count": null,
   "metadata": {},
   "outputs": [],
   "source": []
  },
  {
   "cell_type": "code",
   "execution_count": null,
   "metadata": {},
   "outputs": [],
   "source": []
  },
  {
   "cell_type": "code",
   "execution_count": null,
   "metadata": {},
   "outputs": [],
   "source": []
  },
  {
   "cell_type": "code",
   "execution_count": null,
   "metadata": {},
   "outputs": [],
   "source": []
  },
  {
   "cell_type": "markdown",
   "metadata": {},
   "source": [
    "# Courbe interactive"
   ]
  },
  {
   "cell_type": "code",
   "execution_count": 3,
   "metadata": {},
   "outputs": [
    {
     "data": {
      "application/vnd.jupyter.widget-view+json": {
       "model_id": "482b9dc32cab4e3382ea2e95a0068338",
       "version_major": 2,
       "version_minor": 0
      },
      "text/plain": [
       "HBox(children=(Button(description='Start/Next Function', style=ButtonStyle()), Button(description='Stop', styl…"
      ]
     },
     "metadata": {},
     "output_type": "display_data"
    },
    {
     "data": {
      "application/vnd.jupyter.widget-view+json": {
       "model_id": "1fe0a18f4f634e8fbc2be64bd559d4fa",
       "version_major": 2,
       "version_minor": 0
      },
      "text/plain": [
       "FigureWidget({\n",
       "    'data': [{'mode': 'lines+markers', 'type': 'scatter', 'uid': '4b20f932-f9cd-4e66-a9d9-861a420f72a0'}],\n",
       "    'layout': {'template': '...',\n",
       "               'title': {'text': 'Courbe Interactive'},\n",
       "               'xaxis': {'title': {'text': 'Temps'}},\n",
       "               'yaxis': {'title': {'text': 'Valeur'}}}\n",
       "})"
      ]
     },
     "metadata": {},
     "output_type": "display_data"
    }
   ],
   "source": [
    "import numpy as np\n",
    "import plotly.graph_objs as go\n",
    "import ipywidgets as widgets\n",
    "from IPython.display import display\n",
    "import asyncio\n",
    "import time\n",
    "\n",
    "def initialize_variables(initial_time_step, initial_t):\n",
    "    \"\"\"Initialise les variables de contrôle avec des paramètres.\"\"\"\n",
    "    global running, current_function, time_step, xdata, ydata, t\n",
    "    running = False\n",
    "    current_function = 0\n",
    "    time_step = initial_time_step\n",
    "    xdata = []\n",
    "    ydata = []\n",
    "    t = initial_t\n",
    "def create_figure():\n",
    "    \"\"\"Crée et configure la figure Plotly.\"\"\"\n",
    "    fig = go.FigureWidget()\n",
    "    scatter = fig.add_scatter(mode='lines+markers').data[0]\n",
    "    fig.update_layout(title=\"Courbe Interactive\", xaxis_title=\"Temps\", yaxis_title=\"Valeur\")\n",
    "    return fig, scatter\n",
    "\n",
    "async def update_data():\n",
    "    \"\"\"Fonction de mise à jour des données.\"\"\"\n",
    "    global running, current_function, time_step, xdata, ydata, t\n",
    "    while True:\n",
    "        if running:\n",
    "            \n",
    "            xdata.append(t)\n",
    "            if current_function == 0:\n",
    "                ydata.append(np.sin(t))\n",
    "            elif current_function == 1:\n",
    "                ydata.append(2)\n",
    "\n",
    "            with fig.batch_update():\n",
    "                scatter.update(x=xdata, y=ydata)\n",
    "                \n",
    "            t += time_step\n",
    "            time.sleep(0.5)\n",
    "        \n",
    "        await asyncio.sleep(time_step)\n",
    "\n",
    "def start_or_next_function(button):\n",
    "    \"\"\"Fonction pour démarrer ou changer la fonction.\"\"\"\n",
    "    global running, current_function\n",
    "    current_function = (current_function + 1) % 2\n",
    "    running = True\n",
    "\n",
    "def stop_plot(button):\n",
    "    \"\"\"Fonction pour arrêter la mise à jour.\"\"\"\n",
    "    global running\n",
    "    running = False\n",
    "\n",
    "def reset_plot(button):\n",
    "    \"\"\"Fonction pour réinitialiser les données et le temps t.\"\"\"\n",
    "    global running, xdata, ydata, t\n",
    "    running = False\n",
    "    xdata = []\n",
    "    ydata = []\n",
    "    t = 0\n",
    "    with fig.batch_update():\n",
    "        scatter.update(x=xdata, y=ydata)\n",
    "\n",
    "def create_buttons():\n",
    "    \"\"\"Crée les boutons interactifs.\"\"\"\n",
    "    start_button = widgets.Button(description=\"Start/Next Function\")\n",
    "    stop_button = widgets.Button(description=\"Stop\")\n",
    "    reset_button = widgets.Button(description=\"Reset\")\n",
    "\n",
    "    start_button.on_click(start_or_next_function)\n",
    "    stop_button.on_click(stop_plot)\n",
    "    reset_button.on_click(reset_plot)\n",
    "\n",
    "    display(widgets.HBox([start_button, stop_button, reset_button]), fig)\n",
    "\n",
    "def main(initial_time_step=1, initial_t=0):\n",
    "    \"\"\"Fonction principale pour démarrer l'application.\"\"\"\n",
    "    initialize_variables(initial_time_step, initial_t)\n",
    "    global fig, scatter\n",
    "    fig, scatter = create_figure()\n",
    "    create_buttons()\n",
    "    loop = asyncio.get_event_loop()\n",
    "    loop.create_task(update_data())\n",
    "\n",
    "# Appel de la fonction principale pour démarrer l'application\n",
    "main()\n"
   ]
  },
  {
   "cell_type": "code",
   "execution_count": null,
   "metadata": {},
   "outputs": [],
   "source": []
  },
  {
   "cell_type": "code",
   "execution_count": null,
   "metadata": {},
   "outputs": [],
   "source": []
  },
  {
   "cell_type": "code",
   "execution_count": null,
   "metadata": {},
   "outputs": [],
   "source": []
  },
  {
   "cell_type": "code",
   "execution_count": null,
   "metadata": {},
   "outputs": [],
   "source": []
  },
  {
   "cell_type": "markdown",
   "metadata": {},
   "source": [
    "# Code 3"
   ]
  },
  {
   "cell_type": "code",
   "execution_count": null,
   "metadata": {},
   "outputs": [],
   "source": []
  },
  {
   "cell_type": "code",
   "execution_count": 22,
   "metadata": {},
   "outputs": [],
   "source": [
    "# Les Constantes du Programme\n",
    "fonte_produit = 5000  \n",
    "temps_chargement = 30  \n",
    "temps_fusion = 45 \n",
    "temps_traitement = 10\n",
    "\n",
    "PFCmin = 2500 # en kg\n",
    "PFCmax = 4000 # en kg\n",
    "Mgmin = 0.035 # en %\n",
    "Mgmax = 0.045 # en %\n",
    "eC = 0.0005 # en %\n",
    "\n",
    "\n",
    "liste_nbMoules_heure = [190, 190, 190, 210, 190, 190, 190, 190, 190] # en Tonnes/hr\n",
    "liste_Quantite_Modeles = [121, 50, 35, 10, 100, 50, 35, 50, 40]\n",
    "liste_Masse_Modeles = [41.2, 39.36, 15.6, 19.94, 41.20, 39.36, 15.60, 41.20, 29.65] # en kg\n",
    "\n",
    "\n",
    "# Calcul de la liste des cadences\n",
    "liste_cadences = [] # en Tonnes/hr\n",
    "for nb_moules, masse_grappe in zip(liste_nbMoules_heure, liste_Masse_Modeles):\n",
    "    cadence = nb_moules / 60 * masse_grappe\n",
    "    liste_cadences.append(cadence)\n",
    "\n",
    "    \n",
    "poche_i = 1250 # en kg\n"
   ]
  },
  {
   "cell_type": "code",
   "execution_count": 23,
   "metadata": {},
   "outputs": [],
   "source": [
    "import plotly.graph_objects as go\n",
    "import numpy as np\n",
    "\n",
    "def Plot_consom(PFC_values_dict, times_dict, PFCmin, PFCmax):\n",
    "    # Dictionnaire de couleurs pour chaque clé\n",
    "    color_dict = {\n",
    "        \"chargement_et_fusion\": 'royalblue',\n",
    "        \"Four 1\": 'firebrick',\n",
    "        \"Four 2\": 'green',\n",
    "        \"Four 3\": 'orange',\n",
    "        \"Four 4\": 'purple'\n",
    "    }\n",
    "\n",
    "    # Create Plotly figure\n",
    "    fig = go.Figure()\n",
    "\n",
    "    # Add PFC lines for each key\n",
    "    for key in PFC_values_dict.keys():\n",
    "        fig.add_trace(go.Scatter(x=times_dict[key], y=PFC_values_dict[key], mode='lines', name=f'PFC over time ({key})', line=dict(color=color_dict[key])))\n",
    "\n",
    "    # Add horizontal lines for PFCmin and PFCmax\n",
    "    tmin, tmax = times_dict[\"chargement_et_fusion\"][0],times_dict[\"Four 1\"][-1]\n",
    "    fig.add_shape(type=\"line\", x0=tmin, y0=PFCmin, x1=tmax, y1=PFCmin, line=dict(color=\"firebrick\", width=2, dash=\"dash\"), name=\"PFCmin\")\n",
    "    fig.add_shape(type=\"line\", x0=tmin, y0=PFCmax, x1=tmax, y1=PFCmax, line=dict(color=\"green\", width=2, dash=\"dash\"), name=\"PFCmax\")\n",
    "\n",
    "    # Customize layout\n",
    "    fig.update_layout(title='Evolution de la fonte dans le Four de Coulée au cours du temps', \n",
    "                      xaxis_title='Time (minutes)', yaxis_title='PFC (kg)', \n",
    "                      template='plotly', showlegend=True,\n",
    "                      annotations=[\n",
    "                          dict(x=tmax, y=PFCmin, xref=\"x\", yref=\"y\", text=\"PFCmin\", showarrow=True, arrowhead=2, ax=20, ay=-30),\n",
    "                          dict(x=tmax, y=PFCmax, xref=\"x\", yref=\"y\", text=\"PFCmax\", showarrow=True, arrowhead=2, ax=20, ay=-30)\n",
    "                      ])\n",
    "\n",
    "    # Show the plot\n",
    "    fig.show()\n",
    "\n",
    "def Plot_Prod(PFC_values_dict, times_dict):\n",
    "    # Dictionnaire de couleurs pour chaque clé\n",
    "    color_dict = {\n",
    "        \"chargement_et_fusion\": 'royalblue',\n",
    "        \"Four 1\": 'firebrick',\n",
    "        \"Four 2\": 'green',\n",
    "        \"Four 3\": 'orange',\n",
    "        \"Four 4\": 'purple'\n",
    "    }\n",
    "\n",
    "    # Create Plotly figure\n",
    "    fig = go.Figure()\n",
    "\n",
    "    # Add PFC lines for each key\n",
    "    for key in PFC_values_dict.keys():\n",
    "        fig.add_trace(go.Scatter(x=times_dict[key], y=PFC_values_dict[key], mode='lines', name=f'PFC over time ({key})', line=dict(color=color_dict[key])))\n",
    "\n",
    "    # Customize layout\n",
    "    fig.update_layout(title='Evolution de la fonte disponible dans le Four de Fusion au cours du temps', \n",
    "                      xaxis_title='Time (minutes)', yaxis_title='PFC (kg)', \n",
    "                      template='plotly', showlegend=True)\n",
    "\n",
    "    # Show the plot\n",
    "    fig.show()\n"
   ]
  },
  {
   "cell_type": "code",
   "execution_count": 24,
   "metadata": {},
   "outputs": [],
   "source": [
    "\n",
    "\n",
    "def update_production_chargement_et_fusion(t, numfours, PFC_Prod):\n",
    "    \n",
    "    \"\"\"\n",
    "    Met à jour la production de fonte en fonction du temps écoulé lors du chargement et de la fusion.\n",
    "    \n",
    "    :param t: Temps actuel en minutes\n",
    "    :param Temps_chargement: Temps de chargement en minutes\n",
    "    :param Temps_fusion: Temps de fusion en minutes\n",
    "    :param numfours: Nombre de fours en production\n",
    "    :param Fonte_produit: Quantité de fonte produite par cycle en kg\n",
    "    :param PFC_Prod: Production actuelle de fonte en kg\n",
    "    :param poche: Paramètre optionnel, par défaut à 0\n",
    "    :return: Tuple (numfours, PFC_Prod) mis à jour\n",
    "    \"\"\"\n",
    "    # if t >= Temps_chargement + Temps_fusion:\n",
    "    if t >= temps_chargement + temps_fusion:\n",
    "        numfours += 1\n",
    "        PFC_Prod += fonte_produit\n",
    "    return numfours, PFC_Prod\n",
    "\n",
    "def calcule_chargement_et_fusion(times_dict, PFC_Prodvalues_dict, PFC_Consomvalues_dict, numfours):\n",
    "    \"\"\"\n",
    "    Calcule la consommation et la production de fonte du début du chargement à la fin de la 1ère fusion.\n",
    "    \"\"\"\n",
    "    # Derniers éléments des listes pour la clé 'chargement_et_fusion'\n",
    "    PFC_Consom = PFC_Consomvalues_dict['chargement_et_fusion'][-1] if times_dict['chargement_et_fusion'] else 0\n",
    "    PFC_Prod = PFC_Prodvalues_dict['chargement_et_fusion'][-1] if times_dict['chargement_et_fusion'] else 0\n",
    "    t = times_dict['chargement_et_fusion'][-1] if times_dict['chargement_et_fusion'] else 0\n",
    "\n",
    "    # Mise à jour de la production de fonte après chargement\n",
    "    t += temps_chargement\n",
    "    numfours, PFC_Prod = update_production_chargement_et_fusion(t, numfours, PFC_Prod)\n",
    "    PFC_Prodvalues_dict['chargement_et_fusion'].append(PFC_Prod)\n",
    "    PFC_Consomvalues_dict['chargement_et_fusion'].append(PFC_Consom)\n",
    "    times_dict['chargement_et_fusion'].append(t)\n",
    "\n",
    "    # # Mise à jour de la production de fonte entre début/fin fusion\n",
    "    # t += temps_fusion - 1\n",
    "    # numfours, PFC_Prod = update_production_chargement_et_fusion(t, numfours, PFC_Prod)\n",
    "    # PFC_Prodvalues_dict['chargement_et_fusion'].append(PFC_Prod)\n",
    "    # PFC_Consomvalues_dict['chargement_et_fusion'].append(PFC_Consom)\n",
    "    # times_dict['chargement_et_fusion'].append(t)\n",
    "\n",
    "    # # Mise à jour de la production de fonte après fusion\n",
    "    # t += 1\n",
    "    # numfours, PFC_Prod = update_production_chargement_et_fusion(t, numfours, PFC_Prod)\n",
    "    # PFC_Prodvalues_dict['chargement_et_fusion'].append(PFC_Prod)\n",
    "    # PFC_Consomvalues_dict['chargement_et_fusion'].append(PFC_Consom)\n",
    "    # times_dict['chargement_et_fusion'].append(t)\n",
    "\n",
    "    # Mise à jour de la production de fonte après fusion\n",
    "    t += temps_fusion\n",
    "    numfours, PFC_Prod = update_production_chargement_et_fusion(t, numfours, PFC_Prod)\n",
    "    PFC_Prodvalues_dict['chargement_et_fusion'].append(PFC_Prod)\n",
    "    PFC_Consomvalues_dict['chargement_et_fusion'].append(PFC_Consom)\n",
    "    times_dict['chargement_et_fusion'].append(t)\n",
    "\n",
    "    return times_dict, PFC_Prodvalues_dict, PFC_Consomvalues_dict\n",
    "\n",
    "def update_production(t, numfours, PFC_Prod, poche = 0):\n",
    "    \"\"\"\n",
    "    Met à jour la production de fonte en fonction du temps écoulé.\n",
    "    \"\"\"\n",
    "    if t > temps_chargement and (t - temps_chargement) % temps_fusion == 0 and numfours <= 4 :\n",
    "        numfours += 1\n",
    "        PFC_Prod += fonte_produit\n",
    "    PFC_Prod -= poche\n",
    "    return numfours, PFC_Prod\n",
    "\n",
    "def calcule_Transitoire(times_dict, PFC_Prodvalues_dict, PFC_Consomvalues_dict, numfours):\n",
    "    \"\"\"\n",
    "    Calcule la consommation et la production de fonte lors des 3 premières poches (Régime Transitoire).\n",
    "    \"\"\"\n",
    "    # Temps de traitement et poches\n",
    "    temps_poche_1, temps_poche_2, temps_poche_3 = 10, 10, 10\n",
    "    poche_1, poche_2, poche_3 = 1250, 1250, 1250\n",
    "\n",
    "    # Déterminer la clé basée sur numfours\n",
    "    cle = f\"Four {numfours}\" if numfours in [1, 2, 3, 4] else \"chargement_et_fusion\"\n",
    "\n",
    "    # Derniers éléments des listes pour la clé correspondante\n",
    "    PFC_Consom = PFC_Consomvalues_dict[\"chargement_et_fusion\"][-1] \n",
    "    PFC_Prod = PFC_Prodvalues_dict[\"chargement_et_fusion\"][-1] \n",
    "    t = times_dict[\"chargement_et_fusion\"][-1] \n",
    "\n",
    "\n",
    "    # Déterminer la clé basée sur numfours\n",
    "    cle = f\"Four {numfours}\" if numfours in [1, 2, 3, 4] else \"chargement_et_fusion\"\n",
    "    times_dict[cle].append(t)\n",
    "    PFC_Prodvalues_dict[cle].append(PFC_Prod)\n",
    "    PFC_Consomvalues_dict[cle].append(PFC_Consom)\n",
    "\n",
    "    # Poche 1\n",
    "    t += temps_poche_1\n",
    "    PFC_Consom += poche_1\n",
    "    numfours, PFC_Prod = update_production(t, numfours, PFC_Prod, poche_1)\n",
    "    PFC_Prodvalues_dict[cle].append(PFC_Prod)\n",
    "    PFC_Consomvalues_dict[cle].append(PFC_Consom)\n",
    "    times_dict[cle].append(t)\n",
    "\n",
    "    # Poche 2\n",
    "    t += temps_poche_2\n",
    "    PFC_Consom += poche_2\n",
    "    PFC_Consomvalues_dict[cle].append(PFC_Consom)\n",
    "    numfours, PFC_Prod = update_production(t, numfours, PFC_Prod, poche_2)\n",
    "    PFC_Prodvalues_dict[cle].append(PFC_Prod)\n",
    "    times_dict[cle].append(t)\n",
    "\n",
    "    # Poche 3\n",
    "    t += temps_poche_3\n",
    "    PFC_Consom += poche_3\n",
    "    PFC_Consomvalues_dict[cle].append(PFC_Consom)\n",
    "    numfours, PFC_Prod = update_production(t, numfours, PFC_Prod, poche_3)\n",
    "    PFC_Prodvalues_dict[cle].append(PFC_Prod)\n",
    "    times_dict[cle].append(t)\n",
    "\n",
    "    return times_dict, PFC_Prodvalues_dict, PFC_Consomvalues_dict\n",
    "\n",
    "\n",
    "\n",
    "\n",
    "\n",
    "\n",
    "def calcule_temps_poche_i(PFC_Consomvalues_dict, Mg, numfours=1):\n",
    "    \"\"\"\n",
    "    Calcule le temps nécessaire pour ajouter la poche i.\n",
    "\n",
    "    Args:\n",
    "        PFC_Consomvalues_dict (dict): Dictionnaire contenant les valeurs de consommation de PFC par clé.\n",
    "        Mg (float): Valeur actuelle de Mg.\n",
    "        Mgmin (float): Valeur minimale acceptable de Mg.\n",
    "        PFCmin (float): Valeur minimale acceptable de PFC.\n",
    "        eC (float): Variation de Mg par unité de temps.\n",
    "        liste_Masse_Modeles (list of float): Liste des masses des grappes.\n",
    "        liste_Quantite_Modeles (list of int): Liste des quantités de mottes pour chaque grappe.\n",
    "        liste_cadences (list of float): Liste des cadences pour chaque grappe.\n",
    "        numfours (int): Numéro du four à utiliser (1, 2, 3, ou 4). Par défaut à 1.\n",
    "\n",
    "    Returns:\n",
    "        int: Temps nécessaire pour ajouter la poche 4.\n",
    "    \"\"\"\n",
    "    cle = f\"Four {numfours}\"\n",
    "    if cle not in PFC_Consomvalues_dict or not PFC_Consomvalues_dict[cle]:\n",
    "        raise ValueError(f\"Clé '{cle}' invalide ou valeurs de consommation manquantes\")\n",
    "\n",
    "\n",
    "    temps_serie = 3\n",
    "    ObjetjModeles_i = 1\n",
    "\n",
    "\n",
    "    PFC_Consom = PFC_Consomvalues_dict[cle][-1]\n",
    "    temps_ajout_poche_i_Coulee = 0\n",
    "    for idx, (masse_grappe, quantite_mottes) in enumerate(zip(liste_Masse_Modeles, liste_Quantite_Modeles)):\n",
    "        cadence = liste_cadences[idx]\n",
    "        for _ in range(quantite_mottes):\n",
    "            PFC_Consom -= cadence\n",
    "            Mg -= eC\n",
    "            if PFC_Consom <= PFCmin or Mg <= Mgmin:\n",
    "                return temps_ajout_poche_i_Coulee\n",
    "            temps_ajout_poche_i_Coulee += 1\n",
    "        temps_ajout_poche_i_Coulee += temps_serie\n",
    "    return temps_ajout_poche_i_Coulee\n",
    "\n",
    "\n",
    "def calcule_temps_poche_i(PFC_Consom, Mg, numfours=1):\n",
    "    \"\"\"\n",
    "    Calcule le temps nécessaire pour ajouter la poche i.\n",
    "\n",
    "    Args:\n",
    "        PFC_Consom (float): Valeur de consommation de PFC.\n",
    "        Mg (float): Valeur actuelle de Mg.\n",
    "        numfours (int): Numéro du four à utiliser (1, 2, 3, ou 4). Par défaut à 1.\n",
    "\n",
    "    Returns:\n",
    "        list: Liste des temps nécessaires pour chaque changement de série.\n",
    "    \"\"\"\n",
    "\n",
    "    Pause_serie = 30\n",
    "    temps_ajout_poche_i_Coulee = []\n",
    "    stop = False\n",
    "    for idx, (masse_grappe, quantite_mottes) in enumerate(zip(liste_Masse_Modeles, liste_Quantite_Modeles)):\n",
    "        cadence = liste_cadences[idx]\n",
    "        temps_serie_courant = 0\n",
    "        for _ in range(quantite_mottes):\n",
    "            PFC_Consom -= cadence\n",
    "            Mg -= eC\n",
    "            if  Mg <= Mgmin: # stop à cause de Mgmin\n",
    "                print(\"Mg\")\n",
    "\n",
    "            if PFC_Consom <= PFCmin or Mg <= Mgmin:\n",
    "                temps_ajout_poche_i_Coulee.append((\"temps_serie_courant\", temps_serie_courant))\n",
    "                stop  = True\n",
    "                break\n",
    "            temps_serie_courant += 1\n",
    "        if stop :\n",
    "            break\n",
    "        Mg -= Pause_serie*eC\n",
    "        if len(liste_Quantite_Modeles) >= 2: # Si c'est le dernier element plus besoin d'une Pause_serie\n",
    "            temps_ajout_poche_i_Coulee.append((\"Pause_serie\", Pause_serie))  \n",
    "    # print(temps_ajout_poche_i_Coulee)\n",
    "    return temps_ajout_poche_i_Coulee\n",
    "\n",
    "\n",
    "\n",
    "def Consomation_fonteCoulee(PFC_Consom, Mg, ObjetjModeles_i):\n",
    "    \"\"\"\n",
    "    Met à jour la consommation de fonte, Mg, et les listes des modèles en fonction des conditions spécifiées.\n",
    "\n",
    "    Args:\n",
    "        PFC_Consom (float): Consommation actuelle de fonte.\n",
    "        Mg (float): Quantité actuelle de Mg.\n",
    "        eC (float): Variation de Mg par unité de temps.\n",
    "        ObjetjModeles_i (int): Index du modèle actuel.\n",
    "        liste_Masse_Modeles (list of float): Liste des masses des grappes.\n",
    "        liste_Quantite_Modeles (list of int): Liste des quantités de mottes pour chaque grappe.\n",
    "        liste_cadences (list of float): Liste des cadences pour chaque grappe.\n",
    "\n",
    "    Returns:\n",
    "        tuple: Mise à jour de (PFC_Consom, Mg, ObjetjModeles_i, liste_Masse_Modeles, liste_Quantite_Modeles).\n",
    "    \"\"\"\n",
    "    FinConso = False\n",
    "\n",
    "    # Panne = False\n",
    "\n",
    "    if liste_Masse_Modeles != []:\n",
    "        masse_grappe = liste_Masse_Modeles[0]\n",
    "        cadence = liste_cadences[0]\n",
    "        # print(\"Serie \", masse_grappe, ObjetjModeles_i)\n",
    "\n",
    "        # On est sur la Conception du Modeles i\n",
    "        if ObjetjModeles_i > 1:\n",
    "            # Mise à jour de la consommation de fonte et de Mg\n",
    "            PFC_Consom -= cadence\n",
    "            Mg -= eC\n",
    "            ObjetjModeles_i -= 1\n",
    "        # On est sur la Conception du Modeles i+1\n",
    "        # Donc pris en compte du temps_serie\n",
    "        else:\n",
    "            # Gestion du Changement de Serie\n",
    "            print(\"Gestion du Changement de Serie\")\n",
    "            # Suppression des éléments déjà traités dans les listes\n",
    "            liste_Masse_Modeles.pop(0)\n",
    "            liste_Quantite_Modeles.pop(0)\n",
    "            liste_cadences.pop(0)\n",
    "\n",
    "            # Mise à jour des valeurs\n",
    "            if liste_Quantite_Modeles:\n",
    "                ObjetjModeles_i = liste_Quantite_Modeles[0]\n",
    "\n",
    "    else :\n",
    "        FinConso = True\n",
    "        # On stop tous le processus\n",
    "\n",
    "    return PFC_Consom, Mg, ObjetjModeles_i,FinConso\n",
    "\n",
    "\n",
    "def gestion_poche_et_consomation(numfours, PFC_Prodvalues_dict, PFC_Consomvalues_dict, times_dict,liste_Quantite_Modeles):\n",
    "    \"\"\"\n",
    "    Gère l'ajout de poche, la consommation de fonte et la mise à jour des temps et valeurs correspondantes.\n",
    "\n",
    "    Args:\n",
    "\n",
    "    Returns:\n",
    "        tuple: Mise à jour de .\n",
    "    \"\"\"\n",
    "    \n",
    "    cle = f\"Four {numfours}\" if numfours in [1, 2, 3, 4] else \"chargement_et_fusion\"\n",
    "\n",
    "    # Derniers éléments des listes pour la clé correspondante\n",
    "    PFC_Consom = PFC_Consomvalues_dict[cle][-1] \n",
    "    PFC_Prod = PFC_Prodvalues_dict[cle][-1] \n",
    "    t = times_dict[cle][-1] \n",
    "\n",
    "    # Ajout poche_i\n",
    "    PFC_Consom += poche_i\n",
    "    Mg = Mgmax\n",
    "\n",
    "    # Consommation de fonte lors du transvasement poche coulée vers Fours coulée\n",
    "    ObjetjModeles_i = liste_Quantite_Modeles[0]\n",
    "    PFC_Consom, Mg, ObjetjModeles_i,FinConso =  Consomation_fonteCoulee(PFC_Consom, Mg, ObjetjModeles_i)\n",
    "    liste_Quantite_Modeles[0] = ObjetjModeles_i\n",
    "\n",
    "    # Quand ajout poche_i+1 ?\n",
    "    temps_ajout_poche_i_Coulee = calcule_temps_poche_i(PFC_Consom, Mg, numfours=1)\n",
    "\n",
    "\n",
    "    # Mise à jour du temps\n",
    "    t += 1\n",
    "    PFC_Prodvalues_dict[cle].append(PFC_Prod)\n",
    "    PFC_Consomvalues_dict[cle].append(PFC_Consom)\n",
    "    times_dict[cle].append(t)\n",
    "\n",
    "    return times_dict,PFC_Consomvalues_dict, PFC_Prodvalues_dict, Mg, temps_ajout_poche_i_Coulee,FinConso\n",
    "\n",
    "\n",
    "def gestion_consomation_fonte_coulee(PFC_Consomvalues_dict, PFC_Prodvalues_dict, times_dict, numfours, temps_ajout_poche_i_Coulee, Mg):\n",
    "    \"\"\"\n",
    "    Gère la consommation de fonte dans les fours de coulée entre 2 poches.\n",
    "\n",
    "    Args:\n",
    "\n",
    "\n",
    "    Returns:\n",
    "        tuple: \n",
    "    \"\"\"\n",
    "    cle = f\"Four {numfours}\" if numfours in [1, 2, 3, 4] else \"chargement_et_fusion\"\n",
    "    \n",
    "    # numpoche = 0\n",
    "    # if numpoche  == 4 :\n",
    "    #     numfours+=1\n",
    "    #     numpoche = 1\n",
    "\n",
    "    #     cle = f\"Four {numfours}\" if numfours in [1, 2, 3, 4] else \"chargement_et_fusion\"\n",
    "    #     PFC_Prodvalues_dict[cle].append(PFC_Prod)\n",
    "    #     PFC_Consomvalues_dict[cle].append(PFC_Consom)\n",
    "    #     times_dict[cle].append(t)\n",
    "\n",
    "    # else :\n",
    "    #     numpoche += 1\n",
    "\n",
    "    # Derniers éléments des listes pour la clé correspondante\n",
    "    PFC_Consom = PFC_Consomvalues_dict[cle][-1] \n",
    "    PFC_Prod = PFC_Prodvalues_dict[cle][-1] \n",
    "    t = times_dict[cle][-1] \n",
    "\n",
    "\n",
    "    FinConso = False\n",
    "\n",
    "\n",
    "    for i, t_iter in enumerate(temps_ajout_poche_i_Coulee):\n",
    "        if t_iter[0] == 'temps_serie_courant':\n",
    "            ObjetjModeles_i = liste_Quantite_Modeles[0]\n",
    "            cadence = liste_cadences[0]\n",
    "            if t_iter[1] == 0 : \n",
    "                # Si temps_ajout_poche_i_Coulee = 0 (cela veut dire que l'on doit\n",
    "                # consomme immediatement )\n",
    "                # Alors consommer jusqu'à la valeur min\n",
    "                while PFC_Consom-cadence >= PFCmin or Mg-eC >= Mgmin : \n",
    "                    ### Consommation de fonte !!\n",
    "                    PFC_Consom, Mg, ObjetjModeles_i,FinConso = Consomation_fonteCoulee(PFC_Consom, Mg, ObjetjModeles_i)\n",
    "\n",
    "                    # Mise à jour du temps\n",
    "                    t += 1\n",
    "                    PFC_Prodvalues_dict[cle].append(PFC_Prod)\n",
    "                    PFC_Consomvalues_dict[cle].append(PFC_Consom)\n",
    "                    times_dict[cle].append(t)\n",
    "\n",
    "                liste_Quantite_Modeles[0] = ObjetjModeles_i\n",
    "            else :\n",
    "                # Sinon consomme jusqu'a la durrée avant l'ajout de poche\n",
    "                t_fin = t + t_iter[1]\n",
    "                ### Consommation de fonte dans le Fours de Coulée!!\n",
    "                while t < t_fin:\n",
    "                    ### Consommation de fonte !!\n",
    "                    PFC_Consom, Mg, ObjetjModeles_i,FinConso = Consomation_fonteCoulee(PFC_Consom, Mg, ObjetjModeles_i)\n",
    "\n",
    "                    # Mise à jour du temps\n",
    "                    t += 1\n",
    "                    PFC_Prodvalues_dict[cle].append(PFC_Prod)\n",
    "                    PFC_Consomvalues_dict[cle].append(PFC_Consom)\n",
    "                    times_dict[cle].append(t)\n",
    "\n",
    "                liste_Quantite_Modeles[0] = ObjetjModeles_i\n",
    "\n",
    "        if t_iter[0] == 'Pause_serie':  \n",
    "            Mg -= t_iter[1]*eC\n",
    "\n",
    "            t += t_iter[1]      \n",
    "            PFC_Prodvalues_dict[cle].append(PFC_Prod)\n",
    "            PFC_Consomvalues_dict[cle].append(PFC_Consom)\n",
    "            times_dict[cle].append(t)\n",
    "\n",
    "    return PFC_Consomvalues_dict, PFC_Prodvalues_dict, times_dict, Mg,FinConso\n",
    "\n"
   ]
  },
  {
   "cell_type": "code",
   "execution_count": null,
   "metadata": {},
   "outputs": [],
   "source": []
  },
  {
   "cell_type": "code",
   "execution_count": null,
   "metadata": {},
   "outputs": [],
   "source": []
  },
  {
   "cell_type": "code",
   "execution_count": 28,
   "metadata": {},
   "outputs": [],
   "source": [
    "\n",
    "# Initialisation des dictionnaires\n",
    "cles = [\"chargement_et_fusion\", \"Four 1\", \"Four 2\", \"Four 3\", \"Four 4\"]\n",
    "times_dict = {cle: [] for cle in cles}\n",
    "PFC_Consomvalues_dict = {cle: [] for cle in cles}\n",
    "PFC_Prodvalues_dict = {cle: [] for cle in cles}\n",
    "times_dict[\"chargement_et_fusion\"] = [0]\n",
    "PFC_Consomvalues_dict[\"chargement_et_fusion\"] = [0]\n",
    "PFC_Prodvalues_dict[\"chargement_et_fusion\"] = [0]\n",
    "\n",
    "\n",
    "\n",
    "numfours = 1  # Exemple de numéro de four (peut être 1, 2, 3 ou 4)\n",
    "poche_i = 1250\n",
    "\n",
    "\n",
    "liste_nbMoules_heure = [190, 190, 190, 210, 190, 190, 190, 190, 190] # en Tonnes/hr\n",
    "liste_Quantite_Modeles = [121, 50, 35, 10, 100, 50, 35, 50, 40]\n",
    "liste_Masse_Modeles = [41.2, 39.36, 15.6, 19.94, 41.20, 39.36, 15.60, 41.20, 29.65] # en kg\n",
    "\n",
    "\n",
    "# Calcul de la liste des cadences\n",
    "liste_cadences = [] # en kg/min\n",
    "for nb_moules, masse_grappe in zip(liste_nbMoules_heure, liste_Masse_Modeles):\n",
    "    cadence = nb_moules / 60 * masse_grappe\n",
    "    liste_cadences.append(cadence)"
   ]
  },
  {
   "cell_type": "code",
   "execution_count": 29,
   "metadata": {},
   "outputs": [
    {
     "name": "stdout",
     "output_type": "stream",
     "text": [
      "Mg\n",
      "Gestion du Changement de Serie\n",
      "Mg\n",
      "Gestion du Changement de Serie\n",
      "Mg\n",
      "Mg\n",
      "Gestion du Changement de Serie\n",
      "Gestion du Changement de Serie\n",
      "Mg\n",
      "Gestion du Changement de Serie\n",
      "Mg\n",
      "Gestion du Changement de Serie\n",
      "Mg\n",
      "Mg\n",
      "Gestion du Changement de Serie\n",
      "Gestion du Changement de Serie\n"
     ]
    },
    {
     "data": {
      "application/vnd.plotly.v1+json": {
       "config": {
        "plotlyServerURL": "https://plot.ly"
       },
       "data": [
        {
         "line": {
          "color": "royalblue"
         },
         "mode": "lines",
         "name": "PFC over time (chargement_et_fusion)",
         "type": "scatter",
         "x": [
          0,
          30,
          75
         ],
         "y": [
          0,
          0,
          0
         ]
        },
        {
         "line": {
          "color": "firebrick"
         },
         "mode": "lines",
         "name": "PFC over time (Four 1)",
         "type": "scatter",
         "x": [
          75,
          85,
          95,
          105,
          106,
          107,
          108,
          109,
          110,
          111,
          112,
          113,
          114,
          115,
          116,
          117,
          118,
          119,
          120,
          121,
          122,
          123,
          124,
          125,
          126,
          127,
          128,
          129,
          130,
          131,
          132,
          133,
          134,
          135,
          136,
          137,
          138,
          139,
          140,
          141,
          142,
          143,
          144,
          145,
          146,
          147,
          148,
          149,
          150,
          151,
          152,
          153,
          154,
          155,
          156,
          157,
          158,
          159,
          160,
          161,
          162,
          163,
          164,
          165,
          166,
          167,
          168,
          169,
          170,
          171,
          172,
          173,
          174,
          175,
          176,
          177,
          178,
          179,
          180,
          181,
          182,
          183,
          184,
          185,
          186,
          187,
          188,
          189,
          190,
          191,
          192,
          193,
          194,
          195,
          196,
          197,
          198,
          199,
          200,
          201,
          202,
          203,
          204,
          205,
          206,
          207,
          208,
          209,
          210,
          211,
          212,
          213,
          214,
          215,
          216,
          217,
          218,
          219,
          220,
          250,
          251,
          252,
          253,
          254,
          255,
          256,
          257,
          258,
          259,
          260,
          261,
          262,
          263,
          264,
          265,
          266,
          267,
          268,
          269,
          270,
          271,
          272,
          273,
          274,
          275,
          276,
          277,
          278,
          279,
          280,
          281,
          282,
          283,
          284,
          285,
          286,
          287,
          288,
          289,
          290,
          291,
          292,
          293,
          294,
          295,
          296,
          297,
          298,
          299,
          300,
          301,
          331,
          332,
          333,
          334,
          335,
          336,
          337,
          338,
          339,
          340,
          341,
          342,
          343,
          344,
          345,
          346,
          347,
          348,
          349,
          350,
          351,
          352,
          353,
          354,
          355,
          356,
          357,
          358,
          359,
          360,
          361,
          362,
          363,
          364,
          365,
          366,
          367,
          368,
          369,
          399,
          400,
          401,
          402,
          403,
          404,
          405,
          406,
          407,
          408,
          409,
          410,
          411,
          412,
          413,
          414,
          415,
          416,
          417,
          418,
          419,
          420,
          421,
          422,
          423,
          424,
          425,
          426,
          427,
          428,
          429,
          430,
          431,
          432,
          433,
          434,
          435,
          436,
          437,
          438,
          439,
          440,
          441,
          442,
          443,
          444,
          445,
          446,
          447,
          448,
          449,
          450,
          451,
          452,
          453,
          454,
          455,
          456,
          457,
          458,
          459,
          460,
          461,
          462,
          463,
          464,
          465,
          466,
          467,
          468,
          469,
          470,
          471,
          472,
          473,
          474,
          475,
          476,
          477,
          478,
          479,
          480,
          481,
          482,
          483,
          484,
          485,
          486,
          487,
          488,
          489,
          490,
          491,
          492,
          493,
          494,
          495,
          496,
          497,
          498,
          499,
          500,
          501,
          502,
          503,
          504,
          505,
          535,
          536,
          537,
          538,
          539,
          540,
          541,
          542,
          543,
          544,
          545,
          546,
          547,
          548,
          549,
          550,
          551,
          552,
          553,
          554,
          555,
          556,
          557,
          558,
          559,
          560,
          561,
          562,
          563,
          564,
          565,
          566,
          567,
          568,
          569,
          570,
          571,
          572,
          573,
          574,
          575,
          576,
          577,
          578,
          579,
          580,
          581,
          582,
          583,
          584,
          585,
          586,
          616,
          617,
          618,
          619,
          620,
          621,
          622,
          623,
          624,
          625,
          626,
          627,
          628,
          629,
          630,
          631,
          632,
          633,
          634,
          635,
          636,
          637,
          638,
          639,
          640,
          641,
          642,
          643,
          644,
          645,
          646,
          647,
          648,
          649,
          650,
          651,
          652,
          682,
          683,
          684,
          685,
          686,
          687,
          688,
          689,
          690,
          691,
          692,
          693,
          694,
          695,
          696,
          697,
          698,
          699,
          700,
          701,
          702,
          703,
          704,
          705,
          706,
          707,
          708,
          709,
          710,
          711,
          712,
          713,
          714,
          715,
          716,
          717,
          718,
          719,
          720,
          721,
          722,
          723,
          724,
          725,
          726,
          727,
          728,
          729,
          730,
          731,
          732,
          733,
          734,
          735,
          736,
          737,
          738,
          739,
          740,
          741,
          742,
          743,
          744,
          745,
          746,
          747,
          748,
          749,
          750,
          751,
          752,
          753,
          754,
          755,
          756,
          757,
          758,
          759,
          760,
          761,
          762,
          763,
          764,
          765,
          766,
          767,
          768,
          769,
          770
         ],
         "y": [
          0,
          1250,
          2500,
          3750,
          3619.5333333333333,
          3489.0666666666666,
          3358.6,
          3228.133333333333,
          3097.6666666666665,
          2967.2,
          2836.733333333333,
          2706.2666666666664,
          2575.7999999999997,
          3695.333333333333,
          3564.8666666666663,
          3434.3999999999996,
          3303.933333333333,
          3173.4666666666662,
          3042.9999999999995,
          2912.533333333333,
          2782.066666666666,
          2651.5999999999995,
          2521.1333333333328,
          3640.666666666666,
          3510.1999999999994,
          3379.7333333333327,
          3249.266666666666,
          3118.7999999999993,
          2988.3333333333326,
          2857.866666666666,
          2727.399999999999,
          2596.9333333333325,
          3716.466666666666,
          3585.999999999999,
          3455.5333333333324,
          3325.0666666666657,
          3194.599999999999,
          3064.1333333333323,
          2933.6666666666656,
          2803.199999999999,
          2672.733333333332,
          2542.2666666666655,
          3661.799999999999,
          3531.333333333332,
          3400.8666666666654,
          3270.3999999999987,
          3139.933333333332,
          3009.4666666666653,
          2878.9999999999986,
          2748.533333333332,
          2618.0666666666652,
          3737.5999999999985,
          3607.133333333332,
          3476.666666666665,
          3346.1999999999985,
          3215.7333333333318,
          3085.266666666665,
          2954.7999999999984,
          2824.3333333333317,
          2693.866666666665,
          2563.3999999999983,
          3682.9333333333316,
          3552.466666666665,
          3421.999999999998,
          3291.5333333333315,
          3161.066666666665,
          3030.599999999998,
          2900.1333333333314,
          2769.6666666666647,
          2639.199999999998,
          2508.7333333333313,
          3628.2666666666646,
          3497.799999999998,
          3367.333333333331,
          3236.8666666666645,
          3106.399999999998,
          2975.933333333331,
          2845.4666666666644,
          2714.9999999999977,
          2584.533333333331,
          3704.0666666666643,
          3573.5999999999976,
          3443.133333333331,
          3312.6666666666642,
          3182.1999999999975,
          3051.733333333331,
          2921.266666666664,
          2790.7999999999975,
          2660.3333333333308,
          2529.866666666664,
          3649.3999999999974,
          3518.9333333333307,
          3388.466666666664,
          3257.9999999999973,
          3127.5333333333306,
          2997.066666666664,
          2866.599999999997,
          2736.1333333333305,
          2605.666666666664,
          3725.199999999997,
          3594.7333333333304,
          3464.2666666666637,
          3333.799999999997,
          3203.3333333333303,
          3072.8666666666636,
          2942.399999999997,
          2811.93333333333,
          2681.4666666666635,
          2550.999999999997,
          3670.53333333333,
          3540.0666666666634,
          3409.5999999999967,
          3279.13333333333,
          3148.6666666666633,
          3018.1999999999966,
          2887.73333333333,
          2757.2666666666632,
          2626.7999999999965,
          3746.33333333333,
          3746.33333333333,
          3615.866666666663,
          3485.3999999999965,
          3354.9333333333298,
          3224.466666666663,
          3093.9999999999964,
          3093.9999999999964,
          2969.3599999999965,
          2844.7199999999966,
          2720.0799999999967,
          2595.439999999997,
          3720.799999999997,
          3596.159999999997,
          3471.5199999999973,
          3346.8799999999974,
          3222.2399999999975,
          3097.5999999999976,
          2972.9599999999978,
          2848.319999999998,
          2723.679999999998,
          2599.039999999998,
          3724.3999999999983,
          3599.7599999999984,
          3475.1199999999985,
          3350.4799999999987,
          3225.839999999999,
          3101.199999999999,
          2976.559999999999,
          2851.919999999999,
          2727.2799999999993,
          2602.6399999999994,
          3727.9999999999995,
          3603.3599999999997,
          3478.72,
          3354.08,
          3229.44,
          3104.8,
          2980.1600000000003,
          2855.5200000000004,
          2730.8800000000006,
          2606.2400000000007,
          3731.600000000001,
          3606.960000000001,
          3482.320000000001,
          3357.680000000001,
          3233.0400000000013,
          3108.4000000000015,
          2983.7600000000016,
          2859.1200000000017,
          2734.480000000002,
          2609.840000000002,
          3735.200000000002,
          3735.200000000002,
          3610.560000000002,
          3485.9200000000023,
          3361.2800000000025,
          3236.6400000000026,
          3236.6400000000026,
          3187.2400000000025,
          3137.8400000000024,
          3088.4400000000023,
          3039.0400000000022,
          2989.640000000002,
          2940.240000000002,
          2890.840000000002,
          2841.440000000002,
          2792.040000000002,
          2742.6400000000017,
          2693.2400000000016,
          2643.8400000000015,
          2594.4400000000014,
          3795.0400000000013,
          3745.6400000000012,
          3696.240000000001,
          3646.840000000001,
          3597.440000000001,
          3548.040000000001,
          3498.640000000001,
          3449.2400000000007,
          3399.8400000000006,
          3350.4400000000005,
          3301.0400000000004,
          3251.6400000000003,
          3202.2400000000002,
          3152.84,
          3103.44,
          3054.04,
          3004.64,
          2955.24,
          2905.8399999999997,
          4106.4400000000005,
          4106.4400000000005,
          4057.0400000000004,
          4057.0400000000004,
          3987.2500000000005,
          3917.4600000000005,
          3847.6700000000005,
          3777.8800000000006,
          3708.0900000000006,
          3638.3000000000006,
          3568.5100000000007,
          3498.7200000000007,
          3428.9300000000007,
          3428.9300000000007,
          3298.463333333334,
          3167.9966666666674,
          3037.5300000000007,
          2907.063333333334,
          2776.5966666666673,
          2646.1300000000006,
          2515.663333333334,
          3635.196666666667,
          3504.7300000000005,
          3374.263333333334,
          3243.796666666667,
          3113.3300000000004,
          2982.8633333333337,
          2852.396666666667,
          2721.9300000000003,
          2591.4633333333336,
          3710.996666666667,
          3580.53,
          3450.0633333333335,
          3319.596666666667,
          3189.13,
          3058.6633333333334,
          2928.1966666666667,
          2797.73,
          2667.2633333333333,
          2536.7966666666666,
          3656.33,
          3525.8633333333332,
          3395.3966666666665,
          3264.93,
          3134.463333333333,
          3003.9966666666664,
          2873.5299999999997,
          2743.063333333333,
          2612.5966666666664,
          3732.1299999999997,
          3601.663333333333,
          3471.1966666666663,
          3340.7299999999996,
          3210.263333333333,
          3079.796666666666,
          2949.3299999999995,
          2818.863333333333,
          2688.396666666666,
          2557.9299999999994,
          3677.4633333333327,
          3546.996666666666,
          3416.5299999999993,
          3286.0633333333326,
          3155.596666666666,
          3025.129999999999,
          2894.6633333333325,
          2764.196666666666,
          2633.729999999999,
          2503.2633333333324,
          3622.7966666666657,
          3492.329999999999,
          3361.8633333333323,
          3231.3966666666656,
          3100.929999999999,
          2970.4633333333322,
          2839.9966666666655,
          2709.529999999999,
          2579.063333333332,
          3698.5966666666654,
          3568.1299999999987,
          3437.663333333332,
          3307.1966666666654,
          3176.7299999999987,
          3046.263333333332,
          2915.7966666666653,
          2785.3299999999986,
          2654.863333333332,
          2524.396666666665,
          3643.9299999999985,
          3513.463333333332,
          3382.996666666665,
          3252.5299999999984,
          3122.0633333333317,
          2991.596666666665,
          2861.1299999999983,
          2730.6633333333316,
          2600.196666666665,
          3719.729999999998,
          3589.2633333333315,
          3458.796666666665,
          3328.329999999998,
          3197.8633333333314,
          3067.3966666666647,
          2936.929999999998,
          2806.4633333333313,
          2675.9966666666646,
          2545.529999999998,
          3665.0633333333312,
          3665.0633333333312,
          3534.5966666666645,
          3404.129999999998,
          3273.663333333331,
          3143.1966666666644,
          3012.7299999999977,
          3012.7299999999977,
          2888.089999999998,
          2763.449999999998,
          2638.809999999998,
          2514.1699999999983,
          3639.5299999999984,
          3514.8899999999985,
          3390.2499999999986,
          3265.6099999999988,
          3140.969999999999,
          3016.329999999999,
          2891.689999999999,
          2767.0499999999993,
          2642.4099999999994,
          2517.7699999999995,
          3643.1299999999997,
          3518.49,
          3393.85,
          3269.21,
          3144.57,
          3019.9300000000003,
          2895.2900000000004,
          2770.6500000000005,
          2646.0100000000007,
          2521.370000000001,
          3646.730000000001,
          3522.090000000001,
          3397.450000000001,
          3272.8100000000013,
          3148.1700000000014,
          3023.5300000000016,
          2898.8900000000017,
          2774.250000000002,
          2649.610000000002,
          2524.970000000002,
          3650.330000000002,
          3525.6900000000023,
          3401.0500000000025,
          3276.4100000000026,
          3151.7700000000027,
          3027.130000000003,
          2902.490000000003,
          2777.850000000003,
          2653.210000000003,
          2528.5700000000033,
          3653.9300000000035,
          3653.9300000000035,
          3529.2900000000036,
          3404.6500000000037,
          3280.010000000004,
          3155.370000000004,
          3155.370000000004,
          3105.970000000004,
          3056.570000000004,
          3007.1700000000037,
          2957.7700000000036,
          2908.3700000000035,
          2858.9700000000034,
          2809.5700000000033,
          2760.1700000000033,
          2710.770000000003,
          2661.370000000003,
          2611.970000000003,
          3812.570000000003,
          3763.170000000003,
          3713.7700000000027,
          3664.3700000000026,
          3614.9700000000025,
          3565.5700000000024,
          3516.1700000000023,
          3466.7700000000023,
          3417.370000000002,
          3367.970000000002,
          3318.570000000002,
          3269.170000000002,
          3219.770000000002,
          3170.3700000000017,
          3120.9700000000016,
          3071.5700000000015,
          3022.1700000000014,
          2972.7700000000013,
          2923.3700000000013,
          4123.970000000001,
          4123.970000000001,
          4074.570000000001,
          4025.170000000001,
          3975.770000000001,
          3975.770000000001,
          3845.303333333334,
          3714.8366666666675,
          3584.370000000001,
          3453.903333333334,
          3323.4366666666674,
          3192.9700000000007,
          3062.503333333334,
          2932.0366666666673,
          2801.5700000000006,
          2671.103333333334,
          2540.636666666667,
          3660.1700000000005,
          3529.703333333334,
          3399.236666666667,
          3268.7700000000004,
          3138.3033333333337,
          3007.836666666667,
          2877.3700000000003,
          2746.9033333333336,
          2616.436666666667,
          3735.9700000000003,
          3605.5033333333336,
          3475.036666666667,
          3344.57,
          3214.1033333333335,
          3083.6366666666668,
          2953.17,
          2822.7033333333334,
          2692.2366666666667,
          2561.77,
          3681.3033333333333,
          3550.8366666666666,
          3420.37,
          3289.903333333333,
          3159.4366666666665,
          3028.97,
          2898.503333333333,
          2768.0366666666664,
          2637.5699999999997,
          2507.103333333333,
          3626.6366666666663,
          3496.1699999999996,
          3365.703333333333,
          3235.236666666666,
          3104.7699999999995,
          2974.303333333333,
          2843.836666666666,
          2713.3699999999994,
          2582.9033333333327,
          3832.9033333333327,
          3739.0116666666663,
          3645.12,
          3551.2283333333335,
          3457.336666666667,
          3363.4450000000006,
          3269.553333333334,
          3175.6616666666678,
          3081.7700000000013,
          2987.878333333335,
          2893.9866666666685,
          2800.095000000002,
          2706.2033333333356,
          2612.311666666669,
          2518.420000000003,
          3674.5283333333364,
          3580.63666666667,
          3486.7450000000035,
          3392.853333333337,
          3298.9616666666707,
          3205.0700000000043,
          3111.178333333338,
          3017.2866666666714,
          2923.395000000005,
          2829.5033333333386,
          2735.611666666672,
          2641.7200000000057,
          2547.8283333333393,
          3703.936666666673,
          4860.045000000006,
          6016.15333333334,
          7172.261666666674,
          8328.370000000006,
          9484.47833333334,
          10640.586666666673
         ]
        },
        {
         "line": {
          "color": "green"
         },
         "mode": "lines",
         "name": "PFC over time (Four 2)",
         "type": "scatter",
         "x": [],
         "y": []
        },
        {
         "line": {
          "color": "orange"
         },
         "mode": "lines",
         "name": "PFC over time (Four 3)",
         "type": "scatter",
         "x": [],
         "y": []
        },
        {
         "line": {
          "color": "purple"
         },
         "mode": "lines",
         "name": "PFC over time (Four 4)",
         "type": "scatter",
         "x": [],
         "y": []
        }
       ],
       "layout": {
        "annotations": [
         {
          "arrowhead": 2,
          "ax": 20,
          "ay": -30,
          "showarrow": true,
          "text": "PFCmin",
          "x": 770,
          "xref": "x",
          "y": 2500,
          "yref": "y"
         },
         {
          "arrowhead": 2,
          "ax": 20,
          "ay": -30,
          "showarrow": true,
          "text": "PFCmax",
          "x": 770,
          "xref": "x",
          "y": 4000,
          "yref": "y"
         }
        ],
        "shapes": [
         {
          "line": {
           "color": "firebrick",
           "dash": "dash",
           "width": 2
          },
          "name": "PFCmin",
          "type": "line",
          "x0": 0,
          "x1": 770,
          "y0": 2500,
          "y1": 2500
         },
         {
          "line": {
           "color": "green",
           "dash": "dash",
           "width": 2
          },
          "name": "PFCmax",
          "type": "line",
          "x0": 0,
          "x1": 770,
          "y0": 4000,
          "y1": 4000
         }
        ],
        "showlegend": true,
        "template": {
         "data": {
          "bar": [
           {
            "error_x": {
             "color": "#2a3f5f"
            },
            "error_y": {
             "color": "#2a3f5f"
            },
            "marker": {
             "line": {
              "color": "#E5ECF6",
              "width": 0.5
             },
             "pattern": {
              "fillmode": "overlay",
              "size": 10,
              "solidity": 0.2
             }
            },
            "type": "bar"
           }
          ],
          "barpolar": [
           {
            "marker": {
             "line": {
              "color": "#E5ECF6",
              "width": 0.5
             },
             "pattern": {
              "fillmode": "overlay",
              "size": 10,
              "solidity": 0.2
             }
            },
            "type": "barpolar"
           }
          ],
          "carpet": [
           {
            "aaxis": {
             "endlinecolor": "#2a3f5f",
             "gridcolor": "white",
             "linecolor": "white",
             "minorgridcolor": "white",
             "startlinecolor": "#2a3f5f"
            },
            "baxis": {
             "endlinecolor": "#2a3f5f",
             "gridcolor": "white",
             "linecolor": "white",
             "minorgridcolor": "white",
             "startlinecolor": "#2a3f5f"
            },
            "type": "carpet"
           }
          ],
          "choropleth": [
           {
            "colorbar": {
             "outlinewidth": 0,
             "ticks": ""
            },
            "type": "choropleth"
           }
          ],
          "contour": [
           {
            "colorbar": {
             "outlinewidth": 0,
             "ticks": ""
            },
            "colorscale": [
             [
              0,
              "#0d0887"
             ],
             [
              0.1111111111111111,
              "#46039f"
             ],
             [
              0.2222222222222222,
              "#7201a8"
             ],
             [
              0.3333333333333333,
              "#9c179e"
             ],
             [
              0.4444444444444444,
              "#bd3786"
             ],
             [
              0.5555555555555556,
              "#d8576b"
             ],
             [
              0.6666666666666666,
              "#ed7953"
             ],
             [
              0.7777777777777778,
              "#fb9f3a"
             ],
             [
              0.8888888888888888,
              "#fdca26"
             ],
             [
              1,
              "#f0f921"
             ]
            ],
            "type": "contour"
           }
          ],
          "contourcarpet": [
           {
            "colorbar": {
             "outlinewidth": 0,
             "ticks": ""
            },
            "type": "contourcarpet"
           }
          ],
          "heatmap": [
           {
            "colorbar": {
             "outlinewidth": 0,
             "ticks": ""
            },
            "colorscale": [
             [
              0,
              "#0d0887"
             ],
             [
              0.1111111111111111,
              "#46039f"
             ],
             [
              0.2222222222222222,
              "#7201a8"
             ],
             [
              0.3333333333333333,
              "#9c179e"
             ],
             [
              0.4444444444444444,
              "#bd3786"
             ],
             [
              0.5555555555555556,
              "#d8576b"
             ],
             [
              0.6666666666666666,
              "#ed7953"
             ],
             [
              0.7777777777777778,
              "#fb9f3a"
             ],
             [
              0.8888888888888888,
              "#fdca26"
             ],
             [
              1,
              "#f0f921"
             ]
            ],
            "type": "heatmap"
           }
          ],
          "heatmapgl": [
           {
            "colorbar": {
             "outlinewidth": 0,
             "ticks": ""
            },
            "colorscale": [
             [
              0,
              "#0d0887"
             ],
             [
              0.1111111111111111,
              "#46039f"
             ],
             [
              0.2222222222222222,
              "#7201a8"
             ],
             [
              0.3333333333333333,
              "#9c179e"
             ],
             [
              0.4444444444444444,
              "#bd3786"
             ],
             [
              0.5555555555555556,
              "#d8576b"
             ],
             [
              0.6666666666666666,
              "#ed7953"
             ],
             [
              0.7777777777777778,
              "#fb9f3a"
             ],
             [
              0.8888888888888888,
              "#fdca26"
             ],
             [
              1,
              "#f0f921"
             ]
            ],
            "type": "heatmapgl"
           }
          ],
          "histogram": [
           {
            "marker": {
             "pattern": {
              "fillmode": "overlay",
              "size": 10,
              "solidity": 0.2
             }
            },
            "type": "histogram"
           }
          ],
          "histogram2d": [
           {
            "colorbar": {
             "outlinewidth": 0,
             "ticks": ""
            },
            "colorscale": [
             [
              0,
              "#0d0887"
             ],
             [
              0.1111111111111111,
              "#46039f"
             ],
             [
              0.2222222222222222,
              "#7201a8"
             ],
             [
              0.3333333333333333,
              "#9c179e"
             ],
             [
              0.4444444444444444,
              "#bd3786"
             ],
             [
              0.5555555555555556,
              "#d8576b"
             ],
             [
              0.6666666666666666,
              "#ed7953"
             ],
             [
              0.7777777777777778,
              "#fb9f3a"
             ],
             [
              0.8888888888888888,
              "#fdca26"
             ],
             [
              1,
              "#f0f921"
             ]
            ],
            "type": "histogram2d"
           }
          ],
          "histogram2dcontour": [
           {
            "colorbar": {
             "outlinewidth": 0,
             "ticks": ""
            },
            "colorscale": [
             [
              0,
              "#0d0887"
             ],
             [
              0.1111111111111111,
              "#46039f"
             ],
             [
              0.2222222222222222,
              "#7201a8"
             ],
             [
              0.3333333333333333,
              "#9c179e"
             ],
             [
              0.4444444444444444,
              "#bd3786"
             ],
             [
              0.5555555555555556,
              "#d8576b"
             ],
             [
              0.6666666666666666,
              "#ed7953"
             ],
             [
              0.7777777777777778,
              "#fb9f3a"
             ],
             [
              0.8888888888888888,
              "#fdca26"
             ],
             [
              1,
              "#f0f921"
             ]
            ],
            "type": "histogram2dcontour"
           }
          ],
          "mesh3d": [
           {
            "colorbar": {
             "outlinewidth": 0,
             "ticks": ""
            },
            "type": "mesh3d"
           }
          ],
          "parcoords": [
           {
            "line": {
             "colorbar": {
              "outlinewidth": 0,
              "ticks": ""
             }
            },
            "type": "parcoords"
           }
          ],
          "pie": [
           {
            "automargin": true,
            "type": "pie"
           }
          ],
          "scatter": [
           {
            "fillpattern": {
             "fillmode": "overlay",
             "size": 10,
             "solidity": 0.2
            },
            "type": "scatter"
           }
          ],
          "scatter3d": [
           {
            "line": {
             "colorbar": {
              "outlinewidth": 0,
              "ticks": ""
             }
            },
            "marker": {
             "colorbar": {
              "outlinewidth": 0,
              "ticks": ""
             }
            },
            "type": "scatter3d"
           }
          ],
          "scattercarpet": [
           {
            "marker": {
             "colorbar": {
              "outlinewidth": 0,
              "ticks": ""
             }
            },
            "type": "scattercarpet"
           }
          ],
          "scattergeo": [
           {
            "marker": {
             "colorbar": {
              "outlinewidth": 0,
              "ticks": ""
             }
            },
            "type": "scattergeo"
           }
          ],
          "scattergl": [
           {
            "marker": {
             "colorbar": {
              "outlinewidth": 0,
              "ticks": ""
             }
            },
            "type": "scattergl"
           }
          ],
          "scattermapbox": [
           {
            "marker": {
             "colorbar": {
              "outlinewidth": 0,
              "ticks": ""
             }
            },
            "type": "scattermapbox"
           }
          ],
          "scatterpolar": [
           {
            "marker": {
             "colorbar": {
              "outlinewidth": 0,
              "ticks": ""
             }
            },
            "type": "scatterpolar"
           }
          ],
          "scatterpolargl": [
           {
            "marker": {
             "colorbar": {
              "outlinewidth": 0,
              "ticks": ""
             }
            },
            "type": "scatterpolargl"
           }
          ],
          "scatterternary": [
           {
            "marker": {
             "colorbar": {
              "outlinewidth": 0,
              "ticks": ""
             }
            },
            "type": "scatterternary"
           }
          ],
          "surface": [
           {
            "colorbar": {
             "outlinewidth": 0,
             "ticks": ""
            },
            "colorscale": [
             [
              0,
              "#0d0887"
             ],
             [
              0.1111111111111111,
              "#46039f"
             ],
             [
              0.2222222222222222,
              "#7201a8"
             ],
             [
              0.3333333333333333,
              "#9c179e"
             ],
             [
              0.4444444444444444,
              "#bd3786"
             ],
             [
              0.5555555555555556,
              "#d8576b"
             ],
             [
              0.6666666666666666,
              "#ed7953"
             ],
             [
              0.7777777777777778,
              "#fb9f3a"
             ],
             [
              0.8888888888888888,
              "#fdca26"
             ],
             [
              1,
              "#f0f921"
             ]
            ],
            "type": "surface"
           }
          ],
          "table": [
           {
            "cells": {
             "fill": {
              "color": "#EBF0F8"
             },
             "line": {
              "color": "white"
             }
            },
            "header": {
             "fill": {
              "color": "#C8D4E3"
             },
             "line": {
              "color": "white"
             }
            },
            "type": "table"
           }
          ]
         },
         "layout": {
          "annotationdefaults": {
           "arrowcolor": "#2a3f5f",
           "arrowhead": 0,
           "arrowwidth": 1
          },
          "autotypenumbers": "strict",
          "coloraxis": {
           "colorbar": {
            "outlinewidth": 0,
            "ticks": ""
           }
          },
          "colorscale": {
           "diverging": [
            [
             0,
             "#8e0152"
            ],
            [
             0.1,
             "#c51b7d"
            ],
            [
             0.2,
             "#de77ae"
            ],
            [
             0.3,
             "#f1b6da"
            ],
            [
             0.4,
             "#fde0ef"
            ],
            [
             0.5,
             "#f7f7f7"
            ],
            [
             0.6,
             "#e6f5d0"
            ],
            [
             0.7,
             "#b8e186"
            ],
            [
             0.8,
             "#7fbc41"
            ],
            [
             0.9,
             "#4d9221"
            ],
            [
             1,
             "#276419"
            ]
           ],
           "sequential": [
            [
             0,
             "#0d0887"
            ],
            [
             0.1111111111111111,
             "#46039f"
            ],
            [
             0.2222222222222222,
             "#7201a8"
            ],
            [
             0.3333333333333333,
             "#9c179e"
            ],
            [
             0.4444444444444444,
             "#bd3786"
            ],
            [
             0.5555555555555556,
             "#d8576b"
            ],
            [
             0.6666666666666666,
             "#ed7953"
            ],
            [
             0.7777777777777778,
             "#fb9f3a"
            ],
            [
             0.8888888888888888,
             "#fdca26"
            ],
            [
             1,
             "#f0f921"
            ]
           ],
           "sequentialminus": [
            [
             0,
             "#0d0887"
            ],
            [
             0.1111111111111111,
             "#46039f"
            ],
            [
             0.2222222222222222,
             "#7201a8"
            ],
            [
             0.3333333333333333,
             "#9c179e"
            ],
            [
             0.4444444444444444,
             "#bd3786"
            ],
            [
             0.5555555555555556,
             "#d8576b"
            ],
            [
             0.6666666666666666,
             "#ed7953"
            ],
            [
             0.7777777777777778,
             "#fb9f3a"
            ],
            [
             0.8888888888888888,
             "#fdca26"
            ],
            [
             1,
             "#f0f921"
            ]
           ]
          },
          "colorway": [
           "#636efa",
           "#EF553B",
           "#00cc96",
           "#ab63fa",
           "#FFA15A",
           "#19d3f3",
           "#FF6692",
           "#B6E880",
           "#FF97FF",
           "#FECB52"
          ],
          "font": {
           "color": "#2a3f5f"
          },
          "geo": {
           "bgcolor": "white",
           "lakecolor": "white",
           "landcolor": "#E5ECF6",
           "showlakes": true,
           "showland": true,
           "subunitcolor": "white"
          },
          "hoverlabel": {
           "align": "left"
          },
          "hovermode": "closest",
          "mapbox": {
           "style": "light"
          },
          "paper_bgcolor": "white",
          "plot_bgcolor": "#E5ECF6",
          "polar": {
           "angularaxis": {
            "gridcolor": "white",
            "linecolor": "white",
            "ticks": ""
           },
           "bgcolor": "#E5ECF6",
           "radialaxis": {
            "gridcolor": "white",
            "linecolor": "white",
            "ticks": ""
           }
          },
          "scene": {
           "xaxis": {
            "backgroundcolor": "#E5ECF6",
            "gridcolor": "white",
            "gridwidth": 2,
            "linecolor": "white",
            "showbackground": true,
            "ticks": "",
            "zerolinecolor": "white"
           },
           "yaxis": {
            "backgroundcolor": "#E5ECF6",
            "gridcolor": "white",
            "gridwidth": 2,
            "linecolor": "white",
            "showbackground": true,
            "ticks": "",
            "zerolinecolor": "white"
           },
           "zaxis": {
            "backgroundcolor": "#E5ECF6",
            "gridcolor": "white",
            "gridwidth": 2,
            "linecolor": "white",
            "showbackground": true,
            "ticks": "",
            "zerolinecolor": "white"
           }
          },
          "shapedefaults": {
           "line": {
            "color": "#2a3f5f"
           }
          },
          "ternary": {
           "aaxis": {
            "gridcolor": "white",
            "linecolor": "white",
            "ticks": ""
           },
           "baxis": {
            "gridcolor": "white",
            "linecolor": "white",
            "ticks": ""
           },
           "bgcolor": "#E5ECF6",
           "caxis": {
            "gridcolor": "white",
            "linecolor": "white",
            "ticks": ""
           }
          },
          "title": {
           "x": 0.05
          },
          "xaxis": {
           "automargin": true,
           "gridcolor": "white",
           "linecolor": "white",
           "ticks": "",
           "title": {
            "standoff": 15
           },
           "zerolinecolor": "white",
           "zerolinewidth": 2
          },
          "yaxis": {
           "automargin": true,
           "gridcolor": "white",
           "linecolor": "white",
           "ticks": "",
           "title": {
            "standoff": 15
           },
           "zerolinecolor": "white",
           "zerolinewidth": 2
          }
         }
        },
        "title": {
         "text": "Evolution de la fonte dans le Four de Coulée au cours du temps"
        },
        "xaxis": {
         "title": {
          "text": "Time (minutes)"
         }
        },
        "yaxis": {
         "title": {
          "text": "PFC (kg)"
         }
        }
       }
      }
     },
     "metadata": {},
     "output_type": "display_data"
    },
    {
     "data": {
      "application/vnd.plotly.v1+json": {
       "config": {
        "plotlyServerURL": "https://plot.ly"
       },
       "data": [
        {
         "line": {
          "color": "royalblue"
         },
         "mode": "lines",
         "name": "PFC over time (chargement_et_fusion)",
         "type": "scatter",
         "x": [
          0,
          30,
          75
         ],
         "y": [
          0,
          0,
          5000
         ]
        },
        {
         "line": {
          "color": "firebrick"
         },
         "mode": "lines",
         "name": "PFC over time (Four 1)",
         "type": "scatter",
         "x": [
          75,
          85,
          95,
          105,
          106,
          107,
          108,
          109,
          110,
          111,
          112,
          113,
          114,
          115,
          116,
          117,
          118,
          119,
          120,
          121,
          122,
          123,
          124,
          125,
          126,
          127,
          128,
          129,
          130,
          131,
          132,
          133,
          134,
          135,
          136,
          137,
          138,
          139,
          140,
          141,
          142,
          143,
          144,
          145,
          146,
          147,
          148,
          149,
          150,
          151,
          152,
          153,
          154,
          155,
          156,
          157,
          158,
          159,
          160,
          161,
          162,
          163,
          164,
          165,
          166,
          167,
          168,
          169,
          170,
          171,
          172,
          173,
          174,
          175,
          176,
          177,
          178,
          179,
          180,
          181,
          182,
          183,
          184,
          185,
          186,
          187,
          188,
          189,
          190,
          191,
          192,
          193,
          194,
          195,
          196,
          197,
          198,
          199,
          200,
          201,
          202,
          203,
          204,
          205,
          206,
          207,
          208,
          209,
          210,
          211,
          212,
          213,
          214,
          215,
          216,
          217,
          218,
          219,
          220,
          250,
          251,
          252,
          253,
          254,
          255,
          256,
          257,
          258,
          259,
          260,
          261,
          262,
          263,
          264,
          265,
          266,
          267,
          268,
          269,
          270,
          271,
          272,
          273,
          274,
          275,
          276,
          277,
          278,
          279,
          280,
          281,
          282,
          283,
          284,
          285,
          286,
          287,
          288,
          289,
          290,
          291,
          292,
          293,
          294,
          295,
          296,
          297,
          298,
          299,
          300,
          301,
          331,
          332,
          333,
          334,
          335,
          336,
          337,
          338,
          339,
          340,
          341,
          342,
          343,
          344,
          345,
          346,
          347,
          348,
          349,
          350,
          351,
          352,
          353,
          354,
          355,
          356,
          357,
          358,
          359,
          360,
          361,
          362,
          363,
          364,
          365,
          366,
          367,
          368,
          369,
          399,
          400,
          401,
          402,
          403,
          404,
          405,
          406,
          407,
          408,
          409,
          410,
          411,
          412,
          413,
          414,
          415,
          416,
          417,
          418,
          419,
          420,
          421,
          422,
          423,
          424,
          425,
          426,
          427,
          428,
          429,
          430,
          431,
          432,
          433,
          434,
          435,
          436,
          437,
          438,
          439,
          440,
          441,
          442,
          443,
          444,
          445,
          446,
          447,
          448,
          449,
          450,
          451,
          452,
          453,
          454,
          455,
          456,
          457,
          458,
          459,
          460,
          461,
          462,
          463,
          464,
          465,
          466,
          467,
          468,
          469,
          470,
          471,
          472,
          473,
          474,
          475,
          476,
          477,
          478,
          479,
          480,
          481,
          482,
          483,
          484,
          485,
          486,
          487,
          488,
          489,
          490,
          491,
          492,
          493,
          494,
          495,
          496,
          497,
          498,
          499,
          500,
          501,
          502,
          503,
          504,
          505,
          535,
          536,
          537,
          538,
          539,
          540,
          541,
          542,
          543,
          544,
          545,
          546,
          547,
          548,
          549,
          550,
          551,
          552,
          553,
          554,
          555,
          556,
          557,
          558,
          559,
          560,
          561,
          562,
          563,
          564,
          565,
          566,
          567,
          568,
          569,
          570,
          571,
          572,
          573,
          574,
          575,
          576,
          577,
          578,
          579,
          580,
          581,
          582,
          583,
          584,
          585,
          586,
          616,
          617,
          618,
          619,
          620,
          621,
          622,
          623,
          624,
          625,
          626,
          627,
          628,
          629,
          630,
          631,
          632,
          633,
          634,
          635,
          636,
          637,
          638,
          639,
          640,
          641,
          642,
          643,
          644,
          645,
          646,
          647,
          648,
          649,
          650,
          651,
          652,
          682,
          683,
          684,
          685,
          686,
          687,
          688,
          689,
          690,
          691,
          692,
          693,
          694,
          695,
          696,
          697,
          698,
          699,
          700,
          701,
          702,
          703,
          704,
          705,
          706,
          707,
          708,
          709,
          710,
          711,
          712,
          713,
          714,
          715,
          716,
          717,
          718,
          719,
          720,
          721,
          722,
          723,
          724,
          725,
          726,
          727,
          728,
          729,
          730,
          731,
          732,
          733,
          734,
          735,
          736,
          737,
          738,
          739,
          740,
          741,
          742,
          743,
          744,
          745,
          746,
          747,
          748,
          749,
          750,
          751,
          752,
          753,
          754,
          755,
          756,
          757,
          758,
          759,
          760,
          761,
          762,
          763,
          764,
          765,
          766,
          767,
          768,
          769,
          770
         ],
         "y": [
          5000,
          3750,
          2500,
          1250,
          1250,
          1250,
          1250,
          1250,
          1250,
          1250,
          1250,
          1250,
          1250,
          1250,
          1250,
          1250,
          1250,
          1250,
          1250,
          1250,
          1250,
          1250,
          1250,
          1250,
          1250,
          1250,
          1250,
          1250,
          1250,
          1250,
          1250,
          1250,
          1250,
          1250,
          1250,
          1250,
          1250,
          1250,
          1250,
          1250,
          1250,
          1250,
          1250,
          1250,
          1250,
          1250,
          1250,
          1250,
          1250,
          1250,
          1250,
          1250,
          1250,
          1250,
          1250,
          1250,
          1250,
          1250,
          1250,
          1250,
          1250,
          1250,
          1250,
          1250,
          1250,
          1250,
          1250,
          1250,
          1250,
          1250,
          1250,
          1250,
          1250,
          1250,
          1250,
          1250,
          1250,
          1250,
          1250,
          1250,
          1250,
          1250,
          1250,
          1250,
          1250,
          1250,
          1250,
          1250,
          1250,
          1250,
          1250,
          1250,
          1250,
          1250,
          1250,
          1250,
          1250,
          1250,
          1250,
          1250,
          1250,
          1250,
          1250,
          1250,
          1250,
          1250,
          1250,
          1250,
          1250,
          1250,
          1250,
          1250,
          1250,
          1250,
          1250,
          1250,
          1250,
          1250,
          1250,
          1250,
          1250,
          1250,
          1250,
          1250,
          1250,
          1250,
          1250,
          1250,
          1250,
          1250,
          1250,
          1250,
          1250,
          1250,
          1250,
          1250,
          1250,
          1250,
          1250,
          1250,
          1250,
          1250,
          1250,
          1250,
          1250,
          1250,
          1250,
          1250,
          1250,
          1250,
          1250,
          1250,
          1250,
          1250,
          1250,
          1250,
          1250,
          1250,
          1250,
          1250,
          1250,
          1250,
          1250,
          1250,
          1250,
          1250,
          1250,
          1250,
          1250,
          1250,
          1250,
          1250,
          1250,
          1250,
          1250,
          1250,
          1250,
          1250,
          1250,
          1250,
          1250,
          1250,
          1250,
          1250,
          1250,
          1250,
          1250,
          1250,
          1250,
          1250,
          1250,
          1250,
          1250,
          1250,
          1250,
          1250,
          1250,
          1250,
          1250,
          1250,
          1250,
          1250,
          1250,
          1250,
          1250,
          1250,
          1250,
          1250,
          1250,
          1250,
          1250,
          1250,
          1250,
          1250,
          1250,
          1250,
          1250,
          1250,
          1250,
          1250,
          1250,
          1250,
          1250,
          1250,
          1250,
          1250,
          1250,
          1250,
          1250,
          1250,
          1250,
          1250,
          1250,
          1250,
          1250,
          1250,
          1250,
          1250,
          1250,
          1250,
          1250,
          1250,
          1250,
          1250,
          1250,
          1250,
          1250,
          1250,
          1250,
          1250,
          1250,
          1250,
          1250,
          1250,
          1250,
          1250,
          1250,
          1250,
          1250,
          1250,
          1250,
          1250,
          1250,
          1250,
          1250,
          1250,
          1250,
          1250,
          1250,
          1250,
          1250,
          1250,
          1250,
          1250,
          1250,
          1250,
          1250,
          1250,
          1250,
          1250,
          1250,
          1250,
          1250,
          1250,
          1250,
          1250,
          1250,
          1250,
          1250,
          1250,
          1250,
          1250,
          1250,
          1250,
          1250,
          1250,
          1250,
          1250,
          1250,
          1250,
          1250,
          1250,
          1250,
          1250,
          1250,
          1250,
          1250,
          1250,
          1250,
          1250,
          1250,
          1250,
          1250,
          1250,
          1250,
          1250,
          1250,
          1250,
          1250,
          1250,
          1250,
          1250,
          1250,
          1250,
          1250,
          1250,
          1250,
          1250,
          1250,
          1250,
          1250,
          1250,
          1250,
          1250,
          1250,
          1250,
          1250,
          1250,
          1250,
          1250,
          1250,
          1250,
          1250,
          1250,
          1250,
          1250,
          1250,
          1250,
          1250,
          1250,
          1250,
          1250,
          1250,
          1250,
          1250,
          1250,
          1250,
          1250,
          1250,
          1250,
          1250,
          1250,
          1250,
          1250,
          1250,
          1250,
          1250,
          1250,
          1250,
          1250,
          1250,
          1250,
          1250,
          1250,
          1250,
          1250,
          1250,
          1250,
          1250,
          1250,
          1250,
          1250,
          1250,
          1250,
          1250,
          1250,
          1250,
          1250,
          1250,
          1250,
          1250,
          1250,
          1250,
          1250,
          1250,
          1250,
          1250,
          1250,
          1250,
          1250,
          1250,
          1250,
          1250,
          1250,
          1250,
          1250,
          1250,
          1250,
          1250,
          1250,
          1250,
          1250,
          1250,
          1250,
          1250,
          1250,
          1250,
          1250,
          1250,
          1250,
          1250,
          1250,
          1250,
          1250,
          1250,
          1250,
          1250,
          1250,
          1250,
          1250,
          1250,
          1250,
          1250,
          1250,
          1250,
          1250,
          1250,
          1250,
          1250,
          1250,
          1250,
          1250,
          1250,
          1250,
          1250,
          1250,
          1250,
          1250,
          1250,
          1250,
          1250,
          1250,
          1250,
          1250,
          1250,
          1250,
          1250,
          1250,
          1250,
          1250,
          1250,
          1250,
          1250,
          1250,
          1250,
          1250,
          1250,
          1250,
          1250,
          1250,
          1250,
          1250,
          1250,
          1250,
          1250,
          1250,
          1250,
          1250,
          1250,
          1250,
          1250,
          1250,
          1250,
          1250,
          1250,
          1250,
          1250,
          1250,
          1250,
          1250,
          1250,
          1250,
          1250,
          1250,
          1250
         ]
        },
        {
         "line": {
          "color": "green"
         },
         "mode": "lines",
         "name": "PFC over time (Four 2)",
         "type": "scatter",
         "x": [],
         "y": []
        },
        {
         "line": {
          "color": "orange"
         },
         "mode": "lines",
         "name": "PFC over time (Four 3)",
         "type": "scatter",
         "x": [],
         "y": []
        },
        {
         "line": {
          "color": "purple"
         },
         "mode": "lines",
         "name": "PFC over time (Four 4)",
         "type": "scatter",
         "x": [],
         "y": []
        }
       ],
       "layout": {
        "showlegend": true,
        "template": {
         "data": {
          "bar": [
           {
            "error_x": {
             "color": "#2a3f5f"
            },
            "error_y": {
             "color": "#2a3f5f"
            },
            "marker": {
             "line": {
              "color": "#E5ECF6",
              "width": 0.5
             },
             "pattern": {
              "fillmode": "overlay",
              "size": 10,
              "solidity": 0.2
             }
            },
            "type": "bar"
           }
          ],
          "barpolar": [
           {
            "marker": {
             "line": {
              "color": "#E5ECF6",
              "width": 0.5
             },
             "pattern": {
              "fillmode": "overlay",
              "size": 10,
              "solidity": 0.2
             }
            },
            "type": "barpolar"
           }
          ],
          "carpet": [
           {
            "aaxis": {
             "endlinecolor": "#2a3f5f",
             "gridcolor": "white",
             "linecolor": "white",
             "minorgridcolor": "white",
             "startlinecolor": "#2a3f5f"
            },
            "baxis": {
             "endlinecolor": "#2a3f5f",
             "gridcolor": "white",
             "linecolor": "white",
             "minorgridcolor": "white",
             "startlinecolor": "#2a3f5f"
            },
            "type": "carpet"
           }
          ],
          "choropleth": [
           {
            "colorbar": {
             "outlinewidth": 0,
             "ticks": ""
            },
            "type": "choropleth"
           }
          ],
          "contour": [
           {
            "colorbar": {
             "outlinewidth": 0,
             "ticks": ""
            },
            "colorscale": [
             [
              0,
              "#0d0887"
             ],
             [
              0.1111111111111111,
              "#46039f"
             ],
             [
              0.2222222222222222,
              "#7201a8"
             ],
             [
              0.3333333333333333,
              "#9c179e"
             ],
             [
              0.4444444444444444,
              "#bd3786"
             ],
             [
              0.5555555555555556,
              "#d8576b"
             ],
             [
              0.6666666666666666,
              "#ed7953"
             ],
             [
              0.7777777777777778,
              "#fb9f3a"
             ],
             [
              0.8888888888888888,
              "#fdca26"
             ],
             [
              1,
              "#f0f921"
             ]
            ],
            "type": "contour"
           }
          ],
          "contourcarpet": [
           {
            "colorbar": {
             "outlinewidth": 0,
             "ticks": ""
            },
            "type": "contourcarpet"
           }
          ],
          "heatmap": [
           {
            "colorbar": {
             "outlinewidth": 0,
             "ticks": ""
            },
            "colorscale": [
             [
              0,
              "#0d0887"
             ],
             [
              0.1111111111111111,
              "#46039f"
             ],
             [
              0.2222222222222222,
              "#7201a8"
             ],
             [
              0.3333333333333333,
              "#9c179e"
             ],
             [
              0.4444444444444444,
              "#bd3786"
             ],
             [
              0.5555555555555556,
              "#d8576b"
             ],
             [
              0.6666666666666666,
              "#ed7953"
             ],
             [
              0.7777777777777778,
              "#fb9f3a"
             ],
             [
              0.8888888888888888,
              "#fdca26"
             ],
             [
              1,
              "#f0f921"
             ]
            ],
            "type": "heatmap"
           }
          ],
          "heatmapgl": [
           {
            "colorbar": {
             "outlinewidth": 0,
             "ticks": ""
            },
            "colorscale": [
             [
              0,
              "#0d0887"
             ],
             [
              0.1111111111111111,
              "#46039f"
             ],
             [
              0.2222222222222222,
              "#7201a8"
             ],
             [
              0.3333333333333333,
              "#9c179e"
             ],
             [
              0.4444444444444444,
              "#bd3786"
             ],
             [
              0.5555555555555556,
              "#d8576b"
             ],
             [
              0.6666666666666666,
              "#ed7953"
             ],
             [
              0.7777777777777778,
              "#fb9f3a"
             ],
             [
              0.8888888888888888,
              "#fdca26"
             ],
             [
              1,
              "#f0f921"
             ]
            ],
            "type": "heatmapgl"
           }
          ],
          "histogram": [
           {
            "marker": {
             "pattern": {
              "fillmode": "overlay",
              "size": 10,
              "solidity": 0.2
             }
            },
            "type": "histogram"
           }
          ],
          "histogram2d": [
           {
            "colorbar": {
             "outlinewidth": 0,
             "ticks": ""
            },
            "colorscale": [
             [
              0,
              "#0d0887"
             ],
             [
              0.1111111111111111,
              "#46039f"
             ],
             [
              0.2222222222222222,
              "#7201a8"
             ],
             [
              0.3333333333333333,
              "#9c179e"
             ],
             [
              0.4444444444444444,
              "#bd3786"
             ],
             [
              0.5555555555555556,
              "#d8576b"
             ],
             [
              0.6666666666666666,
              "#ed7953"
             ],
             [
              0.7777777777777778,
              "#fb9f3a"
             ],
             [
              0.8888888888888888,
              "#fdca26"
             ],
             [
              1,
              "#f0f921"
             ]
            ],
            "type": "histogram2d"
           }
          ],
          "histogram2dcontour": [
           {
            "colorbar": {
             "outlinewidth": 0,
             "ticks": ""
            },
            "colorscale": [
             [
              0,
              "#0d0887"
             ],
             [
              0.1111111111111111,
              "#46039f"
             ],
             [
              0.2222222222222222,
              "#7201a8"
             ],
             [
              0.3333333333333333,
              "#9c179e"
             ],
             [
              0.4444444444444444,
              "#bd3786"
             ],
             [
              0.5555555555555556,
              "#d8576b"
             ],
             [
              0.6666666666666666,
              "#ed7953"
             ],
             [
              0.7777777777777778,
              "#fb9f3a"
             ],
             [
              0.8888888888888888,
              "#fdca26"
             ],
             [
              1,
              "#f0f921"
             ]
            ],
            "type": "histogram2dcontour"
           }
          ],
          "mesh3d": [
           {
            "colorbar": {
             "outlinewidth": 0,
             "ticks": ""
            },
            "type": "mesh3d"
           }
          ],
          "parcoords": [
           {
            "line": {
             "colorbar": {
              "outlinewidth": 0,
              "ticks": ""
             }
            },
            "type": "parcoords"
           }
          ],
          "pie": [
           {
            "automargin": true,
            "type": "pie"
           }
          ],
          "scatter": [
           {
            "fillpattern": {
             "fillmode": "overlay",
             "size": 10,
             "solidity": 0.2
            },
            "type": "scatter"
           }
          ],
          "scatter3d": [
           {
            "line": {
             "colorbar": {
              "outlinewidth": 0,
              "ticks": ""
             }
            },
            "marker": {
             "colorbar": {
              "outlinewidth": 0,
              "ticks": ""
             }
            },
            "type": "scatter3d"
           }
          ],
          "scattercarpet": [
           {
            "marker": {
             "colorbar": {
              "outlinewidth": 0,
              "ticks": ""
             }
            },
            "type": "scattercarpet"
           }
          ],
          "scattergeo": [
           {
            "marker": {
             "colorbar": {
              "outlinewidth": 0,
              "ticks": ""
             }
            },
            "type": "scattergeo"
           }
          ],
          "scattergl": [
           {
            "marker": {
             "colorbar": {
              "outlinewidth": 0,
              "ticks": ""
             }
            },
            "type": "scattergl"
           }
          ],
          "scattermapbox": [
           {
            "marker": {
             "colorbar": {
              "outlinewidth": 0,
              "ticks": ""
             }
            },
            "type": "scattermapbox"
           }
          ],
          "scatterpolar": [
           {
            "marker": {
             "colorbar": {
              "outlinewidth": 0,
              "ticks": ""
             }
            },
            "type": "scatterpolar"
           }
          ],
          "scatterpolargl": [
           {
            "marker": {
             "colorbar": {
              "outlinewidth": 0,
              "ticks": ""
             }
            },
            "type": "scatterpolargl"
           }
          ],
          "scatterternary": [
           {
            "marker": {
             "colorbar": {
              "outlinewidth": 0,
              "ticks": ""
             }
            },
            "type": "scatterternary"
           }
          ],
          "surface": [
           {
            "colorbar": {
             "outlinewidth": 0,
             "ticks": ""
            },
            "colorscale": [
             [
              0,
              "#0d0887"
             ],
             [
              0.1111111111111111,
              "#46039f"
             ],
             [
              0.2222222222222222,
              "#7201a8"
             ],
             [
              0.3333333333333333,
              "#9c179e"
             ],
             [
              0.4444444444444444,
              "#bd3786"
             ],
             [
              0.5555555555555556,
              "#d8576b"
             ],
             [
              0.6666666666666666,
              "#ed7953"
             ],
             [
              0.7777777777777778,
              "#fb9f3a"
             ],
             [
              0.8888888888888888,
              "#fdca26"
             ],
             [
              1,
              "#f0f921"
             ]
            ],
            "type": "surface"
           }
          ],
          "table": [
           {
            "cells": {
             "fill": {
              "color": "#EBF0F8"
             },
             "line": {
              "color": "white"
             }
            },
            "header": {
             "fill": {
              "color": "#C8D4E3"
             },
             "line": {
              "color": "white"
             }
            },
            "type": "table"
           }
          ]
         },
         "layout": {
          "annotationdefaults": {
           "arrowcolor": "#2a3f5f",
           "arrowhead": 0,
           "arrowwidth": 1
          },
          "autotypenumbers": "strict",
          "coloraxis": {
           "colorbar": {
            "outlinewidth": 0,
            "ticks": ""
           }
          },
          "colorscale": {
           "diverging": [
            [
             0,
             "#8e0152"
            ],
            [
             0.1,
             "#c51b7d"
            ],
            [
             0.2,
             "#de77ae"
            ],
            [
             0.3,
             "#f1b6da"
            ],
            [
             0.4,
             "#fde0ef"
            ],
            [
             0.5,
             "#f7f7f7"
            ],
            [
             0.6,
             "#e6f5d0"
            ],
            [
             0.7,
             "#b8e186"
            ],
            [
             0.8,
             "#7fbc41"
            ],
            [
             0.9,
             "#4d9221"
            ],
            [
             1,
             "#276419"
            ]
           ],
           "sequential": [
            [
             0,
             "#0d0887"
            ],
            [
             0.1111111111111111,
             "#46039f"
            ],
            [
             0.2222222222222222,
             "#7201a8"
            ],
            [
             0.3333333333333333,
             "#9c179e"
            ],
            [
             0.4444444444444444,
             "#bd3786"
            ],
            [
             0.5555555555555556,
             "#d8576b"
            ],
            [
             0.6666666666666666,
             "#ed7953"
            ],
            [
             0.7777777777777778,
             "#fb9f3a"
            ],
            [
             0.8888888888888888,
             "#fdca26"
            ],
            [
             1,
             "#f0f921"
            ]
           ],
           "sequentialminus": [
            [
             0,
             "#0d0887"
            ],
            [
             0.1111111111111111,
             "#46039f"
            ],
            [
             0.2222222222222222,
             "#7201a8"
            ],
            [
             0.3333333333333333,
             "#9c179e"
            ],
            [
             0.4444444444444444,
             "#bd3786"
            ],
            [
             0.5555555555555556,
             "#d8576b"
            ],
            [
             0.6666666666666666,
             "#ed7953"
            ],
            [
             0.7777777777777778,
             "#fb9f3a"
            ],
            [
             0.8888888888888888,
             "#fdca26"
            ],
            [
             1,
             "#f0f921"
            ]
           ]
          },
          "colorway": [
           "#636efa",
           "#EF553B",
           "#00cc96",
           "#ab63fa",
           "#FFA15A",
           "#19d3f3",
           "#FF6692",
           "#B6E880",
           "#FF97FF",
           "#FECB52"
          ],
          "font": {
           "color": "#2a3f5f"
          },
          "geo": {
           "bgcolor": "white",
           "lakecolor": "white",
           "landcolor": "#E5ECF6",
           "showlakes": true,
           "showland": true,
           "subunitcolor": "white"
          },
          "hoverlabel": {
           "align": "left"
          },
          "hovermode": "closest",
          "mapbox": {
           "style": "light"
          },
          "paper_bgcolor": "white",
          "plot_bgcolor": "#E5ECF6",
          "polar": {
           "angularaxis": {
            "gridcolor": "white",
            "linecolor": "white",
            "ticks": ""
           },
           "bgcolor": "#E5ECF6",
           "radialaxis": {
            "gridcolor": "white",
            "linecolor": "white",
            "ticks": ""
           }
          },
          "scene": {
           "xaxis": {
            "backgroundcolor": "#E5ECF6",
            "gridcolor": "white",
            "gridwidth": 2,
            "linecolor": "white",
            "showbackground": true,
            "ticks": "",
            "zerolinecolor": "white"
           },
           "yaxis": {
            "backgroundcolor": "#E5ECF6",
            "gridcolor": "white",
            "gridwidth": 2,
            "linecolor": "white",
            "showbackground": true,
            "ticks": "",
            "zerolinecolor": "white"
           },
           "zaxis": {
            "backgroundcolor": "#E5ECF6",
            "gridcolor": "white",
            "gridwidth": 2,
            "linecolor": "white",
            "showbackground": true,
            "ticks": "",
            "zerolinecolor": "white"
           }
          },
          "shapedefaults": {
           "line": {
            "color": "#2a3f5f"
           }
          },
          "ternary": {
           "aaxis": {
            "gridcolor": "white",
            "linecolor": "white",
            "ticks": ""
           },
           "baxis": {
            "gridcolor": "white",
            "linecolor": "white",
            "ticks": ""
           },
           "bgcolor": "#E5ECF6",
           "caxis": {
            "gridcolor": "white",
            "linecolor": "white",
            "ticks": ""
           }
          },
          "title": {
           "x": 0.05
          },
          "xaxis": {
           "automargin": true,
           "gridcolor": "white",
           "linecolor": "white",
           "ticks": "",
           "title": {
            "standoff": 15
           },
           "zerolinecolor": "white",
           "zerolinewidth": 2
          },
          "yaxis": {
           "automargin": true,
           "gridcolor": "white",
           "linecolor": "white",
           "ticks": "",
           "title": {
            "standoff": 15
           },
           "zerolinecolor": "white",
           "zerolinewidth": 2
          }
         }
        },
        "title": {
         "text": "Evolution de la fonte disponible dans le Four de Fusion au cours du temps"
        },
        "xaxis": {
         "title": {
          "text": "Time (minutes)"
         }
        },
        "yaxis": {
         "title": {
          "text": "PFC (kg)"
         }
        }
       }
      }
     },
     "metadata": {},
     "output_type": "display_data"
    }
   ],
   "source": [
    "times_dict, PFC_Prodvalues_dict, PFC_Consomvalues_dict = calcule_chargement_et_fusion(times_dict, PFC_Prodvalues_dict, PFC_Consomvalues_dict, numfours)\n",
    "\n",
    "times_dict, PFC_Prodvalues_dict, PFC_Consomvalues_dict = calcule_Transitoire(times_dict, PFC_Prodvalues_dict, PFC_Consomvalues_dict, numfours)\n",
    "\n",
    "\n",
    "Mg = Mgmax\n",
    "cle = f\"Four {numfours}\" if numfours in [1, 2, 3, 4] else \"chargement_et_fusion\"\n",
    "PFC_Consom = PFC_Consomvalues_dict[cle][-1] \n",
    "# temps_ajout_poche_i_Coulee = calcule_temps_poche_i(PFC_Consomvalues_dict, Mg, liste_Masse_Modeles, liste_Quantite_Modeles, liste_cadences, numfours=1)\n",
    "temps_ajout_poche_i_Coulee = calcule_temps_poche_i(PFC_Consom, Mg, numfours=1)\n",
    "\n",
    "\n",
    "PFC_Consomvalues_dict, PFC_Prodvalues_dict, times_dict, Mg,FinConso  = gestion_consomation_fonte_coulee(PFC_Consomvalues_dict, PFC_Prodvalues_dict, times_dict, numfours, temps_ajout_poche_i_Coulee, Mg)\n",
    "\n",
    "#### Temps/Moment où la poche_i est entierement ajoutée (et on consomme aussi) \n",
    "times_dict,PFC_Consomvalues_dict, PFC_Prodvalues_dict, Mg, temps_ajout_poche_i_Coulee,FinConso  = gestion_poche_et_consomation(numfours, PFC_Prodvalues_dict, PFC_Consomvalues_dict, times_dict,liste_Quantite_Modeles)\n",
    "\n",
    "FinConso = False\n",
    "\n",
    "nbFours = 3\n",
    "for i in range(nbFours*16) : \n",
    "    # ### Consomation de fonte dans le Fours de Coulée!!\n",
    "    PFC_Consomvalues_dict, PFC_Prodvalues_dict, times_dict, Mg,FinConso  = gestion_consomation_fonte_coulee(PFC_Consomvalues_dict, PFC_Prodvalues_dict, times_dict, numfours, temps_ajout_poche_i_Coulee, Mg)\n",
    "\n",
    "    #### Temps/Moment où la poche_i est entierement ajoutée (et on consomme aussi) \n",
    "    times_dict,PFC_Consomvalues_dict, PFC_Prodvalues_dict, Mg, temps_ajout_poche_i_Coulee,FinConso  = gestion_poche_et_consomation(numfours, PFC_Prodvalues_dict, PFC_Consomvalues_dict, times_dict,liste_Quantite_Modeles)\n",
    "    # numfours+=1\n",
    "    # print(numfours)\n",
    "    if FinConso :\n",
    "        break\n",
    "\n",
    "\n",
    "Plot_consom(PFC_Consomvalues_dict, times_dict, PFCmin, PFCmax)\n",
    "Plot_Prod(PFC_Prodvalues_dict, times_dict)"
   ]
  },
  {
   "cell_type": "code",
   "execution_count": null,
   "metadata": {},
   "outputs": [],
   "source": []
  },
  {
   "cell_type": "code",
   "execution_count": 41,
   "metadata": {},
   "outputs": [],
   "source": [
    "\n",
    "\n",
    "def ProdConsom(liste_masse_grappe, liste_quantite_mottes, nb_moules_heure, t_serie, temps_fusion, temps_chargement, temps_traitement, Mg, Mgmin,Mgmax, eC):\n",
    "    \"\"\"\n",
    "    Calcule la consommation et la production de fonte.\n",
    "    \"\"\"\n",
    "    # Initialisation des variables\n",
    "    numfours = 1\n",
    "    fonte_produit = 5000  # Fonte produite toutes les 45 min en kg\n",
    "    PFC_Prodvalues = [0]  # Production de fonte en kg\n",
    "    PFC_Consomvalues = [0]  # Consommation de fonte en kg\n",
    "    times = [0]  # Temps en minutes\n",
    "\n",
    "    Listetemps_ajout_poche_i_Coulee = []\n",
    "    Listetemps_depart_poche_i_Fusion = []\n",
    "\n",
    "    # Initialiser les clés\n",
    "    cles = [\"chargement_et_fusion\",\"Four 1\", \"Four 2\", \"Four 3\", \"Four 4\"]\n",
    "    times_dict = {}\n",
    "    PFC_Consomvalues_dict = {}\n",
    "    PFC_Prodvalues_dict = {}\n",
    "    # PFC_Consomvalues = {cle: [0] for cle in cles}\n",
    "\n",
    "    times, PFC_Prodvalues,PFC_Consomvalues = calcule_chargement_et_fusion(times, PFC_Prodvalues, PFC_Consomvalues, fonte_produit, numfours, temps_chargement, temps_fusion)\n",
    "\n",
    "\n",
    "    times, PFC_Prodvalues,PFC_Consomvalues = calcule_Transitoire(times, PFC_Prodvalues, PFC_Consomvalues, fonte_produit, numfours, temps_chargement, temps_fusion)\n",
    "\n",
    "    temps_ajout_poche_4_Coulee = calcule_temps_poche_4(PFC_Consomvalues, liste_masse_grappe, liste_quantite_mottes, Mgmax, Mgmin, PFCmin, eC)\n",
    "    temps_depart_poche_i_Fusion = temps_ajout_poche_4_Coulee - temps_traitement\n",
    "    Listetemps_ajout_poche_i_Coulee.append(temps_ajout_poche_4_Coulee)\n",
    "    Listetemps_depart_poche_i_Fusion.append(temps_depart_poche_i_Fusion)\n",
    "    \n",
    "    numfours += 1\n",
    "\n",
    "\n",
    "\n",
    "\n",
    "    PFC_Prod = PFC_Prodvalues[-1]\n",
    "    PFC_Consom = PFC_Consomvalues[-1]\n",
    "    t = times[-1]\n",
    "\n",
    "    t_avantpoche_i = t\n",
    "    poche_i = 1250\n",
    "\n",
    "    # print( \"ICI\",PFC_Consom,t,Listetemps_ajout_poche_i_Coulee)\n",
    "\n",
    "\n",
    "# ----------------------------------------------------------------------------------\n",
    "\n",
    "    # Boucle principale consomation et production\n",
    "    # Indices de suivi pour les listes\n",
    "    t_max = 600 #4*60\n",
    "    index_grappe = 1 #0\n",
    "    index_motte = 1 #0\n",
    "    quantite_mottes = liste_quantite_mottes[index_grappe-1]\n",
    "\n",
    "    liste_nbMoules_heure = [190, 190, 190, 210, 190, 190, 190, 190, 190] # en Tonnes/hr\n",
    "    liste_masse_grappe = [41.2, 39.36, 15.6, 19.94, 41.20, 39.36, 15.60, 41.20, 29.65] # en kg\n",
    "\n",
    "    # Calcul de la liste des cadences\n",
    "    liste_cadences = [] # en Tonnes/hr\n",
    "    for nb_moules, masse_grappe in zip(liste_nbMoules_heure, liste_masse_grappe):\n",
    "        cadence = nb_moules / 60 * masse_grappe\n",
    "        liste_cadences.append(cadence)\n",
    "\n",
    "\n",
    "    while t < t_max:  \n",
    "        if index_grappe <= len(liste_masse_grappe) and index_motte <= quantite_mottes:\n",
    "            masse_grappe = liste_masse_grappe[index_grappe-1]\n",
    "            cadence =  liste_cadences[index_grappe-1]\n",
    "\n",
    "            \n",
    "\n",
    "            # print(\"Changement de serie \",index_grappe,index_motte)\n",
    "            # print(PFC_Consom,t,Listetemps_ajout_poche_i_Coulee)\n",
    "\n",
    "            # print( \"ICI1\",PFC_Consom,cadence,t,t_avantpoche_i,Listetemps_ajout_poche_i_Coulee)\n",
    "\n",
    "            # Avant de consommer de la fonte, on doit savoir :\n",
    "            # Quand ajouter la poche_i dans le Fours de Coulée ?\n",
    "            if t == (Listetemps_ajout_poche_i_Coulee[-1] + t_avantpoche_i):\n",
    "                PFC_Consom += poche_i\n",
    "                Mg = Mgmax\n",
    "\n",
    "                # print( \"ICI2\",PFC_Consom,cadence,t,t_avantpoche_i,Listetemps_ajout_poche_i_Coulee)\n",
    "\n",
    "                # Calcul Temps prochain poche_i\n",
    "                temps_ajout_poche_i_Coulee = calcule_temps_poche_i(PFC_Consom, index_grappe, liste_masse_grappe, index_motte, liste_quantite_mottes, Mg, Mgmin, PFCmin, eC)\n",
    "                Listetemps_ajout_poche_i_Coulee.append(temps_ajout_poche_i_Coulee)\n",
    "                t_avantpoche_i = t\n",
    "\n",
    "\n",
    "            # Mise à jour des indices de suivi des mottes\n",
    "            if index_motte  < quantite_mottes:\n",
    "                index_motte += 1\n",
    "            else:\n",
    "                # Gestion du Changement de Serie\n",
    "                # print(\"Changement de serie 2\")\n",
    "\n",
    "                # print(\"la\", index_grappe)\n",
    "\n",
    "                index_motte = 1\n",
    "                index_grappe += 1\n",
    "                if index_grappe <= len(liste_quantite_mottes):\n",
    "                    quantite_mottes = liste_quantite_mottes[index_grappe-1]\n",
    "\n",
    "\n",
    "\n",
    "            # Mise à jour de la consommation de fonte et de Mg\n",
    "            PFC_Consom -= cadence  \n",
    "            Mg -= eC\n",
    "\n",
    "\n",
    "\n",
    "        # Mise à jour du temps\n",
    "        t += 1\n",
    "        # print(\"t = \",t)\n",
    "        times.append(t)\n",
    "        PFC_Prodvalues.append(PFC_Prod)\n",
    "        PFC_Consomvalues.append(PFC_Consom)\n",
    "\n",
    "\n",
    "\n",
    "    tmin = times[0]\n",
    "    tmax = times[-1]\n",
    "    return times, PFC_Consomvalues, PFC_Prodvalues, tmin, tmax\n"
   ]
  },
  {
   "cell_type": "code",
   "execution_count": 42,
   "metadata": {},
   "outputs": [],
   "source": [
    "nb_fours = 6 # 8-9 fours pour HWS, 6 fours pour DiSA\n",
    "temps_fusion = 45 # en min\n",
    "temps_chargement = 30 # 30 - 45  min\n",
    "\n",
    "# Les valeurs d'entrée Input \n",
    "\n",
    "nb_moules_heure = 190 \n",
    "t_serie = 5 # 5 min\n",
    "\n",
    "PFCmin = 2500 # en kg\n",
    "PFCmax = 4000 # en kg\n",
    "\n",
    "Mgmin = 0.035 # en %\n",
    "Mgmax = 0.045 # en %\n",
    "eC = 0.0005 # en %\n",
    "temps_traitement = 10  # en  min\n",
    "\n",
    "\n",
    "\n",
    "Mg = Mgmax\n",
    "\n",
    "liste_masse_grappe = [41.2, 39.36, 15.6, 19.94, 41.20, 39.36, 15.60, 41.20, 29.65] # en kg\n",
    "liste_quantite_mottes = [121, 50, 35, 10, 100, 50, 35, 50, 40]\n",
    "\n",
    "liste_cadences = [7.83, 7.48, 2.96, 4.19, 7.83, 7.48, 2.96, 7.83, 5.63] # en Tonnes/hr\n",
    "\n",
    "liste_temps_changement_serie = [3, 3, 3, 3, 3, 3, 3, 3] # en minutes\n",
    "\n",
    "\n",
    "# liste_masse_grappe = [41.2, 39.36, 15.6] # en kg\n",
    "# liste_quantite_mottes = [1*121, 50, 35]\n",
    "\n",
    "\n",
    "# liste_masse_grappe = [35, 35] # en kg\n",
    "# liste_quantite_mottes = [50, 50]\n",
    "\n",
    "# liste_masse_grappe = [35] # en kg\n",
    "# liste_quantite_mottes = [200]\n",
    "\n",
    "times, PFC_Consomvalues, PFC_Prodvalues, tmin, tmax = ProdConsom(liste_masse_grappe, liste_quantite_mottes, nb_moules_heure, t_serie, temps_fusion, temps_chargement, temps_traitement, Mg, Mgmin,Mgmax, eC)"
   ]
  },
  {
   "cell_type": "code",
   "execution_count": 43,
   "metadata": {},
   "outputs": [
    {
     "data": {
      "application/vnd.plotly.v1+json": {
       "config": {
        "plotlyServerURL": "https://plot.ly"
       },
       "data": [
        {
         "line": {
          "color": "royalblue"
         },
         "mode": "lines",
         "name": "PFC over time",
         "type": "scatter",
         "x": [
          0,
          30,
          75,
          85,
          95,
          105,
          106,
          107,
          108,
          109,
          110,
          111,
          112,
          113,
          114,
          115,
          116,
          117,
          118,
          119,
          120,
          121,
          122,
          123,
          124,
          125,
          126,
          127,
          128,
          129,
          130,
          131,
          132,
          133,
          134,
          135,
          136,
          137,
          138,
          139,
          140,
          141,
          142,
          143,
          144,
          145,
          146,
          147,
          148,
          149,
          150,
          151,
          152,
          153,
          154,
          155,
          156,
          157,
          158,
          159,
          160,
          161,
          162,
          163,
          164,
          165,
          166,
          167,
          168,
          169,
          170,
          171,
          172,
          173,
          174,
          175,
          176,
          177,
          178,
          179,
          180,
          181,
          182,
          183,
          184,
          185,
          186,
          187,
          188,
          189,
          190,
          191,
          192,
          193,
          194,
          195,
          196,
          197,
          198,
          199,
          200,
          201,
          202,
          203,
          204,
          205,
          206,
          207,
          208,
          209,
          210,
          211,
          212,
          213,
          214,
          215,
          216,
          217,
          218,
          219,
          220,
          221,
          222,
          223,
          224,
          225,
          226,
          227,
          228,
          229,
          230,
          231,
          232,
          233,
          234,
          235,
          236,
          237,
          238,
          239,
          240,
          241,
          242,
          243,
          244,
          245,
          246,
          247,
          248,
          249,
          250,
          251,
          252,
          253,
          254,
          255,
          256,
          257,
          258,
          259,
          260,
          261,
          262,
          263,
          264,
          265,
          266,
          267,
          268,
          269,
          270,
          271,
          272,
          273,
          274,
          275,
          276,
          277,
          278,
          279,
          280,
          281,
          282,
          283,
          284,
          285,
          286,
          287,
          288,
          289,
          290,
          291,
          292,
          293,
          294,
          295,
          296,
          297,
          298,
          299,
          300,
          301,
          302,
          303,
          304,
          305,
          306,
          307,
          308,
          309,
          310,
          311,
          312,
          313,
          314,
          315,
          316,
          317,
          318,
          319,
          320,
          321,
          322,
          323,
          324,
          325,
          326,
          327,
          328,
          329,
          330,
          331,
          332,
          333,
          334,
          335,
          336,
          337,
          338,
          339,
          340,
          341,
          342,
          343,
          344,
          345,
          346,
          347,
          348,
          349,
          350,
          351,
          352,
          353,
          354,
          355,
          356,
          357,
          358,
          359,
          360,
          361,
          362,
          363,
          364,
          365,
          366,
          367,
          368,
          369,
          370,
          371,
          372,
          373,
          374,
          375,
          376,
          377,
          378,
          379,
          380,
          381,
          382,
          383,
          384,
          385,
          386,
          387,
          388,
          389,
          390,
          391,
          392,
          393,
          394,
          395,
          396,
          397,
          398,
          399,
          400,
          401,
          402,
          403,
          404,
          405,
          406,
          407,
          408,
          409,
          410,
          411,
          412,
          413,
          414,
          415,
          416,
          417,
          418,
          419,
          420,
          421,
          422,
          423,
          424,
          425,
          426,
          427,
          428,
          429,
          430,
          431,
          432,
          433,
          434,
          435,
          436,
          437,
          438,
          439,
          440,
          441,
          442,
          443,
          444,
          445,
          446,
          447,
          448,
          449,
          450,
          451,
          452,
          453,
          454,
          455,
          456,
          457,
          458,
          459,
          460,
          461,
          462,
          463,
          464,
          465,
          466,
          467,
          468,
          469,
          470,
          471,
          472,
          473,
          474,
          475,
          476,
          477,
          478,
          479,
          480,
          481,
          482,
          483,
          484,
          485,
          486,
          487,
          488,
          489,
          490,
          491,
          492,
          493,
          494,
          495,
          496,
          497,
          498,
          499,
          500,
          501,
          502,
          503,
          504,
          505,
          506,
          507,
          508,
          509,
          510,
          511,
          512,
          513,
          514,
          515,
          516,
          517,
          518,
          519,
          520,
          521,
          522,
          523,
          524,
          525,
          526,
          527,
          528,
          529,
          530,
          531,
          532,
          533,
          534,
          535,
          536,
          537,
          538,
          539,
          540,
          541,
          542,
          543,
          544,
          545,
          546,
          547,
          548,
          549,
          550,
          551,
          552,
          553,
          554,
          555,
          556,
          557,
          558,
          559,
          560,
          561,
          562,
          563,
          564,
          565,
          566,
          567,
          568,
          569,
          570,
          571,
          572,
          573,
          574,
          575,
          576,
          577,
          578,
          579,
          580,
          581,
          582,
          583,
          584,
          585,
          586,
          587,
          588,
          589,
          590,
          591,
          592,
          593,
          594,
          595,
          596,
          597,
          598,
          599,
          600
         ],
         "y": [
          0,
          0,
          0,
          1250,
          2500,
          3750,
          3619.5333333333333,
          3489.0666666666666,
          3358.6,
          3228.133333333333,
          3097.6666666666665,
          2967.2,
          2836.733333333333,
          2706.2666666666664,
          2575.7999999999997,
          3695.333333333333,
          3564.8666666666663,
          3434.3999999999996,
          3303.933333333333,
          3173.4666666666662,
          3042.9999999999995,
          2912.533333333333,
          2782.066666666666,
          2651.5999999999995,
          2521.1333333333328,
          3640.666666666666,
          3510.1999999999994,
          3379.7333333333327,
          3249.266666666666,
          3118.7999999999993,
          2988.3333333333326,
          2857.866666666666,
          2727.399999999999,
          2596.9333333333325,
          3716.466666666666,
          3585.999999999999,
          3455.5333333333324,
          3325.0666666666657,
          3194.599999999999,
          3064.1333333333323,
          2933.6666666666656,
          2803.199999999999,
          2672.733333333332,
          2542.2666666666655,
          3661.799999999999,
          3531.333333333332,
          3400.8666666666654,
          3270.3999999999987,
          3139.933333333332,
          3009.4666666666653,
          2878.9999999999986,
          2748.533333333332,
          2618.0666666666652,
          3737.5999999999985,
          3607.133333333332,
          3476.666666666665,
          3346.1999999999985,
          3215.7333333333318,
          3085.266666666665,
          2954.7999999999984,
          2824.3333333333317,
          2693.866666666665,
          2563.3999999999983,
          3682.9333333333316,
          3552.466666666665,
          3421.999999999998,
          3291.5333333333315,
          3161.066666666665,
          3030.599999999998,
          2900.1333333333314,
          2769.6666666666647,
          2639.199999999998,
          2508.7333333333313,
          3628.2666666666646,
          3497.799999999998,
          3367.333333333331,
          3236.8666666666645,
          3106.399999999998,
          2975.933333333331,
          2845.4666666666644,
          2714.9999999999977,
          2584.533333333331,
          3704.0666666666643,
          3573.5999999999976,
          3443.133333333331,
          3312.6666666666642,
          3182.1999999999975,
          3051.733333333331,
          2921.266666666664,
          2790.7999999999975,
          2660.3333333333308,
          2529.866666666664,
          3649.3999999999974,
          3518.9333333333307,
          3388.466666666664,
          3257.9999999999973,
          3127.5333333333306,
          2997.066666666664,
          2866.599999999997,
          2736.1333333333305,
          2605.666666666664,
          3725.199999999997,
          3594.7333333333304,
          3464.2666666666637,
          3333.799999999997,
          3203.3333333333303,
          3072.8666666666636,
          2942.399999999997,
          2811.93333333333,
          2681.4666666666635,
          2550.999999999997,
          3670.53333333333,
          3540.0666666666634,
          3409.5999999999967,
          3279.13333333333,
          3148.6666666666633,
          3018.1999999999966,
          2887.73333333333,
          2757.2666666666632,
          2626.7999999999965,
          3746.33333333333,
          3615.866666666663,
          3485.3999999999965,
          3354.9333333333298,
          3224.466666666663,
          3093.9999999999964,
          2963.5333333333297,
          2838.89333333333,
          2714.25333333333,
          2589.61333333333,
          3714.97333333333,
          3590.3333333333303,
          3465.6933333333304,
          3341.0533333333306,
          3216.4133333333307,
          3091.773333333331,
          2967.133333333331,
          2842.493333333331,
          2717.853333333331,
          2593.2133333333313,
          3718.5733333333314,
          3593.9333333333316,
          3469.2933333333317,
          3344.653333333332,
          3220.013333333332,
          3095.373333333332,
          2970.733333333332,
          2846.0933333333323,
          2721.4533333333325,
          2596.8133333333326,
          3722.1733333333327,
          3597.533333333333,
          3472.893333333333,
          3348.253333333333,
          3223.6133333333332,
          3098.9733333333334,
          2974.3333333333335,
          2849.6933333333336,
          2725.0533333333337,
          2600.413333333334,
          3725.773333333334,
          3601.133333333334,
          3476.4933333333342,
          3351.8533333333344,
          3227.2133333333345,
          3102.5733333333346,
          2977.9333333333348,
          2853.293333333335,
          2728.653333333335,
          2604.013333333335,
          3729.3733333333353,
          3604.7333333333354,
          3480.0933333333355,
          3355.4533333333356,
          3230.813333333336,
          3106.173333333336,
          2981.533333333336,
          2932.133333333336,
          2882.733333333336,
          2833.3333333333358,
          2783.9333333333357,
          2734.5333333333356,
          2685.1333333333355,
          2635.7333333333354,
          2586.3333333333353,
          2536.933333333335,
          2487.533333333335,
          2438.133333333335,
          3638.733333333335,
          3589.333333333335,
          3539.9333333333348,
          3490.5333333333347,
          3441.1333333333346,
          3391.7333333333345,
          3342.3333333333344,
          3292.9333333333343,
          3243.533333333334,
          3194.133333333334,
          3144.733333333334,
          3095.333333333334,
          3045.933333333334,
          2996.5333333333338,
          2947.1333333333337,
          2897.7333333333336,
          2848.3333333333335,
          2798.9333333333334,
          2749.5333333333333,
          3950.133333333333,
          3900.733333333333,
          3851.333333333333,
          3801.933333333333,
          3752.533333333333,
          3682.743333333333,
          3612.953333333333,
          3543.163333333333,
          3473.373333333333,
          3403.583333333333,
          3333.793333333333,
          3264.003333333333,
          3194.213333333333,
          3124.423333333333,
          3054.633333333333,
          2924.1666666666665,
          2793.7,
          2663.233333333333,
          3782.7666666666664,
          3652.2999999999997,
          3521.833333333333,
          3391.3666666666663,
          3260.8999999999996,
          3130.433333333333,
          2999.9666666666662,
          2869.4999999999995,
          2739.033333333333,
          2608.566666666666,
          3728.0999999999995,
          3597.6333333333328,
          3467.166666666666,
          3336.6999999999994,
          3206.2333333333327,
          3075.766666666666,
          2945.2999999999993,
          2814.8333333333326,
          2684.366666666666,
          2553.899999999999,
          3673.4333333333325,
          3542.966666666666,
          3412.499999999999,
          3282.0333333333324,
          3151.5666666666657,
          3021.099999999999,
          2890.6333333333323,
          2760.1666666666656,
          2629.699999999999,
          3749.233333333332,
          3618.7666666666655,
          3488.299999999999,
          3357.833333333332,
          3227.3666666666654,
          3096.8999999999987,
          2966.433333333332,
          2835.9666666666653,
          2705.4999999999986,
          2575.033333333332,
          3694.5666666666652,
          3564.0999999999985,
          3433.633333333332,
          3303.166666666665,
          3172.6999999999985,
          3042.2333333333318,
          2911.766666666665,
          2781.2999999999984,
          2650.8333333333317,
          2520.366666666665,
          3639.8999999999983,
          3509.4333333333316,
          3378.966666666665,
          3248.499999999998,
          3118.0333333333315,
          2987.566666666665,
          2857.099999999998,
          2726.6333333333314,
          2596.1666666666647,
          3715.699999999998,
          3585.2333333333313,
          3454.7666666666646,
          3324.299999999998,
          3193.833333333331,
          3063.3666666666645,
          2932.899999999998,
          2802.433333333331,
          2671.9666666666644,
          2541.4999999999977,
          3661.033333333331,
          3530.5666666666643,
          3400.0999999999976,
          3269.633333333331,
          3139.1666666666642,
          3008.6999999999975,
          2878.233333333331,
          2747.766666666664,
          2617.2999999999975,
          3736.8333333333308,
          3606.366666666664,
          3475.8999999999974,
          3345.4333333333307,
          3214.966666666664,
          3084.4999999999973,
          2954.0333333333306,
          2823.566666666664,
          2693.099999999997,
          2562.6333333333305,
          3682.166666666664,
          3551.699999999997,
          3421.2333333333304,
          3290.7666666666637,
          3160.299999999997,
          3029.8333333333303,
          2899.3666666666636,
          2768.899999999997,
          2638.43333333333,
          2507.9666666666635,
          3633.3266666666636,
          3508.6866666666638,
          3384.046666666664,
          3259.406666666664,
          3134.766666666664,
          3010.1266666666643,
          2885.4866666666644,
          2760.8466666666645,
          2636.2066666666647,
          2511.566666666665,
          3636.926666666665,
          3512.286666666665,
          3387.646666666665,
          3263.0066666666653,
          3138.3666666666654,
          3013.7266666666656,
          2889.0866666666657,
          2764.446666666666,
          2639.806666666666,
          2515.166666666666,
          3640.526666666666,
          3515.8866666666663,
          3391.2466666666664,
          3266.6066666666666,
          3141.9666666666667,
          3017.326666666667,
          2892.686666666667,
          2768.046666666667,
          2643.406666666667,
          2518.7666666666673,
          3644.1266666666675,
          3519.4866666666676,
          3394.8466666666677,
          3270.206666666668,
          3145.566666666668,
          3020.926666666668,
          2896.286666666668,
          2771.6466666666684,
          2647.0066666666685,
          2522.3666666666686,
          3647.7266666666687,
          3523.086666666669,
          3398.446666666669,
          3273.806666666669,
          3149.1666666666692,
          3024.5266666666694,
          2899.8866666666695,
          2775.2466666666696,
          2650.6066666666698,
          2525.96666666667,
          2476.56666666667,
          2427.1666666666697,
          3627.7666666666696,
          3578.3666666666695,
          3528.9666666666694,
          3479.5666666666693,
          3430.1666666666692,
          3380.766666666669,
          3331.366666666669,
          3281.966666666669,
          3232.566666666669,
          3183.166666666669,
          3133.7666666666687,
          3084.3666666666686,
          3034.9666666666685,
          2985.5666666666684,
          2936.1666666666683,
          2886.7666666666682,
          2837.366666666668,
          2787.966666666668,
          2738.566666666668,
          3939.166666666668,
          3889.766666666668,
          3840.3666666666677,
          3790.9666666666676,
          3741.5666666666675,
          3692.1666666666674,
          3642.7666666666673,
          3593.3666666666672,
          3543.966666666667,
          3494.566666666667,
          3445.166666666667,
          3395.766666666667,
          3346.366666666667,
          3296.9666666666667,
          3166.5,
          3036.0333333333333,
          2905.5666666666666,
          2775.1,
          2644.633333333333,
          3764.1666666666665,
          3633.7,
          3503.233333333333,
          3372.7666666666664,
          3242.2999999999997,
          3111.833333333333,
          2981.3666666666663,
          2850.8999999999996,
          2720.433333333333,
          2589.9666666666662,
          3709.4999999999995,
          3579.033333333333,
          3448.566666666666,
          3318.0999999999995,
          3187.6333333333328,
          3057.166666666666,
          2926.6999999999994,
          2796.2333333333327,
          2665.766666666666,
          2535.2999999999993,
          3654.8333333333326,
          3524.366666666666,
          3393.899999999999,
          3263.4333333333325,
          3132.966666666666,
          3002.499999999999,
          2872.0333333333324,
          2741.5666666666657,
          2611.099999999999,
          3730.6333333333323,
          3600.1666666666656,
          3469.699999999999,
          3339.233333333332,
          3208.7666666666655,
          3078.299999999999,
          2947.833333333332,
          2817.3666666666654,
          2686.8999999999987,
          2556.433333333332,
          3675.9666666666653,
          3545.4999999999986,
          3415.033333333332,
          3284.5666666666652,
          3154.0999999999985,
          3023.633333333332,
          2929.741666666665,
          2835.8499999999985,
          2741.958333333332,
          2648.0666666666657,
          2554.1749999999993,
          3710.283333333333,
          3616.3916666666664,
          3522.5,
          3428.6083333333336,
          3334.716666666667,
          3240.8250000000007,
          3146.9333333333343,
          3053.041666666668,
          2959.1500000000015,
          2865.258333333335,
          2771.3666666666686,
          2677.475000000002,
          2583.5833333333358,
          3739.6916666666693,
          3645.800000000003,
          3551.9083333333365,
          3458.01666666667,
          3364.1250000000036,
          3270.233333333337,
          3176.341666666671,
          3082.4500000000044,
          2988.558333333338,
          2894.6666666666715,
          2800.775000000005,
          2706.8833333333387,
          2612.9916666666722,
          2519.100000000006,
          3675.2083333333394,
          3581.316666666673,
          3487.4250000000065,
          3393.53333333334,
          3299.6416666666737,
          3205.7500000000073,
          3111.858333333341,
          4267.966666666674,
          4267.966666666674,
          4267.966666666674,
          4267.966666666674,
          4267.966666666674
         ]
        }
       ],
       "layout": {
        "annotations": [
         {
          "arrowhead": 2,
          "ax": 20,
          "ay": -30,
          "showarrow": true,
          "text": "PFCmin",
          "x": 600,
          "xref": "x",
          "y": 2500,
          "yref": "y"
         },
         {
          "arrowhead": 2,
          "ax": 20,
          "ay": -30,
          "showarrow": true,
          "text": "PFCmax",
          "x": 600,
          "xref": "x",
          "y": 4000,
          "yref": "y"
         }
        ],
        "shapes": [
         {
          "line": {
           "color": "firebrick",
           "dash": "dash",
           "width": 2
          },
          "name": "PFCmin",
          "type": "line",
          "x0": 0,
          "x1": 600,
          "y0": 2500,
          "y1": 2500
         },
         {
          "line": {
           "color": "green",
           "dash": "dash",
           "width": 2
          },
          "name": "PFCmax",
          "type": "line",
          "x0": 0,
          "x1": 600,
          "y0": 4000,
          "y1": 4000
         }
        ],
        "showlegend": false,
        "template": {
         "data": {
          "bar": [
           {
            "error_x": {
             "color": "#2a3f5f"
            },
            "error_y": {
             "color": "#2a3f5f"
            },
            "marker": {
             "line": {
              "color": "#E5ECF6",
              "width": 0.5
             },
             "pattern": {
              "fillmode": "overlay",
              "size": 10,
              "solidity": 0.2
             }
            },
            "type": "bar"
           }
          ],
          "barpolar": [
           {
            "marker": {
             "line": {
              "color": "#E5ECF6",
              "width": 0.5
             },
             "pattern": {
              "fillmode": "overlay",
              "size": 10,
              "solidity": 0.2
             }
            },
            "type": "barpolar"
           }
          ],
          "carpet": [
           {
            "aaxis": {
             "endlinecolor": "#2a3f5f",
             "gridcolor": "white",
             "linecolor": "white",
             "minorgridcolor": "white",
             "startlinecolor": "#2a3f5f"
            },
            "baxis": {
             "endlinecolor": "#2a3f5f",
             "gridcolor": "white",
             "linecolor": "white",
             "minorgridcolor": "white",
             "startlinecolor": "#2a3f5f"
            },
            "type": "carpet"
           }
          ],
          "choropleth": [
           {
            "colorbar": {
             "outlinewidth": 0,
             "ticks": ""
            },
            "type": "choropleth"
           }
          ],
          "contour": [
           {
            "colorbar": {
             "outlinewidth": 0,
             "ticks": ""
            },
            "colorscale": [
             [
              0,
              "#0d0887"
             ],
             [
              0.1111111111111111,
              "#46039f"
             ],
             [
              0.2222222222222222,
              "#7201a8"
             ],
             [
              0.3333333333333333,
              "#9c179e"
             ],
             [
              0.4444444444444444,
              "#bd3786"
             ],
             [
              0.5555555555555556,
              "#d8576b"
             ],
             [
              0.6666666666666666,
              "#ed7953"
             ],
             [
              0.7777777777777778,
              "#fb9f3a"
             ],
             [
              0.8888888888888888,
              "#fdca26"
             ],
             [
              1,
              "#f0f921"
             ]
            ],
            "type": "contour"
           }
          ],
          "contourcarpet": [
           {
            "colorbar": {
             "outlinewidth": 0,
             "ticks": ""
            },
            "type": "contourcarpet"
           }
          ],
          "heatmap": [
           {
            "colorbar": {
             "outlinewidth": 0,
             "ticks": ""
            },
            "colorscale": [
             [
              0,
              "#0d0887"
             ],
             [
              0.1111111111111111,
              "#46039f"
             ],
             [
              0.2222222222222222,
              "#7201a8"
             ],
             [
              0.3333333333333333,
              "#9c179e"
             ],
             [
              0.4444444444444444,
              "#bd3786"
             ],
             [
              0.5555555555555556,
              "#d8576b"
             ],
             [
              0.6666666666666666,
              "#ed7953"
             ],
             [
              0.7777777777777778,
              "#fb9f3a"
             ],
             [
              0.8888888888888888,
              "#fdca26"
             ],
             [
              1,
              "#f0f921"
             ]
            ],
            "type": "heatmap"
           }
          ],
          "heatmapgl": [
           {
            "colorbar": {
             "outlinewidth": 0,
             "ticks": ""
            },
            "colorscale": [
             [
              0,
              "#0d0887"
             ],
             [
              0.1111111111111111,
              "#46039f"
             ],
             [
              0.2222222222222222,
              "#7201a8"
             ],
             [
              0.3333333333333333,
              "#9c179e"
             ],
             [
              0.4444444444444444,
              "#bd3786"
             ],
             [
              0.5555555555555556,
              "#d8576b"
             ],
             [
              0.6666666666666666,
              "#ed7953"
             ],
             [
              0.7777777777777778,
              "#fb9f3a"
             ],
             [
              0.8888888888888888,
              "#fdca26"
             ],
             [
              1,
              "#f0f921"
             ]
            ],
            "type": "heatmapgl"
           }
          ],
          "histogram": [
           {
            "marker": {
             "pattern": {
              "fillmode": "overlay",
              "size": 10,
              "solidity": 0.2
             }
            },
            "type": "histogram"
           }
          ],
          "histogram2d": [
           {
            "colorbar": {
             "outlinewidth": 0,
             "ticks": ""
            },
            "colorscale": [
             [
              0,
              "#0d0887"
             ],
             [
              0.1111111111111111,
              "#46039f"
             ],
             [
              0.2222222222222222,
              "#7201a8"
             ],
             [
              0.3333333333333333,
              "#9c179e"
             ],
             [
              0.4444444444444444,
              "#bd3786"
             ],
             [
              0.5555555555555556,
              "#d8576b"
             ],
             [
              0.6666666666666666,
              "#ed7953"
             ],
             [
              0.7777777777777778,
              "#fb9f3a"
             ],
             [
              0.8888888888888888,
              "#fdca26"
             ],
             [
              1,
              "#f0f921"
             ]
            ],
            "type": "histogram2d"
           }
          ],
          "histogram2dcontour": [
           {
            "colorbar": {
             "outlinewidth": 0,
             "ticks": ""
            },
            "colorscale": [
             [
              0,
              "#0d0887"
             ],
             [
              0.1111111111111111,
              "#46039f"
             ],
             [
              0.2222222222222222,
              "#7201a8"
             ],
             [
              0.3333333333333333,
              "#9c179e"
             ],
             [
              0.4444444444444444,
              "#bd3786"
             ],
             [
              0.5555555555555556,
              "#d8576b"
             ],
             [
              0.6666666666666666,
              "#ed7953"
             ],
             [
              0.7777777777777778,
              "#fb9f3a"
             ],
             [
              0.8888888888888888,
              "#fdca26"
             ],
             [
              1,
              "#f0f921"
             ]
            ],
            "type": "histogram2dcontour"
           }
          ],
          "mesh3d": [
           {
            "colorbar": {
             "outlinewidth": 0,
             "ticks": ""
            },
            "type": "mesh3d"
           }
          ],
          "parcoords": [
           {
            "line": {
             "colorbar": {
              "outlinewidth": 0,
              "ticks": ""
             }
            },
            "type": "parcoords"
           }
          ],
          "pie": [
           {
            "automargin": true,
            "type": "pie"
           }
          ],
          "scatter": [
           {
            "fillpattern": {
             "fillmode": "overlay",
             "size": 10,
             "solidity": 0.2
            },
            "type": "scatter"
           }
          ],
          "scatter3d": [
           {
            "line": {
             "colorbar": {
              "outlinewidth": 0,
              "ticks": ""
             }
            },
            "marker": {
             "colorbar": {
              "outlinewidth": 0,
              "ticks": ""
             }
            },
            "type": "scatter3d"
           }
          ],
          "scattercarpet": [
           {
            "marker": {
             "colorbar": {
              "outlinewidth": 0,
              "ticks": ""
             }
            },
            "type": "scattercarpet"
           }
          ],
          "scattergeo": [
           {
            "marker": {
             "colorbar": {
              "outlinewidth": 0,
              "ticks": ""
             }
            },
            "type": "scattergeo"
           }
          ],
          "scattergl": [
           {
            "marker": {
             "colorbar": {
              "outlinewidth": 0,
              "ticks": ""
             }
            },
            "type": "scattergl"
           }
          ],
          "scattermapbox": [
           {
            "marker": {
             "colorbar": {
              "outlinewidth": 0,
              "ticks": ""
             }
            },
            "type": "scattermapbox"
           }
          ],
          "scatterpolar": [
           {
            "marker": {
             "colorbar": {
              "outlinewidth": 0,
              "ticks": ""
             }
            },
            "type": "scatterpolar"
           }
          ],
          "scatterpolargl": [
           {
            "marker": {
             "colorbar": {
              "outlinewidth": 0,
              "ticks": ""
             }
            },
            "type": "scatterpolargl"
           }
          ],
          "scatterternary": [
           {
            "marker": {
             "colorbar": {
              "outlinewidth": 0,
              "ticks": ""
             }
            },
            "type": "scatterternary"
           }
          ],
          "surface": [
           {
            "colorbar": {
             "outlinewidth": 0,
             "ticks": ""
            },
            "colorscale": [
             [
              0,
              "#0d0887"
             ],
             [
              0.1111111111111111,
              "#46039f"
             ],
             [
              0.2222222222222222,
              "#7201a8"
             ],
             [
              0.3333333333333333,
              "#9c179e"
             ],
             [
              0.4444444444444444,
              "#bd3786"
             ],
             [
              0.5555555555555556,
              "#d8576b"
             ],
             [
              0.6666666666666666,
              "#ed7953"
             ],
             [
              0.7777777777777778,
              "#fb9f3a"
             ],
             [
              0.8888888888888888,
              "#fdca26"
             ],
             [
              1,
              "#f0f921"
             ]
            ],
            "type": "surface"
           }
          ],
          "table": [
           {
            "cells": {
             "fill": {
              "color": "#EBF0F8"
             },
             "line": {
              "color": "white"
             }
            },
            "header": {
             "fill": {
              "color": "#C8D4E3"
             },
             "line": {
              "color": "white"
             }
            },
            "type": "table"
           }
          ]
         },
         "layout": {
          "annotationdefaults": {
           "arrowcolor": "#2a3f5f",
           "arrowhead": 0,
           "arrowwidth": 1
          },
          "autotypenumbers": "strict",
          "coloraxis": {
           "colorbar": {
            "outlinewidth": 0,
            "ticks": ""
           }
          },
          "colorscale": {
           "diverging": [
            [
             0,
             "#8e0152"
            ],
            [
             0.1,
             "#c51b7d"
            ],
            [
             0.2,
             "#de77ae"
            ],
            [
             0.3,
             "#f1b6da"
            ],
            [
             0.4,
             "#fde0ef"
            ],
            [
             0.5,
             "#f7f7f7"
            ],
            [
             0.6,
             "#e6f5d0"
            ],
            [
             0.7,
             "#b8e186"
            ],
            [
             0.8,
             "#7fbc41"
            ],
            [
             0.9,
             "#4d9221"
            ],
            [
             1,
             "#276419"
            ]
           ],
           "sequential": [
            [
             0,
             "#0d0887"
            ],
            [
             0.1111111111111111,
             "#46039f"
            ],
            [
             0.2222222222222222,
             "#7201a8"
            ],
            [
             0.3333333333333333,
             "#9c179e"
            ],
            [
             0.4444444444444444,
             "#bd3786"
            ],
            [
             0.5555555555555556,
             "#d8576b"
            ],
            [
             0.6666666666666666,
             "#ed7953"
            ],
            [
             0.7777777777777778,
             "#fb9f3a"
            ],
            [
             0.8888888888888888,
             "#fdca26"
            ],
            [
             1,
             "#f0f921"
            ]
           ],
           "sequentialminus": [
            [
             0,
             "#0d0887"
            ],
            [
             0.1111111111111111,
             "#46039f"
            ],
            [
             0.2222222222222222,
             "#7201a8"
            ],
            [
             0.3333333333333333,
             "#9c179e"
            ],
            [
             0.4444444444444444,
             "#bd3786"
            ],
            [
             0.5555555555555556,
             "#d8576b"
            ],
            [
             0.6666666666666666,
             "#ed7953"
            ],
            [
             0.7777777777777778,
             "#fb9f3a"
            ],
            [
             0.8888888888888888,
             "#fdca26"
            ],
            [
             1,
             "#f0f921"
            ]
           ]
          },
          "colorway": [
           "#636efa",
           "#EF553B",
           "#00cc96",
           "#ab63fa",
           "#FFA15A",
           "#19d3f3",
           "#FF6692",
           "#B6E880",
           "#FF97FF",
           "#FECB52"
          ],
          "font": {
           "color": "#2a3f5f"
          },
          "geo": {
           "bgcolor": "white",
           "lakecolor": "white",
           "landcolor": "#E5ECF6",
           "showlakes": true,
           "showland": true,
           "subunitcolor": "white"
          },
          "hoverlabel": {
           "align": "left"
          },
          "hovermode": "closest",
          "mapbox": {
           "style": "light"
          },
          "paper_bgcolor": "white",
          "plot_bgcolor": "#E5ECF6",
          "polar": {
           "angularaxis": {
            "gridcolor": "white",
            "linecolor": "white",
            "ticks": ""
           },
           "bgcolor": "#E5ECF6",
           "radialaxis": {
            "gridcolor": "white",
            "linecolor": "white",
            "ticks": ""
           }
          },
          "scene": {
           "xaxis": {
            "backgroundcolor": "#E5ECF6",
            "gridcolor": "white",
            "gridwidth": 2,
            "linecolor": "white",
            "showbackground": true,
            "ticks": "",
            "zerolinecolor": "white"
           },
           "yaxis": {
            "backgroundcolor": "#E5ECF6",
            "gridcolor": "white",
            "gridwidth": 2,
            "linecolor": "white",
            "showbackground": true,
            "ticks": "",
            "zerolinecolor": "white"
           },
           "zaxis": {
            "backgroundcolor": "#E5ECF6",
            "gridcolor": "white",
            "gridwidth": 2,
            "linecolor": "white",
            "showbackground": true,
            "ticks": "",
            "zerolinecolor": "white"
           }
          },
          "shapedefaults": {
           "line": {
            "color": "#2a3f5f"
           }
          },
          "ternary": {
           "aaxis": {
            "gridcolor": "white",
            "linecolor": "white",
            "ticks": ""
           },
           "baxis": {
            "gridcolor": "white",
            "linecolor": "white",
            "ticks": ""
           },
           "bgcolor": "#E5ECF6",
           "caxis": {
            "gridcolor": "white",
            "linecolor": "white",
            "ticks": ""
           }
          },
          "title": {
           "x": 0.05
          },
          "xaxis": {
           "automargin": true,
           "gridcolor": "white",
           "linecolor": "white",
           "ticks": "",
           "title": {
            "standoff": 15
           },
           "zerolinecolor": "white",
           "zerolinewidth": 2
          },
          "yaxis": {
           "automargin": true,
           "gridcolor": "white",
           "linecolor": "white",
           "ticks": "",
           "title": {
            "standoff": 15
           },
           "zerolinecolor": "white",
           "zerolinewidth": 2
          }
         }
        },
        "title": {
         "text": "Evolution de la fonte dans le Four de Coulée au cours du temps"
        },
        "xaxis": {
         "title": {
          "text": "Time (minutes)"
         }
        },
        "yaxis": {
         "title": {
          "text": "PFC (kg)"
         }
        }
       }
      }
     },
     "metadata": {},
     "output_type": "display_data"
    }
   ],
   "source": [
    "# Plot_Prod(times, PFC_Prodvalues)\n",
    "Plot_consom(times, PFC_Consomvalues, tmin, tmax, PFCmin, PFCmax)"
   ]
  },
  {
   "cell_type": "code",
   "execution_count": null,
   "metadata": {},
   "outputs": [],
   "source": []
  },
  {
   "cell_type": "markdown",
   "metadata": {},
   "source": [
    "# Autres Brouillon"
   ]
  },
  {
   "cell_type": "code",
   "execution_count": null,
   "metadata": {},
   "outputs": [],
   "source": [
    "\n",
    "Tu es un mathématicien et du dois effectuer cette tache suivant :\n",
    "\n",
    "Faire varier la fonction Consomation_fonteCoulee au cours du temps en min\n",
    "En conservant le temps t, La consomation PFC_Consom et \n",
    "le pourcentage de Mg dans un dictionnaire : times_dict, PFC_Consomvalues_dict, Mgvalues_dict\n",
    "On souhaite interompre la consomation avec une variable la Panne :temps_Panne.\n",
    "Pendant la Panne : le pourcentage de Mg continue à varier.\n",
    "Cependant la panne peut intervenir à n'importe quel momment dans le temps et peut etre recurent, \n",
    "c'est un bouton que l'utilisateurs active ou non en donnant la durrée de la Panne temps_Panne\n",
    "\n",
    "\n",
    "n'hésite pas a modifier  Consomation_fonteCoulee pour repondre à ses besoins !!!\n",
    "Si tu as des questions ou s'il te manque certaines informations, n'hésite pas à me les demander !!\n",
    "\n",
    "\n",
    "def Consomation_fonteCoulee(PFC_Consom, Mg, ObjetjModeles_i):\n",
    "    \"\"\"\n",
    "    Met à jour la consommation de fonte, Mg, et les listes des modèles en fonction des conditions spécifiées.\n",
    "\n",
    "    Args:\n",
    "        PFC_Consom (float): Consommation actuelle de fonte.\n",
    "        Mg (float): Quantité actuelle de Mg.\n",
    "        eC (float): Variation de Mg par unité de temps.\n",
    "        ObjetjModeles_i (int): Index du modèle actuel.\n",
    "        liste_Masse_Modeles (list of float): Liste des masses des grappes.\n",
    "        liste_Quantite_Modeles (list of int): Liste des quantités de mottes pour chaque grappe.\n",
    "        liste_cadences (list of float): Liste des cadences pour chaque grappe.\n",
    "\n",
    "    Returns:\n",
    "        tuple: Mise à jour de (PFC_Consom, Mg, ObjetjModeles_i, liste_Masse_Modeles, liste_Quantite_Modeles).\n",
    "    \"\"\"\n",
    "\n",
    "    if liste_Masse_Modeles != []:\n",
    "        masse_grappe = liste_Masse_Modeles[0]\n",
    "        cadence = liste_cadences[0]\n",
    "        # print(\"Serie \", masse_grappe, ObjetjModeles_i)\n",
    "\n",
    "        # On est sur la Conception du Modeles i\n",
    "        if ObjetjModeles_i > 1:\n",
    "            # Mise à jour de la consommation de fonte et de Mg\n",
    "            PFC_Consom -= cadence\n",
    "            Mg -= eC\n",
    "            ObjetjModeles_i -= 1\n",
    "        # On est sur la Conception du Modeles i+1\n",
    "        # Donc pris en compte du temps_serie\n",
    "        else:\n",
    "            # Gestion du Changement de Serie\n",
    "            print(\"Gestion du Changement de Serie\")\n",
    "            # Suppression des éléments déjà traités dans les listes\n",
    "            liste_Masse_Modeles.pop(0)\n",
    "            liste_Quantite_Modeles.pop(0)\n",
    "            liste_cadences.pop(0)\n",
    "\n",
    "            # Mise à jour des valeurs\n",
    "            if liste_Quantite_Modeles:\n",
    "                ObjetjModeles_i = liste_Quantite_Modeles[0]\n",
    "\n",
    "\n",
    "    return PFC_Consom, Mg, ObjetjModeles_i\n",
    "\n",
    "\n",
    "Merci de m'avoir bien repondu !! \n",
    "On souhaite ajouter maintenant ajouter 2 autre variables PFC_Prod et temps_ajout_poche_i_Coulee\n",
    "Avec deux constantes poche_i = 1250, fonte_produit = 5000 \n",
    "Toute les 70 minutes , on ajoutera fonte_produit à PFC_Prod \n",
    "et Toute les temps_ajout_poche_i_Coulee minutes on lui enlèvera poche_i\n",
    "On souhaite conserver PFC_Prod dans un dictionnaire PFC_Consomvalues_dict \n",
    "et temps_ajout_poche_i_Coulee dans une liste ou autre. \n",
    "Si tu as des questions ou s'il te manque certaines informations, n'hésite pas à me les demander !!\n",
    "\n"
   ]
  },
  {
   "cell_type": "code",
   "execution_count": null,
   "metadata": {},
   "outputs": [],
   "source": []
  }
 ],
 "metadata": {
  "kernelspec": {
   "display_name": "Python 3",
   "language": "python",
   "name": "python3"
  },
  "language_info": {
   "codemirror_mode": {
    "name": "ipython",
    "version": 3
   },
   "file_extension": ".py",
   "mimetype": "text/x-python",
   "name": "python",
   "nbconvert_exporter": "python",
   "pygments_lexer": "ipython3",
   "version": "3.12.3"
  }
 },
 "nbformat": 4,
 "nbformat_minor": 2
}
