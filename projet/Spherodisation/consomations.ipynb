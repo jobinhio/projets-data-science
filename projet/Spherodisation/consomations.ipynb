{
 "cells": [
  {
   "cell_type": "code",
   "execution_count": null,
   "metadata": {},
   "outputs": [],
   "source": []
  },
  {
   "cell_type": "markdown",
   "metadata": {},
   "source": [
    "# Code 1"
   ]
  },
  {
   "cell_type": "code",
   "execution_count": 56,
   "metadata": {},
   "outputs": [],
   "source": [
    "def ConsomCoulee(times, PFC_values, ListeMasse_grappe, ListeQuantite_mottes, nb_moules_heure, t_serie):\n",
    "    PFC = PFC_values[-1]\n",
    "    tmin = times[-1]\n",
    "    t = tmin\n",
    "    for masse_grappe_i, Quantite_mottes_i in zip(ListeMasse_grappe, ListeQuantite_mottes) :\n",
    "        for i in range(Quantite_mottes_i):\n",
    "            cadences_i = nb_moules_heure/60 * masse_grappe_i  # consomation de fonte par minute (kg/min)\n",
    "            PFC = PFC - cadences_i  # en kg\n",
    "            t+=1\n",
    "            times.append(t)\n",
    "            PFC_values.append(PFC)\n",
    "        t+=t_serie\n",
    "        times.append(t)\n",
    "        PFC_values.append(PFC)\n",
    "    tmax = t\n",
    "    return times, PFC_values, tmin, tmax\n",
    "\n",
    "import plotly.graph_objects as go\n",
    "\n",
    "def Plot_consom(times, PFC_values, tmin, tmax, PFCmin, PFCmax):\n",
    "\n",
    "    # Create Plotly figure\n",
    "    fig = go.Figure()\n",
    "\n",
    "    # Add PFC line\n",
    "    fig.add_trace(go.Scatter(x=times, y=PFC_values, mode='lines', name='PFC over time', line=dict(color='royalblue')))\n",
    "\n",
    "    # Add horizontal lines for PFCmin and PFCmax\n",
    "    fig.add_shape(type=\"line\", x0=tmin, y0=PFCmin, x1=tmax, y1=PFCmin, line=dict(color=\"firebrick\", width=2, dash=\"dash\"), name=\"PFCmin\")\n",
    "    \n",
    "    fig.add_shape(type=\"line\", x0=tmin, y0=PFCmax, x1=tmax, y1=PFCmax, line=dict(color=\"green\", width=2, dash=\"dash\"), name=\"PFCmax\")\n",
    "\n",
    "\n",
    "    # Customize layout\n",
    "    fig.update_layout(title='Consommation de fonte au cours du temps', xaxis_title='Time (minutes)', yaxis_title='PFC (kg)', template='plotly',\n",
    "        showlegend=False,annotations=[\n",
    "            dict(x=tmax,y=PFCmin,xref=\"x\",yref=\"y\",text=\"PFCmin\",showarrow=True,arrowhead=2,ax=20,ay=-30),\n",
    "            dict(x=tmax,y=PFCmax,xref=\"x\",yref=\"y\",text=\"PFCmax\",showarrow=True,arrowhead=2,ax=20,ay=-30)])\n",
    "\n",
    "    # Show the plot\n",
    "    fig.show()\n"
   ]
  },
  {
   "cell_type": "code",
   "execution_count": 57,
   "metadata": {},
   "outputs": [],
   "source": [
    "# Les valeurs d'entrée Input \n",
    "\n",
    "nb_moules_heure = 160 \n",
    "t_serie = 5 # 5 min\n",
    "\n",
    "PFCmin = 2500 # en kg\n",
    "PFCmax = 4000 # en kg\n",
    "\n",
    "times = [0] # en min\n",
    "PFC_values = [4000] # en kg\n",
    "ListeMasse_grappe = [35, 10, 20, 35] # en kg\n",
    "ListeQuantite_mottes = [50, 50, 50, 50]\n",
    "\n",
    "times, PFC_values, tmin, tmax = ConsomCoulee(times, PFC_values, ListeMasse_grappe, ListeQuantite_mottes, nb_moules_heure, t_serie)"
   ]
  },
  {
   "cell_type": "code",
   "execution_count": 58,
   "metadata": {},
   "outputs": [
    {
     "data": {
      "application/vnd.plotly.v1+json": {
       "config": {
        "plotlyServerURL": "https://plot.ly"
       },
       "data": [
        {
         "line": {
          "color": "royalblue"
         },
         "mode": "lines",
         "name": "PFC over time",
         "type": "scatter",
         "x": [
          0,
          1,
          2,
          3,
          4,
          5,
          6,
          7,
          8,
          9,
          10,
          11,
          12,
          13,
          14,
          15,
          16,
          17,
          18,
          19,
          20,
          21,
          22,
          23,
          24,
          25,
          26,
          27,
          28,
          29,
          30,
          31,
          32,
          33,
          34,
          35,
          36,
          37,
          38,
          39,
          40,
          41,
          42,
          43,
          44,
          45,
          46,
          47,
          48,
          49,
          50,
          55,
          56,
          57,
          58,
          59,
          60,
          61,
          62,
          63,
          64,
          65,
          66,
          67,
          68,
          69,
          70,
          71,
          72,
          73,
          74,
          75,
          76,
          77,
          78,
          79,
          80,
          81,
          82,
          83,
          84,
          85,
          86,
          87,
          88,
          89,
          90,
          91,
          92,
          93,
          94,
          95,
          96,
          97,
          98,
          99,
          100,
          101,
          102,
          103,
          104,
          105,
          110,
          111,
          112,
          113,
          114,
          115,
          116,
          117,
          118,
          119,
          120,
          121,
          122,
          123,
          124,
          125,
          126,
          127,
          128,
          129,
          130,
          131,
          132,
          133,
          134,
          135,
          136,
          137,
          138,
          139,
          140,
          141,
          142,
          143,
          144,
          145,
          146,
          147,
          148,
          149,
          150,
          151,
          152,
          153,
          154,
          155,
          156,
          157,
          158,
          159,
          160,
          165,
          166,
          167,
          168,
          169,
          170,
          171,
          172,
          173,
          174,
          175,
          176,
          177,
          178,
          179,
          180,
          181,
          182,
          183,
          184,
          185,
          186,
          187,
          188,
          189,
          190,
          191,
          192,
          193,
          194,
          195,
          196,
          197,
          198,
          199,
          200,
          201,
          202,
          203,
          204,
          205,
          206,
          207,
          208,
          209,
          210,
          211,
          212,
          213,
          214,
          215,
          220
         ],
         "y": [
          4000,
          3906.6666666666665,
          3813.333333333333,
          3719.9999999999995,
          3626.666666666666,
          3533.3333333333326,
          3439.999999999999,
          3346.6666666666656,
          3253.333333333332,
          3159.9999999999986,
          3066.666666666665,
          2973.3333333333317,
          2879.999999999998,
          2786.6666666666647,
          2693.333333333331,
          2599.9999999999977,
          2506.6666666666642,
          2413.3333333333308,
          2319.9999999999973,
          2226.666666666664,
          2133.3333333333303,
          2039.999999999997,
          1946.6666666666638,
          1853.3333333333305,
          1759.9999999999973,
          1666.666666666664,
          1573.3333333333308,
          1479.9999999999975,
          1386.6666666666642,
          1293.333333333331,
          1199.9999999999977,
          1106.6666666666645,
          1013.3333333333311,
          919.9999999999977,
          826.6666666666644,
          733.333333333331,
          639.9999999999976,
          546.6666666666642,
          453.3333333333309,
          359.9999999999976,
          266.6666666666643,
          173.33333333333098,
          79.99999999999766,
          -13.333333333335673,
          -106.666666666669,
          -200.00000000000233,
          -293.33333333333564,
          -386.66666666666896,
          -480.0000000000023,
          -573.3333333333356,
          -666.666666666669,
          -666.666666666669,
          -693.3333333333356,
          -720.0000000000023,
          -746.6666666666689,
          -773.3333333333355,
          -800.0000000000022,
          -826.6666666666688,
          -853.3333333333354,
          -880.000000000002,
          -906.6666666666687,
          -933.3333333333353,
          -960.0000000000019,
          -986.6666666666686,
          -1013.3333333333352,
          -1040.0000000000018,
          -1066.6666666666686,
          -1093.3333333333353,
          -1120.000000000002,
          -1146.6666666666688,
          -1173.3333333333355,
          -1200.0000000000023,
          -1226.666666666669,
          -1253.3333333333358,
          -1280.0000000000025,
          -1306.6666666666692,
          -1333.333333333336,
          -1360.0000000000027,
          -1386.6666666666695,
          -1413.3333333333362,
          -1440.000000000003,
          -1466.6666666666697,
          -1493.3333333333364,
          -1520.0000000000032,
          -1546.66666666667,
          -1573.3333333333367,
          -1600.0000000000034,
          -1626.6666666666702,
          -1653.333333333337,
          -1680.0000000000036,
          -1706.6666666666704,
          -1733.3333333333371,
          -1760.0000000000039,
          -1786.6666666666706,
          -1813.3333333333374,
          -1840.000000000004,
          -1866.6666666666708,
          -1893.3333333333376,
          -1920.0000000000043,
          -1946.666666666671,
          -1973.3333333333378,
          -2000.0000000000045,
          -2000.0000000000045,
          -2053.333333333338,
          -2106.6666666666715,
          -2160.000000000005,
          -2213.3333333333385,
          -2266.666666666672,
          -2320.0000000000055,
          -2373.333333333339,
          -2426.6666666666724,
          -2480.000000000006,
          -2533.3333333333394,
          -2586.666666666673,
          -2640.0000000000064,
          -2693.33333333334,
          -2746.6666666666733,
          -2800.000000000007,
          -2853.3333333333403,
          -2906.666666666674,
          -2960.0000000000073,
          -3013.3333333333408,
          -3066.6666666666742,
          -3120.0000000000077,
          -3173.333333333341,
          -3226.6666666666747,
          -3280.000000000008,
          -3333.3333333333417,
          -3386.666666666675,
          -3440.0000000000086,
          -3493.333333333342,
          -3546.6666666666756,
          -3600.000000000009,
          -3653.3333333333426,
          -3706.666666666676,
          -3760.0000000000095,
          -3813.333333333343,
          -3866.6666666666765,
          -3920.00000000001,
          -3973.3333333333435,
          -4026.666666666677,
          -4080.0000000000105,
          -4133.333333333344,
          -4186.666666666677,
          -4240.00000000001,
          -4293.333333333343,
          -4346.666666666676,
          -4400.000000000009,
          -4453.333333333342,
          -4506.666666666675,
          -4560.000000000008,
          -4613.333333333341,
          -4666.666666666674,
          -4666.666666666674,
          -4760.000000000007,
          -4853.33333333334,
          -4946.666666666673,
          -5040.000000000006,
          -5133.333333333339,
          -5226.666666666672,
          -5320.0000000000055,
          -5413.3333333333385,
          -5506.6666666666715,
          -5600.000000000005,
          -5693.333333333338,
          -5786.666666666671,
          -5880.000000000004,
          -5973.333333333337,
          -6066.66666666667,
          -6160.000000000003,
          -6253.333333333336,
          -6346.666666666669,
          -6440.000000000002,
          -6533.333333333335,
          -6626.666666666668,
          -6720.000000000001,
          -6813.333333333334,
          -6906.666666666667,
          -7000,
          -7093.333333333333,
          -7186.666666666666,
          -7279.999999999999,
          -7373.333333333332,
          -7466.666666666665,
          -7559.999999999998,
          -7653.333333333331,
          -7746.666666666664,
          -7839.999999999997,
          -7933.33333333333,
          -8026.666666666663,
          -8119.999999999996,
          -8213.33333333333,
          -8306.666666666664,
          -8399.999999999998,
          -8493.333333333332,
          -8586.666666666666,
          -8680,
          -8773.333333333334,
          -8866.666666666668,
          -8960.000000000002,
          -9053.333333333336,
          -9146.66666666667,
          -9240.000000000004,
          -9333.333333333338,
          -9333.333333333338
         ]
        }
       ],
       "layout": {
        "annotations": [
         {
          "arrowhead": 2,
          "ax": 20,
          "ay": -30,
          "showarrow": true,
          "text": "PFCmin",
          "x": 220,
          "xref": "x",
          "y": 2500,
          "yref": "y"
         },
         {
          "arrowhead": 2,
          "ax": 20,
          "ay": -30,
          "showarrow": true,
          "text": "PFCmax",
          "x": 220,
          "xref": "x",
          "y": 4000,
          "yref": "y"
         }
        ],
        "shapes": [
         {
          "line": {
           "color": "firebrick",
           "dash": "dash",
           "width": 2
          },
          "name": "PFCmin",
          "type": "line",
          "x0": 0,
          "x1": 220,
          "y0": 2500,
          "y1": 2500
         },
         {
          "line": {
           "color": "green",
           "dash": "dash",
           "width": 2
          },
          "name": "PFCmax",
          "type": "line",
          "x0": 0,
          "x1": 220,
          "y0": 4000,
          "y1": 4000
         }
        ],
        "showlegend": false,
        "template": {
         "data": {
          "bar": [
           {
            "error_x": {
             "color": "#2a3f5f"
            },
            "error_y": {
             "color": "#2a3f5f"
            },
            "marker": {
             "line": {
              "color": "#E5ECF6",
              "width": 0.5
             },
             "pattern": {
              "fillmode": "overlay",
              "size": 10,
              "solidity": 0.2
             }
            },
            "type": "bar"
           }
          ],
          "barpolar": [
           {
            "marker": {
             "line": {
              "color": "#E5ECF6",
              "width": 0.5
             },
             "pattern": {
              "fillmode": "overlay",
              "size": 10,
              "solidity": 0.2
             }
            },
            "type": "barpolar"
           }
          ],
          "carpet": [
           {
            "aaxis": {
             "endlinecolor": "#2a3f5f",
             "gridcolor": "white",
             "linecolor": "white",
             "minorgridcolor": "white",
             "startlinecolor": "#2a3f5f"
            },
            "baxis": {
             "endlinecolor": "#2a3f5f",
             "gridcolor": "white",
             "linecolor": "white",
             "minorgridcolor": "white",
             "startlinecolor": "#2a3f5f"
            },
            "type": "carpet"
           }
          ],
          "choropleth": [
           {
            "colorbar": {
             "outlinewidth": 0,
             "ticks": ""
            },
            "type": "choropleth"
           }
          ],
          "contour": [
           {
            "colorbar": {
             "outlinewidth": 0,
             "ticks": ""
            },
            "colorscale": [
             [
              0,
              "#0d0887"
             ],
             [
              0.1111111111111111,
              "#46039f"
             ],
             [
              0.2222222222222222,
              "#7201a8"
             ],
             [
              0.3333333333333333,
              "#9c179e"
             ],
             [
              0.4444444444444444,
              "#bd3786"
             ],
             [
              0.5555555555555556,
              "#d8576b"
             ],
             [
              0.6666666666666666,
              "#ed7953"
             ],
             [
              0.7777777777777778,
              "#fb9f3a"
             ],
             [
              0.8888888888888888,
              "#fdca26"
             ],
             [
              1,
              "#f0f921"
             ]
            ],
            "type": "contour"
           }
          ],
          "contourcarpet": [
           {
            "colorbar": {
             "outlinewidth": 0,
             "ticks": ""
            },
            "type": "contourcarpet"
           }
          ],
          "heatmap": [
           {
            "colorbar": {
             "outlinewidth": 0,
             "ticks": ""
            },
            "colorscale": [
             [
              0,
              "#0d0887"
             ],
             [
              0.1111111111111111,
              "#46039f"
             ],
             [
              0.2222222222222222,
              "#7201a8"
             ],
             [
              0.3333333333333333,
              "#9c179e"
             ],
             [
              0.4444444444444444,
              "#bd3786"
             ],
             [
              0.5555555555555556,
              "#d8576b"
             ],
             [
              0.6666666666666666,
              "#ed7953"
             ],
             [
              0.7777777777777778,
              "#fb9f3a"
             ],
             [
              0.8888888888888888,
              "#fdca26"
             ],
             [
              1,
              "#f0f921"
             ]
            ],
            "type": "heatmap"
           }
          ],
          "heatmapgl": [
           {
            "colorbar": {
             "outlinewidth": 0,
             "ticks": ""
            },
            "colorscale": [
             [
              0,
              "#0d0887"
             ],
             [
              0.1111111111111111,
              "#46039f"
             ],
             [
              0.2222222222222222,
              "#7201a8"
             ],
             [
              0.3333333333333333,
              "#9c179e"
             ],
             [
              0.4444444444444444,
              "#bd3786"
             ],
             [
              0.5555555555555556,
              "#d8576b"
             ],
             [
              0.6666666666666666,
              "#ed7953"
             ],
             [
              0.7777777777777778,
              "#fb9f3a"
             ],
             [
              0.8888888888888888,
              "#fdca26"
             ],
             [
              1,
              "#f0f921"
             ]
            ],
            "type": "heatmapgl"
           }
          ],
          "histogram": [
           {
            "marker": {
             "pattern": {
              "fillmode": "overlay",
              "size": 10,
              "solidity": 0.2
             }
            },
            "type": "histogram"
           }
          ],
          "histogram2d": [
           {
            "colorbar": {
             "outlinewidth": 0,
             "ticks": ""
            },
            "colorscale": [
             [
              0,
              "#0d0887"
             ],
             [
              0.1111111111111111,
              "#46039f"
             ],
             [
              0.2222222222222222,
              "#7201a8"
             ],
             [
              0.3333333333333333,
              "#9c179e"
             ],
             [
              0.4444444444444444,
              "#bd3786"
             ],
             [
              0.5555555555555556,
              "#d8576b"
             ],
             [
              0.6666666666666666,
              "#ed7953"
             ],
             [
              0.7777777777777778,
              "#fb9f3a"
             ],
             [
              0.8888888888888888,
              "#fdca26"
             ],
             [
              1,
              "#f0f921"
             ]
            ],
            "type": "histogram2d"
           }
          ],
          "histogram2dcontour": [
           {
            "colorbar": {
             "outlinewidth": 0,
             "ticks": ""
            },
            "colorscale": [
             [
              0,
              "#0d0887"
             ],
             [
              0.1111111111111111,
              "#46039f"
             ],
             [
              0.2222222222222222,
              "#7201a8"
             ],
             [
              0.3333333333333333,
              "#9c179e"
             ],
             [
              0.4444444444444444,
              "#bd3786"
             ],
             [
              0.5555555555555556,
              "#d8576b"
             ],
             [
              0.6666666666666666,
              "#ed7953"
             ],
             [
              0.7777777777777778,
              "#fb9f3a"
             ],
             [
              0.8888888888888888,
              "#fdca26"
             ],
             [
              1,
              "#f0f921"
             ]
            ],
            "type": "histogram2dcontour"
           }
          ],
          "mesh3d": [
           {
            "colorbar": {
             "outlinewidth": 0,
             "ticks": ""
            },
            "type": "mesh3d"
           }
          ],
          "parcoords": [
           {
            "line": {
             "colorbar": {
              "outlinewidth": 0,
              "ticks": ""
             }
            },
            "type": "parcoords"
           }
          ],
          "pie": [
           {
            "automargin": true,
            "type": "pie"
           }
          ],
          "scatter": [
           {
            "fillpattern": {
             "fillmode": "overlay",
             "size": 10,
             "solidity": 0.2
            },
            "type": "scatter"
           }
          ],
          "scatter3d": [
           {
            "line": {
             "colorbar": {
              "outlinewidth": 0,
              "ticks": ""
             }
            },
            "marker": {
             "colorbar": {
              "outlinewidth": 0,
              "ticks": ""
             }
            },
            "type": "scatter3d"
           }
          ],
          "scattercarpet": [
           {
            "marker": {
             "colorbar": {
              "outlinewidth": 0,
              "ticks": ""
             }
            },
            "type": "scattercarpet"
           }
          ],
          "scattergeo": [
           {
            "marker": {
             "colorbar": {
              "outlinewidth": 0,
              "ticks": ""
             }
            },
            "type": "scattergeo"
           }
          ],
          "scattergl": [
           {
            "marker": {
             "colorbar": {
              "outlinewidth": 0,
              "ticks": ""
             }
            },
            "type": "scattergl"
           }
          ],
          "scattermapbox": [
           {
            "marker": {
             "colorbar": {
              "outlinewidth": 0,
              "ticks": ""
             }
            },
            "type": "scattermapbox"
           }
          ],
          "scatterpolar": [
           {
            "marker": {
             "colorbar": {
              "outlinewidth": 0,
              "ticks": ""
             }
            },
            "type": "scatterpolar"
           }
          ],
          "scatterpolargl": [
           {
            "marker": {
             "colorbar": {
              "outlinewidth": 0,
              "ticks": ""
             }
            },
            "type": "scatterpolargl"
           }
          ],
          "scatterternary": [
           {
            "marker": {
             "colorbar": {
              "outlinewidth": 0,
              "ticks": ""
             }
            },
            "type": "scatterternary"
           }
          ],
          "surface": [
           {
            "colorbar": {
             "outlinewidth": 0,
             "ticks": ""
            },
            "colorscale": [
             [
              0,
              "#0d0887"
             ],
             [
              0.1111111111111111,
              "#46039f"
             ],
             [
              0.2222222222222222,
              "#7201a8"
             ],
             [
              0.3333333333333333,
              "#9c179e"
             ],
             [
              0.4444444444444444,
              "#bd3786"
             ],
             [
              0.5555555555555556,
              "#d8576b"
             ],
             [
              0.6666666666666666,
              "#ed7953"
             ],
             [
              0.7777777777777778,
              "#fb9f3a"
             ],
             [
              0.8888888888888888,
              "#fdca26"
             ],
             [
              1,
              "#f0f921"
             ]
            ],
            "type": "surface"
           }
          ],
          "table": [
           {
            "cells": {
             "fill": {
              "color": "#EBF0F8"
             },
             "line": {
              "color": "white"
             }
            },
            "header": {
             "fill": {
              "color": "#C8D4E3"
             },
             "line": {
              "color": "white"
             }
            },
            "type": "table"
           }
          ]
         },
         "layout": {
          "annotationdefaults": {
           "arrowcolor": "#2a3f5f",
           "arrowhead": 0,
           "arrowwidth": 1
          },
          "autotypenumbers": "strict",
          "coloraxis": {
           "colorbar": {
            "outlinewidth": 0,
            "ticks": ""
           }
          },
          "colorscale": {
           "diverging": [
            [
             0,
             "#8e0152"
            ],
            [
             0.1,
             "#c51b7d"
            ],
            [
             0.2,
             "#de77ae"
            ],
            [
             0.3,
             "#f1b6da"
            ],
            [
             0.4,
             "#fde0ef"
            ],
            [
             0.5,
             "#f7f7f7"
            ],
            [
             0.6,
             "#e6f5d0"
            ],
            [
             0.7,
             "#b8e186"
            ],
            [
             0.8,
             "#7fbc41"
            ],
            [
             0.9,
             "#4d9221"
            ],
            [
             1,
             "#276419"
            ]
           ],
           "sequential": [
            [
             0,
             "#0d0887"
            ],
            [
             0.1111111111111111,
             "#46039f"
            ],
            [
             0.2222222222222222,
             "#7201a8"
            ],
            [
             0.3333333333333333,
             "#9c179e"
            ],
            [
             0.4444444444444444,
             "#bd3786"
            ],
            [
             0.5555555555555556,
             "#d8576b"
            ],
            [
             0.6666666666666666,
             "#ed7953"
            ],
            [
             0.7777777777777778,
             "#fb9f3a"
            ],
            [
             0.8888888888888888,
             "#fdca26"
            ],
            [
             1,
             "#f0f921"
            ]
           ],
           "sequentialminus": [
            [
             0,
             "#0d0887"
            ],
            [
             0.1111111111111111,
             "#46039f"
            ],
            [
             0.2222222222222222,
             "#7201a8"
            ],
            [
             0.3333333333333333,
             "#9c179e"
            ],
            [
             0.4444444444444444,
             "#bd3786"
            ],
            [
             0.5555555555555556,
             "#d8576b"
            ],
            [
             0.6666666666666666,
             "#ed7953"
            ],
            [
             0.7777777777777778,
             "#fb9f3a"
            ],
            [
             0.8888888888888888,
             "#fdca26"
            ],
            [
             1,
             "#f0f921"
            ]
           ]
          },
          "colorway": [
           "#636efa",
           "#EF553B",
           "#00cc96",
           "#ab63fa",
           "#FFA15A",
           "#19d3f3",
           "#FF6692",
           "#B6E880",
           "#FF97FF",
           "#FECB52"
          ],
          "font": {
           "color": "#2a3f5f"
          },
          "geo": {
           "bgcolor": "white",
           "lakecolor": "white",
           "landcolor": "#E5ECF6",
           "showlakes": true,
           "showland": true,
           "subunitcolor": "white"
          },
          "hoverlabel": {
           "align": "left"
          },
          "hovermode": "closest",
          "mapbox": {
           "style": "light"
          },
          "paper_bgcolor": "white",
          "plot_bgcolor": "#E5ECF6",
          "polar": {
           "angularaxis": {
            "gridcolor": "white",
            "linecolor": "white",
            "ticks": ""
           },
           "bgcolor": "#E5ECF6",
           "radialaxis": {
            "gridcolor": "white",
            "linecolor": "white",
            "ticks": ""
           }
          },
          "scene": {
           "xaxis": {
            "backgroundcolor": "#E5ECF6",
            "gridcolor": "white",
            "gridwidth": 2,
            "linecolor": "white",
            "showbackground": true,
            "ticks": "",
            "zerolinecolor": "white"
           },
           "yaxis": {
            "backgroundcolor": "#E5ECF6",
            "gridcolor": "white",
            "gridwidth": 2,
            "linecolor": "white",
            "showbackground": true,
            "ticks": "",
            "zerolinecolor": "white"
           },
           "zaxis": {
            "backgroundcolor": "#E5ECF6",
            "gridcolor": "white",
            "gridwidth": 2,
            "linecolor": "white",
            "showbackground": true,
            "ticks": "",
            "zerolinecolor": "white"
           }
          },
          "shapedefaults": {
           "line": {
            "color": "#2a3f5f"
           }
          },
          "ternary": {
           "aaxis": {
            "gridcolor": "white",
            "linecolor": "white",
            "ticks": ""
           },
           "baxis": {
            "gridcolor": "white",
            "linecolor": "white",
            "ticks": ""
           },
           "bgcolor": "#E5ECF6",
           "caxis": {
            "gridcolor": "white",
            "linecolor": "white",
            "ticks": ""
           }
          },
          "title": {
           "x": 0.05
          },
          "xaxis": {
           "automargin": true,
           "gridcolor": "white",
           "linecolor": "white",
           "ticks": "",
           "title": {
            "standoff": 15
           },
           "zerolinecolor": "white",
           "zerolinewidth": 2
          },
          "yaxis": {
           "automargin": true,
           "gridcolor": "white",
           "linecolor": "white",
           "ticks": "",
           "title": {
            "standoff": 15
           },
           "zerolinecolor": "white",
           "zerolinewidth": 2
          }
         }
        },
        "title": {
         "text": "Consommation de fonte au cours du temps"
        },
        "xaxis": {
         "title": {
          "text": "Time (minutes)"
         }
        },
        "yaxis": {
         "title": {
          "text": "PFC (kg)"
         }
        }
       }
      }
     },
     "metadata": {},
     "output_type": "display_data"
    }
   ],
   "source": [
    "Plot_consom(times, PFC_values, tmin, tmax, PFCmin, PFCmax)"
   ]
  },
  {
   "cell_type": "code",
   "execution_count": null,
   "metadata": {},
   "outputs": [],
   "source": []
  },
  {
   "cell_type": "markdown",
   "metadata": {},
   "source": [
    "# Code 2"
   ]
  },
  {
   "cell_type": "code",
   "execution_count": null,
   "metadata": {},
   "outputs": [],
   "source": []
  },
  {
   "cell_type": "code",
   "execution_count": 36,
   "metadata": {},
   "outputs": [],
   "source": [
    "import plotly.graph_objects as go\n",
    "\n",
    "def Plot_consom(times, PFC_values, tmin, tmax, PFCmin, PFCmax):\n",
    "\n",
    "    # Create Plotly figure\n",
    "    fig = go.Figure()\n",
    "\n",
    "    # Add PFC line\n",
    "    fig.add_trace(go.Scatter(x=times, y=PFC_values, mode='lines', name='PFC over time', line=dict(color='royalblue')))\n",
    "\n",
    "    # Add horizontal lines for PFCmin and PFCmax\n",
    "    fig.add_shape(type=\"line\", x0=tmin, y0=PFCmin, x1=tmax, y1=PFCmin, line=dict(color=\"firebrick\", width=2, dash=\"dash\"), name=\"PFCmin\")\n",
    "    \n",
    "    fig.add_shape(type=\"line\", x0=tmin, y0=PFCmax, x1=tmax, y1=PFCmax, line=dict(color=\"green\", width=2, dash=\"dash\"), name=\"PFCmax\")\n",
    "\n",
    "\n",
    "    # Customize layout\n",
    "    fig.update_layout(title='Consommation de fonte au cours du temps', xaxis_title='Time (minutes)', yaxis_title='PFC (kg)', template='plotly',\n",
    "        showlegend=False,annotations=[\n",
    "            dict(x=tmax,y=PFCmin,xref=\"x\",yref=\"y\",text=\"PFCmin\",showarrow=True,arrowhead=2,ax=20,ay=-30),\n",
    "            dict(x=tmax,y=PFCmax,xref=\"x\",yref=\"y\",text=\"PFCmax\",showarrow=True,arrowhead=2,ax=20,ay=-30)])\n",
    "\n",
    "    # Show the plot\n",
    "    fig.show()\n",
    "\n",
    "def Plot_Prod(times, PFC_values):\n",
    "\n",
    "    # Create Plotly figure\n",
    "    fig = go.Figure()\n",
    "\n",
    "    # Add PFC line\n",
    "    fig.add_trace(go.Scatter(x=times, y=PFC_values, mode='lines', name='PFC over time', line=dict(color='royalblue')))\n",
    "\n",
    "    # Customize layout\n",
    "    fig.update_layout(title='Production de fonte au cours du temps', xaxis_title='Time (minutes)', yaxis_title='PFC (kg)', template='plotly',\n",
    "        showlegend=False)\n",
    "\n",
    "    # Show the plot\n",
    "    fig.show()"
   ]
  },
  {
   "cell_type": "code",
   "execution_count": 48,
   "metadata": {},
   "outputs": [],
   "source": [
    "def ProdConsom(ListeMasse_grappe, ListeQuantite_mottes, nb_moules_heure, t_serie, Temps_fusion, Temps_chargement):\n",
    "\n",
    "    numfours = 0\n",
    "    Fonte_produit = 5000 # Fontes produits toute les 45 min en kg\n",
    "    PFC_Prodvalues = [0] # en kg\n",
    "    PFC_Prod =  PFC_Prodvalues[-1]\n",
    "\n",
    "\n",
    "    PFC_Consomvalues = [4000] # en kg\n",
    "    PFC_Consom = PFC_Consomvalues[-1]\n",
    "    times = [0] # en min\n",
    "    tmin = times[-1]\n",
    "    t = tmin\n",
    "\n",
    "    for masse_grappe_i, Quantite_mottes_i in zip(ListeMasse_grappe, ListeQuantite_mottes) :\n",
    "        for i in range(Quantite_mottes_i):\n",
    "            cadences_i = nb_moules_heure/60 * masse_grappe_i  # consomation de fonte par minute (kg/min)\n",
    "            PFC_Consom = PFC_Consom - cadences_i  # en kg\n",
    "            t+=1\n",
    "            times.append(t)\n",
    "            PFC_Consomvalues.append(PFC_Consom)\n",
    "\n",
    "            #  Partie Producion de la fonte dans le temps\n",
    "            if t <= Temps_chargement:\n",
    "                # Avant ou pendant Temps_chargement\n",
    "                PFC_Prodvalues.append(PFC_Prod)\n",
    "            else:\n",
    "                # Après Temps_chargement\n",
    "                if (t - Temps_chargement) % Temps_fusion == 0:\n",
    "                    numfours += 1\n",
    "                    # print(t,numfours)\n",
    "                    PFC_Prod += Fonte_produit\n",
    "                PFC_Prodvalues.append(PFC_Prod)\n",
    "            \n",
    "        t+=t_serie\n",
    "        #  Partie Producion de la fonte dans le temps\n",
    "        if t <= Temps_chargement:\n",
    "            # Avant ou pendant Temps_chargement\n",
    "            PFC_Prodvalues.append(PFC_Prod)\n",
    "        else:\n",
    "            # Après Temps_chargement\n",
    "            if (t - Temps_chargement) % Temps_fusion == 0:\n",
    "                numfours += 1\n",
    "                # print(t,numfours)\n",
    "                PFC_Prod += Fonte_produit\n",
    "            PFC_Prodvalues.append(PFC_Prod)\n",
    "\n",
    "        times.append(t)\n",
    "        PFC_Consomvalues.append(PFC_Consom)\n",
    "    tmax = t\n",
    "    return times, PFC_Consomvalues, PFC_Prodvalues, tmin, tmax"
   ]
  },
  {
   "cell_type": "code",
   "execution_count": 49,
   "metadata": {},
   "outputs": [],
   "source": [
    "nb_fours = 6 # 8-9 fours pour HWS, 6 fours pour DiSA\n",
    "Temps_fusion = 45 # en min\n",
    "Temps_chargement = 30 # 30 - 45  min\n",
    "\n",
    "# Les valeurs d'entrée Input \n",
    "\n",
    "nb_moules_heure = 160 \n",
    "t_serie = 5 # 5 min\n",
    "\n",
    "PFCmin = 2500 # en kg\n",
    "PFCmax = 4000 # en kg\n",
    "\n",
    "times = [0] # en min\n",
    "PFC_values = [4000] # en kg\n",
    "ListeMasse_grappe = [35, 10, 20, 35] # en kg\n",
    "ListeQuantite_mottes = [50, 50, 50, 50]\n",
    "\n",
    "times, PFC_Consomvalues, PFC_Prodvalues, tmin, tmax = ProdConsom(ListeMasse_grappe, ListeQuantite_mottes, nb_moules_heure, t_serie, Temps_fusion, Temps_chargement)"
   ]
  },
  {
   "cell_type": "code",
   "execution_count": 50,
   "metadata": {},
   "outputs": [
    {
     "data": {
      "application/vnd.plotly.v1+json": {
       "config": {
        "plotlyServerURL": "https://plot.ly"
       },
       "data": [
        {
         "line": {
          "color": "royalblue"
         },
         "mode": "lines",
         "name": "PFC over time",
         "type": "scatter",
         "x": [
          0,
          1,
          2,
          3,
          4,
          5,
          6,
          7,
          8,
          9,
          10,
          11,
          12,
          13,
          14,
          15,
          16,
          17,
          18,
          19,
          20,
          21,
          22,
          23,
          24,
          25,
          26,
          27,
          28,
          29,
          30,
          31,
          32,
          33,
          34,
          35,
          36,
          37,
          38,
          39,
          40,
          41,
          42,
          43,
          44,
          45,
          46,
          47,
          48,
          49,
          50,
          55,
          56,
          57,
          58,
          59,
          60,
          61,
          62,
          63,
          64,
          65,
          66,
          67,
          68,
          69,
          70,
          71,
          72,
          73,
          74,
          75,
          76,
          77,
          78,
          79,
          80,
          81,
          82,
          83,
          84,
          85,
          86,
          87,
          88,
          89,
          90,
          91,
          92,
          93,
          94,
          95,
          96,
          97,
          98,
          99,
          100,
          101,
          102,
          103,
          104,
          105,
          110,
          111,
          112,
          113,
          114,
          115,
          116,
          117,
          118,
          119,
          120,
          121,
          122,
          123,
          124,
          125,
          126,
          127,
          128,
          129,
          130,
          131,
          132,
          133,
          134,
          135,
          136,
          137,
          138,
          139,
          140,
          141,
          142,
          143,
          144,
          145,
          146,
          147,
          148,
          149,
          150,
          151,
          152,
          153,
          154,
          155,
          156,
          157,
          158,
          159,
          160,
          165,
          166,
          167,
          168,
          169,
          170,
          171,
          172,
          173,
          174,
          175,
          176,
          177,
          178,
          179,
          180,
          181,
          182,
          183,
          184,
          185,
          186,
          187,
          188,
          189,
          190,
          191,
          192,
          193,
          194,
          195,
          196,
          197,
          198,
          199,
          200,
          201,
          202,
          203,
          204,
          205,
          206,
          207,
          208,
          209,
          210,
          211,
          212,
          213,
          214,
          215,
          220
         ],
         "y": [
          4000,
          3906.6666666666665,
          3813.333333333333,
          3719.9999999999995,
          3626.666666666666,
          3533.3333333333326,
          3439.999999999999,
          3346.6666666666656,
          3253.333333333332,
          3159.9999999999986,
          3066.666666666665,
          2973.3333333333317,
          2879.999999999998,
          2786.6666666666647,
          2693.333333333331,
          2599.9999999999977,
          2506.6666666666642,
          2413.3333333333308,
          2319.9999999999973,
          2226.666666666664,
          2133.3333333333303,
          2039.999999999997,
          1946.6666666666638,
          1853.3333333333305,
          1759.9999999999973,
          1666.666666666664,
          1573.3333333333308,
          1479.9999999999975,
          1386.6666666666642,
          1293.333333333331,
          1199.9999999999977,
          1106.6666666666645,
          1013.3333333333311,
          919.9999999999977,
          826.6666666666644,
          733.333333333331,
          639.9999999999976,
          546.6666666666642,
          453.3333333333309,
          359.9999999999976,
          266.6666666666643,
          173.33333333333098,
          79.99999999999766,
          -13.333333333335673,
          -106.666666666669,
          -200.00000000000233,
          -293.33333333333564,
          -386.66666666666896,
          -480.0000000000023,
          -573.3333333333356,
          -666.666666666669,
          -666.666666666669,
          -693.3333333333356,
          -720.0000000000023,
          -746.6666666666689,
          -773.3333333333355,
          -800.0000000000022,
          -826.6666666666688,
          -853.3333333333354,
          -880.000000000002,
          -906.6666666666687,
          -933.3333333333353,
          -960.0000000000019,
          -986.6666666666686,
          -1013.3333333333352,
          -1040.0000000000018,
          -1066.6666666666686,
          -1093.3333333333353,
          -1120.000000000002,
          -1146.6666666666688,
          -1173.3333333333355,
          -1200.0000000000023,
          -1226.666666666669,
          -1253.3333333333358,
          -1280.0000000000025,
          -1306.6666666666692,
          -1333.333333333336,
          -1360.0000000000027,
          -1386.6666666666695,
          -1413.3333333333362,
          -1440.000000000003,
          -1466.6666666666697,
          -1493.3333333333364,
          -1520.0000000000032,
          -1546.66666666667,
          -1573.3333333333367,
          -1600.0000000000034,
          -1626.6666666666702,
          -1653.333333333337,
          -1680.0000000000036,
          -1706.6666666666704,
          -1733.3333333333371,
          -1760.0000000000039,
          -1786.6666666666706,
          -1813.3333333333374,
          -1840.000000000004,
          -1866.6666666666708,
          -1893.3333333333376,
          -1920.0000000000043,
          -1946.666666666671,
          -1973.3333333333378,
          -2000.0000000000045,
          -2000.0000000000045,
          -2053.333333333338,
          -2106.6666666666715,
          -2160.000000000005,
          -2213.3333333333385,
          -2266.666666666672,
          -2320.0000000000055,
          -2373.333333333339,
          -2426.6666666666724,
          -2480.000000000006,
          -2533.3333333333394,
          -2586.666666666673,
          -2640.0000000000064,
          -2693.33333333334,
          -2746.6666666666733,
          -2800.000000000007,
          -2853.3333333333403,
          -2906.666666666674,
          -2960.0000000000073,
          -3013.3333333333408,
          -3066.6666666666742,
          -3120.0000000000077,
          -3173.333333333341,
          -3226.6666666666747,
          -3280.000000000008,
          -3333.3333333333417,
          -3386.666666666675,
          -3440.0000000000086,
          -3493.333333333342,
          -3546.6666666666756,
          -3600.000000000009,
          -3653.3333333333426,
          -3706.666666666676,
          -3760.0000000000095,
          -3813.333333333343,
          -3866.6666666666765,
          -3920.00000000001,
          -3973.3333333333435,
          -4026.666666666677,
          -4080.0000000000105,
          -4133.333333333344,
          -4186.666666666677,
          -4240.00000000001,
          -4293.333333333343,
          -4346.666666666676,
          -4400.000000000009,
          -4453.333333333342,
          -4506.666666666675,
          -4560.000000000008,
          -4613.333333333341,
          -4666.666666666674,
          -4666.666666666674,
          -4760.000000000007,
          -4853.33333333334,
          -4946.666666666673,
          -5040.000000000006,
          -5133.333333333339,
          -5226.666666666672,
          -5320.0000000000055,
          -5413.3333333333385,
          -5506.6666666666715,
          -5600.000000000005,
          -5693.333333333338,
          -5786.666666666671,
          -5880.000000000004,
          -5973.333333333337,
          -6066.66666666667,
          -6160.000000000003,
          -6253.333333333336,
          -6346.666666666669,
          -6440.000000000002,
          -6533.333333333335,
          -6626.666666666668,
          -6720.000000000001,
          -6813.333333333334,
          -6906.666666666667,
          -7000,
          -7093.333333333333,
          -7186.666666666666,
          -7279.999999999999,
          -7373.333333333332,
          -7466.666666666665,
          -7559.999999999998,
          -7653.333333333331,
          -7746.666666666664,
          -7839.999999999997,
          -7933.33333333333,
          -8026.666666666663,
          -8119.999999999996,
          -8213.33333333333,
          -8306.666666666664,
          -8399.999999999998,
          -8493.333333333332,
          -8586.666666666666,
          -8680,
          -8773.333333333334,
          -8866.666666666668,
          -8960.000000000002,
          -9053.333333333336,
          -9146.66666666667,
          -9240.000000000004,
          -9333.333333333338,
          -9333.333333333338
         ]
        }
       ],
       "layout": {
        "annotations": [
         {
          "arrowhead": 2,
          "ax": 20,
          "ay": -30,
          "showarrow": true,
          "text": "PFCmin",
          "x": 220,
          "xref": "x",
          "y": 2500,
          "yref": "y"
         },
         {
          "arrowhead": 2,
          "ax": 20,
          "ay": -30,
          "showarrow": true,
          "text": "PFCmax",
          "x": 220,
          "xref": "x",
          "y": 4000,
          "yref": "y"
         }
        ],
        "shapes": [
         {
          "line": {
           "color": "firebrick",
           "dash": "dash",
           "width": 2
          },
          "name": "PFCmin",
          "type": "line",
          "x0": 0,
          "x1": 220,
          "y0": 2500,
          "y1": 2500
         },
         {
          "line": {
           "color": "green",
           "dash": "dash",
           "width": 2
          },
          "name": "PFCmax",
          "type": "line",
          "x0": 0,
          "x1": 220,
          "y0": 4000,
          "y1": 4000
         }
        ],
        "showlegend": false,
        "template": {
         "data": {
          "bar": [
           {
            "error_x": {
             "color": "#2a3f5f"
            },
            "error_y": {
             "color": "#2a3f5f"
            },
            "marker": {
             "line": {
              "color": "#E5ECF6",
              "width": 0.5
             },
             "pattern": {
              "fillmode": "overlay",
              "size": 10,
              "solidity": 0.2
             }
            },
            "type": "bar"
           }
          ],
          "barpolar": [
           {
            "marker": {
             "line": {
              "color": "#E5ECF6",
              "width": 0.5
             },
             "pattern": {
              "fillmode": "overlay",
              "size": 10,
              "solidity": 0.2
             }
            },
            "type": "barpolar"
           }
          ],
          "carpet": [
           {
            "aaxis": {
             "endlinecolor": "#2a3f5f",
             "gridcolor": "white",
             "linecolor": "white",
             "minorgridcolor": "white",
             "startlinecolor": "#2a3f5f"
            },
            "baxis": {
             "endlinecolor": "#2a3f5f",
             "gridcolor": "white",
             "linecolor": "white",
             "minorgridcolor": "white",
             "startlinecolor": "#2a3f5f"
            },
            "type": "carpet"
           }
          ],
          "choropleth": [
           {
            "colorbar": {
             "outlinewidth": 0,
             "ticks": ""
            },
            "type": "choropleth"
           }
          ],
          "contour": [
           {
            "colorbar": {
             "outlinewidth": 0,
             "ticks": ""
            },
            "colorscale": [
             [
              0,
              "#0d0887"
             ],
             [
              0.1111111111111111,
              "#46039f"
             ],
             [
              0.2222222222222222,
              "#7201a8"
             ],
             [
              0.3333333333333333,
              "#9c179e"
             ],
             [
              0.4444444444444444,
              "#bd3786"
             ],
             [
              0.5555555555555556,
              "#d8576b"
             ],
             [
              0.6666666666666666,
              "#ed7953"
             ],
             [
              0.7777777777777778,
              "#fb9f3a"
             ],
             [
              0.8888888888888888,
              "#fdca26"
             ],
             [
              1,
              "#f0f921"
             ]
            ],
            "type": "contour"
           }
          ],
          "contourcarpet": [
           {
            "colorbar": {
             "outlinewidth": 0,
             "ticks": ""
            },
            "type": "contourcarpet"
           }
          ],
          "heatmap": [
           {
            "colorbar": {
             "outlinewidth": 0,
             "ticks": ""
            },
            "colorscale": [
             [
              0,
              "#0d0887"
             ],
             [
              0.1111111111111111,
              "#46039f"
             ],
             [
              0.2222222222222222,
              "#7201a8"
             ],
             [
              0.3333333333333333,
              "#9c179e"
             ],
             [
              0.4444444444444444,
              "#bd3786"
             ],
             [
              0.5555555555555556,
              "#d8576b"
             ],
             [
              0.6666666666666666,
              "#ed7953"
             ],
             [
              0.7777777777777778,
              "#fb9f3a"
             ],
             [
              0.8888888888888888,
              "#fdca26"
             ],
             [
              1,
              "#f0f921"
             ]
            ],
            "type": "heatmap"
           }
          ],
          "heatmapgl": [
           {
            "colorbar": {
             "outlinewidth": 0,
             "ticks": ""
            },
            "colorscale": [
             [
              0,
              "#0d0887"
             ],
             [
              0.1111111111111111,
              "#46039f"
             ],
             [
              0.2222222222222222,
              "#7201a8"
             ],
             [
              0.3333333333333333,
              "#9c179e"
             ],
             [
              0.4444444444444444,
              "#bd3786"
             ],
             [
              0.5555555555555556,
              "#d8576b"
             ],
             [
              0.6666666666666666,
              "#ed7953"
             ],
             [
              0.7777777777777778,
              "#fb9f3a"
             ],
             [
              0.8888888888888888,
              "#fdca26"
             ],
             [
              1,
              "#f0f921"
             ]
            ],
            "type": "heatmapgl"
           }
          ],
          "histogram": [
           {
            "marker": {
             "pattern": {
              "fillmode": "overlay",
              "size": 10,
              "solidity": 0.2
             }
            },
            "type": "histogram"
           }
          ],
          "histogram2d": [
           {
            "colorbar": {
             "outlinewidth": 0,
             "ticks": ""
            },
            "colorscale": [
             [
              0,
              "#0d0887"
             ],
             [
              0.1111111111111111,
              "#46039f"
             ],
             [
              0.2222222222222222,
              "#7201a8"
             ],
             [
              0.3333333333333333,
              "#9c179e"
             ],
             [
              0.4444444444444444,
              "#bd3786"
             ],
             [
              0.5555555555555556,
              "#d8576b"
             ],
             [
              0.6666666666666666,
              "#ed7953"
             ],
             [
              0.7777777777777778,
              "#fb9f3a"
             ],
             [
              0.8888888888888888,
              "#fdca26"
             ],
             [
              1,
              "#f0f921"
             ]
            ],
            "type": "histogram2d"
           }
          ],
          "histogram2dcontour": [
           {
            "colorbar": {
             "outlinewidth": 0,
             "ticks": ""
            },
            "colorscale": [
             [
              0,
              "#0d0887"
             ],
             [
              0.1111111111111111,
              "#46039f"
             ],
             [
              0.2222222222222222,
              "#7201a8"
             ],
             [
              0.3333333333333333,
              "#9c179e"
             ],
             [
              0.4444444444444444,
              "#bd3786"
             ],
             [
              0.5555555555555556,
              "#d8576b"
             ],
             [
              0.6666666666666666,
              "#ed7953"
             ],
             [
              0.7777777777777778,
              "#fb9f3a"
             ],
             [
              0.8888888888888888,
              "#fdca26"
             ],
             [
              1,
              "#f0f921"
             ]
            ],
            "type": "histogram2dcontour"
           }
          ],
          "mesh3d": [
           {
            "colorbar": {
             "outlinewidth": 0,
             "ticks": ""
            },
            "type": "mesh3d"
           }
          ],
          "parcoords": [
           {
            "line": {
             "colorbar": {
              "outlinewidth": 0,
              "ticks": ""
             }
            },
            "type": "parcoords"
           }
          ],
          "pie": [
           {
            "automargin": true,
            "type": "pie"
           }
          ],
          "scatter": [
           {
            "fillpattern": {
             "fillmode": "overlay",
             "size": 10,
             "solidity": 0.2
            },
            "type": "scatter"
           }
          ],
          "scatter3d": [
           {
            "line": {
             "colorbar": {
              "outlinewidth": 0,
              "ticks": ""
             }
            },
            "marker": {
             "colorbar": {
              "outlinewidth": 0,
              "ticks": ""
             }
            },
            "type": "scatter3d"
           }
          ],
          "scattercarpet": [
           {
            "marker": {
             "colorbar": {
              "outlinewidth": 0,
              "ticks": ""
             }
            },
            "type": "scattercarpet"
           }
          ],
          "scattergeo": [
           {
            "marker": {
             "colorbar": {
              "outlinewidth": 0,
              "ticks": ""
             }
            },
            "type": "scattergeo"
           }
          ],
          "scattergl": [
           {
            "marker": {
             "colorbar": {
              "outlinewidth": 0,
              "ticks": ""
             }
            },
            "type": "scattergl"
           }
          ],
          "scattermapbox": [
           {
            "marker": {
             "colorbar": {
              "outlinewidth": 0,
              "ticks": ""
             }
            },
            "type": "scattermapbox"
           }
          ],
          "scatterpolar": [
           {
            "marker": {
             "colorbar": {
              "outlinewidth": 0,
              "ticks": ""
             }
            },
            "type": "scatterpolar"
           }
          ],
          "scatterpolargl": [
           {
            "marker": {
             "colorbar": {
              "outlinewidth": 0,
              "ticks": ""
             }
            },
            "type": "scatterpolargl"
           }
          ],
          "scatterternary": [
           {
            "marker": {
             "colorbar": {
              "outlinewidth": 0,
              "ticks": ""
             }
            },
            "type": "scatterternary"
           }
          ],
          "surface": [
           {
            "colorbar": {
             "outlinewidth": 0,
             "ticks": ""
            },
            "colorscale": [
             [
              0,
              "#0d0887"
             ],
             [
              0.1111111111111111,
              "#46039f"
             ],
             [
              0.2222222222222222,
              "#7201a8"
             ],
             [
              0.3333333333333333,
              "#9c179e"
             ],
             [
              0.4444444444444444,
              "#bd3786"
             ],
             [
              0.5555555555555556,
              "#d8576b"
             ],
             [
              0.6666666666666666,
              "#ed7953"
             ],
             [
              0.7777777777777778,
              "#fb9f3a"
             ],
             [
              0.8888888888888888,
              "#fdca26"
             ],
             [
              1,
              "#f0f921"
             ]
            ],
            "type": "surface"
           }
          ],
          "table": [
           {
            "cells": {
             "fill": {
              "color": "#EBF0F8"
             },
             "line": {
              "color": "white"
             }
            },
            "header": {
             "fill": {
              "color": "#C8D4E3"
             },
             "line": {
              "color": "white"
             }
            },
            "type": "table"
           }
          ]
         },
         "layout": {
          "annotationdefaults": {
           "arrowcolor": "#2a3f5f",
           "arrowhead": 0,
           "arrowwidth": 1
          },
          "autotypenumbers": "strict",
          "coloraxis": {
           "colorbar": {
            "outlinewidth": 0,
            "ticks": ""
           }
          },
          "colorscale": {
           "diverging": [
            [
             0,
             "#8e0152"
            ],
            [
             0.1,
             "#c51b7d"
            ],
            [
             0.2,
             "#de77ae"
            ],
            [
             0.3,
             "#f1b6da"
            ],
            [
             0.4,
             "#fde0ef"
            ],
            [
             0.5,
             "#f7f7f7"
            ],
            [
             0.6,
             "#e6f5d0"
            ],
            [
             0.7,
             "#b8e186"
            ],
            [
             0.8,
             "#7fbc41"
            ],
            [
             0.9,
             "#4d9221"
            ],
            [
             1,
             "#276419"
            ]
           ],
           "sequential": [
            [
             0,
             "#0d0887"
            ],
            [
             0.1111111111111111,
             "#46039f"
            ],
            [
             0.2222222222222222,
             "#7201a8"
            ],
            [
             0.3333333333333333,
             "#9c179e"
            ],
            [
             0.4444444444444444,
             "#bd3786"
            ],
            [
             0.5555555555555556,
             "#d8576b"
            ],
            [
             0.6666666666666666,
             "#ed7953"
            ],
            [
             0.7777777777777778,
             "#fb9f3a"
            ],
            [
             0.8888888888888888,
             "#fdca26"
            ],
            [
             1,
             "#f0f921"
            ]
           ],
           "sequentialminus": [
            [
             0,
             "#0d0887"
            ],
            [
             0.1111111111111111,
             "#46039f"
            ],
            [
             0.2222222222222222,
             "#7201a8"
            ],
            [
             0.3333333333333333,
             "#9c179e"
            ],
            [
             0.4444444444444444,
             "#bd3786"
            ],
            [
             0.5555555555555556,
             "#d8576b"
            ],
            [
             0.6666666666666666,
             "#ed7953"
            ],
            [
             0.7777777777777778,
             "#fb9f3a"
            ],
            [
             0.8888888888888888,
             "#fdca26"
            ],
            [
             1,
             "#f0f921"
            ]
           ]
          },
          "colorway": [
           "#636efa",
           "#EF553B",
           "#00cc96",
           "#ab63fa",
           "#FFA15A",
           "#19d3f3",
           "#FF6692",
           "#B6E880",
           "#FF97FF",
           "#FECB52"
          ],
          "font": {
           "color": "#2a3f5f"
          },
          "geo": {
           "bgcolor": "white",
           "lakecolor": "white",
           "landcolor": "#E5ECF6",
           "showlakes": true,
           "showland": true,
           "subunitcolor": "white"
          },
          "hoverlabel": {
           "align": "left"
          },
          "hovermode": "closest",
          "mapbox": {
           "style": "light"
          },
          "paper_bgcolor": "white",
          "plot_bgcolor": "#E5ECF6",
          "polar": {
           "angularaxis": {
            "gridcolor": "white",
            "linecolor": "white",
            "ticks": ""
           },
           "bgcolor": "#E5ECF6",
           "radialaxis": {
            "gridcolor": "white",
            "linecolor": "white",
            "ticks": ""
           }
          },
          "scene": {
           "xaxis": {
            "backgroundcolor": "#E5ECF6",
            "gridcolor": "white",
            "gridwidth": 2,
            "linecolor": "white",
            "showbackground": true,
            "ticks": "",
            "zerolinecolor": "white"
           },
           "yaxis": {
            "backgroundcolor": "#E5ECF6",
            "gridcolor": "white",
            "gridwidth": 2,
            "linecolor": "white",
            "showbackground": true,
            "ticks": "",
            "zerolinecolor": "white"
           },
           "zaxis": {
            "backgroundcolor": "#E5ECF6",
            "gridcolor": "white",
            "gridwidth": 2,
            "linecolor": "white",
            "showbackground": true,
            "ticks": "",
            "zerolinecolor": "white"
           }
          },
          "shapedefaults": {
           "line": {
            "color": "#2a3f5f"
           }
          },
          "ternary": {
           "aaxis": {
            "gridcolor": "white",
            "linecolor": "white",
            "ticks": ""
           },
           "baxis": {
            "gridcolor": "white",
            "linecolor": "white",
            "ticks": ""
           },
           "bgcolor": "#E5ECF6",
           "caxis": {
            "gridcolor": "white",
            "linecolor": "white",
            "ticks": ""
           }
          },
          "title": {
           "x": 0.05
          },
          "xaxis": {
           "automargin": true,
           "gridcolor": "white",
           "linecolor": "white",
           "ticks": "",
           "title": {
            "standoff": 15
           },
           "zerolinecolor": "white",
           "zerolinewidth": 2
          },
          "yaxis": {
           "automargin": true,
           "gridcolor": "white",
           "linecolor": "white",
           "ticks": "",
           "title": {
            "standoff": 15
           },
           "zerolinecolor": "white",
           "zerolinewidth": 2
          }
         }
        },
        "title": {
         "text": "Consommation de fonte au cours du temps"
        },
        "xaxis": {
         "title": {
          "text": "Time (minutes)"
         }
        },
        "yaxis": {
         "title": {
          "text": "PFC (kg)"
         }
        }
       }
      }
     },
     "metadata": {},
     "output_type": "display_data"
    }
   ],
   "source": [
    "Plot_consom(times, PFC_Consomvalues, tmin, tmax, PFCmin, PFCmax)"
   ]
  },
  {
   "cell_type": "code",
   "execution_count": 51,
   "metadata": {},
   "outputs": [
    {
     "data": {
      "application/vnd.plotly.v1+json": {
       "config": {
        "plotlyServerURL": "https://plot.ly"
       },
       "data": [
        {
         "line": {
          "color": "royalblue"
         },
         "mode": "lines",
         "name": "PFC over time",
         "type": "scatter",
         "x": [
          0,
          1,
          2,
          3,
          4,
          5,
          6,
          7,
          8,
          9,
          10,
          11,
          12,
          13,
          14,
          15,
          16,
          17,
          18,
          19,
          20,
          21,
          22,
          23,
          24,
          25,
          26,
          27,
          28,
          29,
          30,
          31,
          32,
          33,
          34,
          35,
          36,
          37,
          38,
          39,
          40,
          41,
          42,
          43,
          44,
          45,
          46,
          47,
          48,
          49,
          50,
          55,
          56,
          57,
          58,
          59,
          60,
          61,
          62,
          63,
          64,
          65,
          66,
          67,
          68,
          69,
          70,
          71,
          72,
          73,
          74,
          75,
          76,
          77,
          78,
          79,
          80,
          81,
          82,
          83,
          84,
          85,
          86,
          87,
          88,
          89,
          90,
          91,
          92,
          93,
          94,
          95,
          96,
          97,
          98,
          99,
          100,
          101,
          102,
          103,
          104,
          105,
          110,
          111,
          112,
          113,
          114,
          115,
          116,
          117,
          118,
          119,
          120,
          121,
          122,
          123,
          124,
          125,
          126,
          127,
          128,
          129,
          130,
          131,
          132,
          133,
          134,
          135,
          136,
          137,
          138,
          139,
          140,
          141,
          142,
          143,
          144,
          145,
          146,
          147,
          148,
          149,
          150,
          151,
          152,
          153,
          154,
          155,
          156,
          157,
          158,
          159,
          160,
          165,
          166,
          167,
          168,
          169,
          170,
          171,
          172,
          173,
          174,
          175,
          176,
          177,
          178,
          179,
          180,
          181,
          182,
          183,
          184,
          185,
          186,
          187,
          188,
          189,
          190,
          191,
          192,
          193,
          194,
          195,
          196,
          197,
          198,
          199,
          200,
          201,
          202,
          203,
          204,
          205,
          206,
          207,
          208,
          209,
          210,
          211,
          212,
          213,
          214,
          215,
          220
         ],
         "y": [
          0,
          0,
          0,
          0,
          0,
          0,
          0,
          0,
          0,
          0,
          0,
          0,
          0,
          0,
          0,
          0,
          0,
          0,
          0,
          0,
          0,
          0,
          0,
          0,
          0,
          0,
          0,
          0,
          0,
          0,
          0,
          0,
          0,
          0,
          0,
          0,
          0,
          0,
          0,
          0,
          0,
          0,
          0,
          0,
          0,
          0,
          0,
          0,
          0,
          0,
          0,
          0,
          0,
          0,
          0,
          0,
          0,
          0,
          0,
          0,
          0,
          0,
          0,
          0,
          0,
          0,
          0,
          0,
          0,
          0,
          0,
          5000,
          5000,
          5000,
          5000,
          5000,
          5000,
          5000,
          5000,
          5000,
          5000,
          5000,
          5000,
          5000,
          5000,
          5000,
          5000,
          5000,
          5000,
          5000,
          5000,
          5000,
          5000,
          5000,
          5000,
          5000,
          5000,
          5000,
          5000,
          5000,
          5000,
          5000,
          5000,
          5000,
          5000,
          5000,
          5000,
          5000,
          5000,
          5000,
          5000,
          5000,
          10000,
          10000,
          10000,
          10000,
          10000,
          10000,
          10000,
          10000,
          10000,
          10000,
          10000,
          10000,
          10000,
          10000,
          10000,
          10000,
          10000,
          10000,
          10000,
          10000,
          10000,
          10000,
          10000,
          10000,
          10000,
          10000,
          10000,
          10000,
          10000,
          10000,
          10000,
          10000,
          10000,
          10000,
          10000,
          10000,
          10000,
          10000,
          10000,
          10000,
          10000,
          15000,
          15000,
          15000,
          15000,
          15000,
          15000,
          15000,
          15000,
          15000,
          15000,
          15000,
          15000,
          15000,
          15000,
          15000,
          15000,
          15000,
          15000,
          15000,
          15000,
          15000,
          15000,
          15000,
          15000,
          15000,
          15000,
          15000,
          15000,
          15000,
          15000,
          15000,
          15000,
          15000,
          15000,
          15000,
          15000,
          15000,
          15000,
          15000,
          15000,
          15000,
          15000,
          15000,
          15000,
          15000,
          20000,
          20000,
          20000,
          20000,
          20000,
          20000,
          20000
         ]
        }
       ],
       "layout": {
        "showlegend": false,
        "template": {
         "data": {
          "bar": [
           {
            "error_x": {
             "color": "#2a3f5f"
            },
            "error_y": {
             "color": "#2a3f5f"
            },
            "marker": {
             "line": {
              "color": "#E5ECF6",
              "width": 0.5
             },
             "pattern": {
              "fillmode": "overlay",
              "size": 10,
              "solidity": 0.2
             }
            },
            "type": "bar"
           }
          ],
          "barpolar": [
           {
            "marker": {
             "line": {
              "color": "#E5ECF6",
              "width": 0.5
             },
             "pattern": {
              "fillmode": "overlay",
              "size": 10,
              "solidity": 0.2
             }
            },
            "type": "barpolar"
           }
          ],
          "carpet": [
           {
            "aaxis": {
             "endlinecolor": "#2a3f5f",
             "gridcolor": "white",
             "linecolor": "white",
             "minorgridcolor": "white",
             "startlinecolor": "#2a3f5f"
            },
            "baxis": {
             "endlinecolor": "#2a3f5f",
             "gridcolor": "white",
             "linecolor": "white",
             "minorgridcolor": "white",
             "startlinecolor": "#2a3f5f"
            },
            "type": "carpet"
           }
          ],
          "choropleth": [
           {
            "colorbar": {
             "outlinewidth": 0,
             "ticks": ""
            },
            "type": "choropleth"
           }
          ],
          "contour": [
           {
            "colorbar": {
             "outlinewidth": 0,
             "ticks": ""
            },
            "colorscale": [
             [
              0,
              "#0d0887"
             ],
             [
              0.1111111111111111,
              "#46039f"
             ],
             [
              0.2222222222222222,
              "#7201a8"
             ],
             [
              0.3333333333333333,
              "#9c179e"
             ],
             [
              0.4444444444444444,
              "#bd3786"
             ],
             [
              0.5555555555555556,
              "#d8576b"
             ],
             [
              0.6666666666666666,
              "#ed7953"
             ],
             [
              0.7777777777777778,
              "#fb9f3a"
             ],
             [
              0.8888888888888888,
              "#fdca26"
             ],
             [
              1,
              "#f0f921"
             ]
            ],
            "type": "contour"
           }
          ],
          "contourcarpet": [
           {
            "colorbar": {
             "outlinewidth": 0,
             "ticks": ""
            },
            "type": "contourcarpet"
           }
          ],
          "heatmap": [
           {
            "colorbar": {
             "outlinewidth": 0,
             "ticks": ""
            },
            "colorscale": [
             [
              0,
              "#0d0887"
             ],
             [
              0.1111111111111111,
              "#46039f"
             ],
             [
              0.2222222222222222,
              "#7201a8"
             ],
             [
              0.3333333333333333,
              "#9c179e"
             ],
             [
              0.4444444444444444,
              "#bd3786"
             ],
             [
              0.5555555555555556,
              "#d8576b"
             ],
             [
              0.6666666666666666,
              "#ed7953"
             ],
             [
              0.7777777777777778,
              "#fb9f3a"
             ],
             [
              0.8888888888888888,
              "#fdca26"
             ],
             [
              1,
              "#f0f921"
             ]
            ],
            "type": "heatmap"
           }
          ],
          "heatmapgl": [
           {
            "colorbar": {
             "outlinewidth": 0,
             "ticks": ""
            },
            "colorscale": [
             [
              0,
              "#0d0887"
             ],
             [
              0.1111111111111111,
              "#46039f"
             ],
             [
              0.2222222222222222,
              "#7201a8"
             ],
             [
              0.3333333333333333,
              "#9c179e"
             ],
             [
              0.4444444444444444,
              "#bd3786"
             ],
             [
              0.5555555555555556,
              "#d8576b"
             ],
             [
              0.6666666666666666,
              "#ed7953"
             ],
             [
              0.7777777777777778,
              "#fb9f3a"
             ],
             [
              0.8888888888888888,
              "#fdca26"
             ],
             [
              1,
              "#f0f921"
             ]
            ],
            "type": "heatmapgl"
           }
          ],
          "histogram": [
           {
            "marker": {
             "pattern": {
              "fillmode": "overlay",
              "size": 10,
              "solidity": 0.2
             }
            },
            "type": "histogram"
           }
          ],
          "histogram2d": [
           {
            "colorbar": {
             "outlinewidth": 0,
             "ticks": ""
            },
            "colorscale": [
             [
              0,
              "#0d0887"
             ],
             [
              0.1111111111111111,
              "#46039f"
             ],
             [
              0.2222222222222222,
              "#7201a8"
             ],
             [
              0.3333333333333333,
              "#9c179e"
             ],
             [
              0.4444444444444444,
              "#bd3786"
             ],
             [
              0.5555555555555556,
              "#d8576b"
             ],
             [
              0.6666666666666666,
              "#ed7953"
             ],
             [
              0.7777777777777778,
              "#fb9f3a"
             ],
             [
              0.8888888888888888,
              "#fdca26"
             ],
             [
              1,
              "#f0f921"
             ]
            ],
            "type": "histogram2d"
           }
          ],
          "histogram2dcontour": [
           {
            "colorbar": {
             "outlinewidth": 0,
             "ticks": ""
            },
            "colorscale": [
             [
              0,
              "#0d0887"
             ],
             [
              0.1111111111111111,
              "#46039f"
             ],
             [
              0.2222222222222222,
              "#7201a8"
             ],
             [
              0.3333333333333333,
              "#9c179e"
             ],
             [
              0.4444444444444444,
              "#bd3786"
             ],
             [
              0.5555555555555556,
              "#d8576b"
             ],
             [
              0.6666666666666666,
              "#ed7953"
             ],
             [
              0.7777777777777778,
              "#fb9f3a"
             ],
             [
              0.8888888888888888,
              "#fdca26"
             ],
             [
              1,
              "#f0f921"
             ]
            ],
            "type": "histogram2dcontour"
           }
          ],
          "mesh3d": [
           {
            "colorbar": {
             "outlinewidth": 0,
             "ticks": ""
            },
            "type": "mesh3d"
           }
          ],
          "parcoords": [
           {
            "line": {
             "colorbar": {
              "outlinewidth": 0,
              "ticks": ""
             }
            },
            "type": "parcoords"
           }
          ],
          "pie": [
           {
            "automargin": true,
            "type": "pie"
           }
          ],
          "scatter": [
           {
            "fillpattern": {
             "fillmode": "overlay",
             "size": 10,
             "solidity": 0.2
            },
            "type": "scatter"
           }
          ],
          "scatter3d": [
           {
            "line": {
             "colorbar": {
              "outlinewidth": 0,
              "ticks": ""
             }
            },
            "marker": {
             "colorbar": {
              "outlinewidth": 0,
              "ticks": ""
             }
            },
            "type": "scatter3d"
           }
          ],
          "scattercarpet": [
           {
            "marker": {
             "colorbar": {
              "outlinewidth": 0,
              "ticks": ""
             }
            },
            "type": "scattercarpet"
           }
          ],
          "scattergeo": [
           {
            "marker": {
             "colorbar": {
              "outlinewidth": 0,
              "ticks": ""
             }
            },
            "type": "scattergeo"
           }
          ],
          "scattergl": [
           {
            "marker": {
             "colorbar": {
              "outlinewidth": 0,
              "ticks": ""
             }
            },
            "type": "scattergl"
           }
          ],
          "scattermapbox": [
           {
            "marker": {
             "colorbar": {
              "outlinewidth": 0,
              "ticks": ""
             }
            },
            "type": "scattermapbox"
           }
          ],
          "scatterpolar": [
           {
            "marker": {
             "colorbar": {
              "outlinewidth": 0,
              "ticks": ""
             }
            },
            "type": "scatterpolar"
           }
          ],
          "scatterpolargl": [
           {
            "marker": {
             "colorbar": {
              "outlinewidth": 0,
              "ticks": ""
             }
            },
            "type": "scatterpolargl"
           }
          ],
          "scatterternary": [
           {
            "marker": {
             "colorbar": {
              "outlinewidth": 0,
              "ticks": ""
             }
            },
            "type": "scatterternary"
           }
          ],
          "surface": [
           {
            "colorbar": {
             "outlinewidth": 0,
             "ticks": ""
            },
            "colorscale": [
             [
              0,
              "#0d0887"
             ],
             [
              0.1111111111111111,
              "#46039f"
             ],
             [
              0.2222222222222222,
              "#7201a8"
             ],
             [
              0.3333333333333333,
              "#9c179e"
             ],
             [
              0.4444444444444444,
              "#bd3786"
             ],
             [
              0.5555555555555556,
              "#d8576b"
             ],
             [
              0.6666666666666666,
              "#ed7953"
             ],
             [
              0.7777777777777778,
              "#fb9f3a"
             ],
             [
              0.8888888888888888,
              "#fdca26"
             ],
             [
              1,
              "#f0f921"
             ]
            ],
            "type": "surface"
           }
          ],
          "table": [
           {
            "cells": {
             "fill": {
              "color": "#EBF0F8"
             },
             "line": {
              "color": "white"
             }
            },
            "header": {
             "fill": {
              "color": "#C8D4E3"
             },
             "line": {
              "color": "white"
             }
            },
            "type": "table"
           }
          ]
         },
         "layout": {
          "annotationdefaults": {
           "arrowcolor": "#2a3f5f",
           "arrowhead": 0,
           "arrowwidth": 1
          },
          "autotypenumbers": "strict",
          "coloraxis": {
           "colorbar": {
            "outlinewidth": 0,
            "ticks": ""
           }
          },
          "colorscale": {
           "diverging": [
            [
             0,
             "#8e0152"
            ],
            [
             0.1,
             "#c51b7d"
            ],
            [
             0.2,
             "#de77ae"
            ],
            [
             0.3,
             "#f1b6da"
            ],
            [
             0.4,
             "#fde0ef"
            ],
            [
             0.5,
             "#f7f7f7"
            ],
            [
             0.6,
             "#e6f5d0"
            ],
            [
             0.7,
             "#b8e186"
            ],
            [
             0.8,
             "#7fbc41"
            ],
            [
             0.9,
             "#4d9221"
            ],
            [
             1,
             "#276419"
            ]
           ],
           "sequential": [
            [
             0,
             "#0d0887"
            ],
            [
             0.1111111111111111,
             "#46039f"
            ],
            [
             0.2222222222222222,
             "#7201a8"
            ],
            [
             0.3333333333333333,
             "#9c179e"
            ],
            [
             0.4444444444444444,
             "#bd3786"
            ],
            [
             0.5555555555555556,
             "#d8576b"
            ],
            [
             0.6666666666666666,
             "#ed7953"
            ],
            [
             0.7777777777777778,
             "#fb9f3a"
            ],
            [
             0.8888888888888888,
             "#fdca26"
            ],
            [
             1,
             "#f0f921"
            ]
           ],
           "sequentialminus": [
            [
             0,
             "#0d0887"
            ],
            [
             0.1111111111111111,
             "#46039f"
            ],
            [
             0.2222222222222222,
             "#7201a8"
            ],
            [
             0.3333333333333333,
             "#9c179e"
            ],
            [
             0.4444444444444444,
             "#bd3786"
            ],
            [
             0.5555555555555556,
             "#d8576b"
            ],
            [
             0.6666666666666666,
             "#ed7953"
            ],
            [
             0.7777777777777778,
             "#fb9f3a"
            ],
            [
             0.8888888888888888,
             "#fdca26"
            ],
            [
             1,
             "#f0f921"
            ]
           ]
          },
          "colorway": [
           "#636efa",
           "#EF553B",
           "#00cc96",
           "#ab63fa",
           "#FFA15A",
           "#19d3f3",
           "#FF6692",
           "#B6E880",
           "#FF97FF",
           "#FECB52"
          ],
          "font": {
           "color": "#2a3f5f"
          },
          "geo": {
           "bgcolor": "white",
           "lakecolor": "white",
           "landcolor": "#E5ECF6",
           "showlakes": true,
           "showland": true,
           "subunitcolor": "white"
          },
          "hoverlabel": {
           "align": "left"
          },
          "hovermode": "closest",
          "mapbox": {
           "style": "light"
          },
          "paper_bgcolor": "white",
          "plot_bgcolor": "#E5ECF6",
          "polar": {
           "angularaxis": {
            "gridcolor": "white",
            "linecolor": "white",
            "ticks": ""
           },
           "bgcolor": "#E5ECF6",
           "radialaxis": {
            "gridcolor": "white",
            "linecolor": "white",
            "ticks": ""
           }
          },
          "scene": {
           "xaxis": {
            "backgroundcolor": "#E5ECF6",
            "gridcolor": "white",
            "gridwidth": 2,
            "linecolor": "white",
            "showbackground": true,
            "ticks": "",
            "zerolinecolor": "white"
           },
           "yaxis": {
            "backgroundcolor": "#E5ECF6",
            "gridcolor": "white",
            "gridwidth": 2,
            "linecolor": "white",
            "showbackground": true,
            "ticks": "",
            "zerolinecolor": "white"
           },
           "zaxis": {
            "backgroundcolor": "#E5ECF6",
            "gridcolor": "white",
            "gridwidth": 2,
            "linecolor": "white",
            "showbackground": true,
            "ticks": "",
            "zerolinecolor": "white"
           }
          },
          "shapedefaults": {
           "line": {
            "color": "#2a3f5f"
           }
          },
          "ternary": {
           "aaxis": {
            "gridcolor": "white",
            "linecolor": "white",
            "ticks": ""
           },
           "baxis": {
            "gridcolor": "white",
            "linecolor": "white",
            "ticks": ""
           },
           "bgcolor": "#E5ECF6",
           "caxis": {
            "gridcolor": "white",
            "linecolor": "white",
            "ticks": ""
           }
          },
          "title": {
           "x": 0.05
          },
          "xaxis": {
           "automargin": true,
           "gridcolor": "white",
           "linecolor": "white",
           "ticks": "",
           "title": {
            "standoff": 15
           },
           "zerolinecolor": "white",
           "zerolinewidth": 2
          },
          "yaxis": {
           "automargin": true,
           "gridcolor": "white",
           "linecolor": "white",
           "ticks": "",
           "title": {
            "standoff": 15
           },
           "zerolinecolor": "white",
           "zerolinewidth": 2
          }
         }
        },
        "title": {
         "text": "Production de fonte au cours du temps"
        },
        "xaxis": {
         "title": {
          "text": "Time (minutes)"
         }
        },
        "yaxis": {
         "title": {
          "text": "PFC (kg)"
         }
        }
       }
      }
     },
     "metadata": {},
     "output_type": "display_data"
    }
   ],
   "source": [
    "Plot_Prod(times, PFC_Prodvalues)"
   ]
  },
  {
   "cell_type": "code",
   "execution_count": null,
   "metadata": {},
   "outputs": [],
   "source": []
  },
  {
   "cell_type": "markdown",
   "metadata": {},
   "source": [
    "# Code 3"
   ]
  },
  {
   "cell_type": "code",
   "execution_count": null,
   "metadata": {},
   "outputs": [],
   "source": []
  },
  {
   "cell_type": "code",
   "execution_count": null,
   "metadata": {},
   "outputs": [],
   "source": []
  },
  {
   "cell_type": "markdown",
   "metadata": {},
   "source": [
    "On a 4000 kg de fontes dans le four de Coulée avec un pourcentage de Mg = 0.0045 %.\n",
    "On consonmme 36 Kg de fonte par minute dans le four de Coulée.\n",
    "On perd 0.005 % de Mg par minute.\n",
    "\n",
    "Tu es un mathématicien et tu dois Tracer la courbe d'évolution du Mg\n",
    "dans le four de Coulée. \n",
    "\n",
    "Si tu as des questions ou s'il te manque certaines informations, n'hésite pas à me les demander !!"
   ]
  },
  {
   "cell_type": "code",
   "execution_count": null,
   "metadata": {},
   "outputs": [],
   "source": []
  },
  {
   "cell_type": "code",
   "execution_count": 72,
   "metadata": {},
   "outputs": [],
   "source": [
    "import plotly.graph_objects as go\n",
    "import numpy as np\n",
    "\n",
    "def Plot_consom(times, PFC_values, tmin, tmax, PFCmin, PFCmax):\n",
    "\n",
    "    # Create Plotly figure\n",
    "    fig = go.Figure()\n",
    "\n",
    "    # Add PFC line\n",
    "    fig.add_trace(go.Scatter(x=times, y=PFC_values, mode='lines', name='PFC over time', line=dict(color='royalblue')))\n",
    "\n",
    "    # Add horizontal lines for PFCmin and PFCmax\n",
    "    fig.add_shape(type=\"line\", x0=tmin, y0=PFCmin, x1=tmax, y1=PFCmin, line=dict(color=\"firebrick\", width=2, dash=\"dash\"), name=\"PFCmin\")\n",
    "    \n",
    "    fig.add_shape(type=\"line\", x0=tmin, y0=PFCmax, x1=tmax, y1=PFCmax, line=dict(color=\"green\", width=2, dash=\"dash\"), name=\"PFCmax\")\n",
    "\n",
    "\n",
    "    # Customize layout\n",
    "    fig.update_layout(title='Consommation de fonte au cours du temps', xaxis_title='Time (minutes)', yaxis_title='PFC (kg)', template='plotly',\n",
    "        showlegend=False,annotations=[\n",
    "            dict(x=tmax,y=PFCmin,xref=\"x\",yref=\"y\",text=\"PFCmin\",showarrow=True,arrowhead=2,ax=20,ay=-30),\n",
    "            dict(x=tmax,y=PFCmax,xref=\"x\",yref=\"y\",text=\"PFCmax\",showarrow=True,arrowhead=2,ax=20,ay=-30)])\n",
    "\n",
    "    # Show the plot\n",
    "    fig.show()\n",
    "\n",
    "def Plot_Prod(times, PFC_values):\n",
    "\n",
    "    # Create Plotly figure\n",
    "    fig = go.Figure()\n",
    "\n",
    "    # Add PFC line\n",
    "    fig.add_trace(go.Scatter(x=times, y=PFC_values, mode='lines', name='PFC over time', line=dict(color='royalblue')))\n",
    "\n",
    "    # Customize layout\n",
    "    fig.update_layout(title='Production de fonte au cours du temps', xaxis_title='Time (minutes)', yaxis_title='PFC (kg)', template='plotly',\n",
    "        showlegend=False)\n",
    "\n",
    "    # Show the plot\n",
    "    fig.show()"
   ]
  },
  {
   "cell_type": "code",
   "execution_count": 82,
   "metadata": {},
   "outputs": [],
   "source": [
    "def update_production_chargement_et_fusion(t, temps_chargement, temps_fusion, numfours, fonte_produit, PFC_Prod):\n",
    "    \n",
    "    \"\"\"\n",
    "    Met à jour la production de fonte en fonction du temps écoulé lors du chargement et de la fusion.\n",
    "    \n",
    "    :param t: Temps actuel en minutes\n",
    "    :param Temps_chargement: Temps de chargement en minutes\n",
    "    :param Temps_fusion: Temps de fusion en minutes\n",
    "    :param numfours: Nombre de fours en production\n",
    "    :param Fonte_produit: Quantité de fonte produite par cycle en kg\n",
    "    :param PFC_Prod: Production actuelle de fonte en kg\n",
    "    :param poche: Paramètre optionnel, par défaut à 0\n",
    "    :return: Tuple (numfours, PFC_Prod) mis à jour\n",
    "    \"\"\"\n",
    "    # if t >= Temps_chargement + Temps_fusion:\n",
    "    if t >= temps_chargement + temps_fusion:\n",
    "        numfours += 1\n",
    "        PFC_Prod += fonte_produit\n",
    "    return numfours, PFC_Prod\n",
    "\n",
    "def calcule_chargement_et_fusion(times, PFC_Prodvalues, PFC_Consomvalues, fonte_produit, numfours, temps_chargement, temps_fusion):\n",
    "    \"\"\"\n",
    "    Calcule la consommation et la production de fonte du début du chargement à la fin de la 1ere fusion.\n",
    "    \"\"\"\n",
    "\n",
    "    PFC_Consom = PFC_Consomvalues[-1]\n",
    "    PFC_Prod = PFC_Prodvalues[-1]\n",
    "    t = times[-1]\n",
    "\n",
    "    # Mise à jour de la production de fonte après chargement\n",
    "    t += temps_chargement\n",
    "    numfours, PFC_Prod = update_production_chargement_et_fusion(t, temps_chargement, temps_fusion, numfours, fonte_produit, PFC_Prod)\n",
    "    PFC_Prodvalues.append(PFC_Prod)\n",
    "    PFC_Consomvalues.append(PFC_Consom)\n",
    "    times.append(t)\n",
    "\n",
    "\n",
    "    # # Mise à jour de la production de fonte entre debut/fin fusion\n",
    "    # t += temps_fusion-1\n",
    "    # numfours, PFC_Prod = update_production_chargement_et_fusion(t, temps_chargement, temps_fusion, numfours, fonte_produit, PFC_Prod)\n",
    "    # PFC_Prodvalues.append(PFC_Prod)\n",
    "    # PFC_Consomvalues.append(PFC_Consom)\n",
    "    # times.append(t)\n",
    "\n",
    "    # # Mise à jour de la production de fonte après fusion\n",
    "    # t += 1 \n",
    "    # numfours, PFC_Prod = update_production_chargement_et_fusion(t, temps_chargement, temps_fusion, numfours, fonte_produit, PFC_Prod)\n",
    "    # PFC_Prodvalues.append(PFC_Prod)\n",
    "    # PFC_Consomvalues.append(PFC_Consom)\n",
    "    # times.append(t)\n",
    "\n",
    "    # Mise à jour de la production de fonte après fusion\n",
    "    t += temps_fusion\n",
    "    numfours, PFC_Prod = update_production_chargement_et_fusion(t, temps_chargement, temps_fusion, numfours, fonte_produit, PFC_Prod)\n",
    "    PFC_Prodvalues.append(PFC_Prod)\n",
    "    PFC_Consomvalues.append(PFC_Consom)\n",
    "    times.append(t)\n",
    "\n",
    "    return times, PFC_Prodvalues, PFC_Consomvalues\n",
    "\n",
    "\n",
    "def update_production(t, temps_chargement, temps_fusion, numfours, fonte_produit, PFC_Prod, poche = 0):\n",
    "    \"\"\"\n",
    "    Met à jour la production de fonte en fonction du temps écoulé.\n",
    "    \"\"\"\n",
    "    if t > temps_chargement and (t - temps_chargement) % temps_fusion == 0:\n",
    "        numfours += 1\n",
    "        PFC_Prod += fonte_produit\n",
    "    # print(t,numfours)\n",
    "    PFC_Prod -= poche\n",
    "    return numfours, PFC_Prod\n",
    "\n",
    "\n",
    "def calcule_Transitoire(times, PFC_Prodvalues, PFC_Consomvalues, fonte_produit, numfours, temps_chargement, temps_fusion):\n",
    "    \"\"\"\n",
    "    Calcule la consommation et la production de fonte lors des 3 premieres poches (Régime Transitoire).\n",
    "    \"\"\"\n",
    "    temps_poche_1, temps_poche_2, temps_poche_3 = 10, 10, 10 # temps traitement\n",
    "    poche_1, poche_2, poche_3 = 1250, 1250, 1250\n",
    "\n",
    "    PFC_Consom = PFC_Consomvalues[-1]\n",
    "    PFC_Prod = PFC_Prodvalues[-1]\n",
    "    t = times[-1]\n",
    "\n",
    "    \n",
    "    t += temps_poche_1\n",
    "    PFC_Consom += poche_1 \n",
    "\n",
    "    # Mise à jour de la production et consommation de fonte\n",
    "    numfours, PFC_Prod = update_production(t, temps_chargement, temps_fusion, numfours, fonte_produit, PFC_Prod, poche_1)\n",
    "    PFC_Prodvalues.append(PFC_Prod)\n",
    "    PFC_Consomvalues.append(PFC_Consom)\n",
    "    times.append(t)\n",
    "\n",
    "\n",
    "    t += temps_poche_2\n",
    "    # Mise à jour de la consommation de fonte\n",
    "    PFC_Consom += poche_2 \n",
    "    PFC_Consomvalues.append(PFC_Consom)\n",
    "    \n",
    "    # Mise à jour de la production de fonte\n",
    "    numfours, PFC_Prod = update_production(t, temps_chargement, temps_fusion, numfours, fonte_produit, PFC_Prod, poche_2)\n",
    "    PFC_Prodvalues.append(PFC_Prod)\n",
    "    times.append(t)\n",
    "\n",
    "\n",
    "    t += temps_poche_3\n",
    "    # Mise à jour de la consommation de fonte\n",
    "    PFC_Consom += poche_3 \n",
    "    PFC_Consomvalues.append(PFC_Consom)\n",
    "    \n",
    "    # Mise à jour de la production de fonte\n",
    "    numfours, PFC_Prod = update_production(t, temps_chargement, temps_fusion, numfours, fonte_produit, PFC_Prod, poche_3)\n",
    "    PFC_Prodvalues.append(PFC_Prod)\n",
    "    times.append(t)\n",
    "\n",
    "    return times, PFC_Prodvalues,PFC_Consomvalues\n"
   ]
  },
  {
   "cell_type": "code",
   "execution_count": null,
   "metadata": {},
   "outputs": [],
   "source": []
  },
  {
   "cell_type": "code",
   "execution_count": null,
   "metadata": {},
   "outputs": [],
   "source": []
  },
  {
   "cell_type": "code",
   "execution_count": null,
   "metadata": {},
   "outputs": [],
   "source": [
    "def calculer_temps_poche_4(liste_masse_grappe, liste_quantite_mottes, nb_moules_heure, PFC_Consom, temps_traitement, Mg, Mgmin, eC, PFCmin):\n",
    "    \"\"\"\n",
    "    Calcule le temps pour la poche 4 en fonction des paramètres donnés.\n",
    "\n",
    "    :param liste_masse_grappe: Liste des masses des grappes\n",
    "    :param liste_quantite_mottes: Liste des quantités de mottes\n",
    "    :param nb_moules_heure: Nombre de moules par heure\n",
    "    :param PFC_Consom: Consommation de fonte en kg\n",
    "    :param temps_traitement: Temps de traitement en minutes\n",
    "    :param Mg: Masse de la grappe\n",
    "    :param Mgmin: Masse minimale de la grappe\n",
    "    :param eC: Coefficient de consommation\n",
    "    :param PFCmin: Consommation minimale de fonte\n",
    "    :return: Temps de la poche 4\n",
    "    \"\"\"\n",
    "    temps_poche_4 = 0\n",
    "    PFC_ConsomTst = PFC_Consom\n",
    "\n",
    "    for masse_grappe, quantite_mottes in zip(liste_masse_grappe, liste_quantite_mottes):\n",
    "        for _ in range(quantite_mottes):\n",
    "            cadence = calculate_cadence_per_minute(nb_moules_heure, masse_grappe)\n",
    "            temps_poche_i = calcule_temps_poche_i(PFC_Consom, cadence, temps_traitement, Mg, Mgmin, eC)\n",
    "            \n",
    "            PFC_ConsomTst -= cadence\n",
    "            if PFC_ConsomTst > PFCmin:\n",
    "                temps_poche_i += 1\n",
    "                temps_poche_4 = temps_poche_i\n",
    "                print(PFC_ConsomTst, temps_poche_4)\n",
    "            else:\n",
    "                # Arrêter la double boucle\n",
    "                return temps_poche_4\n",
    "\n",
    "    return temps_poche_4\n",
    "\n"
   ]
  },
  {
   "cell_type": "code",
   "execution_count": null,
   "metadata": {},
   "outputs": [],
   "source": []
  },
  {
   "cell_type": "code",
   "execution_count": null,
   "metadata": {},
   "outputs": [],
   "source": []
  },
  {
   "cell_type": "code",
   "execution_count": null,
   "metadata": {},
   "outputs": [],
   "source": []
  },
  {
   "cell_type": "code",
   "execution_count": null,
   "metadata": {},
   "outputs": [],
   "source": []
  },
  {
   "cell_type": "code",
   "execution_count": 83,
   "metadata": {},
   "outputs": [],
   "source": [
    "\n",
    "def calculate_cadence_per_minute(nb_moules_heure, masse_grappe):\n",
    "    \"\"\"\n",
    "    Calcule la cadence de consommation de fonte par minute.\n",
    "    \"\"\"\n",
    "    return nb_moules_heure / 60 * masse_grappe\n",
    "\n",
    "def update_production(t, Temps_chargement, Temps_fusion, numfours, Fonte_produit, PFC_Prod, poche = 0):\n",
    "    \"\"\"\n",
    "    Met à jour la production de fonte en fonction du temps écoulé.\n",
    "    \"\"\"\n",
    "    if t > Temps_chargement and (t - Temps_chargement) % Temps_fusion == 0:\n",
    "        numfours += 1\n",
    "        PFC_Prod += Fonte_produit\n",
    "    # print(t,numfours)\n",
    "    PFC_Prod -= poche\n",
    "    return numfours, PFC_Prod\n",
    "\n",
    "def calcule_temps_poche_i(PFC_Consom, cadence, temps_traitement, Mg, Mgmin, eC):\n",
    "\n",
    "    # Temps en minute admissible avant l'ajout dans le four de maintien\n",
    "    # avant d'atteindre la fonte minimal (en Kg) dans le four de maintien\n",
    "    fonte_four_consommable = PFC_Consom - PFCmin\n",
    "    temps_epuis_fonte = fonte_four_consommable/cadence\n",
    "\n",
    "\n",
    "\n",
    "\n",
    "    # Temps en minute admissible avant l'ajout dans le four de maintien\n",
    "    # avant d'atteindre le pourcentage minimal (%) dans le four de maintien\n",
    "    Mgconsommable = Mg - Mgmin\n",
    "    temps_epuis_mg = Mgconsommable/eC\n",
    "\n",
    "    temps_epuis = min(temps_epuis_fonte,temps_epuis_mg)\n",
    "\n",
    "    # print(temps_epuis_fonte, temps_epuis_mg)\n",
    "\n",
    "    temps_poche_i = int(np.ceil(temps_traitement + temps_epuis))\n",
    "    # temps_poche_i = int(np.floor(temps_traitement + temps_epuis))\n",
    "    return temps_poche_i\n",
    "\n",
    "def ProdConsom(liste_masse_grappe, liste_quantite_mottes, nb_moules_heure, t_serie, temps_fusion, temps_chargement, temps_traitement, Mg, Mgmin,Mgmax, eC):\n",
    "    \"\"\"\n",
    "    Calcule la consommation et la production de fonte.\n",
    "    \"\"\"\n",
    "    # Initialisation des variables\n",
    "    numfours = 0\n",
    "    fonte_produit = 5000  # Fonte produite toutes les 45 min en kg\n",
    "    PFC_Prodvalues = [0]  # Production de fonte en kg\n",
    "    PFC_Consomvalues = [0]  # Consommation de fonte en kg\n",
    "    times = [0]  # Temps en minutes\n",
    "\n",
    "    times, PFC_Prodvalues,PFC_Consomvalues = calcule_chargement_et_fusion(times, PFC_Prodvalues, PFC_Consomvalues, fonte_produit, numfours, temps_chargement, temps_fusion)\n",
    "\n",
    "    times, PFC_Prodvalues,PFC_Consomvalues = calcule_Transitoire(times, PFC_Prodvalues, PFC_Consomvalues, fonte_produit, numfours, temps_chargement, temps_fusion)\n",
    "   \n",
    "\n",
    "\n",
    "\n",
    "\n",
    "\n",
    "\n",
    "\n",
    "\n",
    "    PFC_Prod = PFC_Prodvalues[-1]\n",
    "    PFC_Consom = PFC_Consomvalues[-1]\n",
    "    t = times[-1]\n",
    "    Listetemps_poche_i = []\n",
    "\n",
    "    PFC_ConsomTst = PFC_Consom\n",
    "    temps_poche_i = 0\n",
    "\n",
    "    # Pour trouver le temps de la poche 4\n",
    "    for masse_grappe, quantite_mottes in zip(liste_masse_grappe, liste_quantite_mottes):\n",
    "        for _ in range(quantite_mottes):\n",
    "            cadence =  calculate_cadence_per_minute(nb_moules_heure, masse_grappe)\n",
    "            temps_poche_i = calcule_temps_poche_i(PFC_Consom, cadence, temps_traitement, Mg, Mgmin, eC)\n",
    "        \n",
    "            # print(Listetemps_poche_i,t)\n",
    "            # print(PFC_Consom)\n",
    "            PFC_ConsomTst -= cadence  \n",
    "            if PFC_ConsomTst  > PFCmin : \n",
    "                temps_poche_i += 1\n",
    "                print(PFC_ConsomTst,temps_poche_i)\n",
    "            else :\n",
    "                break\n",
    "\n",
    "\n",
    "\n",
    "    t_avantpoche_i = t\n",
    "    poche_i = 1250\n",
    "    \n",
    "    # print(PFC_Consom,t,temps_poche_i)\n",
    "\n",
    "    Listetemps_poche_i.append(temps_poche_i)\n",
    "\n",
    "    # Boucle principale consomation et production\n",
    "    for masse_grappe, quantite_mottes in zip(liste_masse_grappe, liste_quantite_mottes):\n",
    "        for _ in range(quantite_mottes):\n",
    "\n",
    "            # Mise à jour de la consommation de fonte\n",
    "            cadence = calculate_cadence_per_minute(nb_moules_heure, masse_grappe)\n",
    "            PFC_Consom -= cadence  \n",
    "            # print(PFC_Consom,t)\n",
    "\n",
    "\n",
    "            # Quand ajout poche_i\n",
    "            if t == (Listetemps_poche_i[-1] + t_avantpoche_i) :\n",
    "                temps_poche_i = calcule_temps_poche_i(PFC_Consom, cadence, temps_traitement, Mg, Mgmin, eC)\n",
    "                Listetemps_poche_i.append(temps_poche_i)\n",
    "                # print(Listetemps_poche_i,t)\n",
    "\n",
    "                # print(PFC_Consom,t)\n",
    "\n",
    "                t_avantpoche_i = t\n",
    "                # Mise à jour de la production de fonte\n",
    "                numfours, PFC_Prod = update_production(t, temps_chargement, temps_fusion, numfours, fonte_produit, PFC_Prod,poche_i)\n",
    "                Mg = Mgmax\n",
    "                # Mise à jour de la production de fonte\n",
    "                PFC_Consom += poche_i\n",
    "\n",
    "            else :\n",
    "                numfours, PFC_Prod = update_production(t, temps_chargement, temps_fusion, numfours, fonte_produit, PFC_Prod)\n",
    "            \n",
    "\n",
    "            # numfours, PFC_Prod = update_production(t, temps_chargement, temps_fusion, numfours, fonte_produit, PFC_Prod)\n",
    "\n",
    "            # Mise à jour du temps\n",
    "            t += 1\n",
    "            times.append(t)\n",
    "            PFC_Prodvalues.append(PFC_Prod)\n",
    "            PFC_Consomvalues.append(PFC_Consom)\n",
    "\n",
    "\n",
    "\n",
    "        t += t_serie\n",
    "        times.append(t)\n",
    "        PFC_Consomvalues.append(PFC_Consom)\n",
    "\n",
    "        # Mise à jour de la production de fonte\n",
    "        numfours, PFC_Prod = update_production(t, temps_chargement, temps_fusion, numfours, fonte_produit, PFC_Prod)\n",
    "        PFC_Prodvalues.append(PFC_Prod)\n",
    "\n",
    "\n",
    "\n",
    "    tmin = times[0]\n",
    "    tmax = times[-1]\n",
    "    return times, PFC_Consomvalues, PFC_Prodvalues, tmin, tmax\n"
   ]
  },
  {
   "cell_type": "code",
   "execution_count": 84,
   "metadata": {},
   "outputs": [
    {
     "name": "stdout",
     "output_type": "stream",
     "text": [
      "3656.6666666666665 25\n",
      "3563.333333333333 25\n",
      "3469.9999999999995 25\n",
      "3376.666666666666 25\n",
      "3283.3333333333326 25\n",
      "3189.999999999999 25\n",
      "3096.6666666666656 25\n",
      "3003.333333333332 25\n",
      "2909.9999999999986 25\n",
      "2816.666666666665 25\n",
      "2723.3333333333317 25\n",
      "2629.999999999998 25\n",
      "2536.6666666666647 25\n"
     ]
    }
   ],
   "source": [
    "nb_fours = 6 # 8-9 fours pour HWS, 6 fours pour DiSA\n",
    "temps_fusion = 45 # en min\n",
    "temps_chargement = 30 # 30 - 45  min\n",
    "\n",
    "# Les valeurs d'entrée Input \n",
    "\n",
    "nb_moules_heure = 160 \n",
    "t_serie = 5 # 5 min\n",
    "\n",
    "PFCmin = 2500 # en kg\n",
    "PFCmax = 4000 # en kg\n",
    "\n",
    "Mgmin = 0.035 # en %\n",
    "Mgmax = 0.045 # en %\n",
    "eC = 0.0005 # en %\n",
    "temps_traitement = 10  # en  min\n",
    "\n",
    "\n",
    "\n",
    "Mg = Mgmax\n",
    "\n",
    "liste_masse_grappe = [35, 35, 35, 35] # en kg\n",
    "liste_quantite_mottes = [50, 50, 50, 50]\n",
    "\n",
    "liste_masse_grappe = [35] # en kg\n",
    "liste_quantite_mottes = [200]\n",
    "\n",
    "times, PFC_Consomvalues, PFC_Prodvalues, tmin, tmax = ProdConsom(liste_masse_grappe, liste_quantite_mottes, nb_moules_heure, t_serie, temps_fusion, temps_chargement, temps_traitement, Mg, Mgmin,Mgmax, eC)"
   ]
  },
  {
   "cell_type": "code",
   "execution_count": 85,
   "metadata": {},
   "outputs": [
    {
     "data": {
      "application/vnd.plotly.v1+json": {
       "config": {
        "plotlyServerURL": "https://plot.ly"
       },
       "data": [
        {
         "line": {
          "color": "royalblue"
         },
         "mode": "lines",
         "name": "PFC over time",
         "type": "scatter",
         "x": [
          0,
          30,
          75,
          85,
          95,
          105,
          106,
          107,
          108,
          109,
          110,
          111,
          112,
          113,
          114,
          115,
          116,
          117,
          118,
          119,
          120,
          121,
          122,
          123,
          124,
          125,
          126,
          127,
          128,
          129,
          130,
          131,
          132,
          133,
          134,
          135,
          136,
          137,
          138,
          139,
          140,
          141,
          142,
          143,
          144,
          145,
          146,
          147,
          148,
          149,
          150,
          151,
          152,
          153,
          154,
          155,
          156,
          157,
          158,
          159,
          160,
          161,
          162,
          163,
          164,
          165,
          166,
          167,
          168,
          169,
          170,
          171,
          172,
          173,
          174,
          175,
          176,
          177,
          178,
          179,
          180,
          181,
          182,
          183,
          184,
          185,
          186,
          187,
          188,
          189,
          190,
          191,
          192,
          193,
          194,
          195,
          196,
          197,
          198,
          199,
          200,
          201,
          202,
          203,
          204,
          205,
          206,
          207,
          208,
          209,
          210,
          211,
          212,
          213,
          214,
          215,
          216,
          217,
          218,
          219,
          220,
          221,
          222,
          223,
          224,
          225,
          226,
          227,
          228,
          229,
          230,
          231,
          232,
          233,
          234,
          235,
          236,
          237,
          238,
          239,
          240,
          241,
          242,
          243,
          244,
          245,
          246,
          247,
          248,
          249,
          250,
          251,
          252,
          253,
          254,
          255,
          256,
          257,
          258,
          259,
          260,
          261,
          262,
          263,
          264,
          265,
          266,
          267,
          268,
          269,
          270,
          271,
          272,
          273,
          274,
          275,
          276,
          277,
          278,
          279,
          280,
          281,
          282,
          283,
          284,
          285,
          286,
          287,
          288,
          289,
          290,
          291,
          292,
          293,
          294,
          295,
          296,
          297,
          298,
          299,
          300,
          301,
          302,
          303,
          304,
          305,
          310
         ],
         "y": [
          0,
          0,
          5000,
          3750,
          2500,
          1250,
          1250,
          1250,
          1250,
          1250,
          1250,
          1250,
          1250,
          1250,
          1250,
          1250,
          1250,
          1250,
          1250,
          1250,
          1250,
          6250,
          6250,
          6250,
          6250,
          6250,
          6250,
          6250,
          6250,
          6250,
          5000,
          5000,
          5000,
          5000,
          5000,
          5000,
          5000,
          5000,
          5000,
          5000,
          5000,
          5000,
          5000,
          5000,
          5000,
          5000,
          5000,
          5000,
          5000,
          5000,
          5000,
          5000,
          5000,
          5000,
          5000,
          5000,
          5000,
          5000,
          5000,
          5000,
          5000,
          5000,
          5000,
          5000,
          5000,
          5000,
          10000,
          10000,
          10000,
          10000,
          10000,
          10000,
          10000,
          10000,
          10000,
          10000,
          10000,
          10000,
          10000,
          10000,
          10000,
          10000,
          10000,
          10000,
          10000,
          10000,
          10000,
          10000,
          10000,
          10000,
          10000,
          10000,
          10000,
          10000,
          10000,
          10000,
          10000,
          10000,
          10000,
          10000,
          10000,
          10000,
          10000,
          10000,
          10000,
          10000,
          10000,
          10000,
          10000,
          10000,
          10000,
          15000,
          15000,
          15000,
          15000,
          15000,
          15000,
          15000,
          15000,
          15000,
          15000,
          15000,
          15000,
          15000,
          15000,
          15000,
          15000,
          15000,
          15000,
          15000,
          15000,
          15000,
          15000,
          15000,
          15000,
          15000,
          15000,
          15000,
          15000,
          15000,
          15000,
          15000,
          15000,
          15000,
          15000,
          15000,
          15000,
          15000,
          15000,
          15000,
          15000,
          15000,
          15000,
          15000,
          15000,
          15000,
          20000,
          20000,
          20000,
          20000,
          20000,
          20000,
          20000,
          20000,
          20000,
          20000,
          20000,
          20000,
          20000,
          20000,
          20000,
          20000,
          20000,
          20000,
          20000,
          20000,
          20000,
          20000,
          20000,
          20000,
          20000,
          20000,
          20000,
          20000,
          20000,
          20000,
          20000,
          20000,
          20000,
          20000,
          20000,
          20000,
          20000,
          20000,
          20000,
          20000,
          20000,
          20000,
          20000,
          20000,
          20000,
          25000,
          25000,
          25000,
          25000,
          25000,
          25000
         ]
        }
       ],
       "layout": {
        "showlegend": false,
        "template": {
         "data": {
          "bar": [
           {
            "error_x": {
             "color": "#2a3f5f"
            },
            "error_y": {
             "color": "#2a3f5f"
            },
            "marker": {
             "line": {
              "color": "#E5ECF6",
              "width": 0.5
             },
             "pattern": {
              "fillmode": "overlay",
              "size": 10,
              "solidity": 0.2
             }
            },
            "type": "bar"
           }
          ],
          "barpolar": [
           {
            "marker": {
             "line": {
              "color": "#E5ECF6",
              "width": 0.5
             },
             "pattern": {
              "fillmode": "overlay",
              "size": 10,
              "solidity": 0.2
             }
            },
            "type": "barpolar"
           }
          ],
          "carpet": [
           {
            "aaxis": {
             "endlinecolor": "#2a3f5f",
             "gridcolor": "white",
             "linecolor": "white",
             "minorgridcolor": "white",
             "startlinecolor": "#2a3f5f"
            },
            "baxis": {
             "endlinecolor": "#2a3f5f",
             "gridcolor": "white",
             "linecolor": "white",
             "minorgridcolor": "white",
             "startlinecolor": "#2a3f5f"
            },
            "type": "carpet"
           }
          ],
          "choropleth": [
           {
            "colorbar": {
             "outlinewidth": 0,
             "ticks": ""
            },
            "type": "choropleth"
           }
          ],
          "contour": [
           {
            "colorbar": {
             "outlinewidth": 0,
             "ticks": ""
            },
            "colorscale": [
             [
              0,
              "#0d0887"
             ],
             [
              0.1111111111111111,
              "#46039f"
             ],
             [
              0.2222222222222222,
              "#7201a8"
             ],
             [
              0.3333333333333333,
              "#9c179e"
             ],
             [
              0.4444444444444444,
              "#bd3786"
             ],
             [
              0.5555555555555556,
              "#d8576b"
             ],
             [
              0.6666666666666666,
              "#ed7953"
             ],
             [
              0.7777777777777778,
              "#fb9f3a"
             ],
             [
              0.8888888888888888,
              "#fdca26"
             ],
             [
              1,
              "#f0f921"
             ]
            ],
            "type": "contour"
           }
          ],
          "contourcarpet": [
           {
            "colorbar": {
             "outlinewidth": 0,
             "ticks": ""
            },
            "type": "contourcarpet"
           }
          ],
          "heatmap": [
           {
            "colorbar": {
             "outlinewidth": 0,
             "ticks": ""
            },
            "colorscale": [
             [
              0,
              "#0d0887"
             ],
             [
              0.1111111111111111,
              "#46039f"
             ],
             [
              0.2222222222222222,
              "#7201a8"
             ],
             [
              0.3333333333333333,
              "#9c179e"
             ],
             [
              0.4444444444444444,
              "#bd3786"
             ],
             [
              0.5555555555555556,
              "#d8576b"
             ],
             [
              0.6666666666666666,
              "#ed7953"
             ],
             [
              0.7777777777777778,
              "#fb9f3a"
             ],
             [
              0.8888888888888888,
              "#fdca26"
             ],
             [
              1,
              "#f0f921"
             ]
            ],
            "type": "heatmap"
           }
          ],
          "heatmapgl": [
           {
            "colorbar": {
             "outlinewidth": 0,
             "ticks": ""
            },
            "colorscale": [
             [
              0,
              "#0d0887"
             ],
             [
              0.1111111111111111,
              "#46039f"
             ],
             [
              0.2222222222222222,
              "#7201a8"
             ],
             [
              0.3333333333333333,
              "#9c179e"
             ],
             [
              0.4444444444444444,
              "#bd3786"
             ],
             [
              0.5555555555555556,
              "#d8576b"
             ],
             [
              0.6666666666666666,
              "#ed7953"
             ],
             [
              0.7777777777777778,
              "#fb9f3a"
             ],
             [
              0.8888888888888888,
              "#fdca26"
             ],
             [
              1,
              "#f0f921"
             ]
            ],
            "type": "heatmapgl"
           }
          ],
          "histogram": [
           {
            "marker": {
             "pattern": {
              "fillmode": "overlay",
              "size": 10,
              "solidity": 0.2
             }
            },
            "type": "histogram"
           }
          ],
          "histogram2d": [
           {
            "colorbar": {
             "outlinewidth": 0,
             "ticks": ""
            },
            "colorscale": [
             [
              0,
              "#0d0887"
             ],
             [
              0.1111111111111111,
              "#46039f"
             ],
             [
              0.2222222222222222,
              "#7201a8"
             ],
             [
              0.3333333333333333,
              "#9c179e"
             ],
             [
              0.4444444444444444,
              "#bd3786"
             ],
             [
              0.5555555555555556,
              "#d8576b"
             ],
             [
              0.6666666666666666,
              "#ed7953"
             ],
             [
              0.7777777777777778,
              "#fb9f3a"
             ],
             [
              0.8888888888888888,
              "#fdca26"
             ],
             [
              1,
              "#f0f921"
             ]
            ],
            "type": "histogram2d"
           }
          ],
          "histogram2dcontour": [
           {
            "colorbar": {
             "outlinewidth": 0,
             "ticks": ""
            },
            "colorscale": [
             [
              0,
              "#0d0887"
             ],
             [
              0.1111111111111111,
              "#46039f"
             ],
             [
              0.2222222222222222,
              "#7201a8"
             ],
             [
              0.3333333333333333,
              "#9c179e"
             ],
             [
              0.4444444444444444,
              "#bd3786"
             ],
             [
              0.5555555555555556,
              "#d8576b"
             ],
             [
              0.6666666666666666,
              "#ed7953"
             ],
             [
              0.7777777777777778,
              "#fb9f3a"
             ],
             [
              0.8888888888888888,
              "#fdca26"
             ],
             [
              1,
              "#f0f921"
             ]
            ],
            "type": "histogram2dcontour"
           }
          ],
          "mesh3d": [
           {
            "colorbar": {
             "outlinewidth": 0,
             "ticks": ""
            },
            "type": "mesh3d"
           }
          ],
          "parcoords": [
           {
            "line": {
             "colorbar": {
              "outlinewidth": 0,
              "ticks": ""
             }
            },
            "type": "parcoords"
           }
          ],
          "pie": [
           {
            "automargin": true,
            "type": "pie"
           }
          ],
          "scatter": [
           {
            "fillpattern": {
             "fillmode": "overlay",
             "size": 10,
             "solidity": 0.2
            },
            "type": "scatter"
           }
          ],
          "scatter3d": [
           {
            "line": {
             "colorbar": {
              "outlinewidth": 0,
              "ticks": ""
             }
            },
            "marker": {
             "colorbar": {
              "outlinewidth": 0,
              "ticks": ""
             }
            },
            "type": "scatter3d"
           }
          ],
          "scattercarpet": [
           {
            "marker": {
             "colorbar": {
              "outlinewidth": 0,
              "ticks": ""
             }
            },
            "type": "scattercarpet"
           }
          ],
          "scattergeo": [
           {
            "marker": {
             "colorbar": {
              "outlinewidth": 0,
              "ticks": ""
             }
            },
            "type": "scattergeo"
           }
          ],
          "scattergl": [
           {
            "marker": {
             "colorbar": {
              "outlinewidth": 0,
              "ticks": ""
             }
            },
            "type": "scattergl"
           }
          ],
          "scattermapbox": [
           {
            "marker": {
             "colorbar": {
              "outlinewidth": 0,
              "ticks": ""
             }
            },
            "type": "scattermapbox"
           }
          ],
          "scatterpolar": [
           {
            "marker": {
             "colorbar": {
              "outlinewidth": 0,
              "ticks": ""
             }
            },
            "type": "scatterpolar"
           }
          ],
          "scatterpolargl": [
           {
            "marker": {
             "colorbar": {
              "outlinewidth": 0,
              "ticks": ""
             }
            },
            "type": "scatterpolargl"
           }
          ],
          "scatterternary": [
           {
            "marker": {
             "colorbar": {
              "outlinewidth": 0,
              "ticks": ""
             }
            },
            "type": "scatterternary"
           }
          ],
          "surface": [
           {
            "colorbar": {
             "outlinewidth": 0,
             "ticks": ""
            },
            "colorscale": [
             [
              0,
              "#0d0887"
             ],
             [
              0.1111111111111111,
              "#46039f"
             ],
             [
              0.2222222222222222,
              "#7201a8"
             ],
             [
              0.3333333333333333,
              "#9c179e"
             ],
             [
              0.4444444444444444,
              "#bd3786"
             ],
             [
              0.5555555555555556,
              "#d8576b"
             ],
             [
              0.6666666666666666,
              "#ed7953"
             ],
             [
              0.7777777777777778,
              "#fb9f3a"
             ],
             [
              0.8888888888888888,
              "#fdca26"
             ],
             [
              1,
              "#f0f921"
             ]
            ],
            "type": "surface"
           }
          ],
          "table": [
           {
            "cells": {
             "fill": {
              "color": "#EBF0F8"
             },
             "line": {
              "color": "white"
             }
            },
            "header": {
             "fill": {
              "color": "#C8D4E3"
             },
             "line": {
              "color": "white"
             }
            },
            "type": "table"
           }
          ]
         },
         "layout": {
          "annotationdefaults": {
           "arrowcolor": "#2a3f5f",
           "arrowhead": 0,
           "arrowwidth": 1
          },
          "autotypenumbers": "strict",
          "coloraxis": {
           "colorbar": {
            "outlinewidth": 0,
            "ticks": ""
           }
          },
          "colorscale": {
           "diverging": [
            [
             0,
             "#8e0152"
            ],
            [
             0.1,
             "#c51b7d"
            ],
            [
             0.2,
             "#de77ae"
            ],
            [
             0.3,
             "#f1b6da"
            ],
            [
             0.4,
             "#fde0ef"
            ],
            [
             0.5,
             "#f7f7f7"
            ],
            [
             0.6,
             "#e6f5d0"
            ],
            [
             0.7,
             "#b8e186"
            ],
            [
             0.8,
             "#7fbc41"
            ],
            [
             0.9,
             "#4d9221"
            ],
            [
             1,
             "#276419"
            ]
           ],
           "sequential": [
            [
             0,
             "#0d0887"
            ],
            [
             0.1111111111111111,
             "#46039f"
            ],
            [
             0.2222222222222222,
             "#7201a8"
            ],
            [
             0.3333333333333333,
             "#9c179e"
            ],
            [
             0.4444444444444444,
             "#bd3786"
            ],
            [
             0.5555555555555556,
             "#d8576b"
            ],
            [
             0.6666666666666666,
             "#ed7953"
            ],
            [
             0.7777777777777778,
             "#fb9f3a"
            ],
            [
             0.8888888888888888,
             "#fdca26"
            ],
            [
             1,
             "#f0f921"
            ]
           ],
           "sequentialminus": [
            [
             0,
             "#0d0887"
            ],
            [
             0.1111111111111111,
             "#46039f"
            ],
            [
             0.2222222222222222,
             "#7201a8"
            ],
            [
             0.3333333333333333,
             "#9c179e"
            ],
            [
             0.4444444444444444,
             "#bd3786"
            ],
            [
             0.5555555555555556,
             "#d8576b"
            ],
            [
             0.6666666666666666,
             "#ed7953"
            ],
            [
             0.7777777777777778,
             "#fb9f3a"
            ],
            [
             0.8888888888888888,
             "#fdca26"
            ],
            [
             1,
             "#f0f921"
            ]
           ]
          },
          "colorway": [
           "#636efa",
           "#EF553B",
           "#00cc96",
           "#ab63fa",
           "#FFA15A",
           "#19d3f3",
           "#FF6692",
           "#B6E880",
           "#FF97FF",
           "#FECB52"
          ],
          "font": {
           "color": "#2a3f5f"
          },
          "geo": {
           "bgcolor": "white",
           "lakecolor": "white",
           "landcolor": "#E5ECF6",
           "showlakes": true,
           "showland": true,
           "subunitcolor": "white"
          },
          "hoverlabel": {
           "align": "left"
          },
          "hovermode": "closest",
          "mapbox": {
           "style": "light"
          },
          "paper_bgcolor": "white",
          "plot_bgcolor": "#E5ECF6",
          "polar": {
           "angularaxis": {
            "gridcolor": "white",
            "linecolor": "white",
            "ticks": ""
           },
           "bgcolor": "#E5ECF6",
           "radialaxis": {
            "gridcolor": "white",
            "linecolor": "white",
            "ticks": ""
           }
          },
          "scene": {
           "xaxis": {
            "backgroundcolor": "#E5ECF6",
            "gridcolor": "white",
            "gridwidth": 2,
            "linecolor": "white",
            "showbackground": true,
            "ticks": "",
            "zerolinecolor": "white"
           },
           "yaxis": {
            "backgroundcolor": "#E5ECF6",
            "gridcolor": "white",
            "gridwidth": 2,
            "linecolor": "white",
            "showbackground": true,
            "ticks": "",
            "zerolinecolor": "white"
           },
           "zaxis": {
            "backgroundcolor": "#E5ECF6",
            "gridcolor": "white",
            "gridwidth": 2,
            "linecolor": "white",
            "showbackground": true,
            "ticks": "",
            "zerolinecolor": "white"
           }
          },
          "shapedefaults": {
           "line": {
            "color": "#2a3f5f"
           }
          },
          "ternary": {
           "aaxis": {
            "gridcolor": "white",
            "linecolor": "white",
            "ticks": ""
           },
           "baxis": {
            "gridcolor": "white",
            "linecolor": "white",
            "ticks": ""
           },
           "bgcolor": "#E5ECF6",
           "caxis": {
            "gridcolor": "white",
            "linecolor": "white",
            "ticks": ""
           }
          },
          "title": {
           "x": 0.05
          },
          "xaxis": {
           "automargin": true,
           "gridcolor": "white",
           "linecolor": "white",
           "ticks": "",
           "title": {
            "standoff": 15
           },
           "zerolinecolor": "white",
           "zerolinewidth": 2
          },
          "yaxis": {
           "automargin": true,
           "gridcolor": "white",
           "linecolor": "white",
           "ticks": "",
           "title": {
            "standoff": 15
           },
           "zerolinecolor": "white",
           "zerolinewidth": 2
          }
         }
        },
        "title": {
         "text": "Production de fonte au cours du temps"
        },
        "xaxis": {
         "title": {
          "text": "Time (minutes)"
         }
        },
        "yaxis": {
         "title": {
          "text": "PFC (kg)"
         }
        }
       }
      }
     },
     "metadata": {},
     "output_type": "display_data"
    },
    {
     "data": {
      "application/vnd.plotly.v1+json": {
       "config": {
        "plotlyServerURL": "https://plot.ly"
       },
       "data": [
        {
         "line": {
          "color": "royalblue"
         },
         "mode": "lines",
         "name": "PFC over time",
         "type": "scatter",
         "x": [
          0,
          30,
          75,
          85,
          95,
          105,
          106,
          107,
          108,
          109,
          110,
          111,
          112,
          113,
          114,
          115,
          116,
          117,
          118,
          119,
          120,
          121,
          122,
          123,
          124,
          125,
          126,
          127,
          128,
          129,
          130,
          131,
          132,
          133,
          134,
          135,
          136,
          137,
          138,
          139,
          140,
          141,
          142,
          143,
          144,
          145,
          146,
          147,
          148,
          149,
          150,
          151,
          152,
          153,
          154,
          155,
          156,
          157,
          158,
          159,
          160,
          161,
          162,
          163,
          164,
          165,
          166,
          167,
          168,
          169,
          170,
          171,
          172,
          173,
          174,
          175,
          176,
          177,
          178,
          179,
          180,
          181,
          182,
          183,
          184,
          185,
          186,
          187,
          188,
          189,
          190,
          191,
          192,
          193,
          194,
          195,
          196,
          197,
          198,
          199,
          200,
          201,
          202,
          203,
          204,
          205,
          206,
          207,
          208,
          209,
          210,
          211,
          212,
          213,
          214,
          215,
          216,
          217,
          218,
          219,
          220,
          221,
          222,
          223,
          224,
          225,
          226,
          227,
          228,
          229,
          230,
          231,
          232,
          233,
          234,
          235,
          236,
          237,
          238,
          239,
          240,
          241,
          242,
          243,
          244,
          245,
          246,
          247,
          248,
          249,
          250,
          251,
          252,
          253,
          254,
          255,
          256,
          257,
          258,
          259,
          260,
          261,
          262,
          263,
          264,
          265,
          266,
          267,
          268,
          269,
          270,
          271,
          272,
          273,
          274,
          275,
          276,
          277,
          278,
          279,
          280,
          281,
          282,
          283,
          284,
          285,
          286,
          287,
          288,
          289,
          290,
          291,
          292,
          293,
          294,
          295,
          296,
          297,
          298,
          299,
          300,
          301,
          302,
          303,
          304,
          305,
          310
         ],
         "y": [
          0,
          0,
          0,
          1250,
          2500,
          3750,
          3656.6666666666665,
          3563.333333333333,
          3469.9999999999995,
          3376.666666666666,
          3283.3333333333326,
          3189.999999999999,
          3096.6666666666656,
          3003.333333333332,
          2909.9999999999986,
          2816.666666666665,
          2723.3333333333317,
          2629.999999999998,
          2536.6666666666647,
          2443.333333333331,
          2349.9999999999977,
          2256.6666666666642,
          2163.3333333333308,
          2069.9999999999973,
          1976.666666666664,
          1883.3333333333308,
          1789.9999999999975,
          1696.6666666666642,
          1603.333333333331,
          1509.9999999999977,
          2666.6666666666642,
          2573.3333333333308,
          2479.9999999999973,
          2386.666666666664,
          2293.3333333333303,
          2199.999999999997,
          2106.6666666666633,
          2013.33333333333,
          1919.9999999999968,
          1826.6666666666636,
          1733.3333333333303,
          1639.999999999997,
          1546.6666666666638,
          1453.3333333333305,
          1359.9999999999973,
          1266.666666666664,
          1173.3333333333308,
          1079.9999999999975,
          986.6666666666641,
          893.3333333333308,
          799.9999999999974,
          706.666666666664,
          613.3333333333306,
          519.9999999999973,
          426.66666666666396,
          333.33333333333064,
          239.99999999999733,
          146.666666666664,
          53.333333333330685,
          -40.00000000000264,
          -133.333333333336,
          -226.6666666666693,
          -320.0000000000026,
          -413.33333333333593,
          -506.66666666666924,
          -600.0000000000026,
          -693.333333333336,
          -786.6666666666694,
          -880.0000000000027,
          -973.3333333333361,
          -1066.6666666666695,
          -1160.0000000000027,
          -1253.333333333336,
          -1346.6666666666692,
          -1440.0000000000025,
          -1533.3333333333358,
          -1626.666666666669,
          -1720.0000000000023,
          -1813.3333333333355,
          -1906.6666666666688,
          -2000.000000000002,
          -2093.3333333333353,
          -2186.666666666669,
          -2280.0000000000023,
          -2373.3333333333358,
          -2466.6666666666692,
          -2560.0000000000027,
          -2653.333333333336,
          -2746.6666666666697,
          -2840.000000000003,
          -2933.3333333333367,
          -3026.66666666667,
          -3120.0000000000036,
          -3213.333333333337,
          -3306.6666666666706,
          -3400.000000000004,
          -3493.3333333333376,
          -3586.666666666671,
          -3680.0000000000045,
          -3773.333333333338,
          -3866.6666666666715,
          -3960.000000000005,
          -4053.3333333333385,
          -4146.6666666666715,
          -4240.000000000005,
          -4333.333333333338,
          -4426.666666666671,
          -4520.000000000004,
          -4613.333333333337,
          -4706.66666666667,
          -4800.000000000003,
          -4893.333333333336,
          -4986.666666666669,
          -5080.000000000002,
          -5173.333333333335,
          -5266.666666666668,
          -5360.000000000001,
          -5453.333333333334,
          -5546.666666666667,
          -5640,
          -5733.333333333333,
          -5826.666666666666,
          -5919.999999999999,
          -6013.333333333332,
          -6106.666666666665,
          -6199.999999999998,
          -6293.333333333331,
          -6386.666666666664,
          -6479.999999999997,
          -6573.33333333333,
          -6666.666666666663,
          -6759.999999999996,
          -6853.333333333329,
          -6946.666666666662,
          -7039.999999999995,
          -7133.3333333333285,
          -7226.6666666666615,
          -7319.9999999999945,
          -7413.333333333328,
          -7506.666666666661,
          -7599.999999999994,
          -7693.333333333327,
          -7786.66666666666,
          -7879.999999999993,
          -7973.333333333326,
          -8066.666666666659,
          -8159.999999999992,
          -8253.333333333325,
          -8346.666666666659,
          -8439.999999999993,
          -8533.333333333327,
          -8626.66666666666,
          -8719.999999999995,
          -8813.333333333328,
          -8906.666666666662,
          -8999.999999999996,
          -9093.33333333333,
          -9186.666666666664,
          -9279.999999999998,
          -9373.333333333332,
          -9466.666666666666,
          -9560,
          -9653.333333333334,
          -9746.666666666668,
          -9840.000000000002,
          -9933.333333333336,
          -10026.66666666667,
          -10120.000000000004,
          -10213.333333333338,
          -10306.666666666672,
          -10400.000000000005,
          -10493.33333333334,
          -10586.666666666673,
          -10680.000000000007,
          -10773.333333333341,
          -10866.666666666675,
          -10960.00000000001,
          -11053.333333333343,
          -11146.666666666677,
          -11240.000000000011,
          -11333.333333333345,
          -11426.666666666679,
          -11520.000000000013,
          -11613.333333333347,
          -11706.66666666668,
          -11800.000000000015,
          -11893.333333333348,
          -11986.666666666682,
          -12080.000000000016,
          -12173.33333333335,
          -12266.666666666684,
          -12360.000000000018,
          -12453.333333333352,
          -12546.666666666686,
          -12640.00000000002,
          -12733.333333333354,
          -12826.666666666688,
          -12920.000000000022,
          -13013.333333333356,
          -13106.66666666669,
          -13200.000000000024,
          -13293.333333333358,
          -13386.666666666692,
          -13480.000000000025,
          -13573.33333333336,
          -13666.666666666693,
          -13666.666666666693
         ]
        }
       ],
       "layout": {
        "annotations": [
         {
          "arrowhead": 2,
          "ax": 20,
          "ay": -30,
          "showarrow": true,
          "text": "PFCmin",
          "x": 310,
          "xref": "x",
          "y": 2500,
          "yref": "y"
         },
         {
          "arrowhead": 2,
          "ax": 20,
          "ay": -30,
          "showarrow": true,
          "text": "PFCmax",
          "x": 310,
          "xref": "x",
          "y": 4000,
          "yref": "y"
         }
        ],
        "shapes": [
         {
          "line": {
           "color": "firebrick",
           "dash": "dash",
           "width": 2
          },
          "name": "PFCmin",
          "type": "line",
          "x0": 0,
          "x1": 310,
          "y0": 2500,
          "y1": 2500
         },
         {
          "line": {
           "color": "green",
           "dash": "dash",
           "width": 2
          },
          "name": "PFCmax",
          "type": "line",
          "x0": 0,
          "x1": 310,
          "y0": 4000,
          "y1": 4000
         }
        ],
        "showlegend": false,
        "template": {
         "data": {
          "bar": [
           {
            "error_x": {
             "color": "#2a3f5f"
            },
            "error_y": {
             "color": "#2a3f5f"
            },
            "marker": {
             "line": {
              "color": "#E5ECF6",
              "width": 0.5
             },
             "pattern": {
              "fillmode": "overlay",
              "size": 10,
              "solidity": 0.2
             }
            },
            "type": "bar"
           }
          ],
          "barpolar": [
           {
            "marker": {
             "line": {
              "color": "#E5ECF6",
              "width": 0.5
             },
             "pattern": {
              "fillmode": "overlay",
              "size": 10,
              "solidity": 0.2
             }
            },
            "type": "barpolar"
           }
          ],
          "carpet": [
           {
            "aaxis": {
             "endlinecolor": "#2a3f5f",
             "gridcolor": "white",
             "linecolor": "white",
             "minorgridcolor": "white",
             "startlinecolor": "#2a3f5f"
            },
            "baxis": {
             "endlinecolor": "#2a3f5f",
             "gridcolor": "white",
             "linecolor": "white",
             "minorgridcolor": "white",
             "startlinecolor": "#2a3f5f"
            },
            "type": "carpet"
           }
          ],
          "choropleth": [
           {
            "colorbar": {
             "outlinewidth": 0,
             "ticks": ""
            },
            "type": "choropleth"
           }
          ],
          "contour": [
           {
            "colorbar": {
             "outlinewidth": 0,
             "ticks": ""
            },
            "colorscale": [
             [
              0,
              "#0d0887"
             ],
             [
              0.1111111111111111,
              "#46039f"
             ],
             [
              0.2222222222222222,
              "#7201a8"
             ],
             [
              0.3333333333333333,
              "#9c179e"
             ],
             [
              0.4444444444444444,
              "#bd3786"
             ],
             [
              0.5555555555555556,
              "#d8576b"
             ],
             [
              0.6666666666666666,
              "#ed7953"
             ],
             [
              0.7777777777777778,
              "#fb9f3a"
             ],
             [
              0.8888888888888888,
              "#fdca26"
             ],
             [
              1,
              "#f0f921"
             ]
            ],
            "type": "contour"
           }
          ],
          "contourcarpet": [
           {
            "colorbar": {
             "outlinewidth": 0,
             "ticks": ""
            },
            "type": "contourcarpet"
           }
          ],
          "heatmap": [
           {
            "colorbar": {
             "outlinewidth": 0,
             "ticks": ""
            },
            "colorscale": [
             [
              0,
              "#0d0887"
             ],
             [
              0.1111111111111111,
              "#46039f"
             ],
             [
              0.2222222222222222,
              "#7201a8"
             ],
             [
              0.3333333333333333,
              "#9c179e"
             ],
             [
              0.4444444444444444,
              "#bd3786"
             ],
             [
              0.5555555555555556,
              "#d8576b"
             ],
             [
              0.6666666666666666,
              "#ed7953"
             ],
             [
              0.7777777777777778,
              "#fb9f3a"
             ],
             [
              0.8888888888888888,
              "#fdca26"
             ],
             [
              1,
              "#f0f921"
             ]
            ],
            "type": "heatmap"
           }
          ],
          "heatmapgl": [
           {
            "colorbar": {
             "outlinewidth": 0,
             "ticks": ""
            },
            "colorscale": [
             [
              0,
              "#0d0887"
             ],
             [
              0.1111111111111111,
              "#46039f"
             ],
             [
              0.2222222222222222,
              "#7201a8"
             ],
             [
              0.3333333333333333,
              "#9c179e"
             ],
             [
              0.4444444444444444,
              "#bd3786"
             ],
             [
              0.5555555555555556,
              "#d8576b"
             ],
             [
              0.6666666666666666,
              "#ed7953"
             ],
             [
              0.7777777777777778,
              "#fb9f3a"
             ],
             [
              0.8888888888888888,
              "#fdca26"
             ],
             [
              1,
              "#f0f921"
             ]
            ],
            "type": "heatmapgl"
           }
          ],
          "histogram": [
           {
            "marker": {
             "pattern": {
              "fillmode": "overlay",
              "size": 10,
              "solidity": 0.2
             }
            },
            "type": "histogram"
           }
          ],
          "histogram2d": [
           {
            "colorbar": {
             "outlinewidth": 0,
             "ticks": ""
            },
            "colorscale": [
             [
              0,
              "#0d0887"
             ],
             [
              0.1111111111111111,
              "#46039f"
             ],
             [
              0.2222222222222222,
              "#7201a8"
             ],
             [
              0.3333333333333333,
              "#9c179e"
             ],
             [
              0.4444444444444444,
              "#bd3786"
             ],
             [
              0.5555555555555556,
              "#d8576b"
             ],
             [
              0.6666666666666666,
              "#ed7953"
             ],
             [
              0.7777777777777778,
              "#fb9f3a"
             ],
             [
              0.8888888888888888,
              "#fdca26"
             ],
             [
              1,
              "#f0f921"
             ]
            ],
            "type": "histogram2d"
           }
          ],
          "histogram2dcontour": [
           {
            "colorbar": {
             "outlinewidth": 0,
             "ticks": ""
            },
            "colorscale": [
             [
              0,
              "#0d0887"
             ],
             [
              0.1111111111111111,
              "#46039f"
             ],
             [
              0.2222222222222222,
              "#7201a8"
             ],
             [
              0.3333333333333333,
              "#9c179e"
             ],
             [
              0.4444444444444444,
              "#bd3786"
             ],
             [
              0.5555555555555556,
              "#d8576b"
             ],
             [
              0.6666666666666666,
              "#ed7953"
             ],
             [
              0.7777777777777778,
              "#fb9f3a"
             ],
             [
              0.8888888888888888,
              "#fdca26"
             ],
             [
              1,
              "#f0f921"
             ]
            ],
            "type": "histogram2dcontour"
           }
          ],
          "mesh3d": [
           {
            "colorbar": {
             "outlinewidth": 0,
             "ticks": ""
            },
            "type": "mesh3d"
           }
          ],
          "parcoords": [
           {
            "line": {
             "colorbar": {
              "outlinewidth": 0,
              "ticks": ""
             }
            },
            "type": "parcoords"
           }
          ],
          "pie": [
           {
            "automargin": true,
            "type": "pie"
           }
          ],
          "scatter": [
           {
            "fillpattern": {
             "fillmode": "overlay",
             "size": 10,
             "solidity": 0.2
            },
            "type": "scatter"
           }
          ],
          "scatter3d": [
           {
            "line": {
             "colorbar": {
              "outlinewidth": 0,
              "ticks": ""
             }
            },
            "marker": {
             "colorbar": {
              "outlinewidth": 0,
              "ticks": ""
             }
            },
            "type": "scatter3d"
           }
          ],
          "scattercarpet": [
           {
            "marker": {
             "colorbar": {
              "outlinewidth": 0,
              "ticks": ""
             }
            },
            "type": "scattercarpet"
           }
          ],
          "scattergeo": [
           {
            "marker": {
             "colorbar": {
              "outlinewidth": 0,
              "ticks": ""
             }
            },
            "type": "scattergeo"
           }
          ],
          "scattergl": [
           {
            "marker": {
             "colorbar": {
              "outlinewidth": 0,
              "ticks": ""
             }
            },
            "type": "scattergl"
           }
          ],
          "scattermapbox": [
           {
            "marker": {
             "colorbar": {
              "outlinewidth": 0,
              "ticks": ""
             }
            },
            "type": "scattermapbox"
           }
          ],
          "scatterpolar": [
           {
            "marker": {
             "colorbar": {
              "outlinewidth": 0,
              "ticks": ""
             }
            },
            "type": "scatterpolar"
           }
          ],
          "scatterpolargl": [
           {
            "marker": {
             "colorbar": {
              "outlinewidth": 0,
              "ticks": ""
             }
            },
            "type": "scatterpolargl"
           }
          ],
          "scatterternary": [
           {
            "marker": {
             "colorbar": {
              "outlinewidth": 0,
              "ticks": ""
             }
            },
            "type": "scatterternary"
           }
          ],
          "surface": [
           {
            "colorbar": {
             "outlinewidth": 0,
             "ticks": ""
            },
            "colorscale": [
             [
              0,
              "#0d0887"
             ],
             [
              0.1111111111111111,
              "#46039f"
             ],
             [
              0.2222222222222222,
              "#7201a8"
             ],
             [
              0.3333333333333333,
              "#9c179e"
             ],
             [
              0.4444444444444444,
              "#bd3786"
             ],
             [
              0.5555555555555556,
              "#d8576b"
             ],
             [
              0.6666666666666666,
              "#ed7953"
             ],
             [
              0.7777777777777778,
              "#fb9f3a"
             ],
             [
              0.8888888888888888,
              "#fdca26"
             ],
             [
              1,
              "#f0f921"
             ]
            ],
            "type": "surface"
           }
          ],
          "table": [
           {
            "cells": {
             "fill": {
              "color": "#EBF0F8"
             },
             "line": {
              "color": "white"
             }
            },
            "header": {
             "fill": {
              "color": "#C8D4E3"
             },
             "line": {
              "color": "white"
             }
            },
            "type": "table"
           }
          ]
         },
         "layout": {
          "annotationdefaults": {
           "arrowcolor": "#2a3f5f",
           "arrowhead": 0,
           "arrowwidth": 1
          },
          "autotypenumbers": "strict",
          "coloraxis": {
           "colorbar": {
            "outlinewidth": 0,
            "ticks": ""
           }
          },
          "colorscale": {
           "diverging": [
            [
             0,
             "#8e0152"
            ],
            [
             0.1,
             "#c51b7d"
            ],
            [
             0.2,
             "#de77ae"
            ],
            [
             0.3,
             "#f1b6da"
            ],
            [
             0.4,
             "#fde0ef"
            ],
            [
             0.5,
             "#f7f7f7"
            ],
            [
             0.6,
             "#e6f5d0"
            ],
            [
             0.7,
             "#b8e186"
            ],
            [
             0.8,
             "#7fbc41"
            ],
            [
             0.9,
             "#4d9221"
            ],
            [
             1,
             "#276419"
            ]
           ],
           "sequential": [
            [
             0,
             "#0d0887"
            ],
            [
             0.1111111111111111,
             "#46039f"
            ],
            [
             0.2222222222222222,
             "#7201a8"
            ],
            [
             0.3333333333333333,
             "#9c179e"
            ],
            [
             0.4444444444444444,
             "#bd3786"
            ],
            [
             0.5555555555555556,
             "#d8576b"
            ],
            [
             0.6666666666666666,
             "#ed7953"
            ],
            [
             0.7777777777777778,
             "#fb9f3a"
            ],
            [
             0.8888888888888888,
             "#fdca26"
            ],
            [
             1,
             "#f0f921"
            ]
           ],
           "sequentialminus": [
            [
             0,
             "#0d0887"
            ],
            [
             0.1111111111111111,
             "#46039f"
            ],
            [
             0.2222222222222222,
             "#7201a8"
            ],
            [
             0.3333333333333333,
             "#9c179e"
            ],
            [
             0.4444444444444444,
             "#bd3786"
            ],
            [
             0.5555555555555556,
             "#d8576b"
            ],
            [
             0.6666666666666666,
             "#ed7953"
            ],
            [
             0.7777777777777778,
             "#fb9f3a"
            ],
            [
             0.8888888888888888,
             "#fdca26"
            ],
            [
             1,
             "#f0f921"
            ]
           ]
          },
          "colorway": [
           "#636efa",
           "#EF553B",
           "#00cc96",
           "#ab63fa",
           "#FFA15A",
           "#19d3f3",
           "#FF6692",
           "#B6E880",
           "#FF97FF",
           "#FECB52"
          ],
          "font": {
           "color": "#2a3f5f"
          },
          "geo": {
           "bgcolor": "white",
           "lakecolor": "white",
           "landcolor": "#E5ECF6",
           "showlakes": true,
           "showland": true,
           "subunitcolor": "white"
          },
          "hoverlabel": {
           "align": "left"
          },
          "hovermode": "closest",
          "mapbox": {
           "style": "light"
          },
          "paper_bgcolor": "white",
          "plot_bgcolor": "#E5ECF6",
          "polar": {
           "angularaxis": {
            "gridcolor": "white",
            "linecolor": "white",
            "ticks": ""
           },
           "bgcolor": "#E5ECF6",
           "radialaxis": {
            "gridcolor": "white",
            "linecolor": "white",
            "ticks": ""
           }
          },
          "scene": {
           "xaxis": {
            "backgroundcolor": "#E5ECF6",
            "gridcolor": "white",
            "gridwidth": 2,
            "linecolor": "white",
            "showbackground": true,
            "ticks": "",
            "zerolinecolor": "white"
           },
           "yaxis": {
            "backgroundcolor": "#E5ECF6",
            "gridcolor": "white",
            "gridwidth": 2,
            "linecolor": "white",
            "showbackground": true,
            "ticks": "",
            "zerolinecolor": "white"
           },
           "zaxis": {
            "backgroundcolor": "#E5ECF6",
            "gridcolor": "white",
            "gridwidth": 2,
            "linecolor": "white",
            "showbackground": true,
            "ticks": "",
            "zerolinecolor": "white"
           }
          },
          "shapedefaults": {
           "line": {
            "color": "#2a3f5f"
           }
          },
          "ternary": {
           "aaxis": {
            "gridcolor": "white",
            "linecolor": "white",
            "ticks": ""
           },
           "baxis": {
            "gridcolor": "white",
            "linecolor": "white",
            "ticks": ""
           },
           "bgcolor": "#E5ECF6",
           "caxis": {
            "gridcolor": "white",
            "linecolor": "white",
            "ticks": ""
           }
          },
          "title": {
           "x": 0.05
          },
          "xaxis": {
           "automargin": true,
           "gridcolor": "white",
           "linecolor": "white",
           "ticks": "",
           "title": {
            "standoff": 15
           },
           "zerolinecolor": "white",
           "zerolinewidth": 2
          },
          "yaxis": {
           "automargin": true,
           "gridcolor": "white",
           "linecolor": "white",
           "ticks": "",
           "title": {
            "standoff": 15
           },
           "zerolinecolor": "white",
           "zerolinewidth": 2
          }
         }
        },
        "title": {
         "text": "Consommation de fonte au cours du temps"
        },
        "xaxis": {
         "title": {
          "text": "Time (minutes)"
         }
        },
        "yaxis": {
         "title": {
          "text": "PFC (kg)"
         }
        }
       }
      }
     },
     "metadata": {},
     "output_type": "display_data"
    }
   ],
   "source": [
    "Plot_Prod(times, PFC_Prodvalues)\n",
    "Plot_consom(times, PFC_Consomvalues, tmin, tmax, PFCmin, PFCmax)"
   ]
  },
  {
   "cell_type": "code",
   "execution_count": null,
   "metadata": {},
   "outputs": [],
   "source": []
  },
  {
   "cell_type": "code",
   "execution_count": null,
   "metadata": {},
   "outputs": [],
   "source": []
  },
  {
   "cell_type": "code",
   "execution_count": null,
   "metadata": {},
   "outputs": [],
   "source": []
  }
 ],
 "metadata": {
  "kernelspec": {
   "display_name": "Python 3",
   "language": "python",
   "name": "python3"
  },
  "language_info": {
   "codemirror_mode": {
    "name": "ipython",
    "version": 3
   },
   "file_extension": ".py",
   "mimetype": "text/x-python",
   "name": "python",
   "nbconvert_exporter": "python",
   "pygments_lexer": "ipython3",
   "version": "3.12.2"
  }
 },
 "nbformat": 4,
 "nbformat_minor": 2
}
