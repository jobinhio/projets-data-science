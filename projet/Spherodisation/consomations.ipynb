{
 "cells": [
  {
   "cell_type": "code",
   "execution_count": null,
   "metadata": {},
   "outputs": [],
   "source": []
  },
  {
   "cell_type": "markdown",
   "metadata": {},
   "source": [
    "# Code 2"
   ]
  },
  {
   "cell_type": "code",
   "execution_count": null,
   "metadata": {},
   "outputs": [],
   "source": []
  },
  {
   "cell_type": "code",
   "execution_count": 36,
   "metadata": {},
   "outputs": [],
   "source": [
    "import plotly.graph_objects as go\n",
    "\n",
    "def Plot_consom(times, PFC_values, tmin, tmax, PFCmin, PFCmax):\n",
    "\n",
    "    # Create Plotly figure\n",
    "    fig = go.Figure()\n",
    "\n",
    "    # Add PFC line\n",
    "    fig.add_trace(go.Scatter(x=times, y=PFC_values, mode='lines', name='PFC over time', line=dict(color='royalblue')))\n",
    "\n",
    "    # Add horizontal lines for PFCmin and PFCmax\n",
    "    fig.add_shape(type=\"line\", x0=tmin, y0=PFCmin, x1=tmax, y1=PFCmin, line=dict(color=\"firebrick\", width=2, dash=\"dash\"), name=\"PFCmin\")\n",
    "    \n",
    "    fig.add_shape(type=\"line\", x0=tmin, y0=PFCmax, x1=tmax, y1=PFCmax, line=dict(color=\"green\", width=2, dash=\"dash\"), name=\"PFCmax\")\n",
    "\n",
    "\n",
    "    # Customize layout\n",
    "    fig.update_layout(title='Consommation de fonte au cours du temps', xaxis_title='Time (minutes)', yaxis_title='PFC (kg)', template='plotly',\n",
    "        showlegend=False,annotations=[\n",
    "            dict(x=tmax,y=PFCmin,xref=\"x\",yref=\"y\",text=\"PFCmin\",showarrow=True,arrowhead=2,ax=20,ay=-30),\n",
    "            dict(x=tmax,y=PFCmax,xref=\"x\",yref=\"y\",text=\"PFCmax\",showarrow=True,arrowhead=2,ax=20,ay=-30)])\n",
    "\n",
    "    # Show the plot\n",
    "    fig.show()\n",
    "\n",
    "def Plot_Prod(times, PFC_values):\n",
    "\n",
    "    # Create Plotly figure\n",
    "    fig = go.Figure()\n",
    "\n",
    "    # Add PFC line\n",
    "    fig.add_trace(go.Scatter(x=times, y=PFC_values, mode='lines', name='PFC over time', line=dict(color='royalblue')))\n",
    "\n",
    "    # Customize layout\n",
    "    fig.update_layout(title='Production de fonte au cours du temps', xaxis_title='Time (minutes)', yaxis_title='PFC (kg)', template='plotly',\n",
    "        showlegend=False)\n",
    "\n",
    "    # Show the plot\n",
    "    fig.show()"
   ]
  },
  {
   "cell_type": "code",
   "execution_count": 48,
   "metadata": {},
   "outputs": [],
   "source": [
    "def ProdConsom(ListeMasse_grappe, ListeQuantite_mottes, nb_moules_heure, t_serie, Temps_fusion, Temps_chargement):\n",
    "\n",
    "    numfours = 0\n",
    "    Fonte_produit = 5000 # Fontes produits toute les 45 min en kg\n",
    "    PFC_Prodvalues = [0] # en kg\n",
    "    PFC_Prod =  PFC_Prodvalues[-1]\n",
    "\n",
    "\n",
    "    PFC_Consomvalues = [4000] # en kg\n",
    "    PFC_Consom = PFC_Consomvalues[-1]\n",
    "    times = [0] # en min\n",
    "    tmin = times[-1]\n",
    "    t = tmin\n",
    "\n",
    "    for masse_grappe_i, Quantite_mottes_i in zip(ListeMasse_grappe, ListeQuantite_mottes) :\n",
    "        for i in range(Quantite_mottes_i):\n",
    "            cadences_i = nb_moules_heure/60 * masse_grappe_i  # consomation de fonte par minute (kg/min)\n",
    "            PFC_Consom = PFC_Consom - cadences_i  # en kg\n",
    "            t+=1\n",
    "            times.append(t)\n",
    "            PFC_Consomvalues.append(PFC_Consom)\n",
    "\n",
    "            #  Partie Producion de la fonte dans le temps\n",
    "            if t <= Temps_chargement:\n",
    "                # Avant ou pendant Temps_chargement\n",
    "                PFC_Prodvalues.append(PFC_Prod)\n",
    "            else:\n",
    "                # Après Temps_chargement\n",
    "                if (t - Temps_chargement) % Temps_fusion == 0:\n",
    "                    numfours += 1\n",
    "                    # print(t,numfours)\n",
    "                    PFC_Prod += Fonte_produit\n",
    "                PFC_Prodvalues.append(PFC_Prod)\n",
    "            \n",
    "        t+=t_serie\n",
    "        #  Partie Producion de la fonte dans le temps\n",
    "        if t <= Temps_chargement:\n",
    "            # Avant ou pendant Temps_chargement\n",
    "            PFC_Prodvalues.append(PFC_Prod)\n",
    "        else:\n",
    "            # Après Temps_chargement\n",
    "            if (t - Temps_chargement) % Temps_fusion == 0:\n",
    "                numfours += 1\n",
    "                # print(t,numfours)\n",
    "                PFC_Prod += Fonte_produit\n",
    "            PFC_Prodvalues.append(PFC_Prod)\n",
    "\n",
    "        times.append(t)\n",
    "        PFC_Consomvalues.append(PFC_Consom)\n",
    "    tmax = t\n",
    "    return times, PFC_Consomvalues, PFC_Prodvalues, tmin, tmax"
   ]
  },
  {
   "cell_type": "code",
   "execution_count": 49,
   "metadata": {},
   "outputs": [],
   "source": [
    "nb_fours = 6 # 8-9 fours pour HWS, 6 fours pour DiSA\n",
    "Temps_fusion = 45 # en min\n",
    "Temps_chargement = 30 # 30 - 45  min\n",
    "\n",
    "# Les valeurs d'entrée Input \n",
    "\n",
    "nb_moules_heure = 160 \n",
    "t_serie = 5 # 5 min\n",
    "\n",
    "PFCmin = 2500 # en kg\n",
    "PFCmax = 4000 # en kg\n",
    "\n",
    "times = [0] # en min\n",
    "PFC_values = [4000] # en kg\n",
    "ListeMasse_grappe = [35, 10, 20, 35] # en kg\n",
    "ListeQuantite_mottes = [50, 50, 50, 50]\n",
    "\n",
    "times, PFC_Consomvalues, PFC_Prodvalues, tmin, tmax = ProdConsom(ListeMasse_grappe, ListeQuantite_mottes, nb_moules_heure, t_serie, Temps_fusion, Temps_chargement)"
   ]
  },
  {
   "cell_type": "code",
   "execution_count": 50,
   "metadata": {},
   "outputs": [
    {
     "data": {
      "application/vnd.plotly.v1+json": {
       "config": {
        "plotlyServerURL": "https://plot.ly"
       },
       "data": [
        {
         "line": {
          "color": "royalblue"
         },
         "mode": "lines",
         "name": "PFC over time",
         "type": "scatter",
         "x": [
          0,
          1,
          2,
          3,
          4,
          5,
          6,
          7,
          8,
          9,
          10,
          11,
          12,
          13,
          14,
          15,
          16,
          17,
          18,
          19,
          20,
          21,
          22,
          23,
          24,
          25,
          26,
          27,
          28,
          29,
          30,
          31,
          32,
          33,
          34,
          35,
          36,
          37,
          38,
          39,
          40,
          41,
          42,
          43,
          44,
          45,
          46,
          47,
          48,
          49,
          50,
          55,
          56,
          57,
          58,
          59,
          60,
          61,
          62,
          63,
          64,
          65,
          66,
          67,
          68,
          69,
          70,
          71,
          72,
          73,
          74,
          75,
          76,
          77,
          78,
          79,
          80,
          81,
          82,
          83,
          84,
          85,
          86,
          87,
          88,
          89,
          90,
          91,
          92,
          93,
          94,
          95,
          96,
          97,
          98,
          99,
          100,
          101,
          102,
          103,
          104,
          105,
          110,
          111,
          112,
          113,
          114,
          115,
          116,
          117,
          118,
          119,
          120,
          121,
          122,
          123,
          124,
          125,
          126,
          127,
          128,
          129,
          130,
          131,
          132,
          133,
          134,
          135,
          136,
          137,
          138,
          139,
          140,
          141,
          142,
          143,
          144,
          145,
          146,
          147,
          148,
          149,
          150,
          151,
          152,
          153,
          154,
          155,
          156,
          157,
          158,
          159,
          160,
          165,
          166,
          167,
          168,
          169,
          170,
          171,
          172,
          173,
          174,
          175,
          176,
          177,
          178,
          179,
          180,
          181,
          182,
          183,
          184,
          185,
          186,
          187,
          188,
          189,
          190,
          191,
          192,
          193,
          194,
          195,
          196,
          197,
          198,
          199,
          200,
          201,
          202,
          203,
          204,
          205,
          206,
          207,
          208,
          209,
          210,
          211,
          212,
          213,
          214,
          215,
          220
         ],
         "y": [
          4000,
          3906.6666666666665,
          3813.333333333333,
          3719.9999999999995,
          3626.666666666666,
          3533.3333333333326,
          3439.999999999999,
          3346.6666666666656,
          3253.333333333332,
          3159.9999999999986,
          3066.666666666665,
          2973.3333333333317,
          2879.999999999998,
          2786.6666666666647,
          2693.333333333331,
          2599.9999999999977,
          2506.6666666666642,
          2413.3333333333308,
          2319.9999999999973,
          2226.666666666664,
          2133.3333333333303,
          2039.999999999997,
          1946.6666666666638,
          1853.3333333333305,
          1759.9999999999973,
          1666.666666666664,
          1573.3333333333308,
          1479.9999999999975,
          1386.6666666666642,
          1293.333333333331,
          1199.9999999999977,
          1106.6666666666645,
          1013.3333333333311,
          919.9999999999977,
          826.6666666666644,
          733.333333333331,
          639.9999999999976,
          546.6666666666642,
          453.3333333333309,
          359.9999999999976,
          266.6666666666643,
          173.33333333333098,
          79.99999999999766,
          -13.333333333335673,
          -106.666666666669,
          -200.00000000000233,
          -293.33333333333564,
          -386.66666666666896,
          -480.0000000000023,
          -573.3333333333356,
          -666.666666666669,
          -666.666666666669,
          -693.3333333333356,
          -720.0000000000023,
          -746.6666666666689,
          -773.3333333333355,
          -800.0000000000022,
          -826.6666666666688,
          -853.3333333333354,
          -880.000000000002,
          -906.6666666666687,
          -933.3333333333353,
          -960.0000000000019,
          -986.6666666666686,
          -1013.3333333333352,
          -1040.0000000000018,
          -1066.6666666666686,
          -1093.3333333333353,
          -1120.000000000002,
          -1146.6666666666688,
          -1173.3333333333355,
          -1200.0000000000023,
          -1226.666666666669,
          -1253.3333333333358,
          -1280.0000000000025,
          -1306.6666666666692,
          -1333.333333333336,
          -1360.0000000000027,
          -1386.6666666666695,
          -1413.3333333333362,
          -1440.000000000003,
          -1466.6666666666697,
          -1493.3333333333364,
          -1520.0000000000032,
          -1546.66666666667,
          -1573.3333333333367,
          -1600.0000000000034,
          -1626.6666666666702,
          -1653.333333333337,
          -1680.0000000000036,
          -1706.6666666666704,
          -1733.3333333333371,
          -1760.0000000000039,
          -1786.6666666666706,
          -1813.3333333333374,
          -1840.000000000004,
          -1866.6666666666708,
          -1893.3333333333376,
          -1920.0000000000043,
          -1946.666666666671,
          -1973.3333333333378,
          -2000.0000000000045,
          -2000.0000000000045,
          -2053.333333333338,
          -2106.6666666666715,
          -2160.000000000005,
          -2213.3333333333385,
          -2266.666666666672,
          -2320.0000000000055,
          -2373.333333333339,
          -2426.6666666666724,
          -2480.000000000006,
          -2533.3333333333394,
          -2586.666666666673,
          -2640.0000000000064,
          -2693.33333333334,
          -2746.6666666666733,
          -2800.000000000007,
          -2853.3333333333403,
          -2906.666666666674,
          -2960.0000000000073,
          -3013.3333333333408,
          -3066.6666666666742,
          -3120.0000000000077,
          -3173.333333333341,
          -3226.6666666666747,
          -3280.000000000008,
          -3333.3333333333417,
          -3386.666666666675,
          -3440.0000000000086,
          -3493.333333333342,
          -3546.6666666666756,
          -3600.000000000009,
          -3653.3333333333426,
          -3706.666666666676,
          -3760.0000000000095,
          -3813.333333333343,
          -3866.6666666666765,
          -3920.00000000001,
          -3973.3333333333435,
          -4026.666666666677,
          -4080.0000000000105,
          -4133.333333333344,
          -4186.666666666677,
          -4240.00000000001,
          -4293.333333333343,
          -4346.666666666676,
          -4400.000000000009,
          -4453.333333333342,
          -4506.666666666675,
          -4560.000000000008,
          -4613.333333333341,
          -4666.666666666674,
          -4666.666666666674,
          -4760.000000000007,
          -4853.33333333334,
          -4946.666666666673,
          -5040.000000000006,
          -5133.333333333339,
          -5226.666666666672,
          -5320.0000000000055,
          -5413.3333333333385,
          -5506.6666666666715,
          -5600.000000000005,
          -5693.333333333338,
          -5786.666666666671,
          -5880.000000000004,
          -5973.333333333337,
          -6066.66666666667,
          -6160.000000000003,
          -6253.333333333336,
          -6346.666666666669,
          -6440.000000000002,
          -6533.333333333335,
          -6626.666666666668,
          -6720.000000000001,
          -6813.333333333334,
          -6906.666666666667,
          -7000,
          -7093.333333333333,
          -7186.666666666666,
          -7279.999999999999,
          -7373.333333333332,
          -7466.666666666665,
          -7559.999999999998,
          -7653.333333333331,
          -7746.666666666664,
          -7839.999999999997,
          -7933.33333333333,
          -8026.666666666663,
          -8119.999999999996,
          -8213.33333333333,
          -8306.666666666664,
          -8399.999999999998,
          -8493.333333333332,
          -8586.666666666666,
          -8680,
          -8773.333333333334,
          -8866.666666666668,
          -8960.000000000002,
          -9053.333333333336,
          -9146.66666666667,
          -9240.000000000004,
          -9333.333333333338,
          -9333.333333333338
         ]
        }
       ],
       "layout": {
        "annotations": [
         {
          "arrowhead": 2,
          "ax": 20,
          "ay": -30,
          "showarrow": true,
          "text": "PFCmin",
          "x": 220,
          "xref": "x",
          "y": 2500,
          "yref": "y"
         },
         {
          "arrowhead": 2,
          "ax": 20,
          "ay": -30,
          "showarrow": true,
          "text": "PFCmax",
          "x": 220,
          "xref": "x",
          "y": 4000,
          "yref": "y"
         }
        ],
        "shapes": [
         {
          "line": {
           "color": "firebrick",
           "dash": "dash",
           "width": 2
          },
          "name": "PFCmin",
          "type": "line",
          "x0": 0,
          "x1": 220,
          "y0": 2500,
          "y1": 2500
         },
         {
          "line": {
           "color": "green",
           "dash": "dash",
           "width": 2
          },
          "name": "PFCmax",
          "type": "line",
          "x0": 0,
          "x1": 220,
          "y0": 4000,
          "y1": 4000
         }
        ],
        "showlegend": false,
        "template": {
         "data": {
          "bar": [
           {
            "error_x": {
             "color": "#2a3f5f"
            },
            "error_y": {
             "color": "#2a3f5f"
            },
            "marker": {
             "line": {
              "color": "#E5ECF6",
              "width": 0.5
             },
             "pattern": {
              "fillmode": "overlay",
              "size": 10,
              "solidity": 0.2
             }
            },
            "type": "bar"
           }
          ],
          "barpolar": [
           {
            "marker": {
             "line": {
              "color": "#E5ECF6",
              "width": 0.5
             },
             "pattern": {
              "fillmode": "overlay",
              "size": 10,
              "solidity": 0.2
             }
            },
            "type": "barpolar"
           }
          ],
          "carpet": [
           {
            "aaxis": {
             "endlinecolor": "#2a3f5f",
             "gridcolor": "white",
             "linecolor": "white",
             "minorgridcolor": "white",
             "startlinecolor": "#2a3f5f"
            },
            "baxis": {
             "endlinecolor": "#2a3f5f",
             "gridcolor": "white",
             "linecolor": "white",
             "minorgridcolor": "white",
             "startlinecolor": "#2a3f5f"
            },
            "type": "carpet"
           }
          ],
          "choropleth": [
           {
            "colorbar": {
             "outlinewidth": 0,
             "ticks": ""
            },
            "type": "choropleth"
           }
          ],
          "contour": [
           {
            "colorbar": {
             "outlinewidth": 0,
             "ticks": ""
            },
            "colorscale": [
             [
              0,
              "#0d0887"
             ],
             [
              0.1111111111111111,
              "#46039f"
             ],
             [
              0.2222222222222222,
              "#7201a8"
             ],
             [
              0.3333333333333333,
              "#9c179e"
             ],
             [
              0.4444444444444444,
              "#bd3786"
             ],
             [
              0.5555555555555556,
              "#d8576b"
             ],
             [
              0.6666666666666666,
              "#ed7953"
             ],
             [
              0.7777777777777778,
              "#fb9f3a"
             ],
             [
              0.8888888888888888,
              "#fdca26"
             ],
             [
              1,
              "#f0f921"
             ]
            ],
            "type": "contour"
           }
          ],
          "contourcarpet": [
           {
            "colorbar": {
             "outlinewidth": 0,
             "ticks": ""
            },
            "type": "contourcarpet"
           }
          ],
          "heatmap": [
           {
            "colorbar": {
             "outlinewidth": 0,
             "ticks": ""
            },
            "colorscale": [
             [
              0,
              "#0d0887"
             ],
             [
              0.1111111111111111,
              "#46039f"
             ],
             [
              0.2222222222222222,
              "#7201a8"
             ],
             [
              0.3333333333333333,
              "#9c179e"
             ],
             [
              0.4444444444444444,
              "#bd3786"
             ],
             [
              0.5555555555555556,
              "#d8576b"
             ],
             [
              0.6666666666666666,
              "#ed7953"
             ],
             [
              0.7777777777777778,
              "#fb9f3a"
             ],
             [
              0.8888888888888888,
              "#fdca26"
             ],
             [
              1,
              "#f0f921"
             ]
            ],
            "type": "heatmap"
           }
          ],
          "heatmapgl": [
           {
            "colorbar": {
             "outlinewidth": 0,
             "ticks": ""
            },
            "colorscale": [
             [
              0,
              "#0d0887"
             ],
             [
              0.1111111111111111,
              "#46039f"
             ],
             [
              0.2222222222222222,
              "#7201a8"
             ],
             [
              0.3333333333333333,
              "#9c179e"
             ],
             [
              0.4444444444444444,
              "#bd3786"
             ],
             [
              0.5555555555555556,
              "#d8576b"
             ],
             [
              0.6666666666666666,
              "#ed7953"
             ],
             [
              0.7777777777777778,
              "#fb9f3a"
             ],
             [
              0.8888888888888888,
              "#fdca26"
             ],
             [
              1,
              "#f0f921"
             ]
            ],
            "type": "heatmapgl"
           }
          ],
          "histogram": [
           {
            "marker": {
             "pattern": {
              "fillmode": "overlay",
              "size": 10,
              "solidity": 0.2
             }
            },
            "type": "histogram"
           }
          ],
          "histogram2d": [
           {
            "colorbar": {
             "outlinewidth": 0,
             "ticks": ""
            },
            "colorscale": [
             [
              0,
              "#0d0887"
             ],
             [
              0.1111111111111111,
              "#46039f"
             ],
             [
              0.2222222222222222,
              "#7201a8"
             ],
             [
              0.3333333333333333,
              "#9c179e"
             ],
             [
              0.4444444444444444,
              "#bd3786"
             ],
             [
              0.5555555555555556,
              "#d8576b"
             ],
             [
              0.6666666666666666,
              "#ed7953"
             ],
             [
              0.7777777777777778,
              "#fb9f3a"
             ],
             [
              0.8888888888888888,
              "#fdca26"
             ],
             [
              1,
              "#f0f921"
             ]
            ],
            "type": "histogram2d"
           }
          ],
          "histogram2dcontour": [
           {
            "colorbar": {
             "outlinewidth": 0,
             "ticks": ""
            },
            "colorscale": [
             [
              0,
              "#0d0887"
             ],
             [
              0.1111111111111111,
              "#46039f"
             ],
             [
              0.2222222222222222,
              "#7201a8"
             ],
             [
              0.3333333333333333,
              "#9c179e"
             ],
             [
              0.4444444444444444,
              "#bd3786"
             ],
             [
              0.5555555555555556,
              "#d8576b"
             ],
             [
              0.6666666666666666,
              "#ed7953"
             ],
             [
              0.7777777777777778,
              "#fb9f3a"
             ],
             [
              0.8888888888888888,
              "#fdca26"
             ],
             [
              1,
              "#f0f921"
             ]
            ],
            "type": "histogram2dcontour"
           }
          ],
          "mesh3d": [
           {
            "colorbar": {
             "outlinewidth": 0,
             "ticks": ""
            },
            "type": "mesh3d"
           }
          ],
          "parcoords": [
           {
            "line": {
             "colorbar": {
              "outlinewidth": 0,
              "ticks": ""
             }
            },
            "type": "parcoords"
           }
          ],
          "pie": [
           {
            "automargin": true,
            "type": "pie"
           }
          ],
          "scatter": [
           {
            "fillpattern": {
             "fillmode": "overlay",
             "size": 10,
             "solidity": 0.2
            },
            "type": "scatter"
           }
          ],
          "scatter3d": [
           {
            "line": {
             "colorbar": {
              "outlinewidth": 0,
              "ticks": ""
             }
            },
            "marker": {
             "colorbar": {
              "outlinewidth": 0,
              "ticks": ""
             }
            },
            "type": "scatter3d"
           }
          ],
          "scattercarpet": [
           {
            "marker": {
             "colorbar": {
              "outlinewidth": 0,
              "ticks": ""
             }
            },
            "type": "scattercarpet"
           }
          ],
          "scattergeo": [
           {
            "marker": {
             "colorbar": {
              "outlinewidth": 0,
              "ticks": ""
             }
            },
            "type": "scattergeo"
           }
          ],
          "scattergl": [
           {
            "marker": {
             "colorbar": {
              "outlinewidth": 0,
              "ticks": ""
             }
            },
            "type": "scattergl"
           }
          ],
          "scattermapbox": [
           {
            "marker": {
             "colorbar": {
              "outlinewidth": 0,
              "ticks": ""
             }
            },
            "type": "scattermapbox"
           }
          ],
          "scatterpolar": [
           {
            "marker": {
             "colorbar": {
              "outlinewidth": 0,
              "ticks": ""
             }
            },
            "type": "scatterpolar"
           }
          ],
          "scatterpolargl": [
           {
            "marker": {
             "colorbar": {
              "outlinewidth": 0,
              "ticks": ""
             }
            },
            "type": "scatterpolargl"
           }
          ],
          "scatterternary": [
           {
            "marker": {
             "colorbar": {
              "outlinewidth": 0,
              "ticks": ""
             }
            },
            "type": "scatterternary"
           }
          ],
          "surface": [
           {
            "colorbar": {
             "outlinewidth": 0,
             "ticks": ""
            },
            "colorscale": [
             [
              0,
              "#0d0887"
             ],
             [
              0.1111111111111111,
              "#46039f"
             ],
             [
              0.2222222222222222,
              "#7201a8"
             ],
             [
              0.3333333333333333,
              "#9c179e"
             ],
             [
              0.4444444444444444,
              "#bd3786"
             ],
             [
              0.5555555555555556,
              "#d8576b"
             ],
             [
              0.6666666666666666,
              "#ed7953"
             ],
             [
              0.7777777777777778,
              "#fb9f3a"
             ],
             [
              0.8888888888888888,
              "#fdca26"
             ],
             [
              1,
              "#f0f921"
             ]
            ],
            "type": "surface"
           }
          ],
          "table": [
           {
            "cells": {
             "fill": {
              "color": "#EBF0F8"
             },
             "line": {
              "color": "white"
             }
            },
            "header": {
             "fill": {
              "color": "#C8D4E3"
             },
             "line": {
              "color": "white"
             }
            },
            "type": "table"
           }
          ]
         },
         "layout": {
          "annotationdefaults": {
           "arrowcolor": "#2a3f5f",
           "arrowhead": 0,
           "arrowwidth": 1
          },
          "autotypenumbers": "strict",
          "coloraxis": {
           "colorbar": {
            "outlinewidth": 0,
            "ticks": ""
           }
          },
          "colorscale": {
           "diverging": [
            [
             0,
             "#8e0152"
            ],
            [
             0.1,
             "#c51b7d"
            ],
            [
             0.2,
             "#de77ae"
            ],
            [
             0.3,
             "#f1b6da"
            ],
            [
             0.4,
             "#fde0ef"
            ],
            [
             0.5,
             "#f7f7f7"
            ],
            [
             0.6,
             "#e6f5d0"
            ],
            [
             0.7,
             "#b8e186"
            ],
            [
             0.8,
             "#7fbc41"
            ],
            [
             0.9,
             "#4d9221"
            ],
            [
             1,
             "#276419"
            ]
           ],
           "sequential": [
            [
             0,
             "#0d0887"
            ],
            [
             0.1111111111111111,
             "#46039f"
            ],
            [
             0.2222222222222222,
             "#7201a8"
            ],
            [
             0.3333333333333333,
             "#9c179e"
            ],
            [
             0.4444444444444444,
             "#bd3786"
            ],
            [
             0.5555555555555556,
             "#d8576b"
            ],
            [
             0.6666666666666666,
             "#ed7953"
            ],
            [
             0.7777777777777778,
             "#fb9f3a"
            ],
            [
             0.8888888888888888,
             "#fdca26"
            ],
            [
             1,
             "#f0f921"
            ]
           ],
           "sequentialminus": [
            [
             0,
             "#0d0887"
            ],
            [
             0.1111111111111111,
             "#46039f"
            ],
            [
             0.2222222222222222,
             "#7201a8"
            ],
            [
             0.3333333333333333,
             "#9c179e"
            ],
            [
             0.4444444444444444,
             "#bd3786"
            ],
            [
             0.5555555555555556,
             "#d8576b"
            ],
            [
             0.6666666666666666,
             "#ed7953"
            ],
            [
             0.7777777777777778,
             "#fb9f3a"
            ],
            [
             0.8888888888888888,
             "#fdca26"
            ],
            [
             1,
             "#f0f921"
            ]
           ]
          },
          "colorway": [
           "#636efa",
           "#EF553B",
           "#00cc96",
           "#ab63fa",
           "#FFA15A",
           "#19d3f3",
           "#FF6692",
           "#B6E880",
           "#FF97FF",
           "#FECB52"
          ],
          "font": {
           "color": "#2a3f5f"
          },
          "geo": {
           "bgcolor": "white",
           "lakecolor": "white",
           "landcolor": "#E5ECF6",
           "showlakes": true,
           "showland": true,
           "subunitcolor": "white"
          },
          "hoverlabel": {
           "align": "left"
          },
          "hovermode": "closest",
          "mapbox": {
           "style": "light"
          },
          "paper_bgcolor": "white",
          "plot_bgcolor": "#E5ECF6",
          "polar": {
           "angularaxis": {
            "gridcolor": "white",
            "linecolor": "white",
            "ticks": ""
           },
           "bgcolor": "#E5ECF6",
           "radialaxis": {
            "gridcolor": "white",
            "linecolor": "white",
            "ticks": ""
           }
          },
          "scene": {
           "xaxis": {
            "backgroundcolor": "#E5ECF6",
            "gridcolor": "white",
            "gridwidth": 2,
            "linecolor": "white",
            "showbackground": true,
            "ticks": "",
            "zerolinecolor": "white"
           },
           "yaxis": {
            "backgroundcolor": "#E5ECF6",
            "gridcolor": "white",
            "gridwidth": 2,
            "linecolor": "white",
            "showbackground": true,
            "ticks": "",
            "zerolinecolor": "white"
           },
           "zaxis": {
            "backgroundcolor": "#E5ECF6",
            "gridcolor": "white",
            "gridwidth": 2,
            "linecolor": "white",
            "showbackground": true,
            "ticks": "",
            "zerolinecolor": "white"
           }
          },
          "shapedefaults": {
           "line": {
            "color": "#2a3f5f"
           }
          },
          "ternary": {
           "aaxis": {
            "gridcolor": "white",
            "linecolor": "white",
            "ticks": ""
           },
           "baxis": {
            "gridcolor": "white",
            "linecolor": "white",
            "ticks": ""
           },
           "bgcolor": "#E5ECF6",
           "caxis": {
            "gridcolor": "white",
            "linecolor": "white",
            "ticks": ""
           }
          },
          "title": {
           "x": 0.05
          },
          "xaxis": {
           "automargin": true,
           "gridcolor": "white",
           "linecolor": "white",
           "ticks": "",
           "title": {
            "standoff": 15
           },
           "zerolinecolor": "white",
           "zerolinewidth": 2
          },
          "yaxis": {
           "automargin": true,
           "gridcolor": "white",
           "linecolor": "white",
           "ticks": "",
           "title": {
            "standoff": 15
           },
           "zerolinecolor": "white",
           "zerolinewidth": 2
          }
         }
        },
        "title": {
         "text": "Consommation de fonte au cours du temps"
        },
        "xaxis": {
         "title": {
          "text": "Time (minutes)"
         }
        },
        "yaxis": {
         "title": {
          "text": "PFC (kg)"
         }
        }
       }
      }
     },
     "metadata": {},
     "output_type": "display_data"
    }
   ],
   "source": [
    "Plot_consom(times, PFC_Consomvalues, tmin, tmax, PFCmin, PFCmax)"
   ]
  },
  {
   "cell_type": "code",
   "execution_count": 51,
   "metadata": {},
   "outputs": [
    {
     "data": {
      "application/vnd.plotly.v1+json": {
       "config": {
        "plotlyServerURL": "https://plot.ly"
       },
       "data": [
        {
         "line": {
          "color": "royalblue"
         },
         "mode": "lines",
         "name": "PFC over time",
         "type": "scatter",
         "x": [
          0,
          1,
          2,
          3,
          4,
          5,
          6,
          7,
          8,
          9,
          10,
          11,
          12,
          13,
          14,
          15,
          16,
          17,
          18,
          19,
          20,
          21,
          22,
          23,
          24,
          25,
          26,
          27,
          28,
          29,
          30,
          31,
          32,
          33,
          34,
          35,
          36,
          37,
          38,
          39,
          40,
          41,
          42,
          43,
          44,
          45,
          46,
          47,
          48,
          49,
          50,
          55,
          56,
          57,
          58,
          59,
          60,
          61,
          62,
          63,
          64,
          65,
          66,
          67,
          68,
          69,
          70,
          71,
          72,
          73,
          74,
          75,
          76,
          77,
          78,
          79,
          80,
          81,
          82,
          83,
          84,
          85,
          86,
          87,
          88,
          89,
          90,
          91,
          92,
          93,
          94,
          95,
          96,
          97,
          98,
          99,
          100,
          101,
          102,
          103,
          104,
          105,
          110,
          111,
          112,
          113,
          114,
          115,
          116,
          117,
          118,
          119,
          120,
          121,
          122,
          123,
          124,
          125,
          126,
          127,
          128,
          129,
          130,
          131,
          132,
          133,
          134,
          135,
          136,
          137,
          138,
          139,
          140,
          141,
          142,
          143,
          144,
          145,
          146,
          147,
          148,
          149,
          150,
          151,
          152,
          153,
          154,
          155,
          156,
          157,
          158,
          159,
          160,
          165,
          166,
          167,
          168,
          169,
          170,
          171,
          172,
          173,
          174,
          175,
          176,
          177,
          178,
          179,
          180,
          181,
          182,
          183,
          184,
          185,
          186,
          187,
          188,
          189,
          190,
          191,
          192,
          193,
          194,
          195,
          196,
          197,
          198,
          199,
          200,
          201,
          202,
          203,
          204,
          205,
          206,
          207,
          208,
          209,
          210,
          211,
          212,
          213,
          214,
          215,
          220
         ],
         "y": [
          0,
          0,
          0,
          0,
          0,
          0,
          0,
          0,
          0,
          0,
          0,
          0,
          0,
          0,
          0,
          0,
          0,
          0,
          0,
          0,
          0,
          0,
          0,
          0,
          0,
          0,
          0,
          0,
          0,
          0,
          0,
          0,
          0,
          0,
          0,
          0,
          0,
          0,
          0,
          0,
          0,
          0,
          0,
          0,
          0,
          0,
          0,
          0,
          0,
          0,
          0,
          0,
          0,
          0,
          0,
          0,
          0,
          0,
          0,
          0,
          0,
          0,
          0,
          0,
          0,
          0,
          0,
          0,
          0,
          0,
          0,
          5000,
          5000,
          5000,
          5000,
          5000,
          5000,
          5000,
          5000,
          5000,
          5000,
          5000,
          5000,
          5000,
          5000,
          5000,
          5000,
          5000,
          5000,
          5000,
          5000,
          5000,
          5000,
          5000,
          5000,
          5000,
          5000,
          5000,
          5000,
          5000,
          5000,
          5000,
          5000,
          5000,
          5000,
          5000,
          5000,
          5000,
          5000,
          5000,
          5000,
          5000,
          10000,
          10000,
          10000,
          10000,
          10000,
          10000,
          10000,
          10000,
          10000,
          10000,
          10000,
          10000,
          10000,
          10000,
          10000,
          10000,
          10000,
          10000,
          10000,
          10000,
          10000,
          10000,
          10000,
          10000,
          10000,
          10000,
          10000,
          10000,
          10000,
          10000,
          10000,
          10000,
          10000,
          10000,
          10000,
          10000,
          10000,
          10000,
          10000,
          10000,
          10000,
          15000,
          15000,
          15000,
          15000,
          15000,
          15000,
          15000,
          15000,
          15000,
          15000,
          15000,
          15000,
          15000,
          15000,
          15000,
          15000,
          15000,
          15000,
          15000,
          15000,
          15000,
          15000,
          15000,
          15000,
          15000,
          15000,
          15000,
          15000,
          15000,
          15000,
          15000,
          15000,
          15000,
          15000,
          15000,
          15000,
          15000,
          15000,
          15000,
          15000,
          15000,
          15000,
          15000,
          15000,
          15000,
          20000,
          20000,
          20000,
          20000,
          20000,
          20000,
          20000
         ]
        }
       ],
       "layout": {
        "showlegend": false,
        "template": {
         "data": {
          "bar": [
           {
            "error_x": {
             "color": "#2a3f5f"
            },
            "error_y": {
             "color": "#2a3f5f"
            },
            "marker": {
             "line": {
              "color": "#E5ECF6",
              "width": 0.5
             },
             "pattern": {
              "fillmode": "overlay",
              "size": 10,
              "solidity": 0.2
             }
            },
            "type": "bar"
           }
          ],
          "barpolar": [
           {
            "marker": {
             "line": {
              "color": "#E5ECF6",
              "width": 0.5
             },
             "pattern": {
              "fillmode": "overlay",
              "size": 10,
              "solidity": 0.2
             }
            },
            "type": "barpolar"
           }
          ],
          "carpet": [
           {
            "aaxis": {
             "endlinecolor": "#2a3f5f",
             "gridcolor": "white",
             "linecolor": "white",
             "minorgridcolor": "white",
             "startlinecolor": "#2a3f5f"
            },
            "baxis": {
             "endlinecolor": "#2a3f5f",
             "gridcolor": "white",
             "linecolor": "white",
             "minorgridcolor": "white",
             "startlinecolor": "#2a3f5f"
            },
            "type": "carpet"
           }
          ],
          "choropleth": [
           {
            "colorbar": {
             "outlinewidth": 0,
             "ticks": ""
            },
            "type": "choropleth"
           }
          ],
          "contour": [
           {
            "colorbar": {
             "outlinewidth": 0,
             "ticks": ""
            },
            "colorscale": [
             [
              0,
              "#0d0887"
             ],
             [
              0.1111111111111111,
              "#46039f"
             ],
             [
              0.2222222222222222,
              "#7201a8"
             ],
             [
              0.3333333333333333,
              "#9c179e"
             ],
             [
              0.4444444444444444,
              "#bd3786"
             ],
             [
              0.5555555555555556,
              "#d8576b"
             ],
             [
              0.6666666666666666,
              "#ed7953"
             ],
             [
              0.7777777777777778,
              "#fb9f3a"
             ],
             [
              0.8888888888888888,
              "#fdca26"
             ],
             [
              1,
              "#f0f921"
             ]
            ],
            "type": "contour"
           }
          ],
          "contourcarpet": [
           {
            "colorbar": {
             "outlinewidth": 0,
             "ticks": ""
            },
            "type": "contourcarpet"
           }
          ],
          "heatmap": [
           {
            "colorbar": {
             "outlinewidth": 0,
             "ticks": ""
            },
            "colorscale": [
             [
              0,
              "#0d0887"
             ],
             [
              0.1111111111111111,
              "#46039f"
             ],
             [
              0.2222222222222222,
              "#7201a8"
             ],
             [
              0.3333333333333333,
              "#9c179e"
             ],
             [
              0.4444444444444444,
              "#bd3786"
             ],
             [
              0.5555555555555556,
              "#d8576b"
             ],
             [
              0.6666666666666666,
              "#ed7953"
             ],
             [
              0.7777777777777778,
              "#fb9f3a"
             ],
             [
              0.8888888888888888,
              "#fdca26"
             ],
             [
              1,
              "#f0f921"
             ]
            ],
            "type": "heatmap"
           }
          ],
          "heatmapgl": [
           {
            "colorbar": {
             "outlinewidth": 0,
             "ticks": ""
            },
            "colorscale": [
             [
              0,
              "#0d0887"
             ],
             [
              0.1111111111111111,
              "#46039f"
             ],
             [
              0.2222222222222222,
              "#7201a8"
             ],
             [
              0.3333333333333333,
              "#9c179e"
             ],
             [
              0.4444444444444444,
              "#bd3786"
             ],
             [
              0.5555555555555556,
              "#d8576b"
             ],
             [
              0.6666666666666666,
              "#ed7953"
             ],
             [
              0.7777777777777778,
              "#fb9f3a"
             ],
             [
              0.8888888888888888,
              "#fdca26"
             ],
             [
              1,
              "#f0f921"
             ]
            ],
            "type": "heatmapgl"
           }
          ],
          "histogram": [
           {
            "marker": {
             "pattern": {
              "fillmode": "overlay",
              "size": 10,
              "solidity": 0.2
             }
            },
            "type": "histogram"
           }
          ],
          "histogram2d": [
           {
            "colorbar": {
             "outlinewidth": 0,
             "ticks": ""
            },
            "colorscale": [
             [
              0,
              "#0d0887"
             ],
             [
              0.1111111111111111,
              "#46039f"
             ],
             [
              0.2222222222222222,
              "#7201a8"
             ],
             [
              0.3333333333333333,
              "#9c179e"
             ],
             [
              0.4444444444444444,
              "#bd3786"
             ],
             [
              0.5555555555555556,
              "#d8576b"
             ],
             [
              0.6666666666666666,
              "#ed7953"
             ],
             [
              0.7777777777777778,
              "#fb9f3a"
             ],
             [
              0.8888888888888888,
              "#fdca26"
             ],
             [
              1,
              "#f0f921"
             ]
            ],
            "type": "histogram2d"
           }
          ],
          "histogram2dcontour": [
           {
            "colorbar": {
             "outlinewidth": 0,
             "ticks": ""
            },
            "colorscale": [
             [
              0,
              "#0d0887"
             ],
             [
              0.1111111111111111,
              "#46039f"
             ],
             [
              0.2222222222222222,
              "#7201a8"
             ],
             [
              0.3333333333333333,
              "#9c179e"
             ],
             [
              0.4444444444444444,
              "#bd3786"
             ],
             [
              0.5555555555555556,
              "#d8576b"
             ],
             [
              0.6666666666666666,
              "#ed7953"
             ],
             [
              0.7777777777777778,
              "#fb9f3a"
             ],
             [
              0.8888888888888888,
              "#fdca26"
             ],
             [
              1,
              "#f0f921"
             ]
            ],
            "type": "histogram2dcontour"
           }
          ],
          "mesh3d": [
           {
            "colorbar": {
             "outlinewidth": 0,
             "ticks": ""
            },
            "type": "mesh3d"
           }
          ],
          "parcoords": [
           {
            "line": {
             "colorbar": {
              "outlinewidth": 0,
              "ticks": ""
             }
            },
            "type": "parcoords"
           }
          ],
          "pie": [
           {
            "automargin": true,
            "type": "pie"
           }
          ],
          "scatter": [
           {
            "fillpattern": {
             "fillmode": "overlay",
             "size": 10,
             "solidity": 0.2
            },
            "type": "scatter"
           }
          ],
          "scatter3d": [
           {
            "line": {
             "colorbar": {
              "outlinewidth": 0,
              "ticks": ""
             }
            },
            "marker": {
             "colorbar": {
              "outlinewidth": 0,
              "ticks": ""
             }
            },
            "type": "scatter3d"
           }
          ],
          "scattercarpet": [
           {
            "marker": {
             "colorbar": {
              "outlinewidth": 0,
              "ticks": ""
             }
            },
            "type": "scattercarpet"
           }
          ],
          "scattergeo": [
           {
            "marker": {
             "colorbar": {
              "outlinewidth": 0,
              "ticks": ""
             }
            },
            "type": "scattergeo"
           }
          ],
          "scattergl": [
           {
            "marker": {
             "colorbar": {
              "outlinewidth": 0,
              "ticks": ""
             }
            },
            "type": "scattergl"
           }
          ],
          "scattermapbox": [
           {
            "marker": {
             "colorbar": {
              "outlinewidth": 0,
              "ticks": ""
             }
            },
            "type": "scattermapbox"
           }
          ],
          "scatterpolar": [
           {
            "marker": {
             "colorbar": {
              "outlinewidth": 0,
              "ticks": ""
             }
            },
            "type": "scatterpolar"
           }
          ],
          "scatterpolargl": [
           {
            "marker": {
             "colorbar": {
              "outlinewidth": 0,
              "ticks": ""
             }
            },
            "type": "scatterpolargl"
           }
          ],
          "scatterternary": [
           {
            "marker": {
             "colorbar": {
              "outlinewidth": 0,
              "ticks": ""
             }
            },
            "type": "scatterternary"
           }
          ],
          "surface": [
           {
            "colorbar": {
             "outlinewidth": 0,
             "ticks": ""
            },
            "colorscale": [
             [
              0,
              "#0d0887"
             ],
             [
              0.1111111111111111,
              "#46039f"
             ],
             [
              0.2222222222222222,
              "#7201a8"
             ],
             [
              0.3333333333333333,
              "#9c179e"
             ],
             [
              0.4444444444444444,
              "#bd3786"
             ],
             [
              0.5555555555555556,
              "#d8576b"
             ],
             [
              0.6666666666666666,
              "#ed7953"
             ],
             [
              0.7777777777777778,
              "#fb9f3a"
             ],
             [
              0.8888888888888888,
              "#fdca26"
             ],
             [
              1,
              "#f0f921"
             ]
            ],
            "type": "surface"
           }
          ],
          "table": [
           {
            "cells": {
             "fill": {
              "color": "#EBF0F8"
             },
             "line": {
              "color": "white"
             }
            },
            "header": {
             "fill": {
              "color": "#C8D4E3"
             },
             "line": {
              "color": "white"
             }
            },
            "type": "table"
           }
          ]
         },
         "layout": {
          "annotationdefaults": {
           "arrowcolor": "#2a3f5f",
           "arrowhead": 0,
           "arrowwidth": 1
          },
          "autotypenumbers": "strict",
          "coloraxis": {
           "colorbar": {
            "outlinewidth": 0,
            "ticks": ""
           }
          },
          "colorscale": {
           "diverging": [
            [
             0,
             "#8e0152"
            ],
            [
             0.1,
             "#c51b7d"
            ],
            [
             0.2,
             "#de77ae"
            ],
            [
             0.3,
             "#f1b6da"
            ],
            [
             0.4,
             "#fde0ef"
            ],
            [
             0.5,
             "#f7f7f7"
            ],
            [
             0.6,
             "#e6f5d0"
            ],
            [
             0.7,
             "#b8e186"
            ],
            [
             0.8,
             "#7fbc41"
            ],
            [
             0.9,
             "#4d9221"
            ],
            [
             1,
             "#276419"
            ]
           ],
           "sequential": [
            [
             0,
             "#0d0887"
            ],
            [
             0.1111111111111111,
             "#46039f"
            ],
            [
             0.2222222222222222,
             "#7201a8"
            ],
            [
             0.3333333333333333,
             "#9c179e"
            ],
            [
             0.4444444444444444,
             "#bd3786"
            ],
            [
             0.5555555555555556,
             "#d8576b"
            ],
            [
             0.6666666666666666,
             "#ed7953"
            ],
            [
             0.7777777777777778,
             "#fb9f3a"
            ],
            [
             0.8888888888888888,
             "#fdca26"
            ],
            [
             1,
             "#f0f921"
            ]
           ],
           "sequentialminus": [
            [
             0,
             "#0d0887"
            ],
            [
             0.1111111111111111,
             "#46039f"
            ],
            [
             0.2222222222222222,
             "#7201a8"
            ],
            [
             0.3333333333333333,
             "#9c179e"
            ],
            [
             0.4444444444444444,
             "#bd3786"
            ],
            [
             0.5555555555555556,
             "#d8576b"
            ],
            [
             0.6666666666666666,
             "#ed7953"
            ],
            [
             0.7777777777777778,
             "#fb9f3a"
            ],
            [
             0.8888888888888888,
             "#fdca26"
            ],
            [
             1,
             "#f0f921"
            ]
           ]
          },
          "colorway": [
           "#636efa",
           "#EF553B",
           "#00cc96",
           "#ab63fa",
           "#FFA15A",
           "#19d3f3",
           "#FF6692",
           "#B6E880",
           "#FF97FF",
           "#FECB52"
          ],
          "font": {
           "color": "#2a3f5f"
          },
          "geo": {
           "bgcolor": "white",
           "lakecolor": "white",
           "landcolor": "#E5ECF6",
           "showlakes": true,
           "showland": true,
           "subunitcolor": "white"
          },
          "hoverlabel": {
           "align": "left"
          },
          "hovermode": "closest",
          "mapbox": {
           "style": "light"
          },
          "paper_bgcolor": "white",
          "plot_bgcolor": "#E5ECF6",
          "polar": {
           "angularaxis": {
            "gridcolor": "white",
            "linecolor": "white",
            "ticks": ""
           },
           "bgcolor": "#E5ECF6",
           "radialaxis": {
            "gridcolor": "white",
            "linecolor": "white",
            "ticks": ""
           }
          },
          "scene": {
           "xaxis": {
            "backgroundcolor": "#E5ECF6",
            "gridcolor": "white",
            "gridwidth": 2,
            "linecolor": "white",
            "showbackground": true,
            "ticks": "",
            "zerolinecolor": "white"
           },
           "yaxis": {
            "backgroundcolor": "#E5ECF6",
            "gridcolor": "white",
            "gridwidth": 2,
            "linecolor": "white",
            "showbackground": true,
            "ticks": "",
            "zerolinecolor": "white"
           },
           "zaxis": {
            "backgroundcolor": "#E5ECF6",
            "gridcolor": "white",
            "gridwidth": 2,
            "linecolor": "white",
            "showbackground": true,
            "ticks": "",
            "zerolinecolor": "white"
           }
          },
          "shapedefaults": {
           "line": {
            "color": "#2a3f5f"
           }
          },
          "ternary": {
           "aaxis": {
            "gridcolor": "white",
            "linecolor": "white",
            "ticks": ""
           },
           "baxis": {
            "gridcolor": "white",
            "linecolor": "white",
            "ticks": ""
           },
           "bgcolor": "#E5ECF6",
           "caxis": {
            "gridcolor": "white",
            "linecolor": "white",
            "ticks": ""
           }
          },
          "title": {
           "x": 0.05
          },
          "xaxis": {
           "automargin": true,
           "gridcolor": "white",
           "linecolor": "white",
           "ticks": "",
           "title": {
            "standoff": 15
           },
           "zerolinecolor": "white",
           "zerolinewidth": 2
          },
          "yaxis": {
           "automargin": true,
           "gridcolor": "white",
           "linecolor": "white",
           "ticks": "",
           "title": {
            "standoff": 15
           },
           "zerolinecolor": "white",
           "zerolinewidth": 2
          }
         }
        },
        "title": {
         "text": "Production de fonte au cours du temps"
        },
        "xaxis": {
         "title": {
          "text": "Time (minutes)"
         }
        },
        "yaxis": {
         "title": {
          "text": "PFC (kg)"
         }
        }
       }
      }
     },
     "metadata": {},
     "output_type": "display_data"
    }
   ],
   "source": [
    "Plot_Prod(times, PFC_Prodvalues)"
   ]
  },
  {
   "cell_type": "code",
   "execution_count": null,
   "metadata": {},
   "outputs": [],
   "source": []
  },
  {
   "cell_type": "markdown",
   "metadata": {},
   "source": [
    "# Code 3"
   ]
  },
  {
   "cell_type": "code",
   "execution_count": null,
   "metadata": {},
   "outputs": [],
   "source": []
  },
  {
   "cell_type": "code",
   "execution_count": null,
   "metadata": {},
   "outputs": [],
   "source": []
  },
  {
   "cell_type": "markdown",
   "metadata": {},
   "source": [
    "On a 4000 kg de fontes dans le four de Coulée avec un pourcentage de Mg = 0.0045 %.\n",
    "On consonmme 36 Kg de fonte par minute dans le four de Coulée.\n",
    "On perd 0.005 % de Mg par minute.\n",
    "\n",
    "Tu es un mathématicien et tu dois Tracer la courbe d'évolution du Mg\n",
    "dans le four de Coulée. \n",
    "\n",
    "Si tu as des questions ou s'il te manque certaines informations, n'hésite pas à me les demander !!"
   ]
  },
  {
   "cell_type": "code",
   "execution_count": null,
   "metadata": {},
   "outputs": [],
   "source": []
  },
  {
   "cell_type": "code",
   "execution_count": 1,
   "metadata": {},
   "outputs": [],
   "source": [
    "import plotly.graph_objects as go\n",
    "import numpy as np\n",
    "\n",
    "def Plot_consom(times, PFC_values, tmin, tmax, PFCmin, PFCmax):\n",
    "\n",
    "    # Create Plotly figure\n",
    "    fig = go.Figure()\n",
    "\n",
    "    # Add PFC line\n",
    "    fig.add_trace(go.Scatter(x=times, y=PFC_values, mode='lines', name='PFC over time', line=dict(color='royalblue')))\n",
    "\n",
    "    # Add horizontal lines for PFCmin and PFCmax\n",
    "    fig.add_shape(type=\"line\", x0=tmin, y0=PFCmin, x1=tmax, y1=PFCmin, line=dict(color=\"firebrick\", width=2, dash=\"dash\"), name=\"PFCmin\")\n",
    "    \n",
    "    fig.add_shape(type=\"line\", x0=tmin, y0=PFCmax, x1=tmax, y1=PFCmax, line=dict(color=\"green\", width=2, dash=\"dash\"), name=\"PFCmax\")\n",
    "\n",
    "\n",
    "    # Customize layout\n",
    "    fig.update_layout(title='Evolution de la fonte dans le Four de Coulée au cours du temps', xaxis_title='Time (minutes)', yaxis_title='PFC (kg)', template='plotly',\n",
    "        showlegend=False,annotations=[\n",
    "            dict(x=tmax,y=PFCmin,xref=\"x\",yref=\"y\",text=\"PFCmin\",showarrow=True,arrowhead=2,ax=20,ay=-30),\n",
    "            dict(x=tmax,y=PFCmax,xref=\"x\",yref=\"y\",text=\"PFCmax\",showarrow=True,arrowhead=2,ax=20,ay=-30)])\n",
    "\n",
    "    # Show the plot\n",
    "    fig.show()\n",
    "\n",
    "def Plot_Prod(times, PFC_values):\n",
    "\n",
    "    # Create Plotly figure\n",
    "    fig = go.Figure()\n",
    "\n",
    "    # Add PFC line\n",
    "    fig.add_trace(go.Scatter(x=times, y=PFC_values, mode='lines', name='PFC over time', line=dict(color='royalblue')))\n",
    "\n",
    "    # Customize layout\n",
    "    fig.update_layout(title='Evolution de la fonte disponible dans le Four de Fusion au cours du temps', xaxis_title='Time (minutes)', yaxis_title='PFC (kg)', template='plotly',\n",
    "        showlegend=False)\n",
    "\n",
    "    # Show the plot\n",
    "    fig.show()"
   ]
  },
  {
   "cell_type": "code",
   "execution_count": 432,
   "metadata": {},
   "outputs": [],
   "source": [
    "def update_production_chargement_et_fusion(t, temps_chargement, temps_fusion, numfours, fonte_produit, PFC_Prod):\n",
    "    \n",
    "    \"\"\"\n",
    "    Met à jour la production de fonte en fonction du temps écoulé lors du chargement et de la fusion.\n",
    "    \n",
    "    :param t: Temps actuel en minutes\n",
    "    :param Temps_chargement: Temps de chargement en minutes\n",
    "    :param Temps_fusion: Temps de fusion en minutes\n",
    "    :param numfours: Nombre de fours en production\n",
    "    :param Fonte_produit: Quantité de fonte produite par cycle en kg\n",
    "    :param PFC_Prod: Production actuelle de fonte en kg\n",
    "    :param poche: Paramètre optionnel, par défaut à 0\n",
    "    :return: Tuple (numfours, PFC_Prod) mis à jour\n",
    "    \"\"\"\n",
    "    # if t >= Temps_chargement + Temps_fusion:\n",
    "    if t >= temps_chargement + temps_fusion:\n",
    "        numfours += 1\n",
    "        PFC_Prod += fonte_produit\n",
    "    return numfours, PFC_Prod\n",
    "\n",
    "def calcule_chargement_et_fusion(times, PFC_Prodvalues, PFC_Consomvalues, fonte_produit, numfours, temps_chargement, temps_fusion):\n",
    "    \"\"\"\n",
    "    Calcule la consommation et la production de fonte du début du chargement à la fin de la 1ere fusion.\n",
    "    \"\"\"\n",
    "\n",
    "    PFC_Consom = PFC_Consomvalues[-1]\n",
    "    PFC_Prod = PFC_Prodvalues[-1]\n",
    "    t = times[-1]\n",
    "\n",
    "    # Mise à jour de la production de fonte après chargement\n",
    "    t += temps_chargement\n",
    "    numfours, PFC_Prod = update_production_chargement_et_fusion(t, temps_chargement, temps_fusion, numfours, fonte_produit, PFC_Prod)\n",
    "    PFC_Prodvalues.append(PFC_Prod)\n",
    "    PFC_Consomvalues.append(PFC_Consom)\n",
    "    times.append(t)\n",
    "\n",
    "\n",
    "    # # Mise à jour de la production de fonte entre debut/fin fusion\n",
    "    # t += temps_fusion-1\n",
    "    # numfours, PFC_Prod = update_production_chargement_et_fusion(t, temps_chargement, temps_fusion, numfours, fonte_produit, PFC_Prod)\n",
    "    # PFC_Prodvalues.append(PFC_Prod)\n",
    "    # PFC_Consomvalues.append(PFC_Consom)\n",
    "    # times.append(t)\n",
    "\n",
    "    # # Mise à jour de la production de fonte après fusion\n",
    "    # t += 1 \n",
    "    # numfours, PFC_Prod = update_production_chargement_et_fusion(t, temps_chargement, temps_fusion, numfours, fonte_produit, PFC_Prod)\n",
    "    # PFC_Prodvalues.append(PFC_Prod)\n",
    "    # PFC_Consomvalues.append(PFC_Consom)\n",
    "    # times.append(t)\n",
    "\n",
    "    # Mise à jour de la production de fonte après fusion\n",
    "    t += temps_fusion\n",
    "    numfours, PFC_Prod = update_production_chargement_et_fusion(t, temps_chargement, temps_fusion, numfours, fonte_produit, PFC_Prod)\n",
    "    PFC_Prodvalues.append(PFC_Prod)\n",
    "    PFC_Consomvalues.append(PFC_Consom)\n",
    "    times.append(t)\n",
    "\n",
    "    return times, PFC_Prodvalues, PFC_Consomvalues\n",
    "\n",
    "\n",
    "def update_production(t, temps_chargement, temps_fusion, numfours, fonte_produit, PFC_Prod, poche = 0):\n",
    "    \"\"\"\n",
    "    Met à jour la production de fonte en fonction du temps écoulé.\n",
    "    \"\"\"\n",
    "    if t > temps_chargement and (t - temps_chargement) % temps_fusion == 0 and numfours <= 4 :\n",
    "        numfours += 1\n",
    "        PFC_Prod += fonte_produit\n",
    "    PFC_Prod -= poche\n",
    "    return numfours, PFC_Prod\n",
    "\n",
    "\n",
    "def calcule_Transitoire(times, PFC_Prodvalues, PFC_Consomvalues, fonte_produit, numfours, temps_chargement, temps_fusion):\n",
    "    \"\"\"\n",
    "    Calcule la consommation et la production de fonte lors des 3 premieres poches (Régime Transitoire).\n",
    "    \"\"\"\n",
    "    temps_poche_1, temps_poche_2, temps_poche_3 = 10, 10, 10 # temps traitement\n",
    "    poche_1, poche_2, poche_3 = 1250, 1250, 1250\n",
    "\n",
    "    PFC_Consom = PFC_Consomvalues[-1]\n",
    "    PFC_Prod = PFC_Prodvalues[-1]\n",
    "    t = times[-1]\n",
    "\n",
    "    \n",
    "    t += temps_poche_1\n",
    "    PFC_Consom += poche_1 \n",
    "\n",
    "    # Mise à jour de la production et consommation de fonte\n",
    "    numfours, PFC_Prod = update_production(t, temps_chargement, temps_fusion, numfours, fonte_produit, PFC_Prod, poche_1)\n",
    "    PFC_Prodvalues.append(PFC_Prod)\n",
    "    PFC_Consomvalues.append(PFC_Consom)\n",
    "    times.append(t)\n",
    "\n",
    "\n",
    "    t += temps_poche_2\n",
    "    # Mise à jour de la consommation de fonte\n",
    "    PFC_Consom += poche_2 \n",
    "    PFC_Consomvalues.append(PFC_Consom)\n",
    "    \n",
    "    # Mise à jour de la production de fonte\n",
    "    numfours, PFC_Prod = update_production(t, temps_chargement, temps_fusion, numfours, fonte_produit, PFC_Prod, poche_2)\n",
    "    PFC_Prodvalues.append(PFC_Prod)\n",
    "    times.append(t)\n",
    "\n",
    "\n",
    "    t += temps_poche_3\n",
    "    # Mise à jour de la consommation de fonte\n",
    "    PFC_Consom += poche_3 \n",
    "    PFC_Consomvalues.append(PFC_Consom)\n",
    "    \n",
    "    # Mise à jour de la production de fonte\n",
    "    numfours, PFC_Prod = update_production(t, temps_chargement, temps_fusion, numfours, fonte_produit, PFC_Prod, poche_3)\n",
    "    PFC_Prodvalues.append(PFC_Prod)\n",
    "    times.append(t)\n",
    "\n",
    "    return times, PFC_Prodvalues,PFC_Consomvalues\n",
    "\n",
    "\n",
    "def calculate_cadence_per_minute(nb_moules_heure, masse_grappe):\n",
    "    \"\"\"\n",
    "    Calcule la cadence de consommation de fonte par minute.\n",
    "    \"\"\"\n",
    "    return nb_moules_heure / 60 * masse_grappe\n",
    "\n",
    "\n",
    "def calcule_temps_poche_4(PFC_Consomvalues, liste_masse_grappe, liste_quantite_mottes, Mgmax, Mgmin, PFCmin, eC):\n",
    "\n",
    "    PFC_Consom = PFC_Consomvalues[-1]\n",
    "    Mg = Mgmax\n",
    "    \n",
    "    temps_ajout_poche_i_Coulee = 0\n",
    "    stop_boucle = False\n",
    "    # Pour trouver le temps de la poche 4\n",
    "    for masse_grappe, quantite_mottes in zip(liste_masse_grappe, liste_quantite_mottes):\n",
    "        for _ in range(quantite_mottes):\n",
    "            cadence =  calculate_cadence_per_minute(nb_moules_heure, masse_grappe)\n",
    "            PFC_Consom -= cadence  \n",
    "            Mg -= eC\n",
    "            CondAjout = PFC_Consom  > PFCmin and Mg  > Mgmin\n",
    "            if CondAjout : \n",
    "                temps_ajout_poche_i_Coulee += 1\n",
    "            else:\n",
    "                stop_boucle = True\n",
    "                break\n",
    "        if stop_boucle:\n",
    "            break\n",
    "\n",
    "    return temps_ajout_poche_i_Coulee\n",
    "\n",
    "\n",
    "def calcule_temps_poche_i(PFC_Consom, index_grappe, liste_masse_grappe, index_motte, liste_quantite_mottes, Mg, Mgmin, PFCmin, eC):\n",
    "\n",
    "    # print(PFC_Consom)\n",
    "\n",
    "\n",
    "    liste_cadences = [7.83, 7.48, 2.96, 4.19, 7.83, 7.48, 2.96, 7.83, 5.63] # en Tonnes/hr\n",
    "    liste_cadences = np.array(liste_cadences) * 1000 / 60\n",
    "    liste_cadences = liste_cadences.tolist()\n",
    "    liste_temps_serie = [3, 3, 3, 3, 3, 3, 3, 3] # en minutes\n",
    "    liste_temps_serie = [0, 0, 0, 0, 0, 0, 0, 0] # en minutes\n",
    "\n",
    "\n",
    "\n",
    "    liste_cadences = liste_cadences[index_grappe-1:]\n",
    "\n",
    "    # print(\"Ici1\",liste_quantite_mottes,liste_masse_grappe)\n",
    "\n",
    "    liste_quantite_mottes = liste_quantite_mottes[index_grappe-1:]\n",
    "    liste_masse_grappe = liste_masse_grappe[index_grappe-1:]\n",
    "\n",
    "    # Cas ou fin d'une serie et Mais reste de serie encore\n",
    "    if liste_quantite_mottes[0] == index_motte and len(liste_masse_grappe[index_grappe:]) != 0:\n",
    "        liste_quantite_mottes = liste_quantite_mottes[index_grappe:]\n",
    "        liste_masse_grappe = liste_masse_grappe[index_grappe:]\n",
    "        # print(\"Ici1\",liste_quantite_mottes,liste_masse_grappe)\n",
    "    \n",
    "    else :\n",
    "        liste_quantite_mottes[0] -=  index_motte\n",
    "        # print(\"Ici2\",liste_quantite_mottes,liste_masse_grappe)\n",
    "\n",
    "\n",
    "    # print(\"Ici2\",liste_quantite_mottes,liste_masse_grappe)\n",
    "\n",
    "\n",
    "    temps_ajout_poche_i_Coulee = 0\n",
    "    stop_boucle = False\n",
    "    # Pour trouver le temps de la poche 4\n",
    "    for idx, (masse_grappe, quantite_mottes) in enumerate(zip(liste_masse_grappe, liste_quantite_mottes)):\n",
    "        cadence = liste_cadences[idx]\n",
    "        temps_serie = liste_temps_serie[idx]\n",
    "\n",
    "        for _ in range(quantite_mottes):\n",
    "            PFC_Consom -= cadence  \n",
    "            Mg -= eC\n",
    "            # print(Mg,PFC_Consom)\n",
    "            if PFC_Consom  > PFCmin and Mg  > Mgmin : \n",
    "                print(\"index_grappe, PFC_Consom\",index_grappe,PFC_Consom)\n",
    "                temps_ajout_poche_i_Coulee += 1\n",
    "                # print(\"temps_ajout_poche_i_Coulee \",temps_ajout_poche_i_Coulee)\n",
    "            else :\n",
    "                # print(Mg,PFC_Consom)\n",
    "                stop_boucle = True\n",
    "                break\n",
    "        if stop_boucle:\n",
    "            break\n",
    "        else :\n",
    "            # print(\"temps_ajout_poche_i_Coulee \",temps_ajout_poche_i_Coulee)\n",
    "            temps_ajout_poche_i_Coulee += temps_serie\n",
    "            \n",
    "    # print(\"temps_ajout_poche_i_Coulee \",temps_ajout_poche_i_Coulee)\n",
    "\n",
    "    return temps_ajout_poche_i_Coulee\n",
    "\n"
   ]
  },
  {
   "cell_type": "code",
   "execution_count": null,
   "metadata": {},
   "outputs": [],
   "source": []
  },
  {
   "cell_type": "code",
   "execution_count": null,
   "metadata": {},
   "outputs": [],
   "source": []
  },
  {
   "cell_type": "code",
   "execution_count": 429,
   "metadata": {},
   "outputs": [],
   "source": [
    "\n",
    "\n",
    "def ProdConsom(liste_masse_grappe, liste_quantite_mottes, nb_moules_heure, t_serie, temps_fusion, temps_chargement, temps_traitement, Mg, Mgmin,Mgmax, eC):\n",
    "    \"\"\"\n",
    "    Calcule la consommation et la production de fonte.\n",
    "    \"\"\"\n",
    "    # Initialisation des variables\n",
    "    numfours = 1\n",
    "    fonte_produit = 5000  # Fonte produite toutes les 45 min en kg\n",
    "    PFC_Prodvalues = [0]  # Production de fonte en kg\n",
    "    PFC_Consomvalues = [0]  # Consommation de fonte en kg\n",
    "    times = [0]  # Temps en minutes\n",
    "\n",
    "    Listetemps_ajout_poche_i_Coulee = []\n",
    "    Listetemps_depart_poche_i_Fusion = []\n",
    "\n",
    "    times, PFC_Prodvalues,PFC_Consomvalues = calcule_chargement_et_fusion(times, PFC_Prodvalues, PFC_Consomvalues, fonte_produit, numfours, temps_chargement, temps_fusion)\n",
    "\n",
    "    times, PFC_Prodvalues,PFC_Consomvalues = calcule_Transitoire(times, PFC_Prodvalues, PFC_Consomvalues, fonte_produit, numfours, temps_chargement, temps_fusion)\n",
    "\n",
    "    temps_ajout_poche_4_Coulee = calcule_temps_poche_4(PFC_Consomvalues, liste_masse_grappe, liste_quantite_mottes, Mgmax, Mgmin, PFCmin, eC)\n",
    "    temps_depart_poche_i_Fusion = temps_ajout_poche_4_Coulee - temps_traitement\n",
    "    Listetemps_ajout_poche_i_Coulee.append(temps_ajout_poche_4_Coulee)\n",
    "    Listetemps_depart_poche_i_Fusion.append(temps_depart_poche_i_Fusion)\n",
    "    \n",
    "    numfours += 1\n",
    "\n",
    "\n",
    "\n",
    "\n",
    "    PFC_Prod = PFC_Prodvalues[-1]\n",
    "    PFC_Consom = PFC_Consomvalues[-1]\n",
    "    t = times[-1]\n",
    "\n",
    "    t_avantpoche_i = t\n",
    "    poche_i = 1250\n",
    "\n",
    "    # print( \"ICI\",PFC_Consom,t,Listetemps_ajout_poche_i_Coulee)\n",
    "\n",
    "\n",
    "# ----------------------------------------------------------------------------------\n",
    "\n",
    "    # Boucle principale consomation et production\n",
    "    # Indices de suivi pour les listes\n",
    "    t_max = 600 #4*60\n",
    "    index_grappe = 1 #0\n",
    "    index_motte = 1 #0\n",
    "    quantite_mottes = liste_quantite_mottes[index_grappe-1]\n",
    "\n",
    "    liste_cadences = [7.83, 7.48, 2.96, 4.19, 7.83, 7.48, 2.96, 7.83, 5.63] # en Tonnes/hr\n",
    "    liste_cadences = np.array(liste_cadences) * 1000 / 60\n",
    "    liste_cadences = liste_cadences.tolist()\n",
    "\n",
    "    while t < t_max:  \n",
    "        if index_grappe <= len(liste_masse_grappe) and index_motte <= quantite_mottes:\n",
    "            masse_grappe = liste_masse_grappe[index_grappe-1]\n",
    "            cadence =  liste_cadences[index_grappe-1]\n",
    "            \n",
    "            # print(\"Changement de serie \",index_grappe,index_motte)\n",
    "            # print(PFC_Consom,t,Listetemps_ajout_poche_i_Coulee)\n",
    "\n",
    "            # Avant de consommer de la fonte, on doit savoir :\n",
    "            # Quand prendre la poche_i dans le Fours de Fusion ?\n",
    "            if t == (Listetemps_depart_poche_i_Fusion[-1] + t_avantpoche_i):\n",
    "                numfours, PFC_Prod = update_production(t, temps_chargement, temps_fusion, numfours, fonte_produit, PFC_Prod, poche_i)\n",
    "            else:\n",
    "                numfours, PFC_Prod = update_production(t, temps_chargement, temps_fusion, numfours, fonte_produit, PFC_Prod)\n",
    "\n",
    "            # print( \"ICI1\",PFC_Consom,cadence,t,t_avantpoche_i,Listetemps_ajout_poche_i_Coulee)\n",
    "\n",
    "            # Avant de consommer de la fonte, on doit savoir :\n",
    "            # Quand ajouter la poche_i dans le Fours de Coulée ?\n",
    "            if t == (Listetemps_ajout_poche_i_Coulee[-1] + t_avantpoche_i):\n",
    "                PFC_Consom += poche_i\n",
    "                Mg = Mgmax\n",
    "\n",
    "                # print( \"ICI2\",PFC_Consom,cadence,t,t_avantpoche_i,Listetemps_ajout_poche_i_Coulee)\n",
    "\n",
    "                # Calcul Temps prochain poche_i\n",
    "                temps_ajout_poche_i_Coulee = calcule_temps_poche_i(PFC_Consom, index_grappe, liste_masse_grappe, index_motte, liste_quantite_mottes, Mg, Mgmin, PFCmin, eC)\n",
    "                Listetemps_ajout_poche_i_Coulee.append(temps_ajout_poche_i_Coulee)\n",
    "                t_avantpoche_i = t\n",
    "\n",
    "                temps_depart_poche_i_Fusion = Listetemps_ajout_poche_i_Coulee[-1] - temps_traitement\n",
    "                Listetemps_depart_poche_i_Fusion.append(temps_depart_poche_i_Fusion)\n",
    "\n",
    "\n",
    "            # Mise à jour de la consommation de fonte et de Mg\n",
    "            PFC_Consom -= cadence  \n",
    "            Mg -= eC\n",
    "\n",
    "            # Mise à jour des indices de suivi des mottes\n",
    "            if index_motte  < quantite_mottes:\n",
    "                index_motte += 1\n",
    "            else:\n",
    "                # Gestion du Changement de Serie\n",
    "                # print(\"Changement de serie 2\")\n",
    "\n",
    "                # print(\"la\", index_grappe)\n",
    "\n",
    "                index_motte = 1\n",
    "                index_grappe += 1\n",
    "                if index_grappe <= len(liste_quantite_mottes):\n",
    "                    quantite_mottes = liste_quantite_mottes[index_grappe-1]\n",
    "\n",
    "\n",
    "\n",
    "\n",
    "\n",
    "        # Mise à jour du temps\n",
    "        t += 1\n",
    "        # print(\"t = \",t)\n",
    "        times.append(t)\n",
    "        PFC_Prodvalues.append(PFC_Prod)\n",
    "        PFC_Consomvalues.append(PFC_Consom)\n",
    "\n",
    "\n",
    "\n",
    "    tmin = times[0]\n",
    "    tmax = times[-1]\n",
    "    return times, PFC_Consomvalues, PFC_Prodvalues, tmin, tmax\n"
   ]
  },
  {
   "cell_type": "code",
   "execution_count": 433,
   "metadata": {},
   "outputs": [
    {
     "name": "stdout",
     "output_type": "stream",
     "text": [
      "index_grappe, PFC_Consom 1 3695.0\n",
      "index_grappe, PFC_Consom 1 3564.5\n",
      "index_grappe, PFC_Consom 1 3434.0\n",
      "index_grappe, PFC_Consom 1 3303.5\n",
      "index_grappe, PFC_Consom 1 3173.0\n",
      "index_grappe, PFC_Consom 1 3042.5\n",
      "index_grappe, PFC_Consom 1 2912.0\n",
      "index_grappe, PFC_Consom 1 2781.5\n",
      "index_grappe, PFC_Consom 1 2651.0\n",
      "index_grappe, PFC_Consom 1 2520.5\n",
      "index_grappe, PFC_Consom 1 3640.0\n",
      "index_grappe, PFC_Consom 1 3509.5\n",
      "index_grappe, PFC_Consom 1 3379.0\n",
      "index_grappe, PFC_Consom 1 3248.5\n",
      "index_grappe, PFC_Consom 1 3118.0\n",
      "index_grappe, PFC_Consom 1 2987.5\n",
      "index_grappe, PFC_Consom 1 2857.0\n",
      "index_grappe, PFC_Consom 1 2726.5\n",
      "index_grappe, PFC_Consom 1 2596.0\n",
      "index_grappe, PFC_Consom 1 3715.5\n",
      "index_grappe, PFC_Consom 1 3585.0\n",
      "index_grappe, PFC_Consom 1 3454.5\n",
      "index_grappe, PFC_Consom 1 3324.0\n",
      "index_grappe, PFC_Consom 1 3193.5\n",
      "index_grappe, PFC_Consom 1 3063.0\n",
      "index_grappe, PFC_Consom 1 2932.5\n",
      "index_grappe, PFC_Consom 1 2802.0\n",
      "index_grappe, PFC_Consom 1 2671.5\n",
      "index_grappe, PFC_Consom 1 2541.0\n",
      "index_grappe, PFC_Consom 1 3660.5\n",
      "index_grappe, PFC_Consom 1 3530.0\n",
      "index_grappe, PFC_Consom 1 3399.5\n",
      "index_grappe, PFC_Consom 1 3269.0\n",
      "index_grappe, PFC_Consom 1 3138.5\n",
      "index_grappe, PFC_Consom 1 3008.0\n",
      "index_grappe, PFC_Consom 1 2877.5\n",
      "index_grappe, PFC_Consom 1 2747.0\n",
      "index_grappe, PFC_Consom 1 2616.5\n",
      "index_grappe, PFC_Consom 1 3736.0\n",
      "index_grappe, PFC_Consom 1 3605.5\n",
      "index_grappe, PFC_Consom 1 3475.0\n",
      "index_grappe, PFC_Consom 1 3344.5\n",
      "index_grappe, PFC_Consom 1 3214.0\n",
      "index_grappe, PFC_Consom 1 3083.5\n",
      "index_grappe, PFC_Consom 1 2953.0\n",
      "index_grappe, PFC_Consom 1 2822.5\n",
      "index_grappe, PFC_Consom 1 2692.0\n",
      "index_grappe, PFC_Consom 1 2561.5\n",
      "index_grappe, PFC_Consom 1 3681.0\n",
      "index_grappe, PFC_Consom 1 3550.5\n",
      "index_grappe, PFC_Consom 1 3420.0\n",
      "index_grappe, PFC_Consom 1 3289.5\n",
      "index_grappe, PFC_Consom 1 3159.0\n",
      "index_grappe, PFC_Consom 1 3028.5\n",
      "index_grappe, PFC_Consom 1 2898.0\n",
      "index_grappe, PFC_Consom 1 2767.5\n",
      "index_grappe, PFC_Consom 1 2637.0\n",
      "index_grappe, PFC_Consom 1 2506.5\n",
      "index_grappe, PFC_Consom 1 3626.0\n",
      "index_grappe, PFC_Consom 1 3495.5\n",
      "index_grappe, PFC_Consom 1 3365.0\n",
      "index_grappe, PFC_Consom 1 3234.5\n",
      "index_grappe, PFC_Consom 1 3104.0\n",
      "index_grappe, PFC_Consom 1 2973.5\n",
      "index_grappe, PFC_Consom 1 2843.0\n",
      "index_grappe, PFC_Consom 1 2712.5\n",
      "index_grappe, PFC_Consom 1 2582.0\n",
      "index_grappe, PFC_Consom 1 3701.5\n",
      "index_grappe, PFC_Consom 1 3571.0\n",
      "index_grappe, PFC_Consom 1 3440.5\n",
      "index_grappe, PFC_Consom 1 3310.0\n",
      "index_grappe, PFC_Consom 1 3179.5\n",
      "index_grappe, PFC_Consom 1 3049.0\n",
      "index_grappe, PFC_Consom 1 2918.5\n",
      "index_grappe, PFC_Consom 1 2788.0\n",
      "index_grappe, PFC_Consom 1 2657.5\n",
      "index_grappe, PFC_Consom 1 2527.0\n",
      "index_grappe, PFC_Consom 1 3646.5\n",
      "index_grappe, PFC_Consom 1 3516.0\n",
      "index_grappe, PFC_Consom 1 3385.5\n",
      "index_grappe, PFC_Consom 1 3255.0\n",
      "index_grappe, PFC_Consom 1 3124.5\n",
      "index_grappe, PFC_Consom 1 2994.0\n",
      "index_grappe, PFC_Consom 1 2863.5\n",
      "index_grappe, PFC_Consom 1 2733.0\n",
      "index_grappe, PFC_Consom 1 2602.5\n",
      "index_grappe, PFC_Consom 1 3722.0\n",
      "index_grappe, PFC_Consom 1 3591.5\n",
      "index_grappe, PFC_Consom 1 3461.0\n",
      "index_grappe, PFC_Consom 1 3330.5\n",
      "index_grappe, PFC_Consom 1 3200.0\n",
      "index_grappe, PFC_Consom 1 3069.5\n",
      "index_grappe, PFC_Consom 1 2939.0\n",
      "index_grappe, PFC_Consom 1 2808.5\n",
      "index_grappe, PFC_Consom 1 2678.0\n",
      "index_grappe, PFC_Consom 1 2547.5\n",
      "index_grappe, PFC_Consom 1 3667.0\n",
      "index_grappe, PFC_Consom 1 3536.5\n",
      "index_grappe, PFC_Consom 1 3406.0\n",
      "index_grappe, PFC_Consom 1 3275.5\n",
      "index_grappe, PFC_Consom 1 3145.0\n",
      "index_grappe, PFC_Consom 1 3014.5\n",
      "index_grappe, PFC_Consom 1 2884.0\n",
      "index_grappe, PFC_Consom 1 2753.5\n",
      "index_grappe, PFC_Consom 1 2623.0\n",
      "index_grappe, PFC_Consom 1 3742.5\n",
      "index_grappe, PFC_Consom 1 3612.0\n",
      "index_grappe, PFC_Consom 1 3481.5\n",
      "index_grappe, PFC_Consom 1 3351.0\n",
      "index_grappe, PFC_Consom 1 3220.5\n",
      "index_grappe, PFC_Consom 1 3090.0\n",
      "index_grappe, PFC_Consom 1 2965.3333333333335\n",
      "index_grappe, PFC_Consom 1 2840.666666666667\n",
      "index_grappe, PFC_Consom 1 2716.0000000000005\n",
      "index_grappe, PFC_Consom 1 2591.333333333334\n",
      "index_grappe, PFC_Consom 2 3710.833333333334\n",
      "index_grappe, PFC_Consom 2 3586.1666666666674\n",
      "index_grappe, PFC_Consom 2 3461.500000000001\n",
      "index_grappe, PFC_Consom 2 3336.8333333333344\n",
      "index_grappe, PFC_Consom 2 3212.166666666668\n",
      "index_grappe, PFC_Consom 2 3087.5000000000014\n",
      "index_grappe, PFC_Consom 2 2962.833333333335\n",
      "index_grappe, PFC_Consom 2 2838.1666666666683\n",
      "index_grappe, PFC_Consom 2 2713.500000000002\n",
      "index_grappe, PFC_Consom 2 2588.8333333333353\n",
      "index_grappe, PFC_Consom 2 3714.166666666669\n",
      "index_grappe, PFC_Consom 2 3589.5000000000023\n",
      "index_grappe, PFC_Consom 2 3464.8333333333358\n",
      "index_grappe, PFC_Consom 2 3340.1666666666692\n",
      "index_grappe, PFC_Consom 2 3215.5000000000027\n",
      "index_grappe, PFC_Consom 2 3090.833333333336\n",
      "index_grappe, PFC_Consom 2 2966.1666666666697\n",
      "index_grappe, PFC_Consom 2 2841.500000000003\n",
      "index_grappe, PFC_Consom 2 2716.8333333333367\n",
      "index_grappe, PFC_Consom 2 2592.16666666667\n",
      "index_grappe, PFC_Consom 2 3717.5000000000036\n",
      "index_grappe, PFC_Consom 2 3592.833333333337\n",
      "index_grappe, PFC_Consom 2 3468.1666666666706\n",
      "index_grappe, PFC_Consom 2 3343.500000000004\n",
      "index_grappe, PFC_Consom 2 3218.8333333333376\n",
      "index_grappe, PFC_Consom 2 3094.166666666671\n",
      "index_grappe, PFC_Consom 2 2969.5000000000045\n",
      "index_grappe, PFC_Consom 2 2844.833333333338\n",
      "index_grappe, PFC_Consom 2 2720.1666666666715\n",
      "index_grappe, PFC_Consom 2 2595.500000000005\n",
      "index_grappe, PFC_Consom 2 3720.8333333333385\n",
      "index_grappe, PFC_Consom 2 3596.166666666672\n",
      "index_grappe, PFC_Consom 2 3471.5000000000055\n",
      "index_grappe, PFC_Consom 2 3346.833333333339\n",
      "index_grappe, PFC_Consom 2 3222.1666666666724\n",
      "index_grappe, PFC_Consom 2 3097.500000000006\n",
      "index_grappe, PFC_Consom 2 2972.8333333333394\n",
      "index_grappe, PFC_Consom 2 2848.166666666673\n",
      "index_grappe, PFC_Consom 2 2723.5000000000064\n",
      "index_grappe, PFC_Consom 2 2598.83333333334\n",
      "index_grappe, PFC_Consom 2 3724.1666666666733\n",
      "index_grappe, PFC_Consom 2 3599.500000000007\n",
      "index_grappe, PFC_Consom 2 3474.8333333333403\n",
      "index_grappe, PFC_Consom 2 3350.166666666674\n",
      "index_grappe, PFC_Consom 2 3225.5000000000073\n",
      "index_grappe, PFC_Consom 2 3100.8333333333408\n",
      "index_grappe, PFC_Consom 2 3051.5000000000073\n",
      "index_grappe, PFC_Consom 2 3002.166666666674\n",
      "index_grappe, PFC_Consom 2 2952.8333333333403\n",
      "index_grappe, PFC_Consom 2 2903.500000000007\n",
      "index_grappe, PFC_Consom 2 2854.1666666666733\n",
      "index_grappe, PFC_Consom 2 2804.83333333334\n",
      "index_grappe, PFC_Consom 2 2755.5000000000064\n",
      "index_grappe, PFC_Consom 2 2706.166666666673\n",
      "index_grappe, PFC_Consom 2 2656.8333333333394\n",
      "index_grappe, PFC_Consom 2 2607.500000000006\n",
      "index_grappe, PFC_Consom 2 2558.1666666666724\n",
      "index_grappe, PFC_Consom 2 2508.833333333339\n",
      "index_grappe, PFC_Consom 3 3634.1666666666724\n",
      "index_grappe, PFC_Consom 3 3584.833333333339\n",
      "index_grappe, PFC_Consom 3 3535.5000000000055\n",
      "index_grappe, PFC_Consom 3 3486.166666666672\n",
      "index_grappe, PFC_Consom 3 3436.8333333333385\n",
      "index_grappe, PFC_Consom 3 3387.500000000005\n",
      "index_grappe, PFC_Consom 3 3338.1666666666715\n",
      "index_grappe, PFC_Consom 3 3288.833333333338\n",
      "index_grappe, PFC_Consom 3 3239.5000000000045\n",
      "index_grappe, PFC_Consom 3 3190.166666666671\n",
      "index_grappe, PFC_Consom 3 3140.8333333333376\n",
      "index_grappe, PFC_Consom 3 3091.500000000004\n",
      "index_grappe, PFC_Consom 3 3042.1666666666706\n",
      "index_grappe, PFC_Consom 3 2992.833333333337\n",
      "index_grappe, PFC_Consom 3 2943.5000000000036\n",
      "index_grappe, PFC_Consom 3 2894.16666666667\n",
      "index_grappe, PFC_Consom 3 2844.8333333333367\n",
      "index_grappe, PFC_Consom 3 2795.500000000003\n",
      "index_grappe, PFC_Consom 3 2746.1666666666697\n",
      "index_grappe, PFC_Consom 3 3946.833333333336\n",
      "index_grappe, PFC_Consom 3 3897.5000000000027\n",
      "index_grappe, PFC_Consom 3 3848.1666666666692\n",
      "index_grappe, PFC_Consom 3 3798.8333333333358\n",
      "index_grappe, PFC_Consom 3 3729.0000000000023\n",
      "index_grappe, PFC_Consom 3 3659.166666666669\n",
      "index_grappe, PFC_Consom 3 3589.3333333333353\n",
      "index_grappe, PFC_Consom 3 3519.500000000002\n",
      "index_grappe, PFC_Consom 3 3449.6666666666683\n",
      "index_grappe, PFC_Consom 3 3379.833333333335\n",
      "index_grappe, PFC_Consom 3 3310.0000000000014\n",
      "index_grappe, PFC_Consom 3 3240.166666666668\n",
      "index_grappe, PFC_Consom 3 3170.3333333333344\n",
      "index_grappe, PFC_Consom 3 3100.500000000001\n",
      "index_grappe, PFC_Consom 3 2970.000000000001\n",
      "index_grappe, PFC_Consom 3 2839.500000000001\n",
      "index_grappe, PFC_Consom 3 2709.000000000001\n",
      "index_grappe, PFC_Consom 3 2578.500000000001\n",
      "index_grappe, PFC_Consom 5 3779.1666666666674\n",
      "index_grappe, PFC_Consom 5 3648.6666666666674\n",
      "index_grappe, PFC_Consom 5 3518.1666666666674\n",
      "index_grappe, PFC_Consom 5 3387.6666666666674\n",
      "index_grappe, PFC_Consom 5 3257.1666666666674\n",
      "index_grappe, PFC_Consom 5 3126.6666666666674\n",
      "index_grappe, PFC_Consom 5 2996.1666666666674\n",
      "index_grappe, PFC_Consom 5 2865.6666666666674\n",
      "index_grappe, PFC_Consom 5 2735.1666666666674\n",
      "index_grappe, PFC_Consom 5 2604.6666666666674\n",
      "index_grappe, PFC_Consom 5 3724.1666666666674\n",
      "index_grappe, PFC_Consom 5 3593.6666666666674\n",
      "index_grappe, PFC_Consom 5 3463.1666666666674\n",
      "index_grappe, PFC_Consom 5 3332.6666666666674\n",
      "index_grappe, PFC_Consom 5 3202.1666666666674\n",
      "index_grappe, PFC_Consom 5 3071.6666666666674\n",
      "index_grappe, PFC_Consom 5 2941.1666666666674\n",
      "index_grappe, PFC_Consom 5 2810.6666666666674\n",
      "index_grappe, PFC_Consom 5 2680.1666666666674\n",
      "index_grappe, PFC_Consom 5 2549.6666666666674\n",
      "index_grappe, PFC_Consom 5 3669.1666666666674\n",
      "index_grappe, PFC_Consom 5 3538.6666666666674\n",
      "index_grappe, PFC_Consom 5 3408.1666666666674\n",
      "index_grappe, PFC_Consom 5 3277.6666666666674\n",
      "index_grappe, PFC_Consom 5 3147.1666666666674\n",
      "index_grappe, PFC_Consom 5 3016.6666666666674\n",
      "index_grappe, PFC_Consom 5 2886.1666666666674\n",
      "index_grappe, PFC_Consom 5 2755.6666666666674\n",
      "index_grappe, PFC_Consom 5 2625.1666666666674\n",
      "index_grappe, PFC_Consom 5 3744.6666666666674\n",
      "index_grappe, PFC_Consom 5 3614.1666666666674\n",
      "index_grappe, PFC_Consom 5 3483.6666666666674\n",
      "index_grappe, PFC_Consom 5 3353.1666666666674\n",
      "index_grappe, PFC_Consom 5 3222.6666666666674\n",
      "index_grappe, PFC_Consom 5 3092.1666666666674\n",
      "index_grappe, PFC_Consom 5 2961.6666666666674\n",
      "index_grappe, PFC_Consom 5 2831.1666666666674\n",
      "index_grappe, PFC_Consom 5 2700.6666666666674\n",
      "index_grappe, PFC_Consom 5 2570.1666666666674\n",
      "index_grappe, PFC_Consom 5 3689.6666666666674\n",
      "index_grappe, PFC_Consom 5 3559.1666666666674\n",
      "index_grappe, PFC_Consom 5 3428.6666666666674\n",
      "index_grappe, PFC_Consom 5 3298.1666666666674\n",
      "index_grappe, PFC_Consom 5 3167.6666666666674\n",
      "index_grappe, PFC_Consom 5 3037.1666666666674\n",
      "index_grappe, PFC_Consom 5 2906.6666666666674\n",
      "index_grappe, PFC_Consom 5 2776.1666666666674\n",
      "index_grappe, PFC_Consom 5 2645.6666666666674\n",
      "index_grappe, PFC_Consom 5 2515.1666666666674\n",
      "index_grappe, PFC_Consom 5 3634.6666666666674\n",
      "index_grappe, PFC_Consom 5 3504.1666666666674\n",
      "index_grappe, PFC_Consom 5 3373.6666666666674\n",
      "index_grappe, PFC_Consom 5 3243.1666666666674\n",
      "index_grappe, PFC_Consom 5 3112.6666666666674\n",
      "index_grappe, PFC_Consom 5 2982.1666666666674\n",
      "index_grappe, PFC_Consom 5 2851.6666666666674\n",
      "index_grappe, PFC_Consom 5 2721.1666666666674\n",
      "index_grappe, PFC_Consom 5 2590.6666666666674\n",
      "index_grappe, PFC_Consom 5 3710.1666666666674\n",
      "index_grappe, PFC_Consom 5 3579.6666666666674\n",
      "index_grappe, PFC_Consom 5 3449.1666666666674\n",
      "index_grappe, PFC_Consom 5 3318.6666666666674\n",
      "index_grappe, PFC_Consom 5 3188.1666666666674\n",
      "index_grappe, PFC_Consom 5 3057.6666666666674\n",
      "index_grappe, PFC_Consom 5 2927.1666666666674\n",
      "index_grappe, PFC_Consom 5 2796.6666666666674\n",
      "index_grappe, PFC_Consom 5 2666.1666666666674\n",
      "index_grappe, PFC_Consom 5 2535.6666666666674\n",
      "index_grappe, PFC_Consom 5 3655.1666666666674\n",
      "index_grappe, PFC_Consom 5 3524.6666666666674\n",
      "index_grappe, PFC_Consom 5 3394.1666666666674\n",
      "index_grappe, PFC_Consom 5 3263.6666666666674\n",
      "index_grappe, PFC_Consom 5 3133.1666666666674\n",
      "index_grappe, PFC_Consom 5 3002.6666666666674\n",
      "index_grappe, PFC_Consom 5 2872.1666666666674\n",
      "index_grappe, PFC_Consom 5 2741.6666666666674\n",
      "index_grappe, PFC_Consom 5 2611.1666666666674\n",
      "index_grappe, PFC_Consom 5 3730.6666666666674\n",
      "index_grappe, PFC_Consom 5 3600.1666666666674\n",
      "index_grappe, PFC_Consom 5 3469.6666666666674\n",
      "index_grappe, PFC_Consom 5 3339.1666666666674\n",
      "index_grappe, PFC_Consom 5 3208.6666666666674\n",
      "index_grappe, PFC_Consom 5 3078.1666666666674\n",
      "index_grappe, PFC_Consom 5 2947.6666666666674\n",
      "index_grappe, PFC_Consom 5 2817.1666666666674\n",
      "index_grappe, PFC_Consom 5 2686.6666666666674\n",
      "index_grappe, PFC_Consom 5 2556.1666666666674\n",
      "index_grappe, PFC_Consom 5 3675.6666666666674\n",
      "index_grappe, PFC_Consom 5 3545.1666666666674\n",
      "index_grappe, PFC_Consom 5 3414.6666666666674\n",
      "index_grappe, PFC_Consom 5 3284.1666666666674\n",
      "index_grappe, PFC_Consom 5 3153.6666666666674\n",
      "index_grappe, PFC_Consom 5 3023.1666666666674\n",
      "index_grappe, PFC_Consom 5 2892.6666666666674\n",
      "index_grappe, PFC_Consom 5 2762.1666666666674\n",
      "index_grappe, PFC_Consom 5 2631.6666666666674\n",
      "index_grappe, PFC_Consom 5 2507.000000000001\n",
      "index_grappe, PFC_Consom 6 3626.500000000001\n",
      "index_grappe, PFC_Consom 6 3501.8333333333344\n",
      "index_grappe, PFC_Consom 6 3377.166666666668\n",
      "index_grappe, PFC_Consom 6 3252.5000000000014\n",
      "index_grappe, PFC_Consom 6 3127.833333333335\n",
      "index_grappe, PFC_Consom 6 3003.1666666666683\n",
      "index_grappe, PFC_Consom 6 2878.500000000002\n",
      "index_grappe, PFC_Consom 6 2753.8333333333353\n",
      "index_grappe, PFC_Consom 6 2629.166666666669\n",
      "index_grappe, PFC_Consom 6 2504.5000000000023\n",
      "index_grappe, PFC_Consom 6 3629.8333333333358\n",
      "index_grappe, PFC_Consom 6 3505.1666666666692\n",
      "index_grappe, PFC_Consom 6 3380.5000000000027\n",
      "index_grappe, PFC_Consom 6 3255.833333333336\n",
      "index_grappe, PFC_Consom 6 3131.1666666666697\n",
      "index_grappe, PFC_Consom 6 3006.500000000003\n",
      "index_grappe, PFC_Consom 6 2881.8333333333367\n",
      "index_grappe, PFC_Consom 6 2757.16666666667\n",
      "index_grappe, PFC_Consom 6 2632.5000000000036\n",
      "index_grappe, PFC_Consom 6 2507.833333333337\n",
      "index_grappe, PFC_Consom 6 3633.1666666666706\n",
      "index_grappe, PFC_Consom 6 3508.500000000004\n",
      "index_grappe, PFC_Consom 6 3383.8333333333376\n",
      "index_grappe, PFC_Consom 6 3259.166666666671\n",
      "index_grappe, PFC_Consom 6 3134.5000000000045\n",
      "index_grappe, PFC_Consom 6 3009.833333333338\n",
      "index_grappe, PFC_Consom 6 2885.1666666666715\n",
      "index_grappe, PFC_Consom 6 2760.500000000005\n",
      "index_grappe, PFC_Consom 6 2635.8333333333385\n",
      "index_grappe, PFC_Consom 6 2511.166666666672\n",
      "index_grappe, PFC_Consom 6 3636.5000000000055\n",
      "index_grappe, PFC_Consom 6 3511.833333333339\n",
      "index_grappe, PFC_Consom 6 3387.1666666666724\n",
      "index_grappe, PFC_Consom 6 3262.500000000006\n",
      "index_grappe, PFC_Consom 6 3137.8333333333394\n",
      "index_grappe, PFC_Consom 6 3013.166666666673\n",
      "index_grappe, PFC_Consom 6 2888.5000000000064\n",
      "index_grappe, PFC_Consom 6 2763.83333333334\n",
      "index_grappe, PFC_Consom 6 2639.1666666666733\n",
      "index_grappe, PFC_Consom 6 2514.500000000007\n",
      "index_grappe, PFC_Consom 6 3639.8333333333403\n",
      "index_grappe, PFC_Consom 6 3515.166666666674\n",
      "index_grappe, PFC_Consom 6 3390.5000000000073\n",
      "index_grappe, PFC_Consom 6 3265.8333333333408\n",
      "index_grappe, PFC_Consom 6 3141.1666666666742\n",
      "index_grappe, PFC_Consom 6 3016.5000000000077\n",
      "index_grappe, PFC_Consom 6 2891.833333333341\n",
      "index_grappe, PFC_Consom 6 2767.1666666666747\n",
      "index_grappe, PFC_Consom 6 2642.500000000008\n",
      "index_grappe, PFC_Consom 6 2593.1666666666747\n",
      "index_grappe, PFC_Consom 6 2543.833333333341\n",
      "index_grappe, PFC_Consom 7 3669.1666666666747\n",
      "index_grappe, PFC_Consom 7 3619.833333333341\n",
      "index_grappe, PFC_Consom 7 3570.5000000000077\n",
      "index_grappe, PFC_Consom 7 3521.1666666666742\n",
      "index_grappe, PFC_Consom 7 3471.8333333333408\n",
      "index_grappe, PFC_Consom 7 3422.5000000000073\n",
      "index_grappe, PFC_Consom 7 3373.166666666674\n",
      "index_grappe, PFC_Consom 7 3323.8333333333403\n",
      "index_grappe, PFC_Consom 7 3274.500000000007\n",
      "index_grappe, PFC_Consom 7 3225.1666666666733\n",
      "index_grappe, PFC_Consom 7 3175.83333333334\n",
      "index_grappe, PFC_Consom 7 3126.5000000000064\n",
      "index_grappe, PFC_Consom 7 3077.166666666673\n",
      "index_grappe, PFC_Consom 7 3027.8333333333394\n",
      "index_grappe, PFC_Consom 7 2978.500000000006\n",
      "index_grappe, PFC_Consom 7 2929.1666666666724\n",
      "index_grappe, PFC_Consom 7 2879.833333333339\n",
      "index_grappe, PFC_Consom 7 2830.5000000000055\n",
      "index_grappe, PFC_Consom 7 2781.166666666672\n",
      "index_grappe, PFC_Consom 7 3981.8333333333385\n",
      "index_grappe, PFC_Consom 7 3932.500000000005\n",
      "index_grappe, PFC_Consom 7 3883.1666666666715\n",
      "index_grappe, PFC_Consom 7 3833.833333333338\n",
      "index_grappe, PFC_Consom 7 3784.5000000000045\n",
      "index_grappe, PFC_Consom 7 3735.166666666671\n",
      "index_grappe, PFC_Consom 7 3685.8333333333376\n",
      "index_grappe, PFC_Consom 7 3636.500000000004\n",
      "index_grappe, PFC_Consom 7 3587.1666666666706\n",
      "index_grappe, PFC_Consom 7 3537.833333333337\n",
      "index_grappe, PFC_Consom 7 3488.5000000000036\n",
      "index_grappe, PFC_Consom 7 3439.16666666667\n",
      "index_grappe, PFC_Consom 7 3389.8333333333367\n",
      "index_grappe, PFC_Consom 7 3340.500000000003\n",
      "index_grappe, PFC_Consom 7 3210.000000000003\n",
      "index_grappe, PFC_Consom 7 3079.500000000003\n",
      "index_grappe, PFC_Consom 7 2949.000000000003\n",
      "index_grappe, PFC_Consom 7 2818.500000000003\n",
      "index_grappe, PFC_Consom 7 2688.000000000003\n",
      "index_grappe, PFC_Consom 8 3888.6666666666697\n",
      "index_grappe, PFC_Consom 8 3758.1666666666697\n",
      "index_grappe, PFC_Consom 8 3627.6666666666697\n",
      "index_grappe, PFC_Consom 8 3497.1666666666697\n",
      "index_grappe, PFC_Consom 8 3366.6666666666697\n",
      "index_grappe, PFC_Consom 8 3236.1666666666697\n",
      "index_grappe, PFC_Consom 8 3105.6666666666697\n",
      "index_grappe, PFC_Consom 8 2975.1666666666697\n",
      "index_grappe, PFC_Consom 8 2844.6666666666697\n",
      "index_grappe, PFC_Consom 8 2714.1666666666697\n",
      "index_grappe, PFC_Consom 8 2583.6666666666697\n",
      "index_grappe, PFC_Consom 8 3703.1666666666697\n",
      "index_grappe, PFC_Consom 8 3572.6666666666697\n",
      "index_grappe, PFC_Consom 8 3442.1666666666697\n",
      "index_grappe, PFC_Consom 8 3311.6666666666697\n",
      "index_grappe, PFC_Consom 8 3181.1666666666697\n",
      "index_grappe, PFC_Consom 8 3050.6666666666697\n",
      "index_grappe, PFC_Consom 8 2920.1666666666697\n",
      "index_grappe, PFC_Consom 8 2789.6666666666697\n",
      "index_grappe, PFC_Consom 8 2659.1666666666697\n",
      "index_grappe, PFC_Consom 8 2528.6666666666697\n",
      "index_grappe, PFC_Consom 8 3648.1666666666697\n",
      "index_grappe, PFC_Consom 8 3517.6666666666697\n",
      "index_grappe, PFC_Consom 8 3387.1666666666697\n",
      "index_grappe, PFC_Consom 8 3256.6666666666697\n",
      "index_grappe, PFC_Consom 8 3126.1666666666697\n",
      "index_grappe, PFC_Consom 8 2995.6666666666697\n",
      "index_grappe, PFC_Consom 8 2865.1666666666697\n",
      "index_grappe, PFC_Consom 8 2734.6666666666697\n",
      "index_grappe, PFC_Consom 8 2604.1666666666697\n",
      "index_grappe, PFC_Consom 8 3723.6666666666697\n",
      "index_grappe, PFC_Consom 8 3593.1666666666697\n",
      "index_grappe, PFC_Consom 8 3462.6666666666697\n",
      "index_grappe, PFC_Consom 8 3332.1666666666697\n",
      "index_grappe, PFC_Consom 8 3201.6666666666697\n",
      "index_grappe, PFC_Consom 8 3071.1666666666697\n",
      "index_grappe, PFC_Consom 8 2940.6666666666697\n",
      "index_grappe, PFC_Consom 8 2810.1666666666697\n",
      "index_grappe, PFC_Consom 8 2679.6666666666697\n",
      "index_grappe, PFC_Consom 8 2549.1666666666697\n",
      "index_grappe, PFC_Consom 8 3668.6666666666697\n",
      "index_grappe, PFC_Consom 8 3538.1666666666697\n",
      "index_grappe, PFC_Consom 8 3407.6666666666697\n",
      "index_grappe, PFC_Consom 8 3277.1666666666697\n",
      "index_grappe, PFC_Consom 8 3146.6666666666697\n",
      "index_grappe, PFC_Consom 8 3052.833333333336\n",
      "index_grappe, PFC_Consom 8 2959.0000000000027\n",
      "index_grappe, PFC_Consom 8 2865.1666666666692\n",
      "index_grappe, PFC_Consom 8 2771.3333333333358\n",
      "index_grappe, PFC_Consom 8 2677.5000000000023\n",
      "index_grappe, PFC_Consom 8 2583.666666666669\n",
      "index_grappe, PFC_Consom 9 3703.166666666669\n",
      "index_grappe, PFC_Consom 9 3609.3333333333353\n",
      "index_grappe, PFC_Consom 9 3515.500000000002\n",
      "index_grappe, PFC_Consom 9 3421.6666666666683\n",
      "index_grappe, PFC_Consom 9 3327.833333333335\n",
      "index_grappe, PFC_Consom 9 3234.0000000000014\n",
      "index_grappe, PFC_Consom 9 3140.166666666668\n",
      "index_grappe, PFC_Consom 9 3046.3333333333344\n",
      "index_grappe, PFC_Consom 9 2952.500000000001\n",
      "index_grappe, PFC_Consom 9 2858.6666666666674\n",
      "index_grappe, PFC_Consom 9 2764.833333333334\n",
      "index_grappe, PFC_Consom 9 2671.0000000000005\n",
      "index_grappe, PFC_Consom 9 2577.166666666667\n",
      "index_grappe, PFC_Consom 9 3733.3333333333335\n",
      "index_grappe, PFC_Consom 9 3639.5\n",
      "index_grappe, PFC_Consom 9 3545.6666666666665\n",
      "index_grappe, PFC_Consom 9 3451.833333333333\n",
      "index_grappe, PFC_Consom 9 3357.9999999999995\n",
      "index_grappe, PFC_Consom 9 3264.166666666666\n",
      "index_grappe, PFC_Consom 9 3170.3333333333326\n",
      "index_grappe, PFC_Consom 9 3076.499999999999\n",
      "index_grappe, PFC_Consom 9 2982.6666666666656\n",
      "index_grappe, PFC_Consom 9 2888.833333333332\n",
      "index_grappe, PFC_Consom 9 2794.9999999999986\n",
      "index_grappe, PFC_Consom 9 2701.166666666665\n",
      "index_grappe, PFC_Consom 9 2607.3333333333317\n",
      "index_grappe, PFC_Consom 9 2513.499999999998\n",
      "index_grappe, PFC_Consom 9 3669.6666666666647\n",
      "index_grappe, PFC_Consom 9 3575.833333333331\n",
      "index_grappe, PFC_Consom 9 3481.9999999999977\n",
      "index_grappe, PFC_Consom 9 3388.1666666666642\n",
      "index_grappe, PFC_Consom 9 3294.3333333333308\n",
      "index_grappe, PFC_Consom 9 3200.4999999999973\n",
      "index_grappe, PFC_Consom 9 3106.666666666664\n"
     ]
    }
   ],
   "source": [
    "nb_fours = 6 # 8-9 fours pour HWS, 6 fours pour DiSA\n",
    "temps_fusion = 45 # en min\n",
    "temps_chargement = 30 # 30 - 45  min\n",
    "\n",
    "# Les valeurs d'entrée Input \n",
    "\n",
    "nb_moules_heure = 190 \n",
    "t_serie = 5 # 5 min\n",
    "\n",
    "PFCmin = 2500 # en kg\n",
    "PFCmax = 4000 # en kg\n",
    "\n",
    "Mgmin = 0.035 # en %\n",
    "Mgmax = 0.045 # en %\n",
    "eC = 0.0005 # en %\n",
    "temps_traitement = 10  # en  min\n",
    "\n",
    "\n",
    "\n",
    "Mg = Mgmax\n",
    "\n",
    "liste_masse_grappe = [41.2, 39.36, 15.6, 19.94, 41.20, 39.36, 15.60, 41.20, 29.65] # en kg\n",
    "liste_quantite_mottes = [121, 50, 35, 10, 100, 50, 35, 50, 40]\n",
    "\n",
    "liste_cadences = [7.83, 7.48, 2.96, 4.19, 7.83, 7.48, 2.96, 7.83, 5.63] # en Tonnes/hr\n",
    "\n",
    "liste_temps_changement_serie = [3, 3, 3, 3, 3, 3, 3, 3] # en minutes\n",
    "\n",
    "\n",
    "# liste_masse_grappe = [41.2, 39.36, 15.6] # en kg\n",
    "# liste_quantite_mottes = [1*121, 50, 35]\n",
    "\n",
    "\n",
    "# liste_masse_grappe = [35, 35] # en kg\n",
    "# liste_quantite_mottes = [50, 50]\n",
    "\n",
    "# liste_masse_grappe = [35] # en kg\n",
    "# liste_quantite_mottes = [200]\n",
    "\n",
    "times, PFC_Consomvalues, PFC_Prodvalues, tmin, tmax = ProdConsom(liste_masse_grappe, liste_quantite_mottes, nb_moules_heure, t_serie, temps_fusion, temps_chargement, temps_traitement, Mg, Mgmin,Mgmax, eC)"
   ]
  },
  {
   "cell_type": "code",
   "execution_count": 434,
   "metadata": {},
   "outputs": [
    {
     "data": {
      "application/vnd.plotly.v1+json": {
       "config": {
        "plotlyServerURL": "https://plot.ly"
       },
       "data": [
        {
         "line": {
          "color": "royalblue"
         },
         "mode": "lines",
         "name": "PFC over time",
         "type": "scatter",
         "x": [
          0,
          30,
          75,
          85,
          95,
          105,
          106,
          107,
          108,
          109,
          110,
          111,
          112,
          113,
          114,
          115,
          116,
          117,
          118,
          119,
          120,
          121,
          122,
          123,
          124,
          125,
          126,
          127,
          128,
          129,
          130,
          131,
          132,
          133,
          134,
          135,
          136,
          137,
          138,
          139,
          140,
          141,
          142,
          143,
          144,
          145,
          146,
          147,
          148,
          149,
          150,
          151,
          152,
          153,
          154,
          155,
          156,
          157,
          158,
          159,
          160,
          161,
          162,
          163,
          164,
          165,
          166,
          167,
          168,
          169,
          170,
          171,
          172,
          173,
          174,
          175,
          176,
          177,
          178,
          179,
          180,
          181,
          182,
          183,
          184,
          185,
          186,
          187,
          188,
          189,
          190,
          191,
          192,
          193,
          194,
          195,
          196,
          197,
          198,
          199,
          200,
          201,
          202,
          203,
          204,
          205,
          206,
          207,
          208,
          209,
          210,
          211,
          212,
          213,
          214,
          215,
          216,
          217,
          218,
          219,
          220,
          221,
          222,
          223,
          224,
          225,
          226,
          227,
          228,
          229,
          230,
          231,
          232,
          233,
          234,
          235,
          236,
          237,
          238,
          239,
          240,
          241,
          242,
          243,
          244,
          245,
          246,
          247,
          248,
          249,
          250,
          251,
          252,
          253,
          254,
          255,
          256,
          257,
          258,
          259,
          260,
          261,
          262,
          263,
          264,
          265,
          266,
          267,
          268,
          269,
          270,
          271,
          272,
          273,
          274,
          275,
          276,
          277,
          278,
          279,
          280,
          281,
          282,
          283,
          284,
          285,
          286,
          287,
          288,
          289,
          290,
          291,
          292,
          293,
          294,
          295,
          296,
          297,
          298,
          299,
          300,
          301,
          302,
          303,
          304,
          305,
          306,
          307,
          308,
          309,
          310,
          311,
          312,
          313,
          314,
          315,
          316,
          317,
          318,
          319,
          320,
          321,
          322,
          323,
          324,
          325,
          326,
          327,
          328,
          329,
          330,
          331,
          332,
          333,
          334,
          335,
          336,
          337,
          338,
          339,
          340,
          341,
          342,
          343,
          344,
          345,
          346,
          347,
          348,
          349,
          350,
          351,
          352,
          353,
          354,
          355,
          356,
          357,
          358,
          359,
          360,
          361,
          362,
          363,
          364,
          365,
          366,
          367,
          368,
          369,
          370,
          371,
          372,
          373,
          374,
          375,
          376,
          377,
          378,
          379,
          380,
          381,
          382,
          383,
          384,
          385,
          386,
          387,
          388,
          389,
          390,
          391,
          392,
          393,
          394,
          395,
          396,
          397,
          398,
          399,
          400,
          401,
          402,
          403,
          404,
          405,
          406,
          407,
          408,
          409,
          410,
          411,
          412,
          413,
          414,
          415,
          416,
          417,
          418,
          419,
          420,
          421,
          422,
          423,
          424,
          425,
          426,
          427,
          428,
          429,
          430,
          431,
          432,
          433,
          434,
          435,
          436,
          437,
          438,
          439,
          440,
          441,
          442,
          443,
          444,
          445,
          446,
          447,
          448,
          449,
          450,
          451,
          452,
          453,
          454,
          455,
          456,
          457,
          458,
          459,
          460,
          461,
          462,
          463,
          464,
          465,
          466,
          467,
          468,
          469,
          470,
          471,
          472,
          473,
          474,
          475,
          476,
          477,
          478,
          479,
          480,
          481,
          482,
          483,
          484,
          485,
          486,
          487,
          488,
          489,
          490,
          491,
          492,
          493,
          494,
          495,
          496,
          497,
          498,
          499,
          500,
          501,
          502,
          503,
          504,
          505,
          506,
          507,
          508,
          509,
          510,
          511,
          512,
          513,
          514,
          515,
          516,
          517,
          518,
          519,
          520,
          521,
          522,
          523,
          524,
          525,
          526,
          527,
          528,
          529,
          530,
          531,
          532,
          533,
          534,
          535,
          536,
          537,
          538,
          539,
          540,
          541,
          542,
          543,
          544,
          545,
          546,
          547,
          548,
          549,
          550,
          551,
          552,
          553,
          554,
          555,
          556,
          557,
          558,
          559,
          560,
          561,
          562,
          563,
          564,
          565,
          566,
          567,
          568,
          569,
          570,
          571,
          572,
          573,
          574,
          575,
          576,
          577,
          578,
          579,
          580,
          581,
          582,
          583,
          584,
          585,
          586,
          587,
          588,
          589,
          590,
          591,
          592,
          593,
          594,
          595,
          596,
          597,
          598,
          599,
          600
         ],
         "y": [
          0,
          0,
          5000,
          3750,
          2500,
          1250,
          1250,
          1250,
          1250,
          1250,
          1250,
          1250,
          1250,
          1250,
          1250,
          1250,
          1250,
          1250,
          1250,
          1250,
          1250,
          6250,
          6250,
          6250,
          6250,
          6250,
          6250,
          6250,
          6250,
          6250,
          6250,
          6250,
          6250,
          6250,
          6250,
          6250,
          6250,
          6250,
          6250,
          6250,
          6250,
          6250,
          6250,
          6250,
          6250,
          6250,
          6250,
          6250,
          6250,
          6250,
          6250,
          6250,
          6250,
          6250,
          6250,
          6250,
          6250,
          6250,
          6250,
          6250,
          6250,
          6250,
          6250,
          6250,
          6250,
          6250,
          11250,
          11250,
          11250,
          11250,
          11250,
          11250,
          11250,
          11250,
          11250,
          11250,
          11250,
          11250,
          11250,
          11250,
          11250,
          11250,
          11250,
          11250,
          11250,
          11250,
          11250,
          11250,
          11250,
          11250,
          11250,
          11250,
          11250,
          11250,
          11250,
          11250,
          11250,
          11250,
          11250,
          11250,
          11250,
          11250,
          11250,
          11250,
          11250,
          11250,
          11250,
          11250,
          11250,
          11250,
          11250,
          16250,
          16250,
          16250,
          16250,
          16250,
          16250,
          16250,
          16250,
          16250,
          16250,
          16250,
          16250,
          16250,
          16250,
          16250,
          16250,
          16250,
          16250,
          16250,
          16250,
          16250,
          16250,
          16250,
          16250,
          16250,
          16250,
          16250,
          16250,
          16250,
          16250,
          16250,
          16250,
          16250,
          16250,
          16250,
          16250,
          16250,
          16250,
          16250,
          16250,
          16250,
          16250,
          16250,
          16250,
          16250,
          16250,
          16250,
          16250,
          16250,
          16250,
          16250,
          16250,
          16250,
          16250,
          16250,
          16250,
          16250,
          16250,
          16250,
          16250,
          16250,
          16250,
          16250,
          16250,
          16250,
          16250,
          16250,
          15000,
          15000,
          15000,
          15000,
          15000,
          15000,
          15000,
          15000,
          15000,
          15000,
          15000,
          15000,
          15000,
          15000,
          15000,
          15000,
          15000,
          15000,
          15000,
          13750,
          13750,
          13750,
          13750,
          13750,
          13750,
          13750,
          13750,
          13750,
          13750,
          13750,
          13750,
          13750,
          13750,
          13750,
          13750,
          13750,
          13750,
          12500,
          12500,
          12500,
          12500,
          12500,
          12500,
          12500,
          12500,
          12500,
          12500,
          12500,
          12500,
          12500,
          12500,
          12500,
          12500,
          12500,
          12500,
          12500,
          12500,
          12500,
          12500,
          12500,
          12500,
          12500,
          12500,
          12500,
          12500,
          12500,
          12500,
          12500,
          12500,
          12500,
          12500,
          12500,
          12500,
          12500,
          12500,
          12500,
          12500,
          12500,
          12500,
          12500,
          12500,
          12500,
          12500,
          12500,
          12500,
          12500,
          12500,
          12500,
          12500,
          12500,
          12500,
          12500,
          12500,
          12500,
          12500,
          12500,
          12500,
          12500,
          12500,
          12500,
          12500,
          12500,
          12500,
          12500,
          12500,
          12500,
          12500,
          12500,
          12500,
          12500,
          12500,
          12500,
          12500,
          12500,
          12500,
          12500,
          12500,
          12500,
          12500,
          12500,
          12500,
          12500,
          12500,
          12500,
          12500,
          12500,
          12500,
          12500,
          12500,
          12500,
          12500,
          12500,
          12500,
          12500,
          12500,
          12500,
          12500,
          12500,
          12500,
          12500,
          12500,
          12500,
          12500,
          12500,
          12500,
          12500,
          12500,
          12500,
          12500,
          12500,
          12500,
          12500,
          12500,
          12500,
          12500,
          12500,
          12500,
          12500,
          12500,
          12500,
          12500,
          12500,
          12500,
          12500,
          12500,
          12500,
          12500,
          12500,
          12500,
          12500,
          12500,
          12500,
          12500,
          12500,
          12500,
          12500,
          12500,
          12500,
          12500,
          12500,
          12500,
          12500,
          12500,
          12500,
          12500,
          11250,
          11250,
          11250,
          11250,
          11250,
          11250,
          11250,
          11250,
          11250,
          11250,
          11250,
          11250,
          11250,
          11250,
          11250,
          11250,
          11250,
          11250,
          11250,
          10000,
          10000,
          10000,
          10000,
          10000,
          10000,
          10000,
          10000,
          10000,
          10000,
          10000,
          10000,
          10000,
          10000,
          10000,
          10000,
          10000,
          10000,
          10000,
          8750,
          8750,
          8750,
          8750,
          8750,
          8750,
          8750,
          8750,
          8750,
          8750,
          8750,
          7500,
          7500,
          7500,
          7500,
          7500,
          7500,
          7500,
          7500,
          7500,
          7500,
          7500,
          7500,
          7500,
          7500,
          7500,
          7500,
          7500,
          7500,
          7500,
          7500,
          7500,
          7500,
          7500,
          7500,
          7500,
          7500,
          7500,
          7500,
          7500,
          7500,
          7500,
          7500,
          7500,
          7500,
          7500,
          7500,
          7500,
          7500,
          7500,
          7500,
          6250,
          6250,
          6250,
          6250,
          6250,
          6250,
          6250,
          6250,
          6250,
          6250,
          6250,
          6250,
          6250,
          5000,
          5000,
          5000,
          5000,
          5000,
          5000,
          5000,
          5000,
          5000,
          5000,
          5000,
          5000,
          5000,
          5000,
          3750,
          3750,
          3750,
          3750,
          3750,
          3750,
          3750,
          3750,
          3750,
          3750,
          3750,
          3750,
          3750,
          3750,
          3750,
          3750,
          3750,
          3750,
          3750,
          3750,
          3750,
          3750
         ]
        }
       ],
       "layout": {
        "showlegend": false,
        "template": {
         "data": {
          "bar": [
           {
            "error_x": {
             "color": "#2a3f5f"
            },
            "error_y": {
             "color": "#2a3f5f"
            },
            "marker": {
             "line": {
              "color": "#E5ECF6",
              "width": 0.5
             },
             "pattern": {
              "fillmode": "overlay",
              "size": 10,
              "solidity": 0.2
             }
            },
            "type": "bar"
           }
          ],
          "barpolar": [
           {
            "marker": {
             "line": {
              "color": "#E5ECF6",
              "width": 0.5
             },
             "pattern": {
              "fillmode": "overlay",
              "size": 10,
              "solidity": 0.2
             }
            },
            "type": "barpolar"
           }
          ],
          "carpet": [
           {
            "aaxis": {
             "endlinecolor": "#2a3f5f",
             "gridcolor": "white",
             "linecolor": "white",
             "minorgridcolor": "white",
             "startlinecolor": "#2a3f5f"
            },
            "baxis": {
             "endlinecolor": "#2a3f5f",
             "gridcolor": "white",
             "linecolor": "white",
             "minorgridcolor": "white",
             "startlinecolor": "#2a3f5f"
            },
            "type": "carpet"
           }
          ],
          "choropleth": [
           {
            "colorbar": {
             "outlinewidth": 0,
             "ticks": ""
            },
            "type": "choropleth"
           }
          ],
          "contour": [
           {
            "colorbar": {
             "outlinewidth": 0,
             "ticks": ""
            },
            "colorscale": [
             [
              0,
              "#0d0887"
             ],
             [
              0.1111111111111111,
              "#46039f"
             ],
             [
              0.2222222222222222,
              "#7201a8"
             ],
             [
              0.3333333333333333,
              "#9c179e"
             ],
             [
              0.4444444444444444,
              "#bd3786"
             ],
             [
              0.5555555555555556,
              "#d8576b"
             ],
             [
              0.6666666666666666,
              "#ed7953"
             ],
             [
              0.7777777777777778,
              "#fb9f3a"
             ],
             [
              0.8888888888888888,
              "#fdca26"
             ],
             [
              1,
              "#f0f921"
             ]
            ],
            "type": "contour"
           }
          ],
          "contourcarpet": [
           {
            "colorbar": {
             "outlinewidth": 0,
             "ticks": ""
            },
            "type": "contourcarpet"
           }
          ],
          "heatmap": [
           {
            "colorbar": {
             "outlinewidth": 0,
             "ticks": ""
            },
            "colorscale": [
             [
              0,
              "#0d0887"
             ],
             [
              0.1111111111111111,
              "#46039f"
             ],
             [
              0.2222222222222222,
              "#7201a8"
             ],
             [
              0.3333333333333333,
              "#9c179e"
             ],
             [
              0.4444444444444444,
              "#bd3786"
             ],
             [
              0.5555555555555556,
              "#d8576b"
             ],
             [
              0.6666666666666666,
              "#ed7953"
             ],
             [
              0.7777777777777778,
              "#fb9f3a"
             ],
             [
              0.8888888888888888,
              "#fdca26"
             ],
             [
              1,
              "#f0f921"
             ]
            ],
            "type": "heatmap"
           }
          ],
          "heatmapgl": [
           {
            "colorbar": {
             "outlinewidth": 0,
             "ticks": ""
            },
            "colorscale": [
             [
              0,
              "#0d0887"
             ],
             [
              0.1111111111111111,
              "#46039f"
             ],
             [
              0.2222222222222222,
              "#7201a8"
             ],
             [
              0.3333333333333333,
              "#9c179e"
             ],
             [
              0.4444444444444444,
              "#bd3786"
             ],
             [
              0.5555555555555556,
              "#d8576b"
             ],
             [
              0.6666666666666666,
              "#ed7953"
             ],
             [
              0.7777777777777778,
              "#fb9f3a"
             ],
             [
              0.8888888888888888,
              "#fdca26"
             ],
             [
              1,
              "#f0f921"
             ]
            ],
            "type": "heatmapgl"
           }
          ],
          "histogram": [
           {
            "marker": {
             "pattern": {
              "fillmode": "overlay",
              "size": 10,
              "solidity": 0.2
             }
            },
            "type": "histogram"
           }
          ],
          "histogram2d": [
           {
            "colorbar": {
             "outlinewidth": 0,
             "ticks": ""
            },
            "colorscale": [
             [
              0,
              "#0d0887"
             ],
             [
              0.1111111111111111,
              "#46039f"
             ],
             [
              0.2222222222222222,
              "#7201a8"
             ],
             [
              0.3333333333333333,
              "#9c179e"
             ],
             [
              0.4444444444444444,
              "#bd3786"
             ],
             [
              0.5555555555555556,
              "#d8576b"
             ],
             [
              0.6666666666666666,
              "#ed7953"
             ],
             [
              0.7777777777777778,
              "#fb9f3a"
             ],
             [
              0.8888888888888888,
              "#fdca26"
             ],
             [
              1,
              "#f0f921"
             ]
            ],
            "type": "histogram2d"
           }
          ],
          "histogram2dcontour": [
           {
            "colorbar": {
             "outlinewidth": 0,
             "ticks": ""
            },
            "colorscale": [
             [
              0,
              "#0d0887"
             ],
             [
              0.1111111111111111,
              "#46039f"
             ],
             [
              0.2222222222222222,
              "#7201a8"
             ],
             [
              0.3333333333333333,
              "#9c179e"
             ],
             [
              0.4444444444444444,
              "#bd3786"
             ],
             [
              0.5555555555555556,
              "#d8576b"
             ],
             [
              0.6666666666666666,
              "#ed7953"
             ],
             [
              0.7777777777777778,
              "#fb9f3a"
             ],
             [
              0.8888888888888888,
              "#fdca26"
             ],
             [
              1,
              "#f0f921"
             ]
            ],
            "type": "histogram2dcontour"
           }
          ],
          "mesh3d": [
           {
            "colorbar": {
             "outlinewidth": 0,
             "ticks": ""
            },
            "type": "mesh3d"
           }
          ],
          "parcoords": [
           {
            "line": {
             "colorbar": {
              "outlinewidth": 0,
              "ticks": ""
             }
            },
            "type": "parcoords"
           }
          ],
          "pie": [
           {
            "automargin": true,
            "type": "pie"
           }
          ],
          "scatter": [
           {
            "fillpattern": {
             "fillmode": "overlay",
             "size": 10,
             "solidity": 0.2
            },
            "type": "scatter"
           }
          ],
          "scatter3d": [
           {
            "line": {
             "colorbar": {
              "outlinewidth": 0,
              "ticks": ""
             }
            },
            "marker": {
             "colorbar": {
              "outlinewidth": 0,
              "ticks": ""
             }
            },
            "type": "scatter3d"
           }
          ],
          "scattercarpet": [
           {
            "marker": {
             "colorbar": {
              "outlinewidth": 0,
              "ticks": ""
             }
            },
            "type": "scattercarpet"
           }
          ],
          "scattergeo": [
           {
            "marker": {
             "colorbar": {
              "outlinewidth": 0,
              "ticks": ""
             }
            },
            "type": "scattergeo"
           }
          ],
          "scattergl": [
           {
            "marker": {
             "colorbar": {
              "outlinewidth": 0,
              "ticks": ""
             }
            },
            "type": "scattergl"
           }
          ],
          "scattermapbox": [
           {
            "marker": {
             "colorbar": {
              "outlinewidth": 0,
              "ticks": ""
             }
            },
            "type": "scattermapbox"
           }
          ],
          "scatterpolar": [
           {
            "marker": {
             "colorbar": {
              "outlinewidth": 0,
              "ticks": ""
             }
            },
            "type": "scatterpolar"
           }
          ],
          "scatterpolargl": [
           {
            "marker": {
             "colorbar": {
              "outlinewidth": 0,
              "ticks": ""
             }
            },
            "type": "scatterpolargl"
           }
          ],
          "scatterternary": [
           {
            "marker": {
             "colorbar": {
              "outlinewidth": 0,
              "ticks": ""
             }
            },
            "type": "scatterternary"
           }
          ],
          "surface": [
           {
            "colorbar": {
             "outlinewidth": 0,
             "ticks": ""
            },
            "colorscale": [
             [
              0,
              "#0d0887"
             ],
             [
              0.1111111111111111,
              "#46039f"
             ],
             [
              0.2222222222222222,
              "#7201a8"
             ],
             [
              0.3333333333333333,
              "#9c179e"
             ],
             [
              0.4444444444444444,
              "#bd3786"
             ],
             [
              0.5555555555555556,
              "#d8576b"
             ],
             [
              0.6666666666666666,
              "#ed7953"
             ],
             [
              0.7777777777777778,
              "#fb9f3a"
             ],
             [
              0.8888888888888888,
              "#fdca26"
             ],
             [
              1,
              "#f0f921"
             ]
            ],
            "type": "surface"
           }
          ],
          "table": [
           {
            "cells": {
             "fill": {
              "color": "#EBF0F8"
             },
             "line": {
              "color": "white"
             }
            },
            "header": {
             "fill": {
              "color": "#C8D4E3"
             },
             "line": {
              "color": "white"
             }
            },
            "type": "table"
           }
          ]
         },
         "layout": {
          "annotationdefaults": {
           "arrowcolor": "#2a3f5f",
           "arrowhead": 0,
           "arrowwidth": 1
          },
          "autotypenumbers": "strict",
          "coloraxis": {
           "colorbar": {
            "outlinewidth": 0,
            "ticks": ""
           }
          },
          "colorscale": {
           "diverging": [
            [
             0,
             "#8e0152"
            ],
            [
             0.1,
             "#c51b7d"
            ],
            [
             0.2,
             "#de77ae"
            ],
            [
             0.3,
             "#f1b6da"
            ],
            [
             0.4,
             "#fde0ef"
            ],
            [
             0.5,
             "#f7f7f7"
            ],
            [
             0.6,
             "#e6f5d0"
            ],
            [
             0.7,
             "#b8e186"
            ],
            [
             0.8,
             "#7fbc41"
            ],
            [
             0.9,
             "#4d9221"
            ],
            [
             1,
             "#276419"
            ]
           ],
           "sequential": [
            [
             0,
             "#0d0887"
            ],
            [
             0.1111111111111111,
             "#46039f"
            ],
            [
             0.2222222222222222,
             "#7201a8"
            ],
            [
             0.3333333333333333,
             "#9c179e"
            ],
            [
             0.4444444444444444,
             "#bd3786"
            ],
            [
             0.5555555555555556,
             "#d8576b"
            ],
            [
             0.6666666666666666,
             "#ed7953"
            ],
            [
             0.7777777777777778,
             "#fb9f3a"
            ],
            [
             0.8888888888888888,
             "#fdca26"
            ],
            [
             1,
             "#f0f921"
            ]
           ],
           "sequentialminus": [
            [
             0,
             "#0d0887"
            ],
            [
             0.1111111111111111,
             "#46039f"
            ],
            [
             0.2222222222222222,
             "#7201a8"
            ],
            [
             0.3333333333333333,
             "#9c179e"
            ],
            [
             0.4444444444444444,
             "#bd3786"
            ],
            [
             0.5555555555555556,
             "#d8576b"
            ],
            [
             0.6666666666666666,
             "#ed7953"
            ],
            [
             0.7777777777777778,
             "#fb9f3a"
            ],
            [
             0.8888888888888888,
             "#fdca26"
            ],
            [
             1,
             "#f0f921"
            ]
           ]
          },
          "colorway": [
           "#636efa",
           "#EF553B",
           "#00cc96",
           "#ab63fa",
           "#FFA15A",
           "#19d3f3",
           "#FF6692",
           "#B6E880",
           "#FF97FF",
           "#FECB52"
          ],
          "font": {
           "color": "#2a3f5f"
          },
          "geo": {
           "bgcolor": "white",
           "lakecolor": "white",
           "landcolor": "#E5ECF6",
           "showlakes": true,
           "showland": true,
           "subunitcolor": "white"
          },
          "hoverlabel": {
           "align": "left"
          },
          "hovermode": "closest",
          "mapbox": {
           "style": "light"
          },
          "paper_bgcolor": "white",
          "plot_bgcolor": "#E5ECF6",
          "polar": {
           "angularaxis": {
            "gridcolor": "white",
            "linecolor": "white",
            "ticks": ""
           },
           "bgcolor": "#E5ECF6",
           "radialaxis": {
            "gridcolor": "white",
            "linecolor": "white",
            "ticks": ""
           }
          },
          "scene": {
           "xaxis": {
            "backgroundcolor": "#E5ECF6",
            "gridcolor": "white",
            "gridwidth": 2,
            "linecolor": "white",
            "showbackground": true,
            "ticks": "",
            "zerolinecolor": "white"
           },
           "yaxis": {
            "backgroundcolor": "#E5ECF6",
            "gridcolor": "white",
            "gridwidth": 2,
            "linecolor": "white",
            "showbackground": true,
            "ticks": "",
            "zerolinecolor": "white"
           },
           "zaxis": {
            "backgroundcolor": "#E5ECF6",
            "gridcolor": "white",
            "gridwidth": 2,
            "linecolor": "white",
            "showbackground": true,
            "ticks": "",
            "zerolinecolor": "white"
           }
          },
          "shapedefaults": {
           "line": {
            "color": "#2a3f5f"
           }
          },
          "ternary": {
           "aaxis": {
            "gridcolor": "white",
            "linecolor": "white",
            "ticks": ""
           },
           "baxis": {
            "gridcolor": "white",
            "linecolor": "white",
            "ticks": ""
           },
           "bgcolor": "#E5ECF6",
           "caxis": {
            "gridcolor": "white",
            "linecolor": "white",
            "ticks": ""
           }
          },
          "title": {
           "x": 0.05
          },
          "xaxis": {
           "automargin": true,
           "gridcolor": "white",
           "linecolor": "white",
           "ticks": "",
           "title": {
            "standoff": 15
           },
           "zerolinecolor": "white",
           "zerolinewidth": 2
          },
          "yaxis": {
           "automargin": true,
           "gridcolor": "white",
           "linecolor": "white",
           "ticks": "",
           "title": {
            "standoff": 15
           },
           "zerolinecolor": "white",
           "zerolinewidth": 2
          }
         }
        },
        "title": {
         "text": "Evolution de la fonte disponible dans le Four de Fusion au cours du temps"
        },
        "xaxis": {
         "title": {
          "text": "Time (minutes)"
         }
        },
        "yaxis": {
         "title": {
          "text": "PFC (kg)"
         }
        }
       }
      }
     },
     "metadata": {},
     "output_type": "display_data"
    },
    {
     "data": {
      "application/vnd.plotly.v1+json": {
       "config": {
        "plotlyServerURL": "https://plot.ly"
       },
       "data": [
        {
         "line": {
          "color": "royalblue"
         },
         "mode": "lines",
         "name": "PFC over time",
         "type": "scatter",
         "x": [
          0,
          30,
          75,
          85,
          95,
          105,
          106,
          107,
          108,
          109,
          110,
          111,
          112,
          113,
          114,
          115,
          116,
          117,
          118,
          119,
          120,
          121,
          122,
          123,
          124,
          125,
          126,
          127,
          128,
          129,
          130,
          131,
          132,
          133,
          134,
          135,
          136,
          137,
          138,
          139,
          140,
          141,
          142,
          143,
          144,
          145,
          146,
          147,
          148,
          149,
          150,
          151,
          152,
          153,
          154,
          155,
          156,
          157,
          158,
          159,
          160,
          161,
          162,
          163,
          164,
          165,
          166,
          167,
          168,
          169,
          170,
          171,
          172,
          173,
          174,
          175,
          176,
          177,
          178,
          179,
          180,
          181,
          182,
          183,
          184,
          185,
          186,
          187,
          188,
          189,
          190,
          191,
          192,
          193,
          194,
          195,
          196,
          197,
          198,
          199,
          200,
          201,
          202,
          203,
          204,
          205,
          206,
          207,
          208,
          209,
          210,
          211,
          212,
          213,
          214,
          215,
          216,
          217,
          218,
          219,
          220,
          221,
          222,
          223,
          224,
          225,
          226,
          227,
          228,
          229,
          230,
          231,
          232,
          233,
          234,
          235,
          236,
          237,
          238,
          239,
          240,
          241,
          242,
          243,
          244,
          245,
          246,
          247,
          248,
          249,
          250,
          251,
          252,
          253,
          254,
          255,
          256,
          257,
          258,
          259,
          260,
          261,
          262,
          263,
          264,
          265,
          266,
          267,
          268,
          269,
          270,
          271,
          272,
          273,
          274,
          275,
          276,
          277,
          278,
          279,
          280,
          281,
          282,
          283,
          284,
          285,
          286,
          287,
          288,
          289,
          290,
          291,
          292,
          293,
          294,
          295,
          296,
          297,
          298,
          299,
          300,
          301,
          302,
          303,
          304,
          305,
          306,
          307,
          308,
          309,
          310,
          311,
          312,
          313,
          314,
          315,
          316,
          317,
          318,
          319,
          320,
          321,
          322,
          323,
          324,
          325,
          326,
          327,
          328,
          329,
          330,
          331,
          332,
          333,
          334,
          335,
          336,
          337,
          338,
          339,
          340,
          341,
          342,
          343,
          344,
          345,
          346,
          347,
          348,
          349,
          350,
          351,
          352,
          353,
          354,
          355,
          356,
          357,
          358,
          359,
          360,
          361,
          362,
          363,
          364,
          365,
          366,
          367,
          368,
          369,
          370,
          371,
          372,
          373,
          374,
          375,
          376,
          377,
          378,
          379,
          380,
          381,
          382,
          383,
          384,
          385,
          386,
          387,
          388,
          389,
          390,
          391,
          392,
          393,
          394,
          395,
          396,
          397,
          398,
          399,
          400,
          401,
          402,
          403,
          404,
          405,
          406,
          407,
          408,
          409,
          410,
          411,
          412,
          413,
          414,
          415,
          416,
          417,
          418,
          419,
          420,
          421,
          422,
          423,
          424,
          425,
          426,
          427,
          428,
          429,
          430,
          431,
          432,
          433,
          434,
          435,
          436,
          437,
          438,
          439,
          440,
          441,
          442,
          443,
          444,
          445,
          446,
          447,
          448,
          449,
          450,
          451,
          452,
          453,
          454,
          455,
          456,
          457,
          458,
          459,
          460,
          461,
          462,
          463,
          464,
          465,
          466,
          467,
          468,
          469,
          470,
          471,
          472,
          473,
          474,
          475,
          476,
          477,
          478,
          479,
          480,
          481,
          482,
          483,
          484,
          485,
          486,
          487,
          488,
          489,
          490,
          491,
          492,
          493,
          494,
          495,
          496,
          497,
          498,
          499,
          500,
          501,
          502,
          503,
          504,
          505,
          506,
          507,
          508,
          509,
          510,
          511,
          512,
          513,
          514,
          515,
          516,
          517,
          518,
          519,
          520,
          521,
          522,
          523,
          524,
          525,
          526,
          527,
          528,
          529,
          530,
          531,
          532,
          533,
          534,
          535,
          536,
          537,
          538,
          539,
          540,
          541,
          542,
          543,
          544,
          545,
          546,
          547,
          548,
          549,
          550,
          551,
          552,
          553,
          554,
          555,
          556,
          557,
          558,
          559,
          560,
          561,
          562,
          563,
          564,
          565,
          566,
          567,
          568,
          569,
          570,
          571,
          572,
          573,
          574,
          575,
          576,
          577,
          578,
          579,
          580,
          581,
          582,
          583,
          584,
          585,
          586,
          587,
          588,
          589,
          590,
          591,
          592,
          593,
          594,
          595,
          596,
          597,
          598,
          599,
          600
         ],
         "y": [
          0,
          0,
          0,
          1250,
          2500,
          3750,
          3619.5,
          3489,
          3358.5,
          3228,
          3097.5,
          2967,
          2836.5,
          2706,
          2575.5,
          3695,
          3564.5,
          3434,
          3303.5,
          3173,
          3042.5,
          2912,
          2781.5,
          2651,
          2520.5,
          3640,
          3509.5,
          3379,
          3248.5,
          3118,
          2987.5,
          2857,
          2726.5,
          2596,
          3715.5,
          3585,
          3454.5,
          3324,
          3193.5,
          3063,
          2932.5,
          2802,
          2671.5,
          2541,
          3660.5,
          3530,
          3399.5,
          3269,
          3138.5,
          3008,
          2877.5,
          2747,
          2616.5,
          3736,
          3605.5,
          3475,
          3344.5,
          3214,
          3083.5,
          2953,
          2822.5,
          2692,
          2561.5,
          3681,
          3550.5,
          3420,
          3289.5,
          3159,
          3028.5,
          2898,
          2767.5,
          2637,
          2506.5,
          3626,
          3495.5,
          3365,
          3234.5,
          3104,
          2973.5,
          2843,
          2712.5,
          2582,
          3701.5,
          3571,
          3440.5,
          3310,
          3179.5,
          3049,
          2918.5,
          2788,
          2657.5,
          2527,
          3646.5,
          3516,
          3385.5,
          3255,
          3124.5,
          2994,
          2863.5,
          2733,
          2602.5,
          3722,
          3591.5,
          3461,
          3330.5,
          3200,
          3069.5,
          2939,
          2808.5,
          2678,
          2547.5,
          3667,
          3536.5,
          3406,
          3275.5,
          3145,
          3014.5,
          2884,
          2753.5,
          2623,
          3742.5,
          3612,
          3481.5,
          3351,
          3220.5,
          3090,
          2959.5,
          2834.8333333333335,
          2710.166666666667,
          2585.5000000000005,
          3710.833333333334,
          3586.1666666666674,
          3461.500000000001,
          3336.8333333333344,
          3212.166666666668,
          3087.5000000000014,
          2962.833333333335,
          2838.1666666666683,
          2713.500000000002,
          2588.8333333333353,
          3714.166666666669,
          3589.5000000000023,
          3464.8333333333358,
          3340.1666666666692,
          3215.5000000000027,
          3090.833333333336,
          2966.1666666666697,
          2841.500000000003,
          2716.8333333333367,
          2592.16666666667,
          3717.5000000000036,
          3592.833333333337,
          3468.1666666666706,
          3343.500000000004,
          3218.8333333333376,
          3094.166666666671,
          2969.5000000000045,
          2844.833333333338,
          2720.1666666666715,
          2595.500000000005,
          3720.8333333333385,
          3596.166666666672,
          3471.5000000000055,
          3346.833333333339,
          3222.1666666666724,
          3097.500000000006,
          2972.8333333333394,
          2848.166666666673,
          2723.5000000000064,
          2598.83333333334,
          3724.1666666666733,
          3599.500000000007,
          3474.8333333333403,
          3350.166666666674,
          3225.5000000000073,
          3100.8333333333408,
          2976.1666666666742,
          2926.8333333333408,
          2877.5000000000073,
          2828.166666666674,
          2778.8333333333403,
          2729.500000000007,
          2680.1666666666733,
          2630.83333333334,
          2581.5000000000064,
          2532.166666666673,
          2482.8333333333394,
          2433.500000000006,
          3634.1666666666724,
          3584.833333333339,
          3535.5000000000055,
          3486.166666666672,
          3436.8333333333385,
          3387.500000000005,
          3338.1666666666715,
          3288.833333333338,
          3239.5000000000045,
          3190.166666666671,
          3140.8333333333376,
          3091.500000000004,
          3042.1666666666706,
          2992.833333333337,
          2943.5000000000036,
          2894.16666666667,
          2844.8333333333367,
          2795.500000000003,
          2746.1666666666697,
          3946.833333333336,
          3897.5000000000027,
          3848.1666666666692,
          3798.8333333333358,
          3749.5000000000023,
          3679.666666666669,
          3609.8333333333353,
          3540.000000000002,
          3470.1666666666683,
          3400.333333333335,
          3330.5000000000014,
          3260.666666666668,
          3190.8333333333344,
          3121.000000000001,
          3051.1666666666674,
          2920.6666666666674,
          2790.1666666666674,
          2659.6666666666674,
          3779.1666666666674,
          3648.6666666666674,
          3518.1666666666674,
          3387.6666666666674,
          3257.1666666666674,
          3126.6666666666674,
          2996.1666666666674,
          2865.6666666666674,
          2735.1666666666674,
          2604.6666666666674,
          3724.1666666666674,
          3593.6666666666674,
          3463.1666666666674,
          3332.6666666666674,
          3202.1666666666674,
          3071.6666666666674,
          2941.1666666666674,
          2810.6666666666674,
          2680.1666666666674,
          2549.6666666666674,
          3669.1666666666674,
          3538.6666666666674,
          3408.1666666666674,
          3277.6666666666674,
          3147.1666666666674,
          3016.6666666666674,
          2886.1666666666674,
          2755.6666666666674,
          2625.1666666666674,
          3744.6666666666674,
          3614.1666666666674,
          3483.6666666666674,
          3353.1666666666674,
          3222.6666666666674,
          3092.1666666666674,
          2961.6666666666674,
          2831.1666666666674,
          2700.6666666666674,
          2570.1666666666674,
          3689.6666666666674,
          3559.1666666666674,
          3428.6666666666674,
          3298.1666666666674,
          3167.6666666666674,
          3037.1666666666674,
          2906.6666666666674,
          2776.1666666666674,
          2645.6666666666674,
          2515.1666666666674,
          3634.6666666666674,
          3504.1666666666674,
          3373.6666666666674,
          3243.1666666666674,
          3112.6666666666674,
          2982.1666666666674,
          2851.6666666666674,
          2721.1666666666674,
          2590.6666666666674,
          3710.1666666666674,
          3579.6666666666674,
          3449.1666666666674,
          3318.6666666666674,
          3188.1666666666674,
          3057.6666666666674,
          2927.1666666666674,
          2796.6666666666674,
          2666.1666666666674,
          2535.6666666666674,
          3655.1666666666674,
          3524.6666666666674,
          3394.1666666666674,
          3263.6666666666674,
          3133.1666666666674,
          3002.6666666666674,
          2872.1666666666674,
          2741.6666666666674,
          2611.1666666666674,
          3730.6666666666674,
          3600.1666666666674,
          3469.6666666666674,
          3339.1666666666674,
          3208.6666666666674,
          3078.1666666666674,
          2947.6666666666674,
          2817.1666666666674,
          2686.6666666666674,
          2556.1666666666674,
          3675.6666666666674,
          3545.1666666666674,
          3414.6666666666674,
          3284.1666666666674,
          3153.6666666666674,
          3023.1666666666674,
          2892.6666666666674,
          2762.1666666666674,
          2631.6666666666674,
          2501.1666666666674,
          3626.500000000001,
          3501.8333333333344,
          3377.166666666668,
          3252.5000000000014,
          3127.833333333335,
          3003.1666666666683,
          2878.500000000002,
          2753.8333333333353,
          2629.166666666669,
          2504.5000000000023,
          3629.8333333333358,
          3505.1666666666692,
          3380.5000000000027,
          3255.833333333336,
          3131.1666666666697,
          3006.500000000003,
          2881.8333333333367,
          2757.16666666667,
          2632.5000000000036,
          2507.833333333337,
          3633.1666666666706,
          3508.500000000004,
          3383.8333333333376,
          3259.166666666671,
          3134.5000000000045,
          3009.833333333338,
          2885.1666666666715,
          2760.500000000005,
          2635.8333333333385,
          2511.166666666672,
          3636.5000000000055,
          3511.833333333339,
          3387.1666666666724,
          3262.500000000006,
          3137.8333333333394,
          3013.166666666673,
          2888.5000000000064,
          2763.83333333334,
          2639.1666666666733,
          2514.500000000007,
          3639.8333333333403,
          3515.166666666674,
          3390.5000000000073,
          3265.8333333333408,
          3141.1666666666742,
          3016.5000000000077,
          2891.833333333341,
          2767.1666666666747,
          2642.500000000008,
          2517.8333333333417,
          2468.500000000008,
          3669.1666666666747,
          3619.833333333341,
          3570.5000000000077,
          3521.1666666666742,
          3471.8333333333408,
          3422.5000000000073,
          3373.166666666674,
          3323.8333333333403,
          3274.500000000007,
          3225.1666666666733,
          3175.83333333334,
          3126.5000000000064,
          3077.166666666673,
          3027.8333333333394,
          2978.500000000006,
          2929.1666666666724,
          2879.833333333339,
          2830.5000000000055,
          2781.166666666672,
          3981.8333333333385,
          3932.500000000005,
          3883.1666666666715,
          3833.833333333338,
          3784.5000000000045,
          3735.166666666671,
          3685.8333333333376,
          3636.500000000004,
          3587.1666666666706,
          3537.833333333337,
          3488.5000000000036,
          3439.16666666667,
          3389.8333333333367,
          3340.500000000003,
          3291.1666666666697,
          3160.6666666666697,
          3030.1666666666697,
          2899.6666666666697,
          2769.1666666666697,
          3888.6666666666697,
          3758.1666666666697,
          3627.6666666666697,
          3497.1666666666697,
          3366.6666666666697,
          3236.1666666666697,
          3105.6666666666697,
          2975.1666666666697,
          2844.6666666666697,
          2714.1666666666697,
          2583.6666666666697,
          3703.1666666666697,
          3572.6666666666697,
          3442.1666666666697,
          3311.6666666666697,
          3181.1666666666697,
          3050.6666666666697,
          2920.1666666666697,
          2789.6666666666697,
          2659.1666666666697,
          2528.6666666666697,
          3648.1666666666697,
          3517.6666666666697,
          3387.1666666666697,
          3256.6666666666697,
          3126.1666666666697,
          2995.6666666666697,
          2865.1666666666697,
          2734.6666666666697,
          2604.1666666666697,
          3723.6666666666697,
          3593.1666666666697,
          3462.6666666666697,
          3332.1666666666697,
          3201.6666666666697,
          3071.1666666666697,
          2940.6666666666697,
          2810.1666666666697,
          2679.6666666666697,
          2549.1666666666697,
          3668.6666666666697,
          3538.1666666666697,
          3407.6666666666697,
          3277.1666666666697,
          3146.6666666666697,
          3016.1666666666697,
          2922.333333333336,
          2828.5000000000027,
          2734.6666666666692,
          2640.8333333333358,
          2547.0000000000023,
          3703.166666666669,
          3609.3333333333353,
          3515.500000000002,
          3421.6666666666683,
          3327.833333333335,
          3234.0000000000014,
          3140.166666666668,
          3046.3333333333344,
          2952.500000000001,
          2858.6666666666674,
          2764.833333333334,
          2671.0000000000005,
          2577.166666666667,
          3733.3333333333335,
          3639.5,
          3545.6666666666665,
          3451.833333333333,
          3357.9999999999995,
          3264.166666666666,
          3170.3333333333326,
          3076.499999999999,
          2982.6666666666656,
          2888.833333333332,
          2794.9999999999986,
          2701.166666666665,
          2607.3333333333317,
          2513.499999999998,
          3669.6666666666647,
          3575.833333333331,
          3481.9999999999977,
          3388.1666666666642,
          3294.3333333333308,
          3200.4999999999973,
          3106.666666666664,
          4262.833333333331,
          4262.833333333331,
          4262.833333333331,
          4262.833333333331,
          4262.833333333331
         ]
        }
       ],
       "layout": {
        "annotations": [
         {
          "arrowhead": 2,
          "ax": 20,
          "ay": -30,
          "showarrow": true,
          "text": "PFCmin",
          "x": 600,
          "xref": "x",
          "y": 2500,
          "yref": "y"
         },
         {
          "arrowhead": 2,
          "ax": 20,
          "ay": -30,
          "showarrow": true,
          "text": "PFCmax",
          "x": 600,
          "xref": "x",
          "y": 4000,
          "yref": "y"
         }
        ],
        "shapes": [
         {
          "line": {
           "color": "firebrick",
           "dash": "dash",
           "width": 2
          },
          "name": "PFCmin",
          "type": "line",
          "x0": 0,
          "x1": 600,
          "y0": 2500,
          "y1": 2500
         },
         {
          "line": {
           "color": "green",
           "dash": "dash",
           "width": 2
          },
          "name": "PFCmax",
          "type": "line",
          "x0": 0,
          "x1": 600,
          "y0": 4000,
          "y1": 4000
         }
        ],
        "showlegend": false,
        "template": {
         "data": {
          "bar": [
           {
            "error_x": {
             "color": "#2a3f5f"
            },
            "error_y": {
             "color": "#2a3f5f"
            },
            "marker": {
             "line": {
              "color": "#E5ECF6",
              "width": 0.5
             },
             "pattern": {
              "fillmode": "overlay",
              "size": 10,
              "solidity": 0.2
             }
            },
            "type": "bar"
           }
          ],
          "barpolar": [
           {
            "marker": {
             "line": {
              "color": "#E5ECF6",
              "width": 0.5
             },
             "pattern": {
              "fillmode": "overlay",
              "size": 10,
              "solidity": 0.2
             }
            },
            "type": "barpolar"
           }
          ],
          "carpet": [
           {
            "aaxis": {
             "endlinecolor": "#2a3f5f",
             "gridcolor": "white",
             "linecolor": "white",
             "minorgridcolor": "white",
             "startlinecolor": "#2a3f5f"
            },
            "baxis": {
             "endlinecolor": "#2a3f5f",
             "gridcolor": "white",
             "linecolor": "white",
             "minorgridcolor": "white",
             "startlinecolor": "#2a3f5f"
            },
            "type": "carpet"
           }
          ],
          "choropleth": [
           {
            "colorbar": {
             "outlinewidth": 0,
             "ticks": ""
            },
            "type": "choropleth"
           }
          ],
          "contour": [
           {
            "colorbar": {
             "outlinewidth": 0,
             "ticks": ""
            },
            "colorscale": [
             [
              0,
              "#0d0887"
             ],
             [
              0.1111111111111111,
              "#46039f"
             ],
             [
              0.2222222222222222,
              "#7201a8"
             ],
             [
              0.3333333333333333,
              "#9c179e"
             ],
             [
              0.4444444444444444,
              "#bd3786"
             ],
             [
              0.5555555555555556,
              "#d8576b"
             ],
             [
              0.6666666666666666,
              "#ed7953"
             ],
             [
              0.7777777777777778,
              "#fb9f3a"
             ],
             [
              0.8888888888888888,
              "#fdca26"
             ],
             [
              1,
              "#f0f921"
             ]
            ],
            "type": "contour"
           }
          ],
          "contourcarpet": [
           {
            "colorbar": {
             "outlinewidth": 0,
             "ticks": ""
            },
            "type": "contourcarpet"
           }
          ],
          "heatmap": [
           {
            "colorbar": {
             "outlinewidth": 0,
             "ticks": ""
            },
            "colorscale": [
             [
              0,
              "#0d0887"
             ],
             [
              0.1111111111111111,
              "#46039f"
             ],
             [
              0.2222222222222222,
              "#7201a8"
             ],
             [
              0.3333333333333333,
              "#9c179e"
             ],
             [
              0.4444444444444444,
              "#bd3786"
             ],
             [
              0.5555555555555556,
              "#d8576b"
             ],
             [
              0.6666666666666666,
              "#ed7953"
             ],
             [
              0.7777777777777778,
              "#fb9f3a"
             ],
             [
              0.8888888888888888,
              "#fdca26"
             ],
             [
              1,
              "#f0f921"
             ]
            ],
            "type": "heatmap"
           }
          ],
          "heatmapgl": [
           {
            "colorbar": {
             "outlinewidth": 0,
             "ticks": ""
            },
            "colorscale": [
             [
              0,
              "#0d0887"
             ],
             [
              0.1111111111111111,
              "#46039f"
             ],
             [
              0.2222222222222222,
              "#7201a8"
             ],
             [
              0.3333333333333333,
              "#9c179e"
             ],
             [
              0.4444444444444444,
              "#bd3786"
             ],
             [
              0.5555555555555556,
              "#d8576b"
             ],
             [
              0.6666666666666666,
              "#ed7953"
             ],
             [
              0.7777777777777778,
              "#fb9f3a"
             ],
             [
              0.8888888888888888,
              "#fdca26"
             ],
             [
              1,
              "#f0f921"
             ]
            ],
            "type": "heatmapgl"
           }
          ],
          "histogram": [
           {
            "marker": {
             "pattern": {
              "fillmode": "overlay",
              "size": 10,
              "solidity": 0.2
             }
            },
            "type": "histogram"
           }
          ],
          "histogram2d": [
           {
            "colorbar": {
             "outlinewidth": 0,
             "ticks": ""
            },
            "colorscale": [
             [
              0,
              "#0d0887"
             ],
             [
              0.1111111111111111,
              "#46039f"
             ],
             [
              0.2222222222222222,
              "#7201a8"
             ],
             [
              0.3333333333333333,
              "#9c179e"
             ],
             [
              0.4444444444444444,
              "#bd3786"
             ],
             [
              0.5555555555555556,
              "#d8576b"
             ],
             [
              0.6666666666666666,
              "#ed7953"
             ],
             [
              0.7777777777777778,
              "#fb9f3a"
             ],
             [
              0.8888888888888888,
              "#fdca26"
             ],
             [
              1,
              "#f0f921"
             ]
            ],
            "type": "histogram2d"
           }
          ],
          "histogram2dcontour": [
           {
            "colorbar": {
             "outlinewidth": 0,
             "ticks": ""
            },
            "colorscale": [
             [
              0,
              "#0d0887"
             ],
             [
              0.1111111111111111,
              "#46039f"
             ],
             [
              0.2222222222222222,
              "#7201a8"
             ],
             [
              0.3333333333333333,
              "#9c179e"
             ],
             [
              0.4444444444444444,
              "#bd3786"
             ],
             [
              0.5555555555555556,
              "#d8576b"
             ],
             [
              0.6666666666666666,
              "#ed7953"
             ],
             [
              0.7777777777777778,
              "#fb9f3a"
             ],
             [
              0.8888888888888888,
              "#fdca26"
             ],
             [
              1,
              "#f0f921"
             ]
            ],
            "type": "histogram2dcontour"
           }
          ],
          "mesh3d": [
           {
            "colorbar": {
             "outlinewidth": 0,
             "ticks": ""
            },
            "type": "mesh3d"
           }
          ],
          "parcoords": [
           {
            "line": {
             "colorbar": {
              "outlinewidth": 0,
              "ticks": ""
             }
            },
            "type": "parcoords"
           }
          ],
          "pie": [
           {
            "automargin": true,
            "type": "pie"
           }
          ],
          "scatter": [
           {
            "fillpattern": {
             "fillmode": "overlay",
             "size": 10,
             "solidity": 0.2
            },
            "type": "scatter"
           }
          ],
          "scatter3d": [
           {
            "line": {
             "colorbar": {
              "outlinewidth": 0,
              "ticks": ""
             }
            },
            "marker": {
             "colorbar": {
              "outlinewidth": 0,
              "ticks": ""
             }
            },
            "type": "scatter3d"
           }
          ],
          "scattercarpet": [
           {
            "marker": {
             "colorbar": {
              "outlinewidth": 0,
              "ticks": ""
             }
            },
            "type": "scattercarpet"
           }
          ],
          "scattergeo": [
           {
            "marker": {
             "colorbar": {
              "outlinewidth": 0,
              "ticks": ""
             }
            },
            "type": "scattergeo"
           }
          ],
          "scattergl": [
           {
            "marker": {
             "colorbar": {
              "outlinewidth": 0,
              "ticks": ""
             }
            },
            "type": "scattergl"
           }
          ],
          "scattermapbox": [
           {
            "marker": {
             "colorbar": {
              "outlinewidth": 0,
              "ticks": ""
             }
            },
            "type": "scattermapbox"
           }
          ],
          "scatterpolar": [
           {
            "marker": {
             "colorbar": {
              "outlinewidth": 0,
              "ticks": ""
             }
            },
            "type": "scatterpolar"
           }
          ],
          "scatterpolargl": [
           {
            "marker": {
             "colorbar": {
              "outlinewidth": 0,
              "ticks": ""
             }
            },
            "type": "scatterpolargl"
           }
          ],
          "scatterternary": [
           {
            "marker": {
             "colorbar": {
              "outlinewidth": 0,
              "ticks": ""
             }
            },
            "type": "scatterternary"
           }
          ],
          "surface": [
           {
            "colorbar": {
             "outlinewidth": 0,
             "ticks": ""
            },
            "colorscale": [
             [
              0,
              "#0d0887"
             ],
             [
              0.1111111111111111,
              "#46039f"
             ],
             [
              0.2222222222222222,
              "#7201a8"
             ],
             [
              0.3333333333333333,
              "#9c179e"
             ],
             [
              0.4444444444444444,
              "#bd3786"
             ],
             [
              0.5555555555555556,
              "#d8576b"
             ],
             [
              0.6666666666666666,
              "#ed7953"
             ],
             [
              0.7777777777777778,
              "#fb9f3a"
             ],
             [
              0.8888888888888888,
              "#fdca26"
             ],
             [
              1,
              "#f0f921"
             ]
            ],
            "type": "surface"
           }
          ],
          "table": [
           {
            "cells": {
             "fill": {
              "color": "#EBF0F8"
             },
             "line": {
              "color": "white"
             }
            },
            "header": {
             "fill": {
              "color": "#C8D4E3"
             },
             "line": {
              "color": "white"
             }
            },
            "type": "table"
           }
          ]
         },
         "layout": {
          "annotationdefaults": {
           "arrowcolor": "#2a3f5f",
           "arrowhead": 0,
           "arrowwidth": 1
          },
          "autotypenumbers": "strict",
          "coloraxis": {
           "colorbar": {
            "outlinewidth": 0,
            "ticks": ""
           }
          },
          "colorscale": {
           "diverging": [
            [
             0,
             "#8e0152"
            ],
            [
             0.1,
             "#c51b7d"
            ],
            [
             0.2,
             "#de77ae"
            ],
            [
             0.3,
             "#f1b6da"
            ],
            [
             0.4,
             "#fde0ef"
            ],
            [
             0.5,
             "#f7f7f7"
            ],
            [
             0.6,
             "#e6f5d0"
            ],
            [
             0.7,
             "#b8e186"
            ],
            [
             0.8,
             "#7fbc41"
            ],
            [
             0.9,
             "#4d9221"
            ],
            [
             1,
             "#276419"
            ]
           ],
           "sequential": [
            [
             0,
             "#0d0887"
            ],
            [
             0.1111111111111111,
             "#46039f"
            ],
            [
             0.2222222222222222,
             "#7201a8"
            ],
            [
             0.3333333333333333,
             "#9c179e"
            ],
            [
             0.4444444444444444,
             "#bd3786"
            ],
            [
             0.5555555555555556,
             "#d8576b"
            ],
            [
             0.6666666666666666,
             "#ed7953"
            ],
            [
             0.7777777777777778,
             "#fb9f3a"
            ],
            [
             0.8888888888888888,
             "#fdca26"
            ],
            [
             1,
             "#f0f921"
            ]
           ],
           "sequentialminus": [
            [
             0,
             "#0d0887"
            ],
            [
             0.1111111111111111,
             "#46039f"
            ],
            [
             0.2222222222222222,
             "#7201a8"
            ],
            [
             0.3333333333333333,
             "#9c179e"
            ],
            [
             0.4444444444444444,
             "#bd3786"
            ],
            [
             0.5555555555555556,
             "#d8576b"
            ],
            [
             0.6666666666666666,
             "#ed7953"
            ],
            [
             0.7777777777777778,
             "#fb9f3a"
            ],
            [
             0.8888888888888888,
             "#fdca26"
            ],
            [
             1,
             "#f0f921"
            ]
           ]
          },
          "colorway": [
           "#636efa",
           "#EF553B",
           "#00cc96",
           "#ab63fa",
           "#FFA15A",
           "#19d3f3",
           "#FF6692",
           "#B6E880",
           "#FF97FF",
           "#FECB52"
          ],
          "font": {
           "color": "#2a3f5f"
          },
          "geo": {
           "bgcolor": "white",
           "lakecolor": "white",
           "landcolor": "#E5ECF6",
           "showlakes": true,
           "showland": true,
           "subunitcolor": "white"
          },
          "hoverlabel": {
           "align": "left"
          },
          "hovermode": "closest",
          "mapbox": {
           "style": "light"
          },
          "paper_bgcolor": "white",
          "plot_bgcolor": "#E5ECF6",
          "polar": {
           "angularaxis": {
            "gridcolor": "white",
            "linecolor": "white",
            "ticks": ""
           },
           "bgcolor": "#E5ECF6",
           "radialaxis": {
            "gridcolor": "white",
            "linecolor": "white",
            "ticks": ""
           }
          },
          "scene": {
           "xaxis": {
            "backgroundcolor": "#E5ECF6",
            "gridcolor": "white",
            "gridwidth": 2,
            "linecolor": "white",
            "showbackground": true,
            "ticks": "",
            "zerolinecolor": "white"
           },
           "yaxis": {
            "backgroundcolor": "#E5ECF6",
            "gridcolor": "white",
            "gridwidth": 2,
            "linecolor": "white",
            "showbackground": true,
            "ticks": "",
            "zerolinecolor": "white"
           },
           "zaxis": {
            "backgroundcolor": "#E5ECF6",
            "gridcolor": "white",
            "gridwidth": 2,
            "linecolor": "white",
            "showbackground": true,
            "ticks": "",
            "zerolinecolor": "white"
           }
          },
          "shapedefaults": {
           "line": {
            "color": "#2a3f5f"
           }
          },
          "ternary": {
           "aaxis": {
            "gridcolor": "white",
            "linecolor": "white",
            "ticks": ""
           },
           "baxis": {
            "gridcolor": "white",
            "linecolor": "white",
            "ticks": ""
           },
           "bgcolor": "#E5ECF6",
           "caxis": {
            "gridcolor": "white",
            "linecolor": "white",
            "ticks": ""
           }
          },
          "title": {
           "x": 0.05
          },
          "xaxis": {
           "automargin": true,
           "gridcolor": "white",
           "linecolor": "white",
           "ticks": "",
           "title": {
            "standoff": 15
           },
           "zerolinecolor": "white",
           "zerolinewidth": 2
          },
          "yaxis": {
           "automargin": true,
           "gridcolor": "white",
           "linecolor": "white",
           "ticks": "",
           "title": {
            "standoff": 15
           },
           "zerolinecolor": "white",
           "zerolinewidth": 2
          }
         }
        },
        "title": {
         "text": "Evolution de la fonte dans le Four de Coulée au cours du temps"
        },
        "xaxis": {
         "title": {
          "text": "Time (minutes)"
         }
        },
        "yaxis": {
         "title": {
          "text": "PFC (kg)"
         }
        }
       }
      }
     },
     "metadata": {},
     "output_type": "display_data"
    }
   ],
   "source": [
    "Plot_Prod(times, PFC_Prodvalues)\n",
    "Plot_consom(times, PFC_Consomvalues, tmin, tmax, PFCmin, PFCmax)"
   ]
  },
  {
   "cell_type": "code",
   "execution_count": null,
   "metadata": {},
   "outputs": [],
   "source": []
  },
  {
   "cell_type": "code",
   "execution_count": null,
   "metadata": {},
   "outputs": [],
   "source": []
  }
 ],
 "metadata": {
  "kernelspec": {
   "display_name": "Python 3",
   "language": "python",
   "name": "python3"
  },
  "language_info": {
   "codemirror_mode": {
    "name": "ipython",
    "version": 3
   },
   "file_extension": ".py",
   "mimetype": "text/x-python",
   "name": "python",
   "nbconvert_exporter": "python",
   "pygments_lexer": "ipython3",
   "version": "3.12.2"
  }
 },
 "nbformat": 4,
 "nbformat_minor": 2
}
