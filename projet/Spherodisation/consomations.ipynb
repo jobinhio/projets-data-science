{
 "cells": [
  {
   "cell_type": "code",
   "execution_count": null,
   "metadata": {},
   "outputs": [],
   "source": []
  },
  {
   "cell_type": "markdown",
   "metadata": {},
   "source": [
    "# Code 2"
   ]
  },
  {
   "cell_type": "code",
   "execution_count": null,
   "metadata": {},
   "outputs": [],
   "source": []
  },
  {
   "cell_type": "code",
   "execution_count": 36,
   "metadata": {},
   "outputs": [],
   "source": [
    "import plotly.graph_objects as go\n",
    "\n",
    "def Plot_consom(times, PFC_values, tmin, tmax, PFCmin, PFCmax):\n",
    "\n",
    "    # Create Plotly figure\n",
    "    fig = go.Figure()\n",
    "\n",
    "    # Add PFC line\n",
    "    fig.add_trace(go.Scatter(x=times, y=PFC_values, mode='lines', name='PFC over time', line=dict(color='royalblue')))\n",
    "\n",
    "    # Add horizontal lines for PFCmin and PFCmax\n",
    "    fig.add_shape(type=\"line\", x0=tmin, y0=PFCmin, x1=tmax, y1=PFCmin, line=dict(color=\"firebrick\", width=2, dash=\"dash\"), name=\"PFCmin\")\n",
    "    \n",
    "    fig.add_shape(type=\"line\", x0=tmin, y0=PFCmax, x1=tmax, y1=PFCmax, line=dict(color=\"green\", width=2, dash=\"dash\"), name=\"PFCmax\")\n",
    "\n",
    "\n",
    "    # Customize layout\n",
    "    fig.update_layout(title='Consommation de fonte au cours du temps', xaxis_title='Time (minutes)', yaxis_title='PFC (kg)', template='plotly',\n",
    "        showlegend=False,annotations=[\n",
    "            dict(x=tmax,y=PFCmin,xref=\"x\",yref=\"y\",text=\"PFCmin\",showarrow=True,arrowhead=2,ax=20,ay=-30),\n",
    "            dict(x=tmax,y=PFCmax,xref=\"x\",yref=\"y\",text=\"PFCmax\",showarrow=True,arrowhead=2,ax=20,ay=-30)])\n",
    "\n",
    "    # Show the plot\n",
    "    fig.show()\n",
    "\n",
    "def Plot_Prod(times, PFC_values):\n",
    "\n",
    "    # Create Plotly figure\n",
    "    fig = go.Figure()\n",
    "\n",
    "    # Add PFC line\n",
    "    fig.add_trace(go.Scatter(x=times, y=PFC_values, mode='lines', name='PFC over time', line=dict(color='royalblue')))\n",
    "\n",
    "    # Customize layout\n",
    "    fig.update_layout(title='Production de fonte au cours du temps', xaxis_title='Time (minutes)', yaxis_title='PFC (kg)', template='plotly',\n",
    "        showlegend=False)\n",
    "\n",
    "    # Show the plot\n",
    "    fig.show()"
   ]
  },
  {
   "cell_type": "code",
   "execution_count": 48,
   "metadata": {},
   "outputs": [],
   "source": [
    "def ProdConsom(ListeMasse_grappe, ListeQuantite_mottes, nb_moules_heure, t_serie, Temps_fusion, Temps_chargement):\n",
    "\n",
    "    numfours = 0\n",
    "    Fonte_produit = 5000 # Fontes produits toute les 45 min en kg\n",
    "    PFC_Prodvalues = [0] # en kg\n",
    "    PFC_Prod =  PFC_Prodvalues[-1]\n",
    "\n",
    "\n",
    "    PFC_Consomvalues = [4000] # en kg\n",
    "    PFC_Consom = PFC_Consomvalues[-1]\n",
    "    times = [0] # en min\n",
    "    tmin = times[-1]\n",
    "    t = tmin\n",
    "\n",
    "    for masse_grappe_i, Quantite_mottes_i in zip(ListeMasse_grappe, ListeQuantite_mottes) :\n",
    "        for i in range(Quantite_mottes_i):\n",
    "            cadences_i = nb_moules_heure/60 * masse_grappe_i  # consomation de fonte par minute (kg/min)\n",
    "            PFC_Consom = PFC_Consom - cadences_i  # en kg\n",
    "            t+=1\n",
    "            times.append(t)\n",
    "            PFC_Consomvalues.append(PFC_Consom)\n",
    "\n",
    "            #  Partie Producion de la fonte dans le temps\n",
    "            if t <= Temps_chargement:\n",
    "                # Avant ou pendant Temps_chargement\n",
    "                PFC_Prodvalues.append(PFC_Prod)\n",
    "            else:\n",
    "                # Après Temps_chargement\n",
    "                if (t - Temps_chargement) % Temps_fusion == 0:\n",
    "                    numfours += 1\n",
    "                    # print(t,numfours)\n",
    "                    PFC_Prod += Fonte_produit\n",
    "                PFC_Prodvalues.append(PFC_Prod)\n",
    "            \n",
    "        t+=t_serie\n",
    "        #  Partie Producion de la fonte dans le temps\n",
    "        if t <= Temps_chargement:\n",
    "            # Avant ou pendant Temps_chargement\n",
    "            PFC_Prodvalues.append(PFC_Prod)\n",
    "        else:\n",
    "            # Après Temps_chargement\n",
    "            if (t - Temps_chargement) % Temps_fusion == 0:\n",
    "                numfours += 1\n",
    "                # print(t,numfours)\n",
    "                PFC_Prod += Fonte_produit\n",
    "            PFC_Prodvalues.append(PFC_Prod)\n",
    "\n",
    "        times.append(t)\n",
    "        PFC_Consomvalues.append(PFC_Consom)\n",
    "    tmax = t\n",
    "    return times, PFC_Consomvalues, PFC_Prodvalues, tmin, tmax"
   ]
  },
  {
   "cell_type": "code",
   "execution_count": 49,
   "metadata": {},
   "outputs": [],
   "source": [
    "nb_fours = 6 # 8-9 fours pour HWS, 6 fours pour DiSA\n",
    "Temps_fusion = 45 # en min\n",
    "Temps_chargement = 30 # 30 - 45  min\n",
    "\n",
    "# Les valeurs d'entrée Input \n",
    "\n",
    "nb_moules_heure = 160 \n",
    "t_serie = 5 # 5 min\n",
    "\n",
    "PFCmin = 2500 # en kg\n",
    "PFCmax = 4000 # en kg\n",
    "\n",
    "times = [0] # en min\n",
    "PFC_values = [4000] # en kg\n",
    "ListeMasse_grappe = [35, 10, 20, 35] # en kg\n",
    "ListeQuantite_mottes = [50, 50, 50, 50]\n",
    "\n",
    "times, PFC_Consomvalues, PFC_Prodvalues, tmin, tmax = ProdConsom(ListeMasse_grappe, ListeQuantite_mottes, nb_moules_heure, t_serie, Temps_fusion, Temps_chargement)"
   ]
  },
  {
   "cell_type": "code",
   "execution_count": 50,
   "metadata": {},
   "outputs": [
    {
     "data": {
      "application/vnd.plotly.v1+json": {
       "config": {
        "plotlyServerURL": "https://plot.ly"
       },
       "data": [
        {
         "line": {
          "color": "royalblue"
         },
         "mode": "lines",
         "name": "PFC over time",
         "type": "scatter",
         "x": [
          0,
          1,
          2,
          3,
          4,
          5,
          6,
          7,
          8,
          9,
          10,
          11,
          12,
          13,
          14,
          15,
          16,
          17,
          18,
          19,
          20,
          21,
          22,
          23,
          24,
          25,
          26,
          27,
          28,
          29,
          30,
          31,
          32,
          33,
          34,
          35,
          36,
          37,
          38,
          39,
          40,
          41,
          42,
          43,
          44,
          45,
          46,
          47,
          48,
          49,
          50,
          55,
          56,
          57,
          58,
          59,
          60,
          61,
          62,
          63,
          64,
          65,
          66,
          67,
          68,
          69,
          70,
          71,
          72,
          73,
          74,
          75,
          76,
          77,
          78,
          79,
          80,
          81,
          82,
          83,
          84,
          85,
          86,
          87,
          88,
          89,
          90,
          91,
          92,
          93,
          94,
          95,
          96,
          97,
          98,
          99,
          100,
          101,
          102,
          103,
          104,
          105,
          110,
          111,
          112,
          113,
          114,
          115,
          116,
          117,
          118,
          119,
          120,
          121,
          122,
          123,
          124,
          125,
          126,
          127,
          128,
          129,
          130,
          131,
          132,
          133,
          134,
          135,
          136,
          137,
          138,
          139,
          140,
          141,
          142,
          143,
          144,
          145,
          146,
          147,
          148,
          149,
          150,
          151,
          152,
          153,
          154,
          155,
          156,
          157,
          158,
          159,
          160,
          165,
          166,
          167,
          168,
          169,
          170,
          171,
          172,
          173,
          174,
          175,
          176,
          177,
          178,
          179,
          180,
          181,
          182,
          183,
          184,
          185,
          186,
          187,
          188,
          189,
          190,
          191,
          192,
          193,
          194,
          195,
          196,
          197,
          198,
          199,
          200,
          201,
          202,
          203,
          204,
          205,
          206,
          207,
          208,
          209,
          210,
          211,
          212,
          213,
          214,
          215,
          220
         ],
         "y": [
          4000,
          3906.6666666666665,
          3813.333333333333,
          3719.9999999999995,
          3626.666666666666,
          3533.3333333333326,
          3439.999999999999,
          3346.6666666666656,
          3253.333333333332,
          3159.9999999999986,
          3066.666666666665,
          2973.3333333333317,
          2879.999999999998,
          2786.6666666666647,
          2693.333333333331,
          2599.9999999999977,
          2506.6666666666642,
          2413.3333333333308,
          2319.9999999999973,
          2226.666666666664,
          2133.3333333333303,
          2039.999999999997,
          1946.6666666666638,
          1853.3333333333305,
          1759.9999999999973,
          1666.666666666664,
          1573.3333333333308,
          1479.9999999999975,
          1386.6666666666642,
          1293.333333333331,
          1199.9999999999977,
          1106.6666666666645,
          1013.3333333333311,
          919.9999999999977,
          826.6666666666644,
          733.333333333331,
          639.9999999999976,
          546.6666666666642,
          453.3333333333309,
          359.9999999999976,
          266.6666666666643,
          173.33333333333098,
          79.99999999999766,
          -13.333333333335673,
          -106.666666666669,
          -200.00000000000233,
          -293.33333333333564,
          -386.66666666666896,
          -480.0000000000023,
          -573.3333333333356,
          -666.666666666669,
          -666.666666666669,
          -693.3333333333356,
          -720.0000000000023,
          -746.6666666666689,
          -773.3333333333355,
          -800.0000000000022,
          -826.6666666666688,
          -853.3333333333354,
          -880.000000000002,
          -906.6666666666687,
          -933.3333333333353,
          -960.0000000000019,
          -986.6666666666686,
          -1013.3333333333352,
          -1040.0000000000018,
          -1066.6666666666686,
          -1093.3333333333353,
          -1120.000000000002,
          -1146.6666666666688,
          -1173.3333333333355,
          -1200.0000000000023,
          -1226.666666666669,
          -1253.3333333333358,
          -1280.0000000000025,
          -1306.6666666666692,
          -1333.333333333336,
          -1360.0000000000027,
          -1386.6666666666695,
          -1413.3333333333362,
          -1440.000000000003,
          -1466.6666666666697,
          -1493.3333333333364,
          -1520.0000000000032,
          -1546.66666666667,
          -1573.3333333333367,
          -1600.0000000000034,
          -1626.6666666666702,
          -1653.333333333337,
          -1680.0000000000036,
          -1706.6666666666704,
          -1733.3333333333371,
          -1760.0000000000039,
          -1786.6666666666706,
          -1813.3333333333374,
          -1840.000000000004,
          -1866.6666666666708,
          -1893.3333333333376,
          -1920.0000000000043,
          -1946.666666666671,
          -1973.3333333333378,
          -2000.0000000000045,
          -2000.0000000000045,
          -2053.333333333338,
          -2106.6666666666715,
          -2160.000000000005,
          -2213.3333333333385,
          -2266.666666666672,
          -2320.0000000000055,
          -2373.333333333339,
          -2426.6666666666724,
          -2480.000000000006,
          -2533.3333333333394,
          -2586.666666666673,
          -2640.0000000000064,
          -2693.33333333334,
          -2746.6666666666733,
          -2800.000000000007,
          -2853.3333333333403,
          -2906.666666666674,
          -2960.0000000000073,
          -3013.3333333333408,
          -3066.6666666666742,
          -3120.0000000000077,
          -3173.333333333341,
          -3226.6666666666747,
          -3280.000000000008,
          -3333.3333333333417,
          -3386.666666666675,
          -3440.0000000000086,
          -3493.333333333342,
          -3546.6666666666756,
          -3600.000000000009,
          -3653.3333333333426,
          -3706.666666666676,
          -3760.0000000000095,
          -3813.333333333343,
          -3866.6666666666765,
          -3920.00000000001,
          -3973.3333333333435,
          -4026.666666666677,
          -4080.0000000000105,
          -4133.333333333344,
          -4186.666666666677,
          -4240.00000000001,
          -4293.333333333343,
          -4346.666666666676,
          -4400.000000000009,
          -4453.333333333342,
          -4506.666666666675,
          -4560.000000000008,
          -4613.333333333341,
          -4666.666666666674,
          -4666.666666666674,
          -4760.000000000007,
          -4853.33333333334,
          -4946.666666666673,
          -5040.000000000006,
          -5133.333333333339,
          -5226.666666666672,
          -5320.0000000000055,
          -5413.3333333333385,
          -5506.6666666666715,
          -5600.000000000005,
          -5693.333333333338,
          -5786.666666666671,
          -5880.000000000004,
          -5973.333333333337,
          -6066.66666666667,
          -6160.000000000003,
          -6253.333333333336,
          -6346.666666666669,
          -6440.000000000002,
          -6533.333333333335,
          -6626.666666666668,
          -6720.000000000001,
          -6813.333333333334,
          -6906.666666666667,
          -7000,
          -7093.333333333333,
          -7186.666666666666,
          -7279.999999999999,
          -7373.333333333332,
          -7466.666666666665,
          -7559.999999999998,
          -7653.333333333331,
          -7746.666666666664,
          -7839.999999999997,
          -7933.33333333333,
          -8026.666666666663,
          -8119.999999999996,
          -8213.33333333333,
          -8306.666666666664,
          -8399.999999999998,
          -8493.333333333332,
          -8586.666666666666,
          -8680,
          -8773.333333333334,
          -8866.666666666668,
          -8960.000000000002,
          -9053.333333333336,
          -9146.66666666667,
          -9240.000000000004,
          -9333.333333333338,
          -9333.333333333338
         ]
        }
       ],
       "layout": {
        "annotations": [
         {
          "arrowhead": 2,
          "ax": 20,
          "ay": -30,
          "showarrow": true,
          "text": "PFCmin",
          "x": 220,
          "xref": "x",
          "y": 2500,
          "yref": "y"
         },
         {
          "arrowhead": 2,
          "ax": 20,
          "ay": -30,
          "showarrow": true,
          "text": "PFCmax",
          "x": 220,
          "xref": "x",
          "y": 4000,
          "yref": "y"
         }
        ],
        "shapes": [
         {
          "line": {
           "color": "firebrick",
           "dash": "dash",
           "width": 2
          },
          "name": "PFCmin",
          "type": "line",
          "x0": 0,
          "x1": 220,
          "y0": 2500,
          "y1": 2500
         },
         {
          "line": {
           "color": "green",
           "dash": "dash",
           "width": 2
          },
          "name": "PFCmax",
          "type": "line",
          "x0": 0,
          "x1": 220,
          "y0": 4000,
          "y1": 4000
         }
        ],
        "showlegend": false,
        "template": {
         "data": {
          "bar": [
           {
            "error_x": {
             "color": "#2a3f5f"
            },
            "error_y": {
             "color": "#2a3f5f"
            },
            "marker": {
             "line": {
              "color": "#E5ECF6",
              "width": 0.5
             },
             "pattern": {
              "fillmode": "overlay",
              "size": 10,
              "solidity": 0.2
             }
            },
            "type": "bar"
           }
          ],
          "barpolar": [
           {
            "marker": {
             "line": {
              "color": "#E5ECF6",
              "width": 0.5
             },
             "pattern": {
              "fillmode": "overlay",
              "size": 10,
              "solidity": 0.2
             }
            },
            "type": "barpolar"
           }
          ],
          "carpet": [
           {
            "aaxis": {
             "endlinecolor": "#2a3f5f",
             "gridcolor": "white",
             "linecolor": "white",
             "minorgridcolor": "white",
             "startlinecolor": "#2a3f5f"
            },
            "baxis": {
             "endlinecolor": "#2a3f5f",
             "gridcolor": "white",
             "linecolor": "white",
             "minorgridcolor": "white",
             "startlinecolor": "#2a3f5f"
            },
            "type": "carpet"
           }
          ],
          "choropleth": [
           {
            "colorbar": {
             "outlinewidth": 0,
             "ticks": ""
            },
            "type": "choropleth"
           }
          ],
          "contour": [
           {
            "colorbar": {
             "outlinewidth": 0,
             "ticks": ""
            },
            "colorscale": [
             [
              0,
              "#0d0887"
             ],
             [
              0.1111111111111111,
              "#46039f"
             ],
             [
              0.2222222222222222,
              "#7201a8"
             ],
             [
              0.3333333333333333,
              "#9c179e"
             ],
             [
              0.4444444444444444,
              "#bd3786"
             ],
             [
              0.5555555555555556,
              "#d8576b"
             ],
             [
              0.6666666666666666,
              "#ed7953"
             ],
             [
              0.7777777777777778,
              "#fb9f3a"
             ],
             [
              0.8888888888888888,
              "#fdca26"
             ],
             [
              1,
              "#f0f921"
             ]
            ],
            "type": "contour"
           }
          ],
          "contourcarpet": [
           {
            "colorbar": {
             "outlinewidth": 0,
             "ticks": ""
            },
            "type": "contourcarpet"
           }
          ],
          "heatmap": [
           {
            "colorbar": {
             "outlinewidth": 0,
             "ticks": ""
            },
            "colorscale": [
             [
              0,
              "#0d0887"
             ],
             [
              0.1111111111111111,
              "#46039f"
             ],
             [
              0.2222222222222222,
              "#7201a8"
             ],
             [
              0.3333333333333333,
              "#9c179e"
             ],
             [
              0.4444444444444444,
              "#bd3786"
             ],
             [
              0.5555555555555556,
              "#d8576b"
             ],
             [
              0.6666666666666666,
              "#ed7953"
             ],
             [
              0.7777777777777778,
              "#fb9f3a"
             ],
             [
              0.8888888888888888,
              "#fdca26"
             ],
             [
              1,
              "#f0f921"
             ]
            ],
            "type": "heatmap"
           }
          ],
          "heatmapgl": [
           {
            "colorbar": {
             "outlinewidth": 0,
             "ticks": ""
            },
            "colorscale": [
             [
              0,
              "#0d0887"
             ],
             [
              0.1111111111111111,
              "#46039f"
             ],
             [
              0.2222222222222222,
              "#7201a8"
             ],
             [
              0.3333333333333333,
              "#9c179e"
             ],
             [
              0.4444444444444444,
              "#bd3786"
             ],
             [
              0.5555555555555556,
              "#d8576b"
             ],
             [
              0.6666666666666666,
              "#ed7953"
             ],
             [
              0.7777777777777778,
              "#fb9f3a"
             ],
             [
              0.8888888888888888,
              "#fdca26"
             ],
             [
              1,
              "#f0f921"
             ]
            ],
            "type": "heatmapgl"
           }
          ],
          "histogram": [
           {
            "marker": {
             "pattern": {
              "fillmode": "overlay",
              "size": 10,
              "solidity": 0.2
             }
            },
            "type": "histogram"
           }
          ],
          "histogram2d": [
           {
            "colorbar": {
             "outlinewidth": 0,
             "ticks": ""
            },
            "colorscale": [
             [
              0,
              "#0d0887"
             ],
             [
              0.1111111111111111,
              "#46039f"
             ],
             [
              0.2222222222222222,
              "#7201a8"
             ],
             [
              0.3333333333333333,
              "#9c179e"
             ],
             [
              0.4444444444444444,
              "#bd3786"
             ],
             [
              0.5555555555555556,
              "#d8576b"
             ],
             [
              0.6666666666666666,
              "#ed7953"
             ],
             [
              0.7777777777777778,
              "#fb9f3a"
             ],
             [
              0.8888888888888888,
              "#fdca26"
             ],
             [
              1,
              "#f0f921"
             ]
            ],
            "type": "histogram2d"
           }
          ],
          "histogram2dcontour": [
           {
            "colorbar": {
             "outlinewidth": 0,
             "ticks": ""
            },
            "colorscale": [
             [
              0,
              "#0d0887"
             ],
             [
              0.1111111111111111,
              "#46039f"
             ],
             [
              0.2222222222222222,
              "#7201a8"
             ],
             [
              0.3333333333333333,
              "#9c179e"
             ],
             [
              0.4444444444444444,
              "#bd3786"
             ],
             [
              0.5555555555555556,
              "#d8576b"
             ],
             [
              0.6666666666666666,
              "#ed7953"
             ],
             [
              0.7777777777777778,
              "#fb9f3a"
             ],
             [
              0.8888888888888888,
              "#fdca26"
             ],
             [
              1,
              "#f0f921"
             ]
            ],
            "type": "histogram2dcontour"
           }
          ],
          "mesh3d": [
           {
            "colorbar": {
             "outlinewidth": 0,
             "ticks": ""
            },
            "type": "mesh3d"
           }
          ],
          "parcoords": [
           {
            "line": {
             "colorbar": {
              "outlinewidth": 0,
              "ticks": ""
             }
            },
            "type": "parcoords"
           }
          ],
          "pie": [
           {
            "automargin": true,
            "type": "pie"
           }
          ],
          "scatter": [
           {
            "fillpattern": {
             "fillmode": "overlay",
             "size": 10,
             "solidity": 0.2
            },
            "type": "scatter"
           }
          ],
          "scatter3d": [
           {
            "line": {
             "colorbar": {
              "outlinewidth": 0,
              "ticks": ""
             }
            },
            "marker": {
             "colorbar": {
              "outlinewidth": 0,
              "ticks": ""
             }
            },
            "type": "scatter3d"
           }
          ],
          "scattercarpet": [
           {
            "marker": {
             "colorbar": {
              "outlinewidth": 0,
              "ticks": ""
             }
            },
            "type": "scattercarpet"
           }
          ],
          "scattergeo": [
           {
            "marker": {
             "colorbar": {
              "outlinewidth": 0,
              "ticks": ""
             }
            },
            "type": "scattergeo"
           }
          ],
          "scattergl": [
           {
            "marker": {
             "colorbar": {
              "outlinewidth": 0,
              "ticks": ""
             }
            },
            "type": "scattergl"
           }
          ],
          "scattermapbox": [
           {
            "marker": {
             "colorbar": {
              "outlinewidth": 0,
              "ticks": ""
             }
            },
            "type": "scattermapbox"
           }
          ],
          "scatterpolar": [
           {
            "marker": {
             "colorbar": {
              "outlinewidth": 0,
              "ticks": ""
             }
            },
            "type": "scatterpolar"
           }
          ],
          "scatterpolargl": [
           {
            "marker": {
             "colorbar": {
              "outlinewidth": 0,
              "ticks": ""
             }
            },
            "type": "scatterpolargl"
           }
          ],
          "scatterternary": [
           {
            "marker": {
             "colorbar": {
              "outlinewidth": 0,
              "ticks": ""
             }
            },
            "type": "scatterternary"
           }
          ],
          "surface": [
           {
            "colorbar": {
             "outlinewidth": 0,
             "ticks": ""
            },
            "colorscale": [
             [
              0,
              "#0d0887"
             ],
             [
              0.1111111111111111,
              "#46039f"
             ],
             [
              0.2222222222222222,
              "#7201a8"
             ],
             [
              0.3333333333333333,
              "#9c179e"
             ],
             [
              0.4444444444444444,
              "#bd3786"
             ],
             [
              0.5555555555555556,
              "#d8576b"
             ],
             [
              0.6666666666666666,
              "#ed7953"
             ],
             [
              0.7777777777777778,
              "#fb9f3a"
             ],
             [
              0.8888888888888888,
              "#fdca26"
             ],
             [
              1,
              "#f0f921"
             ]
            ],
            "type": "surface"
           }
          ],
          "table": [
           {
            "cells": {
             "fill": {
              "color": "#EBF0F8"
             },
             "line": {
              "color": "white"
             }
            },
            "header": {
             "fill": {
              "color": "#C8D4E3"
             },
             "line": {
              "color": "white"
             }
            },
            "type": "table"
           }
          ]
         },
         "layout": {
          "annotationdefaults": {
           "arrowcolor": "#2a3f5f",
           "arrowhead": 0,
           "arrowwidth": 1
          },
          "autotypenumbers": "strict",
          "coloraxis": {
           "colorbar": {
            "outlinewidth": 0,
            "ticks": ""
           }
          },
          "colorscale": {
           "diverging": [
            [
             0,
             "#8e0152"
            ],
            [
             0.1,
             "#c51b7d"
            ],
            [
             0.2,
             "#de77ae"
            ],
            [
             0.3,
             "#f1b6da"
            ],
            [
             0.4,
             "#fde0ef"
            ],
            [
             0.5,
             "#f7f7f7"
            ],
            [
             0.6,
             "#e6f5d0"
            ],
            [
             0.7,
             "#b8e186"
            ],
            [
             0.8,
             "#7fbc41"
            ],
            [
             0.9,
             "#4d9221"
            ],
            [
             1,
             "#276419"
            ]
           ],
           "sequential": [
            [
             0,
             "#0d0887"
            ],
            [
             0.1111111111111111,
             "#46039f"
            ],
            [
             0.2222222222222222,
             "#7201a8"
            ],
            [
             0.3333333333333333,
             "#9c179e"
            ],
            [
             0.4444444444444444,
             "#bd3786"
            ],
            [
             0.5555555555555556,
             "#d8576b"
            ],
            [
             0.6666666666666666,
             "#ed7953"
            ],
            [
             0.7777777777777778,
             "#fb9f3a"
            ],
            [
             0.8888888888888888,
             "#fdca26"
            ],
            [
             1,
             "#f0f921"
            ]
           ],
           "sequentialminus": [
            [
             0,
             "#0d0887"
            ],
            [
             0.1111111111111111,
             "#46039f"
            ],
            [
             0.2222222222222222,
             "#7201a8"
            ],
            [
             0.3333333333333333,
             "#9c179e"
            ],
            [
             0.4444444444444444,
             "#bd3786"
            ],
            [
             0.5555555555555556,
             "#d8576b"
            ],
            [
             0.6666666666666666,
             "#ed7953"
            ],
            [
             0.7777777777777778,
             "#fb9f3a"
            ],
            [
             0.8888888888888888,
             "#fdca26"
            ],
            [
             1,
             "#f0f921"
            ]
           ]
          },
          "colorway": [
           "#636efa",
           "#EF553B",
           "#00cc96",
           "#ab63fa",
           "#FFA15A",
           "#19d3f3",
           "#FF6692",
           "#B6E880",
           "#FF97FF",
           "#FECB52"
          ],
          "font": {
           "color": "#2a3f5f"
          },
          "geo": {
           "bgcolor": "white",
           "lakecolor": "white",
           "landcolor": "#E5ECF6",
           "showlakes": true,
           "showland": true,
           "subunitcolor": "white"
          },
          "hoverlabel": {
           "align": "left"
          },
          "hovermode": "closest",
          "mapbox": {
           "style": "light"
          },
          "paper_bgcolor": "white",
          "plot_bgcolor": "#E5ECF6",
          "polar": {
           "angularaxis": {
            "gridcolor": "white",
            "linecolor": "white",
            "ticks": ""
           },
           "bgcolor": "#E5ECF6",
           "radialaxis": {
            "gridcolor": "white",
            "linecolor": "white",
            "ticks": ""
           }
          },
          "scene": {
           "xaxis": {
            "backgroundcolor": "#E5ECF6",
            "gridcolor": "white",
            "gridwidth": 2,
            "linecolor": "white",
            "showbackground": true,
            "ticks": "",
            "zerolinecolor": "white"
           },
           "yaxis": {
            "backgroundcolor": "#E5ECF6",
            "gridcolor": "white",
            "gridwidth": 2,
            "linecolor": "white",
            "showbackground": true,
            "ticks": "",
            "zerolinecolor": "white"
           },
           "zaxis": {
            "backgroundcolor": "#E5ECF6",
            "gridcolor": "white",
            "gridwidth": 2,
            "linecolor": "white",
            "showbackground": true,
            "ticks": "",
            "zerolinecolor": "white"
           }
          },
          "shapedefaults": {
           "line": {
            "color": "#2a3f5f"
           }
          },
          "ternary": {
           "aaxis": {
            "gridcolor": "white",
            "linecolor": "white",
            "ticks": ""
           },
           "baxis": {
            "gridcolor": "white",
            "linecolor": "white",
            "ticks": ""
           },
           "bgcolor": "#E5ECF6",
           "caxis": {
            "gridcolor": "white",
            "linecolor": "white",
            "ticks": ""
           }
          },
          "title": {
           "x": 0.05
          },
          "xaxis": {
           "automargin": true,
           "gridcolor": "white",
           "linecolor": "white",
           "ticks": "",
           "title": {
            "standoff": 15
           },
           "zerolinecolor": "white",
           "zerolinewidth": 2
          },
          "yaxis": {
           "automargin": true,
           "gridcolor": "white",
           "linecolor": "white",
           "ticks": "",
           "title": {
            "standoff": 15
           },
           "zerolinecolor": "white",
           "zerolinewidth": 2
          }
         }
        },
        "title": {
         "text": "Consommation de fonte au cours du temps"
        },
        "xaxis": {
         "title": {
          "text": "Time (minutes)"
         }
        },
        "yaxis": {
         "title": {
          "text": "PFC (kg)"
         }
        }
       }
      }
     },
     "metadata": {},
     "output_type": "display_data"
    }
   ],
   "source": [
    "Plot_consom(times, PFC_Consomvalues, tmin, tmax, PFCmin, PFCmax)"
   ]
  },
  {
   "cell_type": "code",
   "execution_count": 51,
   "metadata": {},
   "outputs": [
    {
     "data": {
      "application/vnd.plotly.v1+json": {
       "config": {
        "plotlyServerURL": "https://plot.ly"
       },
       "data": [
        {
         "line": {
          "color": "royalblue"
         },
         "mode": "lines",
         "name": "PFC over time",
         "type": "scatter",
         "x": [
          0,
          1,
          2,
          3,
          4,
          5,
          6,
          7,
          8,
          9,
          10,
          11,
          12,
          13,
          14,
          15,
          16,
          17,
          18,
          19,
          20,
          21,
          22,
          23,
          24,
          25,
          26,
          27,
          28,
          29,
          30,
          31,
          32,
          33,
          34,
          35,
          36,
          37,
          38,
          39,
          40,
          41,
          42,
          43,
          44,
          45,
          46,
          47,
          48,
          49,
          50,
          55,
          56,
          57,
          58,
          59,
          60,
          61,
          62,
          63,
          64,
          65,
          66,
          67,
          68,
          69,
          70,
          71,
          72,
          73,
          74,
          75,
          76,
          77,
          78,
          79,
          80,
          81,
          82,
          83,
          84,
          85,
          86,
          87,
          88,
          89,
          90,
          91,
          92,
          93,
          94,
          95,
          96,
          97,
          98,
          99,
          100,
          101,
          102,
          103,
          104,
          105,
          110,
          111,
          112,
          113,
          114,
          115,
          116,
          117,
          118,
          119,
          120,
          121,
          122,
          123,
          124,
          125,
          126,
          127,
          128,
          129,
          130,
          131,
          132,
          133,
          134,
          135,
          136,
          137,
          138,
          139,
          140,
          141,
          142,
          143,
          144,
          145,
          146,
          147,
          148,
          149,
          150,
          151,
          152,
          153,
          154,
          155,
          156,
          157,
          158,
          159,
          160,
          165,
          166,
          167,
          168,
          169,
          170,
          171,
          172,
          173,
          174,
          175,
          176,
          177,
          178,
          179,
          180,
          181,
          182,
          183,
          184,
          185,
          186,
          187,
          188,
          189,
          190,
          191,
          192,
          193,
          194,
          195,
          196,
          197,
          198,
          199,
          200,
          201,
          202,
          203,
          204,
          205,
          206,
          207,
          208,
          209,
          210,
          211,
          212,
          213,
          214,
          215,
          220
         ],
         "y": [
          0,
          0,
          0,
          0,
          0,
          0,
          0,
          0,
          0,
          0,
          0,
          0,
          0,
          0,
          0,
          0,
          0,
          0,
          0,
          0,
          0,
          0,
          0,
          0,
          0,
          0,
          0,
          0,
          0,
          0,
          0,
          0,
          0,
          0,
          0,
          0,
          0,
          0,
          0,
          0,
          0,
          0,
          0,
          0,
          0,
          0,
          0,
          0,
          0,
          0,
          0,
          0,
          0,
          0,
          0,
          0,
          0,
          0,
          0,
          0,
          0,
          0,
          0,
          0,
          0,
          0,
          0,
          0,
          0,
          0,
          0,
          5000,
          5000,
          5000,
          5000,
          5000,
          5000,
          5000,
          5000,
          5000,
          5000,
          5000,
          5000,
          5000,
          5000,
          5000,
          5000,
          5000,
          5000,
          5000,
          5000,
          5000,
          5000,
          5000,
          5000,
          5000,
          5000,
          5000,
          5000,
          5000,
          5000,
          5000,
          5000,
          5000,
          5000,
          5000,
          5000,
          5000,
          5000,
          5000,
          5000,
          5000,
          10000,
          10000,
          10000,
          10000,
          10000,
          10000,
          10000,
          10000,
          10000,
          10000,
          10000,
          10000,
          10000,
          10000,
          10000,
          10000,
          10000,
          10000,
          10000,
          10000,
          10000,
          10000,
          10000,
          10000,
          10000,
          10000,
          10000,
          10000,
          10000,
          10000,
          10000,
          10000,
          10000,
          10000,
          10000,
          10000,
          10000,
          10000,
          10000,
          10000,
          10000,
          15000,
          15000,
          15000,
          15000,
          15000,
          15000,
          15000,
          15000,
          15000,
          15000,
          15000,
          15000,
          15000,
          15000,
          15000,
          15000,
          15000,
          15000,
          15000,
          15000,
          15000,
          15000,
          15000,
          15000,
          15000,
          15000,
          15000,
          15000,
          15000,
          15000,
          15000,
          15000,
          15000,
          15000,
          15000,
          15000,
          15000,
          15000,
          15000,
          15000,
          15000,
          15000,
          15000,
          15000,
          15000,
          20000,
          20000,
          20000,
          20000,
          20000,
          20000,
          20000
         ]
        }
       ],
       "layout": {
        "showlegend": false,
        "template": {
         "data": {
          "bar": [
           {
            "error_x": {
             "color": "#2a3f5f"
            },
            "error_y": {
             "color": "#2a3f5f"
            },
            "marker": {
             "line": {
              "color": "#E5ECF6",
              "width": 0.5
             },
             "pattern": {
              "fillmode": "overlay",
              "size": 10,
              "solidity": 0.2
             }
            },
            "type": "bar"
           }
          ],
          "barpolar": [
           {
            "marker": {
             "line": {
              "color": "#E5ECF6",
              "width": 0.5
             },
             "pattern": {
              "fillmode": "overlay",
              "size": 10,
              "solidity": 0.2
             }
            },
            "type": "barpolar"
           }
          ],
          "carpet": [
           {
            "aaxis": {
             "endlinecolor": "#2a3f5f",
             "gridcolor": "white",
             "linecolor": "white",
             "minorgridcolor": "white",
             "startlinecolor": "#2a3f5f"
            },
            "baxis": {
             "endlinecolor": "#2a3f5f",
             "gridcolor": "white",
             "linecolor": "white",
             "minorgridcolor": "white",
             "startlinecolor": "#2a3f5f"
            },
            "type": "carpet"
           }
          ],
          "choropleth": [
           {
            "colorbar": {
             "outlinewidth": 0,
             "ticks": ""
            },
            "type": "choropleth"
           }
          ],
          "contour": [
           {
            "colorbar": {
             "outlinewidth": 0,
             "ticks": ""
            },
            "colorscale": [
             [
              0,
              "#0d0887"
             ],
             [
              0.1111111111111111,
              "#46039f"
             ],
             [
              0.2222222222222222,
              "#7201a8"
             ],
             [
              0.3333333333333333,
              "#9c179e"
             ],
             [
              0.4444444444444444,
              "#bd3786"
             ],
             [
              0.5555555555555556,
              "#d8576b"
             ],
             [
              0.6666666666666666,
              "#ed7953"
             ],
             [
              0.7777777777777778,
              "#fb9f3a"
             ],
             [
              0.8888888888888888,
              "#fdca26"
             ],
             [
              1,
              "#f0f921"
             ]
            ],
            "type": "contour"
           }
          ],
          "contourcarpet": [
           {
            "colorbar": {
             "outlinewidth": 0,
             "ticks": ""
            },
            "type": "contourcarpet"
           }
          ],
          "heatmap": [
           {
            "colorbar": {
             "outlinewidth": 0,
             "ticks": ""
            },
            "colorscale": [
             [
              0,
              "#0d0887"
             ],
             [
              0.1111111111111111,
              "#46039f"
             ],
             [
              0.2222222222222222,
              "#7201a8"
             ],
             [
              0.3333333333333333,
              "#9c179e"
             ],
             [
              0.4444444444444444,
              "#bd3786"
             ],
             [
              0.5555555555555556,
              "#d8576b"
             ],
             [
              0.6666666666666666,
              "#ed7953"
             ],
             [
              0.7777777777777778,
              "#fb9f3a"
             ],
             [
              0.8888888888888888,
              "#fdca26"
             ],
             [
              1,
              "#f0f921"
             ]
            ],
            "type": "heatmap"
           }
          ],
          "heatmapgl": [
           {
            "colorbar": {
             "outlinewidth": 0,
             "ticks": ""
            },
            "colorscale": [
             [
              0,
              "#0d0887"
             ],
             [
              0.1111111111111111,
              "#46039f"
             ],
             [
              0.2222222222222222,
              "#7201a8"
             ],
             [
              0.3333333333333333,
              "#9c179e"
             ],
             [
              0.4444444444444444,
              "#bd3786"
             ],
             [
              0.5555555555555556,
              "#d8576b"
             ],
             [
              0.6666666666666666,
              "#ed7953"
             ],
             [
              0.7777777777777778,
              "#fb9f3a"
             ],
             [
              0.8888888888888888,
              "#fdca26"
             ],
             [
              1,
              "#f0f921"
             ]
            ],
            "type": "heatmapgl"
           }
          ],
          "histogram": [
           {
            "marker": {
             "pattern": {
              "fillmode": "overlay",
              "size": 10,
              "solidity": 0.2
             }
            },
            "type": "histogram"
           }
          ],
          "histogram2d": [
           {
            "colorbar": {
             "outlinewidth": 0,
             "ticks": ""
            },
            "colorscale": [
             [
              0,
              "#0d0887"
             ],
             [
              0.1111111111111111,
              "#46039f"
             ],
             [
              0.2222222222222222,
              "#7201a8"
             ],
             [
              0.3333333333333333,
              "#9c179e"
             ],
             [
              0.4444444444444444,
              "#bd3786"
             ],
             [
              0.5555555555555556,
              "#d8576b"
             ],
             [
              0.6666666666666666,
              "#ed7953"
             ],
             [
              0.7777777777777778,
              "#fb9f3a"
             ],
             [
              0.8888888888888888,
              "#fdca26"
             ],
             [
              1,
              "#f0f921"
             ]
            ],
            "type": "histogram2d"
           }
          ],
          "histogram2dcontour": [
           {
            "colorbar": {
             "outlinewidth": 0,
             "ticks": ""
            },
            "colorscale": [
             [
              0,
              "#0d0887"
             ],
             [
              0.1111111111111111,
              "#46039f"
             ],
             [
              0.2222222222222222,
              "#7201a8"
             ],
             [
              0.3333333333333333,
              "#9c179e"
             ],
             [
              0.4444444444444444,
              "#bd3786"
             ],
             [
              0.5555555555555556,
              "#d8576b"
             ],
             [
              0.6666666666666666,
              "#ed7953"
             ],
             [
              0.7777777777777778,
              "#fb9f3a"
             ],
             [
              0.8888888888888888,
              "#fdca26"
             ],
             [
              1,
              "#f0f921"
             ]
            ],
            "type": "histogram2dcontour"
           }
          ],
          "mesh3d": [
           {
            "colorbar": {
             "outlinewidth": 0,
             "ticks": ""
            },
            "type": "mesh3d"
           }
          ],
          "parcoords": [
           {
            "line": {
             "colorbar": {
              "outlinewidth": 0,
              "ticks": ""
             }
            },
            "type": "parcoords"
           }
          ],
          "pie": [
           {
            "automargin": true,
            "type": "pie"
           }
          ],
          "scatter": [
           {
            "fillpattern": {
             "fillmode": "overlay",
             "size": 10,
             "solidity": 0.2
            },
            "type": "scatter"
           }
          ],
          "scatter3d": [
           {
            "line": {
             "colorbar": {
              "outlinewidth": 0,
              "ticks": ""
             }
            },
            "marker": {
             "colorbar": {
              "outlinewidth": 0,
              "ticks": ""
             }
            },
            "type": "scatter3d"
           }
          ],
          "scattercarpet": [
           {
            "marker": {
             "colorbar": {
              "outlinewidth": 0,
              "ticks": ""
             }
            },
            "type": "scattercarpet"
           }
          ],
          "scattergeo": [
           {
            "marker": {
             "colorbar": {
              "outlinewidth": 0,
              "ticks": ""
             }
            },
            "type": "scattergeo"
           }
          ],
          "scattergl": [
           {
            "marker": {
             "colorbar": {
              "outlinewidth": 0,
              "ticks": ""
             }
            },
            "type": "scattergl"
           }
          ],
          "scattermapbox": [
           {
            "marker": {
             "colorbar": {
              "outlinewidth": 0,
              "ticks": ""
             }
            },
            "type": "scattermapbox"
           }
          ],
          "scatterpolar": [
           {
            "marker": {
             "colorbar": {
              "outlinewidth": 0,
              "ticks": ""
             }
            },
            "type": "scatterpolar"
           }
          ],
          "scatterpolargl": [
           {
            "marker": {
             "colorbar": {
              "outlinewidth": 0,
              "ticks": ""
             }
            },
            "type": "scatterpolargl"
           }
          ],
          "scatterternary": [
           {
            "marker": {
             "colorbar": {
              "outlinewidth": 0,
              "ticks": ""
             }
            },
            "type": "scatterternary"
           }
          ],
          "surface": [
           {
            "colorbar": {
             "outlinewidth": 0,
             "ticks": ""
            },
            "colorscale": [
             [
              0,
              "#0d0887"
             ],
             [
              0.1111111111111111,
              "#46039f"
             ],
             [
              0.2222222222222222,
              "#7201a8"
             ],
             [
              0.3333333333333333,
              "#9c179e"
             ],
             [
              0.4444444444444444,
              "#bd3786"
             ],
             [
              0.5555555555555556,
              "#d8576b"
             ],
             [
              0.6666666666666666,
              "#ed7953"
             ],
             [
              0.7777777777777778,
              "#fb9f3a"
             ],
             [
              0.8888888888888888,
              "#fdca26"
             ],
             [
              1,
              "#f0f921"
             ]
            ],
            "type": "surface"
           }
          ],
          "table": [
           {
            "cells": {
             "fill": {
              "color": "#EBF0F8"
             },
             "line": {
              "color": "white"
             }
            },
            "header": {
             "fill": {
              "color": "#C8D4E3"
             },
             "line": {
              "color": "white"
             }
            },
            "type": "table"
           }
          ]
         },
         "layout": {
          "annotationdefaults": {
           "arrowcolor": "#2a3f5f",
           "arrowhead": 0,
           "arrowwidth": 1
          },
          "autotypenumbers": "strict",
          "coloraxis": {
           "colorbar": {
            "outlinewidth": 0,
            "ticks": ""
           }
          },
          "colorscale": {
           "diverging": [
            [
             0,
             "#8e0152"
            ],
            [
             0.1,
             "#c51b7d"
            ],
            [
             0.2,
             "#de77ae"
            ],
            [
             0.3,
             "#f1b6da"
            ],
            [
             0.4,
             "#fde0ef"
            ],
            [
             0.5,
             "#f7f7f7"
            ],
            [
             0.6,
             "#e6f5d0"
            ],
            [
             0.7,
             "#b8e186"
            ],
            [
             0.8,
             "#7fbc41"
            ],
            [
             0.9,
             "#4d9221"
            ],
            [
             1,
             "#276419"
            ]
           ],
           "sequential": [
            [
             0,
             "#0d0887"
            ],
            [
             0.1111111111111111,
             "#46039f"
            ],
            [
             0.2222222222222222,
             "#7201a8"
            ],
            [
             0.3333333333333333,
             "#9c179e"
            ],
            [
             0.4444444444444444,
             "#bd3786"
            ],
            [
             0.5555555555555556,
             "#d8576b"
            ],
            [
             0.6666666666666666,
             "#ed7953"
            ],
            [
             0.7777777777777778,
             "#fb9f3a"
            ],
            [
             0.8888888888888888,
             "#fdca26"
            ],
            [
             1,
             "#f0f921"
            ]
           ],
           "sequentialminus": [
            [
             0,
             "#0d0887"
            ],
            [
             0.1111111111111111,
             "#46039f"
            ],
            [
             0.2222222222222222,
             "#7201a8"
            ],
            [
             0.3333333333333333,
             "#9c179e"
            ],
            [
             0.4444444444444444,
             "#bd3786"
            ],
            [
             0.5555555555555556,
             "#d8576b"
            ],
            [
             0.6666666666666666,
             "#ed7953"
            ],
            [
             0.7777777777777778,
             "#fb9f3a"
            ],
            [
             0.8888888888888888,
             "#fdca26"
            ],
            [
             1,
             "#f0f921"
            ]
           ]
          },
          "colorway": [
           "#636efa",
           "#EF553B",
           "#00cc96",
           "#ab63fa",
           "#FFA15A",
           "#19d3f3",
           "#FF6692",
           "#B6E880",
           "#FF97FF",
           "#FECB52"
          ],
          "font": {
           "color": "#2a3f5f"
          },
          "geo": {
           "bgcolor": "white",
           "lakecolor": "white",
           "landcolor": "#E5ECF6",
           "showlakes": true,
           "showland": true,
           "subunitcolor": "white"
          },
          "hoverlabel": {
           "align": "left"
          },
          "hovermode": "closest",
          "mapbox": {
           "style": "light"
          },
          "paper_bgcolor": "white",
          "plot_bgcolor": "#E5ECF6",
          "polar": {
           "angularaxis": {
            "gridcolor": "white",
            "linecolor": "white",
            "ticks": ""
           },
           "bgcolor": "#E5ECF6",
           "radialaxis": {
            "gridcolor": "white",
            "linecolor": "white",
            "ticks": ""
           }
          },
          "scene": {
           "xaxis": {
            "backgroundcolor": "#E5ECF6",
            "gridcolor": "white",
            "gridwidth": 2,
            "linecolor": "white",
            "showbackground": true,
            "ticks": "",
            "zerolinecolor": "white"
           },
           "yaxis": {
            "backgroundcolor": "#E5ECF6",
            "gridcolor": "white",
            "gridwidth": 2,
            "linecolor": "white",
            "showbackground": true,
            "ticks": "",
            "zerolinecolor": "white"
           },
           "zaxis": {
            "backgroundcolor": "#E5ECF6",
            "gridcolor": "white",
            "gridwidth": 2,
            "linecolor": "white",
            "showbackground": true,
            "ticks": "",
            "zerolinecolor": "white"
           }
          },
          "shapedefaults": {
           "line": {
            "color": "#2a3f5f"
           }
          },
          "ternary": {
           "aaxis": {
            "gridcolor": "white",
            "linecolor": "white",
            "ticks": ""
           },
           "baxis": {
            "gridcolor": "white",
            "linecolor": "white",
            "ticks": ""
           },
           "bgcolor": "#E5ECF6",
           "caxis": {
            "gridcolor": "white",
            "linecolor": "white",
            "ticks": ""
           }
          },
          "title": {
           "x": 0.05
          },
          "xaxis": {
           "automargin": true,
           "gridcolor": "white",
           "linecolor": "white",
           "ticks": "",
           "title": {
            "standoff": 15
           },
           "zerolinecolor": "white",
           "zerolinewidth": 2
          },
          "yaxis": {
           "automargin": true,
           "gridcolor": "white",
           "linecolor": "white",
           "ticks": "",
           "title": {
            "standoff": 15
           },
           "zerolinecolor": "white",
           "zerolinewidth": 2
          }
         }
        },
        "title": {
         "text": "Production de fonte au cours du temps"
        },
        "xaxis": {
         "title": {
          "text": "Time (minutes)"
         }
        },
        "yaxis": {
         "title": {
          "text": "PFC (kg)"
         }
        }
       }
      }
     },
     "metadata": {},
     "output_type": "display_data"
    }
   ],
   "source": [
    "Plot_Prod(times, PFC_Prodvalues)"
   ]
  },
  {
   "cell_type": "code",
   "execution_count": null,
   "metadata": {},
   "outputs": [],
   "source": []
  },
  {
   "cell_type": "markdown",
   "metadata": {},
   "source": [
    "# Code 3"
   ]
  },
  {
   "cell_type": "code",
   "execution_count": null,
   "metadata": {},
   "outputs": [],
   "source": []
  },
  {
   "cell_type": "code",
   "execution_count": null,
   "metadata": {},
   "outputs": [],
   "source": []
  },
  {
   "cell_type": "markdown",
   "metadata": {},
   "source": [
    "On a 4000 kg de fontes dans le four de Coulée avec un pourcentage de Mg = 0.0045 %.\n",
    "On consonmme 36 Kg de fonte par minute dans le four de Coulée.\n",
    "On perd 0.005 % de Mg par minute.\n",
    "\n",
    "Tu es un mathématicien et tu dois Tracer la courbe d'évolution du Mg\n",
    "dans le four de Coulée. \n",
    "\n",
    "Si tu as des questions ou s'il te manque certaines informations, n'hésite pas à me les demander !!"
   ]
  },
  {
   "cell_type": "code",
   "execution_count": null,
   "metadata": {},
   "outputs": [],
   "source": []
  },
  {
   "cell_type": "code",
   "execution_count": 1,
   "metadata": {},
   "outputs": [],
   "source": [
    "import plotly.graph_objects as go\n",
    "import numpy as np\n",
    "\n",
    "def Plot_consom(times, PFC_values, tmin, tmax, PFCmin, PFCmax):\n",
    "\n",
    "    # Create Plotly figure\n",
    "    fig = go.Figure()\n",
    "\n",
    "    # Add PFC line\n",
    "    fig.add_trace(go.Scatter(x=times, y=PFC_values, mode='lines', name='PFC over time', line=dict(color='royalblue')))\n",
    "\n",
    "    # Add horizontal lines for PFCmin and PFCmax\n",
    "    fig.add_shape(type=\"line\", x0=tmin, y0=PFCmin, x1=tmax, y1=PFCmin, line=dict(color=\"firebrick\", width=2, dash=\"dash\"), name=\"PFCmin\")\n",
    "    \n",
    "    fig.add_shape(type=\"line\", x0=tmin, y0=PFCmax, x1=tmax, y1=PFCmax, line=dict(color=\"green\", width=2, dash=\"dash\"), name=\"PFCmax\")\n",
    "\n",
    "\n",
    "    # Customize layout\n",
    "    fig.update_layout(title='Evolution de la fonte dans le Four de Coulée au cours du temps', xaxis_title='Time (minutes)', yaxis_title='PFC (kg)', template='plotly',\n",
    "        showlegend=False,annotations=[\n",
    "            dict(x=tmax,y=PFCmin,xref=\"x\",yref=\"y\",text=\"PFCmin\",showarrow=True,arrowhead=2,ax=20,ay=-30),\n",
    "            dict(x=tmax,y=PFCmax,xref=\"x\",yref=\"y\",text=\"PFCmax\",showarrow=True,arrowhead=2,ax=20,ay=-30)])\n",
    "\n",
    "    # Show the plot\n",
    "    fig.show()\n",
    "\n",
    "def Plot_Prod(times, PFC_values):\n",
    "\n",
    "    # Create Plotly figure\n",
    "    fig = go.Figure()\n",
    "\n",
    "    # Add PFC line\n",
    "    fig.add_trace(go.Scatter(x=times, y=PFC_values, mode='lines', name='PFC over time', line=dict(color='royalblue')))\n",
    "\n",
    "    # Customize layout\n",
    "    fig.update_layout(title='Evolution de la fonte disponible dans le Four de Fusion au cours du temps', xaxis_title='Time (minutes)', yaxis_title='PFC (kg)', template='plotly',\n",
    "        showlegend=False)\n",
    "\n",
    "    # Show the plot\n",
    "    fig.show()"
   ]
  },
  {
   "cell_type": "code",
   "execution_count": 16,
   "metadata": {},
   "outputs": [],
   "source": [
    "def update_production_chargement_et_fusion(t, temps_chargement, temps_fusion, numfours, fonte_produit, PFC_Prod):\n",
    "    \n",
    "    \"\"\"\n",
    "    Met à jour la production de fonte en fonction du temps écoulé lors du chargement et de la fusion.\n",
    "    \n",
    "    :param t: Temps actuel en minutes\n",
    "    :param Temps_chargement: Temps de chargement en minutes\n",
    "    :param Temps_fusion: Temps de fusion en minutes\n",
    "    :param numfours: Nombre de fours en production\n",
    "    :param Fonte_produit: Quantité de fonte produite par cycle en kg\n",
    "    :param PFC_Prod: Production actuelle de fonte en kg\n",
    "    :param poche: Paramètre optionnel, par défaut à 0\n",
    "    :return: Tuple (numfours, PFC_Prod) mis à jour\n",
    "    \"\"\"\n",
    "    # if t >= Temps_chargement + Temps_fusion:\n",
    "    if t >= temps_chargement + temps_fusion:\n",
    "        numfours += 1\n",
    "        PFC_Prod += fonte_produit\n",
    "    return numfours, PFC_Prod\n",
    "\n",
    "def calcule_chargement_et_fusion(times, PFC_Prodvalues, PFC_Consomvalues, fonte_produit, numfours, temps_chargement, temps_fusion):\n",
    "    \"\"\"\n",
    "    Calcule la consommation et la production de fonte du début du chargement à la fin de la 1ere fusion.\n",
    "    \"\"\"\n",
    "\n",
    "    PFC_Consom = PFC_Consomvalues[-1]\n",
    "    PFC_Prod = PFC_Prodvalues[-1]\n",
    "    t = times[-1]\n",
    "\n",
    "    # Mise à jour de la production de fonte après chargement\n",
    "    t += temps_chargement\n",
    "    numfours, PFC_Prod = update_production_chargement_et_fusion(t, temps_chargement, temps_fusion, numfours, fonte_produit, PFC_Prod)\n",
    "    PFC_Prodvalues.append(PFC_Prod)\n",
    "    PFC_Consomvalues.append(PFC_Consom)\n",
    "    times.append(t)\n",
    "\n",
    "\n",
    "    # Mise à jour de la production de fonte entre debut/fin fusion\n",
    "    t += temps_fusion-1\n",
    "    numfours, PFC_Prod = update_production_chargement_et_fusion(t, temps_chargement, temps_fusion, numfours, fonte_produit, PFC_Prod)\n",
    "    PFC_Prodvalues.append(PFC_Prod)\n",
    "    PFC_Consomvalues.append(PFC_Consom)\n",
    "    times.append(t)\n",
    "\n",
    "    # Mise à jour de la production de fonte après fusion\n",
    "    t += 1 \n",
    "    numfours, PFC_Prod = update_production_chargement_et_fusion(t, temps_chargement, temps_fusion, numfours, fonte_produit, PFC_Prod)\n",
    "    PFC_Prodvalues.append(PFC_Prod)\n",
    "    PFC_Consomvalues.append(PFC_Consom)\n",
    "    times.append(t)\n",
    "\n",
    "    # Mise à jour de la production de fonte après fusion\n",
    "    t += temps_fusion\n",
    "    numfours, PFC_Prod = update_production_chargement_et_fusion(t, temps_chargement, temps_fusion, numfours, fonte_produit, PFC_Prod)\n",
    "    PFC_Prodvalues.append(PFC_Prod)\n",
    "    PFC_Consomvalues.append(PFC_Consom)\n",
    "    times.append(t)\n",
    "\n",
    "    return times, PFC_Prodvalues, PFC_Consomvalues\n",
    "\n",
    "def update_production(t, temps_chargement, temps_fusion, numfours, fonte_produit, PFC_Prod, poche = 0):\n",
    "    \"\"\"\n",
    "    Met à jour la production de fonte en fonction du temps écoulé.\n",
    "    \"\"\"\n",
    "    if t > temps_chargement and (t - temps_chargement) % temps_fusion == 0 and numfours <= 4 :\n",
    "        numfours += 1\n",
    "        PFC_Prod += fonte_produit\n",
    "    PFC_Prod -= poche\n",
    "    return numfours, PFC_Prod\n",
    "\n",
    "def calcule_Transitoire(times, PFC_Prodvalues, PFC_Consomvalues, fonte_produit, numfours, temps_chargement, temps_fusion):\n",
    "    \"\"\"\n",
    "    Calcule la consommation et la production de fonte lors des 3 premieres poches (Régime Transitoire).\n",
    "    \"\"\"\n",
    "    temps_poche_1, temps_poche_2, temps_poche_3 = 10, 10, 10 # temps traitement\n",
    "    poche_1, poche_2, poche_3 = 1250, 1250, 1250\n",
    "\n",
    "    PFC_Consom = PFC_Consomvalues[-1]\n",
    "    PFC_Prod = PFC_Prodvalues[-1]\n",
    "    t = times[-1]\n",
    "\n",
    "    \n",
    "    t += temps_poche_1\n",
    "    PFC_Consom += poche_1 \n",
    "\n",
    "    # Mise à jour de la production et consommation de fonte\n",
    "    numfours, PFC_Prod = update_production(t, temps_chargement, temps_fusion, numfours, fonte_produit, PFC_Prod, poche_1)\n",
    "    PFC_Prodvalues.append(PFC_Prod)\n",
    "    PFC_Consomvalues.append(PFC_Consom)\n",
    "    times.append(t)\n",
    "\n",
    "\n",
    "    t += temps_poche_2\n",
    "    # Mise à jour de la consommation de fonte\n",
    "    PFC_Consom += poche_2 \n",
    "    PFC_Consomvalues.append(PFC_Consom)\n",
    "    \n",
    "    # Mise à jour de la production de fonte\n",
    "    numfours, PFC_Prod = update_production(t, temps_chargement, temps_fusion, numfours, fonte_produit, PFC_Prod, poche_2)\n",
    "    PFC_Prodvalues.append(PFC_Prod)\n",
    "    times.append(t)\n",
    "\n",
    "\n",
    "    t += temps_poche_3\n",
    "    # Mise à jour de la consommation de fonte\n",
    "    PFC_Consom += poche_3 \n",
    "    PFC_Consomvalues.append(PFC_Consom)\n",
    "    \n",
    "    # Mise à jour de la production de fonte\n",
    "    numfours, PFC_Prod = update_production(t, temps_chargement, temps_fusion, numfours, fonte_produit, PFC_Prod, poche_3)\n",
    "    PFC_Prodvalues.append(PFC_Prod)\n",
    "    times.append(t)\n",
    "\n",
    "    return times, PFC_Prodvalues,PFC_Consomvalues\n",
    "\n",
    "\n",
    "\n",
    "\n",
    "\n",
    "\n",
    "\n",
    "def calculate_cadence_per_minute(nb_moules_heure, masse_grappe):\n",
    "    \"\"\"\n",
    "    Calcule la cadence de consommation de fonte par minute.\n",
    "    \"\"\"\n",
    "    return nb_moules_heure / 60 * masse_grappe\n",
    "\n",
    "\n",
    "def calcule_temps_poche_4(PFC_Consomvalues, liste_masse_grappe, liste_quantite_mottes, Mgmax, Mgmin, PFCmin, eC):\n",
    "\n",
    "    PFC_Consom = PFC_Consomvalues[-1]\n",
    "    Mg = Mgmax\n",
    "    \n",
    "    temps_ajout_poche_i_Coulee = 0\n",
    "    stop_boucle = False\n",
    "    # Pour trouver le temps de la poche 4\n",
    "    for masse_grappe, quantite_mottes in zip(liste_masse_grappe, liste_quantite_mottes):\n",
    "        for _ in range(quantite_mottes):\n",
    "            cadence =  calculate_cadence_per_minute(nb_moules_heure, masse_grappe)\n",
    "            PFC_Consom -= cadence  \n",
    "            Mg -= eC\n",
    "            CondAjout = PFC_Consom  > PFCmin and Mg  > Mgmin\n",
    "            if CondAjout : \n",
    "                temps_ajout_poche_i_Coulee += 1\n",
    "            else:\n",
    "                stop_boucle = True\n",
    "                break\n",
    "        if stop_boucle:\n",
    "            break\n",
    "\n",
    "    return temps_ajout_poche_i_Coulee\n",
    "\n",
    "\n",
    "def calcule_temps_poche_i(PFC_Consom, index_grappe, liste_masse_grappe, index_motte, liste_quantite_mottes, Mg, Mgmin, PFCmin, eC):\n",
    "\n",
    "    # print(PFC_Consom)\n",
    "\n",
    "\n",
    "    liste_cadences = [7.83, 7.48, 2.96, 4.19, 7.83, 7.48, 2.96, 7.83, 5.63] # en Tonnes/hr\n",
    "    liste_cadences = np.array(liste_cadences) * 1000 / 60\n",
    "    liste_cadences = liste_cadences.tolist()\n",
    "    liste_temps_serie = [3, 3, 3, 3, 3, 3, 3, 3] # en minutes\n",
    "    liste_temps_serie = [0, 0, 0, 0, 0, 0, 0, 0] # en minutes\n",
    "\n",
    "\n",
    "\n",
    "    liste_cadences = liste_cadences[index_grappe-1:]\n",
    "\n",
    "    # print(\"Ici1\",liste_quantite_mottes,liste_masse_grappe)\n",
    "\n",
    "    liste_quantite_mottes = liste_quantite_mottes[index_grappe-1:]\n",
    "    liste_masse_grappe = liste_masse_grappe[index_grappe-1:]\n",
    "\n",
    "    # Cas ou fin d'une serie et Mais reste de serie encore\n",
    "    if liste_quantite_mottes[0] == index_motte and len(liste_masse_grappe[index_grappe:]) != 0:\n",
    "        liste_quantite_mottes = liste_quantite_mottes[index_grappe:]\n",
    "        liste_masse_grappe = liste_masse_grappe[index_grappe:]\n",
    "        # print(\"Ici1\",liste_quantite_mottes,liste_masse_grappe)\n",
    "    \n",
    "    else :\n",
    "        liste_quantite_mottes[0] -=  index_motte\n",
    "        # print(\"Ici2\",liste_quantite_mottes,liste_masse_grappe)\n",
    "\n",
    "\n",
    "    # print(\"Ici2\",liste_quantite_mottes,liste_masse_grappe)\n",
    "\n",
    "\n",
    "    temps_ajout_poche_i_Coulee = 0\n",
    "    stop_boucle = False\n",
    "    # Pour trouver le temps de la poche 4\n",
    "    for idx, (masse_grappe, quantite_mottes) in enumerate(zip(liste_masse_grappe, liste_quantite_mottes)):\n",
    "        cadence = liste_cadences[idx]\n",
    "        temps_serie = liste_temps_serie[idx]\n",
    "\n",
    "        for _ in range(quantite_mottes):\n",
    "            PFC_Consom -= cadence  \n",
    "            Mg -= eC\n",
    "            # print(Mg,PFC_Consom)\n",
    "            if PFC_Consom  > PFCmin and Mg  > Mgmin : \n",
    "                # print(\"index_grappe, PFC_Consom\",index_grappe,PFC_Consom)\n",
    "                temps_ajout_poche_i_Coulee += 1\n",
    "                # print(\"temps_ajout_poche_i_Coulee \",temps_ajout_poche_i_Coulee)\n",
    "            else :\n",
    "                # print(Mg,PFC_Consom)\n",
    "                stop_boucle = True\n",
    "                break\n",
    "        if stop_boucle:\n",
    "            break\n",
    "        else :\n",
    "            # print(\"temps_ajout_poche_i_Coulee \",temps_ajout_poche_i_Coulee)\n",
    "            temps_ajout_poche_i_Coulee += temps_serie\n",
    "            \n",
    "    # print(\"temps_ajout_poche_i_Coulee \",temps_ajout_poche_i_Coulee)\n",
    "\n",
    "    return temps_ajout_poche_i_Coulee\n",
    "\n"
   ]
  },
  {
   "cell_type": "code",
   "execution_count": null,
   "metadata": {},
   "outputs": [],
   "source": []
  },
  {
   "cell_type": "code",
   "execution_count": 158,
   "metadata": {},
   "outputs": [],
   "source": [
    "\n",
    "\n",
    "def update_production_chargement_et_fusion(t, temps_chargement, temps_fusion, numfours, fonte_produit, PFC_Prod):\n",
    "    \n",
    "    \"\"\"\n",
    "    Met à jour la production de fonte en fonction du temps écoulé lors du chargement et de la fusion.\n",
    "    \n",
    "    :param t: Temps actuel en minutes\n",
    "    :param Temps_chargement: Temps de chargement en minutes\n",
    "    :param Temps_fusion: Temps de fusion en minutes\n",
    "    :param numfours: Nombre de fours en production\n",
    "    :param Fonte_produit: Quantité de fonte produite par cycle en kg\n",
    "    :param PFC_Prod: Production actuelle de fonte en kg\n",
    "    :param poche: Paramètre optionnel, par défaut à 0\n",
    "    :return: Tuple (numfours, PFC_Prod) mis à jour\n",
    "    \"\"\"\n",
    "    # if t >= Temps_chargement + Temps_fusion:\n",
    "    if t >= temps_chargement + temps_fusion:\n",
    "        numfours += 1\n",
    "        PFC_Prod += fonte_produit\n",
    "    return numfours, PFC_Prod\n",
    "\n",
    "\n",
    "def calcule_chargement_et_fusion(times_dict, PFC_Prodvalues_dict, PFC_Consomvalues_dict, fonte_produit, numfours, temps_chargement, temps_fusion):\n",
    "    \"\"\"\n",
    "    Calcule la consommation et la production de fonte du début du chargement à la fin de la 1ère fusion.\n",
    "    \"\"\"\n",
    "    # Derniers éléments des listes pour la clé 'chargement_et_fusion'\n",
    "    PFC_Consom = PFC_Consomvalues_dict['chargement_et_fusion'][-1] if times_dict['chargement_et_fusion'] else 0\n",
    "    PFC_Prod = PFC_Prodvalues_dict['chargement_et_fusion'][-1] if times_dict['chargement_et_fusion'] else 0\n",
    "    t = times_dict['chargement_et_fusion'][-1] if times_dict['chargement_et_fusion'] else 0\n",
    "\n",
    "    # Mise à jour de la production de fonte après chargement\n",
    "    t += temps_chargement\n",
    "    numfours, PFC_Prod = update_production_chargement_et_fusion(t, temps_chargement, temps_fusion, numfours, fonte_produit, PFC_Prod)\n",
    "    PFC_Prodvalues_dict['chargement_et_fusion'].append(PFC_Prod)\n",
    "    PFC_Consomvalues_dict['chargement_et_fusion'].append(PFC_Consom)\n",
    "    times_dict['chargement_et_fusion'].append(t)\n",
    "\n",
    "    # # Mise à jour de la production de fonte entre début/fin fusion\n",
    "    # t += temps_fusion - 1\n",
    "    # numfours, PFC_Prod = update_production_chargement_et_fusion(t, temps_chargement, temps_fusion, numfours, fonte_produit, PFC_Prod)\n",
    "    # PFC_Prodvalues_dict['chargement_et_fusion'].append(PFC_Prod)\n",
    "    # PFC_Consomvalues_dict['chargement_et_fusion'].append(PFC_Consom)\n",
    "    # times_dict['chargement_et_fusion'].append(t)\n",
    "\n",
    "    # # Mise à jour de la production de fonte après fusion\n",
    "    # t += 1\n",
    "    # numfours, PFC_Prod = update_production_chargement_et_fusion(t, temps_chargement, temps_fusion, numfours, fonte_produit, PFC_Prod)\n",
    "    # PFC_Prodvalues_dict['chargement_et_fusion'].append(PFC_Prod)\n",
    "    # PFC_Consomvalues_dict['chargement_et_fusion'].append(PFC_Consom)\n",
    "    # times_dict['chargement_et_fusion'].append(t)\n",
    "\n",
    "    # Mise à jour de la production de fonte après fusion\n",
    "    t += temps_fusion\n",
    "    numfours, PFC_Prod = update_production_chargement_et_fusion(t, temps_chargement, temps_fusion, numfours, fonte_produit, PFC_Prod)\n",
    "    PFC_Prodvalues_dict['chargement_et_fusion'].append(PFC_Prod)\n",
    "    PFC_Consomvalues_dict['chargement_et_fusion'].append(PFC_Consom)\n",
    "    times_dict['chargement_et_fusion'].append(t)\n",
    "\n",
    "    return times_dict, PFC_Prodvalues_dict, PFC_Consomvalues_dict\n",
    "\n",
    "def update_production(t, temps_chargement, temps_fusion, numfours, fonte_produit, PFC_Prod, poche = 0):\n",
    "    \"\"\"\n",
    "    Met à jour la production de fonte en fonction du temps écoulé.\n",
    "    \"\"\"\n",
    "    if t > temps_chargement and (t - temps_chargement) % temps_fusion == 0 and numfours <= 4 :\n",
    "        numfours += 1\n",
    "        PFC_Prod += fonte_produit\n",
    "    PFC_Prod -= poche\n",
    "    return numfours, PFC_Prod\n",
    "\n",
    "def calcule_Transitoire(times_dict, PFC_Prodvalues_dict, PFC_Consomvalues_dict, fonte_produit, numfours, temps_chargement, temps_fusion):\n",
    "    \"\"\"\n",
    "    Calcule la consommation et la production de fonte lors des 3 premières poches (Régime Transitoire).\n",
    "    \"\"\"\n",
    "    # Temps de traitement et poches\n",
    "    temps_poche_1, temps_poche_2, temps_poche_3 = 10, 10, 10\n",
    "    poche_1, poche_2, poche_3 = 1250, 1250, 1250\n",
    "\n",
    "    # Déterminer la clé basée sur numfours\n",
    "    cle = f\"Four {numfours}\" if numfours in [1, 2, 3, 4] else \"chargement_et_fusion\"\n",
    "\n",
    "    # Derniers éléments des listes pour la clé correspondante\n",
    "    PFC_Consom = PFC_Consomvalues_dict[\"chargement_et_fusion\"][-1] \n",
    "    PFC_Prod = PFC_Prodvalues_dict[\"chargement_et_fusion\"][-1] \n",
    "    t = times_dict[\"chargement_et_fusion\"][-1] \n",
    "\n",
    "\n",
    "    # Déterminer la clé basée sur numfours\n",
    "    cle = f\"Four {numfours}\" if numfours in [1, 2, 3, 4] else \"chargement_et_fusion\"\n",
    "    times_dict[cle].append(t)\n",
    "    PFC_Prodvalues_dict[cle].append(PFC_Prod)\n",
    "    PFC_Consomvalues_dict[cle].append(PFC_Consom)\n",
    "\n",
    "    # Poche 1\n",
    "    t += temps_poche_1\n",
    "    PFC_Consom += poche_1\n",
    "    numfours, PFC_Prod = update_production(t, temps_chargement, temps_fusion, numfours, fonte_produit, PFC_Prod, poche_1)\n",
    "    PFC_Prodvalues_dict[cle].append(PFC_Prod)\n",
    "    PFC_Consomvalues_dict[cle].append(PFC_Consom)\n",
    "    times_dict[cle].append(t)\n",
    "\n",
    "    # Poche 2\n",
    "    t += temps_poche_2\n",
    "    PFC_Consom += poche_2\n",
    "    PFC_Consomvalues_dict[cle].append(PFC_Consom)\n",
    "    numfours, PFC_Prod = update_production(t, temps_chargement, temps_fusion, numfours, fonte_produit, PFC_Prod, poche_2)\n",
    "    PFC_Prodvalues_dict[cle].append(PFC_Prod)\n",
    "    times_dict[cle].append(t)\n",
    "\n",
    "    # Poche 3\n",
    "    t += temps_poche_3\n",
    "    PFC_Consom += poche_3\n",
    "    PFC_Consomvalues_dict[cle].append(PFC_Consom)\n",
    "    numfours, PFC_Prod = update_production(t, temps_chargement, temps_fusion, numfours, fonte_produit, PFC_Prod, poche_3)\n",
    "    PFC_Prodvalues_dict[cle].append(PFC_Prod)\n",
    "    times_dict[cle].append(t)\n",
    "\n",
    "    return times_dict, PFC_Prodvalues_dict, PFC_Consomvalues_dict\n",
    "\n",
    "\n",
    "def calcule_temps_poche_i(PFC_Consomvalues_dict, Mg, Mgmin, PFCmin, eC, liste_Masse_Modeles, liste_Quantite_Modeles, liste_cadences, numfours=1):\n",
    "    \"\"\"\n",
    "    Calcule le temps nécessaire pour ajouter la poche i.\n",
    "\n",
    "    Args:\n",
    "        PFC_Consomvalues_dict (dict): Dictionnaire contenant les valeurs de consommation de PFC par clé.\n",
    "        Mg (float): Valeur actuelle de Mg.\n",
    "        Mgmin (float): Valeur minimale acceptable de Mg.\n",
    "        PFCmin (float): Valeur minimale acceptable de PFC.\n",
    "        eC (float): Variation de Mg par unité de temps.\n",
    "        liste_Masse_Modeles (list of float): Liste des masses des grappes.\n",
    "        liste_Quantite_Modeles (list of int): Liste des quantités de mottes pour chaque grappe.\n",
    "        liste_cadences (list of float): Liste des cadences pour chaque grappe.\n",
    "        numfours (int): Numéro du four à utiliser (1, 2, 3, ou 4). Par défaut à 1.\n",
    "\n",
    "    Returns:\n",
    "        int: Temps nécessaire pour ajouter la poche 4.\n",
    "    \"\"\"\n",
    "    cle = f\"Four {numfours}\"\n",
    "    if cle not in PFC_Consomvalues_dict or not PFC_Consomvalues_dict[cle]:\n",
    "        raise ValueError(f\"Clé '{cle}' invalide ou valeurs de consommation manquantes\")\n",
    "\n",
    "\n",
    "    temps_serie = 3\n",
    "    ObjetjModeles_i = 1\n",
    "\n",
    "\n",
    "    PFC_Consom = PFC_Consomvalues_dict[cle][-1]\n",
    "    temps_ajout_poche_i_Coulee = 0\n",
    "    for idx, (masse_grappe, quantite_mottes) in enumerate(zip(liste_Masse_Modeles, liste_Quantite_Modeles)):\n",
    "        cadence = liste_cadences[idx]\n",
    "        for _ in range(quantite_mottes):\n",
    "            PFC_Consom -= cadence\n",
    "            Mg -= eC\n",
    "            if PFC_Consom <= PFCmin or Mg <= Mgmin:\n",
    "                return temps_ajout_poche_i_Coulee\n",
    "            temps_ajout_poche_i_Coulee += 1\n",
    "        temps_ajout_poche_i_Coulee += temps_serie\n",
    "    return temps_ajout_poche_i_Coulee\n"
   ]
  },
  {
   "cell_type": "code",
   "execution_count": null,
   "metadata": {},
   "outputs": [],
   "source": []
  },
  {
   "cell_type": "code",
   "execution_count": null,
   "metadata": {},
   "outputs": [],
   "source": []
  },
  {
   "cell_type": "code",
   "execution_count": 159,
   "metadata": {},
   "outputs": [],
   "source": [
    "\n",
    "# Initialisation des dictionnaires\n",
    "cles = [\"chargement_et_fusion\", \"Four 1\", \"Four 2\", \"Four 3\", \"Four 4\"]\n",
    "times_dict = {cle: [] for cle in cles}\n",
    "PFC_Consomvalues_dict = {cle: [] for cle in cles}\n",
    "PFC_Prodvalues_dict = {cle: [] for cle in cles}\n",
    "times_dict[\"chargement_et_fusion\"] = [0]\n",
    "PFC_Consomvalues_dict[\"chargement_et_fusion\"] = [0]\n",
    "PFC_Prodvalues_dict[\"chargement_et_fusion\"] = [0]\n",
    "\n",
    "\n",
    "# Exemple d'utilisation\n",
    "fonte_produit = 5000  # Exemple de valeur pour fonte_produit\n",
    "numfours = 1  # Exemple de numéro de four (peut être 1, 2, 3 ou 4)\n",
    "temps_chargement = 30  # Exemple de temps de chargement\n",
    "temps_fusion = 45  # Exemple de temps de fusion\n",
    "\n",
    "\n",
    "liste_nbMoules_heure = [190, 190, 190, 210, 190, 190, 190, 190, 190] # en Tonnes/hr\n",
    "liste_Quantite_Modeles = [121, 50, 35, 10, 100, 50, 35, 50, 40]\n",
    "liste_Masse_Modeles = [41.2, 39.36, 15.6, 19.94, 41.20, 39.36, 15.60, 41.20, 29.65] # en kg\n",
    "\n",
    "\n",
    "PFCmin = 2500 # en kg\n",
    "PFCmax = 4000 # en kg\n",
    "Mgmin = 0.035 # en %\n",
    "Mgmax = 0.045 # en %\n",
    "eC = 0.0005 # en %\n",
    "\n",
    "temps_traitement = 10"
   ]
  },
  {
   "cell_type": "code",
   "execution_count": 160,
   "metadata": {},
   "outputs": [
    {
     "name": "stdout",
     "output_type": "stream",
     "text": [
      "{'chargement_et_fusion': [0, 30, 75], 'Four 1': [75, 85, 95, 105], 'Four 2': [], 'Four 3': [], 'Four 4': []}\n",
      "{'chargement_et_fusion': [0, 0, 5000], 'Four 1': [5000, 3750, 2500, 1250], 'Four 2': [], 'Four 3': [], 'Four 4': []}\n",
      "{'chargement_et_fusion': [0, 0, 0], 'Four 1': [0, 1250, 2500, 3750], 'Four 2': [], 'Four 3': [], 'Four 4': []}\n",
      "9\n"
     ]
    }
   ],
   "source": [
    "\n",
    "times_dict, PFC_Prodvalues_dict, PFC_Consomvalues_dict = calcule_chargement_et_fusion(\n",
    "    times_dict, PFC_Prodvalues_dict, PFC_Consomvalues_dict, fonte_produit, numfours, temps_chargement, temps_fusion\n",
    ")\n",
    "\n",
    "times_dict, PFC_Prodvalues_dict, PFC_Consomvalues_dict = calcule_Transitoire(\n",
    "    times_dict, PFC_Prodvalues_dict, PFC_Consomvalues_dict, fonte_produit, numfours, temps_chargement, temps_fusion\n",
    ")\n",
    "\n",
    "\n",
    "# Calcul de la liste des cadences\n",
    "liste_cadences = [] # en Tonnes/hr\n",
    "for nb_moules, masse_grappe in zip(liste_nbMoules_heure, liste_Masse_Modeles):\n",
    "    cadence = nb_moules / 60 * masse_grappe\n",
    "    liste_cadences.append(cadence)\n",
    "\n",
    "Mg = Mgmax\n",
    "temps_ajout_poche_4_Coulee = calcule_temps_poche_i(PFC_Consomvalues_dict, Mg, Mgmin, PFCmin, eC, liste_Masse_Modeles, liste_Quantite_Modeles, liste_cadences)\n",
    "\n",
    "Listetemps_ajout_poche_i_Coulee = []\n",
    "Listetemps_ajout_poche_i_Coulee.append(temps_ajout_poche_4_Coulee)\n",
    "\n",
    "\n",
    "\n",
    "print(times_dict)\n",
    "print(PFC_Prodvalues_dict)\n",
    "print(PFC_Consomvalues_dict)\n",
    "print(temps_ajout_poche_4_Coulee)\n"
   ]
  },
  {
   "cell_type": "code",
   "execution_count": 161,
   "metadata": {},
   "outputs": [
    {
     "name": "stdout",
     "output_type": "stream",
     "text": [
      "ICI2 3825.7999999999997 114 0\n"
     ]
    }
   ],
   "source": [
    "cle = f\"Four {numfours}\" if numfours in [1, 2, 3, 4] else \"chargement_et_fusion\"\n",
    "\n",
    "# Derniers éléments des listes pour la clé correspondante\n",
    "PFC_Consom = PFC_Consomvalues_dict[cle][-1] \n",
    "PFC_Prod = PFC_Prodvalues_dict[cle][-1] \n",
    "t = times_dict[cle][-1] \n",
    "\n",
    "\n",
    "poche_i = 1250\n",
    "\n",
    "\n",
    "t_fin = 600\n",
    "\n",
    "t_avantpoche_i = t\n",
    "\n",
    "ObjetjModeles_i = liste_Quantite_Modeles[0]\n",
    "while t < t_fin :  \n",
    "\n",
    "    # Ajout de la poche_i et Calcul du Temps prochain poche_i+1\n",
    "    if t == (Listetemps_ajout_poche_i_Coulee[-1] + t_avantpoche_i):\n",
    "        # Ajout de la poche_i\n",
    "        PFC_Consom += poche_i\n",
    "        Mg = Mgmax\n",
    "\n",
    "        # Calcul du Temps prochain poche_i+1\n",
    "        temps_ajout_poche_i_Coulee = calcule_temps_poche_i(PFC_Consomvalues_dict, Mg, Mgmin, PFCmin, eC, liste_Masse_Modeles, liste_Quantite_Modeles, liste_cadences)\n",
    "        Listetemps_ajout_poche_i_Coulee.append(temps_ajout_poche_i_Coulee)\n",
    "        t_avantpoche_i = t \n",
    "\n",
    "        # print( \"ICI2\",PFC_Consom,cadence,t,t_avantpoche_i,temps_ajout_poche_i_Coulee)\n",
    "        print( \"ICI2\",PFC_Consom,t,temps_ajout_poche_i_Coulee)\n",
    "\n",
    "\n",
    "    ### if sur la consomation de fonte !!\n",
    "    if liste_Masse_Modeles != []   :\n",
    "        masse_grappe = liste_Masse_Modeles[0]\n",
    "        cadence =  liste_cadences[0]\n",
    "        # print(\"Serie \",masse_grappe,ObjetjModeles_i)\n",
    "\n",
    "        # On est sur la Conception du Modeles i\n",
    "        if ObjetjModeles_i > 1:\n",
    "\n",
    "            # Mise à jour de la consommation de fonte et de Mg\n",
    "            PFC_Consom -= cadence  \n",
    "            Mg -= eC\n",
    "            ObjetjModeles_i  -= 1\n",
    "\n",
    "        # On est sur la Conception du Modeles i+1 \n",
    "        # Donc pris en compte du temps_serie\n",
    "        else:\n",
    "            # Gestion du Changement de Serie\n",
    "            # print(\"Gestion du Changement de Serie\")\n",
    "            # Suppression des éléments déjà traités dans les listes\n",
    "            liste_Masse_Modeles.pop(0)\n",
    "            liste_Quantite_Modeles.pop(0)\n",
    "\n",
    "            # Mise à jour des valeurs\n",
    "            if liste_Quantite_Modeles != []   :\n",
    "                ObjetjModeles_i = liste_Quantite_Modeles[0]\n",
    "           \n",
    "\n",
    "\n",
    "\n",
    "    # Mise à jour du temps\n",
    "    t += 1\n",
    "    PFC_Prodvalues_dict[cle].append(PFC_Prod)\n",
    "    PFC_Consomvalues_dict[cle].append(PFC_Consom)\n",
    "    times_dict[cle].append(t)\n",
    "    # print(\"t = \",t)\n",
    "\n",
    "\n",
    "\n",
    "# liste_Quantite_Modeles[0] = ObjetjModeles_i\n",
    "\n",
    "\n",
    "# print(times_dict)\n",
    "# print(PFC_Prodvalues_dict)\n",
    "# print(PFC_Consomvalues_dict)\n",
    "# print(temps_ajout_poche_4_Coulee)"
   ]
  },
  {
   "cell_type": "code",
   "execution_count": null,
   "metadata": {},
   "outputs": [],
   "source": []
  },
  {
   "cell_type": "markdown",
   "metadata": {},
   "source": [
    "Ecris une fonction de t à t+temps_ajout_poche_4_Coulee :"
   ]
  },
  {
   "cell_type": "code",
   "execution_count": null,
   "metadata": {},
   "outputs": [],
   "source": []
  },
  {
   "cell_type": "code",
   "execution_count": null,
   "metadata": {},
   "outputs": [],
   "source": []
  },
  {
   "cell_type": "code",
   "execution_count": null,
   "metadata": {},
   "outputs": [],
   "source": []
  },
  {
   "cell_type": "code",
   "execution_count": 41,
   "metadata": {},
   "outputs": [],
   "source": [
    "\n",
    "\n",
    "def ProdConsom(liste_masse_grappe, liste_quantite_mottes, nb_moules_heure, t_serie, temps_fusion, temps_chargement, temps_traitement, Mg, Mgmin,Mgmax, eC):\n",
    "    \"\"\"\n",
    "    Calcule la consommation et la production de fonte.\n",
    "    \"\"\"\n",
    "    # Initialisation des variables\n",
    "    numfours = 1\n",
    "    fonte_produit = 5000  # Fonte produite toutes les 45 min en kg\n",
    "    PFC_Prodvalues = [0]  # Production de fonte en kg\n",
    "    PFC_Consomvalues = [0]  # Consommation de fonte en kg\n",
    "    times = [0]  # Temps en minutes\n",
    "\n",
    "    Listetemps_ajout_poche_i_Coulee = []\n",
    "    Listetemps_depart_poche_i_Fusion = []\n",
    "\n",
    "    # Initialiser les clés\n",
    "    cles = [\"chargement_et_fusion\",\"Four 1\", \"Four 2\", \"Four 3\", \"Four 4\"]\n",
    "    times_dict = {}\n",
    "    PFC_Consomvalues_dict = {}\n",
    "    PFC_Prodvalues_dict = {}\n",
    "    # PFC_Consomvalues = {cle: [0] for cle in cles}\n",
    "\n",
    "    times, PFC_Prodvalues,PFC_Consomvalues = calcule_chargement_et_fusion(times, PFC_Prodvalues, PFC_Consomvalues, fonte_produit, numfours, temps_chargement, temps_fusion)\n",
    "\n",
    "\n",
    "    times, PFC_Prodvalues,PFC_Consomvalues = calcule_Transitoire(times, PFC_Prodvalues, PFC_Consomvalues, fonte_produit, numfours, temps_chargement, temps_fusion)\n",
    "\n",
    "    temps_ajout_poche_4_Coulee = calcule_temps_poche_4(PFC_Consomvalues, liste_masse_grappe, liste_quantite_mottes, Mgmax, Mgmin, PFCmin, eC)\n",
    "    temps_depart_poche_i_Fusion = temps_ajout_poche_4_Coulee - temps_traitement\n",
    "    Listetemps_ajout_poche_i_Coulee.append(temps_ajout_poche_4_Coulee)\n",
    "    Listetemps_depart_poche_i_Fusion.append(temps_depart_poche_i_Fusion)\n",
    "    \n",
    "    numfours += 1\n",
    "\n",
    "\n",
    "\n",
    "\n",
    "    PFC_Prod = PFC_Prodvalues[-1]\n",
    "    PFC_Consom = PFC_Consomvalues[-1]\n",
    "    t = times[-1]\n",
    "\n",
    "    t_avantpoche_i = t\n",
    "    poche_i = 1250\n",
    "\n",
    "    # print( \"ICI\",PFC_Consom,t,Listetemps_ajout_poche_i_Coulee)\n",
    "\n",
    "\n",
    "# ----------------------------------------------------------------------------------\n",
    "\n",
    "    # Boucle principale consomation et production\n",
    "    # Indices de suivi pour les listes\n",
    "    t_max = 600 #4*60\n",
    "    index_grappe = 1 #0\n",
    "    index_motte = 1 #0\n",
    "    quantite_mottes = liste_quantite_mottes[index_grappe-1]\n",
    "\n",
    "    liste_nbMoules_heure = [190, 190, 190, 210, 190, 190, 190, 190, 190] # en Tonnes/hr\n",
    "    liste_masse_grappe = [41.2, 39.36, 15.6, 19.94, 41.20, 39.36, 15.60, 41.20, 29.65] # en kg\n",
    "\n",
    "    # Calcul de la liste des cadences\n",
    "    liste_cadences = [] # en Tonnes/hr\n",
    "    for nb_moules, masse_grappe in zip(liste_nbMoules_heure, liste_masse_grappe):\n",
    "        cadence = nb_moules / 60 * masse_grappe\n",
    "        liste_cadences.append(cadence)\n",
    "\n",
    "\n",
    "    while t < t_max:  \n",
    "        if index_grappe <= len(liste_masse_grappe) and index_motte <= quantite_mottes:\n",
    "            masse_grappe = liste_masse_grappe[index_grappe-1]\n",
    "            cadence =  liste_cadences[index_grappe-1]\n",
    "\n",
    "            \n",
    "\n",
    "            # print(\"Changement de serie \",index_grappe,index_motte)\n",
    "            # print(PFC_Consom,t,Listetemps_ajout_poche_i_Coulee)\n",
    "\n",
    "            # print( \"ICI1\",PFC_Consom,cadence,t,t_avantpoche_i,Listetemps_ajout_poche_i_Coulee)\n",
    "\n",
    "            # Avant de consommer de la fonte, on doit savoir :\n",
    "            # Quand ajouter la poche_i dans le Fours de Coulée ?\n",
    "            if t == (Listetemps_ajout_poche_i_Coulee[-1] + t_avantpoche_i):\n",
    "                PFC_Consom += poche_i\n",
    "                Mg = Mgmax\n",
    "\n",
    "                # print( \"ICI2\",PFC_Consom,cadence,t,t_avantpoche_i,Listetemps_ajout_poche_i_Coulee)\n",
    "\n",
    "                # Calcul Temps prochain poche_i\n",
    "                temps_ajout_poche_i_Coulee = calcule_temps_poche_i(PFC_Consom, index_grappe, liste_masse_grappe, index_motte, liste_quantite_mottes, Mg, Mgmin, PFCmin, eC)\n",
    "                Listetemps_ajout_poche_i_Coulee.append(temps_ajout_poche_i_Coulee)\n",
    "                t_avantpoche_i = t\n",
    "\n",
    "\n",
    "            # Mise à jour des indices de suivi des mottes\n",
    "            if index_motte  < quantite_mottes:\n",
    "                index_motte += 1\n",
    "            else:\n",
    "                # Gestion du Changement de Serie\n",
    "                # print(\"Changement de serie 2\")\n",
    "\n",
    "                # print(\"la\", index_grappe)\n",
    "\n",
    "                index_motte = 1\n",
    "                index_grappe += 1\n",
    "                if index_grappe <= len(liste_quantite_mottes):\n",
    "                    quantite_mottes = liste_quantite_mottes[index_grappe-1]\n",
    "\n",
    "\n",
    "\n",
    "            # Mise à jour de la consommation de fonte et de Mg\n",
    "            PFC_Consom -= cadence  \n",
    "            Mg -= eC\n",
    "\n",
    "\n",
    "\n",
    "        # Mise à jour du temps\n",
    "        t += 1\n",
    "        # print(\"t = \",t)\n",
    "        times.append(t)\n",
    "        PFC_Prodvalues.append(PFC_Prod)\n",
    "        PFC_Consomvalues.append(PFC_Consom)\n",
    "\n",
    "\n",
    "\n",
    "    tmin = times[0]\n",
    "    tmax = times[-1]\n",
    "    return times, PFC_Consomvalues, PFC_Prodvalues, tmin, tmax\n"
   ]
  },
  {
   "cell_type": "code",
   "execution_count": 42,
   "metadata": {},
   "outputs": [],
   "source": [
    "nb_fours = 6 # 8-9 fours pour HWS, 6 fours pour DiSA\n",
    "temps_fusion = 45 # en min\n",
    "temps_chargement = 30 # 30 - 45  min\n",
    "\n",
    "# Les valeurs d'entrée Input \n",
    "\n",
    "nb_moules_heure = 190 \n",
    "t_serie = 5 # 5 min\n",
    "\n",
    "PFCmin = 2500 # en kg\n",
    "PFCmax = 4000 # en kg\n",
    "\n",
    "Mgmin = 0.035 # en %\n",
    "Mgmax = 0.045 # en %\n",
    "eC = 0.0005 # en %\n",
    "temps_traitement = 10  # en  min\n",
    "\n",
    "\n",
    "\n",
    "Mg = Mgmax\n",
    "\n",
    "liste_masse_grappe = [41.2, 39.36, 15.6, 19.94, 41.20, 39.36, 15.60, 41.20, 29.65] # en kg\n",
    "liste_quantite_mottes = [121, 50, 35, 10, 100, 50, 35, 50, 40]\n",
    "\n",
    "liste_cadences = [7.83, 7.48, 2.96, 4.19, 7.83, 7.48, 2.96, 7.83, 5.63] # en Tonnes/hr\n",
    "\n",
    "liste_temps_changement_serie = [3, 3, 3, 3, 3, 3, 3, 3] # en minutes\n",
    "\n",
    "\n",
    "# liste_masse_grappe = [41.2, 39.36, 15.6] # en kg\n",
    "# liste_quantite_mottes = [1*121, 50, 35]\n",
    "\n",
    "\n",
    "# liste_masse_grappe = [35, 35] # en kg\n",
    "# liste_quantite_mottes = [50, 50]\n",
    "\n",
    "# liste_masse_grappe = [35] # en kg\n",
    "# liste_quantite_mottes = [200]\n",
    "\n",
    "times, PFC_Consomvalues, PFC_Prodvalues, tmin, tmax = ProdConsom(liste_masse_grappe, liste_quantite_mottes, nb_moules_heure, t_serie, temps_fusion, temps_chargement, temps_traitement, Mg, Mgmin,Mgmax, eC)"
   ]
  },
  {
   "cell_type": "code",
   "execution_count": 43,
   "metadata": {},
   "outputs": [
    {
     "data": {
      "application/vnd.plotly.v1+json": {
       "config": {
        "plotlyServerURL": "https://plot.ly"
       },
       "data": [
        {
         "line": {
          "color": "royalblue"
         },
         "mode": "lines",
         "name": "PFC over time",
         "type": "scatter",
         "x": [
          0,
          30,
          75,
          85,
          95,
          105,
          106,
          107,
          108,
          109,
          110,
          111,
          112,
          113,
          114,
          115,
          116,
          117,
          118,
          119,
          120,
          121,
          122,
          123,
          124,
          125,
          126,
          127,
          128,
          129,
          130,
          131,
          132,
          133,
          134,
          135,
          136,
          137,
          138,
          139,
          140,
          141,
          142,
          143,
          144,
          145,
          146,
          147,
          148,
          149,
          150,
          151,
          152,
          153,
          154,
          155,
          156,
          157,
          158,
          159,
          160,
          161,
          162,
          163,
          164,
          165,
          166,
          167,
          168,
          169,
          170,
          171,
          172,
          173,
          174,
          175,
          176,
          177,
          178,
          179,
          180,
          181,
          182,
          183,
          184,
          185,
          186,
          187,
          188,
          189,
          190,
          191,
          192,
          193,
          194,
          195,
          196,
          197,
          198,
          199,
          200,
          201,
          202,
          203,
          204,
          205,
          206,
          207,
          208,
          209,
          210,
          211,
          212,
          213,
          214,
          215,
          216,
          217,
          218,
          219,
          220,
          221,
          222,
          223,
          224,
          225,
          226,
          227,
          228,
          229,
          230,
          231,
          232,
          233,
          234,
          235,
          236,
          237,
          238,
          239,
          240,
          241,
          242,
          243,
          244,
          245,
          246,
          247,
          248,
          249,
          250,
          251,
          252,
          253,
          254,
          255,
          256,
          257,
          258,
          259,
          260,
          261,
          262,
          263,
          264,
          265,
          266,
          267,
          268,
          269,
          270,
          271,
          272,
          273,
          274,
          275,
          276,
          277,
          278,
          279,
          280,
          281,
          282,
          283,
          284,
          285,
          286,
          287,
          288,
          289,
          290,
          291,
          292,
          293,
          294,
          295,
          296,
          297,
          298,
          299,
          300,
          301,
          302,
          303,
          304,
          305,
          306,
          307,
          308,
          309,
          310,
          311,
          312,
          313,
          314,
          315,
          316,
          317,
          318,
          319,
          320,
          321,
          322,
          323,
          324,
          325,
          326,
          327,
          328,
          329,
          330,
          331,
          332,
          333,
          334,
          335,
          336,
          337,
          338,
          339,
          340,
          341,
          342,
          343,
          344,
          345,
          346,
          347,
          348,
          349,
          350,
          351,
          352,
          353,
          354,
          355,
          356,
          357,
          358,
          359,
          360,
          361,
          362,
          363,
          364,
          365,
          366,
          367,
          368,
          369,
          370,
          371,
          372,
          373,
          374,
          375,
          376,
          377,
          378,
          379,
          380,
          381,
          382,
          383,
          384,
          385,
          386,
          387,
          388,
          389,
          390,
          391,
          392,
          393,
          394,
          395,
          396,
          397,
          398,
          399,
          400,
          401,
          402,
          403,
          404,
          405,
          406,
          407,
          408,
          409,
          410,
          411,
          412,
          413,
          414,
          415,
          416,
          417,
          418,
          419,
          420,
          421,
          422,
          423,
          424,
          425,
          426,
          427,
          428,
          429,
          430,
          431,
          432,
          433,
          434,
          435,
          436,
          437,
          438,
          439,
          440,
          441,
          442,
          443,
          444,
          445,
          446,
          447,
          448,
          449,
          450,
          451,
          452,
          453,
          454,
          455,
          456,
          457,
          458,
          459,
          460,
          461,
          462,
          463,
          464,
          465,
          466,
          467,
          468,
          469,
          470,
          471,
          472,
          473,
          474,
          475,
          476,
          477,
          478,
          479,
          480,
          481,
          482,
          483,
          484,
          485,
          486,
          487,
          488,
          489,
          490,
          491,
          492,
          493,
          494,
          495,
          496,
          497,
          498,
          499,
          500,
          501,
          502,
          503,
          504,
          505,
          506,
          507,
          508,
          509,
          510,
          511,
          512,
          513,
          514,
          515,
          516,
          517,
          518,
          519,
          520,
          521,
          522,
          523,
          524,
          525,
          526,
          527,
          528,
          529,
          530,
          531,
          532,
          533,
          534,
          535,
          536,
          537,
          538,
          539,
          540,
          541,
          542,
          543,
          544,
          545,
          546,
          547,
          548,
          549,
          550,
          551,
          552,
          553,
          554,
          555,
          556,
          557,
          558,
          559,
          560,
          561,
          562,
          563,
          564,
          565,
          566,
          567,
          568,
          569,
          570,
          571,
          572,
          573,
          574,
          575,
          576,
          577,
          578,
          579,
          580,
          581,
          582,
          583,
          584,
          585,
          586,
          587,
          588,
          589,
          590,
          591,
          592,
          593,
          594,
          595,
          596,
          597,
          598,
          599,
          600
         ],
         "y": [
          0,
          0,
          0,
          1250,
          2500,
          3750,
          3619.5333333333333,
          3489.0666666666666,
          3358.6,
          3228.133333333333,
          3097.6666666666665,
          2967.2,
          2836.733333333333,
          2706.2666666666664,
          2575.7999999999997,
          3695.333333333333,
          3564.8666666666663,
          3434.3999999999996,
          3303.933333333333,
          3173.4666666666662,
          3042.9999999999995,
          2912.533333333333,
          2782.066666666666,
          2651.5999999999995,
          2521.1333333333328,
          3640.666666666666,
          3510.1999999999994,
          3379.7333333333327,
          3249.266666666666,
          3118.7999999999993,
          2988.3333333333326,
          2857.866666666666,
          2727.399999999999,
          2596.9333333333325,
          3716.466666666666,
          3585.999999999999,
          3455.5333333333324,
          3325.0666666666657,
          3194.599999999999,
          3064.1333333333323,
          2933.6666666666656,
          2803.199999999999,
          2672.733333333332,
          2542.2666666666655,
          3661.799999999999,
          3531.333333333332,
          3400.8666666666654,
          3270.3999999999987,
          3139.933333333332,
          3009.4666666666653,
          2878.9999999999986,
          2748.533333333332,
          2618.0666666666652,
          3737.5999999999985,
          3607.133333333332,
          3476.666666666665,
          3346.1999999999985,
          3215.7333333333318,
          3085.266666666665,
          2954.7999999999984,
          2824.3333333333317,
          2693.866666666665,
          2563.3999999999983,
          3682.9333333333316,
          3552.466666666665,
          3421.999999999998,
          3291.5333333333315,
          3161.066666666665,
          3030.599999999998,
          2900.1333333333314,
          2769.6666666666647,
          2639.199999999998,
          2508.7333333333313,
          3628.2666666666646,
          3497.799999999998,
          3367.333333333331,
          3236.8666666666645,
          3106.399999999998,
          2975.933333333331,
          2845.4666666666644,
          2714.9999999999977,
          2584.533333333331,
          3704.0666666666643,
          3573.5999999999976,
          3443.133333333331,
          3312.6666666666642,
          3182.1999999999975,
          3051.733333333331,
          2921.266666666664,
          2790.7999999999975,
          2660.3333333333308,
          2529.866666666664,
          3649.3999999999974,
          3518.9333333333307,
          3388.466666666664,
          3257.9999999999973,
          3127.5333333333306,
          2997.066666666664,
          2866.599999999997,
          2736.1333333333305,
          2605.666666666664,
          3725.199999999997,
          3594.7333333333304,
          3464.2666666666637,
          3333.799999999997,
          3203.3333333333303,
          3072.8666666666636,
          2942.399999999997,
          2811.93333333333,
          2681.4666666666635,
          2550.999999999997,
          3670.53333333333,
          3540.0666666666634,
          3409.5999999999967,
          3279.13333333333,
          3148.6666666666633,
          3018.1999999999966,
          2887.73333333333,
          2757.2666666666632,
          2626.7999999999965,
          3746.33333333333,
          3615.866666666663,
          3485.3999999999965,
          3354.9333333333298,
          3224.466666666663,
          3093.9999999999964,
          2963.5333333333297,
          2838.89333333333,
          2714.25333333333,
          2589.61333333333,
          3714.97333333333,
          3590.3333333333303,
          3465.6933333333304,
          3341.0533333333306,
          3216.4133333333307,
          3091.773333333331,
          2967.133333333331,
          2842.493333333331,
          2717.853333333331,
          2593.2133333333313,
          3718.5733333333314,
          3593.9333333333316,
          3469.2933333333317,
          3344.653333333332,
          3220.013333333332,
          3095.373333333332,
          2970.733333333332,
          2846.0933333333323,
          2721.4533333333325,
          2596.8133333333326,
          3722.1733333333327,
          3597.533333333333,
          3472.893333333333,
          3348.253333333333,
          3223.6133333333332,
          3098.9733333333334,
          2974.3333333333335,
          2849.6933333333336,
          2725.0533333333337,
          2600.413333333334,
          3725.773333333334,
          3601.133333333334,
          3476.4933333333342,
          3351.8533333333344,
          3227.2133333333345,
          3102.5733333333346,
          2977.9333333333348,
          2853.293333333335,
          2728.653333333335,
          2604.013333333335,
          3729.3733333333353,
          3604.7333333333354,
          3480.0933333333355,
          3355.4533333333356,
          3230.813333333336,
          3106.173333333336,
          2981.533333333336,
          2932.133333333336,
          2882.733333333336,
          2833.3333333333358,
          2783.9333333333357,
          2734.5333333333356,
          2685.1333333333355,
          2635.7333333333354,
          2586.3333333333353,
          2536.933333333335,
          2487.533333333335,
          2438.133333333335,
          3638.733333333335,
          3589.333333333335,
          3539.9333333333348,
          3490.5333333333347,
          3441.1333333333346,
          3391.7333333333345,
          3342.3333333333344,
          3292.9333333333343,
          3243.533333333334,
          3194.133333333334,
          3144.733333333334,
          3095.333333333334,
          3045.933333333334,
          2996.5333333333338,
          2947.1333333333337,
          2897.7333333333336,
          2848.3333333333335,
          2798.9333333333334,
          2749.5333333333333,
          3950.133333333333,
          3900.733333333333,
          3851.333333333333,
          3801.933333333333,
          3752.533333333333,
          3682.743333333333,
          3612.953333333333,
          3543.163333333333,
          3473.373333333333,
          3403.583333333333,
          3333.793333333333,
          3264.003333333333,
          3194.213333333333,
          3124.423333333333,
          3054.633333333333,
          2924.1666666666665,
          2793.7,
          2663.233333333333,
          3782.7666666666664,
          3652.2999999999997,
          3521.833333333333,
          3391.3666666666663,
          3260.8999999999996,
          3130.433333333333,
          2999.9666666666662,
          2869.4999999999995,
          2739.033333333333,
          2608.566666666666,
          3728.0999999999995,
          3597.6333333333328,
          3467.166666666666,
          3336.6999999999994,
          3206.2333333333327,
          3075.766666666666,
          2945.2999999999993,
          2814.8333333333326,
          2684.366666666666,
          2553.899999999999,
          3673.4333333333325,
          3542.966666666666,
          3412.499999999999,
          3282.0333333333324,
          3151.5666666666657,
          3021.099999999999,
          2890.6333333333323,
          2760.1666666666656,
          2629.699999999999,
          3749.233333333332,
          3618.7666666666655,
          3488.299999999999,
          3357.833333333332,
          3227.3666666666654,
          3096.8999999999987,
          2966.433333333332,
          2835.9666666666653,
          2705.4999999999986,
          2575.033333333332,
          3694.5666666666652,
          3564.0999999999985,
          3433.633333333332,
          3303.166666666665,
          3172.6999999999985,
          3042.2333333333318,
          2911.766666666665,
          2781.2999999999984,
          2650.8333333333317,
          2520.366666666665,
          3639.8999999999983,
          3509.4333333333316,
          3378.966666666665,
          3248.499999999998,
          3118.0333333333315,
          2987.566666666665,
          2857.099999999998,
          2726.6333333333314,
          2596.1666666666647,
          3715.699999999998,
          3585.2333333333313,
          3454.7666666666646,
          3324.299999999998,
          3193.833333333331,
          3063.3666666666645,
          2932.899999999998,
          2802.433333333331,
          2671.9666666666644,
          2541.4999999999977,
          3661.033333333331,
          3530.5666666666643,
          3400.0999999999976,
          3269.633333333331,
          3139.1666666666642,
          3008.6999999999975,
          2878.233333333331,
          2747.766666666664,
          2617.2999999999975,
          3736.8333333333308,
          3606.366666666664,
          3475.8999999999974,
          3345.4333333333307,
          3214.966666666664,
          3084.4999999999973,
          2954.0333333333306,
          2823.566666666664,
          2693.099999999997,
          2562.6333333333305,
          3682.166666666664,
          3551.699999999997,
          3421.2333333333304,
          3290.7666666666637,
          3160.299999999997,
          3029.8333333333303,
          2899.3666666666636,
          2768.899999999997,
          2638.43333333333,
          2507.9666666666635,
          3633.3266666666636,
          3508.6866666666638,
          3384.046666666664,
          3259.406666666664,
          3134.766666666664,
          3010.1266666666643,
          2885.4866666666644,
          2760.8466666666645,
          2636.2066666666647,
          2511.566666666665,
          3636.926666666665,
          3512.286666666665,
          3387.646666666665,
          3263.0066666666653,
          3138.3666666666654,
          3013.7266666666656,
          2889.0866666666657,
          2764.446666666666,
          2639.806666666666,
          2515.166666666666,
          3640.526666666666,
          3515.8866666666663,
          3391.2466666666664,
          3266.6066666666666,
          3141.9666666666667,
          3017.326666666667,
          2892.686666666667,
          2768.046666666667,
          2643.406666666667,
          2518.7666666666673,
          3644.1266666666675,
          3519.4866666666676,
          3394.8466666666677,
          3270.206666666668,
          3145.566666666668,
          3020.926666666668,
          2896.286666666668,
          2771.6466666666684,
          2647.0066666666685,
          2522.3666666666686,
          3647.7266666666687,
          3523.086666666669,
          3398.446666666669,
          3273.806666666669,
          3149.1666666666692,
          3024.5266666666694,
          2899.8866666666695,
          2775.2466666666696,
          2650.6066666666698,
          2525.96666666667,
          2476.56666666667,
          2427.1666666666697,
          3627.7666666666696,
          3578.3666666666695,
          3528.9666666666694,
          3479.5666666666693,
          3430.1666666666692,
          3380.766666666669,
          3331.366666666669,
          3281.966666666669,
          3232.566666666669,
          3183.166666666669,
          3133.7666666666687,
          3084.3666666666686,
          3034.9666666666685,
          2985.5666666666684,
          2936.1666666666683,
          2886.7666666666682,
          2837.366666666668,
          2787.966666666668,
          2738.566666666668,
          3939.166666666668,
          3889.766666666668,
          3840.3666666666677,
          3790.9666666666676,
          3741.5666666666675,
          3692.1666666666674,
          3642.7666666666673,
          3593.3666666666672,
          3543.966666666667,
          3494.566666666667,
          3445.166666666667,
          3395.766666666667,
          3346.366666666667,
          3296.9666666666667,
          3166.5,
          3036.0333333333333,
          2905.5666666666666,
          2775.1,
          2644.633333333333,
          3764.1666666666665,
          3633.7,
          3503.233333333333,
          3372.7666666666664,
          3242.2999999999997,
          3111.833333333333,
          2981.3666666666663,
          2850.8999999999996,
          2720.433333333333,
          2589.9666666666662,
          3709.4999999999995,
          3579.033333333333,
          3448.566666666666,
          3318.0999999999995,
          3187.6333333333328,
          3057.166666666666,
          2926.6999999999994,
          2796.2333333333327,
          2665.766666666666,
          2535.2999999999993,
          3654.8333333333326,
          3524.366666666666,
          3393.899999999999,
          3263.4333333333325,
          3132.966666666666,
          3002.499999999999,
          2872.0333333333324,
          2741.5666666666657,
          2611.099999999999,
          3730.6333333333323,
          3600.1666666666656,
          3469.699999999999,
          3339.233333333332,
          3208.7666666666655,
          3078.299999999999,
          2947.833333333332,
          2817.3666666666654,
          2686.8999999999987,
          2556.433333333332,
          3675.9666666666653,
          3545.4999999999986,
          3415.033333333332,
          3284.5666666666652,
          3154.0999999999985,
          3023.633333333332,
          2929.741666666665,
          2835.8499999999985,
          2741.958333333332,
          2648.0666666666657,
          2554.1749999999993,
          3710.283333333333,
          3616.3916666666664,
          3522.5,
          3428.6083333333336,
          3334.716666666667,
          3240.8250000000007,
          3146.9333333333343,
          3053.041666666668,
          2959.1500000000015,
          2865.258333333335,
          2771.3666666666686,
          2677.475000000002,
          2583.5833333333358,
          3739.6916666666693,
          3645.800000000003,
          3551.9083333333365,
          3458.01666666667,
          3364.1250000000036,
          3270.233333333337,
          3176.341666666671,
          3082.4500000000044,
          2988.558333333338,
          2894.6666666666715,
          2800.775000000005,
          2706.8833333333387,
          2612.9916666666722,
          2519.100000000006,
          3675.2083333333394,
          3581.316666666673,
          3487.4250000000065,
          3393.53333333334,
          3299.6416666666737,
          3205.7500000000073,
          3111.858333333341,
          4267.966666666674,
          4267.966666666674,
          4267.966666666674,
          4267.966666666674,
          4267.966666666674
         ]
        }
       ],
       "layout": {
        "annotations": [
         {
          "arrowhead": 2,
          "ax": 20,
          "ay": -30,
          "showarrow": true,
          "text": "PFCmin",
          "x": 600,
          "xref": "x",
          "y": 2500,
          "yref": "y"
         },
         {
          "arrowhead": 2,
          "ax": 20,
          "ay": -30,
          "showarrow": true,
          "text": "PFCmax",
          "x": 600,
          "xref": "x",
          "y": 4000,
          "yref": "y"
         }
        ],
        "shapes": [
         {
          "line": {
           "color": "firebrick",
           "dash": "dash",
           "width": 2
          },
          "name": "PFCmin",
          "type": "line",
          "x0": 0,
          "x1": 600,
          "y0": 2500,
          "y1": 2500
         },
         {
          "line": {
           "color": "green",
           "dash": "dash",
           "width": 2
          },
          "name": "PFCmax",
          "type": "line",
          "x0": 0,
          "x1": 600,
          "y0": 4000,
          "y1": 4000
         }
        ],
        "showlegend": false,
        "template": {
         "data": {
          "bar": [
           {
            "error_x": {
             "color": "#2a3f5f"
            },
            "error_y": {
             "color": "#2a3f5f"
            },
            "marker": {
             "line": {
              "color": "#E5ECF6",
              "width": 0.5
             },
             "pattern": {
              "fillmode": "overlay",
              "size": 10,
              "solidity": 0.2
             }
            },
            "type": "bar"
           }
          ],
          "barpolar": [
           {
            "marker": {
             "line": {
              "color": "#E5ECF6",
              "width": 0.5
             },
             "pattern": {
              "fillmode": "overlay",
              "size": 10,
              "solidity": 0.2
             }
            },
            "type": "barpolar"
           }
          ],
          "carpet": [
           {
            "aaxis": {
             "endlinecolor": "#2a3f5f",
             "gridcolor": "white",
             "linecolor": "white",
             "minorgridcolor": "white",
             "startlinecolor": "#2a3f5f"
            },
            "baxis": {
             "endlinecolor": "#2a3f5f",
             "gridcolor": "white",
             "linecolor": "white",
             "minorgridcolor": "white",
             "startlinecolor": "#2a3f5f"
            },
            "type": "carpet"
           }
          ],
          "choropleth": [
           {
            "colorbar": {
             "outlinewidth": 0,
             "ticks": ""
            },
            "type": "choropleth"
           }
          ],
          "contour": [
           {
            "colorbar": {
             "outlinewidth": 0,
             "ticks": ""
            },
            "colorscale": [
             [
              0,
              "#0d0887"
             ],
             [
              0.1111111111111111,
              "#46039f"
             ],
             [
              0.2222222222222222,
              "#7201a8"
             ],
             [
              0.3333333333333333,
              "#9c179e"
             ],
             [
              0.4444444444444444,
              "#bd3786"
             ],
             [
              0.5555555555555556,
              "#d8576b"
             ],
             [
              0.6666666666666666,
              "#ed7953"
             ],
             [
              0.7777777777777778,
              "#fb9f3a"
             ],
             [
              0.8888888888888888,
              "#fdca26"
             ],
             [
              1,
              "#f0f921"
             ]
            ],
            "type": "contour"
           }
          ],
          "contourcarpet": [
           {
            "colorbar": {
             "outlinewidth": 0,
             "ticks": ""
            },
            "type": "contourcarpet"
           }
          ],
          "heatmap": [
           {
            "colorbar": {
             "outlinewidth": 0,
             "ticks": ""
            },
            "colorscale": [
             [
              0,
              "#0d0887"
             ],
             [
              0.1111111111111111,
              "#46039f"
             ],
             [
              0.2222222222222222,
              "#7201a8"
             ],
             [
              0.3333333333333333,
              "#9c179e"
             ],
             [
              0.4444444444444444,
              "#bd3786"
             ],
             [
              0.5555555555555556,
              "#d8576b"
             ],
             [
              0.6666666666666666,
              "#ed7953"
             ],
             [
              0.7777777777777778,
              "#fb9f3a"
             ],
             [
              0.8888888888888888,
              "#fdca26"
             ],
             [
              1,
              "#f0f921"
             ]
            ],
            "type": "heatmap"
           }
          ],
          "heatmapgl": [
           {
            "colorbar": {
             "outlinewidth": 0,
             "ticks": ""
            },
            "colorscale": [
             [
              0,
              "#0d0887"
             ],
             [
              0.1111111111111111,
              "#46039f"
             ],
             [
              0.2222222222222222,
              "#7201a8"
             ],
             [
              0.3333333333333333,
              "#9c179e"
             ],
             [
              0.4444444444444444,
              "#bd3786"
             ],
             [
              0.5555555555555556,
              "#d8576b"
             ],
             [
              0.6666666666666666,
              "#ed7953"
             ],
             [
              0.7777777777777778,
              "#fb9f3a"
             ],
             [
              0.8888888888888888,
              "#fdca26"
             ],
             [
              1,
              "#f0f921"
             ]
            ],
            "type": "heatmapgl"
           }
          ],
          "histogram": [
           {
            "marker": {
             "pattern": {
              "fillmode": "overlay",
              "size": 10,
              "solidity": 0.2
             }
            },
            "type": "histogram"
           }
          ],
          "histogram2d": [
           {
            "colorbar": {
             "outlinewidth": 0,
             "ticks": ""
            },
            "colorscale": [
             [
              0,
              "#0d0887"
             ],
             [
              0.1111111111111111,
              "#46039f"
             ],
             [
              0.2222222222222222,
              "#7201a8"
             ],
             [
              0.3333333333333333,
              "#9c179e"
             ],
             [
              0.4444444444444444,
              "#bd3786"
             ],
             [
              0.5555555555555556,
              "#d8576b"
             ],
             [
              0.6666666666666666,
              "#ed7953"
             ],
             [
              0.7777777777777778,
              "#fb9f3a"
             ],
             [
              0.8888888888888888,
              "#fdca26"
             ],
             [
              1,
              "#f0f921"
             ]
            ],
            "type": "histogram2d"
           }
          ],
          "histogram2dcontour": [
           {
            "colorbar": {
             "outlinewidth": 0,
             "ticks": ""
            },
            "colorscale": [
             [
              0,
              "#0d0887"
             ],
             [
              0.1111111111111111,
              "#46039f"
             ],
             [
              0.2222222222222222,
              "#7201a8"
             ],
             [
              0.3333333333333333,
              "#9c179e"
             ],
             [
              0.4444444444444444,
              "#bd3786"
             ],
             [
              0.5555555555555556,
              "#d8576b"
             ],
             [
              0.6666666666666666,
              "#ed7953"
             ],
             [
              0.7777777777777778,
              "#fb9f3a"
             ],
             [
              0.8888888888888888,
              "#fdca26"
             ],
             [
              1,
              "#f0f921"
             ]
            ],
            "type": "histogram2dcontour"
           }
          ],
          "mesh3d": [
           {
            "colorbar": {
             "outlinewidth": 0,
             "ticks": ""
            },
            "type": "mesh3d"
           }
          ],
          "parcoords": [
           {
            "line": {
             "colorbar": {
              "outlinewidth": 0,
              "ticks": ""
             }
            },
            "type": "parcoords"
           }
          ],
          "pie": [
           {
            "automargin": true,
            "type": "pie"
           }
          ],
          "scatter": [
           {
            "fillpattern": {
             "fillmode": "overlay",
             "size": 10,
             "solidity": 0.2
            },
            "type": "scatter"
           }
          ],
          "scatter3d": [
           {
            "line": {
             "colorbar": {
              "outlinewidth": 0,
              "ticks": ""
             }
            },
            "marker": {
             "colorbar": {
              "outlinewidth": 0,
              "ticks": ""
             }
            },
            "type": "scatter3d"
           }
          ],
          "scattercarpet": [
           {
            "marker": {
             "colorbar": {
              "outlinewidth": 0,
              "ticks": ""
             }
            },
            "type": "scattercarpet"
           }
          ],
          "scattergeo": [
           {
            "marker": {
             "colorbar": {
              "outlinewidth": 0,
              "ticks": ""
             }
            },
            "type": "scattergeo"
           }
          ],
          "scattergl": [
           {
            "marker": {
             "colorbar": {
              "outlinewidth": 0,
              "ticks": ""
             }
            },
            "type": "scattergl"
           }
          ],
          "scattermapbox": [
           {
            "marker": {
             "colorbar": {
              "outlinewidth": 0,
              "ticks": ""
             }
            },
            "type": "scattermapbox"
           }
          ],
          "scatterpolar": [
           {
            "marker": {
             "colorbar": {
              "outlinewidth": 0,
              "ticks": ""
             }
            },
            "type": "scatterpolar"
           }
          ],
          "scatterpolargl": [
           {
            "marker": {
             "colorbar": {
              "outlinewidth": 0,
              "ticks": ""
             }
            },
            "type": "scatterpolargl"
           }
          ],
          "scatterternary": [
           {
            "marker": {
             "colorbar": {
              "outlinewidth": 0,
              "ticks": ""
             }
            },
            "type": "scatterternary"
           }
          ],
          "surface": [
           {
            "colorbar": {
             "outlinewidth": 0,
             "ticks": ""
            },
            "colorscale": [
             [
              0,
              "#0d0887"
             ],
             [
              0.1111111111111111,
              "#46039f"
             ],
             [
              0.2222222222222222,
              "#7201a8"
             ],
             [
              0.3333333333333333,
              "#9c179e"
             ],
             [
              0.4444444444444444,
              "#bd3786"
             ],
             [
              0.5555555555555556,
              "#d8576b"
             ],
             [
              0.6666666666666666,
              "#ed7953"
             ],
             [
              0.7777777777777778,
              "#fb9f3a"
             ],
             [
              0.8888888888888888,
              "#fdca26"
             ],
             [
              1,
              "#f0f921"
             ]
            ],
            "type": "surface"
           }
          ],
          "table": [
           {
            "cells": {
             "fill": {
              "color": "#EBF0F8"
             },
             "line": {
              "color": "white"
             }
            },
            "header": {
             "fill": {
              "color": "#C8D4E3"
             },
             "line": {
              "color": "white"
             }
            },
            "type": "table"
           }
          ]
         },
         "layout": {
          "annotationdefaults": {
           "arrowcolor": "#2a3f5f",
           "arrowhead": 0,
           "arrowwidth": 1
          },
          "autotypenumbers": "strict",
          "coloraxis": {
           "colorbar": {
            "outlinewidth": 0,
            "ticks": ""
           }
          },
          "colorscale": {
           "diverging": [
            [
             0,
             "#8e0152"
            ],
            [
             0.1,
             "#c51b7d"
            ],
            [
             0.2,
             "#de77ae"
            ],
            [
             0.3,
             "#f1b6da"
            ],
            [
             0.4,
             "#fde0ef"
            ],
            [
             0.5,
             "#f7f7f7"
            ],
            [
             0.6,
             "#e6f5d0"
            ],
            [
             0.7,
             "#b8e186"
            ],
            [
             0.8,
             "#7fbc41"
            ],
            [
             0.9,
             "#4d9221"
            ],
            [
             1,
             "#276419"
            ]
           ],
           "sequential": [
            [
             0,
             "#0d0887"
            ],
            [
             0.1111111111111111,
             "#46039f"
            ],
            [
             0.2222222222222222,
             "#7201a8"
            ],
            [
             0.3333333333333333,
             "#9c179e"
            ],
            [
             0.4444444444444444,
             "#bd3786"
            ],
            [
             0.5555555555555556,
             "#d8576b"
            ],
            [
             0.6666666666666666,
             "#ed7953"
            ],
            [
             0.7777777777777778,
             "#fb9f3a"
            ],
            [
             0.8888888888888888,
             "#fdca26"
            ],
            [
             1,
             "#f0f921"
            ]
           ],
           "sequentialminus": [
            [
             0,
             "#0d0887"
            ],
            [
             0.1111111111111111,
             "#46039f"
            ],
            [
             0.2222222222222222,
             "#7201a8"
            ],
            [
             0.3333333333333333,
             "#9c179e"
            ],
            [
             0.4444444444444444,
             "#bd3786"
            ],
            [
             0.5555555555555556,
             "#d8576b"
            ],
            [
             0.6666666666666666,
             "#ed7953"
            ],
            [
             0.7777777777777778,
             "#fb9f3a"
            ],
            [
             0.8888888888888888,
             "#fdca26"
            ],
            [
             1,
             "#f0f921"
            ]
           ]
          },
          "colorway": [
           "#636efa",
           "#EF553B",
           "#00cc96",
           "#ab63fa",
           "#FFA15A",
           "#19d3f3",
           "#FF6692",
           "#B6E880",
           "#FF97FF",
           "#FECB52"
          ],
          "font": {
           "color": "#2a3f5f"
          },
          "geo": {
           "bgcolor": "white",
           "lakecolor": "white",
           "landcolor": "#E5ECF6",
           "showlakes": true,
           "showland": true,
           "subunitcolor": "white"
          },
          "hoverlabel": {
           "align": "left"
          },
          "hovermode": "closest",
          "mapbox": {
           "style": "light"
          },
          "paper_bgcolor": "white",
          "plot_bgcolor": "#E5ECF6",
          "polar": {
           "angularaxis": {
            "gridcolor": "white",
            "linecolor": "white",
            "ticks": ""
           },
           "bgcolor": "#E5ECF6",
           "radialaxis": {
            "gridcolor": "white",
            "linecolor": "white",
            "ticks": ""
           }
          },
          "scene": {
           "xaxis": {
            "backgroundcolor": "#E5ECF6",
            "gridcolor": "white",
            "gridwidth": 2,
            "linecolor": "white",
            "showbackground": true,
            "ticks": "",
            "zerolinecolor": "white"
           },
           "yaxis": {
            "backgroundcolor": "#E5ECF6",
            "gridcolor": "white",
            "gridwidth": 2,
            "linecolor": "white",
            "showbackground": true,
            "ticks": "",
            "zerolinecolor": "white"
           },
           "zaxis": {
            "backgroundcolor": "#E5ECF6",
            "gridcolor": "white",
            "gridwidth": 2,
            "linecolor": "white",
            "showbackground": true,
            "ticks": "",
            "zerolinecolor": "white"
           }
          },
          "shapedefaults": {
           "line": {
            "color": "#2a3f5f"
           }
          },
          "ternary": {
           "aaxis": {
            "gridcolor": "white",
            "linecolor": "white",
            "ticks": ""
           },
           "baxis": {
            "gridcolor": "white",
            "linecolor": "white",
            "ticks": ""
           },
           "bgcolor": "#E5ECF6",
           "caxis": {
            "gridcolor": "white",
            "linecolor": "white",
            "ticks": ""
           }
          },
          "title": {
           "x": 0.05
          },
          "xaxis": {
           "automargin": true,
           "gridcolor": "white",
           "linecolor": "white",
           "ticks": "",
           "title": {
            "standoff": 15
           },
           "zerolinecolor": "white",
           "zerolinewidth": 2
          },
          "yaxis": {
           "automargin": true,
           "gridcolor": "white",
           "linecolor": "white",
           "ticks": "",
           "title": {
            "standoff": 15
           },
           "zerolinecolor": "white",
           "zerolinewidth": 2
          }
         }
        },
        "title": {
         "text": "Evolution de la fonte dans le Four de Coulée au cours du temps"
        },
        "xaxis": {
         "title": {
          "text": "Time (minutes)"
         }
        },
        "yaxis": {
         "title": {
          "text": "PFC (kg)"
         }
        }
       }
      }
     },
     "metadata": {},
     "output_type": "display_data"
    }
   ],
   "source": [
    "# Plot_Prod(times, PFC_Prodvalues)\n",
    "Plot_consom(times, PFC_Consomvalues, tmin, tmax, PFCmin, PFCmax)"
   ]
  },
  {
   "cell_type": "code",
   "execution_count": null,
   "metadata": {},
   "outputs": [],
   "source": []
  },
  {
   "cell_type": "code",
   "execution_count": null,
   "metadata": {},
   "outputs": [],
   "source": []
  }
 ],
 "metadata": {
  "kernelspec": {
   "display_name": "Python 3",
   "language": "python",
   "name": "python3"
  },
  "language_info": {
   "codemirror_mode": {
    "name": "ipython",
    "version": 3
   },
   "file_extension": ".py",
   "mimetype": "text/x-python",
   "name": "python",
   "nbconvert_exporter": "python",
   "pygments_lexer": "ipython3",
   "version": "3.12.2"
  }
 },
 "nbformat": 4,
 "nbformat_minor": 2
}
