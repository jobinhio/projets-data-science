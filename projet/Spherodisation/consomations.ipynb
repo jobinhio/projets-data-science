{
 "cells": [
  {
   "cell_type": "code",
   "execution_count": null,
   "metadata": {},
   "outputs": [],
   "source": []
  },
  {
   "cell_type": "code",
   "execution_count": null,
   "metadata": {},
   "outputs": [],
   "source": []
  },
  {
   "cell_type": "code",
   "execution_count": null,
   "metadata": {},
   "outputs": [],
   "source": []
  },
  {
   "cell_type": "markdown",
   "metadata": {},
   "source": [
    "# Code \n"
   ]
  },
  {
   "cell_type": "code",
   "execution_count": null,
   "metadata": {},
   "outputs": [],
   "source": []
  },
  {
   "cell_type": "code",
   "execution_count": 202,
   "metadata": {},
   "outputs": [],
   "source": [
    "#### Variables Globales \n",
    "\n",
    "# Données initiales\n",
    "liste_cadences_moule_par_heure = [190, 190, 190, 210, 190, 190, 190, 190, 190]  # en unités/heure\n",
    "liste_quantites_moules_a_produire = [121, 50, 35, 10, 100, 50, 35, 50, 40]  # en unités\n",
    "liste_masses_grappes_moules = [41.2, 39.36, 15.6, 19.94, 41.20, 39.36, 15.60, 41.20, 29.65]  # en kg\n",
    "\n",
    "# Variables de simulation\n",
    "PFCmin = 2500 # en kg\n",
    "PFCmax = 5000 # en kg\n",
    "Mgmin = 0.035 # en %\n",
    "Mgmax = 0.045 # en %\n",
    "eC = 0.0005 # en %\n",
    "poche_i = 1250 # en kg\n",
    "tmin = 0 # en minutes\n",
    "tmax = 4*60 # en minutes\n",
    "temps_serie = 3  # en min\n",
    "temps_traitement = 10 # en min\n",
    "numPoche = 3\n",
    "numFours = 1\n",
    "\n",
    "# Dictionnaires pour stocker les variables et états\n",
    "cles = [\"chargement_et_fusion\", \"Four 1\", \"Four 2\", \"Four 3\", \"Four 4\", \"Four 5\"]\n",
    "times_dict = {cle: [] for cle in cles}\n",
    "PFCvalues_dict = {cle: [] for cle in cles}\n",
    "Mgvalues_dict = {cle: [] for cle in cles}\n",
    "\n",
    "\n",
    "\n",
    "\n",
    "PFC = 3750  # Initialisation de la fonte consommée\n",
    "Mg =  Mgmax  # Initialisation du pourcentage de Mg\n",
    "t = 0 # en minutes\n",
    "etat = \"etat_Consom\"  # État initial : production de moules\n",
    "\n",
    "temps_serie_courant = temps_serie\n",
    "\n",
    "\n",
    "\n",
    "# ------------------------------------------------\n",
    "\n",
    "\n",
    "def calcul_duree_limite_et_delai_traitement(Mg, PFC):\n",
    "    \"\"\"\n",
    "    Cette fonction calcule la durée limite avant l'épuisement de Mg ou de PFC et le délai avant de lancer la prochaine poche de traitement.\n",
    "\n",
    "    Args:\n",
    "    Mg (float): Quantité initiale de Mg.\n",
    "    PFC (float): Quantité initiale de PFC.\n",
    "\n",
    "    Returns:\n",
    "    int: DurreLimite, durée limite avant l'épuisement de Mg ou PFC.\n",
    "    int: delai_avt_traitement, délai avant de lancer la prochaine poche de traitement.\n",
    "    \"\"\"\n",
    "\n",
    "    # Constantes dans ce programme\n",
    "    global Mgmin, eC, PFCmin, temps_serie, temps_traitement\n",
    "    global liste_masses_grappes_moules, liste_cadences_moule_par_heure, liste_quantites_moules_a_produire\n",
    "\n",
    "    # Copie des listes pour éviter les modifications\n",
    "    masses_grappes = liste_masses_grappes_moules.copy()\n",
    "    cadences_moule = liste_cadences_moule_par_heure.copy()\n",
    "    quantites_moules = liste_quantites_moules_a_produire.copy()\n",
    "\n",
    "    ## on calcule le temps mis avant l'épuisement du MgDispo\n",
    "    # On calcule le pourcentage de Mg consommable\n",
    "    MgDispo = Mg - Mgmin\n",
    "    # On calcule le temps mis avant l'épuisement du MgDispo\n",
    "    DurreMg = MgDispo/eC\n",
    "\n",
    "    ## on calcule le temps avant l'épuisement de la fonte (DurrePFC)\n",
    "    # On calcule a fonte disponible pour la production de Moules\n",
    "    PFCDispo = PFC - PFCmin\n",
    "    PFCrestant = PFCDispo\n",
    "\n",
    "    # Avec le PFCDispo, on veux calculer la durée avant l'épuisement \n",
    "    # de la fonte disponible et aussi calcule masse de la fonte consommer\n",
    "    DurrePFC = 0\n",
    "    PFCrestant = PFCDispo\n",
    "    # Tant que l'on a de la fonte disponible\n",
    "    # while PFCrestant != 0 :\n",
    "    # while True:\n",
    "    while cadences_moule :\n",
    "        masse_grappe_i = masses_grappes[0]\n",
    "        cadence_moule_par_heure_i = cadences_moule[0]\n",
    "        quantite_moules_a_produire_i = quantites_moules[0]\n",
    "        # La cadence de consommation en kg/min du i-ème modèle\n",
    "        cadence_fonte_i = cadence_moule_par_heure_i / 60 * masse_grappe_i  # en kg/min\n",
    "        # Quantités de moules du i-ème modèle produits en une minute\n",
    "        cadence_moule_i = int(cadence_fonte_i / masse_grappe_i) # en unités/min\n",
    "        # on calcule le nombre de moules du i-ème modèle que l'on pourrait faire \n",
    "        # avec cette onte disponible\n",
    "        nbMoules_i = int(PFCrestant/masse_grappe_i)\n",
    "\n",
    "\n",
    "        # Si la fonte disponible permet de produire tous les moules du i-èmes modèles\n",
    "        if nbMoules_i >=  quantite_moules_a_produire_i :\n",
    "            # Alors on met à jour la fonte total consommer et la durée DurrePFC\n",
    "            #  après avoir produit tous les moules du i-ème modèles\n",
    "            PFCrestant -= quantite_moules_a_produire_i* masse_grappe_i # en kg\n",
    "            DurrePFC += quantite_moules_a_produire_i /cadence_moule_i # en min\n",
    "\n",
    "            # On change le modèle i par le modèle i+1\n",
    "            # Pendant ce changement, on atttend temps_Serie minutes\n",
    "            DurrePFC += temps_serie\n",
    "\n",
    "            # On passe au modèle i+1, donc on met à jour le programme des moules\n",
    "            masses_grappes.pop(0)\n",
    "            cadences_moule.pop(0)\n",
    "            quantites_moules.pop(0)\n",
    "\n",
    "        # Si la fonte disponible ne permet pas de produire tous les moules du i-èmes modèles\n",
    "        else :\n",
    "            # Alors on met à jour la fonte total consommer et la durée DurrePFC\n",
    "            # après avoir produit les moules du i-ème modèles que l'on peut faire\n",
    "            \n",
    "            PFCrestant -= nbMoules_i* masse_grappe_i # en kg\n",
    "            DurrePFC += nbMoules_i /cadence_moule_i # en min\n",
    "\n",
    "\n",
    "            # On met à jour le programme de productions des moules\n",
    "            quantites_moules[0] -= nbMoules_i\n",
    "\n",
    "            # Meme si le PFCrestant n'est pas exactement nul, \n",
    "            # on arrete la production de moules\n",
    "            break\n",
    "\n",
    "    \n",
    "    # On obient finalement la deadline (le temps dont on dispose)\n",
    "    # avant que Mg ou PFC devienne insufisant\n",
    "    DurreLimite = int(min(DurreMg,DurrePFC))  # en min\n",
    "\n",
    "    # On a aussi le delai dont on dispose avant de \n",
    "    # Lancer la prochaine poche de traitement\n",
    "    delai_avt_traitement = (DurreLimite - temps_traitement)\n",
    "\n",
    "    return DurreLimite, delai_avt_traitement\n",
    "\n",
    "\n",
    "def ProduirMoulesParMinute(Mg, PFC, quantite_moules_a_produire_i, cadence_fonte_i, cadence_moule_i):\n",
    "    \n",
    "    # Constantes dans ce programme\n",
    "    global Mgmin, eC, PFCmin, temps_serie, temps_traitement\n",
    "    # Variables dans ce programme\n",
    "    global liste_masses_grappes_moules, liste_cadences_moule_par_heure, liste_quantites_moules_a_produire\n",
    "\n",
    "    # Mise à jour du pourcentage de Mg et du poids fonte coulée\n",
    "    PFC -= cadence_fonte_i\n",
    "    Mg -= eC\n",
    "\n",
    "    if PFC > PFCmax:\n",
    "        print(\"On a dépassé la capacité du Four de Coulée\")\n",
    "    \n",
    "\n",
    "    quantite_moules_restants = quantite_moules_a_produire_i - cadence_moule_i\n",
    "\n",
    "    if debut < t < fin:\n",
    "        print(\"Ici2,t =\",t, Mg, PFC, cadence_fonte_i, quantite_moules_a_produire_i, quantite_moules_restants)\n",
    "\n",
    "    # On a fini de réaliser le i-ème modèle alors on passe au i+1-ème modèle\n",
    "    if quantite_moules_restants <= 0:\n",
    "        etat = \"etat_Serie\"\n",
    "        # Suppression des éléments déjà traités dans les listes\n",
    "        liste_masses_grappes_moules.pop(0)\n",
    "        liste_quantites_moules_a_produire.pop(0)\n",
    "        liste_cadences_moule_par_heure.pop(0)\n",
    "\n",
    "        # Si on a fini de tout produire alors on stoppe la procédure \n",
    "        # On passe à l'état Fin\n",
    "        if not liste_masses_grappes_moules:\n",
    "            etat = \"etat_Fin\"\n",
    "\n",
    "        if debut < t < fin:\n",
    "            print(\"Ici3,t =\",t, Mg, PFC, cadence_fonte_i, quantite_moules_a_produire_i, quantite_moules_restants)\n",
    "\n",
    "    # On a fini de réaliser le j-ème moule du i-ème modèle alors on passe au j-ème moule\n",
    "    # En restant dans l'état consommation \n",
    "    else:\n",
    "        if debut < t < fin:\n",
    "            print(\"Ici3,t =\",t, Mg, PFC, cadence_fonte_i, quantite_moules_a_produire_i, quantite_moules_restants)\n",
    "\n",
    "        liste_quantites_moules_a_produire[0] = quantite_moules_restants\n",
    "        etat = \"etat_Consom\"\n",
    "    \n",
    "    return Mg, PFC, etat\n",
    "\n",
    "\n"
   ]
  },
  {
   "cell_type": "code",
   "execution_count": 207,
   "metadata": {},
   "outputs": [
    {
     "name": "stdout",
     "output_type": "stream",
     "text": [
      "Avant L'ajout de la PT, il reste 10 0\n",
      "t =  0\n",
      "Ici1 0.045 3750 130.46666666666667 121\n",
      "Ici2,t = 0 0.0445 3619.5333333333333 130.46666666666667 121 118\n",
      "Ici3,t = 0 0.0445 3619.5333333333333 130.46666666666667 121 118\n",
      "Avant L'ajout de la PT, il reste 9 1\n",
      "t =  1\n",
      "Ici1 0.0445 3619.5333333333333 130.46666666666667 118\n",
      "Ici2,t = 1 0.044 3489.0666666666666 130.46666666666667 118 115\n",
      "Ici3,t = 1 0.044 3489.0666666666666 130.46666666666667 118 115\n",
      "Avant L'ajout de la PT, il reste 8 2\n",
      "t =  2\n",
      "Ici1 0.044 3489.0666666666666 130.46666666666667 115\n",
      "Ici2,t = 2 0.0435 3358.6 130.46666666666667 115 112\n",
      "Ici3,t = 2 0.0435 3358.6 130.46666666666667 115 112\n",
      "Avant L'ajout de la PT, il reste 7 3\n",
      "t =  3\n",
      "Ici1 0.0435 3358.6 130.46666666666667 112\n",
      "Ici2,t = 3 0.043 3228.133333333333 130.46666666666667 112 109\n",
      "Ici3,t = 3 0.043 3228.133333333333 130.46666666666667 112 109\n",
      "Avant L'ajout de la PT, il reste 6 4\n",
      "t =  4\n",
      "Ici1 0.043 3228.133333333333 130.46666666666667 109\n",
      "Ici2,t = 4 0.042499999999999996 3097.6666666666665 130.46666666666667 109 106\n",
      "Ici3,t = 4 0.042499999999999996 3097.6666666666665 130.46666666666667 109 106\n",
      "Avant L'ajout de la PT, il reste 5 5\n",
      "t =  5\n",
      "Ici1 0.042499999999999996 3097.6666666666665 130.46666666666667 106\n",
      "Ici2,t = 5 0.041999999999999996 2967.2 130.46666666666667 106 103\n",
      "Ici3,t = 5 0.041999999999999996 2967.2 130.46666666666667 106 103\n",
      "Avant L'ajout de la PT, il reste 4 6\n",
      "t =  6\n",
      "Ici1 0.041999999999999996 2967.2 130.46666666666667 103\n",
      "Ici2,t = 6 0.041499999999999995 2836.733333333333 130.46666666666667 103 100\n",
      "Ici3,t = 6 0.041499999999999995 2836.733333333333 130.46666666666667 103 100\n",
      "Avant L'ajout de la PT, il reste 3 7\n",
      "t =  7\n",
      "Ici1 0.041499999999999995 2836.733333333333 130.46666666666667 100\n",
      "Ici2,t = 7 0.040999999999999995 2706.2666666666664 130.46666666666667 100 97\n",
      "Ici3,t = 7 0.040999999999999995 2706.2666666666664 130.46666666666667 100 97\n",
      "Avant L'ajout de la PT, il reste 2 8\n",
      "t =  8\n",
      "Ici1 0.040999999999999995 2706.2666666666664 130.46666666666667 97\n",
      "Ici2,t = 8 0.040499999999999994 2575.7999999999997 130.46666666666667 97 94\n",
      "Ici3,t = 8 0.040499999999999994 2575.7999999999997 130.46666666666667 97 94\n",
      "Avant L'ajout de la PT, il reste 1 9\n",
      "t =  9\n",
      "Ici1 0.040499999999999994 2575.7999999999997 130.46666666666667 94\n",
      "on peut plus produire des moules (car Mg et PFC) 9\n",
      "Avant L'ajout de la PT, il reste 10 11\n",
      "Avant L'ajout de la PT, il reste 9 12\n",
      "Avant L'ajout de la PT, il reste 8 13\n",
      "Avant L'ajout de la PT, il reste 7 14\n",
      "Avant L'ajout de la PT, il reste 6 15\n",
      "Avant L'ajout de la PT, il reste 5 16\n",
      "Avant L'ajout de la PT, il reste 4 17\n",
      "Avant L'ajout de la PT, il reste 3 18\n",
      "Avant L'ajout de la PT, il reste 2 19\n",
      "Avant L'ajout de la PT, il reste 1 20\n",
      "on peut plus produire des moules (car Mg et PFC) 20\n",
      "Avant L'ajout de la PT, il reste 10 22\n",
      "Avant L'ajout de la PT, il reste 9 23\n",
      "Avant L'ajout de la PT, il reste 8 24\n",
      "Avant L'ajout de la PT, il reste 7 25\n",
      "Avant L'ajout de la PT, il reste 6 26\n",
      "Avant L'ajout de la PT, il reste 5 27\n",
      "Avant L'ajout de la PT, il reste 4 28\n",
      "Avant L'ajout de la PT, il reste 3 29\n",
      "Avant L'ajout de la PT, il reste 2 30\n",
      "on peut plus produire des moules (car Mg et PFC) 30\n",
      "Avant L'ajout de la PT, il reste 1 31\n",
      "on peut plus produire des moules (car Mg et PFC) 31\n",
      "Avant L'ajout de la PT, il reste 10 33\n",
      "Avant L'ajout de la PT, il reste 9 34\n",
      "Avant L'ajout de la PT, il reste 8 35\n",
      "Avant L'ajout de la PT, il reste 7 36\n",
      "Avant L'ajout de la PT, il reste 6 37\n",
      "Avant L'ajout de la PT, il reste 5 38\n",
      "Avant L'ajout de la PT, il reste 4 39\n",
      "Avant L'ajout de la PT, il reste 3 40\n",
      "Avant L'ajout de la PT, il reste 2 41\n",
      "Avant L'ajout de la PT, il reste 1 42\n",
      "on peut plus produire des moules (car Mg et PFC) 42\n",
      "Avant L'ajout de la PT, il reste 10 44\n",
      "Avant L'ajout de la PT, il reste 9 45\n",
      "Avant L'ajout de la PT, il reste 8 46\n",
      "Avant L'ajout de la PT, il reste 7 47\n",
      "Avant L'ajout de la PT, il reste 6 48\n",
      "Avant L'ajout de la PT, il reste 5 49\n",
      "Avant L'ajout de la PT, il reste 4 50\n",
      "Avant L'ajout de la PT, il reste 3 51\n",
      "Avant L'ajout de la PT, il reste 2 52\n",
      "Avant L'ajout de la PT, il reste 1 53\n",
      "Avant Lancement de la PT, il reste 2 55\n",
      "Avant L'ajout de la PT, il reste 12 55\n",
      "Avant Lancement de la PT, il reste 1 56\n",
      "Avant L'ajout de la PT, il reste 11 56\n",
      "Avant L'ajout de la PT, il reste 10 57\n",
      "Avant L'ajout de la PT, il reste 9 58\n",
      "Avant L'ajout de la PT, il reste 8 59\n",
      "Avant L'ajout de la PT, il reste 7 60\n",
      "Avant L'ajout de la PT, il reste 6 61\n",
      "Avant L'ajout de la PT, il reste 5 62\n",
      "Avant L'ajout de la PT, il reste 4 63\n",
      "Avant L'ajout de la PT, il reste 3 64\n",
      "Avant L'ajout de la PT, il reste 2 65\n",
      "on peut plus produire des moules (car Mg et PFC) 65\n",
      "Avant L'ajout de la PT, il reste 1 66\n",
      "on peut plus produire des moules (car Mg et PFC) 66\n",
      "Avant Lancement de la PT, il reste 9 68\n",
      "Avant L'ajout de la PT, il reste 19 68\n",
      "Avant Lancement de la PT, il reste 8 69\n",
      "Avant L'ajout de la PT, il reste 18 69\n",
      "Avant Lancement de la PT, il reste 7 70\n",
      "Avant L'ajout de la PT, il reste 17 70\n",
      "Avant Lancement de la PT, il reste 6 71\n",
      "Avant L'ajout de la PT, il reste 16 71\n",
      "Avant Lancement de la PT, il reste 5 72\n",
      "Avant L'ajout de la PT, il reste 15 72\n",
      "Avant Lancement de la PT, il reste 4 73\n",
      "Avant L'ajout de la PT, il reste 14 73\n",
      "Avant Lancement de la PT, il reste 3 74\n",
      "Avant L'ajout de la PT, il reste 13 74\n",
      "Avant Lancement de la PT, il reste 2 75\n",
      "Avant L'ajout de la PT, il reste 12 75\n",
      "Avant Lancement de la PT, il reste 1 76\n",
      "Avant L'ajout de la PT, il reste 11 76\n",
      "Avant L'ajout de la PT, il reste 10 77\n",
      "Avant L'ajout de la PT, il reste 9 78\n",
      "Avant L'ajout de la PT, il reste 8 79\n",
      "Avant L'ajout de la PT, il reste 7 80\n",
      "Avant L'ajout de la PT, il reste 6 81\n",
      "Avant L'ajout de la PT, il reste 5 82\n",
      "Avant L'ajout de la PT, il reste 4 83\n",
      "Avant L'ajout de la PT, il reste 3 84\n",
      "Avant L'ajout de la PT, il reste 2 85\n",
      "Avant L'ajout de la PT, il reste 1 86\n",
      "on peut plus produire des moules (car Mg et PFC) 86\n",
      "Avant Lancement de la PT, il reste 2 88\n",
      "Avant L'ajout de la PT, il reste 12 88\n",
      "Avant Lancement de la PT, il reste 1 89\n",
      "Avant L'ajout de la PT, il reste 11 89\n",
      "Avant L'ajout de la PT, il reste 10 90\n",
      "Avant L'ajout de la PT, il reste 9 91\n",
      "Avant L'ajout de la PT, il reste 8 92\n",
      "Avant L'ajout de la PT, il reste 7 93\n",
      "Avant L'ajout de la PT, il reste 6 94\n",
      "Avant L'ajout de la PT, il reste 5 95\n",
      "Avant L'ajout de la PT, il reste 4 96\n",
      "Avant L'ajout de la PT, il reste 3 97\n",
      "Avant L'ajout de la PT, il reste 2 98\n",
      "on peut plus produire des moules (car Mg et PFC) 98\n",
      "Avant L'ajout de la PT, il reste 1 99\n",
      "on peut plus produire des moules (car Mg et PFC) 99\n",
      "Avant L'ajout de la PT, il reste 10 101\n",
      "Avant L'ajout de la PT, il reste 9 102\n",
      "Avant L'ajout de la PT, il reste 8 103\n",
      "Avant L'ajout de la PT, il reste 7 104\n",
      "Avant L'ajout de la PT, il reste 6 105\n",
      "Avant L'ajout de la PT, il reste 5 106\n",
      "Avant L'ajout de la PT, il reste 4 107\n",
      "Avant L'ajout de la PT, il reste 3 108\n",
      "Avant L'ajout de la PT, il reste 2 109\n",
      "Avant L'ajout de la PT, il reste 1 110\n",
      "on peut plus produire des moules (car Mg et PFC) 110\n",
      "Avant L'ajout de la PT, il reste 10 112\n",
      "Avant L'ajout de la PT, il reste 9 113\n",
      "Avant L'ajout de la PT, il reste 8 114\n",
      "Avant L'ajout de la PT, il reste 7 115\n",
      "Avant L'ajout de la PT, il reste 6 116\n",
      "Avant L'ajout de la PT, il reste 5 117\n",
      "Avant L'ajout de la PT, il reste 4 118\n",
      "Avant L'ajout de la PT, il reste 3 119\n",
      "Avant L'ajout de la PT, il reste 2 120\n",
      "on peut plus produire des moules (car Mg et PFC) 120\n",
      "Avant L'ajout de la PT, il reste 1 121\n",
      "on peut plus produire des moules (car Mg et PFC) 121\n",
      "Avant Lancement de la PT, il reste 1 123\n",
      "Avant L'ajout de la PT, il reste 11 123\n",
      "Avant L'ajout de la PT, il reste 10 124\n",
      "Avant L'ajout de la PT, il reste 9 125\n",
      "Avant L'ajout de la PT, il reste 8 126\n",
      "Avant L'ajout de la PT, il reste 7 127\n",
      "Avant L'ajout de la PT, il reste 6 128\n",
      "Avant L'ajout de la PT, il reste 5 129\n",
      "Avant L'ajout de la PT, il reste 4 130\n",
      "Avant L'ajout de la PT, il reste 3 131\n",
      "Avant L'ajout de la PT, il reste 2 132\n",
      "Avant L'ajout de la PT, il reste 1 133\n",
      "on peut plus produire des moules (car Mg et PFC) 133\n",
      "Avant Lancement de la PT, il reste 4 135\n",
      "Avant L'ajout de la PT, il reste 14 135\n",
      "Avant Lancement de la PT, il reste 3 136\n",
      "Avant L'ajout de la PT, il reste 13 136\n",
      "Avant Lancement de la PT, il reste 2 137\n",
      "Avant L'ajout de la PT, il reste 12 137\n",
      "Avant Lancement de la PT, il reste 1 138\n",
      "Avant L'ajout de la PT, il reste 11 138\n",
      "Avant L'ajout de la PT, il reste 10 139\n",
      "Avant L'ajout de la PT, il reste 9 140\n",
      "Avant L'ajout de la PT, il reste 8 141\n",
      "Avant L'ajout de la PT, il reste 7 142\n",
      "Avant L'ajout de la PT, il reste 6 143\n",
      "Avant L'ajout de la PT, il reste 5 144\n",
      "Avant L'ajout de la PT, il reste 4 145\n",
      "Avant L'ajout de la PT, il reste 3 146\n",
      "Avant L'ajout de la PT, il reste 2 147\n",
      "on peut plus produire des moules (car Mg et PFC) 147\n",
      "Avant L'ajout de la PT, il reste 1 148\n",
      "on peut plus produire des moules (car Mg et PFC) 148\n",
      "Avant Lancement de la PT, il reste 6 150\n",
      "Avant L'ajout de la PT, il reste 16 150\n",
      "Avant Lancement de la PT, il reste 5 151\n",
      "Avant L'ajout de la PT, il reste 15 151\n",
      "Avant Lancement de la PT, il reste 4 152\n",
      "Avant L'ajout de la PT, il reste 14 152\n",
      "Avant Lancement de la PT, il reste 3 153\n",
      "Avant L'ajout de la PT, il reste 13 153\n",
      "Avant Lancement de la PT, il reste 2 154\n",
      "Avant L'ajout de la PT, il reste 12 154\n",
      "Avant Lancement de la PT, il reste 1 155\n",
      "Avant L'ajout de la PT, il reste 11 155\n",
      "Avant L'ajout de la PT, il reste 10 156\n",
      "Avant L'ajout de la PT, il reste 9 157\n",
      "Avant L'ajout de la PT, il reste 8 158\n",
      "Avant L'ajout de la PT, il reste 7 159\n",
      "Avant L'ajout de la PT, il reste 6 160\n",
      "Avant L'ajout de la PT, il reste 5 161\n",
      "Avant L'ajout de la PT, il reste 4 162\n",
      "Avant L'ajout de la PT, il reste 3 163\n",
      "Avant L'ajout de la PT, il reste 2 164\n",
      "Avant L'ajout de la PT, il reste 1 165\n",
      "on peut plus produire des moules (car Mg et PFC) 165\n",
      "Avant Lancement de la PT, il reste 1 167\n",
      "Avant L'ajout de la PT, il reste 11 167\n",
      "Avant L'ajout de la PT, il reste 10 168\n",
      "Avant L'ajout de la PT, il reste 9 169\n",
      "Avant L'ajout de la PT, il reste 8 170\n",
      "Avant L'ajout de la PT, il reste 7 171\n",
      "Avant L'ajout de la PT, il reste 6 172\n",
      "Avant L'ajout de la PT, il reste 5 173\n",
      "Avant L'ajout de la PT, il reste 4 174\n",
      "Avant L'ajout de la PT, il reste 3 175\n",
      "Avant L'ajout de la PT, il reste 2 176\n",
      "on peut plus produire des moules (car Mg et PFC) 176\n",
      "Avant L'ajout de la PT, il reste 1 177\n",
      "on peut plus produire des moules (car Mg et PFC) 177\n",
      "Avant Lancement de la PT, il reste 4 179\n",
      "Avant L'ajout de la PT, il reste 14 179\n",
      "Avant Lancement de la PT, il reste 3 180\n",
      "Avant L'ajout de la PT, il reste 13 180\n",
      "Avant Lancement de la PT, il reste 2 181\n",
      "Avant L'ajout de la PT, il reste 12 181\n",
      "Avant Lancement de la PT, il reste 1 182\n",
      "Avant L'ajout de la PT, il reste 11 182\n",
      "Avant L'ajout de la PT, il reste 10 183\n",
      "Avant L'ajout de la PT, il reste 9 184\n",
      "Avant L'ajout de la PT, il reste 8 185\n",
      "Avant L'ajout de la PT, il reste 7 186\n",
      "Avant L'ajout de la PT, il reste 6 187\n",
      "Avant L'ajout de la PT, il reste 5 188\n",
      "Avant L'ajout de la PT, il reste 4 189\n",
      "Avant L'ajout de la PT, il reste 3 190\n",
      "Avant L'ajout de la PT, il reste 2 191\n",
      "Avant L'ajout de la PT, il reste 1 192\n",
      "on peut plus produire des moules (car Mg et PFC) 192\n",
      "Avant L'ajout de la PT, il reste 2 194\n",
      "Avant L'ajout de la PT, il reste 1 195\n"
     ]
    }
   ],
   "source": [
    "# Données initiales\n",
    "liste_cadences_moule_par_heure = [190, 190, 190, 210, 190, 190, 190, 190, 190]  # en unités/heure\n",
    "liste_quantites_moules_a_produire = [121, 50, 35, 10, 100, 50, 35, 50, 40]  # en unités\n",
    "liste_masses_grappes_moules = [41.2, 39.36, 15.6, 19.94, 41.20, 39.36, 15.60, 41.20, 29.65]  # en kg\n",
    "PFC = 3750  # Initialisation de la fonte consommée\n",
    "Mg =  Mgmax  # Initialisation du pourcentage de Mg\n",
    "t = 0 # en minutes\n",
    "etat = \"etat_Consom\"  # État initial : production de moules\n",
    "\n",
    "temps_serie_courant = temps_serie\n",
    "numPoche = 3\n",
    "numFours = 1\n",
    "\n",
    "DurreLimite, delai_avt_traitement = calcul_duree_limite_et_delai_traitement(Mg, PFC)\n",
    "\n",
    "# Boucle de simulation\n",
    "while t < tmax :\n",
    "\n",
    "    # Les resultats des 2 boutons!!!\n",
    "    Fin_Panne = False\n",
    "    Panne = False\n",
    "    # Si l'utilisateur clique sur le bouton \"Debut Panne\"\n",
    "    ## Alors on est dans etat == \"etat_Panne\" \n",
    "    if Panne :\n",
    "        etat == \"etat_Panne\"\n",
    "\n",
    "\n",
    "    # Si l'utilisateur clique sur le bouton \"Fin Panne\"\n",
    "    ## Alors on est dans etat == \"etat_Consom\" \n",
    "    if Fin_Panne :\n",
    "        etat = \"etat_Consom\"\n",
    "\n",
    "\n",
    "    # Gestion de la poche de traitement\n",
    "    if DurreLimite <= 0:\n",
    "        PFC += poche_i\n",
    "        Mg = Mgmax\n",
    "        DurreLimite, delai_avt_traitement = calcul_duree_limite_et_delai_traitement(Mg, PFC)\n",
    "        print(\"Poche ajoutée, recalcul des délais:\", DurreLimite, delai_avt_traitement)\n",
    "    else:\n",
    "        if delai_avt_traitement <= 0:\n",
    "            print(\"Lancer le traitement !!\", t)\n",
    "        else:\n",
    "            print(\"Avant Lancement de la PT, il reste\", delai_avt_traitement, t)\n",
    "            delai_avt_traitement -= 1\n",
    "\n",
    "        print(\"Avant L'ajout de la PT, il reste\", DurreLimite, t)\n",
    "        DurreLimite -= 1\n",
    "    \n",
    "\n",
    "\n",
    "\n",
    "    if etat == \"etat_Consom\":\n",
    "        masse_grappe_i =liste_masses_grappes_moules[0]\n",
    "        cadence_moule_par_heure_i = liste_cadences_moule_par_heure[0]\n",
    "        quantite_moules_a_produire_i = liste_quantites_moules_a_produire[0]\n",
    "        # La cadence de consommation en kg/min du i-ème modèle\n",
    "        cadence_fonte_i = cadence_moule_par_heure_i / 60 * masse_grappe_i  # en kg/min\n",
    "        # Quantités de moules du i-ème modèle produits en une minute\n",
    "        cadence_moule_i = int(cadence_fonte_i / masse_grappe_i) # en unités/min\n",
    "\n",
    "\n",
    "        if  debut < t and  t < fin :\n",
    "            print(\"Ici1\", Mg, PFC, cadence_fonte_i,quantite_moules_a_produire_i)\n",
    "        \n",
    "        # Si l'on peut produire des moules (c-a-d Mg et PFC sont okay) alors on on le fait !!\n",
    "        if (PFC - cadence_fonte_i >= PFCmin) and (Mg - eC >= Mgmin):\n",
    "            Mg, PFC, etat = ProduirMoulesParMinute(Mg, PFC, quantite_moules_a_produire_i, cadence_fonte_i, cadence_moule_i)\n",
    "                \n",
    "        else:\n",
    "            print(\"on peut plus produire des moules (car Mg et PFC)\",t)     \n",
    "            if PFC > PFCmax :\n",
    "                print(\"On a depasser pas la capacité du Fours de Coulée\")     \n",
    "\n",
    "    elif etat == \"etat_Serie\":\n",
    "        # print(\"Changement de Serie\")\n",
    "        Mg -= eC\n",
    "        temps_serie_courant -= 1\n",
    "\n",
    "        if temps_serie_courant <= 0:\n",
    "            if  debut < t and  t < fin :\n",
    "                print(\"Fin Temps Serie\",Mg, PFC, cadence_fonte_i)\n",
    "            \n",
    "            temps_serie_courant = temps_serie\n",
    "            etat = \"etat_Consom\"\n",
    "        else:\n",
    "            etat == \"etat_Serie\" \n",
    "\n",
    "    elif etat == \"etat_Panne\":\n",
    "        Mg -= eC\n",
    "        etat == \"etat_Panne\"\n",
    "        if  debut < t and  t < fin :\n",
    "            print(\"Fin Panne\",Mg, PFC, cadence_fonte_i)\n",
    "\n",
    "    elif etat == \"etat_Fin\":\n",
    "        break\n",
    "    \n",
    "\n",
    "\n",
    "\n",
    "    \n",
    "\n",
    "    # Mise à jour du temps\n",
    "    t += 1\n",
    "    cle = \"Four 1\"\n",
    "    cle = f\"Four {numFours}\" \n",
    "    PFCvalues_dict[cle].append(PFC)\n",
    "    Mgvalues_dict[cle].append(Mg)\n",
    "    times_dict[cle].append(t)\n"
   ]
  },
  {
   "cell_type": "code",
   "execution_count": null,
   "metadata": {},
   "outputs": [],
   "source": []
  },
  {
   "cell_type": "code",
   "execution_count": null,
   "metadata": {},
   "outputs": [],
   "source": []
  },
  {
   "cell_type": "code",
   "execution_count": null,
   "metadata": {},
   "outputs": [],
   "source": [
    "    # Si c'est le moment de lancer le traitement de la poche \n",
    "    # ( delai_avt_traitement_courant <= 0 )\n",
    "    ## Alors dire à la fusion de lancer le traitement, \n",
    "    ## Puis dans DurreLimite_courant minutes, on ajoute la poche \n",
    "    ## On ajoute la poche dans l'etat consom, Serie uniquement\n",
    "    ## Peut-etre à la fin de la Panne\n",
    "    # print(\"t =\",t,DurreLimite_courant, delai_avt_traitement_courant)\n",
    "\n",
    "\n",
    "    # Si c'est le moment d'ajouter la Poche de Traitement\n",
    "    if DurreLimite <= 0 :\n",
    "        # alors on l'ajoute\n",
    "        PFC += poche_i\n",
    "        Mg = Mgmax\n",
    "    \n",
    "        # On calcule le delai du prochain Traitement \n",
    "        DurreLimite, delai_avt_traitement = calcul_duree_limite_et_delai_traitement(Mg, PFC)\n",
    "          \n",
    "    # Si c'est pas encrore le moment d'ajouter la Poche de Traitement\n",
    "    else :\n",
    "        # alors on dit quand ca serait le moment d'ajouter la Poche de Traitement\n",
    "     \n",
    "        # Si c'est le moment d'annoncer le lancer la Poche de Traitement\n",
    "        if delai_avt_traitement <= 0 :\n",
    "            pass\n",
    "            # alors on le dit \n",
    "            # print(\"Lancer le traitement !!\",t)\n",
    "\n",
    "        # Si c'est pas encrore le moment d'annoncer le lancer la Poche de Traitement\n",
    "        else :\n",
    "            # alors on dit quand ca serait le moment d'annoncer le lancer la Poche de Traitement\n",
    "            print(\"Avant Lancement de la PT, il reste\", delai_avt_traitement,t) \n",
    "\n",
    "            # On mets à jour le delai vu qu'une minute est écoulé\n",
    "            delai_avt_traitement -= 1\n",
    "\n",
    "        # alors on dit quand ca serait le moment d'ajouter la Poche de Traitement\n",
    "        print(\"Avant L'ajout de la PT, il reste\", DurreLimite,t) \n",
    "\n",
    "        # On mets à jour le delai vu qu'une minute est écoulé\n",
    "        DurreLimite -= 1\n",
    "\n"
   ]
  },
  {
   "cell_type": "code",
   "execution_count": null,
   "metadata": {},
   "outputs": [],
   "source": []
  },
  {
   "cell_type": "code",
   "execution_count": null,
   "metadata": {},
   "outputs": [],
   "source": []
  },
  {
   "cell_type": "code",
   "execution_count": 206,
   "metadata": {},
   "outputs": [
    {
     "name": "stdout",
     "output_type": "stream",
     "text": [
      "Avant L'ajout de la PT, il reste 9 avec t = 0\n",
      "Ici1,t = 0 0.045 3750 130.46666666666667 121\n",
      "Ici2,t = 0 0.0445 3619.5333333333333 130.46666666666667 121 118\n",
      "Ici3,t = 0 0.0445 3619.5333333333333 130.46666666666667 121 118\n",
      "Avant L'ajout de la PT, il reste 8 avec t = 1\n",
      "Ici1,t = 1 0.0445 3619.5333333333333 130.46666666666667 118\n",
      "Ici2,t = 1 0.044 3489.0666666666666 130.46666666666667 118 115\n",
      "Ici3,t = 1 0.044 3489.0666666666666 130.46666666666667 118 115\n",
      "Avant L'ajout de la PT, il reste 7 avec t = 2\n",
      "Ici1,t = 2 0.044 3489.0666666666666 130.46666666666667 115\n",
      "Ici2,t = 2 0.0435 3358.6 130.46666666666667 115 112\n",
      "Ici3,t = 2 0.0435 3358.6 130.46666666666667 115 112\n",
      "Avant L'ajout de la PT, il reste 6 avec t = 3\n",
      "Ici1,t = 3 0.0435 3358.6 130.46666666666667 112\n",
      "Ici2,t = 3 0.043 3228.133333333333 130.46666666666667 112 109\n",
      "Ici3,t = 3 0.043 3228.133333333333 130.46666666666667 112 109\n",
      "Avant L'ajout de la PT, il reste 5 avec t = 4\n",
      "Ici1,t = 4 0.043 3228.133333333333 130.46666666666667 109\n",
      "Ici2,t = 4 0.042499999999999996 3097.6666666666665 130.46666666666667 109 106\n",
      "Ici3,t = 4 0.042499999999999996 3097.6666666666665 130.46666666666667 109 106\n",
      "Avant L'ajout de la PT, il reste 4 avec t = 5\n",
      "Ici1,t = 5 0.042499999999999996 3097.6666666666665 130.46666666666667 106\n",
      "Ici2,t = 5 0.041999999999999996 2967.2 130.46666666666667 106 103\n",
      "Ici3,t = 5 0.041999999999999996 2967.2 130.46666666666667 106 103\n",
      "Avant L'ajout de la PT, il reste 3 avec t = 6\n",
      "Ici1,t = 6 0.041999999999999996 2967.2 130.46666666666667 103\n",
      "Ici2,t = 6 0.041499999999999995 2836.733333333333 130.46666666666667 103 100\n",
      "Ici3,t = 6 0.041499999999999995 2836.733333333333 130.46666666666667 103 100\n",
      "Avant L'ajout de la PT, il reste 2 avec t = 7\n",
      "Ici1,t = 7 0.041499999999999995 2836.733333333333 130.46666666666667 100\n",
      "Ici2,t = 7 0.040999999999999995 2706.2666666666664 130.46666666666667 100 97\n",
      "Ici3,t = 7 0.040999999999999995 2706.2666666666664 130.46666666666667 100 97\n",
      "Avant L'ajout de la PT, il reste 1 avec t = 8\n",
      "Ici1,t = 8 0.040999999999999995 2706.2666666666664 130.46666666666667 97\n",
      "Ici2,t = 8 0.040499999999999994 2575.7999999999997 130.46666666666667 97 94\n",
      "Ici3,t = 8 0.040499999999999994 2575.7999999999997 130.46666666666667 97 94\n",
      "Au moment de l'ajout de la PT, il reste 10 avec t = 9\n",
      "Ici1,t = 9 0.045 3825.7999999999997 130.46666666666667 94\n",
      "Ici2,t = 9 0.0445 3695.333333333333 130.46666666666667 94 91\n",
      "Ici3,t = 9 0.0445 3695.333333333333 130.46666666666667 94 91\n",
      "Lancement du traitement de la poche à t = 10\n",
      "Avant L'ajout de la PT, il reste 10 avec t = 10\n",
      "Lancement du traitement de la poche à t = 11\n",
      "Avant L'ajout de la PT, il reste 9 avec t = 11\n",
      "Lancement du traitement de la poche à t = 12\n",
      "Avant L'ajout de la PT, il reste 8 avec t = 12\n",
      "Lancement du traitement de la poche à t = 13\n",
      "Avant L'ajout de la PT, il reste 7 avec t = 13\n",
      "Lancement du traitement de la poche à t = 14\n",
      "Avant L'ajout de la PT, il reste 6 avec t = 14\n",
      "Lancement du traitement de la poche à t = 15\n",
      "Avant L'ajout de la PT, il reste 5 avec t = 15\n",
      "Lancement du traitement de la poche à t = 16\n",
      "Avant L'ajout de la PT, il reste 4 avec t = 16\n",
      "Lancement du traitement de la poche à t = 17\n",
      "Avant L'ajout de la PT, il reste 3 avec t = 17\n",
      "Lancement du traitement de la poche à t = 18\n",
      "Avant L'ajout de la PT, il reste 2 avec t = 18\n",
      "Lancement du traitement de la poche à t = 19\n",
      "Avant L'ajout de la PT, il reste 1 avec t = 19\n",
      "on ne peut plus produire des moules (car Mg et PFC) avec t = 19\n"
     ]
    }
   ],
   "source": []
  },
  {
   "cell_type": "code",
   "execution_count": null,
   "metadata": {},
   "outputs": [],
   "source": []
  },
  {
   "cell_type": "code",
   "execution_count": null,
   "metadata": {},
   "outputs": [],
   "source": []
  },
  {
   "cell_type": "code",
   "execution_count": null,
   "metadata": {},
   "outputs": [],
   "source": []
  },
  {
   "cell_type": "code",
   "execution_count": null,
   "metadata": {},
   "outputs": [],
   "source": []
  },
  {
   "cell_type": "code",
   "execution_count": null,
   "metadata": {},
   "outputs": [],
   "source": []
  },
  {
   "cell_type": "markdown",
   "metadata": {},
   "source": [
    "# Courbe interactive"
   ]
  },
  {
   "cell_type": "code",
   "execution_count": null,
   "metadata": {},
   "outputs": [],
   "source": [
    "import numpy as np\n",
    "import plotly.graph_objs as go\n",
    "import ipywidgets as widgets\n",
    "from IPython.display import display\n",
    "import asyncio\n",
    "import time\n",
    "\n",
    "def initialize_variables(initial_time_step, initial_t):\n",
    "    \"\"\"Initialise les variables de contrôle avec des paramètres.\"\"\"\n",
    "    global running, current_function, time_step, xdata, ydata, t\n",
    "    running = False\n",
    "    current_function = 0\n",
    "    time_step = initial_time_step\n",
    "    xdata = []\n",
    "    ydata = []\n",
    "    t = initial_t\n",
    "def create_figure():\n",
    "    \"\"\"Crée et configure la figure Plotly.\"\"\"\n",
    "    fig = go.FigureWidget()\n",
    "    scatter = fig.add_scatter(mode='lines+markers').data[0]\n",
    "    fig.update_layout(title=\"Courbe Interactive\", xaxis_title=\"Temps\", yaxis_title=\"Valeur\")\n",
    "    return fig, scatter\n",
    "\n",
    "async def update_data():\n",
    "    \"\"\"Fonction de mise à jour des données.\"\"\"\n",
    "    global running, current_function, time_step, xdata, ydata, t\n",
    "    while True:\n",
    "        if running:\n",
    "            \n",
    "            xdata.append(t)\n",
    "            if current_function == 0:\n",
    "                ydata.append(np.sin(t))\n",
    "            elif current_function == 1:\n",
    "                ydata.append(2)\n",
    "\n",
    "            with fig.batch_update():\n",
    "                scatter.update(x=xdata, y=ydata)\n",
    "                \n",
    "            t += time_step\n",
    "            time.sleep(0.5)\n",
    "        \n",
    "        await asyncio.sleep(time_step)\n",
    "\n",
    "def start_or_next_function(button):\n",
    "    \"\"\"Fonction pour démarrer ou changer la fonction.\"\"\"\n",
    "    global running, current_function\n",
    "    current_function = (current_function + 1) % 2\n",
    "    running = True\n",
    "\n",
    "def stop_plot(button):\n",
    "    \"\"\"Fonction pour arrêter la mise à jour.\"\"\"\n",
    "    global running\n",
    "    running = False\n",
    "\n",
    "def reset_plot(button):\n",
    "    \"\"\"Fonction pour réinitialiser les données et le temps t.\"\"\"\n",
    "    global running, xdata, ydata, t\n",
    "    running = False\n",
    "    xdata = []\n",
    "    ydata = []\n",
    "    t = 0\n",
    "    with fig.batch_update():\n",
    "        scatter.update(x=xdata, y=ydata)\n",
    "\n",
    "def create_buttons():\n",
    "    \"\"\"Crée les boutons interactifs.\"\"\"\n",
    "    start_button = widgets.Button(description=\"Start/Next Function\")\n",
    "    stop_button = widgets.Button(description=\"Stop\")\n",
    "    reset_button = widgets.Button(description=\"Reset\")\n",
    "\n",
    "    start_button.on_click(start_or_next_function)\n",
    "    stop_button.on_click(stop_plot)\n",
    "    reset_button.on_click(reset_plot)\n",
    "\n",
    "    display(widgets.HBox([start_button, stop_button, reset_button]), fig)\n",
    "\n",
    "def main(initial_time_step=1, initial_t=0):\n",
    "    \"\"\"Fonction principale pour démarrer l'application.\"\"\"\n",
    "    initialize_variables(initial_time_step, initial_t)\n",
    "    global fig, scatter\n",
    "    fig, scatter = create_figure()\n",
    "    create_buttons()\n",
    "    loop = asyncio.get_event_loop()\n",
    "    loop.create_task(update_data())\n",
    "\n",
    "# Appel de la fonction principale pour démarrer l'application\n",
    "main()\n"
   ]
  },
  {
   "cell_type": "markdown",
   "metadata": {},
   "source": [
    "# Simulation de la Production de Moules"
   ]
  },
  {
   "cell_type": "markdown",
   "metadata": {},
   "source": [
    "On a 4000 kg de fontes dans le four de Coulée avec un pourcentage de Mg = 0.0045 %.\n",
    "On consonmme 36 Kg de fonte par minute dans le four de Coulée.\n",
    "On perd 0.005 % de Mg par minute.\n",
    "\n",
    "Tu es un mathématicien et tu dois Tracer la courbe d'évolution du Mg\n",
    "dans le four de Coulée. \n",
    "\n",
    "Si tu as des questions ou s'il te manque certaines informations, n'hésite pas à me les demander !!\n",
    "\n",
    "Soit PFC_Consom, la fonte utiliser pour produire les moules \n",
    "Soit Mg, le pourcentage de Mg une  variable qui intervient lors de la production des moules\n",
    "Que l'on conservera dans un dictionnaire : times_dict, PFC_Consomvalues_dict, Mgvalues_dict\n",
    "\n",
    "Soit temps_serie, le temps mis pour passer au modeles suivant\n",
    "\n",
    "Soit PFCmin et Mgmin, la masse de fonte minimal et le pourcentage de Mg minimal\n",
    "que peuvent prendre PFC_Consom et Mg\n",
    "\n",
    "\n",
    "A chaque temps t, on a 4 états possibles:\n",
    " - Soit on produit des moules \n",
    " - Soit on change de modeles\n",
    " - Soit on est en Panne\n",
    " - Soit on est à la Fin\n",
    "\n",
    "Lors que l'on produit des moules :\n",
    "\n",
    "    Si etat est egal à etat_Consom alors # On verifie que l'on est en etat consommation dans le temps\n",
    "\n",
    "        si PFC_Consom - cadence_consommation_kg_min et Mg - 0.0005  >= PFCmin et Mgmin alors  # Si l'on peut consommer alors on le fait !!\n",
    "            \n",
    "            PFC_Consom -= cadence_consommation_kg_min et Mg -= 0.0005\n",
    "\n",
    "            # Quantité de moules du i-ème modèle produits en une minute\n",
    "            cadence_moule_par_minute = cadence_consommation_kg_min / masse_grappe_moule  # en unités/min\n",
    "\n",
    "            # Quantité de moules restants du i-ème modèle après une minute\n",
    "            quantite_moules_restants = quantite_moules_a_produire - cadence_moule_par_minute # en unités\n",
    "\n",
    "            # on met à jour liste_quantites_moules_a_produire et liste_masses_grappes_moules\n",
    "            si quantite_moules_restants est nul alors \n",
    "                - Le temps passe a l'etat changement de Modeles\n",
    "                - on passe au modele suivant dans les listes : \n",
    "                    # Suppression des éléments déjà traités dans les listes\n",
    "                    liste_masses_grappes_moules.pop(0)\n",
    "                    liste_quantites_moules_a_produire.pop(0)\n",
    "                    liste_cadences_moule_par_heure.pop(0)\n",
    "            sinon \n",
    "                - remplacer quantite_moules_a_produire par quantite_moules_restants\n",
    "                - Le temps reste a l'etat on produit des moules\n",
    "\n",
    "            si liste_masses_grappes_moules est vide alors \n",
    "                - Le temps passe a l'etat Fin ( on arrete toute la proccedure )\n",
    "                \n",
    "\n",
    "        Sinon # Si l'on ne peut pas consommer alors on rajoute de la fonte venant de la poche et on consomme\n",
    "            PFC_Consom += 1250 et Mg = 0.0045 # on rajoute de la fonte venant de la poche \n",
    "\n",
    "            # Maintenant on peut consommer !!\n",
    "            PFC_Consom -= cadence_consommation_kg_min et Mg -= 0.0005\n",
    "\n",
    "            # Quantité de moules du i-ème modèle produits en une minute\n",
    "            cadence_moule_par_minute = cadence_consommation_kg_min / masse_grappe_moule  # en unités/min\n",
    "\n",
    "            # Quantité de moules restants du i-ème modèle après une minute\n",
    "            quantite_moules_restants = quantite_moules_a_produire - cadence_moule_par_minute # en unités\n",
    "\n",
    "            # on met à jour liste_quantites_moules_a_produire et liste_masses_grappes_moules\n",
    "            si quantite_moules_restants est nul alors \n",
    "                - Le temps passe a l'etat changement de Modeles\n",
    "                - on passe au modele suivant dans les listes : \n",
    "                    # Suppression des éléments déjà traités dans les listes\n",
    "                    liste_masses_grappes_moules.pop(0)\n",
    "                    liste_quantites_moules_a_produire.pop(0)\n",
    "                    liste_cadences_moule_par_heure.pop(0)\n",
    "            sinon \n",
    "                - remplacer quantite_moules_a_produire par quantite_moules_restants\n",
    "                - Le temps reste a l'etat on produit des moules\n",
    "\n",
    "            si liste_masses_grappes_moules est vide alors \n",
    "                - Le temps passe a l'etat Fin ( on arrete toute la proccedure )\n",
    "\n",
    "\n",
    "\n",
    "Lors que l'on change de modeles :\n",
    "\n",
    "    Si etat est egal à etat_Serie alors # On verifie que l'on est en etat Changement de Serie dans le temps\n",
    "        Mg -= 0.0005 # Mg perd son pourcentage\n",
    "        temps_serie -= 1 # On decremente temps_serie de 1   \n",
    "\n",
    "        Si FC_Consom - cadence_consommation_kg_min et Mg - 0.0005  <= PFCmin et Mgmin alors  # Si l'on ne peut pas consommer alors on ajoute de la fonte !!\n",
    "            PFC_Consom += 1250 et Mg = 0.0045 # on rajoute de la fonte venant de la poche \n",
    "    \n",
    "        Si PFC_Consom >= PFCMax :\n",
    "            \"Error on est bloqué\"\n",
    "\n",
    "        Si temps_serie est nul alors \n",
    "            - Le temps passe à l'état produire des moules\n",
    "        Sinon \n",
    "            - Le temps reste à temps_serie \n",
    "\n",
    "\n",
    "\n",
    "Lors que l'on est en Panne :\n",
    "\n",
    "    Si etat est egal à etat_Panne alors # On verifie que l'on est en etat panne dans le temps\n",
    "        Mg -= 0.0005 #Mg perd son pourcentage\n",
    "        temps_Panne -= 1 # On decremente temps_Panne de 1   \n",
    "        Si temps_Panne est nul alors \n",
    "            - Le temps passe à l'état produire des moules\n",
    "        Sinon \n",
    "            - Le temps reste à temps_panne \n",
    "\n",
    "\n",
    "\n",
    "Remarques : \n",
    "    L'utilisateur doit avoir un bouton pour pouvoir activer l'etat en Panne"
   ]
  },
  {
   "cell_type": "code",
   "execution_count": null,
   "metadata": {},
   "outputs": [],
   "source": []
  },
  {
   "cell_type": "code",
   "execution_count": 93,
   "metadata": {},
   "outputs": [],
   "source": [
    "# Données initiales\n",
    "liste_cadences_moule_par_heure = [190, 190, 190, 210, 190, 190, 190, 190, 190]  # en unités/heure\n",
    "liste_quantites_moules_a_produire = [121, 50, 35, 10, 100, 50, 35, 50, 40]  # en unités\n",
    "liste_masses_grappes_moules = [41.2, 39.36, 15.6, 19.94, 41.20, 39.36, 15.60, 41.20, 29.65]  # en kg\n",
    "\n",
    "# Variables de simulation\n",
    "PFCmin = 2500 # en kg\n",
    "PFCmax = 5000 # en kg\n",
    "Mgmin = 0.035 # en %\n",
    "Mgmax = 0.045 # en %\n",
    "eC = 0.0005 # en %\n",
    "poche_i = 1250 # en kg\n",
    "tmin = 0 # en minutes\n",
    "t = 0 # en minutes\n",
    "\n",
    "\n",
    "temps_serie = 10  # Initialisation du temps pour changer de modèle\n",
    "temps_Panne = 10  # Initialisation du temps pour la panne\n",
    "\n",
    "# Dictionnaires pour stocker les variables et états\n",
    "cles = [\"chargement_et_fusion\", \"Four 1\", \"Four 2\", \"Four 3\", \"Four 4\", \"Four 5\"]\n",
    "times_dict = {cle: [] for cle in cles}\n",
    "PFC_Consomvalues_dict = {cle: [] for cle in cles}\n",
    "Mgvalues_dict = {cle: [] for cle in cles}\n",
    "\n",
    "\n",
    "PFC_Consom = 3750  # Initialisation de la fonte consommée\n",
    "Mg =  Mgmax  # Initialisation du pourcentage de Mg\n",
    "tmax = 4*60 # en minutes\n",
    "\n",
    "# Initialisation des états\n",
    "etat = \"etat_Consom\"  # État initial : production de moules\n",
    "\n",
    "temps_serie_courant = temps_serie\n",
    "temps_Panne_courant = temps_Panne\n",
    "numPoche = 3\n",
    "numFours = 1\n",
    "\n",
    "\n",
    "\n",
    "#  if  debut < t and  t > fin :\n",
    "debut,fin = 73,73\n",
    "\n",
    "\n",
    "def ProduirMoulesParMinute(Mg, PFC_Consom, quantite_moules_a_produire, cadence_consommation_kg_min, cadence_moule_par_minute):\n",
    "    \n",
    "    # Mise à jour du pourcentage de Mg et du poids fonte coulée\n",
    "    PFC_Consom -= cadence_consommation_kg_min\n",
    "    Mg -= eC\n",
    "\n",
    "    if PFC_Consom > PFCmax:\n",
    "        print(\"On a dépassé la capacité du Four de Coulée\")\n",
    "    \n",
    "\n",
    "    quantite_moules_restants = quantite_moules_a_produire - cadence_moule_par_minute\n",
    "\n",
    "    if debut < t < fin:\n",
    "        print(\"Ici2\", Mg, PFC_Consom, cadence_consommation_kg_min, quantite_moules_a_produire, quantite_moules_restants)\n",
    "\n",
    "    # On a fini de réaliser le i-ème modèle alors on passe au i+1-ème modèle\n",
    "    if quantite_moules_restants <= 0:\n",
    "        etat = \"etat_Serie\"\n",
    "        # Suppression des éléments déjà traités dans les listes\n",
    "        liste_masses_grappes_moules.pop(0)\n",
    "        liste_quantites_moules_a_produire.pop(0)\n",
    "        liste_cadences_moule_par_heure.pop(0)\n",
    "\n",
    "        # Si on a fini de tout produire alors on stoppe la procédure \n",
    "        # On passe à l'état Fin\n",
    "        if not liste_masses_grappes_moules:\n",
    "            etat = \"etat_Fin\"\n",
    "\n",
    "        if debut < t < fin:\n",
    "            print(\"Ici3\", Mg, PFC_Consom, cadence_consommation_kg_min, quantite_moules_a_produire, quantite_moules_restants)\n",
    "\n",
    "    # On a fini de réaliser le j-ème moule du i-ème modèle alors on passe au j-ème moule\n",
    "    # En restant dans l'état consommation \n",
    "    else:\n",
    "        if debut < t < fin:\n",
    "            print(\"Ici3\", Mg, PFC_Consom, cadence_consommation_kg_min, quantite_moules_a_produire, quantite_moules_restants)\n",
    "\n",
    "        liste_quantites_moules_a_produire[0] = quantite_moules_restants\n",
    "        etat = \"etat_Consom\"\n",
    "    \n",
    "    return Mg, PFC_Consom, etat\n",
    "\n",
    "\n",
    "# Boucle de simulation\n",
    "while t < tmax :\n",
    "    if etat == \"etat_Consom\":\n",
    "        masse_grappe_moule = liste_masses_grappes_moules[0] \n",
    "        cadence_moule_par_heure = liste_cadences_moule_par_heure[0]\n",
    "        quantite_moules_a_produire  = liste_quantites_moules_a_produire[0]\n",
    "        \n",
    "        # La cadence de consommation en kg/min du i-ème modèle\n",
    "        cadence_consommation_kg_min = cadence_moule_par_heure / 60 * masse_grappe_moule  # en kg/min\n",
    "\n",
    "        # Quantités de moules du i-ème modèle produits en une minute\n",
    "        cadence_moule_par_minute = cadence_consommation_kg_min / masse_grappe_moule # en unités/min\n",
    "        \n",
    "        if  debut < t and  t < fin :\n",
    "            print('t = ',t)\n",
    "            print(\"Ici1\", Mg, PFC_Consom, cadence_consommation_kg_min,quantite_moules_a_produire)\n",
    "        \n",
    "        # Si l'on peut produire des moules (c-a-d Mg et PFC sont okay) alors on on le fait !!\n",
    "        if (PFC_Consom - cadence_consommation_kg_min >= PFCmin) and (Mg - eC >= Mgmin):\n",
    "            \n",
    "            Mg, PFC_Consom, etat = ProduirMoulesParMinute(Mg, PFC_Consom, quantite_moules_a_produire, cadence_consommation_kg_min, cadence_moule_par_minute)\n",
    "                \n",
    "        else:\n",
    "            # Ajout poche car Mg ou PFC insuffisant !!\n",
    "            PFC_Consom += poche_i\n",
    "            Mg = Mgmax \n",
    "\n",
    "\n",
    "            Mg, PFC_Consom, etat = ProduirMoulesParMinute(Mg, PFC_Consom, quantite_moules_a_produire, cadence_consommation_kg_min, cadence_moule_par_minute)\n",
    "            \n",
    "\n",
    "            if numPoche < 4:\n",
    "                numPoche += 1\n",
    "            else :\n",
    "                numPoche = 1\n",
    "                numFours += 1\n",
    "\n",
    "\n",
    "            if PFC_Consom > PFCmax :\n",
    "                print(\"On a depasser pas la capacité du Fours de Coulée\")     \n",
    "\n",
    "    elif etat == \"etat_Serie\":\n",
    "        # print(\"Changement de Serie\")\n",
    "        Mg -= eC\n",
    "        temps_serie_courant -= 1\n",
    "        \n",
    "        # Si le Mg n'est pas bon alors on ajoute de la fonte pour la prochaine serie !! \n",
    "        if (PFC_Consom - cadence_consommation_kg_min <= PFCmin) and (Mg - eC <= Mgmin):\n",
    "            PFC_Consom += poche_i\n",
    "            Mg = Mgmax\n",
    "            print(\"Mg pas bon pendant le changement de Serie\") \n",
    "\n",
    "        if temps_serie_courant <= 0:\n",
    "            if  debut < t and  t < fin :\n",
    "                print(\"Fin Temps Serie\",Mg, PFC_Consom, cadence_consommation_kg_min)\n",
    "            \n",
    "            temps_serie_courant = temps_serie\n",
    "            etat = \"etat_Consom\"\n",
    "        else:\n",
    "            etat == \"etat_Serie\" \n",
    "\n",
    "    elif etat == \"etat_Panne\":\n",
    "        Mg -= eC\n",
    "        temps_Panne_courant -= 1\n",
    "        \n",
    "        if temps_Panne_courant <= 0:\n",
    "            etat = \"etat_Consom\"\n",
    "            if  debut < t and  t < fin :\n",
    "                print(\"Fin Panne\",Mg, PFC_Consom, cadence_consommation_kg_min)\n",
    "            temps_Panne_courant = temps_Panne\n",
    "        else:\n",
    "            etat == \"etat_Panne\"\n",
    "\n",
    "    elif etat == \"etat_Fin\":\n",
    "        break\n",
    "    \n",
    "    # Calcul du delai_avt_traitement et DurreLimite\n",
    "    DurreLimite = DurreLimite\n",
    "    delai_avt_traitement = delai_avt_traitement\n",
    "\n",
    "    \n",
    "\n",
    "    # Mise à jour du temps\n",
    "    t += 1\n",
    "    cle = \"Four 1\"\n",
    "    cle = f\"Four {numFours}\" \n",
    "    PFC_Consomvalues_dict[cle].append(PFC_Consom)\n",
    "    Mgvalues_dict[cle].append(Mg)\n",
    "    times_dict[cle].append(t)\n",
    "\n"
   ]
  },
  {
   "cell_type": "code",
   "execution_count": 94,
   "metadata": {},
   "outputs": [
    {
     "data": {
      "application/vnd.plotly.v1+json": {
       "config": {
        "plotlyServerURL": "https://plot.ly"
       },
       "data": [
        {
         "line": {
          "color": "royalblue"
         },
         "mode": "lines",
         "name": "PFC over time (chargement_et_fusion)",
         "type": "scatter",
         "x": [],
         "y": []
        },
        {
         "line": {
          "color": "firebrick"
         },
         "mode": "lines",
         "name": "PFC over time (Four 1)",
         "type": "scatter",
         "x": [
          1,
          2,
          3,
          4,
          5,
          6,
          7,
          8,
          9,
          10,
          11,
          12,
          13,
          14,
          15,
          16,
          17,
          18,
          19
         ],
         "y": [
          3619.5333333333333,
          3489.0666666666666,
          3358.6,
          3228.133333333333,
          3097.6666666666665,
          2967.2,
          2836.733333333333,
          2706.2666666666664,
          2575.7999999999997,
          3695.333333333333,
          3564.8666666666663,
          3434.3999999999996,
          3303.933333333333,
          3173.4666666666662,
          3042.9999999999995,
          2912.533333333333,
          2782.066666666666,
          2651.5999999999995,
          2521.1333333333328
         ]
        },
        {
         "line": {
          "color": "green"
         },
         "mode": "lines",
         "name": "PFC over time (Four 2)",
         "type": "scatter",
         "x": [
          19,
          20,
          21,
          22,
          23,
          24,
          25,
          26,
          27,
          28,
          29,
          30,
          31,
          32,
          33,
          34,
          35,
          36,
          37,
          38,
          39,
          40,
          41,
          42,
          43,
          44,
          45,
          46,
          47,
          48,
          49,
          50,
          51,
          52,
          53,
          54,
          55,
          56,
          57,
          58,
          59,
          60,
          61,
          62,
          63,
          64,
          65,
          66,
          67,
          68,
          69,
          70,
          71,
          72,
          73,
          74,
          75,
          76
         ],
         "y": [
          2521.1333333333328,
          3640.666666666666,
          3510.1999999999994,
          3379.7333333333327,
          3249.266666666666,
          3118.7999999999993,
          2988.3333333333326,
          2857.866666666666,
          2727.399999999999,
          2596.9333333333325,
          3716.466666666666,
          3585.999999999999,
          3455.5333333333324,
          3325.0666666666657,
          3194.599999999999,
          3064.1333333333323,
          2933.6666666666656,
          2803.199999999999,
          2672.733333333332,
          2542.2666666666655,
          3661.799999999999,
          3661.799999999999,
          3661.799999999999,
          3661.799999999999,
          3661.799999999999,
          3661.799999999999,
          3661.799999999999,
          3661.799999999999,
          3661.799999999999,
          3661.799999999999,
          3661.799999999999,
          3537.159999999999,
          3412.519999999999,
          3287.879999999999,
          3163.2399999999993,
          3038.5999999999995,
          2913.9599999999996,
          2789.3199999999997,
          2664.68,
          3790.04,
          3665.4,
          3540.76,
          3416.1200000000003,
          3291.4800000000005,
          3166.8400000000006,
          3042.2000000000007,
          2917.560000000001,
          2917.560000000001,
          2917.560000000001,
          2917.560000000001,
          2917.560000000001,
          2917.560000000001,
          2917.560000000001,
          2917.560000000001,
          2917.560000000001,
          2917.560000000001,
          2917.560000000001,
          2868.1600000000008
         ]
        },
        {
         "line": {
          "color": "orange"
         },
         "mode": "lines",
         "name": "PFC over time (Four 3)",
         "type": "scatter",
         "x": [
          76,
          77,
          78,
          79,
          80,
          81,
          82,
          83,
          84,
          85,
          86,
          87,
          88,
          89,
          90,
          91,
          92,
          93,
          94,
          95,
          96,
          97,
          98,
          99,
          100,
          101,
          102,
          103,
          104,
          105,
          106,
          107,
          108,
          109,
          110,
          111,
          112,
          113,
          114,
          115,
          116,
          117,
          118,
          119,
          120,
          121,
          122,
          123,
          124,
          125,
          126,
          127,
          128,
          129,
          130,
          131,
          132,
          133,
          134,
          135,
          136,
          137,
          138,
          139,
          140,
          141,
          142,
          143,
          144,
          145,
          146,
          147,
          148,
          149,
          150,
          151,
          152,
          153,
          154
         ],
         "y": [
          2868.1600000000008,
          4068.7600000000007,
          4019.3600000000006,
          3969.9600000000005,
          3920.5600000000004,
          3871.1600000000003,
          3821.76,
          3772.36,
          3722.96,
          3673.56,
          3624.16,
          3574.7599999999998,
          3574.7599999999998,
          3574.7599999999998,
          3574.7599999999998,
          3574.7599999999998,
          3574.7599999999998,
          3574.7599999999998,
          3574.7599999999998,
          3574.7599999999998,
          3574.7599999999998,
          3574.7599999999998,
          4754.97,
          4685.18,
          4615.39,
          4615.39,
          4615.39,
          4615.39,
          4615.39,
          4615.39,
          4615.39,
          4615.39,
          4615.39,
          4615.39,
          4615.39,
          4484.923333333334,
          4354.456666666668,
          4223.990000000002,
          4093.523333333335,
          3963.056666666668,
          3832.5900000000015,
          4952.123333333336,
          4821.6566666666695,
          4691.190000000003,
          4560.723333333337,
          4430.256666666671,
          4299.7900000000045,
          4169.323333333338,
          4038.8566666666716,
          3908.390000000005,
          3777.923333333338,
          3647.4566666666715,
          3516.990000000005,
          3386.523333333338,
          3256.0566666666714,
          3125.5900000000047,
          2995.123333333338,
          2864.6566666666713,
          2734.1900000000046,
          2603.723333333338,
          3723.256666666671,
          3592.7900000000045,
          3462.323333333338,
          3331.856666666671,
          3201.3900000000044,
          3070.9233333333377,
          2940.456666666671,
          2940.456666666671,
          2940.456666666671,
          2940.456666666671,
          2940.456666666671,
          2940.456666666671,
          2940.456666666671,
          2940.456666666671,
          2940.456666666671,
          2940.456666666671,
          2940.456666666671,
          2815.816666666671,
          2691.1766666666713
         ]
        },
        {
         "line": {
          "color": "purple"
         },
         "mode": "lines",
         "name": "PFC over time (Four 4)",
         "type": "scatter",
         "x": [
          154,
          155,
          156,
          157,
          158,
          159,
          160,
          161,
          162,
          163,
          164,
          165,
          166,
          167,
          168,
          169,
          170,
          171,
          172,
          173,
          174,
          175,
          176,
          177,
          178,
          179,
          180,
          181,
          182,
          183,
          184,
          185,
          186,
          187,
          188,
          189,
          190,
          191,
          192,
          193,
          194,
          195,
          196,
          197,
          198,
          199,
          200,
          201,
          202,
          203,
          204,
          205,
          206,
          207,
          208,
          209,
          210,
          211,
          212,
          213,
          214,
          215,
          216,
          217,
          218,
          219,
          220,
          221,
          222,
          223,
          224,
          225,
          226
         ],
         "y": [
          2691.1766666666713,
          3816.5366666666714,
          3691.8966666666715,
          3567.2566666666717,
          3442.616666666672,
          3317.976666666672,
          3193.336666666672,
          3068.696666666672,
          2944.0566666666723,
          2819.4166666666724,
          2694.7766666666726,
          2570.1366666666727,
          3695.496666666673,
          3570.856666666673,
          3446.216666666673,
          3446.216666666673,
          3446.216666666673,
          3446.216666666673,
          3446.216666666673,
          3446.216666666673,
          3446.216666666673,
          3446.216666666673,
          3446.216666666673,
          3446.216666666673,
          3446.216666666673,
          3396.816666666673,
          3347.416666666673,
          3298.016666666673,
          3248.6166666666727,
          3199.2166666666726,
          3149.8166666666725,
          4350.416666666673,
          4301.016666666674,
          4251.616666666674,
          4202.216666666674,
          4152.816666666675,
          4103.416666666675,
          4103.416666666675,
          4103.416666666675,
          4103.416666666675,
          4103.416666666675,
          4103.416666666675,
          4103.416666666675,
          4103.416666666675,
          4103.416666666675,
          4103.416666666675,
          4103.416666666675,
          3972.9500000000085,
          3842.4833333333418,
          3712.016666666675,
          4831.550000000009,
          4701.083333333343,
          4570.616666666677,
          4440.150000000011,
          4309.683333333344,
          4179.216666666678,
          4048.7500000000114,
          3918.2833333333447,
          3787.816666666678,
          3657.3500000000113,
          3526.8833333333446,
          3396.416666666678,
          3265.950000000011,
          3265.950000000011,
          3265.950000000011,
          3265.950000000011,
          3265.950000000011,
          3265.950000000011,
          3265.950000000011,
          3265.950000000011,
          3265.950000000011,
          3265.950000000011,
          3265.950000000011
         ]
        },
        {
         "line": {
          "color": "royalblue"
         },
         "mode": "lines",
         "name": "PFC over time (Four 5)",
         "type": "scatter",
         "x": [
          226,
          227,
          228,
          229,
          230,
          231,
          232,
          233,
          234,
          235,
          236,
          237,
          238,
          239
         ],
         "y": [
          3265.950000000011,
          4422.058333333345,
          4328.166666666679,
          4234.275000000012,
          4140.383333333346,
          4046.4916666666795,
          3952.600000000013,
          3858.7083333333467,
          3764.8166666666802,
          3670.925000000014,
          3577.0333333333474,
          3483.141666666681,
          3389.2500000000146,
          3295.358333333348
         ]
        }
       ],
       "layout": {
        "annotations": [
         {
          "arrowhead": 2,
          "ax": 20,
          "ay": -30,
          "showarrow": true,
          "text": "PFCmin",
          "x": 239,
          "xref": "x",
          "y": 2500,
          "yref": "y"
         },
         {
          "arrowhead": 2,
          "ax": 20,
          "ay": -30,
          "showarrow": true,
          "text": "PFCmax",
          "x": 239,
          "xref": "x",
          "y": 5000,
          "yref": "y"
         }
        ],
        "shapes": [
         {
          "line": {
           "color": "firebrick",
           "dash": "dash",
           "width": 2
          },
          "name": "PFCmin",
          "type": "line",
          "x0": 1,
          "x1": 239,
          "y0": 2500,
          "y1": 2500
         },
         {
          "line": {
           "color": "green",
           "dash": "dash",
           "width": 2
          },
          "name": "PFCmax",
          "type": "line",
          "x0": 1,
          "x1": 239,
          "y0": 5000,
          "y1": 5000
         }
        ],
        "showlegend": true,
        "template": {
         "data": {
          "bar": [
           {
            "error_x": {
             "color": "#2a3f5f"
            },
            "error_y": {
             "color": "#2a3f5f"
            },
            "marker": {
             "line": {
              "color": "#E5ECF6",
              "width": 0.5
             },
             "pattern": {
              "fillmode": "overlay",
              "size": 10,
              "solidity": 0.2
             }
            },
            "type": "bar"
           }
          ],
          "barpolar": [
           {
            "marker": {
             "line": {
              "color": "#E5ECF6",
              "width": 0.5
             },
             "pattern": {
              "fillmode": "overlay",
              "size": 10,
              "solidity": 0.2
             }
            },
            "type": "barpolar"
           }
          ],
          "carpet": [
           {
            "aaxis": {
             "endlinecolor": "#2a3f5f",
             "gridcolor": "white",
             "linecolor": "white",
             "minorgridcolor": "white",
             "startlinecolor": "#2a3f5f"
            },
            "baxis": {
             "endlinecolor": "#2a3f5f",
             "gridcolor": "white",
             "linecolor": "white",
             "minorgridcolor": "white",
             "startlinecolor": "#2a3f5f"
            },
            "type": "carpet"
           }
          ],
          "choropleth": [
           {
            "colorbar": {
             "outlinewidth": 0,
             "ticks": ""
            },
            "type": "choropleth"
           }
          ],
          "contour": [
           {
            "colorbar": {
             "outlinewidth": 0,
             "ticks": ""
            },
            "colorscale": [
             [
              0,
              "#0d0887"
             ],
             [
              0.1111111111111111,
              "#46039f"
             ],
             [
              0.2222222222222222,
              "#7201a8"
             ],
             [
              0.3333333333333333,
              "#9c179e"
             ],
             [
              0.4444444444444444,
              "#bd3786"
             ],
             [
              0.5555555555555556,
              "#d8576b"
             ],
             [
              0.6666666666666666,
              "#ed7953"
             ],
             [
              0.7777777777777778,
              "#fb9f3a"
             ],
             [
              0.8888888888888888,
              "#fdca26"
             ],
             [
              1,
              "#f0f921"
             ]
            ],
            "type": "contour"
           }
          ],
          "contourcarpet": [
           {
            "colorbar": {
             "outlinewidth": 0,
             "ticks": ""
            },
            "type": "contourcarpet"
           }
          ],
          "heatmap": [
           {
            "colorbar": {
             "outlinewidth": 0,
             "ticks": ""
            },
            "colorscale": [
             [
              0,
              "#0d0887"
             ],
             [
              0.1111111111111111,
              "#46039f"
             ],
             [
              0.2222222222222222,
              "#7201a8"
             ],
             [
              0.3333333333333333,
              "#9c179e"
             ],
             [
              0.4444444444444444,
              "#bd3786"
             ],
             [
              0.5555555555555556,
              "#d8576b"
             ],
             [
              0.6666666666666666,
              "#ed7953"
             ],
             [
              0.7777777777777778,
              "#fb9f3a"
             ],
             [
              0.8888888888888888,
              "#fdca26"
             ],
             [
              1,
              "#f0f921"
             ]
            ],
            "type": "heatmap"
           }
          ],
          "heatmapgl": [
           {
            "colorbar": {
             "outlinewidth": 0,
             "ticks": ""
            },
            "colorscale": [
             [
              0,
              "#0d0887"
             ],
             [
              0.1111111111111111,
              "#46039f"
             ],
             [
              0.2222222222222222,
              "#7201a8"
             ],
             [
              0.3333333333333333,
              "#9c179e"
             ],
             [
              0.4444444444444444,
              "#bd3786"
             ],
             [
              0.5555555555555556,
              "#d8576b"
             ],
             [
              0.6666666666666666,
              "#ed7953"
             ],
             [
              0.7777777777777778,
              "#fb9f3a"
             ],
             [
              0.8888888888888888,
              "#fdca26"
             ],
             [
              1,
              "#f0f921"
             ]
            ],
            "type": "heatmapgl"
           }
          ],
          "histogram": [
           {
            "marker": {
             "pattern": {
              "fillmode": "overlay",
              "size": 10,
              "solidity": 0.2
             }
            },
            "type": "histogram"
           }
          ],
          "histogram2d": [
           {
            "colorbar": {
             "outlinewidth": 0,
             "ticks": ""
            },
            "colorscale": [
             [
              0,
              "#0d0887"
             ],
             [
              0.1111111111111111,
              "#46039f"
             ],
             [
              0.2222222222222222,
              "#7201a8"
             ],
             [
              0.3333333333333333,
              "#9c179e"
             ],
             [
              0.4444444444444444,
              "#bd3786"
             ],
             [
              0.5555555555555556,
              "#d8576b"
             ],
             [
              0.6666666666666666,
              "#ed7953"
             ],
             [
              0.7777777777777778,
              "#fb9f3a"
             ],
             [
              0.8888888888888888,
              "#fdca26"
             ],
             [
              1,
              "#f0f921"
             ]
            ],
            "type": "histogram2d"
           }
          ],
          "histogram2dcontour": [
           {
            "colorbar": {
             "outlinewidth": 0,
             "ticks": ""
            },
            "colorscale": [
             [
              0,
              "#0d0887"
             ],
             [
              0.1111111111111111,
              "#46039f"
             ],
             [
              0.2222222222222222,
              "#7201a8"
             ],
             [
              0.3333333333333333,
              "#9c179e"
             ],
             [
              0.4444444444444444,
              "#bd3786"
             ],
             [
              0.5555555555555556,
              "#d8576b"
             ],
             [
              0.6666666666666666,
              "#ed7953"
             ],
             [
              0.7777777777777778,
              "#fb9f3a"
             ],
             [
              0.8888888888888888,
              "#fdca26"
             ],
             [
              1,
              "#f0f921"
             ]
            ],
            "type": "histogram2dcontour"
           }
          ],
          "mesh3d": [
           {
            "colorbar": {
             "outlinewidth": 0,
             "ticks": ""
            },
            "type": "mesh3d"
           }
          ],
          "parcoords": [
           {
            "line": {
             "colorbar": {
              "outlinewidth": 0,
              "ticks": ""
             }
            },
            "type": "parcoords"
           }
          ],
          "pie": [
           {
            "automargin": true,
            "type": "pie"
           }
          ],
          "scatter": [
           {
            "fillpattern": {
             "fillmode": "overlay",
             "size": 10,
             "solidity": 0.2
            },
            "type": "scatter"
           }
          ],
          "scatter3d": [
           {
            "line": {
             "colorbar": {
              "outlinewidth": 0,
              "ticks": ""
             }
            },
            "marker": {
             "colorbar": {
              "outlinewidth": 0,
              "ticks": ""
             }
            },
            "type": "scatter3d"
           }
          ],
          "scattercarpet": [
           {
            "marker": {
             "colorbar": {
              "outlinewidth": 0,
              "ticks": ""
             }
            },
            "type": "scattercarpet"
           }
          ],
          "scattergeo": [
           {
            "marker": {
             "colorbar": {
              "outlinewidth": 0,
              "ticks": ""
             }
            },
            "type": "scattergeo"
           }
          ],
          "scattergl": [
           {
            "marker": {
             "colorbar": {
              "outlinewidth": 0,
              "ticks": ""
             }
            },
            "type": "scattergl"
           }
          ],
          "scattermapbox": [
           {
            "marker": {
             "colorbar": {
              "outlinewidth": 0,
              "ticks": ""
             }
            },
            "type": "scattermapbox"
           }
          ],
          "scatterpolar": [
           {
            "marker": {
             "colorbar": {
              "outlinewidth": 0,
              "ticks": ""
             }
            },
            "type": "scatterpolar"
           }
          ],
          "scatterpolargl": [
           {
            "marker": {
             "colorbar": {
              "outlinewidth": 0,
              "ticks": ""
             }
            },
            "type": "scatterpolargl"
           }
          ],
          "scatterternary": [
           {
            "marker": {
             "colorbar": {
              "outlinewidth": 0,
              "ticks": ""
             }
            },
            "type": "scatterternary"
           }
          ],
          "surface": [
           {
            "colorbar": {
             "outlinewidth": 0,
             "ticks": ""
            },
            "colorscale": [
             [
              0,
              "#0d0887"
             ],
             [
              0.1111111111111111,
              "#46039f"
             ],
             [
              0.2222222222222222,
              "#7201a8"
             ],
             [
              0.3333333333333333,
              "#9c179e"
             ],
             [
              0.4444444444444444,
              "#bd3786"
             ],
             [
              0.5555555555555556,
              "#d8576b"
             ],
             [
              0.6666666666666666,
              "#ed7953"
             ],
             [
              0.7777777777777778,
              "#fb9f3a"
             ],
             [
              0.8888888888888888,
              "#fdca26"
             ],
             [
              1,
              "#f0f921"
             ]
            ],
            "type": "surface"
           }
          ],
          "table": [
           {
            "cells": {
             "fill": {
              "color": "#EBF0F8"
             },
             "line": {
              "color": "white"
             }
            },
            "header": {
             "fill": {
              "color": "#C8D4E3"
             },
             "line": {
              "color": "white"
             }
            },
            "type": "table"
           }
          ]
         },
         "layout": {
          "annotationdefaults": {
           "arrowcolor": "#2a3f5f",
           "arrowhead": 0,
           "arrowwidth": 1
          },
          "autotypenumbers": "strict",
          "coloraxis": {
           "colorbar": {
            "outlinewidth": 0,
            "ticks": ""
           }
          },
          "colorscale": {
           "diverging": [
            [
             0,
             "#8e0152"
            ],
            [
             0.1,
             "#c51b7d"
            ],
            [
             0.2,
             "#de77ae"
            ],
            [
             0.3,
             "#f1b6da"
            ],
            [
             0.4,
             "#fde0ef"
            ],
            [
             0.5,
             "#f7f7f7"
            ],
            [
             0.6,
             "#e6f5d0"
            ],
            [
             0.7,
             "#b8e186"
            ],
            [
             0.8,
             "#7fbc41"
            ],
            [
             0.9,
             "#4d9221"
            ],
            [
             1,
             "#276419"
            ]
           ],
           "sequential": [
            [
             0,
             "#0d0887"
            ],
            [
             0.1111111111111111,
             "#46039f"
            ],
            [
             0.2222222222222222,
             "#7201a8"
            ],
            [
             0.3333333333333333,
             "#9c179e"
            ],
            [
             0.4444444444444444,
             "#bd3786"
            ],
            [
             0.5555555555555556,
             "#d8576b"
            ],
            [
             0.6666666666666666,
             "#ed7953"
            ],
            [
             0.7777777777777778,
             "#fb9f3a"
            ],
            [
             0.8888888888888888,
             "#fdca26"
            ],
            [
             1,
             "#f0f921"
            ]
           ],
           "sequentialminus": [
            [
             0,
             "#0d0887"
            ],
            [
             0.1111111111111111,
             "#46039f"
            ],
            [
             0.2222222222222222,
             "#7201a8"
            ],
            [
             0.3333333333333333,
             "#9c179e"
            ],
            [
             0.4444444444444444,
             "#bd3786"
            ],
            [
             0.5555555555555556,
             "#d8576b"
            ],
            [
             0.6666666666666666,
             "#ed7953"
            ],
            [
             0.7777777777777778,
             "#fb9f3a"
            ],
            [
             0.8888888888888888,
             "#fdca26"
            ],
            [
             1,
             "#f0f921"
            ]
           ]
          },
          "colorway": [
           "#636efa",
           "#EF553B",
           "#00cc96",
           "#ab63fa",
           "#FFA15A",
           "#19d3f3",
           "#FF6692",
           "#B6E880",
           "#FF97FF",
           "#FECB52"
          ],
          "font": {
           "color": "#2a3f5f"
          },
          "geo": {
           "bgcolor": "white",
           "lakecolor": "white",
           "landcolor": "#E5ECF6",
           "showlakes": true,
           "showland": true,
           "subunitcolor": "white"
          },
          "hoverlabel": {
           "align": "left"
          },
          "hovermode": "closest",
          "mapbox": {
           "style": "light"
          },
          "paper_bgcolor": "white",
          "plot_bgcolor": "#E5ECF6",
          "polar": {
           "angularaxis": {
            "gridcolor": "white",
            "linecolor": "white",
            "ticks": ""
           },
           "bgcolor": "#E5ECF6",
           "radialaxis": {
            "gridcolor": "white",
            "linecolor": "white",
            "ticks": ""
           }
          },
          "scene": {
           "xaxis": {
            "backgroundcolor": "#E5ECF6",
            "gridcolor": "white",
            "gridwidth": 2,
            "linecolor": "white",
            "showbackground": true,
            "ticks": "",
            "zerolinecolor": "white"
           },
           "yaxis": {
            "backgroundcolor": "#E5ECF6",
            "gridcolor": "white",
            "gridwidth": 2,
            "linecolor": "white",
            "showbackground": true,
            "ticks": "",
            "zerolinecolor": "white"
           },
           "zaxis": {
            "backgroundcolor": "#E5ECF6",
            "gridcolor": "white",
            "gridwidth": 2,
            "linecolor": "white",
            "showbackground": true,
            "ticks": "",
            "zerolinecolor": "white"
           }
          },
          "shapedefaults": {
           "line": {
            "color": "#2a3f5f"
           }
          },
          "ternary": {
           "aaxis": {
            "gridcolor": "white",
            "linecolor": "white",
            "ticks": ""
           },
           "baxis": {
            "gridcolor": "white",
            "linecolor": "white",
            "ticks": ""
           },
           "bgcolor": "#E5ECF6",
           "caxis": {
            "gridcolor": "white",
            "linecolor": "white",
            "ticks": ""
           }
          },
          "title": {
           "x": 0.05
          },
          "xaxis": {
           "automargin": true,
           "gridcolor": "white",
           "linecolor": "white",
           "ticks": "",
           "title": {
            "standoff": 15
           },
           "zerolinecolor": "white",
           "zerolinewidth": 2
          },
          "yaxis": {
           "automargin": true,
           "gridcolor": "white",
           "linecolor": "white",
           "ticks": "",
           "title": {
            "standoff": 15
           },
           "zerolinecolor": "white",
           "zerolinewidth": 2
          }
         }
        },
        "title": {
         "text": "Evolution de la fonte dans le Four de Coulée au cours du temps (PFC)"
        },
        "xaxis": {
         "title": {
          "text": "Time (minutes)"
         }
        },
        "yaxis": {
         "title": {
          "text": "PFC (kg)"
         }
        }
       }
      }
     },
     "metadata": {},
     "output_type": "display_data"
    },
    {
     "data": {
      "application/vnd.plotly.v1+json": {
       "config": {
        "plotlyServerURL": "https://plot.ly"
       },
       "data": [
        {
         "line": {
          "color": "royalblue"
         },
         "mode": "lines",
         "name": "Mg over time (chargement_et_fusion)",
         "type": "scatter",
         "x": [],
         "y": []
        },
        {
         "line": {
          "color": "firebrick"
         },
         "mode": "lines",
         "name": "Mg over time (Four 1)",
         "type": "scatter",
         "x": [
          1,
          2,
          3,
          4,
          5,
          6,
          7,
          8,
          9,
          10,
          11,
          12,
          13,
          14,
          15,
          16,
          17,
          18,
          19
         ],
         "y": [
          0.0445,
          0.044,
          0.0435,
          0.043,
          0.042499999999999996,
          0.041999999999999996,
          0.041499999999999995,
          0.040999999999999995,
          0.040499999999999994,
          0.0445,
          0.044,
          0.0435,
          0.043,
          0.042499999999999996,
          0.041999999999999996,
          0.041499999999999995,
          0.040999999999999995,
          0.040499999999999994,
          0.039999999999999994
         ]
        },
        {
         "line": {
          "color": "green"
         },
         "mode": "lines",
         "name": "Mg over time (Four 2)",
         "type": "scatter",
         "x": [
          19,
          20,
          21,
          22,
          23,
          24,
          25,
          26,
          27,
          28,
          29,
          30,
          31,
          32,
          33,
          34,
          35,
          36,
          37,
          38,
          39,
          40,
          41,
          42,
          43,
          44,
          45,
          46,
          47,
          48,
          49,
          50,
          51,
          52,
          53,
          54,
          55,
          56,
          57,
          58,
          59,
          60,
          61,
          62,
          63,
          64,
          65,
          66,
          67,
          68,
          69,
          70,
          71,
          72,
          73,
          74,
          75,
          76
         ],
         "y": [
          0.039999999999999994,
          0.0445,
          0.044,
          0.0435,
          0.043,
          0.042499999999999996,
          0.041999999999999996,
          0.041499999999999995,
          0.040999999999999995,
          0.040499999999999994,
          0.0445,
          0.044,
          0.0435,
          0.043,
          0.042499999999999996,
          0.041999999999999996,
          0.041499999999999995,
          0.040999999999999995,
          0.040499999999999994,
          0.039999999999999994,
          0.0445,
          0.044,
          0.0435,
          0.043,
          0.042499999999999996,
          0.041999999999999996,
          0.041499999999999995,
          0.040999999999999995,
          0.040499999999999994,
          0.039999999999999994,
          0.03949999999999999,
          0.03899999999999999,
          0.03849999999999999,
          0.03799999999999999,
          0.03749999999999999,
          0.03699999999999999,
          0.03649999999999999,
          0.03599999999999999,
          0.03549999999999999,
          0.0445,
          0.044,
          0.0435,
          0.043,
          0.042499999999999996,
          0.041999999999999996,
          0.041499999999999995,
          0.040999999999999995,
          0.040499999999999994,
          0.039999999999999994,
          0.03949999999999999,
          0.03899999999999999,
          0.03849999999999999,
          0.03799999999999999,
          0.03749999999999999,
          0.03699999999999999,
          0.03649999999999999,
          0.03599999999999999,
          0.03549999999999999
         ]
        },
        {
         "line": {
          "color": "orange"
         },
         "mode": "lines",
         "name": "Mg over time (Four 3)",
         "type": "scatter",
         "x": [
          76,
          77,
          78,
          79,
          80,
          81,
          82,
          83,
          84,
          85,
          86,
          87,
          88,
          89,
          90,
          91,
          92,
          93,
          94,
          95,
          96,
          97,
          98,
          99,
          100,
          101,
          102,
          103,
          104,
          105,
          106,
          107,
          108,
          109,
          110,
          111,
          112,
          113,
          114,
          115,
          116,
          117,
          118,
          119,
          120,
          121,
          122,
          123,
          124,
          125,
          126,
          127,
          128,
          129,
          130,
          131,
          132,
          133,
          134,
          135,
          136,
          137,
          138,
          139,
          140,
          141,
          142,
          143,
          144,
          145,
          146,
          147,
          148,
          149,
          150,
          151,
          152,
          153,
          154
         ],
         "y": [
          0.03549999999999999,
          0.0445,
          0.044,
          0.0435,
          0.043,
          0.042499999999999996,
          0.041999999999999996,
          0.041499999999999995,
          0.040999999999999995,
          0.040499999999999994,
          0.039999999999999994,
          0.03949999999999999,
          0.03899999999999999,
          0.03849999999999999,
          0.03799999999999999,
          0.03749999999999999,
          0.03699999999999999,
          0.03649999999999999,
          0.03599999999999999,
          0.03549999999999999,
          0.03499999999999999,
          0.03449999999999999,
          0.0445,
          0.044,
          0.0435,
          0.043,
          0.042499999999999996,
          0.041999999999999996,
          0.041499999999999995,
          0.040999999999999995,
          0.040499999999999994,
          0.039999999999999994,
          0.03949999999999999,
          0.03899999999999999,
          0.03849999999999999,
          0.03799999999999999,
          0.03749999999999999,
          0.03699999999999999,
          0.03649999999999999,
          0.03599999999999999,
          0.03549999999999999,
          0.0445,
          0.044,
          0.0435,
          0.043,
          0.042499999999999996,
          0.041999999999999996,
          0.041499999999999995,
          0.040999999999999995,
          0.040499999999999994,
          0.039999999999999994,
          0.03949999999999999,
          0.03899999999999999,
          0.03849999999999999,
          0.03799999999999999,
          0.03749999999999999,
          0.03699999999999999,
          0.03649999999999999,
          0.03599999999999999,
          0.03549999999999999,
          0.0445,
          0.044,
          0.0435,
          0.043,
          0.042499999999999996,
          0.041999999999999996,
          0.041499999999999995,
          0.040999999999999995,
          0.040499999999999994,
          0.039999999999999994,
          0.03949999999999999,
          0.03899999999999999,
          0.03849999999999999,
          0.03799999999999999,
          0.03749999999999999,
          0.03699999999999999,
          0.03649999999999999,
          0.03599999999999999,
          0.03549999999999999
         ]
        },
        {
         "line": {
          "color": "purple"
         },
         "mode": "lines",
         "name": "Mg over time (Four 4)",
         "type": "scatter",
         "x": [
          154,
          155,
          156,
          157,
          158,
          159,
          160,
          161,
          162,
          163,
          164,
          165,
          166,
          167,
          168,
          169,
          170,
          171,
          172,
          173,
          174,
          175,
          176,
          177,
          178,
          179,
          180,
          181,
          182,
          183,
          184,
          185,
          186,
          187,
          188,
          189,
          190,
          191,
          192,
          193,
          194,
          195,
          196,
          197,
          198,
          199,
          200,
          201,
          202,
          203,
          204,
          205,
          206,
          207,
          208,
          209,
          210,
          211,
          212,
          213,
          214,
          215,
          216,
          217,
          218,
          219,
          220,
          221,
          222,
          223,
          224,
          225,
          226
         ],
         "y": [
          0.03549999999999999,
          0.0445,
          0.044,
          0.0435,
          0.043,
          0.042499999999999996,
          0.041999999999999996,
          0.041499999999999995,
          0.040999999999999995,
          0.040499999999999994,
          0.039999999999999994,
          0.03949999999999999,
          0.0445,
          0.044,
          0.0435,
          0.043,
          0.042499999999999996,
          0.041999999999999996,
          0.041499999999999995,
          0.040999999999999995,
          0.040499999999999994,
          0.039999999999999994,
          0.03949999999999999,
          0.03899999999999999,
          0.03849999999999999,
          0.03799999999999999,
          0.03749999999999999,
          0.03699999999999999,
          0.03649999999999999,
          0.03599999999999999,
          0.03549999999999999,
          0.0445,
          0.044,
          0.0435,
          0.043,
          0.042499999999999996,
          0.041999999999999996,
          0.041499999999999995,
          0.040999999999999995,
          0.040499999999999994,
          0.039999999999999994,
          0.03949999999999999,
          0.03899999999999999,
          0.03849999999999999,
          0.03799999999999999,
          0.03749999999999999,
          0.03699999999999999,
          0.03649999999999999,
          0.03599999999999999,
          0.03549999999999999,
          0.0445,
          0.044,
          0.0435,
          0.043,
          0.042499999999999996,
          0.041999999999999996,
          0.041499999999999995,
          0.040999999999999995,
          0.040499999999999994,
          0.039999999999999994,
          0.03949999999999999,
          0.03899999999999999,
          0.03849999999999999,
          0.03799999999999999,
          0.03749999999999999,
          0.03699999999999999,
          0.03649999999999999,
          0.03599999999999999,
          0.03549999999999999,
          0.03499999999999999,
          0.03449999999999999,
          0.03399999999999999,
          0.03349999999999999
         ]
        },
        {
         "line": {
          "color": "royalblue"
         },
         "mode": "lines",
         "name": "Mg over time (Four 5)",
         "type": "scatter",
         "x": [
          226,
          227,
          228,
          229,
          230,
          231,
          232,
          233,
          234,
          235,
          236,
          237,
          238,
          239
         ],
         "y": [
          0.03349999999999999,
          0.0445,
          0.044,
          0.0435,
          0.043,
          0.042499999999999996,
          0.041999999999999996,
          0.041499999999999995,
          0.040999999999999995,
          0.040499999999999994,
          0.039999999999999994,
          0.03949999999999999,
          0.03899999999999999,
          0.03849999999999999
         ]
        }
       ],
       "layout": {
        "annotations": [
         {
          "arrowhead": 2,
          "ax": 20,
          "ay": -30,
          "showarrow": true,
          "text": "Mgmin",
          "x": 239,
          "xref": "x",
          "y": 0.035,
          "yref": "y"
         },
         {
          "arrowhead": 2,
          "ax": 20,
          "ay": -30,
          "showarrow": true,
          "text": "Mgmax",
          "x": 239,
          "xref": "x",
          "y": 0.045,
          "yref": "y"
         }
        ],
        "shapes": [
         {
          "line": {
           "color": "firebrick",
           "dash": "dash",
           "width": 2
          },
          "name": "Mgmin",
          "type": "line",
          "x0": 1,
          "x1": 239,
          "y0": 0.035,
          "y1": 0.035
         },
         {
          "line": {
           "color": "green",
           "dash": "dash",
           "width": 2
          },
          "name": "Mgmax",
          "type": "line",
          "x0": 1,
          "x1": 239,
          "y0": 0.045,
          "y1": 0.045
         }
        ],
        "showlegend": true,
        "template": {
         "data": {
          "bar": [
           {
            "error_x": {
             "color": "#2a3f5f"
            },
            "error_y": {
             "color": "#2a3f5f"
            },
            "marker": {
             "line": {
              "color": "#E5ECF6",
              "width": 0.5
             },
             "pattern": {
              "fillmode": "overlay",
              "size": 10,
              "solidity": 0.2
             }
            },
            "type": "bar"
           }
          ],
          "barpolar": [
           {
            "marker": {
             "line": {
              "color": "#E5ECF6",
              "width": 0.5
             },
             "pattern": {
              "fillmode": "overlay",
              "size": 10,
              "solidity": 0.2
             }
            },
            "type": "barpolar"
           }
          ],
          "carpet": [
           {
            "aaxis": {
             "endlinecolor": "#2a3f5f",
             "gridcolor": "white",
             "linecolor": "white",
             "minorgridcolor": "white",
             "startlinecolor": "#2a3f5f"
            },
            "baxis": {
             "endlinecolor": "#2a3f5f",
             "gridcolor": "white",
             "linecolor": "white",
             "minorgridcolor": "white",
             "startlinecolor": "#2a3f5f"
            },
            "type": "carpet"
           }
          ],
          "choropleth": [
           {
            "colorbar": {
             "outlinewidth": 0,
             "ticks": ""
            },
            "type": "choropleth"
           }
          ],
          "contour": [
           {
            "colorbar": {
             "outlinewidth": 0,
             "ticks": ""
            },
            "colorscale": [
             [
              0,
              "#0d0887"
             ],
             [
              0.1111111111111111,
              "#46039f"
             ],
             [
              0.2222222222222222,
              "#7201a8"
             ],
             [
              0.3333333333333333,
              "#9c179e"
             ],
             [
              0.4444444444444444,
              "#bd3786"
             ],
             [
              0.5555555555555556,
              "#d8576b"
             ],
             [
              0.6666666666666666,
              "#ed7953"
             ],
             [
              0.7777777777777778,
              "#fb9f3a"
             ],
             [
              0.8888888888888888,
              "#fdca26"
             ],
             [
              1,
              "#f0f921"
             ]
            ],
            "type": "contour"
           }
          ],
          "contourcarpet": [
           {
            "colorbar": {
             "outlinewidth": 0,
             "ticks": ""
            },
            "type": "contourcarpet"
           }
          ],
          "heatmap": [
           {
            "colorbar": {
             "outlinewidth": 0,
             "ticks": ""
            },
            "colorscale": [
             [
              0,
              "#0d0887"
             ],
             [
              0.1111111111111111,
              "#46039f"
             ],
             [
              0.2222222222222222,
              "#7201a8"
             ],
             [
              0.3333333333333333,
              "#9c179e"
             ],
             [
              0.4444444444444444,
              "#bd3786"
             ],
             [
              0.5555555555555556,
              "#d8576b"
             ],
             [
              0.6666666666666666,
              "#ed7953"
             ],
             [
              0.7777777777777778,
              "#fb9f3a"
             ],
             [
              0.8888888888888888,
              "#fdca26"
             ],
             [
              1,
              "#f0f921"
             ]
            ],
            "type": "heatmap"
           }
          ],
          "heatmapgl": [
           {
            "colorbar": {
             "outlinewidth": 0,
             "ticks": ""
            },
            "colorscale": [
             [
              0,
              "#0d0887"
             ],
             [
              0.1111111111111111,
              "#46039f"
             ],
             [
              0.2222222222222222,
              "#7201a8"
             ],
             [
              0.3333333333333333,
              "#9c179e"
             ],
             [
              0.4444444444444444,
              "#bd3786"
             ],
             [
              0.5555555555555556,
              "#d8576b"
             ],
             [
              0.6666666666666666,
              "#ed7953"
             ],
             [
              0.7777777777777778,
              "#fb9f3a"
             ],
             [
              0.8888888888888888,
              "#fdca26"
             ],
             [
              1,
              "#f0f921"
             ]
            ],
            "type": "heatmapgl"
           }
          ],
          "histogram": [
           {
            "marker": {
             "pattern": {
              "fillmode": "overlay",
              "size": 10,
              "solidity": 0.2
             }
            },
            "type": "histogram"
           }
          ],
          "histogram2d": [
           {
            "colorbar": {
             "outlinewidth": 0,
             "ticks": ""
            },
            "colorscale": [
             [
              0,
              "#0d0887"
             ],
             [
              0.1111111111111111,
              "#46039f"
             ],
             [
              0.2222222222222222,
              "#7201a8"
             ],
             [
              0.3333333333333333,
              "#9c179e"
             ],
             [
              0.4444444444444444,
              "#bd3786"
             ],
             [
              0.5555555555555556,
              "#d8576b"
             ],
             [
              0.6666666666666666,
              "#ed7953"
             ],
             [
              0.7777777777777778,
              "#fb9f3a"
             ],
             [
              0.8888888888888888,
              "#fdca26"
             ],
             [
              1,
              "#f0f921"
             ]
            ],
            "type": "histogram2d"
           }
          ],
          "histogram2dcontour": [
           {
            "colorbar": {
             "outlinewidth": 0,
             "ticks": ""
            },
            "colorscale": [
             [
              0,
              "#0d0887"
             ],
             [
              0.1111111111111111,
              "#46039f"
             ],
             [
              0.2222222222222222,
              "#7201a8"
             ],
             [
              0.3333333333333333,
              "#9c179e"
             ],
             [
              0.4444444444444444,
              "#bd3786"
             ],
             [
              0.5555555555555556,
              "#d8576b"
             ],
             [
              0.6666666666666666,
              "#ed7953"
             ],
             [
              0.7777777777777778,
              "#fb9f3a"
             ],
             [
              0.8888888888888888,
              "#fdca26"
             ],
             [
              1,
              "#f0f921"
             ]
            ],
            "type": "histogram2dcontour"
           }
          ],
          "mesh3d": [
           {
            "colorbar": {
             "outlinewidth": 0,
             "ticks": ""
            },
            "type": "mesh3d"
           }
          ],
          "parcoords": [
           {
            "line": {
             "colorbar": {
              "outlinewidth": 0,
              "ticks": ""
             }
            },
            "type": "parcoords"
           }
          ],
          "pie": [
           {
            "automargin": true,
            "type": "pie"
           }
          ],
          "scatter": [
           {
            "fillpattern": {
             "fillmode": "overlay",
             "size": 10,
             "solidity": 0.2
            },
            "type": "scatter"
           }
          ],
          "scatter3d": [
           {
            "line": {
             "colorbar": {
              "outlinewidth": 0,
              "ticks": ""
             }
            },
            "marker": {
             "colorbar": {
              "outlinewidth": 0,
              "ticks": ""
             }
            },
            "type": "scatter3d"
           }
          ],
          "scattercarpet": [
           {
            "marker": {
             "colorbar": {
              "outlinewidth": 0,
              "ticks": ""
             }
            },
            "type": "scattercarpet"
           }
          ],
          "scattergeo": [
           {
            "marker": {
             "colorbar": {
              "outlinewidth": 0,
              "ticks": ""
             }
            },
            "type": "scattergeo"
           }
          ],
          "scattergl": [
           {
            "marker": {
             "colorbar": {
              "outlinewidth": 0,
              "ticks": ""
             }
            },
            "type": "scattergl"
           }
          ],
          "scattermapbox": [
           {
            "marker": {
             "colorbar": {
              "outlinewidth": 0,
              "ticks": ""
             }
            },
            "type": "scattermapbox"
           }
          ],
          "scatterpolar": [
           {
            "marker": {
             "colorbar": {
              "outlinewidth": 0,
              "ticks": ""
             }
            },
            "type": "scatterpolar"
           }
          ],
          "scatterpolargl": [
           {
            "marker": {
             "colorbar": {
              "outlinewidth": 0,
              "ticks": ""
             }
            },
            "type": "scatterpolargl"
           }
          ],
          "scatterternary": [
           {
            "marker": {
             "colorbar": {
              "outlinewidth": 0,
              "ticks": ""
             }
            },
            "type": "scatterternary"
           }
          ],
          "surface": [
           {
            "colorbar": {
             "outlinewidth": 0,
             "ticks": ""
            },
            "colorscale": [
             [
              0,
              "#0d0887"
             ],
             [
              0.1111111111111111,
              "#46039f"
             ],
             [
              0.2222222222222222,
              "#7201a8"
             ],
             [
              0.3333333333333333,
              "#9c179e"
             ],
             [
              0.4444444444444444,
              "#bd3786"
             ],
             [
              0.5555555555555556,
              "#d8576b"
             ],
             [
              0.6666666666666666,
              "#ed7953"
             ],
             [
              0.7777777777777778,
              "#fb9f3a"
             ],
             [
              0.8888888888888888,
              "#fdca26"
             ],
             [
              1,
              "#f0f921"
             ]
            ],
            "type": "surface"
           }
          ],
          "table": [
           {
            "cells": {
             "fill": {
              "color": "#EBF0F8"
             },
             "line": {
              "color": "white"
             }
            },
            "header": {
             "fill": {
              "color": "#C8D4E3"
             },
             "line": {
              "color": "white"
             }
            },
            "type": "table"
           }
          ]
         },
         "layout": {
          "annotationdefaults": {
           "arrowcolor": "#2a3f5f",
           "arrowhead": 0,
           "arrowwidth": 1
          },
          "autotypenumbers": "strict",
          "coloraxis": {
           "colorbar": {
            "outlinewidth": 0,
            "ticks": ""
           }
          },
          "colorscale": {
           "diverging": [
            [
             0,
             "#8e0152"
            ],
            [
             0.1,
             "#c51b7d"
            ],
            [
             0.2,
             "#de77ae"
            ],
            [
             0.3,
             "#f1b6da"
            ],
            [
             0.4,
             "#fde0ef"
            ],
            [
             0.5,
             "#f7f7f7"
            ],
            [
             0.6,
             "#e6f5d0"
            ],
            [
             0.7,
             "#b8e186"
            ],
            [
             0.8,
             "#7fbc41"
            ],
            [
             0.9,
             "#4d9221"
            ],
            [
             1,
             "#276419"
            ]
           ],
           "sequential": [
            [
             0,
             "#0d0887"
            ],
            [
             0.1111111111111111,
             "#46039f"
            ],
            [
             0.2222222222222222,
             "#7201a8"
            ],
            [
             0.3333333333333333,
             "#9c179e"
            ],
            [
             0.4444444444444444,
             "#bd3786"
            ],
            [
             0.5555555555555556,
             "#d8576b"
            ],
            [
             0.6666666666666666,
             "#ed7953"
            ],
            [
             0.7777777777777778,
             "#fb9f3a"
            ],
            [
             0.8888888888888888,
             "#fdca26"
            ],
            [
             1,
             "#f0f921"
            ]
           ],
           "sequentialminus": [
            [
             0,
             "#0d0887"
            ],
            [
             0.1111111111111111,
             "#46039f"
            ],
            [
             0.2222222222222222,
             "#7201a8"
            ],
            [
             0.3333333333333333,
             "#9c179e"
            ],
            [
             0.4444444444444444,
             "#bd3786"
            ],
            [
             0.5555555555555556,
             "#d8576b"
            ],
            [
             0.6666666666666666,
             "#ed7953"
            ],
            [
             0.7777777777777778,
             "#fb9f3a"
            ],
            [
             0.8888888888888888,
             "#fdca26"
            ],
            [
             1,
             "#f0f921"
            ]
           ]
          },
          "colorway": [
           "#636efa",
           "#EF553B",
           "#00cc96",
           "#ab63fa",
           "#FFA15A",
           "#19d3f3",
           "#FF6692",
           "#B6E880",
           "#FF97FF",
           "#FECB52"
          ],
          "font": {
           "color": "#2a3f5f"
          },
          "geo": {
           "bgcolor": "white",
           "lakecolor": "white",
           "landcolor": "#E5ECF6",
           "showlakes": true,
           "showland": true,
           "subunitcolor": "white"
          },
          "hoverlabel": {
           "align": "left"
          },
          "hovermode": "closest",
          "mapbox": {
           "style": "light"
          },
          "paper_bgcolor": "white",
          "plot_bgcolor": "#E5ECF6",
          "polar": {
           "angularaxis": {
            "gridcolor": "white",
            "linecolor": "white",
            "ticks": ""
           },
           "bgcolor": "#E5ECF6",
           "radialaxis": {
            "gridcolor": "white",
            "linecolor": "white",
            "ticks": ""
           }
          },
          "scene": {
           "xaxis": {
            "backgroundcolor": "#E5ECF6",
            "gridcolor": "white",
            "gridwidth": 2,
            "linecolor": "white",
            "showbackground": true,
            "ticks": "",
            "zerolinecolor": "white"
           },
           "yaxis": {
            "backgroundcolor": "#E5ECF6",
            "gridcolor": "white",
            "gridwidth": 2,
            "linecolor": "white",
            "showbackground": true,
            "ticks": "",
            "zerolinecolor": "white"
           },
           "zaxis": {
            "backgroundcolor": "#E5ECF6",
            "gridcolor": "white",
            "gridwidth": 2,
            "linecolor": "white",
            "showbackground": true,
            "ticks": "",
            "zerolinecolor": "white"
           }
          },
          "shapedefaults": {
           "line": {
            "color": "#2a3f5f"
           }
          },
          "ternary": {
           "aaxis": {
            "gridcolor": "white",
            "linecolor": "white",
            "ticks": ""
           },
           "baxis": {
            "gridcolor": "white",
            "linecolor": "white",
            "ticks": ""
           },
           "bgcolor": "#E5ECF6",
           "caxis": {
            "gridcolor": "white",
            "linecolor": "white",
            "ticks": ""
           }
          },
          "title": {
           "x": 0.05
          },
          "xaxis": {
           "automargin": true,
           "gridcolor": "white",
           "linecolor": "white",
           "ticks": "",
           "title": {
            "standoff": 15
           },
           "zerolinecolor": "white",
           "zerolinewidth": 2
          },
          "yaxis": {
           "automargin": true,
           "gridcolor": "white",
           "linecolor": "white",
           "ticks": "",
           "title": {
            "standoff": 15
           },
           "zerolinecolor": "white",
           "zerolinewidth": 2
          }
         }
        },
        "title": {
         "text": "Evolution de la fonte dans le Four de Coulée au cours du temps (Mg)"
        },
        "xaxis": {
         "title": {
          "text": "Time (minutes)"
         }
        },
        "yaxis": {
         "title": {
          "text": "Mg (kg)"
         }
        }
       }
      }
     },
     "metadata": {},
     "output_type": "display_data"
    }
   ],
   "source": [
    "import plotly.graph_objects as go\n",
    "\n",
    "# Fonction pour insérer le dernier élément de la clé actuelle au début de la liste de la clé suivante\n",
    "def inserer_dernier_element(liste_cle, times_dict, PFC_Consomvalues_dict, Mgvalues_dict):\n",
    "    for i in range(len(liste_cle) - 1):\n",
    "        derniere_valeur_t = times_dict[liste_cle[i]][-1] if times_dict[liste_cle[i]] else None\n",
    "        derniere_valeur_PFC = PFC_Consomvalues_dict[liste_cle[i]][-1] if PFC_Consomvalues_dict[liste_cle[i]] else None\n",
    "        derniere_valeur_Mg = Mgvalues_dict[liste_cle[i]][-1] if Mgvalues_dict[liste_cle[i]] else None\n",
    "        if derniere_valeur_t is not None:\n",
    "            times_dict[liste_cle[i + 1]] = [derniere_valeur_t] + times_dict[liste_cle[i + 1]]\n",
    "            PFC_Consomvalues_dict[liste_cle[i + 1]] = [derniere_valeur_PFC] + PFC_Consomvalues_dict[liste_cle[i + 1]]\n",
    "            Mgvalues_dict[liste_cle[i + 1]] = [derniere_valeur_Mg] + Mgvalues_dict[liste_cle[i + 1]]\n",
    "\n",
    "\n",
    "def Plot_consom(PFC_values_dict, Mgvalues_dict, times_dict, PFCmin, PFCmax, Mgmin, Mgmax):\n",
    "    # Dictionnaire de couleurs pour chaque clé\n",
    "    color_dict = {\n",
    "        \"chargement_et_fusion\": 'royalblue',\n",
    "        \"Four 1\": 'firebrick',\n",
    "        \"Four 2\": 'green',\n",
    "        \"Four 3\": 'orange',\n",
    "        \"Four 4\": 'purple',\n",
    "        \"Four 5\": 'royalblue'\n",
    "    }\n",
    "\n",
    "\n",
    "    # Initialisation des dictionnaires\n",
    "    cles = [\"chargement_et_fusion\", \"Four 1\", \"Four 2\", \"Four 3\", \"Four 4\", \"Four 5\"]\n",
    "\n",
    "    # Appliquer la fonction aux trois dictionnaires\n",
    "    inserer_dernier_element(cles, times_dict, PFC_Consomvalues_dict, Mgvalues_dict)\n",
    "\n",
    "\n",
    "    # Create Plotly figure for PFC\n",
    "    fig_pfc = go.Figure()\n",
    "\n",
    "    # Add PFC lines for each key\n",
    "    for key in PFC_values_dict.keys():\n",
    "        fig_pfc.add_trace(go.Scatter(x=times_dict[key], y=PFC_values_dict[key], mode='lines', name=f'PFC over time ({key})', line=dict(color=color_dict[key])))\n",
    "\n",
    "    # Add horizontal lines for PFCmin and PFCmax\n",
    "    tmin, tmax = times_dict[\"Four 1\"][0],times_dict[\"Four 5\"][-1]\n",
    "    fig_pfc.add_shape(type=\"line\", x0=tmin, y0=PFCmin, x1=tmax, y1=PFCmin, line=dict(color=\"firebrick\", width=2, dash=\"dash\"), name=\"PFCmin\")\n",
    "    fig_pfc.add_shape(type=\"line\", x0=tmin, y0=PFCmax, x1=tmax, y1=PFCmax, line=dict(color=\"green\", width=2, dash=\"dash\"), name=\"PFCmax\")\n",
    "\n",
    "    # Customize layout for PFC figure\n",
    "    fig_pfc.update_layout(title='Evolution de la fonte dans le Four de Coulée au cours du temps (PFC)', \n",
    "                          xaxis_title='Time (minutes)', yaxis_title='PFC (kg)', \n",
    "                          template='plotly', showlegend=True,\n",
    "                          annotations=[\n",
    "                              dict(x=tmax, y=PFCmin, xref=\"x\", yref=\"y\", text=\"PFCmin\", showarrow=True, arrowhead=2, ax=20, ay=-30),\n",
    "                              dict(x=tmax, y=PFCmax, xref=\"x\", yref=\"y\", text=\"PFCmax\", showarrow=True, arrowhead=2, ax=20, ay=-30)\n",
    "                          ])\n",
    "\n",
    "    # Show the PFC plot\n",
    "    fig_pfc.show()\n",
    "\n",
    "    # Create Plotly figure for Mg\n",
    "    fig_mg = go.Figure()\n",
    "\n",
    "    # Add Mg lines for each key\n",
    "    for key in Mgvalues_dict.keys():\n",
    "        fig_mg.add_trace(go.Scatter(x=times_dict[key], y=Mgvalues_dict[key], mode='lines', name=f'Mg over time ({key})', line=dict(color=color_dict[key])))\n",
    "\n",
    "    # Add horizontal lines for Mgmin and Mgmax\n",
    "    fig_mg.add_shape(type=\"line\", x0=tmin, y0=Mgmin, x1=tmax, y1=Mgmin, line=dict(color=\"firebrick\", width=2, dash=\"dash\"), name=\"Mgmin\")\n",
    "    fig_mg.add_shape(type=\"line\", x0=tmin, y0=Mgmax, x1=tmax, y1=Mgmax, line=dict(color=\"green\", width=2, dash=\"dash\"), name=\"Mgmax\")\n",
    "\n",
    "    # Customize layout for Mg figure\n",
    "    fig_mg.update_layout(title='Evolution de la fonte dans le Four de Coulée au cours du temps (Mg)', \n",
    "                         xaxis_title='Time (minutes)', yaxis_title='Mg (kg)', \n",
    "                         template='plotly', showlegend=True,\n",
    "                         annotations=[\n",
    "                              dict(x=tmax, y=Mgmin, xref=\"x\", yref=\"y\", text=\"Mgmin\", showarrow=True, arrowhead=2, ax=20, ay=-30),\n",
    "                              dict(x=tmax, y=Mgmax, xref=\"x\", yref=\"y\", text=\"Mgmax\", showarrow=True, arrowhead=2, ax=20, ay=-30)\n",
    "                          ])\n",
    "\n",
    "    # Show the Mg plot\n",
    "    fig_mg.show()\n",
    "\n",
    "# Call the function with the appropriate dictionaries and parameters\n",
    "Plot_consom(PFC_Consomvalues_dict, Mgvalues_dict, times_dict, PFCmin, PFCmax, Mgmin, Mgmax)\n"
   ]
  },
  {
   "cell_type": "markdown",
   "metadata": {},
   "source": [
    "# Autres Brouillon"
   ]
  },
  {
   "cell_type": "markdown",
   "metadata": {},
   "source": [
    "\n",
    "Tu es un mathématicien et du dois effectuer cette tache suivant :\n",
    "\n",
    "Faire varier la fonction Consomation_fonteCoulee au cours du temps en min\n",
    "En conservant le temps t, La consomation PFC_Consom et \n",
    "le pourcentage de Mg dans un dictionnaire : times_dict, PFC_Consomvalues_dict, Mgvalues_dict\n",
    "On souhaite interompre la consomation avec une variable la Panne :temps_Panne.\n",
    "Pendant la Panne : le pourcentage de Mg continue à varier.\n",
    "Cependant la panne peut intervenir à n'importe quel momment dans le temps et peut etre recurent, \n",
    "c'est un bouton que l'utilisateurs active ou non en donnant la durrée de la Panne temps_Panne\n",
    "\n",
    "\n",
    "n'hésite pas a modifier  Consomation_fonteCoulee pour repondre à ses besoins !!!\n",
    "Si tu as des questions ou s'il te manque certaines informations, n'hésite pas à me les demander !!\n"
   ]
  }
 ],
 "metadata": {
  "kernelspec": {
   "display_name": "Python 3",
   "language": "python",
   "name": "python3"
  },
  "language_info": {
   "codemirror_mode": {
    "name": "ipython",
    "version": 3
   },
   "file_extension": ".py",
   "mimetype": "text/x-python",
   "name": "python",
   "nbconvert_exporter": "python",
   "pygments_lexer": "ipython3",
   "version": "3.12.2"
  }
 },
 "nbformat": 4,
 "nbformat_minor": 2
}
