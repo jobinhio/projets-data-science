{
 "cells": [
  {
   "cell_type": "code",
   "execution_count": 1,
   "metadata": {},
   "outputs": [],
   "source": [
    "import codeEF as EF\n",
    "import codeBR as BR \n",
    "import codemesh as MESH\n",
    "import matplotlib.pyplot as plt\n",
    "import numpy as np"
   ]
  },
  {
   "cell_type": "markdown",
   "metadata": {},
   "source": [
    "### Affichage de $\\Omega$"
   ]
  },
  {
   "cell_type": "code",
   "execution_count": 3,
   "metadata": {},
   "outputs": [
    {
     "data": {
      "text/plain": [
       "[<matplotlib.lines.Line2D at 0x7f6164a7a430>]"
      ]
     },
     "execution_count": 3,
     "metadata": {},
     "output_type": "execute_result"
    },
    {
     "data": {
      "image/png": "[encoded data removed]",
      "text/plain": [
       "<Figure size 432x288 with 1 Axes>"
      ]
     },
     "metadata": {
      "needs_background": "light"
     },
     "output_type": "display_data"
    }
   ],
   "source": [
    "val_spe = [ 0.,0.19, 0.21,0.39,0.41,0.59,0.61,0.79,0.81,1.]\n",
    "\n",
    "\n",
    "Nel  =  100000\n",
    "h = 1/Nel\n",
    "m = np.arange(0,1,h)\n",
    "nodes = np.array(list(m) + [1])\n",
    "\n",
    "Omega2 = []\n",
    "Omega1 = []\n",
    "val = 0\n",
    "for i in nodes :\n",
    "    if (i==0.19 or i==0.21) or (i==0.39 or i==0.41) or (i==0.59 or i==0.61) or (i==0.79 or i==0.81) :\n",
    "        Omega2.append(val)\n",
    "    else:\n",
    "        Omega1.append(val)\n",
    "\n",
    "plt.plot(Omega1)\n",
    "plt.plot(Omega2)"
   ]
  },
  {
   "cell_type": "code",
   "execution_count": null,
   "metadata": {},
   "outputs": [],
   "source": []
  },
  {
   "cell_type": "markdown",
   "metadata": {},
   "source": [
    "### Affichage des fonctions de bases "
   ]
  },
  {
   "cell_type": "code",
   "execution_count": 2,
   "metadata": {},
   "outputs": [
    {
     "data": {
      "image/png": "[encoded data removed]",
      "text/plain": [
       "<Figure size 432x288 with 1 Axes>"
      ]
     },
     "metadata": {
      "needs_background": "light"
     },
     "output_type": "display_data"
    }
   ],
   "source": [
    "# affichage des fonctions de bases \n",
    "\n",
    "def fct_base(nodes,x_imoins1,x_i,x_iplus1,h):\n",
    "    f = []\n",
    "    for x in nodes :\n",
    "        val = ((x-x_imoins1)/h)*((x >= x_imoins1) and (x < x_i)) + (-(x-x_iplus1)/h)*((x > x_i) and (x <= x_iplus1)) + (1)*(x == x_i)\n",
    "        f.append(val)\n",
    "    return f\n",
    "\n",
    "\n",
    "\n",
    "a,b,h = 0,1,0.01\n",
    "nodes = np.arange(a,b,h)\n",
    "\n",
    "# ph_i\n",
    "i = 20\n",
    "x_imoins1,x_i,x_iplus1 = nodes[i-1],nodes[i],nodes[i+1]\n",
    "ph_i = fct_base(nodes,x_imoins1,x_i,x_iplus1,h)\n",
    "\n",
    "# ph_i-1\n",
    "imoins1 = i-1\n",
    "x_imoins1,x_i,x_iplus1 = nodes[imoins1-1],nodes[imoins1],nodes[imoins1+1]\n",
    "ph_imoins1 = fct_base(nodes,x_imoins1,x_i,x_iplus1,h)\n",
    "\n",
    "# ph_i+1\n",
    "iplus1 = i+1\n",
    "x_imoins1,x_i,x_iplus1 = nodes[iplus1-1],nodes[iplus1],nodes[iplus1+1]\n",
    "ph_iplus1 = fct_base(nodes,x_imoins1,x_i,x_iplus1,h)\n",
    "\n",
    "\n",
    "\n",
    "# on affiche les ph_i\n",
    "scale = 4\n",
    "plt.plot(ph_imoins1[i-scale:i+scale],label = r'$\\varphi_{i-1}$')\n",
    "plt.plot(ph_i[i-scale:i+scale],label = r'$\\varphi_{i}$')\n",
    "plt.plot(ph_iplus1[i-scale:i+scale],label = r'$\\varphi_{i+1}$')\n",
    "plt.legend(loc='best')\n",
    "plt.title(\"Les fonctions de base de $V_h$ \")\n",
    "plt.show()\n"
   ]
  },
  {
   "cell_type": "markdown",
   "metadata": {},
   "source": [
    "### Test mesh "
   ]
  },
  {
   "cell_type": "code",
   "execution_count": 2,
   "metadata": {},
   "outputs": [
    {
     "name": "stdout",
     "output_type": "stream",
     "text": [
      "500 500\n"
     ]
    }
   ],
   "source": [
    "N = 500\n",
    "Nel  =  N - 1 #N \n",
    "h = 1/Nel\n",
    "m = np.arange(0,1,h)\n",
    "if (len(m) == N ):\n",
    "        # pas d'ajout de 1 \n",
    "    Nel = np.size(m)\n",
    "else :\n",
    "    nodes = np.array(list(m) + [1]) #ajout de 1 \n",
    "    Nel = np.size(nodes)\n",
    "\n",
    "print(Nel,len(m))\n"
   ]
  },
  {
   "cell_type": "code",
   "execution_count": 6,
   "metadata": {},
   "outputs": [],
   "source": [
    "N = 10\n",
    "mh = MESH.mesh(N)\n",
    "# print(\"nodes : \", mh.nodes)\n",
    "# print(\"len(nodes) : \", len(mh.nodes))\n",
    "# print(\"h : \", mh.h)\n",
    "\n",
    "# print(\" id_Omega1 : \", mh.id_Omega1)\n",
    "# print(\" id_Omega2 : \", mh. id_Omega2 )\n"
   ]
  },
  {
   "cell_type": "markdown",
   "metadata": {},
   "source": [
    "### Test EF "
   ]
  },
  {
   "cell_type": "code",
   "execution_count": 7,
   "metadata": {},
   "outputs": [
    {
     "name": "stdout",
     "output_type": "stream",
     "text": [
      "l,k : (0, 999)\n"
     ]
    }
   ],
   "source": [
    "# Maillage omega\n",
    "Nel = 1000\n",
    "mh = MESH.mesh(Nel)\n",
    "\n",
    "\n",
    "# Assemblage matrix\n",
    "femP1 = EF.fem(mh)\n",
    "\n",
    "A_1,A_2,M ,b = femP1.assemble_matrix()\n",
    "A_1,A_2,M ,b = A_1.toarray(),A_2.toarray(),M.toarray() ,b\n",
    "\n",
    "# plt.spy(A_1, precision=0.000001, markersize = 2)\n",
    "# plt.title(\"Visualisation de $A_1$, avec N = \" + str(Nel))\n",
    "# plt.show()\n",
    "\n",
    "\n",
    "# plt.spy(A_2, precision=0.00001, markersize = 2)\n",
    "# plt.title(\"Visualisation de $A_2$, avec N = \" + str(Nel))\n",
    "# plt.show()\n",
    "\n",
    "\n",
    "# plt.spy(M, markersize = 2)\n",
    "# plt.title(\"Visualisation de $M$, avec N = \" + str(Nel))\n",
    "# plt.show()\n",
    "\n",
    "\n",
    "\n",
    "# # Resolutions\n",
    "\n",
    "\n",
    "# solexacte = EF.solexacte\n",
    "# mu = 1\n",
    "# uef = femP1.U(mu)\n",
    "# uef = femP1.solve(mu,solexacte)"
   ]
  },
  {
   "cell_type": "code",
   "execution_count": null,
   "metadata": {},
   "outputs": [],
   "source": []
  },
  {
   "cell_type": "markdown",
   "metadata": {},
   "source": [
    "### Etude de convergence"
   ]
  },
  {
   "cell_type": "code",
   "execution_count": 4,
   "metadata": {},
   "outputs": [
    {
     "data": {
      "image/png": "[encoded data removed]",
      "text/plain": [
       "<Figure size 432x288 with 1 Axes>"
      ]
     },
     "metadata": {
      "needs_background": "light"
     },
     "output_type": "display_data"
    },
    {
     "name": "stdout",
     "output_type": "stream",
     "text": [
      "pente H1 =  2.003852427535111\n",
      "pente L2 =  2.003862266892234\n"
     ]
    }
   ],
   "source": [
    "Liste_n = [100,200,300,400,600,800,1100,1400,1800,3000,4000,6000,8000,10000]\n",
    "\n",
    "H = [1/i for i in Liste_n]\n",
    "\n",
    "mu = 1\n",
    "L_normL2  , L_normeH1 = EF.genere_norme(Liste_n,mu)\n",
    "\n",
    "EF.plot_norme(H,L_normL2  , L_normeH1)\n",
    "EF.print_pente(H,L_normL2  , L_normeH1)"
   ]
  },
  {
   "cell_type": "code",
   "execution_count": null,
   "metadata": {},
   "outputs": [],
   "source": []
  },
  {
   "cell_type": "code",
   "execution_count": 2,
   "metadata": {},
   "outputs": [],
   "source": [
    "# calcul de uex en fonction de nmax\n",
    "# Maillage omega\n",
    "nmax = 10000\n",
    "mh = MESH.mesh(nmax)\n",
    "nodes = mh.nodes\n",
    "\n",
    "# calcul de uex \n",
    "uex = EF.solexacte(nodes)"
   ]
  },
  {
   "cell_type": "code",
   "execution_count": 3,
   "metadata": {},
   "outputs": [],
   "source": [
    "# gener sol EF et leur nodes\n",
    "Liste_n = [100,200,300,400,600,800,1000,2000,3000,4000,6000,8000,nmax]\n",
    "H = [1/i for i in Liste_n]\n",
    "mu = 1\n",
    "\n",
    "Liste_m , Liste_uapp = EF.genere_uapp(Liste_n,mu)\n",
    "\n",
    "\n",
    "# interpolation des sol EF\n",
    "U_h = EF.genere_uappinterp(Liste_m ,Liste_uapp,nodes)"
   ]
  },
  {
   "cell_type": "code",
   "execution_count": 4,
   "metadata": {},
   "outputs": [
    {
     "data": {
      "image/png": "[encoded data removed]",
      "text/plain": [
       "<Figure size 432x288 with 1 Axes>"
      ]
     },
     "metadata": {
      "needs_background": "light"
     },
     "output_type": "display_data"
    },
    {
     "name": "stdout",
     "output_type": "stream",
     "text": [
      "pente H1 =  1.1429643962176588\n",
      "pente L2 =  2.0207896327603576\n"
     ]
    }
   ],
   "source": [
    "# Maillage omega\n",
    "mh = MESH.mesh(nmax)\n",
    "Liste_m.append(mh.nodes)\n",
    "\n",
    "\n",
    "# Assemblage matrix\n",
    "femP1 = EF.fem(mh)\n",
    "A_1,A_2,M ,b = femP1.assemble_matrix()\n",
    "\n",
    "N = A_1 + mu*A_2\n",
    "\n",
    "L_normL2  , L_normeH1 = EF.norm_P1(uex, U_h,M,N)\n",
    "\n",
    "EF.plot_norme(H,L_normL2  , L_normeH1)\n",
    "EF.print_pente(H,L_normL2  , L_normeH1)"
   ]
  },
  {
   "cell_type": "code",
   "execution_count": null,
   "metadata": {},
   "outputs": [],
   "source": []
  }
 ],
 "metadata": {
  "kernelspec": {
   "display_name": "Python 3.8.10 64-bit",
   "language": "python",
   "name": "python3"
  },
  "language_info": {
   "codemirror_mode": {
    "name": "ipython",
    "version": 3
   },
   "file_extension": ".py",
   "mimetype": "text/x-python",
   "name": "python",
   "nbconvert_exporter": "python",
   "pygments_lexer": "ipython3",
   "version": "3.8.10"
  },
  "orig_nbformat": 4,
  "vscode": {
   "interpreter": {
    "hash": "31f2aee4e71d21fbe5cf8b01ff0e069b9275f58929596ceb00d14d90e3e16cd6"
   }
  }
 },
 "nbformat": 4,
 "nbformat_minor": 2
}
