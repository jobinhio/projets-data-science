{
 "cells": [
  {
   "cell_type": "code",
   "execution_count": 110,
   "metadata": {},
   "outputs": [],
   "source": [
    "import openpyxl\n",
    "from openpyxl.utils import column_index_from_string, get_column_letter\n",
    "\n",
    "import openpyxl\n",
    "from openpyxl.utils import column_index_from_string\n",
    "import openpyxl\n",
    "import pandas as pd\n"
   ]
  },
  {
   "cell_type": "markdown",
   "metadata": {},
   "source": [
    "### Pre-traitement"
   ]
  },
  {
   "cell_type": "markdown",
   "metadata": {},
   "source": [
    "### Input et Output entrée"
   ]
  },
  {
   "cell_type": "markdown",
   "metadata": {},
   "source": [
    "#### Output"
   ]
  },
  {
   "cell_type": "code",
   "execution_count": 118,
   "metadata": {},
   "outputs": [],
   "source": [
    "# Specify the path to your Excel file\n",
    "excel_file_path = './../Donnees/Databrut.xlsx'\n",
    "\n",
    "# Load the workbook\n",
    "workbook = openpyxl.load_workbook(excel_file_path)\n",
    "\n",
    "# Select the active sheet\n",
    "sheet = workbook.active\n",
    "\n",
    "# Specify the column letters you want to select\n",
    "selected_columns_letters = [\"K\",\"O\", \"P\", \"Q\"]\n",
    "\n",
    "# Convert letters to column indices\n",
    "selected_columns_indices = [column_index_from_string(letter) for letter in selected_columns_letters]\n",
    "# Use the indices to select columns\n",
    "\n",
    "\n",
    "# Create a dictionary to store the selected columns\n",
    "stored_data = {}\n",
    "\n",
    "# Define column names (you can customize these)\n",
    "column_names = [\"Water_out\", \"Power_out\", \"Power_in\", \"COP\"]\n",
    "\n",
    "# Iterate over the selected columns and store data in the dictionary\n",
    "for col_index, column_name in zip(selected_columns_indices, column_names):\n",
    "    # Access the column using the column index\n",
    "    selected_column = sheet[get_column_letter(col_index)]\n",
    "    # Store column data in the dictionary\n",
    "    stored_data[column_name] = [cell.value for cell in selected_column]\n",
    "\n",
    "# Now, 'stored_data' is a dictionary where keys are column names and values are lists of column data\n",
    "\n",
    "# Close the workbook\n",
    "workbook.close()"
   ]
  },
  {
   "cell_type": "code",
   "execution_count": 119,
   "metadata": {},
   "outputs": [
    {
     "name": "stdout",
     "output_type": "stream",
     "text": [
      "     Water_out    Power_out     Power_in       COP\n",
      "4    35.098729  8628.775284  2022.298343  4.279641\n",
      "5    35.170939  8589.444308  2044.149171  4.214619\n",
      "6    35.029724  7641.797307  1748.723757  4.383122\n",
      "7    35.118453  6873.783742  1477.259669  4.667061\n",
      "8    35.050442  6035.440249  1248.497238  4.848746\n",
      "..         ...          ...          ...       ...\n",
      "129  54.203023  3519.253648  2367.003754  1.486797\n",
      "130  54.241624  3545.644394  2262.551720  1.567100\n",
      "131  53.182450  2757.048670  1684.523486  1.636694\n",
      "132  51.688952  1626.207401  1171.696004  1.387909\n",
      "133  49.027759   138.371200   735.992197  0.188006\n",
      "\n",
      "[77 rows x 4 columns]\n"
     ]
    }
   ],
   "source": [
    "# Convert stored_data to a Pandas DataFrame\n",
    "df = pd.DataFrame(stored_data)\n",
    "\n",
    "# Convert the entire DataFrame to numeric values\n",
    "df_numeric = df.apply(pd.to_numeric, errors='coerce')\n",
    "\n",
    "# Remove rows that contain non-numeric values\n",
    "df_output = df_numeric.dropna()\n",
    "\n",
    "# Display the cleaned DataFrame\n",
    "print(df_output)"
   ]
  },
  {
   "cell_type": "code",
   "execution_count": 120,
   "metadata": {},
   "outputs": [],
   "source": [
    "# export l'ouput en fichier Excel\n",
    "Outputpath = './../Donnees/Outputdata.xlsx'\n",
    "df_output.to_excel(Outputpath, index=False)"
   ]
  },
  {
   "cell_type": "markdown",
   "metadata": {},
   "source": [
    "#### Input"
   ]
  },
  {
   "cell_type": "code",
   "execution_count": 155,
   "metadata": {},
   "outputs": [],
   "source": [
    "# Specify the path to your Excel file\n",
    "excel_file_path = './../Donnees/Databrut.xlsx'\n",
    "\n",
    "# Load the workbook\n",
    "workbook = openpyxl.load_workbook(excel_file_path)\n",
    "\n",
    "# Select the active sheet\n",
    "sheet = workbook.active\n",
    "\n",
    "# Specify the column letters you want to select\n",
    "selected_columns_letters = [\"I\", \"J\",\"L\"]\n",
    "\n",
    "# Convert letters to column indices\n",
    "selected_columns_indices = [column_index_from_string(letter) for letter in selected_columns_letters]\n",
    "\n",
    "# Use the indices to select columns\n",
    "selected_columns = sheet.iter_cols(min_col=min(selected_columns_indices), max_col=max(selected_columns_indices), values_only=True)\n",
    "\n",
    "# Create a dictionary to store the selected columns\n",
    "stored_data = {}\n",
    "\n",
    "# Define column names (you can customize these)\n",
    "column_names =[\"Frequency\", \"Water_in\", \"Flow\" ]\n",
    "\n",
    "# Iterate over the selected columns and store data in the dictionary\n",
    "for column, column_name in zip(selected_columns, column_names):\n",
    "    stored_data[column_name] = list(column)\n",
    "\n",
    "# Now, 'stored_data' is a dictionary where keys are column names\n",
    "\n",
    "# Close the workbook\n",
    "workbook.close()\n",
    "\n",
    "# Ajout de la colonne T_air\n",
    "NbA12W35,NbA12W45 = 9,9\n",
    "NbA7W35,NbA7W45,NbA7W55 = 13,12,4\n",
    "NbA2W35,NbA2W45,NbA2W55  = 5,5,5\n",
    "NbAmoins7W35,NbAmoins7W45,NbAmoins7W55 = 5,5,5\n",
    "\n",
    "NbA12 = NbA12W35+NbA12W45\n",
    "NbA7 = NbA7W35+NbA7W45+NbA7W55\n",
    "NbA2 = NbA2W35+NbA2W45+NbA2W55\n",
    "NbAmoins7 = NbAmoins7W35+NbAmoins7W45+NbAmoins7W55\n",
    "\n",
    "values = [12]*NbA12 + [7]*NbA7 + [2]*NbA2 + [-7]*NbAmoins7\n"
   ]
  },
  {
   "cell_type": "code",
   "execution_count": 158,
   "metadata": {},
   "outputs": [
    {
     "name": "stdout",
     "output_type": "stream",
     "text": [
      "     Frequency   Water_in       Flow  T_air\n",
      "4        105.6  30.112818  35.098729     12\n",
      "5         98.4  30.139006  35.170939     12\n",
      "6         88.2  30.081215  35.029724     12\n",
      "7         78.0  30.209724  35.118453     12\n",
      "8         68.4  30.096077  35.050442     12\n",
      "..         ...        ...        ...    ...\n",
      "129      105.6  49.644142  54.203023     -7\n",
      "130       88.2  49.644146  54.241624     -7\n",
      "131       68.4  49.610203  53.182450     -7\n",
      "132       48.0  49.582365  51.688952     -7\n",
      "133       28.8  48.848730  49.027759     -7\n",
      "\n",
      "[77 rows x 4 columns]\n"
     ]
    },
    {
     "name": "stderr",
     "output_type": "stream",
     "text": [
      "/tmp/ipykernel_820/3459895846.py:11: SettingWithCopyWarning: \n",
      "A value is trying to be set on a copy of a slice from a DataFrame.\n",
      "Try using .loc[row_indexer,col_indexer] = value instead\n",
      "\n",
      "See the caveats in the documentation: https://pandas.pydata.org/pandas-docs/stable/user_guide/indexing.html#returning-a-view-versus-a-copy\n",
      "  df_input['T_air'] = values\n"
     ]
    }
   ],
   "source": [
    "# Convert stored_data to a Pandas DataFrame\n",
    "df = pd.DataFrame(stored_data)\n",
    "\n",
    "# Convert the entire DataFrame to numeric values\n",
    "df_numeric = df.apply(pd.to_numeric, errors='coerce')\n",
    "\n",
    "# Remove rows that contain non-numeric values\n",
    "df_input = df_numeric.dropna()\n",
    "\n",
    "# Assign values to the \"T_air\" column \n",
    "df_input['T_air'] = values\n",
    "\n",
    "# Display the cleaned DataFrame\n",
    "print(df_input)"
   ]
  },
  {
   "cell_type": "code",
   "execution_count": 157,
   "metadata": {},
   "outputs": [],
   "source": [
    "# export l'input en fichier Excel\n",
    "Inputpath = './../Donnees/Inputdata.xlsx'\n",
    "df_input.to_excel(Inputpath, index=False)"
   ]
  },
  {
   "cell_type": "markdown",
   "metadata": {},
   "source": [
    "### Class"
   ]
  },
  {
   "cell_type": "code",
   "execution_count": 58,
   "metadata": {},
   "outputs": [],
   "source": [
    "# Import the needed (FMPy) packages\n",
    "from fmpy import dump, read_model_description, extract\n",
    "from fmpy.fmi2 import FMU2Slave\n",
    "from fmpy.util import plot_result #, download_test_file\n",
    "import numpy as np\n",
    "#import shutil"
   ]
  },
  {
   "cell_type": "code",
   "execution_count": 67,
   "metadata": {},
   "outputs": [],
   "source": [
    "class CustomSimulator:\n",
    "    def __init__(self, fmu_path):\n",
    "        self.fmu_path = fmu_path\n",
    "        self.model_description = read_model_description(fmu_path)\n",
    "        self.unzipdir = extract(fmu_path)\n",
    "        self.modelIdentifier = self.model_description.coSimulation.modelIdentifier\n",
    "        self.guid = self.model_description.guid\n",
    "        self.vrs = {\n",
    "            var.name: var.valueReference for var in self.model_description.modelVariables}\n",
    "        \n",
    "        self.input_variables = [\n",
    "        var for var in self.model_description.modelVariables if var.causality == 'input']\n",
    "\n",
    "    def simulate(self,Frequency,Water_in,Flow,T_air):\n",
    "        start_time = 0.0\n",
    "        stop_time = 1500.0\n",
    "        step_size = 1\n",
    "\n",
    "        fmu = FMU2Slave(guid=self.guid, unzipDirectory=self.unzipdir,\n",
    "                        modelIdentifier=self.modelIdentifier, instanceName='instance1')\n",
    "\n",
    "        fmu.instantiate()\n",
    "\n",
    "        start_values = {\n",
    "            'u_compressorFrequency': 88.2,     # Hz\n",
    "            'u_VFlow': 1.33 / 3600,            # m3/s\n",
    "            'u_T_watrer_in': 303.15,           # K\n",
    "            'u_T_air': 285.15,                 # K\n",
    "\n",
    "            'x_areaLeakage': 5e-7,             # m², valeur dans [1e-8 ; 1e-6]\n",
    "            'x_areaSuctionValve': 5e-4,        # m², valeur dans [2e-6 ; 1e-3]\n",
    "            'x_areaDischargeValve': 5e-5,      # m², valeur dans [1e-4 ; 1e-7]\n",
    "            'x_relativeDeadSpace': 0.05,       # valeur dans [0.001 ; 0.1]\n",
    "            'x_driveEfficiency': 0.9           # valeur dans [0.85 ; 0.98]\n",
    "        }\n",
    "\n",
    "        start_values['u_compressorFrequency'] = Frequency\n",
    "        start_values['u_VFlow'] = Flow\n",
    "        start_values['u_T_watrer_in'] = Water_in\n",
    "        start_values['u_T_air'] = T_air\n",
    " \n",
    "\n",
    "        fmu.setupExperiment(startTime=start_time)\n",
    "\n",
    "\n",
    "        for var_name, start_value in start_values.items():\n",
    "            fmu.setReal([self.vrs[var_name]], [start_value])\n",
    "\n",
    "\n",
    "        fmu.enterInitializationMode()\n",
    "        fmu.exitInitializationMode()\n",
    "\n",
    "\n",
    "        # print('Simulating...')\n",
    "        time = np.arange(start_time, stop_time, step_size)\n",
    "        result = []\n",
    "\n",
    "        for t in time:\n",
    "            fmu.doStep(currentCommunicationPoint=t,\n",
    "                    communicationStepSize=step_size)\n",
    "            \n",
    "            # Retrieve the outputs\n",
    "            COP_Freq, Power_in, Power_out,Water_out = fmu.getReal(\n",
    "                [self.vrs['y_COP'], self.vrs['y_heatPower'], self.vrs['y_elecPower'], self.vrs['y_T_out']])\n",
    "            result.append((t, COP_Freq, Power_in, Power_out,Water_out))\n",
    "\n",
    "        fmu.terminate()\n",
    "        fmu.freeInstance()\n",
    "\n",
    "        result = np.array(result, dtype=np.dtype([('time', np.float64), (\n",
    "            'y_COP', np.float64), ('Power_in', np.float64), ('Power_out', np.float64)]))\n",
    "\n",
    "        return result\n",
    "\n",
    "    def run_simulations(self, inputs):\n",
    "        for index, row in inputs.iterrows():\n",
    "            self.simulate(Frequency=row['Frequency'], Water_in=row['Water_in'],\n",
    "                          Flow=row['Flow'],T_air=row['T_air'])\n"
   ]
  },
  {
   "cell_type": "code",
   "execution_count": 169,
   "metadata": {},
   "outputs": [
    {
     "ename": "TypeError",
     "evalue": "CustomSimulator.simulate() takes 1 positional argument but 5 were given",
     "output_type": "error",
     "traceback": [
      "\u001b[0;31m---------------------------------------------------------------------------\u001b[0m",
      "\u001b[0;31mTypeError\u001b[0m                                 Traceback (most recent call last)",
      "Cell \u001b[0;32mIn[169], line 5\u001b[0m\n\u001b[1;32m      2\u001b[0m simulator \u001b[38;5;241m=\u001b[39m CustomSimulator(\u001b[38;5;124m'\u001b[39m\u001b[38;5;124mHPFMU_20_Linux.fmu\u001b[39m\u001b[38;5;124m'\u001b[39m)\n\u001b[1;32m      4\u001b[0m Frequency,Water_in,Flow,T_air  \u001b[38;5;241m=\u001b[39m df_input\u001b[38;5;241m.\u001b[39miloc[\u001b[38;5;241m0\u001b[39m, :]\n\u001b[0;32m----> 5\u001b[0m result \u001b[38;5;241m=\u001b[39m \u001b[43msimulator\u001b[49m\u001b[38;5;241;43m.\u001b[39;49m\u001b[43msimulate\u001b[49m\u001b[43m(\u001b[49m\u001b[43mFrequency\u001b[49m\u001b[43m,\u001b[49m\u001b[43mWater_in\u001b[49m\u001b[43m,\u001b[49m\u001b[43mFlow\u001b[49m\u001b[43m,\u001b[49m\u001b[43mT_air\u001b[49m\u001b[43m)\u001b[49m\n\u001b[1;32m      6\u001b[0m \u001b[38;5;66;03m# result[-1]\u001b[39;00m\n\u001b[1;32m      7\u001b[0m \n\u001b[1;32m      8\u001b[0m \u001b[38;5;66;03m# simulator.run_simulations(df_input)\u001b[39;00m\n",
      "\u001b[0;31mTypeError\u001b[0m: CustomSimulator.simulate() takes 1 positional argument but 5 were given"
     ]
    }
   ],
   "source": [
    "# Assuming df is a DataFrame with simulation parameters\n",
    "simulator = CustomSimulator('HPFMU_20_Linux.fmu')\n",
    "\n",
    "Frequency,Water_in,Flow,T_air  = df_input.iloc[0, :]\n",
    "result = simulator.simulate(Frequency,Water_in,Flow,T_air)\n",
    "# result[-1]\n",
    "\n",
    "# simulator.run_simulations(df_input)"
   ]
  },
  {
   "cell_type": "code",
   "execution_count": null,
   "metadata": {},
   "outputs": [],
   "source": []
  },
  {
   "cell_type": "code",
   "execution_count": null,
   "metadata": {},
   "outputs": [],
   "source": []
  },
  {
   "cell_type": "code",
   "execution_count": null,
   "metadata": {},
   "outputs": [],
   "source": []
  },
  {
   "cell_type": "code",
   "execution_count": 25,
   "metadata": {},
   "outputs": [],
   "source": [
    "from pymoo.core.problem import ElementwiseProblem\n",
    "from pymoo.optimize import minimize\n",
    "from pymoo.algorithms.moo.nsga2 import NSGA2\n",
    "import numpy as np\n",
    "import pandas as pd\n",
    "from fmpy import read_model_description, extract\n",
    "from fmpy.fmi2 import FMU2Slave\n",
    "from fmpy.util import plot_result"
   ]
  },
  {
   "cell_type": "code",
   "execution_count": 26,
   "metadata": {},
   "outputs": [],
   "source": [
    "class CustomSimulator:\n",
    "    def __init__(self, fmu_path):\n",
    "        self.fmu_path = fmu_path\n",
    "        self.model_description = read_model_description(fmu_path)\n",
    "        self.unzipdir = extract(fmu_path)\n",
    "        self.modelIdentifier = self.model_description.coSimulation.modelIdentifier\n",
    "        self.guid = self.model_description.guid\n",
    "        self.vrs = {\n",
    "            var.name: var.valueReference for var in self.model_description.modelVariables}\n",
    "\n",
    "    def simulate(self, time, frequency, tair, twater, Qwater, show_plot=False):\n",
    "        start_time = 0.0\n",
    "        stop_time = 600\n",
    "        step_size = 1\n",
    "\n",
    "        fmu = FMU2Slave(guid=self.guid, unzipDirectory=self.unzipdir,\n",
    "                        modelIdentifier=self.modelIdentifier, instanceName='instance1')\n",
    "\n",
    "        fmu.instantiate()\n",
    "        fmu.setupExperiment(startTime=start_time)\n",
    "        fmu.enterInitializationMode()\n",
    "        fmu.exitInitializationMode()\n",
    "\n",
    "        # Set initial values based on the parameters\n",
    "        fmu.setReal([self.vrs['Frequency']], [frequency])\n",
    "        fmu.setReal([self.vrs['Temperature_cold_source']], [tair])\n",
    "        # Add other parameters as needed\n",
    "\n",
    "        time = start_time\n",
    "        rows = []\n",
    "\n",
    "        while time < stop_time:\n",
    "            # Update the inputs at each step if necessary\n",
    "            fmu.setReal([self.vrs['Frequency']], [frequency])\n",
    "            fmu.setReal([self.vrs['Temperature_cold_source']], [tair])\n",
    "\n",
    "            fmu.doStep(currentCommunicationPoint=time,\n",
    "                       communicationStepSize=step_size)\n",
    "            # Retrieve the outputs\n",
    "            Comp_Freq, Air_Ext_T, HP_Heat = fmu.getReal(\n",
    "                [self.vrs['Frequency'], self.vrs['Temperature_cold_source'], self.vrs['Power']])\n",
    "            rows.append((time, Comp_Freq, Air_Ext_T, HP_Heat))\n",
    "            time += step_size\n",
    "\n",
    "        fmu.terminate()\n",
    "        fmu.freeInstance()\n",
    "\n",
    "        result = np.array(rows, dtype=np.dtype([('time', np.float64), (\n",
    "            'Comp_Frequency', np.float64), ('Air_Ext_T', np.float64), ('HP_Heat', np.float64)]))\n",
    "\n",
    "        if show_plot:\n",
    "            plot_result(result)\n",
    "\n",
    "    def run_simulations(self, dataframe):\n",
    "        for index, row in dataframe.iterrows():\n",
    "            self.simulate(time=row['Time[s]'], frequency=row['Frequ[Hz]'],\n",
    "                          tair=row['Tair[°C]'], twater=row['Twaterin[°C]'], Qwater=row['Qwater[m3/s]'])\n"
   ]
  },
  {
   "cell_type": "code",
   "execution_count": 27,
   "metadata": {},
   "outputs": [
    {
     "ename": "Exception",
     "evalue": "Cannot find shared library /tmp/tmps5nxlnz_/binaries/linux64/PAC_0test1_DymolaSolver.so.",
     "output_type": "error",
     "traceback": [
      "\u001b[0;31m---------------------------------------------------------------------------\u001b[0m",
      "\u001b[0;31mException\u001b[0m                                 Traceback (most recent call last)",
      "Cell \u001b[0;32mIn[27], line 3\u001b[0m\n\u001b[1;32m      1\u001b[0m \u001b[38;5;66;03m# Assuming df is a DataFrame with simulation parameters\u001b[39;00m\n\u001b[1;32m      2\u001b[0m simulator \u001b[38;5;241m=\u001b[39m CustomSimulator(\u001b[38;5;124m'\u001b[39m\u001b[38;5;124mPAC_0test1_DymolaSolver.fmu\u001b[39m\u001b[38;5;124m'\u001b[39m)\n\u001b[0;32m----> 3\u001b[0m \u001b[43msimulator\u001b[49m\u001b[38;5;241;43m.\u001b[39;49m\u001b[43mrun_simulations\u001b[49m\u001b[43m(\u001b[49m\u001b[43mdf_input\u001b[49m\u001b[43m)\u001b[49m\n",
      "Cell \u001b[0;32mIn[26], line 56\u001b[0m, in \u001b[0;36mCustomSimulator.run_simulations\u001b[0;34m(self, dataframe)\u001b[0m\n\u001b[1;32m     54\u001b[0m \u001b[38;5;28;01mdef\u001b[39;00m \u001b[38;5;21mrun_simulations\u001b[39m(\u001b[38;5;28mself\u001b[39m, dataframe):\n\u001b[1;32m     55\u001b[0m     \u001b[38;5;28;01mfor\u001b[39;00m index, row \u001b[38;5;129;01min\u001b[39;00m dataframe\u001b[38;5;241m.\u001b[39miterrows():\n\u001b[0;32m---> 56\u001b[0m         \u001b[38;5;28;43mself\u001b[39;49m\u001b[38;5;241;43m.\u001b[39;49m\u001b[43msimulate\u001b[49m\u001b[43m(\u001b[49m\u001b[43mtime\u001b[49m\u001b[38;5;241;43m=\u001b[39;49m\u001b[43mrow\u001b[49m\u001b[43m[\u001b[49m\u001b[38;5;124;43m'\u001b[39;49m\u001b[38;5;124;43mTime[s]\u001b[39;49m\u001b[38;5;124;43m'\u001b[39;49m\u001b[43m]\u001b[49m\u001b[43m,\u001b[49m\u001b[43m \u001b[49m\u001b[43mfrequency\u001b[49m\u001b[38;5;241;43m=\u001b[39;49m\u001b[43mrow\u001b[49m\u001b[43m[\u001b[49m\u001b[38;5;124;43m'\u001b[39;49m\u001b[38;5;124;43mFrequ[Hz]\u001b[39;49m\u001b[38;5;124;43m'\u001b[39;49m\u001b[43m]\u001b[49m\u001b[43m,\u001b[49m\n\u001b[1;32m     57\u001b[0m \u001b[43m                      \u001b[49m\u001b[43mtair\u001b[49m\u001b[38;5;241;43m=\u001b[39;49m\u001b[43mrow\u001b[49m\u001b[43m[\u001b[49m\u001b[38;5;124;43m'\u001b[39;49m\u001b[38;5;124;43mTair[°C]\u001b[39;49m\u001b[38;5;124;43m'\u001b[39;49m\u001b[43m]\u001b[49m\u001b[43m,\u001b[49m\u001b[43m \u001b[49m\u001b[43mtwater\u001b[49m\u001b[38;5;241;43m=\u001b[39;49m\u001b[43mrow\u001b[49m\u001b[43m[\u001b[49m\u001b[38;5;124;43m'\u001b[39;49m\u001b[38;5;124;43mTwaterin[°C]\u001b[39;49m\u001b[38;5;124;43m'\u001b[39;49m\u001b[43m]\u001b[49m\u001b[43m,\u001b[49m\u001b[43m \u001b[49m\u001b[43mQwater\u001b[49m\u001b[38;5;241;43m=\u001b[39;49m\u001b[43mrow\u001b[49m\u001b[43m[\u001b[49m\u001b[38;5;124;43m'\u001b[39;49m\u001b[38;5;124;43mQwater[m3/s]\u001b[39;49m\u001b[38;5;124;43m'\u001b[39;49m\u001b[43m]\u001b[49m\u001b[43m)\u001b[49m\n",
      "Cell \u001b[0;32mIn[26], line 16\u001b[0m, in \u001b[0;36mCustomSimulator.simulate\u001b[0;34m(self, time, frequency, tair, twater, Qwater, show_plot)\u001b[0m\n\u001b[1;32m     13\u001b[0m stop_time \u001b[38;5;241m=\u001b[39m \u001b[38;5;241m600\u001b[39m\n\u001b[1;32m     14\u001b[0m step_size \u001b[38;5;241m=\u001b[39m \u001b[38;5;241m1\u001b[39m\n\u001b[0;32m---> 16\u001b[0m fmu \u001b[38;5;241m=\u001b[39m \u001b[43mFMU2Slave\u001b[49m\u001b[43m(\u001b[49m\u001b[43mguid\u001b[49m\u001b[38;5;241;43m=\u001b[39;49m\u001b[38;5;28;43mself\u001b[39;49m\u001b[38;5;241;43m.\u001b[39;49m\u001b[43mguid\u001b[49m\u001b[43m,\u001b[49m\u001b[43m \u001b[49m\u001b[43munzipDirectory\u001b[49m\u001b[38;5;241;43m=\u001b[39;49m\u001b[38;5;28;43mself\u001b[39;49m\u001b[38;5;241;43m.\u001b[39;49m\u001b[43munzipdir\u001b[49m\u001b[43m,\u001b[49m\n\u001b[1;32m     17\u001b[0m \u001b[43m                \u001b[49m\u001b[43mmodelIdentifier\u001b[49m\u001b[38;5;241;43m=\u001b[39;49m\u001b[38;5;28;43mself\u001b[39;49m\u001b[38;5;241;43m.\u001b[39;49m\u001b[43mmodelIdentifier\u001b[49m\u001b[43m,\u001b[49m\u001b[43m \u001b[49m\u001b[43minstanceName\u001b[49m\u001b[38;5;241;43m=\u001b[39;49m\u001b[38;5;124;43m'\u001b[39;49m\u001b[38;5;124;43minstance1\u001b[39;49m\u001b[38;5;124;43m'\u001b[39;49m\u001b[43m)\u001b[49m\n\u001b[1;32m     19\u001b[0m fmu\u001b[38;5;241m.\u001b[39minstantiate()\n\u001b[1;32m     20\u001b[0m fmu\u001b[38;5;241m.\u001b[39msetupExperiment(startTime\u001b[38;5;241m=\u001b[39mstart_time)\n",
      "File \u001b[0;32m/usr/local/lib/python3.10/dist-packages/fmpy/fmi2.py:524\u001b[0m, in \u001b[0;36mFMU2Slave.__init__\u001b[0;34m(self, instanceName, **kwargs)\u001b[0m\n\u001b[1;32m    520\u001b[0m \u001b[38;5;28;01mdef\u001b[39;00m \u001b[38;5;21m__init__\u001b[39m(\u001b[38;5;28mself\u001b[39m, instanceName\u001b[38;5;241m=\u001b[39m\u001b[38;5;28;01mNone\u001b[39;00m, \u001b[38;5;241m*\u001b[39m\u001b[38;5;241m*\u001b[39mkwargs):\n\u001b[1;32m    522\u001b[0m     kwargs[\u001b[38;5;124m'\u001b[39m\u001b[38;5;124minstanceName\u001b[39m\u001b[38;5;124m'\u001b[39m] \u001b[38;5;241m=\u001b[39m instanceName\n\u001b[0;32m--> 524\u001b[0m     \u001b[38;5;28;43msuper\u001b[39;49m\u001b[43m(\u001b[49m\u001b[43mFMU2Slave\u001b[49m\u001b[43m,\u001b[49m\u001b[43m \u001b[49m\u001b[38;5;28;43mself\u001b[39;49m\u001b[43m)\u001b[49m\u001b[38;5;241;43m.\u001b[39;49m\u001b[38;5;21;43m__init__\u001b[39;49m\u001b[43m(\u001b[49m\u001b[38;5;241;43m*\u001b[39;49m\u001b[38;5;241;43m*\u001b[39;49m\u001b[43mkwargs\u001b[49m\u001b[43m)\u001b[49m\n\u001b[1;32m    526\u001b[0m     \u001b[38;5;66;03m# Simulating the slave\u001b[39;00m\n\u001b[1;32m    528\u001b[0m     \u001b[38;5;28mself\u001b[39m\u001b[38;5;241m.\u001b[39m_fmi2Function(\u001b[38;5;124m'\u001b[39m\u001b[38;5;124mfmi2SetRealInputDerivatives\u001b[39m\u001b[38;5;124m'\u001b[39m,\n\u001b[1;32m    529\u001b[0m                        [\u001b[38;5;124m'\u001b[39m\u001b[38;5;124mc\u001b[39m\u001b[38;5;124m'\u001b[39m, \u001b[38;5;124m'\u001b[39m\u001b[38;5;124mvr\u001b[39m\u001b[38;5;124m'\u001b[39m, \u001b[38;5;124m'\u001b[39m\u001b[38;5;124mnvr\u001b[39m\u001b[38;5;124m'\u001b[39m, \u001b[38;5;124m'\u001b[39m\u001b[38;5;124morder\u001b[39m\u001b[38;5;124m'\u001b[39m, \u001b[38;5;124m'\u001b[39m\u001b[38;5;124mvalue\u001b[39m\u001b[38;5;124m'\u001b[39m],\n\u001b[1;32m    530\u001b[0m                        [fmi2Component, POINTER(fmi2ValueReference), c_size_t, POINTER(fmi2Integer), POINTER(fmi2Real)])\n",
      "File \u001b[0;32m/usr/local/lib/python3.10/dist-packages/fmpy/fmi2.py:85\u001b[0m, in \u001b[0;36m_FMU2.__init__\u001b[0;34m(self, **kwargs)\u001b[0m\n\u001b[1;32m     83\u001b[0m \u001b[38;5;28;01mdef\u001b[39;00m \u001b[38;5;21m__init__\u001b[39m(\u001b[38;5;28mself\u001b[39m, \u001b[38;5;241m*\u001b[39m\u001b[38;5;241m*\u001b[39mkwargs):\n\u001b[0;32m---> 85\u001b[0m     \u001b[38;5;28;43msuper\u001b[39;49m\u001b[43m(\u001b[49m\u001b[43m_FMU2\u001b[49m\u001b[43m,\u001b[49m\u001b[43m \u001b[49m\u001b[38;5;28;43mself\u001b[39;49m\u001b[43m)\u001b[49m\u001b[38;5;241;43m.\u001b[39;49m\u001b[38;5;21;43m__init__\u001b[39;49m\u001b[43m(\u001b[49m\u001b[38;5;241;43m*\u001b[39;49m\u001b[38;5;241;43m*\u001b[39;49m\u001b[43mkwargs\u001b[49m\u001b[43m)\u001b[49m\n\u001b[1;32m     87\u001b[0m     \u001b[38;5;66;03m# Inquire version numbers of header files and setting logging status\u001b[39;00m\n\u001b[1;32m     88\u001b[0m     \u001b[38;5;28mself\u001b[39m\u001b[38;5;241m.\u001b[39m_fmi2Function(\u001b[38;5;124m'\u001b[39m\u001b[38;5;124mfmi2GetTypesPlatform\u001b[39m\u001b[38;5;124m'\u001b[39m, [], [], fmi2String)\n",
      "File \u001b[0;32m/usr/local/lib/python3.10/dist-packages/fmpy/fmi1.py:156\u001b[0m, in \u001b[0;36m_FMU.__init__\u001b[0;34m(self, guid, modelIdentifier, unzipDirectory, instanceName, libraryPath, fmiCallLogger, requireFunctions)\u001b[0m\n\u001b[1;32m    154\u001b[0m \u001b[38;5;66;03m# check if shared library exists\u001b[39;00m\n\u001b[1;32m    155\u001b[0m \u001b[38;5;28;01mif\u001b[39;00m \u001b[38;5;129;01mnot\u001b[39;00m os\u001b[38;5;241m.\u001b[39mpath\u001b[38;5;241m.\u001b[39misfile(libraryPath):\n\u001b[0;32m--> 156\u001b[0m     \u001b[38;5;28;01mraise\u001b[39;00m \u001b[38;5;167;01mException\u001b[39;00m(\u001b[38;5;124m\"\u001b[39m\u001b[38;5;124mCannot find shared library \u001b[39m\u001b[38;5;132;01m%s\u001b[39;00m\u001b[38;5;124m.\u001b[39m\u001b[38;5;124m\"\u001b[39m \u001b[38;5;241m%\u001b[39m libraryPath)\n\u001b[1;32m    158\u001b[0m \u001b[38;5;66;03m# change to the library directory as some DLLs expect this to resolve dependencies\u001b[39;00m\n\u001b[1;32m    159\u001b[0m os\u001b[38;5;241m.\u001b[39mchdir(library_dir)\n",
      "\u001b[0;31mException\u001b[0m: Cannot find shared library /tmp/tmps5nxlnz_/binaries/linux64/PAC_0test1_DymolaSolver.so."
     ]
    }
   ],
   "source": [
    "# Assuming df is a DataFrame with simulation parameters\n",
    "simulator = CustomSimulator('PAC_0test1_DymolaSolver.fmu')\n",
    "simulator.run_simulations(df_input)"
   ]
  },
  {
   "cell_type": "code",
   "execution_count": null,
   "metadata": {},
   "outputs": [],
   "source": []
  },
  {
   "cell_type": "code",
   "execution_count": null,
   "metadata": {},
   "outputs": [],
   "source": []
  },
  {
   "cell_type": "code",
   "execution_count": null,
   "metadata": {},
   "outputs": [],
   "source": []
  },
  {
   "cell_type": "code",
   "execution_count": null,
   "metadata": {},
   "outputs": [],
   "source": []
  },
  {
   "cell_type": "code",
   "execution_count": 28,
   "metadata": {},
   "outputs": [],
   "source": [
    "class CustomSimulator:\n",
    "    def __init__(self, fmu_path):\n",
    "        self.fmu_path = fmu_path\n",
    "        self.model_description = read_model_description(fmu_path)\n",
    "        self.unzipdir = extract(fmu_path)\n",
    "        self.modelIdentifier = self.model_description.coSimulation.modelIdentifier\n",
    "        self.guid = self.model_description.guid\n",
    "        self.vrs = {\n",
    "            var.name: var.valueReference for var in self.model_description.modelVariables}\n",
    "\n",
    "    def simulate(self, time, frequency, tair, twater, Qwater, show_plot=False):\n",
    "        start_time = 0.0\n",
    "        stop_time = 600\n",
    "        step_size = 1\n",
    "\n",
    "        fmu = FMU2Slave(guid=self.guid, unzipDirectory=self.unzipdir,\n",
    "                        modelIdentifier=self.modelIdentifier, instanceName='instance1')\n",
    "\n",
    "        fmu.instantiate()\n",
    "        fmu.setupExperiment(startTime=start_time)\n",
    "        fmu.enterInitializationMode()\n",
    "        fmu.exitInitializationMode()\n",
    "\n",
    "        # Set initial values based on the parameters\n",
    "        fmu.setReal([self.vrs['Frequency']], [frequency])\n",
    "        fmu.setReal([self.vrs['Temperature_cold_source']], [tair])\n",
    "        # Add other parameters as needed\n",
    "\n",
    "        time = start_time\n",
    "        rows = []\n",
    "\n",
    "        while time < stop_time:\n",
    "            # Update the inputs at each step if necessary\n",
    "            fmu.setReal([self.vrs['Frequency']], [frequency])\n",
    "            fmu.setReal([self.vrs['Temperature_cold_source']], [tair])\n",
    "\n",
    "            fmu.doStep(currentCommunicationPoint=time,\n",
    "                       communicationStepSize=step_size)\n",
    "            # Retrieve the outputs\n",
    "            Comp_Freq, Air_Ext_T, HP_Heat = fmu.getReal(\n",
    "                [self.vrs['Frequency'], self.vrs['Temperature_cold_source'], self.vrs['Power']])\n",
    "            rows.append((time, Comp_Freq, Air_Ext_T, HP_Heat))\n",
    "            time += step_size\n",
    "\n",
    "        fmu.terminate()\n",
    "        fmu.freeInstance()\n",
    "\n",
    "        result = np.array(rows, dtype=np.dtype([('time', np.float64), (\n",
    "            'Comp_Frequency', np.float64), ('Air_Ext_T', np.float64), ('HP_Heat', np.float64)]))\n",
    "\n",
    "        if show_plot:\n",
    "            plot_result(result)\n",
    "\n",
    "    def run_simulations(self, dataframe):\n",
    "        for index, row in dataframe.iterrows():\n",
    "            self.simulate(time=row['Time[s]'], frequency=row['Frequ[Hz]'],\n",
    "                          tair=row['Tair[°C]'], twater=row['Twaterin[°C]'], Qwater=row['Qwater[m3/s]'])"
   ]
  },
  {
   "cell_type": "code",
   "execution_count": 29,
   "metadata": {},
   "outputs": [
    {
     "ename": "FileNotFoundError",
     "evalue": "[Errno 2] No such file or directory: 'HPFMU_20_Win.fmu'",
     "output_type": "error",
     "traceback": [
      "\u001b[0;31m---------------------------------------------------------------------------\u001b[0m",
      "\u001b[0;31mFileNotFoundError\u001b[0m                         Traceback (most recent call last)",
      "Cell \u001b[0;32mIn[29], line 2\u001b[0m\n\u001b[1;32m      1\u001b[0m \u001b[38;5;66;03m# Assuming df is a DataFrame with simulation parameters\u001b[39;00m\n\u001b[0;32m----> 2\u001b[0m simulator \u001b[38;5;241m=\u001b[39m \u001b[43mCustomSimulator\u001b[49m\u001b[43m(\u001b[49m\u001b[38;5;124;43m'\u001b[39;49m\u001b[38;5;124;43mHPFMU_20_Win.fmu\u001b[39;49m\u001b[38;5;124;43m'\u001b[39;49m\u001b[43m)\u001b[49m\n\u001b[1;32m      3\u001b[0m simulator\u001b[38;5;241m.\u001b[39mrun_simulations(df_input)\n",
      "Cell \u001b[0;32mIn[28], line 4\u001b[0m, in \u001b[0;36mCustomSimulator.__init__\u001b[0;34m(self, fmu_path)\u001b[0m\n\u001b[1;32m      2\u001b[0m \u001b[38;5;28;01mdef\u001b[39;00m \u001b[38;5;21m__init__\u001b[39m(\u001b[38;5;28mself\u001b[39m, fmu_path):\n\u001b[1;32m      3\u001b[0m     \u001b[38;5;28mself\u001b[39m\u001b[38;5;241m.\u001b[39mfmu_path \u001b[38;5;241m=\u001b[39m fmu_path\n\u001b[0;32m----> 4\u001b[0m     \u001b[38;5;28mself\u001b[39m\u001b[38;5;241m.\u001b[39mmodel_description \u001b[38;5;241m=\u001b[39m \u001b[43mread_model_description\u001b[49m\u001b[43m(\u001b[49m\u001b[43mfmu_path\u001b[49m\u001b[43m)\u001b[49m\n\u001b[1;32m      5\u001b[0m     \u001b[38;5;28mself\u001b[39m\u001b[38;5;241m.\u001b[39munzipdir \u001b[38;5;241m=\u001b[39m extract(fmu_path)\n\u001b[1;32m      6\u001b[0m     \u001b[38;5;28mself\u001b[39m\u001b[38;5;241m.\u001b[39mmodelIdentifier \u001b[38;5;241m=\u001b[39m \u001b[38;5;28mself\u001b[39m\u001b[38;5;241m.\u001b[39mmodel_description\u001b[38;5;241m.\u001b[39mcoSimulation\u001b[38;5;241m.\u001b[39mmodelIdentifier\n",
      "File \u001b[0;32m/usr/local/lib/python3.10/dist-packages/fmpy/model_description.py:440\u001b[0m, in \u001b[0;36mread_model_description\u001b[0;34m(filename, validate, validate_variable_names, validate_model_structure)\u001b[0m\n\u001b[1;32m    438\u001b[0m     tree \u001b[38;5;241m=\u001b[39m etree\u001b[38;5;241m.\u001b[39mparse(filename)\n\u001b[1;32m    439\u001b[0m \u001b[38;5;28;01melse\u001b[39;00m:  \u001b[38;5;66;03m# FMU as path or file like object\u001b[39;00m\n\u001b[0;32m--> 440\u001b[0m     \u001b[38;5;28;01mwith\u001b[39;00m \u001b[43mzipfile\u001b[49m\u001b[38;5;241;43m.\u001b[39;49m\u001b[43mZipFile\u001b[49m\u001b[43m(\u001b[49m\u001b[43mfilename\u001b[49m\u001b[43m,\u001b[49m\u001b[43m \u001b[49m\u001b[38;5;124;43m'\u001b[39;49m\u001b[38;5;124;43mr\u001b[39;49m\u001b[38;5;124;43m'\u001b[39;49m\u001b[43m)\u001b[49m \u001b[38;5;28;01mas\u001b[39;00m zf:\n\u001b[1;32m    441\u001b[0m         xml \u001b[38;5;241m=\u001b[39m zf\u001b[38;5;241m.\u001b[39mopen(\u001b[38;5;124m'\u001b[39m\u001b[38;5;124mmodelDescription.xml\u001b[39m\u001b[38;5;124m'\u001b[39m)\n\u001b[1;32m    442\u001b[0m         tree \u001b[38;5;241m=\u001b[39m etree\u001b[38;5;241m.\u001b[39mparse(xml)\n",
      "File \u001b[0;32m/usr/lib/python3.10/zipfile.py:1251\u001b[0m, in \u001b[0;36mZipFile.__init__\u001b[0;34m(self, file, mode, compression, allowZip64, compresslevel, strict_timestamps)\u001b[0m\n\u001b[1;32m   1249\u001b[0m \u001b[38;5;28;01mwhile\u001b[39;00m \u001b[38;5;28;01mTrue\u001b[39;00m:\n\u001b[1;32m   1250\u001b[0m     \u001b[38;5;28;01mtry\u001b[39;00m:\n\u001b[0;32m-> 1251\u001b[0m         \u001b[38;5;28mself\u001b[39m\u001b[38;5;241m.\u001b[39mfp \u001b[38;5;241m=\u001b[39m \u001b[43mio\u001b[49m\u001b[38;5;241;43m.\u001b[39;49m\u001b[43mopen\u001b[49m\u001b[43m(\u001b[49m\u001b[43mfile\u001b[49m\u001b[43m,\u001b[49m\u001b[43m \u001b[49m\u001b[43mfilemode\u001b[49m\u001b[43m)\u001b[49m\n\u001b[1;32m   1252\u001b[0m     \u001b[38;5;28;01mexcept\u001b[39;00m \u001b[38;5;167;01mOSError\u001b[39;00m:\n\u001b[1;32m   1253\u001b[0m         \u001b[38;5;28;01mif\u001b[39;00m filemode \u001b[38;5;129;01min\u001b[39;00m modeDict:\n",
      "\u001b[0;31mFileNotFoundError\u001b[0m: [Errno 2] No such file or directory: 'HPFMU_20_Win.fmu'"
     ]
    }
   ],
   "source": [
    "# Assuming df is a DataFrame with simulation parameters\n",
    "simulator = CustomSimulator('HPFMU_20_Win.fmu')\n",
    "simulator.run_simulations(df_input)"
   ]
  },
  {
   "cell_type": "code",
   "execution_count": null,
   "metadata": {},
   "outputs": [],
   "source": []
  },
  {
   "cell_type": "code",
   "execution_count": null,
   "metadata": {},
   "outputs": [
    {
     "ename": "NameError",
     "evalue": "name 'YOUR_TIME_RANGE' is not defined",
     "output_type": "error",
     "traceback": [
      "\u001b[1;31m---------------------------------------------------------------------------\u001b[0m",
      "\u001b[1;31mNameError\u001b[0m                                 Traceback (most recent call last)",
      "Cell \u001b[1;32mIn[46], line 28\u001b[0m\n\u001b[0;32m     24\u001b[0m     \u001b[38;5;28;01mreturn\u001b[39;00m criterion1, criterion2, criterion3\n\u001b[0;32m     26\u001b[0m toolbox \u001b[38;5;241m=\u001b[39m base\u001b[38;5;241m.\u001b[39mToolbox()\n\u001b[0;32m     27\u001b[0m toolbox\u001b[38;5;241m.\u001b[39mregister(\u001b[38;5;124m\"\u001b[39m\u001b[38;5;124mindividual\u001b[39m\u001b[38;5;124m\"\u001b[39m, tools\u001b[38;5;241m.\u001b[39minitCycle, creator\u001b[38;5;241m.\u001b[39mIndividual,\n\u001b[1;32m---> 28\u001b[0m                  (\u001b[43mYOUR_TIME_RANGE\u001b[49m, YOUR_FREQUENCY_RANGE, YOUR_TAIR_RANGE, YOUR_TWATER_RANGE, YOUR_QWATER_RANGE), n\u001b[38;5;241m=\u001b[39m\u001b[38;5;241m1\u001b[39m)\n\u001b[0;32m     29\u001b[0m toolbox\u001b[38;5;241m.\u001b[39mregister(\u001b[38;5;124m\"\u001b[39m\u001b[38;5;124mpopulation\u001b[39m\u001b[38;5;124m\"\u001b[39m, tools\u001b[38;5;241m.\u001b[39minitRepeat, \u001b[38;5;28mlist\u001b[39m, toolbox\u001b[38;5;241m.\u001b[39mindividual)\n\u001b[0;32m     30\u001b[0m toolbox\u001b[38;5;241m.\u001b[39mregister(\u001b[38;5;124m\"\u001b[39m\u001b[38;5;124mevaluate\u001b[39m\u001b[38;5;124m\"\u001b[39m, evaluate)\n",
      "\u001b[1;31mNameError\u001b[0m: name 'YOUR_TIME_RANGE' is not defined"
     ]
    }
   ],
   "source": [
    "import numpy as np\n",
    "from deap import base, creator, tools, algorithms\n",
    "\n",
    "# Définition du problème d'optimisation\n",
    "creator.create(\"FitnessMulti\", base.Fitness, weights=(-1.0, -1.0, 1.0))\n",
    "creator.create(\"Individual\", list, fitness=creator.FitnessMulti)\n",
    "\n",
    "def evaluate(individual):\n",
    "    # Extrait les paramètres de l'individu\n",
    "    time, frequency, tair, twater, Qwater = individual\n",
    "\n",
    "    # Initialise le simulateur\n",
    "    simulator = CustomSimulator(fmu_path=\"chemin_vers_votre_fmu.fmu\")\n",
    "\n",
    "    # Exécute la simulation\n",
    "    simulator.simulate(time, frequency, tair, twater, Qwater)\n",
    "\n",
    "    # À adapter : définir les critères à optimiser\n",
    "    # Dans cet exemple, on suppose que la fonction objectif est à minimiser\n",
    "    criterion1 = ...  # Exemple : différence entre une valeur cible et Comp_Frequency\n",
    "    criterion2 = ...  # Exemple : différence entre une valeur cible et Air_Ext_T\n",
    "    criterion3 = ...  # Exemple : maximiser HP_Heat\n",
    "\n",
    "    return criterion1, criterion2, criterion3\n",
    "\n",
    "toolbox = base.Toolbox()\n",
    "toolbox.register(\"individual\", tools.initCycle, creator.Individual,\n",
    "                 (TIME_RANGE, FREQUENCY_RANGE, TAIR_RANGE, TWATER_RANGE, QWATER_RANGE), n=1)\n",
    "toolbox.register(\"population\", tools.initRepeat, list, toolbox.individual)\n",
    "toolbox.register(\"evaluate\", evaluate)\n",
    "toolbox.register(\"mate\", tools.cxBlend, alpha=0.5)\n",
    "toolbox.register(\"mutate\", tools.mutGaussian, mu=0, sigma=1, indpb=0.2)\n",
    "toolbox.register(\"select\", tools.selNSGA2)\n",
    "\n",
    "# À adapter : paramètres de l'algorithme génétique\n",
    "population_size = 50\n",
    "num_generations = 50\n",
    "\n",
    "# Générer la population initiale\n",
    "population = toolbox.population(n=population_size)\n",
    "\n",
    "# Exécuter l'algorithme génétique\n",
    "algorithms.eaMuPlusLambda(population, toolbox, mu=population_size, lambda_=population_size, cxpb=0.7, mutpb=0.2, ngen=num_generations, stats=None, halloffame=None)\n",
    "\n",
    "# À adapter : récupérer les solutions non-dominées\n",
    "front = tools.sortNondominated(population, len(population), first_front_only=True)[0]\n",
    "\n",
    "# Afficher les solutions non-dominées\n",
    "for ind in front:\n",
    "    print(ind.fitness.values)\n"
   ]
  },
  {
   "cell_type": "code",
   "execution_count": null,
   "metadata": {},
   "outputs": [],
   "source": []
  },
  {
   "cell_type": "code",
   "execution_count": null,
   "metadata": {},
   "outputs": [],
   "source": []
  },
  {
   "cell_type": "code",
   "execution_count": null,
   "metadata": {},
   "outputs": [
    {
     "ename": "NameError",
     "evalue": "name 'Problem' is not defined",
     "output_type": "error",
     "traceback": [
      "\u001b[1;31m---------------------------------------------------------------------------\u001b[0m",
      "\u001b[1;31mNameError\u001b[0m                                 Traceback (most recent call last)",
      "Cell \u001b[1;32mIn[44], line 7\u001b[0m\n\u001b[0;32m      4\u001b[0m \u001b[38;5;28;01mfrom\u001b[39;00m \u001b[38;5;21;01mpymoo\u001b[39;00m\u001b[38;5;21;01m.\u001b[39;00m\u001b[38;5;21;01moptimize\u001b[39;00m \u001b[38;5;28;01mimport\u001b[39;00m minimize\n\u001b[0;32m      6\u001b[0m \u001b[38;5;66;03m# Définir votre propre problème d'optimisation\u001b[39;00m\n\u001b[1;32m----> 7\u001b[0m \u001b[38;5;28;01mclass\u001b[39;00m \u001b[38;5;21;01mMyProblem\u001b[39;00m(\u001b[43mProblem\u001b[49m):\n\u001b[0;32m      8\u001b[0m     \u001b[38;5;28;01mdef\u001b[39;00m \u001b[38;5;21m__init__\u001b[39m(\u001b[38;5;28mself\u001b[39m):\n\u001b[0;32m      9\u001b[0m         \u001b[38;5;28msuper\u001b[39m()\u001b[38;5;241m.\u001b[39m\u001b[38;5;21m__init__\u001b[39m(n_var\u001b[38;5;241m=\u001b[39m\u001b[38;5;241m2\u001b[39m, n_obj\u001b[38;5;241m=\u001b[39m\u001b[38;5;241m2\u001b[39m, n_constr\u001b[38;5;241m=\u001b[39m\u001b[38;5;241m0\u001b[39m, xl\u001b[38;5;241m=\u001b[39mnp\u001b[38;5;241m.\u001b[39marray([\u001b[38;5;241m0\u001b[39m, \u001b[38;5;241m0\u001b[39m]), xu\u001b[38;5;241m=\u001b[39mnp\u001b[38;5;241m.\u001b[39marray([\u001b[38;5;241m5\u001b[39m, \u001b[38;5;241m5\u001b[39m]))\n",
      "\u001b[1;31mNameError\u001b[0m: name 'Problem' is not defined"
     ]
    }
   ],
   "source": [
    "import numpy as np\n",
    "# from pymoo.model.problem import Problem\n",
    "from pymoo.algorithms.moo.rnsga2 import RNSGA2\n",
    "from pymoo.optimize import minimize\n",
    "\n",
    "# Définir votre propre problème d'optimisation\n",
    "class MyProblem(Problem):\n",
    "    def __init__(self):\n",
    "        super().__init__(n_var=2, n_obj=2, n_constr=0, xl=np.array([0, 0]), xu=np.array([5, 5]))\n",
    "\n",
    "    def _evaluate(self, x, out, *args, **kwargs):\n",
    "        # Définir la fonction objectif\n",
    "        f1 = x[0]**2 + x[1]**2\n",
    "        f2 = (x[0] - 1)**2 + x[1]**2\n",
    "\n",
    "        # Assigner les valeurs objectif\n",
    "        out[\"F\"] = [f1, f2]\n",
    "\n",
    "# Choisir l'algorithme d'optimisation multi-objectif (NSGA-II dans cet exemple)\n",
    "algorithm = NSGA2(pop_size=100)\n",
    "\n",
    "# Créer une instance de votre problème\n",
    "problem = MyProblem()\n",
    "\n",
    "# Exécuter l'optimisation\n",
    "res = minimize(problem,\n",
    "               algorithm,\n",
    "               ('n_gen', 100),\n",
    "               seed=1,\n",
    "               verbose=True)\n",
    "\n",
    "# Afficher les résultats\n",
    "print(\"Meilleures solutions trouvées:\")\n",
    "for solution in res.X:\n",
    "    print(solution)\n"
   ]
  },
  {
   "cell_type": "code",
   "execution_count": null,
   "metadata": {},
   "outputs": [],
   "source": []
  },
  {
   "cell_type": "code",
   "execution_count": null,
   "metadata": {},
   "outputs": [],
   "source": []
  },
  {
   "cell_type": "code",
   "execution_count": null,
   "metadata": {},
   "outputs": [],
   "source": []
  },
  {
   "cell_type": "code",
   "execution_count": null,
   "metadata": {},
   "outputs": [
    {
     "data": {
      "text/plain": [
       "<pymoo.visualization.scatter.Scatter at 0x19adc92e4d0>"
      ]
     },
     "execution_count": 4,
     "metadata": {},
     "output_type": "execute_result"
    },
    {
     "data": {
      "image/png": "[encoded data removed]",
      "text/plain": [
       "<Figure size 800x600 with 1 Axes>"
      ]
     },
     "metadata": {},
     "output_type": "display_data"
    }
   ],
   "source": [
    "import numpy as np\n",
    "\n",
    "from pymoo.algorithms.moo.rnsga2 import RNSGA2\n",
    "from pymoo.problems import get_problem\n",
    "from pymoo.optimize import minimize\n",
    "from pymoo.visualization.scatter import Scatter\n",
    "\n",
    "problem = get_problem(\"zdt1\", n_var=30)\n",
    "pf = problem.pareto_front()\n",
    "\n",
    "# Define reference points\n",
    "ref_points = np.array([[0.5, 0.2], [0.1, 0.6]])\n",
    "\n",
    "# Get Algorithm\n",
    "algorithm = RNSGA2(\n",
    "    ref_points=ref_points,\n",
    "    pop_size=40,\n",
    "    epsilon=0.01,\n",
    "    normalization='front',\n",
    "    extreme_points_as_reference_points=False,\n",
    "    weights=np.array([0.5, 0.5]))\n",
    "\n",
    "res = minimize(problem,\n",
    "               algorithm,\n",
    "               save_history=True,\n",
    "               termination=('n_gen', 250),\n",
    "               seed=1,\n",
    "               pf=pf,\n",
    "               disp=False)\n",
    "\n",
    "\n",
    "Scatter().add(pf, label=\"pf\").add(res.F, label=\"F\").add(ref_points, label=\"ref_points\").show()"
   ]
  },
  {
   "cell_type": "code",
   "execution_count": null,
   "metadata": {},
   "outputs": [],
   "source": []
  }
 ],
 "metadata": {
  "kernelspec": {
   "display_name": "Python 3",
   "language": "python",
   "name": "python3"
  },
  "language_info": {
   "codemirror_mode": {
    "name": "ipython",
    "version": 3
   },
   "file_extension": ".py",
   "mimetype": "text/x-python",
   "name": "python",
   "nbconvert_exporter": "python",
   "pygments_lexer": "ipython3",
   "version": "3.10.12"
  }
 },
 "nbformat": 4,
 "nbformat_minor": 2
}
