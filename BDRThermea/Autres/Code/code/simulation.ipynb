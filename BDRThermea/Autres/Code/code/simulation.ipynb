{
 "cells": [
  {
   "cell_type": "code",
   "execution_count": 1,
   "metadata": {},
   "outputs": [],
   "source": [
    "import openpyxl\n",
    "from openpyxl.utils import column_index_from_string, get_column_letter\n",
    "\n",
    "import openpyxl\n",
    "from openpyxl.utils import column_index_from_string\n",
    "import openpyxl\n",
    "import pandas as pd\n"
   ]
  },
  {
   "cell_type": "markdown",
   "metadata": {},
   "source": [
    "### Pre-traitement"
   ]
  },
  {
   "cell_type": "markdown",
   "metadata": {},
   "source": [
    "### Input et Output entrée"
   ]
  },
  {
   "cell_type": "markdown",
   "metadata": {},
   "source": [
    "#### Output"
   ]
  },
  {
   "cell_type": "code",
   "execution_count": 2,
   "metadata": {},
   "outputs": [],
   "source": [
    "# Specify the path to your Excel file\n",
    "excel_file_path = './../Donnees/Databrut.xlsx'\n",
    "\n",
    "# Load the workbook\n",
    "workbook = openpyxl.load_workbook(excel_file_path)\n",
    "\n",
    "# Select the active sheet\n",
    "sheet = workbook.active\n",
    "\n",
    "# Specify the column letters you want to select\n",
    "selected_columns_letters = [\"K\",\"O\", \"P\", \"Q\"]\n",
    "\n",
    "# Convert letters to column indices\n",
    "selected_columns_indices = [column_index_from_string(letter) for letter in selected_columns_letters]\n",
    "# Use the indices to select columns\n",
    "\n",
    "\n",
    "# Create a dictionary to store the selected columns\n",
    "stored_data = {}\n",
    "\n",
    "# Define column names (you can customize these)\n",
    "column_names = [\"Water_out\", \"Power_out\", \"Power_in\", \"COP\"]\n",
    "\n",
    "# Iterate over the selected columns and store data in the dictionary\n",
    "for col_index, column_name in zip(selected_columns_indices, column_names):\n",
    "    # Access the column using the column index\n",
    "    selected_column = sheet[get_column_letter(col_index)]\n",
    "    # Store column data in the dictionary\n",
    "    stored_data[column_name] = [cell.value for cell in selected_column]\n",
    "\n",
    "# Now, 'stored_data' is a dictionary where keys are column names and values are lists of column data\n",
    "\n",
    "# Close the workbook\n",
    "workbook.close()"
   ]
  },
  {
   "cell_type": "code",
   "execution_count": 3,
   "metadata": {},
   "outputs": [
    {
     "name": "stdout",
     "output_type": "stream",
     "text": [
      "     Water_out    Power_out     Power_in       COP\n",
      "4    35.098729  8628.775284  2022.298343  4.279641\n",
      "5    35.170939  8589.444308  2044.149171  4.214619\n",
      "6    35.029724  7641.797307  1748.723757  4.383122\n",
      "7    35.118453  6873.783742  1477.259669  4.667061\n",
      "8    35.050442  6035.440249  1248.497238  4.848746\n",
      "..         ...          ...          ...       ...\n",
      "129  54.203023  3519.253648  2367.003754  1.486797\n",
      "130  54.241624  3545.644394  2262.551720  1.567100\n",
      "131  53.182450  2757.048670  1684.523486  1.636694\n",
      "132  51.688952  1626.207401  1171.696004  1.387909\n",
      "133  49.027759   138.371200   735.992197  0.188006\n",
      "\n",
      "[77 rows x 4 columns]\n"
     ]
    }
   ],
   "source": [
    "# Convert stored_data to a Pandas DataFrame\n",
    "df = pd.DataFrame(stored_data)\n",
    "\n",
    "# Convert the entire DataFrame to numeric values\n",
    "df_numeric = df.apply(pd.to_numeric, errors='coerce')\n",
    "\n",
    "# Remove rows that contain non-numeric values\n",
    "df_output = df_numeric.dropna()\n",
    "\n",
    "# Display the cleaned DataFrame\n",
    "print(df_output)"
   ]
  },
  {
   "cell_type": "code",
   "execution_count": 4,
   "metadata": {},
   "outputs": [],
   "source": [
    "# export l'ouput en fichier Excel\n",
    "Outputpath = './../Donnees/Outputdata.xlsx'\n",
    "df_output.to_excel(Outputpath, index=False)"
   ]
  },
  {
   "cell_type": "markdown",
   "metadata": {},
   "source": [
    "#### Input"
   ]
  },
  {
   "cell_type": "code",
   "execution_count": 5,
   "metadata": {},
   "outputs": [],
   "source": [
    "# Specify the path to your Excel file\n",
    "excel_file_path = './../Donnees/Databrut.xlsx'\n",
    "\n",
    "# Load the workbook\n",
    "workbook = openpyxl.load_workbook(excel_file_path)\n",
    "\n",
    "# Select the active sheet\n",
    "sheet = workbook.active\n",
    "\n",
    "# Specify the column letters you want to select\n",
    "selected_columns_letters = [\"I\", \"J\",\"L\"]\n",
    "\n",
    "# Convert letters to column indices\n",
    "selected_columns_indices = [column_index_from_string(letter) for letter in selected_columns_letters]\n",
    "\n",
    "# Use the indices to select columns\n",
    "selected_columns = sheet.iter_cols(min_col=min(selected_columns_indices), max_col=max(selected_columns_indices), values_only=True)\n",
    "\n",
    "# Create a dictionary to store the selected columns\n",
    "stored_data = {}\n",
    "\n",
    "# Define column names (you can customize these)\n",
    "column_names =[\"Frequency\", \"Water_in\", \"Flow\" ]\n",
    "\n",
    "# Iterate over the selected columns and store data in the dictionary\n",
    "for column, column_name in zip(selected_columns, column_names):\n",
    "    stored_data[column_name] = list(column)\n",
    "\n",
    "# Now, 'stored_data' is a dictionary where keys are column names\n",
    "\n",
    "# Close the workbook\n",
    "workbook.close()\n",
    "\n",
    "# Ajout de la colonne T_air\n",
    "NbA12W35,NbA12W45 = 9,9\n",
    "NbA7W35,NbA7W45,NbA7W55 = 13,12,4\n",
    "NbA2W35,NbA2W45,NbA2W55  = 5,5,5\n",
    "NbAmoins7W35,NbAmoins7W45,NbAmoins7W55 = 5,5,5\n",
    "\n",
    "NbA12 = NbA12W35+NbA12W45\n",
    "NbA7 = NbA7W35+NbA7W45+NbA7W55\n",
    "NbA2 = NbA2W35+NbA2W45+NbA2W55\n",
    "NbAmoins7 = NbAmoins7W35+NbAmoins7W45+NbAmoins7W55\n",
    "\n",
    "values = [12]*NbA12 + [7]*NbA7 + [2]*NbA2 + [-7]*NbAmoins7\n"
   ]
  },
  {
   "cell_type": "code",
   "execution_count": 6,
   "metadata": {},
   "outputs": [
    {
     "name": "stdout",
     "output_type": "stream",
     "text": [
      "     Frequency   Water_in       Flow  T_air\n",
      "4        105.6  30.112818  35.098729     12\n",
      "5         98.4  30.139006  35.170939     12\n",
      "6         88.2  30.081215  35.029724     12\n",
      "7         78.0  30.209724  35.118453     12\n",
      "8         68.4  30.096077  35.050442     12\n",
      "..         ...        ...        ...    ...\n",
      "129      105.6  49.644142  54.203023     -7\n",
      "130       88.2  49.644146  54.241624     -7\n",
      "131       68.4  49.610203  53.182450     -7\n",
      "132       48.0  49.582365  51.688952     -7\n",
      "133       28.8  48.848730  49.027759     -7\n",
      "\n",
      "[77 rows x 4 columns]\n"
     ]
    },
    {
     "name": "stderr",
     "output_type": "stream",
     "text": [
      "/tmp/ipykernel_6258/3459895846.py:11: SettingWithCopyWarning: \n",
      "A value is trying to be set on a copy of a slice from a DataFrame.\n",
      "Try using .loc[row_indexer,col_indexer] = value instead\n",
      "\n",
      "See the caveats in the documentation: https://pandas.pydata.org/pandas-docs/stable/user_guide/indexing.html#returning-a-view-versus-a-copy\n",
      "  df_input['T_air'] = values\n"
     ]
    }
   ],
   "source": [
    "# Convert stored_data to a Pandas DataFrame\n",
    "df = pd.DataFrame(stored_data)\n",
    "\n",
    "# Convert the entire DataFrame to numeric values\n",
    "df_numeric = df.apply(pd.to_numeric, errors='coerce')\n",
    "\n",
    "# Remove rows that contain non-numeric values\n",
    "df_input = df_numeric.dropna()\n",
    "\n",
    "# Assign values to the \"T_air\" column \n",
    "df_input['T_air'] = values\n",
    "\n",
    "# Display the cleaned DataFrame\n",
    "print(df_input)"
   ]
  },
  {
   "cell_type": "code",
   "execution_count": 7,
   "metadata": {},
   "outputs": [],
   "source": [
    "# export l'input en fichier Excel\n",
    "Inputpath = './../Donnees/Inputdata.xlsx'\n",
    "df_input.to_excel(Inputpath, index=False)"
   ]
  },
  {
   "cell_type": "markdown",
   "metadata": {},
   "source": [
    "### Class"
   ]
  },
  {
   "cell_type": "code",
   "execution_count": 8,
   "metadata": {},
   "outputs": [],
   "source": [
    "# Import the needed (FMPy) packages\n",
    "from fmpy import dump, read_model_description, extract\n",
    "from fmpy.fmi2 import FMU2Slave\n",
    "from fmpy.util import plot_result #, download_test_file\n",
    "import numpy as np\n",
    "#import shutil"
   ]
  },
  {
   "cell_type": "code",
   "execution_count": 67,
   "metadata": {},
   "outputs": [],
   "source": [
    "class CustomSimulator:\n",
    "    def __init__(self, fmu_path):\n",
    "        self.fmu_path = fmu_path\n",
    "        self.model_description = read_model_description(fmu_path)\n",
    "        self.unzipdir = extract(fmu_path)\n",
    "        self.modelIdentifier = self.model_description.coSimulation.modelIdentifier\n",
    "        self.guid = self.model_description.guid\n",
    "        self.vrs = {\n",
    "            var.name: var.valueReference for var in self.model_description.modelVariables}\n",
    "        \n",
    "        self.input_variables = [\n",
    "        var for var in self.model_description.modelVariables if var.causality == 'input']\n",
    "\n",
    "    def simulate(self,Frequency,Water_in,Flow,T_air):\n",
    "        start_time = 0.0\n",
    "        stop_time = 1500.0\n",
    "        step_size = 1\n",
    "\n",
    "        fmu = FMU2Slave(guid=self.guid, unzipDirectory=self.unzipdir,\n",
    "                        modelIdentifier=self.modelIdentifier, instanceName='instance1')\n",
    "\n",
    "        fmu.instantiate()\n",
    "\n",
    "        start_values = {\n",
    "            'u_compressorFrequency': 88.2,     # Hz\n",
    "            'u_VFlow': 1.33 / 3600,            # m3/s\n",
    "            'u_T_watrer_in': 303.15,           # K\n",
    "            'u_T_air': 285.15,                 # K\n",
    "\n",
    "            'x_areaLeakage': 5e-7,             # m², valeur dans [1e-8 ; 1e-6]\n",
    "            'x_areaSuctionValve': 5e-4,        # m², valeur dans [2e-6 ; 1e-3]\n",
    "            'x_areaDischargeValve': 5e-5,      # m², valeur dans [1e-4 ; 1e-7]\n",
    "            'x_relativeDeadSpace': 0.05,       # valeur dans [0.001 ; 0.1]\n",
    "            'x_driveEfficiency': 0.9           # valeur dans [0.85 ; 0.98]\n",
    "        }\n",
    "\n",
    "        start_values['u_compressorFrequency'] = Frequency\n",
    "        start_values['u_VFlow'] = Flow\n",
    "        start_values['u_T_watrer_in'] = Water_in\n",
    "        start_values['u_T_air'] = T_air\n",
    " \n",
    "\n",
    "        fmu.setupExperiment(startTime=start_time)\n",
    "\n",
    "\n",
    "        for var_name, start_value in start_values.items():\n",
    "            fmu.setReal([self.vrs[var_name]], [start_value])\n",
    "\n",
    "\n",
    "        fmu.enterInitializationMode()\n",
    "        fmu.exitInitializationMode()\n",
    "\n",
    "\n",
    "        # print('Simulating...')\n",
    "        time = np.arange(start_time, stop_time, step_size)\n",
    "        result = []\n",
    "\n",
    "        for t in time:\n",
    "            fmu.doStep(currentCommunicationPoint=t,\n",
    "                    communicationStepSize=step_size)\n",
    "            \n",
    "            # Retrieve the outputs\n",
    "            COP_Freq, Power_in, Power_out,Water_out = fmu.getReal(\n",
    "                [self.vrs['y_COP'], self.vrs['y_heatPower'], self.vrs['y_elecPower'], self.vrs['y_T_out']])\n",
    "            result.append((t, COP_Freq, Power_in, Power_out,Water_out))\n",
    "\n",
    "        fmu.terminate()\n",
    "        fmu.freeInstance()\n",
    "\n",
    "        result = np.array(result, dtype=np.dtype([('time', np.float64), (\n",
    "            'y_COP', np.float64), ('Power_in', np.float64), ('Power_out', np.float64)]))\n",
    "\n",
    "        return result\n",
    "\n",
    "    def run_simulations(self, inputs):\n",
    "        for index, row in inputs.iterrows():\n",
    "            self.simulate(Frequency=row['Frequency'], Water_in=row['Water_in'],\n",
    "                          Flow=row['Flow'],T_air=row['T_air'])\n"
   ]
  },
  {
   "cell_type": "code",
   "execution_count": 169,
   "metadata": {},
   "outputs": [
    {
     "ename": "TypeError",
     "evalue": "CustomSimulator.simulate() takes 1 positional argument but 5 were given",
     "output_type": "error",
     "traceback": [
      "\u001b[0;31m---------------------------------------------------------------------------\u001b[0m",
      "\u001b[0;31mTypeError\u001b[0m                                 Traceback (most recent call last)",
      "Cell \u001b[0;32mIn[169], line 5\u001b[0m\n\u001b[1;32m      2\u001b[0m simulator \u001b[38;5;241m=\u001b[39m CustomSimulator(\u001b[38;5;124m'\u001b[39m\u001b[38;5;124mHPFMU_20_Linux.fmu\u001b[39m\u001b[38;5;124m'\u001b[39m)\n\u001b[1;32m      4\u001b[0m Frequency,Water_in,Flow,T_air  \u001b[38;5;241m=\u001b[39m df_input\u001b[38;5;241m.\u001b[39miloc[\u001b[38;5;241m0\u001b[39m, :]\n\u001b[0;32m----> 5\u001b[0m result \u001b[38;5;241m=\u001b[39m \u001b[43msimulator\u001b[49m\u001b[38;5;241;43m.\u001b[39;49m\u001b[43msimulate\u001b[49m\u001b[43m(\u001b[49m\u001b[43mFrequency\u001b[49m\u001b[43m,\u001b[49m\u001b[43mWater_in\u001b[49m\u001b[43m,\u001b[49m\u001b[43mFlow\u001b[49m\u001b[43m,\u001b[49m\u001b[43mT_air\u001b[49m\u001b[43m)\u001b[49m\n\u001b[1;32m      6\u001b[0m \u001b[38;5;66;03m# result[-1]\u001b[39;00m\n\u001b[1;32m      7\u001b[0m \n\u001b[1;32m      8\u001b[0m \u001b[38;5;66;03m# simulator.run_simulations(df_input)\u001b[39;00m\n",
      "\u001b[0;31mTypeError\u001b[0m: CustomSimulator.simulate() takes 1 positional argument but 5 were given"
     ]
    }
   ],
   "source": [
    "# Assuming df is a DataFrame with simulation parameters\n",
    "simulator = CustomSimulator('HPFMU_20_Linux.fmu')\n",
    "\n",
    "Frequency,Water_in,Flow,T_air  = df_input.iloc[0, :]\n",
    "result = simulator.simulate(Frequency,Water_in,Flow,T_air)\n",
    "# result[-1]\n",
    "\n",
    "# simulator.run_simulations(df_input)"
   ]
  }
 ],
 "metadata": {
  "kernelspec": {
   "display_name": "Python 3",
   "language": "python",
   "name": "python3"
  },
  "language_info": {
   "codemirror_mode": {
    "name": "ipython",
    "version": 3
   },
   "file_extension": ".py",
   "mimetype": "text/x-python",
   "name": "python",
   "nbconvert_exporter": "python",
   "pygments_lexer": "ipython3",
   "version": "3.10.12"
  }
 },
 "nbformat": 4,
 "nbformat_minor": 2
}
