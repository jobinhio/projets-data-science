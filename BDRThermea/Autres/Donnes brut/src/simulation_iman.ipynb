{
 "cells": [
  {
   "cell_type": "code",
   "execution_count": 1,
   "metadata": {},
   "outputs": [],
   "source": [
    "%reset -f"
   ]
  },
  {
   "cell_type": "code",
   "execution_count": 2,
   "metadata": {},
   "outputs": [],
   "source": [
    "import openpyxl\n",
    "from openpyxl.utils import column_index_from_string\n",
    "import pandas as pd\n",
    "import importlib\n",
    "import simulation_class  \n",
    "\n",
    "importlib.reload(simulation_class)\n",
    "HeatPumpSimulator = simulation_class.HeatPumpSimulator\n"
   ]
  },
  {
   "cell_type": "markdown",
   "metadata": {},
   "source": [
    "## Extraction of the Output Data"
   ]
  },
  {
   "cell_type": "markdown",
   "metadata": {},
   "source": [
    "Extraction of output data from the `All data` sheet of the Excel file and storing in a DataFrame `df_output`."
   ]
  },
  {
   "cell_type": "markdown",
   "metadata": {},
   "source": [
    "- Column K : Water out -> water temperature leaving the heat pump; FMU output\n",
    "- Column O : Power out -> thermal power of the heat pump (hot side); FMU output\n",
    "- Column P : Power in -> electrical power of the heat pump; FMU output\n",
    "- Column Q : COP -> coefficient of performance of the heat pump; FMU output"
   ]
  },
  {
   "cell_type": "code",
   "execution_count": 3,
   "metadata": {},
   "outputs": [
    {
     "data": {
      "text/html": [
       "<div>\n",
       "<style scoped>\n",
       "    .dataframe tbody tr th:only-of-type {\n",
       "        vertical-align: middle;\n",
       "    }\n",
       "\n",
       "    .dataframe tbody tr th {\n",
       "        vertical-align: top;\n",
       "    }\n",
       "\n",
       "    .dataframe thead th {\n",
       "        text-align: right;\n",
       "    }\n",
       "</style>\n",
       "<table border=\"1\" class=\"dataframe\">\n",
       "  <thead>\n",
       "    <tr style=\"text-align: right;\">\n",
       "      <th></th>\n",
       "      <th>y_T_out</th>\n",
       "      <th>y_heatPower</th>\n",
       "      <th>y_elecPower</th>\n",
       "      <th>y_COP</th>\n",
       "      <th>Defrosts</th>\n",
       "    </tr>\n",
       "  </thead>\n",
       "  <tbody>\n",
       "    <tr>\n",
       "      <th>4</th>\n",
       "      <td>308.248729</td>\n",
       "      <td>8628.775284</td>\n",
       "      <td>2022.298343</td>\n",
       "      <td>4.279641</td>\n",
       "      <td>no</td>\n",
       "    </tr>\n",
       "    <tr>\n",
       "      <th>5</th>\n",
       "      <td>308.320939</td>\n",
       "      <td>8589.444308</td>\n",
       "      <td>2044.149171</td>\n",
       "      <td>4.214619</td>\n",
       "      <td>no</td>\n",
       "    </tr>\n",
       "    <tr>\n",
       "      <th>6</th>\n",
       "      <td>308.179724</td>\n",
       "      <td>7641.797307</td>\n",
       "      <td>1748.723757</td>\n",
       "      <td>4.383122</td>\n",
       "      <td>no</td>\n",
       "    </tr>\n",
       "    <tr>\n",
       "      <th>7</th>\n",
       "      <td>308.268453</td>\n",
       "      <td>6873.783742</td>\n",
       "      <td>1477.259669</td>\n",
       "      <td>4.667061</td>\n",
       "      <td>no</td>\n",
       "    </tr>\n",
       "    <tr>\n",
       "      <th>8</th>\n",
       "      <td>308.200442</td>\n",
       "      <td>6035.440249</td>\n",
       "      <td>1248.497238</td>\n",
       "      <td>4.848746</td>\n",
       "      <td>no</td>\n",
       "    </tr>\n",
       "  </tbody>\n",
       "</table>\n",
       "</div>"
      ],
      "text/plain": [
       "      y_T_out  y_heatPower  y_elecPower     y_COP Defrosts\n",
       "4  308.248729  8628.775284  2022.298343  4.279641       no\n",
       "5  308.320939  8589.444308  2044.149171  4.214619       no\n",
       "6  308.179724  7641.797307  1748.723757  4.383122       no\n",
       "7  308.268453  6873.783742  1477.259669  4.667061       no\n",
       "8  308.200442  6035.440249  1248.497238  4.848746       no"
      ]
     },
     "execution_count": 3,
     "metadata": {},
     "output_type": "execute_result"
    }
   ],
   "source": [
    "excel_file_path = './../data/Databrut.xlsx'\n",
    "\n",
    "workbook = openpyxl.load_workbook(excel_file_path)\n",
    "sheet = workbook.active\n",
    "\n",
    "# Définir les colonnes et les noms correspondants\n",
    "columns_info = {\n",
    "    \"K\": \"Water_out\",\n",
    "    \"O\": \"Power_out\",\n",
    "    \"P\": \"Power_in\",\n",
    "    \"Q\": \"COP\",\n",
    "    \"M\": \"Defrosts\"\n",
    "}\n",
    "\n",
    "stored_data = {name: [] for name in columns_info.values()}\n",
    "\n",
    "# Itérer sur les colonnes et stocker les données dans le dictionnaire\n",
    "for col_letter, col_name in columns_info.items():\n",
    "    col_index = column_index_from_string(col_letter)\n",
    "    if col_index <= sheet.max_column:\n",
    "        for cell in sheet[col_letter]:\n",
    "            stored_data[col_name].append(cell.value)\n",
    "    else:\n",
    "        print(f\"Column {col_letter} not found in the sheet.\")\n",
    "\n",
    "workbook.close()\n",
    "\n",
    "df_output = pd.DataFrame(stored_data)\n",
    "df_output = df_output.drop([0, 1, 2, 3])  \n",
    "\n",
    "for column in [\"Water_out\", \"Power_out\", \"Power_in\", \"COP\"]:\n",
    "    df_output[column] = pd.to_numeric(df_output[column], errors='coerce')\n",
    "\n",
    "df_output.dropna(subset=[\"Water_out\", \"Power_out\", \"Power_in\", \"COP\"], inplace=True)\n",
    "df_output['Water_out'] = df_output['Water_out'] + 273.15\n",
    "df_output = df_output.rename(columns={'Water_out': 'y_T_out', 'Power_out': 'y_heatPower', 'Power_in': 'y_elecPower', 'COP': 'y_COP'})\n",
    "\n",
    "df_output.head()\n"
   ]
  },
  {
   "cell_type": "code",
   "execution_count": 4,
   "metadata": {},
   "outputs": [],
   "source": [
    "#Export l'output en csv\n",
    "Outputpath = './../data/df_output.csv'\n",
    "df_output.to_csv(Outputpath, index=False)"
   ]
  },
  {
   "cell_type": "markdown",
   "metadata": {},
   "source": [
    "## Extraction of the Input Data"
   ]
  },
  {
   "cell_type": "markdown",
   "metadata": {},
   "source": [
    "Extraction of the input data from the `All data` sheet of the Excel file and storing in a DataFrame `df_input`."
   ]
  },
  {
   "cell_type": "markdown",
   "metadata": {},
   "source": [
    "- Column I : Frequency -> compressor frequency; FMU input\n",
    "- Column J : Water in -> water temperature at the heat pump inlet; FMU input\n",
    "- Column L : Flow -> water flow; FMU input\n",
    "- Column M : Defrosts -> indicates if defrosting took place during the test"
   ]
  },
  {
   "cell_type": "code",
   "execution_count": 5,
   "metadata": {},
   "outputs": [],
   "source": [
    "excel_file_path = './../data/Databrut.xlsx'\n",
    "\n",
    "workbook = openpyxl.load_workbook(excel_file_path)\n",
    "sheet = workbook.active\n",
    "\n",
    "columns_info = {\n",
    "    \"I\": \"Frequency\",\n",
    "    \"J\": \"Water_in\",\n",
    "    \"L\": \"Flow\",\n",
    "    \"M\": \"Defrosts\"  \n",
    "}\n",
    "\n",
    "stored_data = {name: [] for name in columns_info.values()}\n",
    "\n",
    "for col_letter, col_name in columns_info.items():\n",
    "    col_index = column_index_from_string(col_letter)\n",
    "    if col_index <= sheet.max_column:\n",
    "        for row in sheet.iter_rows(min_row=2, max_col=col_index, min_col=col_index, values_only=True):  \n",
    "            stored_data[col_name].extend(row)\n",
    "    else:\n",
    "        print(f\"Column {col_letter} not found in the sheet.\")\n",
    "\n",
    "workbook.close()\n",
    "\n",
    "df_input = pd.DataFrame(stored_data)\n",
    "\n",
    "for column in [\"Frequency\", \"Water_in\", \"Flow\"]:\n",
    "    df_input[column] = pd.to_numeric(df_input[column], errors='coerce')\n",
    "\n",
    "df_input.dropna(subset=[\"Frequency\", \"Water_in\", \"Flow\"], inplace=True)\n",
    "\n",
    "\n",
    "# Création de la colonne 'T_air' avec les valeurs correctes\n",
    "NbA12W35,NbA12W45 = 9,9\n",
    "NbA7W35,NbA7W45,NbA7W55 = 13,12,4\n",
    "NbA2W35,NbA2W45,NbA2W55  = 5,5,5\n",
    "NbAmoins7W35,NbAmoins7W45,NbAmoins7W55 = 5,5,5\n",
    "\n",
    "NbA12 = NbA12W35 + NbA12W45\n",
    "NbA7 = NbA7W35 + NbA7W45 + NbA7W55\n",
    "NbA2 = NbA2W35 + NbA2W45 + NbA2W55\n",
    "NbAmoins7 = NbAmoins7W35 + NbAmoins7W45 + NbAmoins7W55\n",
    "\n",
    "values = [12]*NbA12 + [7]*NbA7 + [2]*NbA2 + [-7]*NbAmoins7\n",
    "\n",
    "if len(values) == len(df_input):\n",
    "    df_input['T_air'] = values\n",
    "else:\n",
    "    print(\"Erreur : La longueur des valeurs de 'T_air' ne correspond pas au DataFrame.\")\n",
    "\n",
    "columns_order = [\"Frequency\", \"Water_in\", \"Flow\", \"T_air\", \"Defrosts\"] \n",
    "df_input = df_input[columns_order]  # Réorganisation des colonnes\n",
    "\n",
    "# df_input.head()\n"
   ]
  },
  {
   "cell_type": "code",
   "execution_count": 6,
   "metadata": {},
   "outputs": [
    {
     "data": {
      "text/html": [
       "<div>\n",
       "<style scoped>\n",
       "    .dataframe tbody tr th:only-of-type {\n",
       "        vertical-align: middle;\n",
       "    }\n",
       "\n",
       "    .dataframe tbody tr th {\n",
       "        vertical-align: top;\n",
       "    }\n",
       "\n",
       "    .dataframe thead th {\n",
       "        text-align: right;\n",
       "    }\n",
       "</style>\n",
       "<table border=\"1\" class=\"dataframe\">\n",
       "  <thead>\n",
       "    <tr style=\"text-align: right;\">\n",
       "      <th></th>\n",
       "      <th>Frequency</th>\n",
       "      <th>Water_in</th>\n",
       "      <th>Flow</th>\n",
       "      <th>T_air</th>\n",
       "      <th>Defrosts</th>\n",
       "    </tr>\n",
       "  </thead>\n",
       "  <tbody>\n",
       "    <tr>\n",
       "      <th>3</th>\n",
       "      <td>105.6</td>\n",
       "      <td>303.262818</td>\n",
       "      <td>0.000415</td>\n",
       "      <td>285.15</td>\n",
       "      <td>no</td>\n",
       "    </tr>\n",
       "    <tr>\n",
       "      <th>4</th>\n",
       "      <td>98.4</td>\n",
       "      <td>303.289006</td>\n",
       "      <td>0.000409</td>\n",
       "      <td>285.15</td>\n",
       "      <td>no</td>\n",
       "    </tr>\n",
       "    <tr>\n",
       "      <th>5</th>\n",
       "      <td>88.2</td>\n",
       "      <td>303.231215</td>\n",
       "      <td>0.000370</td>\n",
       "      <td>285.15</td>\n",
       "      <td>no</td>\n",
       "    </tr>\n",
       "    <tr>\n",
       "      <th>6</th>\n",
       "      <td>78.0</td>\n",
       "      <td>303.359724</td>\n",
       "      <td>0.000336</td>\n",
       "      <td>285.15</td>\n",
       "      <td>no</td>\n",
       "    </tr>\n",
       "    <tr>\n",
       "      <th>7</th>\n",
       "      <td>68.4</td>\n",
       "      <td>303.246077</td>\n",
       "      <td>0.000292</td>\n",
       "      <td>285.15</td>\n",
       "      <td>no</td>\n",
       "    </tr>\n",
       "  </tbody>\n",
       "</table>\n",
       "</div>"
      ],
      "text/plain": [
       "   Frequency    Water_in      Flow   T_air Defrosts\n",
       "3      105.6  303.262818  0.000415  285.15       no\n",
       "4       98.4  303.289006  0.000409  285.15       no\n",
       "5       88.2  303.231215  0.000370  285.15       no\n",
       "6       78.0  303.359724  0.000336  285.15       no\n",
       "7       68.4  303.246077  0.000292  285.15       no"
      ]
     },
     "execution_count": 6,
     "metadata": {},
     "output_type": "execute_result"
    }
   ],
   "source": [
    "# Conversion de la température de l'eau de °C à K\n",
    "df_input['Water_in'] = df_input['Water_in'] + 273.15\n",
    "\n",
    "# Conversion du débit d'eau de m³/h à m³/s\n",
    "df_input['Flow'] = df_input['Flow'] / 3600\n",
    "\n",
    "# Conversion de la température de l'air de °C à K\n",
    "df_input['T_air'] = df_input['T_air'] + 273.15\n",
    "\n",
    "df_input.head()"
   ]
  },
  {
   "cell_type": "code",
   "execution_count": 7,
   "metadata": {},
   "outputs": [],
   "source": [
    "# export l'input en fichier Excel\n",
    "Inputpath = './../data/df_input.csv'\n",
    "df_input.to_csv(Inputpath, index=False)\n"
   ]
  },
  {
   "cell_type": "markdown",
   "metadata": {},
   "source": [
    "## Calibration (defrost = no) "
   ]
  },
  {
   "cell_type": "markdown",
   "metadata": {},
   "source": [
    "Firstly, we ignore the tests where \"Defrosts\" = yes (column M)"
   ]
  },
  {
   "cell_type": "code",
   "execution_count": 8,
   "metadata": {},
   "outputs": [],
   "source": [
    "df_no_defrosts = df_input[df_input['Defrosts'] == 'no']"
   ]
  },
  {
   "cell_type": "markdown",
   "metadata": {},
   "source": [
    "In this notebook, we are importing the Python class `HeatPumpSimulator` that utilizes FMpy to simulate FMU. This class is responsible for performing the simulation of the heat pump system. Below are the defined inputs and outputs for the simulation.\n",
    "\n",
    "\n",
    "#### FMU Inputs\n",
    "\n",
    "- **u_compressorFrequency:** Compressor Frequency *Unit:* Hz\n",
    "\n",
    "- **u_VFlow:** Water Flow *Unit:* m³/s\n",
    "\n",
    "- **u_T_water:** Water Temperature Entering the Heat Pump *Unit:* K\n",
    "\n",
    "- **u_T_air:** Air Temperature at the Heat Pump Inlet *Unit:* K\n",
    "\n",
    "#### FMU Outputs\n",
    "\n",
    "- **y_T_out:** Water Temperature Leaving the Heat Pump *Unit:* K\n",
    "\n",
    "- **y_heatPower:** Thermal Power of the Heat Pump (Hot Side) *Unit:* W\n",
    "\n",
    "- **y_elecPower:** Electrical Power of the Heat Pump *Unit:* W\n",
    "\n",
    "- **y_COP:** Coefficient of Performance of the Heat Pump *Unit:* []\n"
   ]
  },
  {
   "cell_type": "code",
   "execution_count": 9,
   "metadata": {},
   "outputs": [
    {
     "name": "stdout",
     "output_type": "stream",
     "text": [
      "start_values={'u_compressorFrequency': 105.6, 'u_VFlow': 0.0004146853898097, 'u_T_watrer_in': 303.262817679558, 'u_T_air': 285.15, 'x_areaLeakage': 5e-07, 'x_areaSuctionValve': 0.0005, 'x_areaDischargeValve': 5e-05, 'x_relativeDeadSpace': 0.05, 'x_driveEfficiency': 0.9}\n",
      "start_values={'u_compressorFrequency': 98.4, 'u_VFlow': 0.0004090147329650083, 'u_T_watrer_in': 303.28900552486186, 'u_T_air': 285.15, 'x_areaLeakage': 5e-07, 'x_areaSuctionValve': 0.0005, 'x_areaDischargeValve': 5e-05, 'x_relativeDeadSpace': 0.05, 'x_driveEfficiency': 0.9}\n",
      "start_values={'u_compressorFrequency': 88.2, 'u_VFlow': 0.0003700322283609583, 'u_T_watrer_in': 303.2312154696133, 'u_T_air': 285.15, 'x_areaLeakage': 5e-07, 'x_areaSuctionValve': 0.0005, 'x_areaDischargeValve': 5e-05, 'x_relativeDeadSpace': 0.05, 'x_driveEfficiency': 0.9}\n",
      "start_values={'u_compressorFrequency': 78.0, 'u_VFlow': 0.0003355325352977278, 'u_T_watrer_in': 303.359723756906, 'u_T_air': 285.15, 'x_areaLeakage': 5e-07, 'x_areaSuctionValve': 0.0005, 'x_areaDischargeValve': 5e-05, 'x_relativeDeadSpace': 0.05, 'x_driveEfficiency': 0.9}\n",
      "start_values={'u_compressorFrequency': 68.4, 'u_VFlow': 0.0002918953345610805, 'u_T_watrer_in': 303.2460773480663, 'u_T_air': 285.15, 'x_areaLeakage': 5e-07, 'x_areaSuctionValve': 0.0005, 'x_areaDischargeValve': 5e-05, 'x_relativeDeadSpace': 0.05, 'x_driveEfficiency': 0.9}\n",
      "start_values={'u_compressorFrequency': 58.2, 'u_VFlow': 0.0002711632903621853, 'u_T_watrer_in': 303.277182320442, 'u_T_air': 285.15, 'x_areaLeakage': 5e-07, 'x_areaSuctionValve': 0.0005, 'x_areaDischargeValve': 5e-05, 'x_relativeDeadSpace': 0.05, 'x_driveEfficiency': 0.9}\n",
      "start_values={'u_compressorFrequency': 48.0, 'u_VFlow': 0.0002204389195825661, 'u_T_watrer_in': 303.27580110497235, 'u_T_air': 285.15, 'x_areaLeakage': 5e-07, 'x_areaSuctionValve': 0.0005, 'x_areaDischargeValve': 5e-05, 'x_relativeDeadSpace': 0.05, 'x_driveEfficiency': 0.9}\n",
      "start_values={'u_compressorFrequency': 42.0, 'u_VFlow': 0.00017487722529159, 'u_T_watrer_in': 303.22022099447514, 'u_T_air': 285.15, 'x_areaLeakage': 5e-07, 'x_areaSuctionValve': 0.0005, 'x_areaDischargeValve': 5e-05, 'x_relativeDeadSpace': 0.05, 'x_driveEfficiency': 0.9}\n",
      "start_values={'u_compressorFrequency': 28.8, 'u_VFlow': 0.00012753069367710251, 'u_T_watrer_in': 303.232817679558, 'u_T_air': 285.15, 'x_areaLeakage': 5e-07, 'x_areaSuctionValve': 0.0005, 'x_areaDischargeValve': 5e-05, 'x_relativeDeadSpace': 0.05, 'x_driveEfficiency': 0.9}\n",
      "start_values={'u_compressorFrequency': 105.6, 'u_VFlow': 0.0003388071895424834, 'u_T_watrer_in': 313.22209150326796, 'u_T_air': 285.15, 'x_areaLeakage': 5e-07, 'x_areaSuctionValve': 0.0005, 'x_areaDischargeValve': 5e-05, 'x_relativeDeadSpace': 0.05, 'x_driveEfficiency': 0.9}\n"
     ]
    }
   ],
   "source": [
    "simulator = HeatPumpSimulator('../FMU/HPFMU_20_Linux.fmu')\n",
    "\n",
    "last_rows = []\n",
    "\n",
    "# Itération sur les 10 premières lignes du DataFrame d'entrée\n",
    "for index, row in df_no_defrosts.head(10).iterrows():\n",
    "    start_values = {\n",
    "        'u_compressorFrequency': row['Frequency'],\n",
    "        'u_VFlow': row['Flow'],\n",
    "        'u_T_watrer_in': row['Water_in'],\n",
    "        'u_T_air': row['T_air'],\n",
    "        # Valeurs fixes des paramètres pour l'instant\n",
    "        'x_areaLeakage': 5e-7,\n",
    "        'x_areaSuctionValve': 5e-4,\n",
    "        'x_areaDischargeValve': 5e-5,\n",
    "        'x_relativeDeadSpace': 0.05,\n",
    "        'x_driveEfficiency': 0.9\n",
    "    }\n",
    "    # print(f\"start_values={start_values}\")\n",
    "\n",
    "    simulation_result = simulator.simulate(start_values)\n",
    "    df_simulation_result = pd.DataFrame(simulation_result)\n",
    "    last_row = df_simulation_result.iloc[-1]\n",
    "    last_rows.append(last_row)\n"
   ]
  },
  {
   "cell_type": "code",
   "execution_count": 10,
   "metadata": {},
   "outputs": [
    {
     "data": {
      "text/html": [
       "<div>\n",
       "<style scoped>\n",
       "    .dataframe tbody tr th:only-of-type {\n",
       "        vertical-align: middle;\n",
       "    }\n",
       "\n",
       "    .dataframe tbody tr th {\n",
       "        vertical-align: top;\n",
       "    }\n",
       "\n",
       "    .dataframe thead th {\n",
       "        text-align: right;\n",
       "    }\n",
       "</style>\n",
       "<table border=\"1\" class=\"dataframe\">\n",
       "  <thead>\n",
       "    <tr style=\"text-align: right;\">\n",
       "      <th></th>\n",
       "      <th>y_T_out</th>\n",
       "      <th>y_heatPower</th>\n",
       "      <th>y_elecPower</th>\n",
       "      <th>y_COP</th>\n",
       "    </tr>\n",
       "  </thead>\n",
       "  <tbody>\n",
       "    <tr>\n",
       "      <th>0</th>\n",
       "      <td>308.585764</td>\n",
       "      <td>9181.373552</td>\n",
       "      <td>2427.614040</td>\n",
       "      <td>3.782057</td>\n",
       "    </tr>\n",
       "    <tr>\n",
       "      <th>1</th>\n",
       "      <td>308.320366</td>\n",
       "      <td>8559.788081</td>\n",
       "      <td>2223.600652</td>\n",
       "      <td>3.849517</td>\n",
       "    </tr>\n",
       "    <tr>\n",
       "      <th>2</th>\n",
       "      <td>308.191957</td>\n",
       "      <td>7635.408713</td>\n",
       "      <td>1945.937162</td>\n",
       "      <td>3.923769</td>\n",
       "    </tr>\n",
       "    <tr>\n",
       "      <th>3</th>\n",
       "      <td>308.135888</td>\n",
       "      <td>6669.292055</td>\n",
       "      <td>1680.123506</td>\n",
       "      <td>3.969525</td>\n",
       "    </tr>\n",
       "    <tr>\n",
       "      <th>4</th>\n",
       "      <td>307.972277</td>\n",
       "      <td>5738.200241</td>\n",
       "      <td>1435.660306</td>\n",
       "      <td>3.996907</td>\n",
       "    </tr>\n",
       "  </tbody>\n",
       "</table>\n",
       "</div>"
      ],
      "text/plain": [
       "      y_T_out  y_heatPower  y_elecPower     y_COP\n",
       "0  308.585764  9181.373552  2427.614040  3.782057\n",
       "1  308.320366  8559.788081  2223.600652  3.849517\n",
       "2  308.191957  7635.408713  1945.937162  3.923769\n",
       "3  308.135888  6669.292055  1680.123506  3.969525\n",
       "4  307.972277  5738.200241  1435.660306  3.996907"
      ]
     },
     "execution_count": 10,
     "metadata": {},
     "output_type": "execute_result"
    }
   ],
   "source": [
    "df_final_results = pd.DataFrame(last_rows)\n",
    "df_final_results = df_final_results.drop(columns=['time'])\n",
    "df_final_results = df_final_results.reset_index(drop=True)\n",
    "\n",
    "df_final_results.head()\n"
   ]
  }
 ],
 "metadata": {
  "kernelspec": {
   "display_name": "base",
   "language": "python",
   "name": "python3"
  },
  "language_info": {
   "codemirror_mode": {
    "name": "ipython",
    "version": 3
   },
   "file_extension": ".py",
   "mimetype": "text/x-python",
   "name": "python",
   "nbconvert_exporter": "python",
   "pygments_lexer": "ipython3",
   "version": "3.10.12"
  }
 },
 "nbformat": 4,
 "nbformat_minor": 2
}
