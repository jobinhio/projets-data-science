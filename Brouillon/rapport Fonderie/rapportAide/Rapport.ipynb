{
 "cells": [
  {
   "cell_type": "markdown",
   "metadata": {},
   "source": [
    "### Présentation de l'entreprise : Fonderie de Niederbronn\n"
   ]
  },
  {
   "cell_type": "markdown",
   "metadata": {},
   "source": [
    "\n",
    "La Fonderie de Niederbronn, fondée en 1769, est un partenaire clé dans la production de pièces en fonte. Grâce à son expérience et son savoir-faire, l'entreprise produit des pièces en fonte à graphite lamellaire (GJL) et à graphite sphéroïdal (GJS) pour une clientèle industrielle variée, aussi bien en France qu'à l'international. L’usine est située au Nord-Est de la France à Niederbronn près de Strasbourg.\n",
    "\n",
    "#### Capacités et Installations de Production\n",
    "**Moyens de Fusion:**\n",
    "- 2 fours Junker 5T d'une puissance de 4MW.\n",
    "\n",
    "**Lignes de Moulage:**\n",
    "- **DISAMATIC 270** : Coulée automatique verticale pour des pièces jusqu'à 950 x 700 mm et un poids maximum de 40 kg.\n",
    "- **HWS** : Coulée automatique horizontale pour des pièces de dimensions jusqu'à 1600 x 1400 mm et un poids maximum de 600 kg.\n",
    "\n",
    "**Moyens de Noyautage:**\n",
    "- 5 machines à noyer avec une capacité de production allant de 1 à 100 litres et des noyaux jusqu'à 300 kg.\n",
    "\n",
    "**Moyens de Peinture:**\n",
    "- 2 lignes de peinture liquide pouvant traiter des pièces jusqu'à 500 kg. Peintures disponibles : primaire d'accrochage, peinture résistante aux brouillards salins de 300h, haute température (600°C).\n",
    "\n",
    "**Moyens d'Usinage:**\n",
    "- Tours et centres d'usinage CNC avec des capacités variées pour des pièces de grandes dimensions (jusqu'à 1200 x 1000 x 600 mm).\n",
    "\n",
    "#### Contrôle Qualité\n",
    "La Fonderie de Niederbronn attache une grande importance à la qualité de ses produits, mise en œuvre à travers divers contrôles :\n",
    "- **Dimensionnel:** Utilisation de bras FARO et scan 3D.\n",
    "- **Non Destructif:** Banc de magnétoscopie et contrôle par ultrasons.\n",
    "- **Caractéristiques Mécaniques:** Traction, contrôle de dureté, résilience.\n",
    "- **Métallurgiques:** Spectrométrie et micrographie.\n",
    "\n",
    "#### Secteurs d'Activité\n",
    "La Fonderie de Niederbronn sert plusieurs secteurs industriels et domestiques, en fournissant des pièces spécifiques adaptées aux besoins de chaque domaine.\n",
    "\n",
    "**Usage Industriel :**\n",
    "- **Machinisme Agricole :** Pièces massives et fortement noyautées en fontes à graphite lamellaire et sphéroïdal (carters, paliers).\n",
    "- **Machines du BTP :** Pièces en fonte à graphite sphéroïdal répondant aux contraintes de résistance mécanique et de taille (châssis tournant, contrepoids).\n",
    "- **Machines Spéciales :** Solutions économiques pour le remplacement de pièces mécano-soudées, flexibilité de production en petite série (châssis, tables, pièces d’articulation).\n",
    "- **Pièces Hydrauliques :** Maîtrise des épaisseurs et des ailettes, respect des exigences d'étanchéité (corps de pompes à vide, compresseurs).\n",
    "- **Ferroviaire :** Réponse aux exigences du secteur ferroviaire avec du matériel de signalisation et des appareils de voie (matériel roulant).\n",
    "- **Énergie :** Pièces de grande envergure pour des sollicitations mécaniques importantes, co-développement de solutions innovantes.\n",
    "\n",
    "**Usage Domestique :**\n",
    "- **Corps de Chaudière et Radiateurs :** Pièces fortement noyautées, tests d'étanchéité, assemblage (corps de chaudière).\n",
    "- **Poêles et Inserts de Cheminée :** Grande liberté de design, assemblage de produits complets ou semi-finis (poêles, inserts).\n",
    "- **Mobilier d’Extérieur :** Robustesse, longévité, grandes dimensions et finitions variées (pieds de bancs, poteaux, ferrures).\n",
    "- **Équipement de Cuisine :** Fontes alimentaires de haute qualité, production adaptée à la demande (grils, planchas, cuisinières, cocottes, crêpières, woks).\n",
    "\n",
    "#### Engagement et Certifications\n",
    "L'entreprise veille à la conformité des normes de sécurité, environnementales, et hygiéniques, et est certifiée ISO 9001 par Bureau Veritas, ainsi que conforme aux méthodes opératoires ASME code 4.\n",
    "\n",
    "#### Chiffres Clés et Ressources Humaines\n",
    "- **Nombre de Collaborateurs:** 170.\n",
    "- **Capacité de Fusion:** 20 000 tonnes par an.\n",
    "- **Chiffre d'Affaires:** 23 millions d'euros pour l'exercice 2023.\n",
    "\n",
    "#### Bureau d'Études et Atelier de Modelage\n",
    "Le bureau d'études intégré utilise des logiciels de conception et de simulation avancés (Solid Edge, NOWAFLOW & SOLID) pour optimiser le développement et la qualité des pièces. Des imprimantes 3D sont utilisées pour la fabrication de systèmes de remplissage en concordance avec la définition initiale. Les outillages sont réalisés sur 5 centres d'usinage 3 et 5 axes.\n",
    "\n",
    "**Contact:**\n",
    "- **Téléphone:** +33 3 88 80 28 00\n",
    "- **Email:** contact@fonderiedeniederbronn.com\n",
    "\n",
    "Cette présentation met en lumière l'expertise, les capacités de production, et l'engagement qualité de la Fonderie de Niederbronn, faisant d'elle un acteur incontournable dans le secteur de la fonderie.\n",
    "\n",
    "- Mettre les 2 images fonderie vue de haut et une autre en vue de face.\n"
   ]
  },
  {
   "cell_type": "markdown",
   "metadata": {},
   "source": [
    "###  Présentation du problème Optimisation"
   ]
  },
  {
   "cell_type": "markdown",
   "metadata": {},
   "source": [
    "Dans le cadre du processus de fabrication d'une fonte, l'une des étapes préliminaires fondamentales réside dans la détermination du lit de fusion, c'est-à-dire la proportion des matières premières nécessaires à la fusion. Dans notre cas, on souhaite  produire une tonne de fonte de haute qualité. Pour ce faire, nous disposons d'une trentaine de matières premières, chacune possédant sa propre composition chimique distinctive. Chaque matière première est disponible ou non en quantité limitée et leurs prix varient tout au long de l'année. Ces matières sont issues de diverses sources, comprenant des matériaux métalliques et de construction, ainsi que des retours, c'est-à-dire des résidus provenant des précédents cycles de production. Par exemple, parmi ces matériaux, on trouve les SABOTS DE FREINS SNCF, les RAILS DE CHEMIN DE FER de 40 cm et de la FONTE GS RECYCLÉE, dont les prix respectifs sont de 435 euros, 423,90 euros et 374 euros. La qualité de la fonte dépend de sa composition chimique, qui doit se situer dans des intervalles spécifiques adaptés au type de fonte recherché, tout en respectant des critères de qualité tels que le niveau d'impuretés et la pureté ONO. Le niveau d'impuretés et la pureté ONO sont déterminés par des combinaisons linéaires des pourcentages d'éléments chimiques présents dans les matières premières. Par conséquent, l'objectif principal est de déterminer les proportions optimales des matières premières, en vue de minimiser les coûts de production tout en préservant la qualité de la fonte.\n",
    "\n",
    "\n",
    "\n",
    "(Afficher les images de matières premières de la fonderie)\n",
    "Améliore cette partie d'un rapport de stage qui présentent le problème à résoudre:"
   ]
  },
  {
   "cell_type": "code",
   "execution_count": null,
   "metadata": {},
   "outputs": [],
   "source": []
  },
  {
   "cell_type": "code",
   "execution_count": null,
   "metadata": {},
   "outputs": [],
   "source": []
  },
  {
   "cell_type": "markdown",
   "metadata": {},
   "source": [
    "Trouve-moi un algorithme qui donne l'ensemble x solution de  :\n",
    "\n",
    "\n",
    "Existe-t-il un algorithme pouvant donner l'ensemble x solution de  :\n",
    "Ax < b # avec A.shape = (3,24), x.shape = (24,1), b.shape = (3,1)\n",
    "\n",
    "\n",
    "A partir d'un ensemble d'équation linéaire donne le polygone convexe associée"
   ]
  },
  {
   "cell_type": "code",
   "execution_count": null,
   "metadata": {},
   "outputs": [],
   "source": []
  },
  {
   "cell_type": "code",
   "execution_count": 55,
   "metadata": {},
   "outputs": [
    {
     "data": {
      "text/latex": [
       "$\\displaystyle - 1.07175455506868 x_{0} + 0.954668168672751 x_{1} - 0.798634146017297 x_{10} + 0.149569489275398 x_{11} - 0.343401319196754 x_{12} - 0.897364230183706 x_{13} + 0.964256672448261 x_{14} + 0.531023136925456 x_{15} + 0.0998466778385917 x_{16} - 2.50268008355976 x_{17} - 1.5771418728987 x_{18} - 1.26865831024408 x_{19} - 0.398368857459062 x_{2} + 2.047937821046 x_{20} - 0.0173941552686101 x_{21} + 0.761566724583357 x_{22} + 1.31141648395051 x_{23} - 0.502929536352552 x_{3} + 0.938049701968982 x_{4} + 0.124309288356295 x_{5} + 0.368780705192337 x_{6} + 1.13567633826993 x_{7} - 1.09609190556694 x_{8} - 0.396188231177223 x_{9}$"
      ],
      "text/plain": [
       "-1.07175455506868*x0 + 0.954668168672751*x1 - 0.798634146017297*x10 + 0.149569489275398*x11 - 0.343401319196754*x12 - 0.897364230183706*x13 + 0.964256672448261*x14 + 0.531023136925456*x15 + 0.0998466778385917*x16 - 2.50268008355976*x17 - 1.5771418728987*x18 - 1.26865831024408*x19 - 0.398368857459062*x2 + 2.047937821046*x20 - 0.0173941552686101*x21 + 0.761566724583357*x22 + 1.31141648395051*x23 - 0.502929536352552*x3 + 0.938049701968982*x4 + 0.124309288356295*x5 + 0.368780705192337*x6 + 1.13567633826993*x7 - 1.09609190556694*x8 - 0.396188231177223*x9"
      ]
     },
     "execution_count": 55,
     "metadata": {},
     "output_type": "execute_result"
    }
   ],
   "source": [
    "import sympy as sp\n",
    "import numpy as np\n",
    "\n",
    "# Define the symbols\n",
    "x = sp.symbols('x0:24')  # Assuming 3 variables x0, x1, x2\n",
    "\n",
    "# Définir les dimensions de A et b\n",
    "A_np = np.random.randn(3, 24)\n",
    "b_np = np.random.randn(3, 1)\n",
    "\n",
    "C_np = np.random.randn(1, 24)\n",
    "\n",
    "# Convertir en matrices SymPy\n",
    "A = sp.Matrix(A_np)\n",
    "b = sp.Matrix(b_np)\n",
    "\n",
    "C = sp.Matrix(C_np)\n",
    "\n",
    "\n",
    "# List to store inequalities\n",
    "inequalities = []\n",
    "\n",
    "# Construct inequalities\n",
    "for i in range(A.shape[0]):\n",
    "    inequality = sum(A[i, j] * x[j] for j in range(A.shape[1])) - b[i]  # Define the inequality\n",
    "    inequalities.append(inequality)\n",
    "\n",
    "# Solve the inequalities\n",
    "solution = sp.solve(inequalities, *x)\n",
    "\n",
    "\n",
    "C = sum(C[j] * x[j] for j in range(C.shape[1]))\n",
    "C\n"
   ]
  },
  {
   "cell_type": "code",
   "execution_count": null,
   "metadata": {},
   "outputs": [],
   "source": []
  },
  {
   "cell_type": "code",
   "execution_count": null,
   "metadata": {},
   "outputs": [],
   "source": []
  },
  {
   "cell_type": "markdown",
   "metadata": {},
   "source": [
    "Peux-t-on avoir l'ensemble des minimuns d'un probleme d'optimisation en python ?"
   ]
  },
  {
   "cell_type": "code",
   "execution_count": null,
   "metadata": {},
   "outputs": [],
   "source": []
  },
  {
   "cell_type": "code",
   "execution_count": null,
   "metadata": {},
   "outputs": [],
   "source": []
  },
  {
   "cell_type": "code",
   "execution_count": null,
   "metadata": {},
   "outputs": [],
   "source": []
  },
  {
   "cell_type": "markdown",
   "metadata": {},
   "source": [
    "###  Modélisation mathématique du problème\n"
   ]
  },
  {
   "cell_type": "markdown",
   "metadata": {},
   "source": [
    "\n",
    "Soit :\n",
    "\n",
    "**Variables de décision**\n",
    "- $x_i$ : la proportion de la matière première $i$ utilisée dans la fonte, où $i = 1, 2, ..., m$ (avec $m$ étant le nombre total de matières premières disponibles).\n",
    "\n",
    "**Paramètres**\n",
    "- $C_i$ : le prix (ou coût) unitaire de la matière première $i$.\n",
    "- $a_{ij}$ : la proportion (ou pourcentage) d'éléments chimiques $j$ dans la matière première $i$, où $j = 1, 2, ..., n$ (avec $n = 18$ étant le nombre total d'éléments chimiques).\n",
    "- $P_j^{min}$ et $P_j^{max}$ : les limites minimales et maximales de la proportion de l'élément chimique $i$ dans la fonte finale.\n",
    "- $I$ et $O$ : les coefficiants du niveau d'impureté et de pureté ONO.\n",
    "- $I_{min}$ et $I_{max}$ : les limites minimales et maximales pour le niveau d'impureté de la fonte finale.\n",
    "- $O_{min}$ et $O_{max}$ : les limites minimales et maximales pour le niveau de pureté ONO de la fonte finale.\n",
    "\n",
    "\n",
    "L'objectif est de minimiser le coût total de production tout en respectant les contraintes de qualité :\n",
    "1. **Contraintes de quantité de totale:**\n",
    "\n",
    "   On cherche à produire une tonne de fonte, donc la somme des quantités de chaque matière première utilisée doit être égale à 1 tonne.\n",
    "      $$ \\sum_{i=1}^{m} x_i = 1 $$\n",
    "\n",
    "\n",
    "2. **Contraintes sur les éléments chimique :**\n",
    "\n",
    "   Pour chaque élément chimique $j$, la proportion dans la fonte finale doit respecter les limites spécifiées.\n",
    "      $$ P_j^{min} \\leq \\sum_{i=1}^{n} a_{ij} x_i < P_j^{max} $$\n",
    "\n",
    "\n",
    "3. **Contraintes de qualité :**\n",
    "\n",
    "   Ces contraintes garantissent que les indicateurs de qualité soit respecté. \n",
    "      $$ I_{min} \\leq \\sum_{i=1}^{n} a_{ij} \\cdot{} x_i \\cdot{} I_{i} < I_{max}$$\n",
    "      $$ O_{min} \\leq \\sum_{i=1}^{n} a_{ij} \\cdot{} x_i \\cdot{} O_{i} < O_{max} $$\n",
    "\n",
    "La fonction objectif à minimiser est le coût total de production :\n",
    "$$ C = \\sum_{i=1}^{m} C_i \\cdot{} x_i $$\n",
    "\n",
    "Cette modélisation peut être résolue à l'aide de techniques d'optimisation linéaire ou non linéaire en fonction de la complexité du problème et des contraintes spécifiques. Les paramètres dépendent du type de fonte que l'on souhaite réaliser. "
   ]
  },
  {
   "cell_type": "code",
   "execution_count": null,
   "metadata": {},
   "outputs": [],
   "source": []
  },
  {
   "cell_type": "code",
   "execution_count": null,
   "metadata": {},
   "outputs": [],
   "source": []
  },
  {
   "cell_type": "markdown",
   "metadata": {},
   "source": [
    "Disponibilité limitée des matières premières : Si chaque matière première i est disponible en quantité limitée 𝑀 , nous devons ajouter une contrainte supplémentaire :"
   ]
  },
  {
   "cell_type": "code",
   "execution_count": null,
   "metadata": {},
   "outputs": [],
   "source": []
  },
  {
   "cell_type": "code",
   "execution_count": null,
   "metadata": {},
   "outputs": [],
   "source": []
  },
  {
   "cell_type": "markdown",
   "metadata": {},
   "source": [
    "Soit $x  \\in [0,1]^m $\n",
    "On cherche à minimiser la fonction objectif\n",
    "\n",
    "$$\n",
    "\\underset{x \\in [0,1]^m}{\\min_{x} \\: C \\cdot x}\n",
    "$$\n",
    "ET\n",
    "$$\n",
    "\\underset{x \\in [0,1]^m}{\\min_{x} \\: A_{ub}x - b_{ub} }\n",
    "$$\n",
    "sous les contraintes suivantes :\n",
    "\n",
    "$$\n",
    "\\begin{cases}\n",
    "A_{eq}x = b_{eq} \\\\\n",
    "\\end{cases}\n",
    "$$\n",
    "\n",
    "où\n",
    "- $b_{ub} - A_{ub}x$ doit etre strictement  positif\n",
    "\n",
    "où\n",
    "- $m$ le nombre de matières premières, $n$ le nombre d'éléments chimiques.\n",
    "- $r$ le nombre de contraintes\n",
    "- $ A\\in \\mathbb{R}^{n \\times m} $,\n",
    "- $ A_{ub}, A_{eq} \\in \\mathbb{R}^{n \\times r} $,\n",
    "- $ b_{ub}, b_{eq} \\in \\mathbb{R}^{n \\times r} $,\n",
    "- $ A_{ub}, A_{eq},b_{ub},b_{eq} $: matrices et vecteurs des  contraintes.\n",
    "\n",
    "\n",
    "Resoudre ce probleme linéaire avec une matrice $ A_{ub}$ aléatoire "
   ]
  },
  {
   "cell_type": "code",
   "execution_count": null,
   "metadata": {},
   "outputs": [],
   "source": []
  },
  {
   "cell_type": "code",
   "execution_count": null,
   "metadata": {},
   "outputs": [],
   "source": []
  },
  {
   "cell_type": "code",
   "execution_count": null,
   "metadata": {},
   "outputs": [],
   "source": []
  },
  {
   "cell_type": "markdown",
   "metadata": {},
   "source": [
    "Soit $x  \\in [0,1]^m $\n",
    "On cherche à minimiser la fonction objectif\n",
    "\n",
    "$$\n",
    "\\underset{x}{\\min}  C \\cdot x\n",
    "$$\n",
    "\n",
    "sous les contraintes suivantes :\n",
    "$$\n",
    "\\begin{cases}\n",
    "A_{eq}x = b_{eq} \\\\\n",
    "A_{ub}x < b_{ub} \\\\\n",
    "\\end{cases}\n",
    "$$\n",
    "\n",
    "où\n",
    "- $m$ le nombre de matières premières, $n$ le nombre d'éléments chimiques.\n",
    "- $r$ le nombre de contraintes\n",
    "- $ A\\in \\mathbb{R}^{n \\times m} $,\n",
    "- $ A_{ub}, A_{eq} \\in \\mathbb{R}^{n \\times r} $,\n",
    "- $ b_{ub}, b_{eq} \\in \\mathbb{R}^{n \\times r} $,\n",
    "- $ A_{ub}, A_{eq},b_{ub},b_{eq} $: matrices et vecteurs des contraintes.\n",
    "\n"
   ]
  },
  {
   "cell_type": "code",
   "execution_count": null,
   "metadata": {},
   "outputs": [],
   "source": []
  },
  {
   "cell_type": "code",
   "execution_count": null,
   "metadata": {},
   "outputs": [],
   "source": []
  },
  {
   "cell_type": "code",
   "execution_count": null,
   "metadata": {},
   "outputs": [],
   "source": []
  },
  {
   "cell_type": "code",
   "execution_count": null,
   "metadata": {},
   "outputs": [],
   "source": []
  }
 ],
 "metadata": {
  "kernelspec": {
   "display_name": "Python 3",
   "language": "python",
   "name": "python3"
  },
  "language_info": {
   "codemirror_mode": {
    "name": "ipython",
    "version": 3
   },
   "file_extension": ".py",
   "mimetype": "text/x-python",
   "name": "python",
   "nbconvert_exporter": "python",
   "pygments_lexer": "ipython3",
   "version": "3.12.2"
  }
 },
 "nbformat": 4,
 "nbformat_minor": 2
}
