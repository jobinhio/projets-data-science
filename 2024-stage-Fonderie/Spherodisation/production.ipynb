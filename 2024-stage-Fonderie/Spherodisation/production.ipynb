{
 "cells": [
  {
   "cell_type": "code",
   "execution_count": null,
   "metadata": {},
   "outputs": [],
   "source": []
  },
  {
   "cell_type": "markdown",
   "metadata": {},
   "source": [
    "# Code"
   ]
  },
  {
   "cell_type": "code",
   "execution_count": null,
   "metadata": {},
   "outputs": [],
   "source": []
  },
  {
   "cell_type": "markdown",
   "metadata": {},
   "source": [
    "\n",
    "\n",
    "Tu es travaille dans une fonderie et tu dispose de 3 images en pdf de ces 3 lieux.\n",
    "Tu dois illustrer ce processus, Peux-tu m'indiquer comment le faire sur lucidchart ? \n",
    "Si tu as des questions, n'hésite pas à me les poser !!"
   ]
  },
  {
   "cell_type": "code",
   "execution_count": 33,
   "metadata": {},
   "outputs": [],
   "source": [
    "def ProdFusion(nb_fours, Temps_fusion, Temps_chargement):\n",
    "    tmin = 0 # en minute\n",
    "    tmax = nb_fours*60 # en minute\n",
    "\n",
    "    times = [0] # en min\n",
    "    PFC_values = [0] # en kg\n",
    "\n",
    "    numfours = 0\n",
    "    Fonte_produit = 5000 # Fontes produits toute les 45 min en kg\n",
    "    PFC = PFC_values[-1] \n",
    "    for t in range(tmin, tmax):\n",
    "        if t <= Temps_chargement:\n",
    "            # Avant ou pendant Temps_chargement\n",
    "            times.append(t)\n",
    "            PFC_values.append(PFC)\n",
    "        else:\n",
    "            # Après Temps_chargement\n",
    "            if (t - Temps_chargement) % Temps_fusion == 0:\n",
    "                numfours += 1\n",
    "                # print(t,numfours)\n",
    "                PFC += Fonte_produit\n",
    "            times.append(t)\n",
    "            PFC_values.append(PFC)\n",
    "    return  times, PFC_values\n",
    "\n",
    "import plotly.graph_objects as go\n",
    "\n",
    "def Plot_Prod(times, PFC_values):\n",
    "\n",
    "    # Create Plotly figure\n",
    "    fig = go.Figure()\n",
    "\n",
    "    # Add PFC line\n",
    "    fig.add_trace(go.Scatter(x=times, y=PFC_values, mode='lines', name='PFC over time', line=dict(color='royalblue')))\n",
    "\n",
    "    # Customize layout\n",
    "    fig.update_layout(title='Production de fonte au cours du temps', xaxis_title='Time (minutes)', yaxis_title='PFC (kg)', template='plotly',\n",
    "        showlegend=False)\n",
    "\n",
    "    # Show the plot\n",
    "    fig.show()\n"
   ]
  },
  {
   "cell_type": "code",
   "execution_count": 38,
   "metadata": {},
   "outputs": [],
   "source": [
    "nb_fours = 6 # 8-9 fours pour HWS, 6 fours pour DiSA\n",
    "Temps_fusion = 45 # en min\n",
    "Temps_chargement = 30 # 30 - 45  min\n",
    "times, PFC_values = ProdFusion(nb_fours, Temps_fusion, Temps_chargement)"
   ]
  },
  {
   "cell_type": "code",
   "execution_count": null,
   "metadata": {},
   "outputs": [],
   "source": []
  },
  {
   "cell_type": "code",
   "execution_count": null,
   "metadata": {},
   "outputs": [],
   "source": []
  },
  {
   "cell_type": "code",
   "execution_count": null,
   "metadata": {},
   "outputs": [],
   "source": [
    "# Temps en minute admissible avant l'ajout dans le four de maintien\n",
    "# avant d'atteindre la fonte minimal (en Kg) dans le four de maintien\n",
    "consommation_fonte_min = nb_moules_heure * masse_grappe / 60  # en kg/min\n",
    "fonte_four_consommable = masse_fonte_coulee - masse_fonte_coulee_min\n",
    "temps_epuis_fonte = fonte_four_consommable/consommation_fonte_min\n",
    "delai_avt_traitement_fonte_four = temps_epuis_fonte - temps_traitement\n",
    "\n",
    "\n",
    "\n",
    "# Temps en minute admissible avant l'ajout dans le four de maintien\n",
    "# avant d'atteindre le pourcentage minimal (%) dans le four de maintien\n",
    "pct_mg_four_consommable = pct_mg_fonte_coulee - pct_mg_fonte_coulee_min\n",
    "temps_epuis_mg = pct_mg_four_consommable/pct_perdu_mg_coulee_min\n",
    "delai_avt_traitement_mg_four = temps_epuis_mg - temps_traitement\n",
    "\n",
    "\n",
    "# Temps en minute avant de lancer le traitement (Du four de fusion au four de maintien)\n",
    "delai_avt_traitement = min(delai_avt_traitement_fonte_four, delai_avt_traitement_mg_four)\n",
    "\n",
    "# print(delai_avt_traitement_fonte_four, delai_avt_traitement_mg_four)\n",
    "# mise a jour de la masse fonte avant ajout poche mais après consomation de la fonte\n",
    "masse_fonte_four_consommer = (temps_traitement + delai_avt_traitement)*consommation_fonte_min \n",
    "masse_four_limite =  masse_fonte_coulee - masse_fonte_four_consommer\n",
    "\n",
    "\n",
    "# mise a jour de la masse mg avant ajout poche après consomation de mg\n",
    "pct_mg_four_consommer = (temps_traitement + delai_avt_traitement)*pct_perdu_mg_coulee_min\n",
    "pct_mg_four_limite = pct_mg_fonte_coulee - pct_mg_four_consommer\n",
    "\n",
    "\n",
    "# % de Mg à ajouter dans la poche de traitement pour obtenir le Mg maximal\n",
    "K = ( pct_mg_fonte_coulee_max*(masse_four_limite + masse_fonte_poche) - pct_mg_four_limite*masse_four_limite )/ masse_fonte_poche\n"
   ]
  },
  {
   "cell_type": "code",
   "execution_count": null,
   "metadata": {},
   "outputs": [],
   "source": []
  },
  {
   "cell_type": "code",
   "execution_count": null,
   "metadata": {},
   "outputs": [],
   "source": []
  },
  {
   "cell_type": "code",
   "execution_count": null,
   "metadata": {},
   "outputs": [],
   "source": []
  },
  {
   "cell_type": "code",
   "execution_count": 6,
   "metadata": {},
   "outputs": [
    {
     "data": {
      "text/plain": [
       "36.92307692307693"
      ]
     },
     "execution_count": 6,
     "metadata": {},
     "output_type": "execute_result"
    }
   ],
   "source": [
    "\n",
    "Fontes_consomer = Quantite_mottes*masse_grappe\n",
    "consommation_fonte_min = nb_moules_heure * masse_grappe / 60  # en kg/min\n",
    "\n",
    "\n",
    "Fontes_coule_min = 2500\n",
    "Fontes_coule = 3300\n",
    "\n",
    "\n",
    "\n",
    "Fontes_fusion_dispo = 2000\n",
    "temps_fusion = '1 hr 10 min 0 s'\n",
    "pos_hr = temps_fusion.find('hr')\n",
    "pos_min = temps_fusion.find('min')\n",
    "pos_sec = temps_fusion.find('s')\n",
    "# Extraire les valeurs numériques\n",
    "now_hours = int(temps_fusion[:pos_hr].strip()) \n",
    "now_minutes = int(temps_fusion[pos_hr+3:pos_min].strip()) \n",
    "now_seconds = int(temps_fusion[pos_min+4:pos_sec].strip()) \n",
    "total_seconds = now_hours * 3600 + now_minutes * 60 + now_seconds\n",
    "\n",
    "\n",
    "Fontes_coule_consommable = Fontes_coule - Fontes_coule_min\n",
    "Fontes_dispo = (Fontes_fusion_dispo + Fontes_coule_consommable)\n",
    "\n",
    "# En considérant que l'on consomme sans arret \n",
    "Temps_consommation = Fontes_dispo/consommation_fonte_min\n",
    "\n",
    "if Fontes_dispo <= Fontes_consomer :\n",
    "    # Lancer la fusion\n",
    "\n",
    "    # Quand lancer la Fusion ?\n",
    "    Fontes_produits = 5000 #5000*1 + 5000*1\n",
    "\n",
    "\n",
    "total_seconds\n",
    "Temps_consommation"
   ]
  },
  {
   "cell_type": "code",
   "execution_count": null,
   "metadata": {},
   "outputs": [],
   "source": []
  },
  {
   "cell_type": "code",
   "execution_count": null,
   "metadata": {},
   "outputs": [],
   "source": []
  }
 ],
 "metadata": {
  "kernelspec": {
   "display_name": "Python 3",
   "language": "python",
   "name": "python3"
  },
  "language_info": {
   "codemirror_mode": {
    "name": "ipython",
    "version": 3
   },
   "file_extension": ".py",
   "mimetype": "text/x-python",
   "name": "python",
   "nbconvert_exporter": "python",
   "pygments_lexer": "ipython3",
   "version": "3.12.2"
  }
 },
 "nbformat": 4,
 "nbformat_minor": 2
}
